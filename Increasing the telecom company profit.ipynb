{
 "cells": [
  {
   "cell_type": "markdown",
   "metadata": {},
   "source": [
    "# Increasing the telecom company profit"
   ]
  },
  {
   "cell_type": "markdown",
   "metadata": {},
   "source": [
    "**Project's task is to analyze customer behavior to find out which tariff is the most profitable, and also whether the location of customers affects their costs.**"
   ]
  },
  {
   "cell_type": "markdown",
   "metadata": {},
   "source": [
    "## Results of the EDA"
   ]
  },
  {
   "cell_type": "markdown",
   "metadata": {},
   "source": [
    "An exploratory analysis of the data showed that the distributions of call durations and used megabytes for Smart clients are close to normal, their median average monthly values ​​are approximately 450 minutes and 17,000 megabytes, respectively. The distribution with call duration also has a slight negative skewness. The distributions of call durations and used megabytes are different for Ultra clients - they have larger standard deviations, as well as larger ranges than the previous two distributions. The median monthly averages are also larger and are approximately 550 minutes and 19,000 megabytes, respectively. Both distributions of Ultra users are positively skewed. The distributions of messages for clients of the two tariffs are similar and close to Poisson, however, here we also observe that the values ​​of Smart clients have a smaller standard deviation and a smaller range of values. The median average monthly values ​​of the number of messages for Smart users (30) are significantly less than the same indicator for Ultra users (50). In addition, there are many more outliers in Smart user values."
   ]
  },
  {
   "cell_type": "markdown",
   "metadata": {},
   "source": [
    "## Results of the hypotesis testing"
   ]
  },
  {
   "cell_type": "markdown",
   "metadata": {},
   "source": [
    "Testing the first hypothesis gave the following results. The median average monthly revenues per user are 1204 and 1950, respectively, but the sample of Smart's customers is much higher (which most likely reflects the general population - more people will buy a tariff cheaper). As a rule, Smart users, unlike Ultra users, do not have enough packages of minutes, messages and the Internet, which forces them to overpay more than 2 times on average. In addition, a significant portion of Smart users pay the same amount on average as Ultra users, despite the difference in subscription fees. As for the second hypothesis: the average revenue from users from Moscow is equal to the average revenue from users from other regions. The average monthly income from users from other regions is larger, but this may be due to the fact that there are significantly more such users in the sample than users from Moscow."
   ]
  },
  {
   "cell_type": "markdown",
   "metadata": {},
   "source": [
    "## Business results"
   ]
  },
  {
   "cell_type": "markdown",
   "metadata": {},
   "source": [
    "The Smart tariff brings more money to the company than the Ultra tariff. Despite the fact that the subscription fee for Ultra is higher, the company receives more money from Smart customers every month, since\n",
    "- There are much more Smart customers - more people will buy a cheaper tariff,\n",
    "- Smart users, unlike Ultra users, do not have enough packages of minutes, messages and the Internet, which forces them to overpay more than 2 times on average."
   ]
  },
  {
   "cell_type": "markdown",
   "metadata": {},
   "source": [
    "## Data understanding"
   ]
  },
  {
   "cell_type": "code",
   "execution_count": 1,
   "metadata": {},
   "outputs": [],
   "source": [
    "import pandas as pd\n",
    "import numpy as np\n",
    "from matplotlib import pyplot as plt\n",
    "import seaborn as sns\n",
    "from scipy import stats as st\n",
    "from scipy.stats import norm\n",
    "import math as mt\n",
    "from functools import reduce"
   ]
  },
  {
   "cell_type": "code",
   "execution_count": 2,
   "metadata": {},
   "outputs": [],
   "source": [
    "users = pd.read_csv('/datasets/users.csv')\n",
    "calls = pd.read_csv('/datasets/calls.csv')\n",
    "messages = pd.read_csv('/datasets/messages.csv')\n",
    "internet = pd.read_csv('/datasets/internet.csv')\n",
    "tariffs = pd.read_csv('/datasets/tariffs.csv')"
   ]
  },
  {
   "cell_type": "code",
   "execution_count": 3,
   "metadata": {},
   "outputs": [],
   "source": [
    "users.name = 'users'\n",
    "calls.name = 'calls'\n",
    "messages.name = 'messages'\n",
    "internet.name = 'internet'\n",
    "tariffs.name = 'tariffs'"
   ]
  },
  {
   "cell_type": "code",
   "execution_count": 4,
   "metadata": {
    "scrolled": false
   },
   "outputs": [
    {
     "name": "stdout",
     "output_type": "stream",
     "text": [
      "users\n",
      "<class 'pandas.core.frame.DataFrame'>\n",
      "RangeIndex: 500 entries, 0 to 499\n",
      "Data columns (total 8 columns):\n",
      "user_id       500 non-null int64\n",
      "age           500 non-null int64\n",
      "churn_date    38 non-null object\n",
      "city          500 non-null object\n",
      "first_name    500 non-null object\n",
      "last_name     500 non-null object\n",
      "reg_date      500 non-null object\n",
      "tariff        500 non-null object\n",
      "dtypes: int64(2), object(6)\n",
      "memory usage: 31.4+ KB\n"
     ]
    },
    {
     "data": {
      "text/html": [
       "<div>\n",
       "<style scoped>\n",
       "    .dataframe tbody tr th:only-of-type {\n",
       "        vertical-align: middle;\n",
       "    }\n",
       "\n",
       "    .dataframe tbody tr th {\n",
       "        vertical-align: top;\n",
       "    }\n",
       "\n",
       "    .dataframe thead th {\n",
       "        text-align: right;\n",
       "    }\n",
       "</style>\n",
       "<table border=\"1\" class=\"dataframe\">\n",
       "  <thead>\n",
       "    <tr style=\"text-align: right;\">\n",
       "      <th></th>\n",
       "      <th>user_id</th>\n",
       "      <th>age</th>\n",
       "      <th>churn_date</th>\n",
       "      <th>city</th>\n",
       "      <th>first_name</th>\n",
       "      <th>last_name</th>\n",
       "      <th>reg_date</th>\n",
       "      <th>tariff</th>\n",
       "    </tr>\n",
       "  </thead>\n",
       "  <tbody>\n",
       "    <tr>\n",
       "      <td>0</td>\n",
       "      <td>1000</td>\n",
       "      <td>52</td>\n",
       "      <td>NaN</td>\n",
       "      <td>Краснодар</td>\n",
       "      <td>Рафаил</td>\n",
       "      <td>Верещагин</td>\n",
       "      <td>2018-05-25</td>\n",
       "      <td>ultra</td>\n",
       "    </tr>\n",
       "    <tr>\n",
       "      <td>1</td>\n",
       "      <td>1001</td>\n",
       "      <td>41</td>\n",
       "      <td>NaN</td>\n",
       "      <td>Москва</td>\n",
       "      <td>Иван</td>\n",
       "      <td>Ежов</td>\n",
       "      <td>2018-11-01</td>\n",
       "      <td>smart</td>\n",
       "    </tr>\n",
       "    <tr>\n",
       "      <td>2</td>\n",
       "      <td>1002</td>\n",
       "      <td>59</td>\n",
       "      <td>NaN</td>\n",
       "      <td>Стерлитамак</td>\n",
       "      <td>Евгений</td>\n",
       "      <td>Абрамович</td>\n",
       "      <td>2018-06-17</td>\n",
       "      <td>smart</td>\n",
       "    </tr>\n",
       "    <tr>\n",
       "      <td>3</td>\n",
       "      <td>1003</td>\n",
       "      <td>23</td>\n",
       "      <td>NaN</td>\n",
       "      <td>Москва</td>\n",
       "      <td>Белла</td>\n",
       "      <td>Белякова</td>\n",
       "      <td>2018-08-17</td>\n",
       "      <td>ultra</td>\n",
       "    </tr>\n",
       "    <tr>\n",
       "      <td>4</td>\n",
       "      <td>1004</td>\n",
       "      <td>68</td>\n",
       "      <td>NaN</td>\n",
       "      <td>Новокузнецк</td>\n",
       "      <td>Татьяна</td>\n",
       "      <td>Авдеенко</td>\n",
       "      <td>2018-05-14</td>\n",
       "      <td>ultra</td>\n",
       "    </tr>\n",
       "    <tr>\n",
       "      <td>5</td>\n",
       "      <td>1005</td>\n",
       "      <td>67</td>\n",
       "      <td>NaN</td>\n",
       "      <td>Набережные Челны</td>\n",
       "      <td>Афанасий</td>\n",
       "      <td>Горлов</td>\n",
       "      <td>2018-01-25</td>\n",
       "      <td>smart</td>\n",
       "    </tr>\n",
       "    <tr>\n",
       "      <td>6</td>\n",
       "      <td>1006</td>\n",
       "      <td>21</td>\n",
       "      <td>NaN</td>\n",
       "      <td>Ульяновск</td>\n",
       "      <td>Леонид</td>\n",
       "      <td>Ермолаев</td>\n",
       "      <td>2018-02-26</td>\n",
       "      <td>smart</td>\n",
       "    </tr>\n",
       "    <tr>\n",
       "      <td>7</td>\n",
       "      <td>1007</td>\n",
       "      <td>65</td>\n",
       "      <td>NaN</td>\n",
       "      <td>Москва</td>\n",
       "      <td>Юна</td>\n",
       "      <td>Березина</td>\n",
       "      <td>2018-04-19</td>\n",
       "      <td>smart</td>\n",
       "    </tr>\n",
       "    <tr>\n",
       "      <td>8</td>\n",
       "      <td>1008</td>\n",
       "      <td>63</td>\n",
       "      <td>NaN</td>\n",
       "      <td>Челябинск</td>\n",
       "      <td>Рустэм</td>\n",
       "      <td>Пономарёв</td>\n",
       "      <td>2018-12-19</td>\n",
       "      <td>smart</td>\n",
       "    </tr>\n",
       "    <tr>\n",
       "      <td>9</td>\n",
       "      <td>1009</td>\n",
       "      <td>24</td>\n",
       "      <td>NaN</td>\n",
       "      <td>Пермь</td>\n",
       "      <td>Василиса</td>\n",
       "      <td>Блинова</td>\n",
       "      <td>2018-03-22</td>\n",
       "      <td>smart</td>\n",
       "    </tr>\n",
       "  </tbody>\n",
       "</table>\n",
       "</div>"
      ],
      "text/plain": [
       "   user_id  age churn_date              city first_name  last_name  \\\n",
       "0     1000   52        NaN         Краснодар     Рафаил  Верещагин   \n",
       "1     1001   41        NaN            Москва       Иван       Ежов   \n",
       "2     1002   59        NaN       Стерлитамак    Евгений  Абрамович   \n",
       "3     1003   23        NaN            Москва      Белла   Белякова   \n",
       "4     1004   68        NaN       Новокузнецк    Татьяна   Авдеенко   \n",
       "5     1005   67        NaN  Набережные Челны   Афанасий     Горлов   \n",
       "6     1006   21        NaN         Ульяновск     Леонид   Ермолаев   \n",
       "7     1007   65        NaN            Москва        Юна   Березина   \n",
       "8     1008   63        NaN         Челябинск     Рустэм  Пономарёв   \n",
       "9     1009   24        NaN             Пермь   Василиса    Блинова   \n",
       "\n",
       "     reg_date tariff  \n",
       "0  2018-05-25  ultra  \n",
       "1  2018-11-01  smart  \n",
       "2  2018-06-17  smart  \n",
       "3  2018-08-17  ultra  \n",
       "4  2018-05-14  ultra  \n",
       "5  2018-01-25  smart  \n",
       "6  2018-02-26  smart  \n",
       "7  2018-04-19  smart  \n",
       "8  2018-12-19  smart  \n",
       "9  2018-03-22  smart  "
      ]
     },
     "metadata": {},
     "output_type": "display_data"
    },
    {
     "name": "stdout",
     "output_type": "stream",
     "text": [
      "\n",
      "calls\n",
      "<class 'pandas.core.frame.DataFrame'>\n",
      "RangeIndex: 202607 entries, 0 to 202606\n",
      "Data columns (total 4 columns):\n",
      "id           202607 non-null object\n",
      "call_date    202607 non-null object\n",
      "duration     202607 non-null float64\n",
      "user_id      202607 non-null int64\n",
      "dtypes: float64(1), int64(1), object(2)\n",
      "memory usage: 6.2+ MB\n"
     ]
    },
    {
     "data": {
      "text/html": [
       "<div>\n",
       "<style scoped>\n",
       "    .dataframe tbody tr th:only-of-type {\n",
       "        vertical-align: middle;\n",
       "    }\n",
       "\n",
       "    .dataframe tbody tr th {\n",
       "        vertical-align: top;\n",
       "    }\n",
       "\n",
       "    .dataframe thead th {\n",
       "        text-align: right;\n",
       "    }\n",
       "</style>\n",
       "<table border=\"1\" class=\"dataframe\">\n",
       "  <thead>\n",
       "    <tr style=\"text-align: right;\">\n",
       "      <th></th>\n",
       "      <th>id</th>\n",
       "      <th>call_date</th>\n",
       "      <th>duration</th>\n",
       "      <th>user_id</th>\n",
       "    </tr>\n",
       "  </thead>\n",
       "  <tbody>\n",
       "    <tr>\n",
       "      <td>0</td>\n",
       "      <td>1000_0</td>\n",
       "      <td>2018-07-25</td>\n",
       "      <td>0.00</td>\n",
       "      <td>1000</td>\n",
       "    </tr>\n",
       "    <tr>\n",
       "      <td>1</td>\n",
       "      <td>1000_1</td>\n",
       "      <td>2018-08-17</td>\n",
       "      <td>0.00</td>\n",
       "      <td>1000</td>\n",
       "    </tr>\n",
       "    <tr>\n",
       "      <td>2</td>\n",
       "      <td>1000_2</td>\n",
       "      <td>2018-06-11</td>\n",
       "      <td>2.85</td>\n",
       "      <td>1000</td>\n",
       "    </tr>\n",
       "    <tr>\n",
       "      <td>3</td>\n",
       "      <td>1000_3</td>\n",
       "      <td>2018-09-21</td>\n",
       "      <td>13.80</td>\n",
       "      <td>1000</td>\n",
       "    </tr>\n",
       "    <tr>\n",
       "      <td>4</td>\n",
       "      <td>1000_4</td>\n",
       "      <td>2018-12-15</td>\n",
       "      <td>5.18</td>\n",
       "      <td>1000</td>\n",
       "    </tr>\n",
       "    <tr>\n",
       "      <td>5</td>\n",
       "      <td>1000_5</td>\n",
       "      <td>2018-11-02</td>\n",
       "      <td>0.00</td>\n",
       "      <td>1000</td>\n",
       "    </tr>\n",
       "    <tr>\n",
       "      <td>6</td>\n",
       "      <td>1000_6</td>\n",
       "      <td>2018-10-18</td>\n",
       "      <td>0.00</td>\n",
       "      <td>1000</td>\n",
       "    </tr>\n",
       "    <tr>\n",
       "      <td>7</td>\n",
       "      <td>1000_7</td>\n",
       "      <td>2018-08-22</td>\n",
       "      <td>18.31</td>\n",
       "      <td>1000</td>\n",
       "    </tr>\n",
       "    <tr>\n",
       "      <td>8</td>\n",
       "      <td>1000_8</td>\n",
       "      <td>2018-09-15</td>\n",
       "      <td>18.44</td>\n",
       "      <td>1000</td>\n",
       "    </tr>\n",
       "    <tr>\n",
       "      <td>9</td>\n",
       "      <td>1000_9</td>\n",
       "      <td>2018-08-15</td>\n",
       "      <td>0.00</td>\n",
       "      <td>1000</td>\n",
       "    </tr>\n",
       "  </tbody>\n",
       "</table>\n",
       "</div>"
      ],
      "text/plain": [
       "       id   call_date  duration  user_id\n",
       "0  1000_0  2018-07-25      0.00     1000\n",
       "1  1000_1  2018-08-17      0.00     1000\n",
       "2  1000_2  2018-06-11      2.85     1000\n",
       "3  1000_3  2018-09-21     13.80     1000\n",
       "4  1000_4  2018-12-15      5.18     1000\n",
       "5  1000_5  2018-11-02      0.00     1000\n",
       "6  1000_6  2018-10-18      0.00     1000\n",
       "7  1000_7  2018-08-22     18.31     1000\n",
       "8  1000_8  2018-09-15     18.44     1000\n",
       "9  1000_9  2018-08-15      0.00     1000"
      ]
     },
     "metadata": {},
     "output_type": "display_data"
    },
    {
     "name": "stdout",
     "output_type": "stream",
     "text": [
      "\n",
      "messages\n",
      "<class 'pandas.core.frame.DataFrame'>\n",
      "RangeIndex: 123036 entries, 0 to 123035\n",
      "Data columns (total 3 columns):\n",
      "id              123036 non-null object\n",
      "message_date    123036 non-null object\n",
      "user_id         123036 non-null int64\n",
      "dtypes: int64(1), object(2)\n",
      "memory usage: 2.8+ MB\n"
     ]
    },
    {
     "data": {
      "text/html": [
       "<div>\n",
       "<style scoped>\n",
       "    .dataframe tbody tr th:only-of-type {\n",
       "        vertical-align: middle;\n",
       "    }\n",
       "\n",
       "    .dataframe tbody tr th {\n",
       "        vertical-align: top;\n",
       "    }\n",
       "\n",
       "    .dataframe thead th {\n",
       "        text-align: right;\n",
       "    }\n",
       "</style>\n",
       "<table border=\"1\" class=\"dataframe\">\n",
       "  <thead>\n",
       "    <tr style=\"text-align: right;\">\n",
       "      <th></th>\n",
       "      <th>id</th>\n",
       "      <th>message_date</th>\n",
       "      <th>user_id</th>\n",
       "    </tr>\n",
       "  </thead>\n",
       "  <tbody>\n",
       "    <tr>\n",
       "      <td>0</td>\n",
       "      <td>1000_0</td>\n",
       "      <td>2018-06-27</td>\n",
       "      <td>1000</td>\n",
       "    </tr>\n",
       "    <tr>\n",
       "      <td>1</td>\n",
       "      <td>1000_1</td>\n",
       "      <td>2018-10-08</td>\n",
       "      <td>1000</td>\n",
       "    </tr>\n",
       "    <tr>\n",
       "      <td>2</td>\n",
       "      <td>1000_2</td>\n",
       "      <td>2018-08-04</td>\n",
       "      <td>1000</td>\n",
       "    </tr>\n",
       "    <tr>\n",
       "      <td>3</td>\n",
       "      <td>1000_3</td>\n",
       "      <td>2018-06-16</td>\n",
       "      <td>1000</td>\n",
       "    </tr>\n",
       "    <tr>\n",
       "      <td>4</td>\n",
       "      <td>1000_4</td>\n",
       "      <td>2018-12-05</td>\n",
       "      <td>1000</td>\n",
       "    </tr>\n",
       "    <tr>\n",
       "      <td>5</td>\n",
       "      <td>1000_5</td>\n",
       "      <td>2018-06-20</td>\n",
       "      <td>1000</td>\n",
       "    </tr>\n",
       "    <tr>\n",
       "      <td>6</td>\n",
       "      <td>1000_6</td>\n",
       "      <td>2018-11-19</td>\n",
       "      <td>1000</td>\n",
       "    </tr>\n",
       "    <tr>\n",
       "      <td>7</td>\n",
       "      <td>1000_7</td>\n",
       "      <td>2018-10-29</td>\n",
       "      <td>1000</td>\n",
       "    </tr>\n",
       "    <tr>\n",
       "      <td>8</td>\n",
       "      <td>1000_8</td>\n",
       "      <td>2018-06-25</td>\n",
       "      <td>1000</td>\n",
       "    </tr>\n",
       "    <tr>\n",
       "      <td>9</td>\n",
       "      <td>1000_9</td>\n",
       "      <td>2018-12-18</td>\n",
       "      <td>1000</td>\n",
       "    </tr>\n",
       "  </tbody>\n",
       "</table>\n",
       "</div>"
      ],
      "text/plain": [
       "       id message_date  user_id\n",
       "0  1000_0   2018-06-27     1000\n",
       "1  1000_1   2018-10-08     1000\n",
       "2  1000_2   2018-08-04     1000\n",
       "3  1000_3   2018-06-16     1000\n",
       "4  1000_4   2018-12-05     1000\n",
       "5  1000_5   2018-06-20     1000\n",
       "6  1000_6   2018-11-19     1000\n",
       "7  1000_7   2018-10-29     1000\n",
       "8  1000_8   2018-06-25     1000\n",
       "9  1000_9   2018-12-18     1000"
      ]
     },
     "metadata": {},
     "output_type": "display_data"
    },
    {
     "name": "stdout",
     "output_type": "stream",
     "text": [
      "\n",
      "internet\n",
      "<class 'pandas.core.frame.DataFrame'>\n",
      "RangeIndex: 149396 entries, 0 to 149395\n",
      "Data columns (total 5 columns):\n",
      "Unnamed: 0      149396 non-null int64\n",
      "id              149396 non-null object\n",
      "mb_used         149396 non-null float64\n",
      "session_date    149396 non-null object\n",
      "user_id         149396 non-null int64\n",
      "dtypes: float64(1), int64(2), object(2)\n",
      "memory usage: 5.7+ MB\n"
     ]
    },
    {
     "data": {
      "text/html": [
       "<div>\n",
       "<style scoped>\n",
       "    .dataframe tbody tr th:only-of-type {\n",
       "        vertical-align: middle;\n",
       "    }\n",
       "\n",
       "    .dataframe tbody tr th {\n",
       "        vertical-align: top;\n",
       "    }\n",
       "\n",
       "    .dataframe thead th {\n",
       "        text-align: right;\n",
       "    }\n",
       "</style>\n",
       "<table border=\"1\" class=\"dataframe\">\n",
       "  <thead>\n",
       "    <tr style=\"text-align: right;\">\n",
       "      <th></th>\n",
       "      <th>Unnamed: 0</th>\n",
       "      <th>id</th>\n",
       "      <th>mb_used</th>\n",
       "      <th>session_date</th>\n",
       "      <th>user_id</th>\n",
       "    </tr>\n",
       "  </thead>\n",
       "  <tbody>\n",
       "    <tr>\n",
       "      <td>0</td>\n",
       "      <td>0</td>\n",
       "      <td>1000_0</td>\n",
       "      <td>112.95</td>\n",
       "      <td>2018-11-25</td>\n",
       "      <td>1000</td>\n",
       "    </tr>\n",
       "    <tr>\n",
       "      <td>1</td>\n",
       "      <td>1</td>\n",
       "      <td>1000_1</td>\n",
       "      <td>1052.81</td>\n",
       "      <td>2018-09-07</td>\n",
       "      <td>1000</td>\n",
       "    </tr>\n",
       "    <tr>\n",
       "      <td>2</td>\n",
       "      <td>2</td>\n",
       "      <td>1000_2</td>\n",
       "      <td>1197.26</td>\n",
       "      <td>2018-06-25</td>\n",
       "      <td>1000</td>\n",
       "    </tr>\n",
       "    <tr>\n",
       "      <td>3</td>\n",
       "      <td>3</td>\n",
       "      <td>1000_3</td>\n",
       "      <td>550.27</td>\n",
       "      <td>2018-08-22</td>\n",
       "      <td>1000</td>\n",
       "    </tr>\n",
       "    <tr>\n",
       "      <td>4</td>\n",
       "      <td>4</td>\n",
       "      <td>1000_4</td>\n",
       "      <td>302.56</td>\n",
       "      <td>2018-09-24</td>\n",
       "      <td>1000</td>\n",
       "    </tr>\n",
       "    <tr>\n",
       "      <td>5</td>\n",
       "      <td>5</td>\n",
       "      <td>1000_5</td>\n",
       "      <td>399.97</td>\n",
       "      <td>2018-10-02</td>\n",
       "      <td>1000</td>\n",
       "    </tr>\n",
       "    <tr>\n",
       "      <td>6</td>\n",
       "      <td>6</td>\n",
       "      <td>1000_6</td>\n",
       "      <td>540.08</td>\n",
       "      <td>2018-09-07</td>\n",
       "      <td>1000</td>\n",
       "    </tr>\n",
       "    <tr>\n",
       "      <td>7</td>\n",
       "      <td>7</td>\n",
       "      <td>1000_7</td>\n",
       "      <td>415.70</td>\n",
       "      <td>2018-07-11</td>\n",
       "      <td>1000</td>\n",
       "    </tr>\n",
       "    <tr>\n",
       "      <td>8</td>\n",
       "      <td>8</td>\n",
       "      <td>1000_8</td>\n",
       "      <td>505.40</td>\n",
       "      <td>2018-10-08</td>\n",
       "      <td>1000</td>\n",
       "    </tr>\n",
       "    <tr>\n",
       "      <td>9</td>\n",
       "      <td>9</td>\n",
       "      <td>1000_9</td>\n",
       "      <td>345.54</td>\n",
       "      <td>2018-09-03</td>\n",
       "      <td>1000</td>\n",
       "    </tr>\n",
       "  </tbody>\n",
       "</table>\n",
       "</div>"
      ],
      "text/plain": [
       "   Unnamed: 0      id  mb_used session_date  user_id\n",
       "0           0  1000_0   112.95   2018-11-25     1000\n",
       "1           1  1000_1  1052.81   2018-09-07     1000\n",
       "2           2  1000_2  1197.26   2018-06-25     1000\n",
       "3           3  1000_3   550.27   2018-08-22     1000\n",
       "4           4  1000_4   302.56   2018-09-24     1000\n",
       "5           5  1000_5   399.97   2018-10-02     1000\n",
       "6           6  1000_6   540.08   2018-09-07     1000\n",
       "7           7  1000_7   415.70   2018-07-11     1000\n",
       "8           8  1000_8   505.40   2018-10-08     1000\n",
       "9           9  1000_9   345.54   2018-09-03     1000"
      ]
     },
     "metadata": {},
     "output_type": "display_data"
    },
    {
     "name": "stdout",
     "output_type": "stream",
     "text": [
      "\n",
      "tariffs\n",
      "<class 'pandas.core.frame.DataFrame'>\n",
      "RangeIndex: 2 entries, 0 to 1\n",
      "Data columns (total 8 columns):\n",
      "messages_included        2 non-null int64\n",
      "mb_per_month_included    2 non-null int64\n",
      "minutes_included         2 non-null int64\n",
      "rub_monthly_fee          2 non-null int64\n",
      "rub_per_gb               2 non-null int64\n",
      "rub_per_message          2 non-null int64\n",
      "rub_per_minute           2 non-null int64\n",
      "tariff_name              2 non-null object\n",
      "dtypes: int64(7), object(1)\n",
      "memory usage: 256.0+ bytes\n"
     ]
    },
    {
     "data": {
      "text/html": [
       "<div>\n",
       "<style scoped>\n",
       "    .dataframe tbody tr th:only-of-type {\n",
       "        vertical-align: middle;\n",
       "    }\n",
       "\n",
       "    .dataframe tbody tr th {\n",
       "        vertical-align: top;\n",
       "    }\n",
       "\n",
       "    .dataframe thead th {\n",
       "        text-align: right;\n",
       "    }\n",
       "</style>\n",
       "<table border=\"1\" class=\"dataframe\">\n",
       "  <thead>\n",
       "    <tr style=\"text-align: right;\">\n",
       "      <th></th>\n",
       "      <th>messages_included</th>\n",
       "      <th>mb_per_month_included</th>\n",
       "      <th>minutes_included</th>\n",
       "      <th>rub_monthly_fee</th>\n",
       "      <th>rub_per_gb</th>\n",
       "      <th>rub_per_message</th>\n",
       "      <th>rub_per_minute</th>\n",
       "      <th>tariff_name</th>\n",
       "    </tr>\n",
       "  </thead>\n",
       "  <tbody>\n",
       "    <tr>\n",
       "      <td>0</td>\n",
       "      <td>50</td>\n",
       "      <td>15360</td>\n",
       "      <td>500</td>\n",
       "      <td>550</td>\n",
       "      <td>200</td>\n",
       "      <td>3</td>\n",
       "      <td>3</td>\n",
       "      <td>smart</td>\n",
       "    </tr>\n",
       "    <tr>\n",
       "      <td>1</td>\n",
       "      <td>1000</td>\n",
       "      <td>30720</td>\n",
       "      <td>3000</td>\n",
       "      <td>1950</td>\n",
       "      <td>150</td>\n",
       "      <td>1</td>\n",
       "      <td>1</td>\n",
       "      <td>ultra</td>\n",
       "    </tr>\n",
       "  </tbody>\n",
       "</table>\n",
       "</div>"
      ],
      "text/plain": [
       "   messages_included  mb_per_month_included  minutes_included  \\\n",
       "0                 50                  15360               500   \n",
       "1               1000                  30720              3000   \n",
       "\n",
       "   rub_monthly_fee  rub_per_gb  rub_per_message  rub_per_minute tariff_name  \n",
       "0              550         200                3               3       smart  \n",
       "1             1950         150                1               1       ultra  "
      ]
     },
     "metadata": {},
     "output_type": "display_data"
    },
    {
     "name": "stdout",
     "output_type": "stream",
     "text": [
      "\n"
     ]
    }
   ],
   "source": [
    "for df in [users, calls, messages, internet, tariffs]:\n",
    "    print(df.name)\n",
    "    df.info()\n",
    "    display(df.head(10))\n",
    "    print()"
   ]
  },
  {
   "cell_type": "code",
   "execution_count": 5,
   "metadata": {},
   "outputs": [],
   "source": [
    "internet.drop('Unnamed: 0', axis=1, inplace=True)"
   ]
  },
  {
   "cell_type": "markdown",
   "metadata": {},
   "source": [
    "## Preprocessing"
   ]
  },
  {
   "cell_type": "code",
   "execution_count": 6,
   "metadata": {},
   "outputs": [],
   "source": [
    "users['churn_date'] = users['churn_date'].fillna('2018-12-31')"
   ]
  },
  {
   "cell_type": "code",
   "execution_count": 7,
   "metadata": {},
   "outputs": [],
   "source": [
    "def datetime_convert(df, column):\n",
    "    '''Меняет формат на datetime'''\n",
    "    df[column] = pd.to_datetime(df[column], format='%Y-%m-%d')"
   ]
  },
  {
   "cell_type": "code",
   "execution_count": 8,
   "metadata": {},
   "outputs": [],
   "source": [
    "datetime_convert(messages, 'message_date')\n",
    "datetime_convert(calls, 'call_date')\n",
    "datetime_convert(internet, 'session_date')\n",
    "\n",
    "for column in ['churn_date', 'reg_date']:\n",
    "    datetime_convert(users, column)"
   ]
  },
  {
   "cell_type": "code",
   "execution_count": 9,
   "metadata": {},
   "outputs": [],
   "source": [
    "for df in [users, calls, messages, internet]:\n",
    "    df['user_id'] = df['user_id'].astype('object')"
   ]
  },
  {
   "cell_type": "code",
   "execution_count": 10,
   "metadata": {},
   "outputs": [],
   "source": [
    "def tariff_func(value):\n",
    "    '''Переписывает имена тарифов'''\n",
    "    if value == 'smart':\n",
    "        return 0\n",
    "    return 1"
   ]
  },
  {
   "cell_type": "code",
   "execution_count": 11,
   "metadata": {},
   "outputs": [],
   "source": [
    "tariffs['tariff_name'] = tariffs['tariff_name'].apply(tariff_func)\n",
    "users['tariff'] = users['tariff'].apply(tariff_func)"
   ]
  },
  {
   "cell_type": "code",
   "execution_count": 12,
   "metadata": {
    "scrolled": false
   },
   "outputs": [
    {
     "name": "stdout",
     "output_type": "stream",
     "text": [
      "calls\n"
     ]
    },
    {
     "data": {
      "text/html": [
       "<div>\n",
       "<style scoped>\n",
       "    .dataframe tbody tr th:only-of-type {\n",
       "        vertical-align: middle;\n",
       "    }\n",
       "\n",
       "    .dataframe tbody tr th {\n",
       "        vertical-align: top;\n",
       "    }\n",
       "\n",
       "    .dataframe thead th {\n",
       "        text-align: right;\n",
       "    }\n",
       "</style>\n",
       "<table border=\"1\" class=\"dataframe\">\n",
       "  <thead>\n",
       "    <tr style=\"text-align: right;\">\n",
       "      <th></th>\n",
       "      <th>duration</th>\n",
       "    </tr>\n",
       "  </thead>\n",
       "  <tbody>\n",
       "    <tr>\n",
       "      <td>count</td>\n",
       "      <td>202607.000000</td>\n",
       "    </tr>\n",
       "    <tr>\n",
       "      <td>mean</td>\n",
       "      <td>6.755887</td>\n",
       "    </tr>\n",
       "    <tr>\n",
       "      <td>std</td>\n",
       "      <td>5.843365</td>\n",
       "    </tr>\n",
       "    <tr>\n",
       "      <td>min</td>\n",
       "      <td>0.000000</td>\n",
       "    </tr>\n",
       "    <tr>\n",
       "      <td>25%</td>\n",
       "      <td>1.300000</td>\n",
       "    </tr>\n",
       "    <tr>\n",
       "      <td>50%</td>\n",
       "      <td>6.000000</td>\n",
       "    </tr>\n",
       "    <tr>\n",
       "      <td>75%</td>\n",
       "      <td>10.700000</td>\n",
       "    </tr>\n",
       "    <tr>\n",
       "      <td>max</td>\n",
       "      <td>38.000000</td>\n",
       "    </tr>\n",
       "  </tbody>\n",
       "</table>\n",
       "</div>"
      ],
      "text/plain": [
       "            duration\n",
       "count  202607.000000\n",
       "mean        6.755887\n",
       "std         5.843365\n",
       "min         0.000000\n",
       "25%         1.300000\n",
       "50%         6.000000\n",
       "75%        10.700000\n",
       "max        38.000000"
      ]
     },
     "metadata": {},
     "output_type": "display_data"
    },
    {
     "name": "stdout",
     "output_type": "stream",
     "text": [
      "\n",
      "internet\n"
     ]
    },
    {
     "data": {
      "text/html": [
       "<div>\n",
       "<style scoped>\n",
       "    .dataframe tbody tr th:only-of-type {\n",
       "        vertical-align: middle;\n",
       "    }\n",
       "\n",
       "    .dataframe tbody tr th {\n",
       "        vertical-align: top;\n",
       "    }\n",
       "\n",
       "    .dataframe thead th {\n",
       "        text-align: right;\n",
       "    }\n",
       "</style>\n",
       "<table border=\"1\" class=\"dataframe\">\n",
       "  <thead>\n",
       "    <tr style=\"text-align: right;\">\n",
       "      <th></th>\n",
       "      <th>mb_used</th>\n",
       "    </tr>\n",
       "  </thead>\n",
       "  <tbody>\n",
       "    <tr>\n",
       "      <td>count</td>\n",
       "      <td>149396.000000</td>\n",
       "    </tr>\n",
       "    <tr>\n",
       "      <td>mean</td>\n",
       "      <td>370.192426</td>\n",
       "    </tr>\n",
       "    <tr>\n",
       "      <td>std</td>\n",
       "      <td>278.300951</td>\n",
       "    </tr>\n",
       "    <tr>\n",
       "      <td>min</td>\n",
       "      <td>0.000000</td>\n",
       "    </tr>\n",
       "    <tr>\n",
       "      <td>25%</td>\n",
       "      <td>138.187500</td>\n",
       "    </tr>\n",
       "    <tr>\n",
       "      <td>50%</td>\n",
       "      <td>348.015000</td>\n",
       "    </tr>\n",
       "    <tr>\n",
       "      <td>75%</td>\n",
       "      <td>559.552500</td>\n",
       "    </tr>\n",
       "    <tr>\n",
       "      <td>max</td>\n",
       "      <td>1724.830000</td>\n",
       "    </tr>\n",
       "  </tbody>\n",
       "</table>\n",
       "</div>"
      ],
      "text/plain": [
       "             mb_used\n",
       "count  149396.000000\n",
       "mean      370.192426\n",
       "std       278.300951\n",
       "min         0.000000\n",
       "25%       138.187500\n",
       "50%       348.015000\n",
       "75%       559.552500\n",
       "max      1724.830000"
      ]
     },
     "metadata": {},
     "output_type": "display_data"
    },
    {
     "name": "stdout",
     "output_type": "stream",
     "text": [
      "\n"
     ]
    }
   ],
   "source": [
    "for df in [calls, internet]:\n",
    "    print(df.name)\n",
    "    display(df.describe()) \n",
    "    print()"
   ]
  },
  {
   "cell_type": "code",
   "execution_count": 13,
   "metadata": {},
   "outputs": [],
   "source": [
    "def ceil_func(value):\n",
    "    '''Округляет значение вверх'''\n",
    "    return mt.ceil(value)"
   ]
  },
  {
   "cell_type": "code",
   "execution_count": 14,
   "metadata": {},
   "outputs": [],
   "source": [
    "calls['duration'] = calls['duration'].apply(ceil_func)"
   ]
  },
  {
   "cell_type": "code",
   "execution_count": 15,
   "metadata": {},
   "outputs": [
    {
     "data": {
      "text/plain": [
       "[0, 0, 0, 0]"
      ]
     },
     "execution_count": 15,
     "metadata": {},
     "output_type": "execute_result"
    }
   ],
   "source": [
    "[df.duplicated().sum() for df in (calls, messages, internet, users)]"
   ]
  },
  {
   "cell_type": "code",
   "execution_count": 16,
   "metadata": {},
   "outputs": [],
   "source": [
    "def month_func(df, column):\n",
    "    '''Выносит месяц даты в отдельный столбец'''\n",
    "    df['month'] = df[column].dt.month"
   ]
  },
  {
   "cell_type": "code",
   "execution_count": 17,
   "metadata": {},
   "outputs": [],
   "source": [
    "month_func(messages, 'message_date')\n",
    "month_func(calls, 'call_date')\n",
    "month_func(internet, 'session_date')"
   ]
  },
  {
   "cell_type": "markdown",
   "metadata": {},
   "source": [
    "## EDA"
   ]
  },
  {
   "cell_type": "markdown",
   "metadata": {},
   "source": [
    "1. Calculation of the number and total duration of calls by month for each user."
   ]
  },
  {
   "cell_type": "code",
   "execution_count": 18,
   "metadata": {
    "scrolled": false
   },
   "outputs": [
    {
     "data": {
      "text/html": [
       "<div>\n",
       "<style scoped>\n",
       "    .dataframe tbody tr th:only-of-type {\n",
       "        vertical-align: middle;\n",
       "    }\n",
       "\n",
       "    .dataframe tbody tr th {\n",
       "        vertical-align: top;\n",
       "    }\n",
       "\n",
       "    .dataframe thead th {\n",
       "        text-align: right;\n",
       "    }\n",
       "</style>\n",
       "<table border=\"1\" class=\"dataframe\">\n",
       "  <thead>\n",
       "    <tr style=\"text-align: right;\">\n",
       "      <th>month</th>\n",
       "      <th>1</th>\n",
       "      <th>2</th>\n",
       "      <th>3</th>\n",
       "      <th>4</th>\n",
       "      <th>5</th>\n",
       "      <th>6</th>\n",
       "      <th>7</th>\n",
       "      <th>8</th>\n",
       "      <th>9</th>\n",
       "      <th>10</th>\n",
       "      <th>11</th>\n",
       "      <th>12</th>\n",
       "    </tr>\n",
       "    <tr>\n",
       "      <th>user_id</th>\n",
       "      <th></th>\n",
       "      <th></th>\n",
       "      <th></th>\n",
       "      <th></th>\n",
       "      <th></th>\n",
       "      <th></th>\n",
       "      <th></th>\n",
       "      <th></th>\n",
       "      <th></th>\n",
       "      <th></th>\n",
       "      <th></th>\n",
       "      <th></th>\n",
       "    </tr>\n",
       "  </thead>\n",
       "  <tbody>\n",
       "    <tr>\n",
       "      <td>1000</td>\n",
       "      <td></td>\n",
       "      <td></td>\n",
       "      <td></td>\n",
       "      <td></td>\n",
       "      <td>22</td>\n",
       "      <td>43</td>\n",
       "      <td>47</td>\n",
       "      <td>52</td>\n",
       "      <td>58</td>\n",
       "      <td>57</td>\n",
       "      <td>43</td>\n",
       "      <td>46</td>\n",
       "    </tr>\n",
       "    <tr>\n",
       "      <td>1001</td>\n",
       "      <td></td>\n",
       "      <td></td>\n",
       "      <td></td>\n",
       "      <td></td>\n",
       "      <td></td>\n",
       "      <td></td>\n",
       "      <td></td>\n",
       "      <td></td>\n",
       "      <td></td>\n",
       "      <td></td>\n",
       "      <td>59</td>\n",
       "      <td>63</td>\n",
       "    </tr>\n",
       "    <tr>\n",
       "      <td>1002</td>\n",
       "      <td></td>\n",
       "      <td></td>\n",
       "      <td></td>\n",
       "      <td></td>\n",
       "      <td></td>\n",
       "      <td>15</td>\n",
       "      <td>26</td>\n",
       "      <td>42</td>\n",
       "      <td>36</td>\n",
       "      <td>33</td>\n",
       "      <td>32</td>\n",
       "      <td>33</td>\n",
       "    </tr>\n",
       "    <tr>\n",
       "      <td>1003</td>\n",
       "      <td></td>\n",
       "      <td></td>\n",
       "      <td></td>\n",
       "      <td></td>\n",
       "      <td></td>\n",
       "      <td></td>\n",
       "      <td></td>\n",
       "      <td>55</td>\n",
       "      <td>134</td>\n",
       "      <td>108</td>\n",
       "      <td>115</td>\n",
       "      <td>108</td>\n",
       "    </tr>\n",
       "    <tr>\n",
       "      <td>1004</td>\n",
       "      <td></td>\n",
       "      <td></td>\n",
       "      <td></td>\n",
       "      <td></td>\n",
       "      <td>9</td>\n",
       "      <td>31</td>\n",
       "      <td>22</td>\n",
       "      <td>19</td>\n",
       "      <td>26</td>\n",
       "      <td>29</td>\n",
       "      <td>19</td>\n",
       "      <td>21</td>\n",
       "    </tr>\n",
       "    <tr>\n",
       "      <td>...</td>\n",
       "      <td>...</td>\n",
       "      <td>...</td>\n",
       "      <td>...</td>\n",
       "      <td>...</td>\n",
       "      <td>...</td>\n",
       "      <td>...</td>\n",
       "      <td>...</td>\n",
       "      <td>...</td>\n",
       "      <td>...</td>\n",
       "      <td>...</td>\n",
       "      <td>...</td>\n",
       "      <td>...</td>\n",
       "    </tr>\n",
       "    <tr>\n",
       "      <td>1495</td>\n",
       "      <td></td>\n",
       "      <td></td>\n",
       "      <td></td>\n",
       "      <td></td>\n",
       "      <td></td>\n",
       "      <td></td>\n",
       "      <td></td>\n",
       "      <td>17</td>\n",
       "      <td>112</td>\n",
       "      <td>152</td>\n",
       "      <td>129</td>\n",
       "      <td>155</td>\n",
       "    </tr>\n",
       "    <tr>\n",
       "      <td>1496</td>\n",
       "      <td>7</td>\n",
       "      <td>77</td>\n",
       "      <td>79</td>\n",
       "      <td>67</td>\n",
       "      <td>63</td>\n",
       "      <td>74</td>\n",
       "      <td>73</td>\n",
       "      <td>88</td>\n",
       "      <td>68</td>\n",
       "      <td>72</td>\n",
       "      <td>80</td>\n",
       "      <td>80</td>\n",
       "    </tr>\n",
       "    <tr>\n",
       "      <td>1497</td>\n",
       "      <td></td>\n",
       "      <td></td>\n",
       "      <td></td>\n",
       "      <td></td>\n",
       "      <td></td>\n",
       "      <td></td>\n",
       "      <td></td>\n",
       "      <td></td>\n",
       "      <td></td>\n",
       "      <td>66</td>\n",
       "      <td>64</td>\n",
       "      <td>71</td>\n",
       "    </tr>\n",
       "    <tr>\n",
       "      <td>1498</td>\n",
       "      <td></td>\n",
       "      <td></td>\n",
       "      <td></td>\n",
       "      <td></td>\n",
       "      <td></td>\n",
       "      <td></td>\n",
       "      <td>23</td>\n",
       "      <td>57</td>\n",
       "      <td>59</td>\n",
       "      <td>41</td>\n",
       "      <td></td>\n",
       "      <td></td>\n",
       "    </tr>\n",
       "    <tr>\n",
       "      <td>1499</td>\n",
       "      <td></td>\n",
       "      <td></td>\n",
       "      <td></td>\n",
       "      <td></td>\n",
       "      <td></td>\n",
       "      <td></td>\n",
       "      <td></td>\n",
       "      <td></td>\n",
       "      <td>9</td>\n",
       "      <td>68</td>\n",
       "      <td>74</td>\n",
       "      <td>69</td>\n",
       "    </tr>\n",
       "  </tbody>\n",
       "</table>\n",
       "<p>492 rows × 12 columns</p>\n",
       "</div>"
      ],
      "text/plain": [
       "month   1   2   3   4   5   6   7   8    9    10   11   12\n",
       "user_id                                                   \n",
       "1000                    22  43  47  52   58   57   43   46\n",
       "1001                                               59   63\n",
       "1002                        15  26  42   36   33   32   33\n",
       "1003                                55  134  108  115  108\n",
       "1004                     9  31  22  19   26   29   19   21\n",
       "...     ..  ..  ..  ..  ..  ..  ..  ..  ...  ...  ...  ...\n",
       "1495                                17  112  152  129  155\n",
       "1496     7  77  79  67  63  74  73  88   68   72   80   80\n",
       "1497                                          66   64   71\n",
       "1498                            23  57   59   41          \n",
       "1499                                      9   68   74   69\n",
       "\n",
       "[492 rows x 12 columns]"
      ]
     },
     "execution_count": 18,
     "metadata": {},
     "output_type": "execute_result"
    }
   ],
   "source": [
    "calls.pivot_table(index='user_id', columns='month', values='duration', aggfunc='count').fillna('')"
   ]
  },
  {
   "cell_type": "code",
   "execution_count": 19,
   "metadata": {
    "scrolled": false
   },
   "outputs": [
    {
     "data": {
      "text/html": [
       "<div>\n",
       "<style scoped>\n",
       "    .dataframe tbody tr th:only-of-type {\n",
       "        vertical-align: middle;\n",
       "    }\n",
       "\n",
       "    .dataframe tbody tr th {\n",
       "        vertical-align: top;\n",
       "    }\n",
       "\n",
       "    .dataframe thead th {\n",
       "        text-align: right;\n",
       "    }\n",
       "</style>\n",
       "<table border=\"1\" class=\"dataframe\">\n",
       "  <thead>\n",
       "    <tr style=\"text-align: right;\">\n",
       "      <th>month</th>\n",
       "      <th>1</th>\n",
       "      <th>2</th>\n",
       "      <th>3</th>\n",
       "      <th>4</th>\n",
       "      <th>5</th>\n",
       "      <th>6</th>\n",
       "      <th>7</th>\n",
       "      <th>8</th>\n",
       "      <th>9</th>\n",
       "      <th>10</th>\n",
       "      <th>11</th>\n",
       "      <th>12</th>\n",
       "    </tr>\n",
       "    <tr>\n",
       "      <th>user_id</th>\n",
       "      <th></th>\n",
       "      <th></th>\n",
       "      <th></th>\n",
       "      <th></th>\n",
       "      <th></th>\n",
       "      <th></th>\n",
       "      <th></th>\n",
       "      <th></th>\n",
       "      <th></th>\n",
       "      <th></th>\n",
       "      <th></th>\n",
       "      <th></th>\n",
       "    </tr>\n",
       "  </thead>\n",
       "  <tbody>\n",
       "    <tr>\n",
       "      <td>1000</td>\n",
       "      <td></td>\n",
       "      <td></td>\n",
       "      <td></td>\n",
       "      <td></td>\n",
       "      <td>159</td>\n",
       "      <td>172</td>\n",
       "      <td>340</td>\n",
       "      <td>408</td>\n",
       "      <td>466</td>\n",
       "      <td>350</td>\n",
       "      <td>338</td>\n",
       "      <td>333</td>\n",
       "    </tr>\n",
       "    <tr>\n",
       "      <td>1001</td>\n",
       "      <td></td>\n",
       "      <td></td>\n",
       "      <td></td>\n",
       "      <td></td>\n",
       "      <td></td>\n",
       "      <td></td>\n",
       "      <td></td>\n",
       "      <td></td>\n",
       "      <td></td>\n",
       "      <td></td>\n",
       "      <td>430</td>\n",
       "      <td>414</td>\n",
       "    </tr>\n",
       "    <tr>\n",
       "      <td>1002</td>\n",
       "      <td></td>\n",
       "      <td></td>\n",
       "      <td></td>\n",
       "      <td></td>\n",
       "      <td></td>\n",
       "      <td>117</td>\n",
       "      <td>214</td>\n",
       "      <td>289</td>\n",
       "      <td>206</td>\n",
       "      <td>212</td>\n",
       "      <td>243</td>\n",
       "      <td>236</td>\n",
       "    </tr>\n",
       "    <tr>\n",
       "      <td>1003</td>\n",
       "      <td></td>\n",
       "      <td></td>\n",
       "      <td></td>\n",
       "      <td></td>\n",
       "      <td></td>\n",
       "      <td></td>\n",
       "      <td></td>\n",
       "      <td>380</td>\n",
       "      <td>961</td>\n",
       "      <td>855</td>\n",
       "      <td>824</td>\n",
       "      <td>802</td>\n",
       "    </tr>\n",
       "    <tr>\n",
       "      <td>1004</td>\n",
       "      <td></td>\n",
       "      <td></td>\n",
       "      <td></td>\n",
       "      <td></td>\n",
       "      <td>35</td>\n",
       "      <td>171</td>\n",
       "      <td>135</td>\n",
       "      <td>137</td>\n",
       "      <td>117</td>\n",
       "      <td>145</td>\n",
       "      <td>117</td>\n",
       "      <td>130</td>\n",
       "    </tr>\n",
       "    <tr>\n",
       "      <td>...</td>\n",
       "      <td>...</td>\n",
       "      <td>...</td>\n",
       "      <td>...</td>\n",
       "      <td>...</td>\n",
       "      <td>...</td>\n",
       "      <td>...</td>\n",
       "      <td>...</td>\n",
       "      <td>...</td>\n",
       "      <td>...</td>\n",
       "      <td>...</td>\n",
       "      <td>...</td>\n",
       "      <td>...</td>\n",
       "    </tr>\n",
       "    <tr>\n",
       "      <td>1495</td>\n",
       "      <td></td>\n",
       "      <td></td>\n",
       "      <td></td>\n",
       "      <td></td>\n",
       "      <td></td>\n",
       "      <td></td>\n",
       "      <td></td>\n",
       "      <td>92</td>\n",
       "      <td>813</td>\n",
       "      <td>1030</td>\n",
       "      <td>954</td>\n",
       "      <td>1031</td>\n",
       "    </tr>\n",
       "    <tr>\n",
       "      <td>1496</td>\n",
       "      <td>48</td>\n",
       "      <td>594</td>\n",
       "      <td>557</td>\n",
       "      <td>521</td>\n",
       "      <td>484</td>\n",
       "      <td>555</td>\n",
       "      <td>582</td>\n",
       "      <td>527</td>\n",
       "      <td>486</td>\n",
       "      <td>450</td>\n",
       "      <td>662</td>\n",
       "      <td>518</td>\n",
       "    </tr>\n",
       "    <tr>\n",
       "      <td>1497</td>\n",
       "      <td></td>\n",
       "      <td></td>\n",
       "      <td></td>\n",
       "      <td></td>\n",
       "      <td></td>\n",
       "      <td></td>\n",
       "      <td></td>\n",
       "      <td></td>\n",
       "      <td></td>\n",
       "      <td>490</td>\n",
       "      <td>371</td>\n",
       "      <td>545</td>\n",
       "    </tr>\n",
       "    <tr>\n",
       "      <td>1498</td>\n",
       "      <td></td>\n",
       "      <td></td>\n",
       "      <td></td>\n",
       "      <td></td>\n",
       "      <td></td>\n",
       "      <td></td>\n",
       "      <td>175</td>\n",
       "      <td>400</td>\n",
       "      <td>471</td>\n",
       "      <td>247</td>\n",
       "      <td></td>\n",
       "      <td></td>\n",
       "    </tr>\n",
       "    <tr>\n",
       "      <td>1499</td>\n",
       "      <td></td>\n",
       "      <td></td>\n",
       "      <td></td>\n",
       "      <td></td>\n",
       "      <td></td>\n",
       "      <td></td>\n",
       "      <td></td>\n",
       "      <td></td>\n",
       "      <td>70</td>\n",
       "      <td>449</td>\n",
       "      <td>612</td>\n",
       "      <td>492</td>\n",
       "    </tr>\n",
       "  </tbody>\n",
       "</table>\n",
       "<p>492 rows × 12 columns</p>\n",
       "</div>"
      ],
      "text/plain": [
       "month    1    2    3    4    5    6    7    8    9     10   11    12\n",
       "user_id                                                             \n",
       "1000                        159  172  340  408  466   350  338   333\n",
       "1001                                                       430   414\n",
       "1002                             117  214  289  206   212  243   236\n",
       "1003                                       380  961   855  824   802\n",
       "1004                         35  171  135  137  117   145  117   130\n",
       "...      ..  ...  ...  ...  ...  ...  ...  ...  ...   ...  ...   ...\n",
       "1495                                        92  813  1030  954  1031\n",
       "1496     48  594  557  521  484  555  582  527  486   450  662   518\n",
       "1497                                                  490  371   545\n",
       "1498                                  175  400  471   247           \n",
       "1499                                             70   449  612   492\n",
       "\n",
       "[492 rows x 12 columns]"
      ]
     },
     "execution_count": 19,
     "metadata": {},
     "output_type": "execute_result"
    }
   ],
   "source": [
    "calls.pivot_table(index='user_id', columns='month', values='duration', aggfunc='sum').fillna('')"
   ]
  },
  {
   "cell_type": "markdown",
   "metadata": {},
   "source": [
    "2. Calculation of the number of sent messages by month for each user."
   ]
  },
  {
   "cell_type": "code",
   "execution_count": 20,
   "metadata": {
    "scrolled": false
   },
   "outputs": [
    {
     "data": {
      "text/html": [
       "<div>\n",
       "<style scoped>\n",
       "    .dataframe tbody tr th:only-of-type {\n",
       "        vertical-align: middle;\n",
       "    }\n",
       "\n",
       "    .dataframe tbody tr th {\n",
       "        vertical-align: top;\n",
       "    }\n",
       "\n",
       "    .dataframe thead th {\n",
       "        text-align: right;\n",
       "    }\n",
       "</style>\n",
       "<table border=\"1\" class=\"dataframe\">\n",
       "  <thead>\n",
       "    <tr style=\"text-align: right;\">\n",
       "      <th>month</th>\n",
       "      <th>1</th>\n",
       "      <th>2</th>\n",
       "      <th>3</th>\n",
       "      <th>4</th>\n",
       "      <th>5</th>\n",
       "      <th>6</th>\n",
       "      <th>7</th>\n",
       "      <th>8</th>\n",
       "      <th>9</th>\n",
       "      <th>10</th>\n",
       "      <th>11</th>\n",
       "      <th>12</th>\n",
       "    </tr>\n",
       "    <tr>\n",
       "      <th>user_id</th>\n",
       "      <th></th>\n",
       "      <th></th>\n",
       "      <th></th>\n",
       "      <th></th>\n",
       "      <th></th>\n",
       "      <th></th>\n",
       "      <th></th>\n",
       "      <th></th>\n",
       "      <th></th>\n",
       "      <th></th>\n",
       "      <th></th>\n",
       "      <th></th>\n",
       "    </tr>\n",
       "  </thead>\n",
       "  <tbody>\n",
       "    <tr>\n",
       "      <td>1000</td>\n",
       "      <td></td>\n",
       "      <td></td>\n",
       "      <td></td>\n",
       "      <td></td>\n",
       "      <td>22</td>\n",
       "      <td>60</td>\n",
       "      <td>75</td>\n",
       "      <td>81</td>\n",
       "      <td>57</td>\n",
       "      <td>73</td>\n",
       "      <td>58</td>\n",
       "      <td>70</td>\n",
       "    </tr>\n",
       "    <tr>\n",
       "      <td>1002</td>\n",
       "      <td></td>\n",
       "      <td></td>\n",
       "      <td></td>\n",
       "      <td></td>\n",
       "      <td></td>\n",
       "      <td>4</td>\n",
       "      <td>11</td>\n",
       "      <td>13</td>\n",
       "      <td>4</td>\n",
       "      <td>10</td>\n",
       "      <td>16</td>\n",
       "      <td>12</td>\n",
       "    </tr>\n",
       "    <tr>\n",
       "      <td>1003</td>\n",
       "      <td></td>\n",
       "      <td></td>\n",
       "      <td></td>\n",
       "      <td></td>\n",
       "      <td></td>\n",
       "      <td></td>\n",
       "      <td></td>\n",
       "      <td>37</td>\n",
       "      <td>91</td>\n",
       "      <td>83</td>\n",
       "      <td>94</td>\n",
       "      <td>75</td>\n",
       "    </tr>\n",
       "    <tr>\n",
       "      <td>1004</td>\n",
       "      <td></td>\n",
       "      <td></td>\n",
       "      <td></td>\n",
       "      <td></td>\n",
       "      <td>95</td>\n",
       "      <td>134</td>\n",
       "      <td>181</td>\n",
       "      <td>151</td>\n",
       "      <td>146</td>\n",
       "      <td>165</td>\n",
       "      <td>158</td>\n",
       "      <td>162</td>\n",
       "    </tr>\n",
       "    <tr>\n",
       "      <td>1005</td>\n",
       "      <td>7</td>\n",
       "      <td>38</td>\n",
       "      <td>56</td>\n",
       "      <td>41</td>\n",
       "      <td>42</td>\n",
       "      <td>47</td>\n",
       "      <td>56</td>\n",
       "      <td>64</td>\n",
       "      <td>52</td>\n",
       "      <td>44</td>\n",
       "      <td>51</td>\n",
       "      <td>54</td>\n",
       "    </tr>\n",
       "    <tr>\n",
       "      <td>...</td>\n",
       "      <td>...</td>\n",
       "      <td>...</td>\n",
       "      <td>...</td>\n",
       "      <td>...</td>\n",
       "      <td>...</td>\n",
       "      <td>...</td>\n",
       "      <td>...</td>\n",
       "      <td>...</td>\n",
       "      <td>...</td>\n",
       "      <td>...</td>\n",
       "      <td>...</td>\n",
       "      <td>...</td>\n",
       "    </tr>\n",
       "    <tr>\n",
       "      <td>1495</td>\n",
       "      <td></td>\n",
       "      <td></td>\n",
       "      <td></td>\n",
       "      <td></td>\n",
       "      <td></td>\n",
       "      <td></td>\n",
       "      <td></td>\n",
       "      <td>13</td>\n",
       "      <td>82</td>\n",
       "      <td>82</td>\n",
       "      <td>79</td>\n",
       "      <td>84</td>\n",
       "    </tr>\n",
       "    <tr>\n",
       "      <td>1496</td>\n",
       "      <td>9</td>\n",
       "      <td>45</td>\n",
       "      <td>46</td>\n",
       "      <td>49</td>\n",
       "      <td>40</td>\n",
       "      <td>35</td>\n",
       "      <td>42</td>\n",
       "      <td>41</td>\n",
       "      <td>29</td>\n",
       "      <td>35</td>\n",
       "      <td>46</td>\n",
       "      <td>51</td>\n",
       "    </tr>\n",
       "    <tr>\n",
       "      <td>1497</td>\n",
       "      <td></td>\n",
       "      <td></td>\n",
       "      <td></td>\n",
       "      <td></td>\n",
       "      <td></td>\n",
       "      <td></td>\n",
       "      <td></td>\n",
       "      <td></td>\n",
       "      <td></td>\n",
       "      <td>20</td>\n",
       "      <td>14</td>\n",
       "      <td>17</td>\n",
       "    </tr>\n",
       "    <tr>\n",
       "      <td>1498</td>\n",
       "      <td></td>\n",
       "      <td></td>\n",
       "      <td></td>\n",
       "      <td></td>\n",
       "      <td></td>\n",
       "      <td></td>\n",
       "      <td>20</td>\n",
       "      <td>62</td>\n",
       "      <td>44</td>\n",
       "      <td>42</td>\n",
       "      <td></td>\n",
       "      <td></td>\n",
       "    </tr>\n",
       "    <tr>\n",
       "      <td>1499</td>\n",
       "      <td></td>\n",
       "      <td></td>\n",
       "      <td></td>\n",
       "      <td></td>\n",
       "      <td></td>\n",
       "      <td></td>\n",
       "      <td></td>\n",
       "      <td></td>\n",
       "      <td>11</td>\n",
       "      <td>48</td>\n",
       "      <td>59</td>\n",
       "      <td>66</td>\n",
       "    </tr>\n",
       "  </tbody>\n",
       "</table>\n",
       "<p>426 rows × 12 columns</p>\n",
       "</div>"
      ],
      "text/plain": [
       "month   1   2   3   4   5    6    7    8    9    10   11   12\n",
       "user_id                                                      \n",
       "1000                    22   60   75   81   57   73   58   70\n",
       "1002                          4   11   13    4   10   16   12\n",
       "1003                                   37   91   83   94   75\n",
       "1004                    95  134  181  151  146  165  158  162\n",
       "1005     7  38  56  41  42   47   56   64   52   44   51   54\n",
       "...     ..  ..  ..  ..  ..  ...  ...  ...  ...  ...  ...  ...\n",
       "1495                                   13   82   82   79   84\n",
       "1496     9  45  46  49  40   35   42   41   29   35   46   51\n",
       "1497                                             20   14   17\n",
       "1498                              20   62   44   42          \n",
       "1499                                        11   48   59   66\n",
       "\n",
       "[426 rows x 12 columns]"
      ]
     },
     "execution_count": 20,
     "metadata": {},
     "output_type": "execute_result"
    }
   ],
   "source": [
    "messages.pivot_table(index='user_id', columns='month', values='id', aggfunc='count').fillna('')"
   ]
  },
  {
   "cell_type": "markdown",
   "metadata": {},
   "source": [
    "3. Calculation of the volume of Internet traffic used by months for each user."
   ]
  },
  {
   "cell_type": "code",
   "execution_count": 21,
   "metadata": {
    "scrolled": true
   },
   "outputs": [
    {
     "data": {
      "text/html": [
       "<div>\n",
       "<style scoped>\n",
       "    .dataframe tbody tr th:only-of-type {\n",
       "        vertical-align: middle;\n",
       "    }\n",
       "\n",
       "    .dataframe tbody tr th {\n",
       "        vertical-align: top;\n",
       "    }\n",
       "\n",
       "    .dataframe thead th {\n",
       "        text-align: right;\n",
       "    }\n",
       "</style>\n",
       "<table border=\"1\" class=\"dataframe\">\n",
       "  <thead>\n",
       "    <tr style=\"text-align: right;\">\n",
       "      <th>month</th>\n",
       "      <th>1</th>\n",
       "      <th>2</th>\n",
       "      <th>3</th>\n",
       "      <th>4</th>\n",
       "      <th>5</th>\n",
       "      <th>6</th>\n",
       "      <th>7</th>\n",
       "      <th>8</th>\n",
       "      <th>9</th>\n",
       "      <th>10</th>\n",
       "      <th>11</th>\n",
       "      <th>12</th>\n",
       "    </tr>\n",
       "    <tr>\n",
       "      <th>user_id</th>\n",
       "      <th></th>\n",
       "      <th></th>\n",
       "      <th></th>\n",
       "      <th></th>\n",
       "      <th></th>\n",
       "      <th></th>\n",
       "      <th></th>\n",
       "      <th></th>\n",
       "      <th></th>\n",
       "      <th></th>\n",
       "      <th></th>\n",
       "      <th></th>\n",
       "    </tr>\n",
       "  </thead>\n",
       "  <tbody>\n",
       "    <tr>\n",
       "      <td>1000</td>\n",
       "      <td></td>\n",
       "      <td></td>\n",
       "      <td></td>\n",
       "      <td></td>\n",
       "      <td>2253.49</td>\n",
       "      <td>23233.8</td>\n",
       "      <td>14003.6</td>\n",
       "      <td>14055.9</td>\n",
       "      <td>14568.9</td>\n",
       "      <td>14702.5</td>\n",
       "      <td>14756.5</td>\n",
       "      <td>9817.61</td>\n",
       "    </tr>\n",
       "    <tr>\n",
       "      <td>1001</td>\n",
       "      <td></td>\n",
       "      <td></td>\n",
       "      <td></td>\n",
       "      <td></td>\n",
       "      <td></td>\n",
       "      <td></td>\n",
       "      <td></td>\n",
       "      <td></td>\n",
       "      <td></td>\n",
       "      <td></td>\n",
       "      <td>18429.3</td>\n",
       "      <td>14036.7</td>\n",
       "    </tr>\n",
       "    <tr>\n",
       "      <td>1002</td>\n",
       "      <td></td>\n",
       "      <td></td>\n",
       "      <td></td>\n",
       "      <td></td>\n",
       "      <td></td>\n",
       "      <td>10856.8</td>\n",
       "      <td>17580.1</td>\n",
       "      <td>20319.3</td>\n",
       "      <td>16691.1</td>\n",
       "      <td>13888.3</td>\n",
       "      <td>18587.3</td>\n",
       "      <td>18113.7</td>\n",
       "    </tr>\n",
       "    <tr>\n",
       "      <td>1003</td>\n",
       "      <td></td>\n",
       "      <td></td>\n",
       "      <td></td>\n",
       "      <td></td>\n",
       "      <td></td>\n",
       "      <td></td>\n",
       "      <td></td>\n",
       "      <td>8565.21</td>\n",
       "      <td>12468.9</td>\n",
       "      <td>14768.1</td>\n",
       "      <td>11356.9</td>\n",
       "      <td>10121.5</td>\n",
       "    </tr>\n",
       "    <tr>\n",
       "      <td>1004</td>\n",
       "      <td></td>\n",
       "      <td></td>\n",
       "      <td></td>\n",
       "      <td></td>\n",
       "      <td>13404</td>\n",
       "      <td>17600</td>\n",
       "      <td>22229.6</td>\n",
       "      <td>28584.4</td>\n",
       "      <td>15109</td>\n",
       "      <td>18475.4</td>\n",
       "      <td>15616</td>\n",
       "      <td>18021</td>\n",
       "    </tr>\n",
       "    <tr>\n",
       "      <td>...</td>\n",
       "      <td>...</td>\n",
       "      <td>...</td>\n",
       "      <td>...</td>\n",
       "      <td>...</td>\n",
       "      <td>...</td>\n",
       "      <td>...</td>\n",
       "      <td>...</td>\n",
       "      <td>...</td>\n",
       "      <td>...</td>\n",
       "      <td>...</td>\n",
       "      <td>...</td>\n",
       "      <td>...</td>\n",
       "    </tr>\n",
       "    <tr>\n",
       "      <td>1495</td>\n",
       "      <td></td>\n",
       "      <td></td>\n",
       "      <td></td>\n",
       "      <td></td>\n",
       "      <td></td>\n",
       "      <td></td>\n",
       "      <td></td>\n",
       "      <td>2614.07</td>\n",
       "      <td>33067.6</td>\n",
       "      <td>29363</td>\n",
       "      <td>38939.1</td>\n",
       "      <td>23426.8</td>\n",
       "    </tr>\n",
       "    <tr>\n",
       "      <td>1496</td>\n",
       "      <td>3762.73</td>\n",
       "      <td>28489.7</td>\n",
       "      <td>24959</td>\n",
       "      <td>21074.7</td>\n",
       "      <td>23709.8</td>\n",
       "      <td>20134.3</td>\n",
       "      <td>24364.8</td>\n",
       "      <td>23530</td>\n",
       "      <td>26934.7</td>\n",
       "      <td>28183.2</td>\n",
       "      <td>25063.4</td>\n",
       "      <td>20736.2</td>\n",
       "    </tr>\n",
       "    <tr>\n",
       "      <td>1497</td>\n",
       "      <td></td>\n",
       "      <td></td>\n",
       "      <td></td>\n",
       "      <td></td>\n",
       "      <td></td>\n",
       "      <td></td>\n",
       "      <td></td>\n",
       "      <td></td>\n",
       "      <td></td>\n",
       "      <td>11500.3</td>\n",
       "      <td>14156.1</td>\n",
       "      <td>19918.6</td>\n",
       "    </tr>\n",
       "    <tr>\n",
       "      <td>1498</td>\n",
       "      <td></td>\n",
       "      <td></td>\n",
       "      <td></td>\n",
       "      <td></td>\n",
       "      <td></td>\n",
       "      <td></td>\n",
       "      <td>7476.24</td>\n",
       "      <td>24235.2</td>\n",
       "      <td>22134.4</td>\n",
       "      <td>20579.4</td>\n",
       "      <td></td>\n",
       "      <td></td>\n",
       "    </tr>\n",
       "    <tr>\n",
       "      <td>1499</td>\n",
       "      <td></td>\n",
       "      <td></td>\n",
       "      <td></td>\n",
       "      <td></td>\n",
       "      <td></td>\n",
       "      <td></td>\n",
       "      <td></td>\n",
       "      <td></td>\n",
       "      <td>1845.75</td>\n",
       "      <td>17788.5</td>\n",
       "      <td>17963.3</td>\n",
       "      <td>13055.6</td>\n",
       "    </tr>\n",
       "  </tbody>\n",
       "</table>\n",
       "<p>497 rows × 12 columns</p>\n",
       "</div>"
      ],
      "text/plain": [
       "month         1        2      3        4        5        6        7        8   \\\n",
       "user_id                                                                         \n",
       "1000                                       2253.49  23233.8  14003.6  14055.9   \n",
       "1001                                                                            \n",
       "1002                                                10856.8  17580.1  20319.3   \n",
       "1003                                                                  8565.21   \n",
       "1004                                         13404    17600  22229.6  28584.4   \n",
       "...          ...      ...    ...      ...      ...      ...      ...      ...   \n",
       "1495                                                                  2614.07   \n",
       "1496     3762.73  28489.7  24959  21074.7  23709.8  20134.3  24364.8    23530   \n",
       "1497                                                                            \n",
       "1498                                                         7476.24  24235.2   \n",
       "1499                                                                            \n",
       "\n",
       "month         9        10       11       12  \n",
       "user_id                                      \n",
       "1000     14568.9  14702.5  14756.5  9817.61  \n",
       "1001                       18429.3  14036.7  \n",
       "1002     16691.1  13888.3  18587.3  18113.7  \n",
       "1003     12468.9  14768.1  11356.9  10121.5  \n",
       "1004       15109  18475.4    15616    18021  \n",
       "...          ...      ...      ...      ...  \n",
       "1495     33067.6    29363  38939.1  23426.8  \n",
       "1496     26934.7  28183.2  25063.4  20736.2  \n",
       "1497              11500.3  14156.1  19918.6  \n",
       "1498     22134.4  20579.4                    \n",
       "1499     1845.75  17788.5  17963.3  13055.6  \n",
       "\n",
       "[497 rows x 12 columns]"
      ]
     },
     "execution_count": 21,
     "metadata": {},
     "output_type": "execute_result"
    }
   ],
   "source": [
    "internet.pivot_table(index='user_id', columns='month', values='mb_used', aggfunc='sum').fillna('')"
   ]
  },
  {
   "cell_type": "markdown",
   "metadata": {},
   "source": [
    "### Calculation of monthly revenue per user"
   ]
  },
  {
   "cell_type": "code",
   "execution_count": 22,
   "metadata": {},
   "outputs": [],
   "source": [
    "calls_grouped = calls.groupby(['user_id', 'month']).agg(total_duration_calls=('duration', 'sum'))"
   ]
  },
  {
   "cell_type": "code",
   "execution_count": 23,
   "metadata": {},
   "outputs": [],
   "source": [
    "messages_grouped = messages.groupby(['user_id', 'month']).agg(number_messages=('message_date', 'count'))"
   ]
  },
  {
   "cell_type": "code",
   "execution_count": 24,
   "metadata": {},
   "outputs": [],
   "source": [
    "internet_grouped = internet.groupby(['user_id', 'month']).agg(total_traffic_volume=('mb_used', 'sum'))"
   ]
  },
  {
   "cell_type": "code",
   "execution_count": 25,
   "metadata": {},
   "outputs": [],
   "source": [
    "data_grouped = reduce(lambda left, right: pd.merge(left, right, on=['user_id', 'month'], how='outer'), [calls_grouped, messages_grouped, internet_grouped])"
   ]
  },
  {
   "cell_type": "code",
   "execution_count": 26,
   "metadata": {},
   "outputs": [],
   "source": [
    "for column in ['total_duration_calls', 'number_messages', 'total_traffic_volume']:\n",
    "    data_grouped.loc[data_grouped[column].isna(), column] = 0"
   ]
  },
  {
   "cell_type": "code",
   "execution_count": 27,
   "metadata": {},
   "outputs": [],
   "source": [
    "for user in data_grouped.index:\n",
    "    data_grouped.loc[user, 'city'] = users.loc[user[0]-1000, 'city']"
   ]
  },
  {
   "cell_type": "code",
   "execution_count": 28,
   "metadata": {},
   "outputs": [],
   "source": [
    "for user in data_grouped.index:\n",
    "    data_grouped.loc[user, 'tariff'] = users.loc[user[0]-1000, 'tariff']"
   ]
  },
  {
   "cell_type": "code",
   "execution_count": 29,
   "metadata": {},
   "outputs": [],
   "source": [
    "for column in ['total_duration_calls', 'number_messages', 'total_traffic_volume', 'tariff']:\n",
    "    data_grouped[column] = data_grouped[column].astype('int') "
   ]
  },
  {
   "cell_type": "code",
   "execution_count": 30,
   "metadata": {},
   "outputs": [],
   "source": [
    "def profit(row):\n",
    "    '''Считает месячную прибыль с каждого пользователя'''\n",
    "    tariff = row['tariff']\n",
    "    calls = row['total_duration_calls']\n",
    "    messages = row['number_messages']\n",
    "    internet = row['total_traffic_volume']\n",
    "    '''Вычтем из суммарных значений доступные пакеты Смарта'''\n",
    "    if tariff == tariffs.loc[0, 'tariff_name']:\n",
    "        extra_calls = calls - tariffs.loc[0, 'minutes_included']\n",
    "        extra_messages = messages - tariffs.loc[0, 'messages_included']\n",
    "        extra_internet = internet - tariffs.loc[0, 'mb_per_month_included']\n",
    "        '''Отрицательные значения в переменных с превышающими пакеты Смарта показателями заменяем на нули'''\n",
    "        if extra_calls < 0:\n",
    "            extra_calls = 0\n",
    "        if extra_messages < 0:\n",
    "            extra_messages = 0\n",
    "        if extra_internet < 0:\n",
    "            extra_internet = 0\n",
    "        '''Остатки умножаем на тарифы Смарта и прибавляем абонентскую плату Смарта'''\n",
    "        return (extra_calls * tariffs.loc[0, 'rub_per_minute'] + \n",
    "                extra_messages * tariffs.loc[0, 'rub_per_message'] +\n",
    "                ceil_func(extra_internet / 1024) * tariffs.loc[0, 'rub_per_gb'] +\n",
    "                tariffs.loc[0, 'rub_monthly_fee'])\n",
    "    '''Вычтем из суммарных значений доступные пакеты Ультры'''\n",
    "    if tariff == tariffs.loc[1, 'tariff_name']:\n",
    "        extra_calls = calls - tariffs.loc[1, 'minutes_included']\n",
    "        extra_messages = messages - tariffs.loc[1, 'messages_included']\n",
    "        extra_internet = internet - tariffs.loc[1, 'mb_per_month_included']\n",
    "        '''Отрицательные значения в переменных с превышающими пакеты Ультры показателями заменяем на нули'''\n",
    "        if extra_calls < 0:\n",
    "            extra_calls = 0\n",
    "        if extra_messages < 0:\n",
    "            extra_messages = 0\n",
    "        if extra_internet < 0:\n",
    "            extra_internet = 0\n",
    "        '''Остатки умножаем на тарифы Ультры и прибавляем абонентскую плату Ультры'''\n",
    "        return (extra_calls * tariffs.loc[1, 'rub_per_minute'] + \n",
    "                extra_messages * tariffs.loc[1, 'rub_per_message'] +\n",
    "                ceil_func(extra_internet / 1024) * tariffs.loc[1, 'rub_per_gb'] +\n",
    "                tariffs.loc[1, 'rub_monthly_fee'])"
   ]
  },
  {
   "cell_type": "code",
   "execution_count": 31,
   "metadata": {},
   "outputs": [],
   "source": [
    "data_grouped['monthly_profit'] = data_grouped.apply(profit, axis=1)"
   ]
  },
  {
   "cell_type": "code",
   "execution_count": 32,
   "metadata": {},
   "outputs": [
    {
     "data": {
      "text/html": [
       "<div>\n",
       "<style scoped>\n",
       "    .dataframe tbody tr th:only-of-type {\n",
       "        vertical-align: middle;\n",
       "    }\n",
       "\n",
       "    .dataframe tbody tr th {\n",
       "        vertical-align: top;\n",
       "    }\n",
       "\n",
       "    .dataframe thead th {\n",
       "        text-align: right;\n",
       "    }\n",
       "</style>\n",
       "<table border=\"1\" class=\"dataframe\">\n",
       "  <thead>\n",
       "    <tr style=\"text-align: right;\">\n",
       "      <th></th>\n",
       "      <th></th>\n",
       "      <th>total_duration_calls</th>\n",
       "      <th>number_messages</th>\n",
       "      <th>total_traffic_volume</th>\n",
       "      <th>city</th>\n",
       "      <th>tariff</th>\n",
       "      <th>monthly_profit</th>\n",
       "    </tr>\n",
       "    <tr>\n",
       "      <th>user_id</th>\n",
       "      <th>month</th>\n",
       "      <th></th>\n",
       "      <th></th>\n",
       "      <th></th>\n",
       "      <th></th>\n",
       "      <th></th>\n",
       "      <th></th>\n",
       "    </tr>\n",
       "  </thead>\n",
       "  <tbody>\n",
       "    <tr>\n",
       "      <td rowspan=\"5\" valign=\"top\">1000</td>\n",
       "      <td>5</td>\n",
       "      <td>159</td>\n",
       "      <td>22</td>\n",
       "      <td>2253</td>\n",
       "      <td>Краснодар</td>\n",
       "      <td>1</td>\n",
       "      <td>1950</td>\n",
       "    </tr>\n",
       "    <tr>\n",
       "      <td>6</td>\n",
       "      <td>172</td>\n",
       "      <td>60</td>\n",
       "      <td>23233</td>\n",
       "      <td>Краснодар</td>\n",
       "      <td>1</td>\n",
       "      <td>1950</td>\n",
       "    </tr>\n",
       "    <tr>\n",
       "      <td>7</td>\n",
       "      <td>340</td>\n",
       "      <td>75</td>\n",
       "      <td>14003</td>\n",
       "      <td>Краснодар</td>\n",
       "      <td>1</td>\n",
       "      <td>1950</td>\n",
       "    </tr>\n",
       "    <tr>\n",
       "      <td>8</td>\n",
       "      <td>408</td>\n",
       "      <td>81</td>\n",
       "      <td>14055</td>\n",
       "      <td>Краснодар</td>\n",
       "      <td>1</td>\n",
       "      <td>1950</td>\n",
       "    </tr>\n",
       "    <tr>\n",
       "      <td>9</td>\n",
       "      <td>466</td>\n",
       "      <td>57</td>\n",
       "      <td>14568</td>\n",
       "      <td>Краснодар</td>\n",
       "      <td>1</td>\n",
       "      <td>1950</td>\n",
       "    </tr>\n",
       "  </tbody>\n",
       "</table>\n",
       "</div>"
      ],
      "text/plain": [
       "               total_duration_calls  number_messages  total_traffic_volume  \\\n",
       "user_id month                                                                \n",
       "1000    5                       159               22                  2253   \n",
       "        6                       172               60                 23233   \n",
       "        7                       340               75                 14003   \n",
       "        8                       408               81                 14055   \n",
       "        9                       466               57                 14568   \n",
       "\n",
       "                    city  tariff  monthly_profit  \n",
       "user_id month                                     \n",
       "1000    5      Краснодар       1            1950  \n",
       "        6      Краснодар       1            1950  \n",
       "        7      Краснодар       1            1950  \n",
       "        8      Краснодар       1            1950  \n",
       "        9      Краснодар       1            1950  "
      ]
     },
     "execution_count": 32,
     "metadata": {},
     "output_type": "execute_result"
    }
   ],
   "source": [
    "data_grouped.head()"
   ]
  },
  {
   "cell_type": "code",
   "execution_count": 33,
   "metadata": {},
   "outputs": [],
   "source": [
    "data_mean = data_grouped.groupby('user_id').agg(\n",
    "    mean_duration_calls=('total_duration_calls', 'mean'),\n",
    "    mean_number_messages=('number_messages', 'mean'),\n",
    "    mean_traffic_volume=('total_traffic_volume', 'mean'),\n",
    "    mean_monthly_profit=('monthly_profit', 'mean'),\n",
    "    tariff=('tariff', 'first'),\n",
    "    city=('city', 'first')\n",
    ")"
   ]
  },
  {
   "cell_type": "code",
   "execution_count": 34,
   "metadata": {},
   "outputs": [
    {
     "data": {
      "text/html": [
       "<div>\n",
       "<style scoped>\n",
       "    .dataframe tbody tr th:only-of-type {\n",
       "        vertical-align: middle;\n",
       "    }\n",
       "\n",
       "    .dataframe tbody tr th {\n",
       "        vertical-align: top;\n",
       "    }\n",
       "\n",
       "    .dataframe thead th {\n",
       "        text-align: right;\n",
       "    }\n",
       "</style>\n",
       "<table border=\"1\" class=\"dataframe\">\n",
       "  <thead>\n",
       "    <tr style=\"text-align: right;\">\n",
       "      <th></th>\n",
       "      <th>un_tariff</th>\n",
       "      <th>un_city</th>\n",
       "    </tr>\n",
       "    <tr>\n",
       "      <th>user_id</th>\n",
       "      <th></th>\n",
       "      <th></th>\n",
       "    </tr>\n",
       "  </thead>\n",
       "  <tbody>\n",
       "  </tbody>\n",
       "</table>\n",
       "</div>"
      ],
      "text/plain": [
       "Empty DataFrame\n",
       "Columns: [un_tariff, un_city]\n",
       "Index: []"
      ]
     },
     "execution_count": 34,
     "metadata": {},
     "output_type": "execute_result"
    }
   ],
   "source": [
    "data_grouped.groupby('user_id').agg(\n",
    "    un_tariff=('tariff', 'nunique'),\n",
    "    un_city=('city', 'nunique')\n",
    ").query('un_tariff > 1 or un_city > 1')"
   ]
  },
  {
   "cell_type": "code",
   "execution_count": 35,
   "metadata": {},
   "outputs": [
    {
     "data": {
      "text/html": [
       "<div>\n",
       "<style scoped>\n",
       "    .dataframe tbody tr th:only-of-type {\n",
       "        vertical-align: middle;\n",
       "    }\n",
       "\n",
       "    .dataframe tbody tr th {\n",
       "        vertical-align: top;\n",
       "    }\n",
       "\n",
       "    .dataframe thead th {\n",
       "        text-align: right;\n",
       "    }\n",
       "</style>\n",
       "<table border=\"1\" class=\"dataframe\">\n",
       "  <thead>\n",
       "    <tr style=\"text-align: right;\">\n",
       "      <th></th>\n",
       "      <th>user_id</th>\n",
       "      <th>age</th>\n",
       "      <th>churn_date</th>\n",
       "      <th>city</th>\n",
       "      <th>first_name</th>\n",
       "      <th>last_name</th>\n",
       "      <th>reg_date</th>\n",
       "      <th>tariff</th>\n",
       "    </tr>\n",
       "  </thead>\n",
       "  <tbody>\n",
       "    <tr>\n",
       "      <td>128</td>\n",
       "      <td>1128</td>\n",
       "      <td>51</td>\n",
       "      <td>2018-12-23</td>\n",
       "      <td>Волжский</td>\n",
       "      <td>Ксения</td>\n",
       "      <td>Агаева</td>\n",
       "      <td>2018-12-15</td>\n",
       "      <td>1</td>\n",
       "    </tr>\n",
       "    <tr>\n",
       "      <td>371</td>\n",
       "      <td>1371</td>\n",
       "      <td>50</td>\n",
       "      <td>2018-12-30</td>\n",
       "      <td>Омск</td>\n",
       "      <td>Ириней</td>\n",
       "      <td>Трофимов</td>\n",
       "      <td>2018-12-25</td>\n",
       "      <td>0</td>\n",
       "    </tr>\n",
       "  </tbody>\n",
       "</table>\n",
       "</div>"
      ],
      "text/plain": [
       "    user_id  age churn_date      city first_name last_name   reg_date  tariff\n",
       "128    1128   51 2018-12-23  Волжский     Ксения    Агаева 2018-12-15       1\n",
       "371    1371   50 2018-12-30      Омск     Ириней  Трофимов 2018-12-25       0"
      ]
     },
     "metadata": {},
     "output_type": "display_data"
    },
    {
     "data": {
      "text/html": [
       "<div>\n",
       "<style scoped>\n",
       "    .dataframe tbody tr th:only-of-type {\n",
       "        vertical-align: middle;\n",
       "    }\n",
       "\n",
       "    .dataframe tbody tr th {\n",
       "        vertical-align: top;\n",
       "    }\n",
       "\n",
       "    .dataframe thead th {\n",
       "        text-align: right;\n",
       "    }\n",
       "</style>\n",
       "<table border=\"1\" class=\"dataframe\">\n",
       "  <thead>\n",
       "    <tr style=\"text-align: right;\">\n",
       "      <th></th>\n",
       "      <th>id</th>\n",
       "      <th>call_date</th>\n",
       "      <th>duration</th>\n",
       "      <th>user_id</th>\n",
       "      <th>month</th>\n",
       "    </tr>\n",
       "  </thead>\n",
       "  <tbody>\n",
       "  </tbody>\n",
       "</table>\n",
       "</div>"
      ],
      "text/plain": [
       "Empty DataFrame\n",
       "Columns: [id, call_date, duration, user_id, month]\n",
       "Index: []"
      ]
     },
     "metadata": {},
     "output_type": "display_data"
    },
    {
     "data": {
      "text/html": [
       "<div>\n",
       "<style scoped>\n",
       "    .dataframe tbody tr th:only-of-type {\n",
       "        vertical-align: middle;\n",
       "    }\n",
       "\n",
       "    .dataframe tbody tr th {\n",
       "        vertical-align: top;\n",
       "    }\n",
       "\n",
       "    .dataframe thead th {\n",
       "        text-align: right;\n",
       "    }\n",
       "</style>\n",
       "<table border=\"1\" class=\"dataframe\">\n",
       "  <thead>\n",
       "    <tr style=\"text-align: right;\">\n",
       "      <th></th>\n",
       "      <th>id</th>\n",
       "      <th>message_date</th>\n",
       "      <th>user_id</th>\n",
       "      <th>month</th>\n",
       "    </tr>\n",
       "  </thead>\n",
       "  <tbody>\n",
       "  </tbody>\n",
       "</table>\n",
       "</div>"
      ],
      "text/plain": [
       "Empty DataFrame\n",
       "Columns: [id, message_date, user_id, month]\n",
       "Index: []"
      ]
     },
     "metadata": {},
     "output_type": "display_data"
    },
    {
     "data": {
      "text/html": [
       "<div>\n",
       "<style scoped>\n",
       "    .dataframe tbody tr th:only-of-type {\n",
       "        vertical-align: middle;\n",
       "    }\n",
       "\n",
       "    .dataframe tbody tr th {\n",
       "        vertical-align: top;\n",
       "    }\n",
       "\n",
       "    .dataframe thead th {\n",
       "        text-align: right;\n",
       "    }\n",
       "</style>\n",
       "<table border=\"1\" class=\"dataframe\">\n",
       "  <thead>\n",
       "    <tr style=\"text-align: right;\">\n",
       "      <th></th>\n",
       "      <th>id</th>\n",
       "      <th>mb_used</th>\n",
       "      <th>session_date</th>\n",
       "      <th>user_id</th>\n",
       "      <th>month</th>\n",
       "    </tr>\n",
       "  </thead>\n",
       "  <tbody>\n",
       "  </tbody>\n",
       "</table>\n",
       "</div>"
      ],
      "text/plain": [
       "Empty DataFrame\n",
       "Columns: [id, mb_used, session_date, user_id, month]\n",
       "Index: []"
      ]
     },
     "metadata": {},
     "output_type": "display_data"
    }
   ],
   "source": [
    "active_users = data_mean.reset_index().user_id.unique()\n",
    "\n",
    "display(users.query('~(user_id in @active_users)'))\n",
    "\n",
    "display(calls.query('~(user_id in @active_users)'))\n",
    "display(messages.query('~(user_id in @active_users)'))\n",
    "display(internet.query('~(user_id in @active_users)'))"
   ]
  },
  {
   "cell_type": "code",
   "execution_count": 36,
   "metadata": {
    "scrolled": true
   },
   "outputs": [
    {
     "data": {
      "text/html": [
       "<div>\n",
       "<style scoped>\n",
       "    .dataframe tbody tr th:only-of-type {\n",
       "        vertical-align: middle;\n",
       "    }\n",
       "\n",
       "    .dataframe tbody tr th {\n",
       "        vertical-align: top;\n",
       "    }\n",
       "\n",
       "    .dataframe thead tr th {\n",
       "        text-align: left;\n",
       "    }\n",
       "\n",
       "    .dataframe thead tr:last-of-type th {\n",
       "        text-align: right;\n",
       "    }\n",
       "</style>\n",
       "<table border=\"1\" class=\"dataframe\">\n",
       "  <thead>\n",
       "    <tr>\n",
       "      <th></th>\n",
       "      <th colspan=\"3\" halign=\"left\">mean_duration_calls</th>\n",
       "      <th colspan=\"3\" halign=\"left\">mean_number_messages</th>\n",
       "      <th colspan=\"3\" halign=\"left\">mean_traffic_volume</th>\n",
       "    </tr>\n",
       "    <tr>\n",
       "      <th></th>\n",
       "      <th>mean</th>\n",
       "      <th>std</th>\n",
       "      <th>var</th>\n",
       "      <th>mean</th>\n",
       "      <th>std</th>\n",
       "      <th>var</th>\n",
       "      <th>mean</th>\n",
       "      <th>std</th>\n",
       "      <th>var</th>\n",
       "    </tr>\n",
       "    <tr>\n",
       "      <th>tariff</th>\n",
       "      <th></th>\n",
       "      <th></th>\n",
       "      <th></th>\n",
       "      <th></th>\n",
       "      <th></th>\n",
       "      <th></th>\n",
       "      <th></th>\n",
       "      <th></th>\n",
       "      <th></th>\n",
       "    </tr>\n",
       "  </thead>\n",
       "  <tbody>\n",
       "    <tr>\n",
       "      <td>0</td>\n",
       "      <td>420</td>\n",
       "      <td>145</td>\n",
       "      <td>21,034</td>\n",
       "      <td>32</td>\n",
       "      <td>27</td>\n",
       "      <td>703</td>\n",
       "      <td>16,180</td>\n",
       "      <td>3,579</td>\n",
       "      <td>12,810,793</td>\n",
       "    </tr>\n",
       "    <tr>\n",
       "      <td>1</td>\n",
       "      <td>528</td>\n",
       "      <td>282</td>\n",
       "      <td>79,404</td>\n",
       "      <td>54</td>\n",
       "      <td>46</td>\n",
       "      <td>2,150</td>\n",
       "      <td>19,574</td>\n",
       "      <td>8,311</td>\n",
       "      <td>69,075,854</td>\n",
       "    </tr>\n",
       "  </tbody>\n",
       "</table>\n",
       "</div>"
      ],
      "text/plain": [
       "       mean_duration_calls            mean_number_messages            \\\n",
       "                      mean std    var                 mean std   var   \n",
       "tariff                                                                 \n",
       "0                      420 145 21,034                   32  27   703   \n",
       "1                      528 282 79,404                   54  46 2,150   \n",
       "\n",
       "       mean_traffic_volume                   \n",
       "                      mean   std        var  \n",
       "tariff                                       \n",
       "0                   16,180 3,579 12,810,793  \n",
       "1                   19,574 8,311 69,075,854  "
      ]
     },
     "execution_count": 36,
     "metadata": {},
     "output_type": "execute_result"
    }
   ],
   "source": [
    "pd.options.display.float_format = '{:,.0f}'.format\n",
    "data_mean.pivot_table(index='tariff',\n",
    "                      values=['mean_duration_calls', 'mean_number_messages', 'mean_traffic_volume'], \n",
    "                      aggfunc={\n",
    "                          'mean_duration_calls': [np.mean, np.var, np.std],\n",
    "                          'mean_number_messages': [np.mean, np.var, np.std], \n",
    "                          'mean_traffic_volume': [np.mean, np.var, np.std]\n",
    "                      }\n",
    "                     )"
   ]
  },
  {
   "cell_type": "code",
   "execution_count": 37,
   "metadata": {},
   "outputs": [
    {
     "data": {
      "image/png": "[encoded data removed]",
      "text/plain": [
       "<Figure size 432x288 with 1 Axes>"
      ]
     },
     "metadata": {
      "needs_background": "light"
     },
     "output_type": "display_data"
    }
   ],
   "source": [
    "ax = data_mean.query('tariff == 1').plot(y='mean_duration_calls', kind='hist', bins=(\n",
    "    np.arange(0, data_mean.query('tariff == 1').mean_duration_calls.max(), 70)), grid=True, alpha=0.7)\n",
    "data_mean.query('tariff == 0').plot(y='mean_duration_calls', kind='hist', bins=(\n",
    "    np.arange(0, data_mean.query('tariff == 0').mean_duration_calls.max(), 70)), grid=True, ax=ax, alpha=0.7, colormap='summer')\n",
    "plt.legend(title='Тариф', labels=['Ультра', 'Смарт'])\n",
    "plt.title('Распределение средних длительностей звонков в месяц клиентов двух тарифов')\n",
    "plt.ylabel('Количество звонков')\n",
    "plt.xlabel('Количество минут')\n",
    "plt.show()"
   ]
  },
  {
   "cell_type": "code",
   "execution_count": 38,
   "metadata": {},
   "outputs": [
    {
     "data": {
      "image/png": "[encoded data removed]",
      "text/plain": [
       "<Figure size 432x288 with 1 Axes>"
      ]
     },
     "metadata": {
      "needs_background": "light"
     },
     "output_type": "display_data"
    }
   ],
   "source": [
    "ax = data_mean.query('tariff == 1').plot(y='mean_number_messages', kind='hist', bins=(\n",
    "    np.arange(0, data_mean.query('tariff == 1').mean_number_messages.max(), 15)), grid=True, alpha=0.7)\n",
    "data_mean.query('tariff == 0').plot(y='mean_number_messages', kind='hist', bins=(\n",
    "    np.arange(0, data_mean.query('tariff == 0').mean_number_messages.max(), 15)), grid=True, ax=ax, alpha=0.7, colormap='summer')\n",
    "plt.legend(title='Тариф', labels=['Ультра', 'Смарт'])\n",
    "plt.title('Распределение среднего количества сообщений в месяц клиентов двух тарифов')\n",
    "plt.ylabel('Количество сообщений')\n",
    "plt.xlabel('Количество сообщений')\n",
    "plt.show()"
   ]
  },
  {
   "cell_type": "code",
   "execution_count": 39,
   "metadata": {},
   "outputs": [
    {
     "data": {
      "image/png": "[encoded data removed]",
      "text/plain": [
       "<Figure size 432x288 with 1 Axes>"
      ]
     },
     "metadata": {
      "needs_background": "light"
     },
     "output_type": "display_data"
    }
   ],
   "source": [
    "ax = data_mean.query('tariff == 1').plot(y='mean_traffic_volume', kind='hist', bins=(\n",
    "    np.arange(0, data_mean.query('tariff == 1').mean_traffic_volume.max(), 2000)), grid=True, alpha=0.7)\n",
    "data_mean.query('tariff == 0').plot(y='mean_traffic_volume', kind='hist', bins=(\n",
    "    np.arange(0, data_mean.query('tariff == 0').mean_traffic_volume.max(), 2000)), grid=True, ax=ax, alpha=0.7, colormap='summer')\n",
    "plt.legend(title='Тариф', labels=['Ультра', 'Смарт'])\n",
    "plt.title('Распределение средних объемов интернет-трафиков в месяц клиентов двух тарифов')\n",
    "plt.ylabel('Количество интернет-сессий')\n",
    "plt.xlabel('Количество мегабайтов в сессии')\n",
    "plt.show()"
   ]
  },
  {
   "cell_type": "code",
   "execution_count": 40,
   "metadata": {
    "scrolled": false
   },
   "outputs": [
    {
     "data": {
      "image/png": "[encoded data removed]",
      "text/plain": [
       "<Figure size 360x360 with 1 Axes>"
      ]
     },
     "metadata": {
      "needs_background": "light"
     },
     "output_type": "display_data"
    },
    {
     "data": {
      "image/png": "[encoded data removed]",
      "text/plain": [
       "<Figure size 360x360 with 1 Axes>"
      ]
     },
     "metadata": {
      "needs_background": "light"
     },
     "output_type": "display_data"
    },
    {
     "data": {
      "image/png": "[encoded data removed]",
      "text/plain": [
       "<Figure size 360x360 with 1 Axes>"
      ]
     },
     "metadata": {
      "needs_background": "light"
     },
     "output_type": "display_data"
    }
   ],
   "source": [
    "for column in ['mean_duration_calls', 'mean_number_messages', 'mean_traffic_volume']:\n",
    "    sns.catplot(data=data_mean, kind='box', x='tariff', y=column, palette='summer').set_xlabels('Тариф').set_xticklabels(['Смарт', 'Ультра'])"
   ]
  },
  {
   "cell_type": "markdown",
   "metadata": {},
   "source": [
    "## Hypothesis testing"
   ]
  },
  {
   "cell_type": "markdown",
   "metadata": {},
   "source": [
    "- H0 - average revenues from users of the tariffs are equal.\n",
    "- H1 - average revenues from users of the tariffs differ."
   ]
  },
  {
   "cell_type": "code",
   "execution_count": 41,
   "metadata": {},
   "outputs": [],
   "source": [
    "smart_profit = data_mean.query('tariff == 0')['mean_monthly_profit']\n",
    "ultra_profit = data_mean.query('tariff == 1')['mean_monthly_profit']"
   ]
  },
  {
   "cell_type": "markdown",
   "metadata": {},
   "source": [
    "`equal_var = False` since the variances of these samples are significantly different."
   ]
  },
  {
   "cell_type": "code",
   "execution_count": 42,
   "metadata": {},
   "outputs": [
    {
     "name": "stdout",
     "output_type": "stream",
     "text": [
      "p-значение: 0.000\n",
      "Отвергаем нулевую гипотезу\n"
     ]
    }
   ],
   "source": [
    "tariff_profit = st.ttest_ind(smart_profit, ultra_profit, equal_var=False)\n",
    "alpha = 0.01\n",
    "\n",
    "print(f'p-значение: {tariff_profit.pvalue:.3f}')\n",
    "\n",
    "if (tariff_profit.pvalue < alpha):\n",
    "    print(\"Отвергаем нулевую гипотезу\")\n",
    "else:\n",
    "    print(\"Не получилось отвергнуть нулевую гипотезу\")"
   ]
  },
  {
   "cell_type": "markdown",
   "metadata": {},
   "source": [
    "- The null hypothesis is rejected. The alternative hypothesis is more likely."
   ]
  },
  {
   "cell_type": "code",
   "execution_count": 43,
   "metadata": {
    "scrolled": true
   },
   "outputs": [
    {
     "data": {
      "text/html": [
       "<div>\n",
       "<style scoped>\n",
       "    .dataframe tbody tr th:only-of-type {\n",
       "        vertical-align: middle;\n",
       "    }\n",
       "\n",
       "    .dataframe tbody tr th {\n",
       "        vertical-align: top;\n",
       "    }\n",
       "\n",
       "    .dataframe thead th {\n",
       "        text-align: right;\n",
       "    }\n",
       "</style>\n",
       "<table border=\"1\" class=\"dataframe\">\n",
       "  <thead>\n",
       "    <tr style=\"text-align: right;\">\n",
       "      <th></th>\n",
       "      <th>median_profit_per_user</th>\n",
       "      <th>number_of_users</th>\n",
       "    </tr>\n",
       "    <tr>\n",
       "      <th>tariff</th>\n",
       "      <th></th>\n",
       "      <th></th>\n",
       "    </tr>\n",
       "  </thead>\n",
       "  <tbody>\n",
       "    <tr>\n",
       "      <td>0</td>\n",
       "      <td>1,177</td>\n",
       "      <td>350</td>\n",
       "    </tr>\n",
       "    <tr>\n",
       "      <td>1</td>\n",
       "      <td>1,950</td>\n",
       "      <td>148</td>\n",
       "    </tr>\n",
       "  </tbody>\n",
       "</table>\n",
       "</div>"
      ],
      "text/plain": [
       "        median_profit_per_user  number_of_users\n",
       "tariff                                         \n",
       "0                        1,177              350\n",
       "1                        1,950              148"
      ]
     },
     "execution_count": 43,
     "metadata": {},
     "output_type": "execute_result"
    }
   ],
   "source": [
    "data_mean.groupby('tariff').agg(\n",
    "    median_profit_per_user=('mean_monthly_profit', 'median'), \n",
    "    number_of_users=('mean_monthly_profit', 'count')\n",
    ")"
   ]
  },
  {
   "cell_type": "code",
   "execution_count": 44,
   "metadata": {},
   "outputs": [
    {
     "data": {
      "image/png": "[encoded data removed]",
      "text/plain": [
       "<Figure size 432x288 with 1 Axes>"
      ]
     },
     "metadata": {
      "needs_background": "light"
     },
     "output_type": "display_data"
    }
   ],
   "source": [
    "sns.violinplot(data=data_mean, x='tariff', y='mean_monthly_profit', palette='summer').set_xticklabels(['Смарт', 'Ультра'])\n",
    "plt.title('Зависимость средних доходов с пользователей от их тарифов')\n",
    "plt.ylabel('Средние доходы (в рублях)')\n",
    "plt.xlabel('Тариф')\n",
    "plt.show()"
   ]
  },
  {
   "cell_type": "markdown",
   "metadata": {},
   "source": [
    "- H0 - average revenue from users from Moscow is equal to revenue from users from other cities.\n",
    "- H1 - average revenue from users from Moscow and average revenue from users from other cities differ."
   ]
  },
  {
   "cell_type": "code",
   "execution_count": 45,
   "metadata": {
    "scrolled": true
   },
   "outputs": [],
   "source": [
    "moscow_profit = data_mean.query('city == \"Москва\"')['mean_monthly_profit']\n",
    "other_profit = data_mean.query('city != \"Москва\"')['mean_monthly_profit']"
   ]
  },
  {
   "cell_type": "code",
   "execution_count": 46,
   "metadata": {
    "scrolled": false
   },
   "outputs": [
    {
     "name": "stdout",
     "output_type": "stream",
     "text": [
      "p-значение: 0.344\n",
      "Не получилось отвергнуть нулевую гипотезу\n"
     ]
    }
   ],
   "source": [
    "city_profit = st.ttest_ind(moscow_profit, other_profit, equal_var=False)\n",
    "alpha = 0.01\n",
    "\n",
    "print(f'p-значение: {city_profit.pvalue:.3f}')\n",
    "\n",
    "if (city_profit.pvalue < alpha):\n",
    "    print(\"Отвергаем нулевую гипотезу\")\n",
    "else:\n",
    "    print(\"Не получилось отвергнуть нулевую гипотезу\")"
   ]
  },
  {
   "cell_type": "markdown",
   "metadata": {},
   "source": [
    "- The null hypothesis cannot be rejected. "
   ]
  },
  {
   "cell_type": "code",
   "execution_count": 47,
   "metadata": {},
   "outputs": [],
   "source": [
    "def is_capital(value):\n",
    "    '''Определяет столицу'''\n",
    "    if value != 'Москва':\n",
    "        return 'Другой населенный пункт'\n",
    "    return value"
   ]
  },
  {
   "cell_type": "code",
   "execution_count": 48,
   "metadata": {},
   "outputs": [],
   "source": [
    "data_mean['city'] = data_mean['city'].apply(is_capital)"
   ]
  },
  {
   "cell_type": "code",
   "execution_count": 49,
   "metadata": {},
   "outputs": [
    {
     "data": {
      "text/html": [
       "<div>\n",
       "<style scoped>\n",
       "    .dataframe tbody tr th:only-of-type {\n",
       "        vertical-align: middle;\n",
       "    }\n",
       "\n",
       "    .dataframe tbody tr th {\n",
       "        vertical-align: top;\n",
       "    }\n",
       "\n",
       "    .dataframe thead th {\n",
       "        text-align: right;\n",
       "    }\n",
       "</style>\n",
       "<table border=\"1\" class=\"dataframe\">\n",
       "  <thead>\n",
       "    <tr style=\"text-align: right;\">\n",
       "      <th></th>\n",
       "      <th>median_profit_per_user</th>\n",
       "    </tr>\n",
       "    <tr>\n",
       "      <th>city</th>\n",
       "      <th></th>\n",
       "    </tr>\n",
       "  </thead>\n",
       "  <tbody>\n",
       "    <tr>\n",
       "      <td>Другой населенный пункт</td>\n",
       "      <td>1,619</td>\n",
       "    </tr>\n",
       "    <tr>\n",
       "      <td>Москва</td>\n",
       "      <td>1,601</td>\n",
       "    </tr>\n",
       "  </tbody>\n",
       "</table>\n",
       "</div>"
      ],
      "text/plain": [
       "                         median_profit_per_user\n",
       "city                                           \n",
       "Другой населенный пункт                   1,619\n",
       "Москва                                    1,601"
      ]
     },
     "execution_count": 49,
     "metadata": {},
     "output_type": "execute_result"
    }
   ],
   "source": [
    "data_mean.groupby('city').agg(median_profit_per_user=('mean_monthly_profit', 'median'))"
   ]
  },
  {
   "cell_type": "code",
   "execution_count": 50,
   "metadata": {},
   "outputs": [
    {
     "data": {
      "text/plain": [
       "Text(0.5, 0, 'Населенный пункт')"
      ]
     },
     "execution_count": 50,
     "metadata": {},
     "output_type": "execute_result"
    },
    {
     "data": {
      "image/png": "[encoded data removed]",
      "text/plain": [
       "<Figure size 432x288 with 1 Axes>"
      ]
     },
     "metadata": {
      "needs_background": "light"
     },
     "output_type": "display_data"
    }
   ],
   "source": [
    "sns.boxplot(data=data_mean, x='city', y='mean_monthly_profit', palette='summer')\n",
    "plt.title('Зависимость средних доходов с пользователей от их места жительства')\n",
    "plt.ylabel('Средние доходы (в рублях)')\n",
    "plt.xlabel('Населенный пункт')"
   ]
  },
  {
   "cell_type": "markdown",
   "metadata": {},
   "source": []
  }
 ],
 "metadata": {
  "ExecuteTimeLog": [
   {
    "duration": 1068,
    "start_time": "2022-01-28T10:48:20.388Z"
   },
   {
    "duration": 31,
    "start_time": "2022-01-28T10:53:49.597Z"
   },
   {
    "duration": 16,
    "start_time": "2022-01-28T10:53:57.811Z"
   },
   {
    "duration": 22,
    "start_time": "2022-01-28T10:57:16.309Z"
   },
   {
    "duration": 982,
    "start_time": "2022-01-28T11:00:46.358Z"
   },
   {
    "duration": 30,
    "start_time": "2022-01-28T11:00:51.094Z"
   },
   {
    "duration": 126,
    "start_time": "2022-01-28T11:00:54.490Z"
   },
   {
    "duration": 75,
    "start_time": "2022-01-28T11:00:55.575Z"
   },
   {
    "duration": 115,
    "start_time": "2022-01-28T11:00:56.470Z"
   },
   {
    "duration": 289,
    "start_time": "2022-01-28T11:01:50.677Z"
   },
   {
    "duration": 271,
    "start_time": "2022-01-28T11:02:28.184Z"
   },
   {
    "duration": 14,
    "start_time": "2022-01-28T11:03:12.121Z"
   },
   {
    "duration": 10,
    "start_time": "2022-01-28T11:03:44.409Z"
   },
   {
    "duration": 12,
    "start_time": "2022-01-28T11:04:16.760Z"
   },
   {
    "duration": 10,
    "start_time": "2022-01-28T11:07:00.506Z"
   },
   {
    "duration": 9,
    "start_time": "2022-01-28T11:07:12.634Z"
   },
   {
    "duration": 14,
    "start_time": "2022-01-28T11:07:22.569Z"
   },
   {
    "duration": 1058,
    "start_time": "2022-01-28T11:07:58.779Z"
   },
   {
    "duration": 21,
    "start_time": "2022-01-28T11:08:00.700Z"
   },
   {
    "duration": 142,
    "start_time": "2022-01-28T11:08:01.483Z"
   },
   {
    "duration": 76,
    "start_time": "2022-01-28T11:08:02.380Z"
   },
   {
    "duration": 116,
    "start_time": "2022-01-28T11:08:04.172Z"
   },
   {
    "duration": 15,
    "start_time": "2022-01-28T11:08:05.165Z"
   },
   {
    "duration": 4,
    "start_time": "2022-01-28T11:09:48.799Z"
   },
   {
    "duration": 9,
    "start_time": "2022-01-28T11:10:22.509Z"
   },
   {
    "duration": 11,
    "start_time": "2022-01-28T11:10:31.789Z"
   },
   {
    "duration": 10,
    "start_time": "2022-01-28T11:11:01.998Z"
   },
   {
    "duration": 9,
    "start_time": "2022-01-28T11:11:19.564Z"
   },
   {
    "duration": 11,
    "start_time": "2022-01-28T11:11:27.456Z"
   },
   {
    "duration": 314,
    "start_time": "2022-01-28T11:16:01.513Z"
   },
   {
    "duration": 41,
    "start_time": "2022-01-28T11:18:37.983Z"
   },
   {
    "duration": 16,
    "start_time": "2022-01-28T11:18:43.231Z"
   },
   {
    "duration": 1030,
    "start_time": "2022-01-28T11:20:35.504Z"
   },
   {
    "duration": 29,
    "start_time": "2022-01-28T11:20:37.840Z"
   },
   {
    "duration": 137,
    "start_time": "2022-01-28T11:20:38.576Z"
   },
   {
    "duration": 83,
    "start_time": "2022-01-28T11:20:39.295Z"
   },
   {
    "duration": 115,
    "start_time": "2022-01-28T11:20:39.998Z"
   },
   {
    "duration": 6,
    "start_time": "2022-01-28T11:20:40.992Z"
   },
   {
    "duration": 8,
    "start_time": "2022-01-28T11:20:43.103Z"
   },
   {
    "duration": 40,
    "start_time": "2022-01-28T11:20:44.928Z"
   },
   {
    "duration": 17,
    "start_time": "2022-01-28T11:20:46.545Z"
   },
   {
    "duration": 21,
    "start_time": "2022-01-28T11:21:07.568Z"
   },
   {
    "duration": 36,
    "start_time": "2022-01-28T11:21:15.821Z"
   },
   {
    "duration": 16,
    "start_time": "2022-01-28T11:21:16.580Z"
   },
   {
    "duration": 1135,
    "start_time": "2022-01-28T11:21:41.009Z"
   },
   {
    "duration": 22,
    "start_time": "2022-01-28T11:21:42.145Z"
   },
   {
    "duration": 137,
    "start_time": "2022-01-28T11:21:42.169Z"
   },
   {
    "duration": 82,
    "start_time": "2022-01-28T11:21:42.308Z"
   },
   {
    "duration": 124,
    "start_time": "2022-01-28T11:21:42.392Z"
   },
   {
    "duration": 5,
    "start_time": "2022-01-28T11:21:42.517Z"
   },
   {
    "duration": 8,
    "start_time": "2022-01-28T11:21:42.524Z"
   },
   {
    "duration": 39,
    "start_time": "2022-01-28T11:21:42.534Z"
   },
   {
    "duration": 17,
    "start_time": "2022-01-28T11:21:42.574Z"
   },
   {
    "duration": 1342,
    "start_time": "2022-01-28T11:23:12.208Z"
   },
   {
    "duration": 23,
    "start_time": "2022-01-28T11:23:14.501Z"
   },
   {
    "duration": 144,
    "start_time": "2022-01-28T11:23:15.330Z"
   },
   {
    "duration": 380,
    "start_time": "2022-01-28T11:23:16.367Z"
   },
   {
    "duration": 126,
    "start_time": "2022-01-28T11:23:17.168Z"
   },
   {
    "duration": 6,
    "start_time": "2022-01-28T11:23:18.019Z"
   },
   {
    "duration": 9,
    "start_time": "2022-01-28T11:23:19.193Z"
   },
   {
    "duration": 46,
    "start_time": "2022-01-28T11:23:20.644Z"
   },
   {
    "duration": 373,
    "start_time": "2022-01-28T11:23:21.568Z"
   },
   {
    "duration": 19,
    "start_time": "2022-01-28T11:23:47.347Z"
   },
   {
    "duration": 131,
    "start_time": "2022-01-28T11:26:16.541Z"
   },
   {
    "duration": 17,
    "start_time": "2022-01-28T11:26:21.528Z"
   },
   {
    "duration": 1091,
    "start_time": "2022-01-28T11:26:58.478Z"
   },
   {
    "duration": 22,
    "start_time": "2022-01-28T11:26:59.636Z"
   },
   {
    "duration": 139,
    "start_time": "2022-01-28T11:27:00.374Z"
   },
   {
    "duration": 81,
    "start_time": "2022-01-28T11:27:00.983Z"
   },
   {
    "duration": 133,
    "start_time": "2022-01-28T11:27:01.595Z"
   },
   {
    "duration": 7,
    "start_time": "2022-01-28T11:27:02.534Z"
   },
   {
    "duration": 10,
    "start_time": "2022-01-28T11:27:03.543Z"
   },
   {
    "duration": 42,
    "start_time": "2022-01-28T11:27:05.352Z"
   },
   {
    "duration": 76,
    "start_time": "2022-01-28T11:27:21.126Z"
   },
   {
    "duration": 17,
    "start_time": "2022-01-28T11:27:21.694Z"
   },
   {
    "duration": 11,
    "start_time": "2022-01-28T11:28:38.841Z"
   },
   {
    "duration": 15,
    "start_time": "2022-01-28T11:28:53.479Z"
   },
   {
    "duration": 489,
    "start_time": "2022-01-28T11:29:34.840Z"
   },
   {
    "duration": 23,
    "start_time": "2022-01-28T11:30:21.177Z"
   },
   {
    "duration": 23,
    "start_time": "2022-01-28T11:30:28.711Z"
   },
   {
    "duration": 1092,
    "start_time": "2022-01-28T11:31:09.474Z"
   },
   {
    "duration": 24,
    "start_time": "2022-01-28T11:31:11.408Z"
   },
   {
    "duration": 147,
    "start_time": "2022-01-28T11:31:12.048Z"
   },
   {
    "duration": 88,
    "start_time": "2022-01-28T11:31:12.969Z"
   },
   {
    "duration": 130,
    "start_time": "2022-01-28T11:31:13.149Z"
   },
   {
    "duration": 6,
    "start_time": "2022-01-28T11:31:13.851Z"
   },
   {
    "duration": 9,
    "start_time": "2022-01-28T11:31:14.593Z"
   },
   {
    "duration": 43,
    "start_time": "2022-01-28T11:31:15.249Z"
   },
   {
    "duration": 81,
    "start_time": "2022-01-28T11:31:18.017Z"
   },
   {
    "duration": 40,
    "start_time": "2022-01-28T11:31:46.419Z"
   },
   {
    "duration": 23,
    "start_time": "2022-01-28T11:31:50.881Z"
   },
   {
    "duration": 1086,
    "start_time": "2022-01-28T11:32:23.173Z"
   },
   {
    "duration": 22,
    "start_time": "2022-01-28T11:32:24.261Z"
   },
   {
    "duration": 140,
    "start_time": "2022-01-28T11:32:24.286Z"
   },
   {
    "duration": 91,
    "start_time": "2022-01-28T11:32:24.428Z"
   },
   {
    "duration": 129,
    "start_time": "2022-01-28T11:32:24.521Z"
   },
   {
    "duration": 7,
    "start_time": "2022-01-28T11:32:24.652Z"
   },
   {
    "duration": 12,
    "start_time": "2022-01-28T11:32:24.661Z"
   },
   {
    "duration": 65,
    "start_time": "2022-01-28T11:32:24.676Z"
   },
   {
    "duration": 97,
    "start_time": "2022-01-28T11:32:24.744Z"
   },
   {
    "duration": 15,
    "start_time": "2022-01-28T11:32:24.843Z"
   },
   {
    "duration": 343,
    "start_time": "2022-01-28T11:32:24.860Z"
   },
   {
    "duration": -26,
    "start_time": "2022-01-28T11:32:25.231Z"
   },
   {
    "duration": 237,
    "start_time": "2022-01-28T11:33:51.842Z"
   },
   {
    "duration": 1067,
    "start_time": "2022-01-28T11:33:55.090Z"
   },
   {
    "duration": 23,
    "start_time": "2022-01-28T11:33:56.559Z"
   },
   {
    "duration": 144,
    "start_time": "2022-01-28T11:33:57.169Z"
   },
   {
    "duration": 244,
    "start_time": "2022-01-28T11:33:57.776Z"
   },
   {
    "duration": 120,
    "start_time": "2022-01-28T11:33:58.370Z"
   },
   {
    "duration": 6,
    "start_time": "2022-01-28T11:33:59.197Z"
   },
   {
    "duration": 9,
    "start_time": "2022-01-28T11:34:00.065Z"
   },
   {
    "duration": 42,
    "start_time": "2022-01-28T11:34:00.786Z"
   },
   {
    "duration": 71,
    "start_time": "2022-01-28T11:34:01.440Z"
   },
   {
    "duration": 12,
    "start_time": "2022-01-28T11:34:02.193Z"
   },
   {
    "duration": 16,
    "start_time": "2022-01-28T11:34:03.362Z"
   },
   {
    "duration": 47,
    "start_time": "2022-01-28T11:34:19.729Z"
   },
   {
    "duration": 22,
    "start_time": "2022-01-28T11:34:24.803Z"
   },
   {
    "duration": 1083,
    "start_time": "2022-01-28T11:35:05.235Z"
   },
   {
    "duration": 23,
    "start_time": "2022-01-28T11:35:07.058Z"
   },
   {
    "duration": 137,
    "start_time": "2022-01-28T11:35:07.988Z"
   },
   {
    "duration": 79,
    "start_time": "2022-01-28T11:35:08.964Z"
   },
   {
    "duration": 117,
    "start_time": "2022-01-28T11:35:09.812Z"
   },
   {
    "duration": 6,
    "start_time": "2022-01-28T11:35:11.508Z"
   },
   {
    "duration": 8,
    "start_time": "2022-01-28T11:35:13.462Z"
   },
   {
    "duration": 17,
    "start_time": "2022-01-28T11:35:56.404Z"
   },
   {
    "duration": 48,
    "start_time": "2022-01-28T11:36:13.077Z"
   },
   {
    "duration": 104,
    "start_time": "2022-01-28T11:36:18.551Z"
   },
   {
    "duration": 54,
    "start_time": "2022-01-28T11:37:13.218Z"
   },
   {
    "duration": 60,
    "start_time": "2022-01-28T11:37:15.595Z"
   },
   {
    "duration": 314,
    "start_time": "2022-01-28T11:38:04.340Z"
   },
   {
    "duration": 1059,
    "start_time": "2022-01-28T11:38:44.478Z"
   },
   {
    "duration": 23,
    "start_time": "2022-01-28T11:38:45.753Z"
   },
   {
    "duration": 138,
    "start_time": "2022-01-28T11:38:46.519Z"
   },
   {
    "duration": 238,
    "start_time": "2022-01-28T11:38:47.206Z"
   },
   {
    "duration": 127,
    "start_time": "2022-01-28T11:38:48.279Z"
   },
   {
    "duration": 6,
    "start_time": "2022-01-28T11:38:48.960Z"
   },
   {
    "duration": 8,
    "start_time": "2022-01-28T11:38:51.000Z"
   },
   {
    "duration": 335,
    "start_time": "2022-01-28T11:39:19.451Z"
   },
   {
    "duration": 209,
    "start_time": "2022-01-28T11:39:31.494Z"
   },
   {
    "duration": 231,
    "start_time": "2022-01-28T11:39:44.572Z"
   },
   {
    "duration": 43,
    "start_time": "2022-01-28T11:40:05.673Z"
   },
   {
    "duration": 116,
    "start_time": "2022-01-28T11:40:10.535Z"
   },
   {
    "duration": 1091,
    "start_time": "2022-01-28T11:40:39.830Z"
   },
   {
    "duration": 22,
    "start_time": "2022-01-28T11:40:41.698Z"
   },
   {
    "duration": 147,
    "start_time": "2022-01-28T11:40:42.963Z"
   },
   {
    "duration": 86,
    "start_time": "2022-01-28T11:40:44.038Z"
   },
   {
    "duration": 117,
    "start_time": "2022-01-28T11:40:48.194Z"
   },
   {
    "duration": 6,
    "start_time": "2022-01-28T11:40:49.907Z"
   },
   {
    "duration": 9,
    "start_time": "2022-01-28T11:40:51.314Z"
   },
   {
    "duration": 8,
    "start_time": "2022-01-28T11:41:24.942Z"
   },
   {
    "duration": 17,
    "start_time": "2022-01-28T11:42:04.498Z"
   },
   {
    "duration": 21,
    "start_time": "2022-01-28T11:42:05.618Z"
   },
   {
    "duration": 15,
    "start_time": "2022-01-28T11:42:08.834Z"
   },
   {
    "duration": 279,
    "start_time": "2022-01-28T12:00:46.234Z"
   },
   {
    "duration": 242,
    "start_time": "2022-01-28T12:01:27.621Z"
   },
   {
    "duration": 44,
    "start_time": "2022-01-28T12:04:08.884Z"
   },
   {
    "duration": 34,
    "start_time": "2022-01-28T12:04:11.139Z"
   },
   {
    "duration": 27,
    "start_time": "2022-01-28T12:04:13.715Z"
   },
   {
    "duration": 85,
    "start_time": "2022-01-28T12:04:38.148Z"
   },
   {
    "duration": 109,
    "start_time": "2022-01-28T12:04:43.396Z"
   },
   {
    "duration": 57,
    "start_time": "2022-01-28T12:04:45.556Z"
   },
   {
    "duration": 1133,
    "start_time": "2022-01-28T12:15:54.734Z"
   },
   {
    "duration": 22,
    "start_time": "2022-01-28T12:15:56.430Z"
   },
   {
    "duration": 1120,
    "start_time": "2022-01-28T12:16:09.261Z"
   },
   {
    "duration": 22,
    "start_time": "2022-01-28T12:16:12.254Z"
   },
   {
    "duration": 152,
    "start_time": "2022-01-28T12:16:13.163Z"
   },
   {
    "duration": 91,
    "start_time": "2022-01-28T12:16:13.980Z"
   },
   {
    "duration": 126,
    "start_time": "2022-01-28T12:16:14.732Z"
   },
   {
    "duration": 46,
    "start_time": "2022-01-28T12:18:34.555Z"
   },
   {
    "duration": 53,
    "start_time": "2022-01-28T12:19:54.688Z"
   },
   {
    "duration": 47,
    "start_time": "2022-01-28T12:20:08.335Z"
   },
   {
    "duration": 46,
    "start_time": "2022-01-28T12:20:36.931Z"
   },
   {
    "duration": 48,
    "start_time": "2022-01-28T12:21:02.228Z"
   },
   {
    "duration": 55,
    "start_time": "2022-01-28T12:21:11.101Z"
   },
   {
    "duration": 54,
    "start_time": "2022-01-28T12:21:24.397Z"
   },
   {
    "duration": 57,
    "start_time": "2022-01-28T12:21:37.617Z"
   },
   {
    "duration": 54,
    "start_time": "2022-01-28T12:21:55.097Z"
   },
   {
    "duration": 55,
    "start_time": "2022-01-28T12:22:23.212Z"
   },
   {
    "duration": 46,
    "start_time": "2022-01-28T12:22:30.225Z"
   },
   {
    "duration": 46,
    "start_time": "2022-01-28T12:22:54.737Z"
   },
   {
    "duration": 59,
    "start_time": "2022-01-28T12:23:28.518Z"
   },
   {
    "duration": 62,
    "start_time": "2022-01-28T12:23:39.988Z"
   },
   {
    "duration": 68,
    "start_time": "2022-01-28T12:23:54.484Z"
   },
   {
    "duration": 53,
    "start_time": "2022-01-28T12:24:19.600Z"
   },
   {
    "duration": 51,
    "start_time": "2022-01-28T12:29:21.313Z"
   },
   {
    "duration": 1106,
    "start_time": "2022-01-28T12:29:58.560Z"
   },
   {
    "duration": 23,
    "start_time": "2022-01-28T12:30:00.412Z"
   },
   {
    "duration": 149,
    "start_time": "2022-01-28T12:30:00.990Z"
   },
   {
    "duration": 86,
    "start_time": "2022-01-28T12:30:01.600Z"
   },
   {
    "duration": 123,
    "start_time": "2022-01-28T12:30:02.630Z"
   },
   {
    "duration": 71,
    "start_time": "2022-01-28T12:30:25.777Z"
   },
   {
    "duration": 292,
    "start_time": "2022-01-28T12:30:49.135Z"
   },
   {
    "duration": 65,
    "start_time": "2022-01-28T12:31:57.121Z"
   },
   {
    "duration": 52,
    "start_time": "2022-01-28T12:33:15.181Z"
   },
   {
    "duration": 46,
    "start_time": "2022-01-28T12:33:57.041Z"
   },
   {
    "duration": 1171,
    "start_time": "2022-01-28T12:34:23.725Z"
   },
   {
    "duration": 24,
    "start_time": "2022-01-28T12:34:25.340Z"
   },
   {
    "duration": 149,
    "start_time": "2022-01-28T12:34:25.863Z"
   },
   {
    "duration": 82,
    "start_time": "2022-01-28T12:34:26.620Z"
   },
   {
    "duration": 125,
    "start_time": "2022-01-28T12:34:27.293Z"
   },
   {
    "duration": 45,
    "start_time": "2022-01-28T12:34:37.101Z"
   },
   {
    "duration": 3,
    "start_time": "2022-01-28T12:40:47.584Z"
   },
   {
    "duration": 6,
    "start_time": "2022-01-28T12:41:01.184Z"
   },
   {
    "duration": 3,
    "start_time": "2022-01-28T13:13:36.247Z"
   },
   {
    "duration": 7,
    "start_time": "2022-01-28T13:13:37.558Z"
   },
   {
    "duration": 12,
    "start_time": "2022-01-28T13:14:18.369Z"
   },
   {
    "duration": 83,
    "start_time": "2022-01-28T13:14:22.737Z"
   },
   {
    "duration": 19,
    "start_time": "2022-01-28T13:14:35.589Z"
   },
   {
    "duration": 129,
    "start_time": "2022-01-28T13:15:11.431Z"
   },
   {
    "duration": 1040,
    "start_time": "2022-01-28T13:15:45.611Z"
   },
   {
    "duration": 29,
    "start_time": "2022-01-28T13:15:48.170Z"
   },
   {
    "duration": 136,
    "start_time": "2022-01-28T13:15:49.225Z"
   },
   {
    "duration": 81,
    "start_time": "2022-01-28T13:15:49.946Z"
   },
   {
    "duration": 134,
    "start_time": "2022-01-28T13:15:51.401Z"
   },
   {
    "duration": 54,
    "start_time": "2022-01-28T13:15:52.408Z"
   },
   {
    "duration": 1039,
    "start_time": "2022-01-28T13:22:11.726Z"
   },
   {
    "duration": 31,
    "start_time": "2022-01-28T13:22:14.796Z"
   },
   {
    "duration": 150,
    "start_time": "2022-01-28T13:22:15.722Z"
   },
   {
    "duration": 84,
    "start_time": "2022-01-28T13:22:16.490Z"
   },
   {
    "duration": 129,
    "start_time": "2022-01-28T13:22:17.211Z"
   },
   {
    "duration": 48,
    "start_time": "2022-01-28T13:22:18.186Z"
   },
   {
    "duration": 57,
    "start_time": "2022-01-28T13:24:07.934Z"
   },
   {
    "duration": 54,
    "start_time": "2022-01-28T13:24:21.309Z"
   },
   {
    "duration": 50,
    "start_time": "2022-01-28T13:24:36.027Z"
   },
   {
    "duration": 1039,
    "start_time": "2022-01-28T13:24:47.069Z"
   },
   {
    "duration": 22,
    "start_time": "2022-01-28T13:24:48.743Z"
   },
   {
    "duration": 145,
    "start_time": "2022-01-28T13:24:49.340Z"
   },
   {
    "duration": 80,
    "start_time": "2022-01-28T13:24:49.916Z"
   },
   {
    "duration": 130,
    "start_time": "2022-01-28T13:24:50.555Z"
   },
   {
    "duration": 54,
    "start_time": "2022-01-28T13:24:51.207Z"
   },
   {
    "duration": 54,
    "start_time": "2022-01-28T13:24:56.669Z"
   },
   {
    "duration": 79,
    "start_time": "2022-01-28T13:25:07.691Z"
   },
   {
    "duration": 1165,
    "start_time": "2022-01-28T13:25:39.001Z"
   },
   {
    "duration": 22,
    "start_time": "2022-01-28T13:25:40.968Z"
   },
   {
    "duration": 143,
    "start_time": "2022-01-28T13:25:41.672Z"
   },
   {
    "duration": 80,
    "start_time": "2022-01-28T13:25:42.327Z"
   },
   {
    "duration": 131,
    "start_time": "2022-01-28T13:25:42.921Z"
   },
   {
    "duration": 47,
    "start_time": "2022-01-28T13:25:43.721Z"
   },
   {
    "duration": 76,
    "start_time": "2022-01-28T13:25:45.514Z"
   },
   {
    "duration": 26,
    "start_time": "2022-01-28T13:27:25.449Z"
   },
   {
    "duration": 216,
    "start_time": "2022-01-28T13:27:29.822Z"
   },
   {
    "duration": 986,
    "start_time": "2022-01-28T14:02:38.756Z"
   },
   {
    "duration": 28,
    "start_time": "2022-01-28T14:02:41.539Z"
   },
   {
    "duration": 137,
    "start_time": "2022-01-28T14:02:42.148Z"
   },
   {
    "duration": 78,
    "start_time": "2022-01-28T14:02:42.773Z"
   },
   {
    "duration": 116,
    "start_time": "2022-01-28T14:02:43.776Z"
   },
   {
    "duration": 278,
    "start_time": "2022-01-28T14:02:57.599Z"
   },
   {
    "duration": 3,
    "start_time": "2022-01-28T14:03:10.053Z"
   },
   {
    "duration": 4,
    "start_time": "2022-01-28T14:03:20.614Z"
   },
   {
    "duration": 1006,
    "start_time": "2022-01-28T15:03:56.243Z"
   },
   {
    "duration": 31,
    "start_time": "2022-01-28T15:03:58.004Z"
   },
   {
    "duration": 148,
    "start_time": "2022-01-28T15:03:58.758Z"
   },
   {
    "duration": 85,
    "start_time": "2022-01-28T15:04:00.133Z"
   },
   {
    "duration": 117,
    "start_time": "2022-01-28T15:04:01.172Z"
   },
   {
    "duration": 3,
    "start_time": "2022-01-28T15:04:02.326Z"
   },
   {
    "duration": 43,
    "start_time": "2022-01-28T15:04:10.258Z"
   },
   {
    "duration": 44,
    "start_time": "2022-01-28T15:04:27.605Z"
   },
   {
    "duration": 1063,
    "start_time": "2022-01-28T15:21:10.886Z"
   },
   {
    "duration": 30,
    "start_time": "2022-01-28T15:21:13.158Z"
   },
   {
    "duration": 132,
    "start_time": "2022-01-28T15:21:13.767Z"
   },
   {
    "duration": 77,
    "start_time": "2022-01-28T15:21:14.501Z"
   },
   {
    "duration": 117,
    "start_time": "2022-01-28T15:21:15.302Z"
   },
   {
    "duration": 3,
    "start_time": "2022-01-28T15:21:16.198Z"
   },
   {
    "duration": 42,
    "start_time": "2022-01-28T15:21:42.280Z"
   },
   {
    "duration": 74,
    "start_time": "2022-01-28T15:21:58.989Z"
   },
   {
    "duration": 1057,
    "start_time": "2022-01-28T15:44:51.487Z"
   },
   {
    "duration": 22,
    "start_time": "2022-01-28T15:44:53.966Z"
   },
   {
    "duration": 139,
    "start_time": "2022-01-28T15:44:54.668Z"
   },
   {
    "duration": 78,
    "start_time": "2022-01-28T15:44:55.310Z"
   },
   {
    "duration": 127,
    "start_time": "2022-01-28T15:44:56.541Z"
   },
   {
    "duration": 4,
    "start_time": "2022-01-28T15:44:57.309Z"
   },
   {
    "duration": 49,
    "start_time": "2022-01-28T15:44:58.332Z"
   },
   {
    "duration": 15,
    "start_time": "2022-01-28T15:45:19.420Z"
   },
   {
    "duration": 12,
    "start_time": "2022-01-28T15:48:45.613Z"
   },
   {
    "duration": 9,
    "start_time": "2022-01-28T15:53:04.286Z"
   },
   {
    "duration": 984,
    "start_time": "2022-01-28T15:55:51.567Z"
   },
   {
    "duration": 23,
    "start_time": "2022-01-28T15:55:54.337Z"
   },
   {
    "duration": 139,
    "start_time": "2022-01-28T15:55:55.214Z"
   },
   {
    "duration": 78,
    "start_time": "2022-01-28T15:55:56.001Z"
   },
   {
    "duration": 127,
    "start_time": "2022-01-28T15:55:56.977Z"
   },
   {
    "duration": 13,
    "start_time": "2022-01-28T15:55:57.999Z"
   },
   {
    "duration": 4,
    "start_time": "2022-01-28T15:56:28.256Z"
   },
   {
    "duration": 47,
    "start_time": "2022-01-28T15:56:41.680Z"
   },
   {
    "duration": 15,
    "start_time": "2022-01-28T15:57:49.922Z"
   },
   {
    "duration": 8,
    "start_time": "2022-01-28T15:59:20.499Z"
   },
   {
    "duration": 4,
    "start_time": "2022-01-28T16:01:27.280Z"
   },
   {
    "duration": 4,
    "start_time": "2022-01-28T16:01:35.508Z"
   },
   {
    "duration": 7,
    "start_time": "2022-01-28T16:01:48.373Z"
   },
   {
    "duration": 4,
    "start_time": "2022-01-28T16:08:24.902Z"
   },
   {
    "duration": 24,
    "start_time": "2022-01-28T16:08:25.590Z"
   },
   {
    "duration": 6,
    "start_time": "2022-01-28T16:08:27.123Z"
   },
   {
    "duration": 5842,
    "start_time": "2022-01-28T16:08:27.990Z"
   },
   {
    "duration": 992,
    "start_time": "2022-01-28T16:10:17.862Z"
   },
   {
    "duration": 22,
    "start_time": "2022-01-28T16:10:20.217Z"
   },
   {
    "duration": 136,
    "start_time": "2022-01-28T16:10:20.825Z"
   },
   {
    "duration": 80,
    "start_time": "2022-01-28T16:10:21.496Z"
   },
   {
    "duration": 120,
    "start_time": "2022-01-28T16:10:22.118Z"
   },
   {
    "duration": 14,
    "start_time": "2022-01-28T16:10:22.761Z"
   },
   {
    "duration": 3,
    "start_time": "2022-01-28T16:10:23.398Z"
   },
   {
    "duration": 47,
    "start_time": "2022-01-28T16:10:24.169Z"
   },
   {
    "duration": 8,
    "start_time": "2022-01-28T16:12:56.951Z"
   },
   {
    "duration": 4,
    "start_time": "2022-01-28T16:12:59.943Z"
   },
   {
    "duration": 26,
    "start_time": "2022-01-28T16:13:00.794Z"
   },
   {
    "duration": 6,
    "start_time": "2022-01-28T16:13:01.498Z"
   },
   {
    "duration": 5,
    "start_time": "2022-01-28T16:13:02.248Z"
   },
   {
    "duration": 31,
    "start_time": "2022-01-28T16:13:05.900Z"
   },
   {
    "duration": 4,
    "start_time": "2022-01-28T16:13:06.761Z"
   },
   {
    "duration": 18,
    "start_time": "2022-01-28T16:13:08.135Z"
   },
   {
    "duration": 4,
    "start_time": "2022-01-28T16:13:09.911Z"
   },
   {
    "duration": 23,
    "start_time": "2022-01-28T16:13:10.569Z"
   },
   {
    "duration": 4,
    "start_time": "2022-01-28T16:13:12.058Z"
   },
   {
    "duration": 4,
    "start_time": "2022-01-28T16:13:17.996Z"
   },
   {
    "duration": 6,
    "start_time": "2022-01-28T16:13:19.289Z"
   },
   {
    "duration": 183,
    "start_time": "2022-01-28T16:13:22.880Z"
   },
   {
    "duration": 169,
    "start_time": "2022-01-28T16:13:45.820Z"
   },
   {
    "duration": 138,
    "start_time": "2022-01-28T16:14:01.165Z"
   },
   {
    "duration": 46,
    "start_time": "2022-01-28T16:14:54.524Z"
   },
   {
    "duration": 164,
    "start_time": "2022-01-28T16:15:43.009Z"
   },
   {
    "duration": 36,
    "start_time": "2022-01-28T16:16:04.768Z"
   },
   {
    "duration": 1075,
    "start_time": "2022-01-28T16:19:35.273Z"
   },
   {
    "duration": 23,
    "start_time": "2022-01-28T16:19:37.468Z"
   },
   {
    "duration": 139,
    "start_time": "2022-01-28T16:19:37.996Z"
   },
   {
    "duration": 79,
    "start_time": "2022-01-28T16:19:38.520Z"
   },
   {
    "duration": 118,
    "start_time": "2022-01-28T16:19:39.062Z"
   },
   {
    "duration": 14,
    "start_time": "2022-01-28T16:19:39.847Z"
   },
   {
    "duration": 3,
    "start_time": "2022-01-28T16:19:41.691Z"
   },
   {
    "duration": 48,
    "start_time": "2022-01-28T16:21:27.772Z"
   },
   {
    "duration": 8,
    "start_time": "2022-01-28T16:27:36.316Z"
   },
   {
    "duration": 4,
    "start_time": "2022-01-28T16:27:45.097Z"
   },
   {
    "duration": 29,
    "start_time": "2022-01-28T16:27:45.626Z"
   },
   {
    "duration": 6,
    "start_time": "2022-01-28T16:27:46.188Z"
   },
   {
    "duration": 4,
    "start_time": "2022-01-28T16:27:46.778Z"
   },
   {
    "duration": 31,
    "start_time": "2022-01-28T16:27:51.465Z"
   },
   {
    "duration": 4,
    "start_time": "2022-01-28T16:27:52.185Z"
   },
   {
    "duration": 19,
    "start_time": "2022-01-28T16:27:53.658Z"
   },
   {
    "duration": 4,
    "start_time": "2022-01-28T16:27:54.876Z"
   },
   {
    "duration": 23,
    "start_time": "2022-01-28T16:27:55.466Z"
   },
   {
    "duration": 4,
    "start_time": "2022-01-28T16:27:59.420Z"
   },
   {
    "duration": 4,
    "start_time": "2022-01-28T16:28:00.042Z"
   },
   {
    "duration": 6,
    "start_time": "2022-01-28T16:28:01.417Z"
   },
   {
    "duration": 66,
    "start_time": "2022-01-28T16:28:04.496Z"
   },
   {
    "duration": 543,
    "start_time": "2022-01-28T16:29:44.159Z"
   },
   {
    "duration": 596,
    "start_time": "2022-01-28T16:30:17.678Z"
   },
   {
    "duration": 267,
    "start_time": "2022-01-28T16:30:35.452Z"
   },
   {
    "duration": 178,
    "start_time": "2022-01-28T16:31:08.493Z"
   },
   {
    "duration": 2,
    "start_time": "2022-01-28T17:01:25.493Z"
   },
   {
    "duration": 35,
    "start_time": "2022-01-28T17:03:38.399Z"
   },
   {
    "duration": 196,
    "start_time": "2022-01-28T17:05:27.459Z"
   },
   {
    "duration": 226,
    "start_time": "2022-01-28T17:09:40.046Z"
   },
   {
    "duration": 1472,
    "start_time": "2022-02-01T11:00:16.762Z"
   },
   {
    "duration": 33,
    "start_time": "2022-02-01T11:00:19.865Z"
   },
   {
    "duration": 226,
    "start_time": "2022-02-01T11:00:20.330Z"
   },
   {
    "duration": 118,
    "start_time": "2022-02-01T11:00:20.803Z"
   },
   {
    "duration": 186,
    "start_time": "2022-02-01T11:00:21.232Z"
   },
   {
    "duration": 20,
    "start_time": "2022-02-01T11:00:21.824Z"
   },
   {
    "duration": 5,
    "start_time": "2022-02-01T11:00:22.326Z"
   },
   {
    "duration": 70,
    "start_time": "2022-02-01T11:00:24.578Z"
   },
   {
    "duration": 16,
    "start_time": "2022-02-01T11:00:28.337Z"
   },
   {
    "duration": 4,
    "start_time": "2022-02-01T11:00:30.193Z"
   },
   {
    "duration": 1395,
    "start_time": "2022-02-01T11:00:30.769Z"
   },
   {
    "duration": 8,
    "start_time": "2022-02-01T11:03:11.462Z"
   },
   {
    "duration": 13,
    "start_time": "2022-02-01T11:04:37.985Z"
   },
   {
    "duration": 10,
    "start_time": "2022-02-01T11:05:05.269Z"
   },
   {
    "duration": 48,
    "start_time": "2022-02-01T11:05:17.239Z"
   },
   {
    "duration": 1472,
    "start_time": "2022-02-01T11:16:46.732Z"
   },
   {
    "duration": 32,
    "start_time": "2022-02-01T11:16:48.207Z"
   },
   {
    "duration": 194,
    "start_time": "2022-02-01T11:16:48.242Z"
   },
   {
    "duration": 112,
    "start_time": "2022-02-01T11:16:48.440Z"
   },
   {
    "duration": 169,
    "start_time": "2022-02-01T11:16:48.555Z"
   },
   {
    "duration": 19,
    "start_time": "2022-02-01T11:16:48.726Z"
   },
   {
    "duration": 20,
    "start_time": "2022-02-01T11:16:48.748Z"
   },
   {
    "duration": 79,
    "start_time": "2022-02-01T11:16:48.772Z"
   },
   {
    "duration": 12,
    "start_time": "2022-02-01T11:16:48.855Z"
   },
   {
    "duration": 6,
    "start_time": "2022-02-01T11:16:48.871Z"
   },
   {
    "duration": 20,
    "start_time": "2022-02-01T11:16:48.879Z"
   },
   {
    "duration": 7,
    "start_time": "2022-02-01T11:16:48.902Z"
   },
   {
    "duration": 42,
    "start_time": "2022-02-01T11:16:48.911Z"
   },
   {
    "duration": 6,
    "start_time": "2022-02-01T11:16:48.956Z"
   },
   {
    "duration": 123,
    "start_time": "2022-02-01T11:16:48.964Z"
   },
   {
    "duration": 4,
    "start_time": "2022-02-01T11:16:49.090Z"
   },
   {
    "duration": 11,
    "start_time": "2022-02-01T11:16:49.097Z"
   },
   {
    "duration": 56,
    "start_time": "2022-02-01T11:16:49.111Z"
   },
   {
    "duration": 1494,
    "start_time": "2022-02-01T11:18:17.313Z"
   },
   {
    "duration": 33,
    "start_time": "2022-02-01T11:18:18.809Z"
   },
   {
    "duration": 258,
    "start_time": "2022-02-01T11:18:18.845Z"
   },
   {
    "duration": 120,
    "start_time": "2022-02-01T11:18:19.105Z"
   },
   {
    "duration": 168,
    "start_time": "2022-02-01T11:18:19.228Z"
   },
   {
    "duration": 19,
    "start_time": "2022-02-01T11:18:19.398Z"
   },
   {
    "duration": 9,
    "start_time": "2022-02-01T11:18:19.419Z"
   },
   {
    "duration": 75,
    "start_time": "2022-02-01T11:18:19.432Z"
   },
   {
    "duration": 11,
    "start_time": "2022-02-01T11:18:19.510Z"
   },
   {
    "duration": 24,
    "start_time": "2022-02-01T11:18:19.524Z"
   },
   {
    "duration": 10,
    "start_time": "2022-02-01T11:18:19.551Z"
   },
   {
    "duration": 8,
    "start_time": "2022-02-01T11:18:19.563Z"
   },
   {
    "duration": 14,
    "start_time": "2022-02-01T11:18:19.573Z"
   },
   {
    "duration": 5,
    "start_time": "2022-02-01T11:18:19.590Z"
   },
   {
    "duration": 132,
    "start_time": "2022-02-01T11:18:19.598Z"
   },
   {
    "duration": 15,
    "start_time": "2022-02-01T11:18:19.733Z"
   },
   {
    "duration": 11,
    "start_time": "2022-02-01T11:18:19.751Z"
   },
   {
    "duration": 36,
    "start_time": "2022-02-01T11:18:19.764Z"
   },
   {
    "duration": 349,
    "start_time": "2022-02-01T11:18:19.803Z"
   },
   {
    "duration": 288,
    "start_time": "2022-02-01T11:18:56.870Z"
   },
   {
    "duration": 250,
    "start_time": "2022-02-01T11:19:02.698Z"
   },
   {
    "duration": 1495,
    "start_time": "2022-02-01T11:19:12.313Z"
   },
   {
    "duration": 32,
    "start_time": "2022-02-01T11:19:13.811Z"
   },
   {
    "duration": 191,
    "start_time": "2022-02-01T11:19:13.846Z"
   },
   {
    "duration": 111,
    "start_time": "2022-02-01T11:19:14.041Z"
   },
   {
    "duration": 189,
    "start_time": "2022-02-01T11:19:14.155Z"
   },
   {
    "duration": 19,
    "start_time": "2022-02-01T11:19:14.346Z"
   },
   {
    "duration": 14,
    "start_time": "2022-02-01T11:19:14.368Z"
   },
   {
    "duration": 74,
    "start_time": "2022-02-01T11:19:14.386Z"
   },
   {
    "duration": 12,
    "start_time": "2022-02-01T11:19:14.463Z"
   },
   {
    "duration": 14,
    "start_time": "2022-02-01T11:19:14.478Z"
   },
   {
    "duration": 10,
    "start_time": "2022-02-01T11:19:14.495Z"
   },
   {
    "duration": 4,
    "start_time": "2022-02-01T11:19:14.507Z"
   },
   {
    "duration": 37,
    "start_time": "2022-02-01T11:19:14.513Z"
   },
   {
    "duration": 4,
    "start_time": "2022-02-01T11:19:14.553Z"
   },
   {
    "duration": 114,
    "start_time": "2022-02-01T11:19:14.559Z"
   },
   {
    "duration": 4,
    "start_time": "2022-02-01T11:19:14.676Z"
   },
   {
    "duration": 12,
    "start_time": "2022-02-01T11:19:14.683Z"
   },
   {
    "duration": 61,
    "start_time": "2022-02-01T11:19:14.697Z"
   },
   {
    "duration": 311,
    "start_time": "2022-02-01T11:19:14.760Z"
   },
   {
    "duration": 103,
    "start_time": "2022-02-01T11:20:15.078Z"
   },
   {
    "duration": 103,
    "start_time": "2022-02-01T11:20:42.090Z"
   },
   {
    "duration": 55,
    "start_time": "2022-02-01T11:20:47.698Z"
   },
   {
    "duration": 65,
    "start_time": "2022-02-01T11:22:26.962Z"
   },
   {
    "duration": 1469,
    "start_time": "2022-02-01T11:37:29.443Z"
   },
   {
    "duration": 32,
    "start_time": "2022-02-01T11:37:30.915Z"
   },
   {
    "duration": 195,
    "start_time": "2022-02-01T11:37:30.950Z"
   },
   {
    "duration": 116,
    "start_time": "2022-02-01T11:37:31.148Z"
   },
   {
    "duration": 173,
    "start_time": "2022-02-01T11:37:31.267Z"
   },
   {
    "duration": 19,
    "start_time": "2022-02-01T11:37:31.443Z"
   },
   {
    "duration": 9,
    "start_time": "2022-02-01T11:37:31.464Z"
   },
   {
    "duration": 79,
    "start_time": "2022-02-01T11:37:31.477Z"
   },
   {
    "duration": 12,
    "start_time": "2022-02-01T11:37:31.559Z"
   },
   {
    "duration": 14,
    "start_time": "2022-02-01T11:37:31.574Z"
   },
   {
    "duration": 21,
    "start_time": "2022-02-01T11:37:31.591Z"
   },
   {
    "duration": 14,
    "start_time": "2022-02-01T11:37:31.614Z"
   },
   {
    "duration": 13,
    "start_time": "2022-02-01T11:37:31.630Z"
   },
   {
    "duration": 6,
    "start_time": "2022-02-01T11:37:31.646Z"
   },
   {
    "duration": 107,
    "start_time": "2022-02-01T11:37:31.654Z"
   },
   {
    "duration": 4,
    "start_time": "2022-02-01T11:37:31.764Z"
   },
   {
    "duration": 27,
    "start_time": "2022-02-01T11:37:31.770Z"
   },
   {
    "duration": 42,
    "start_time": "2022-02-01T11:37:31.800Z"
   },
   {
    "duration": 114,
    "start_time": "2022-02-01T11:37:31.844Z"
   },
   {
    "duration": 46,
    "start_time": "2022-02-01T11:38:19.976Z"
   },
   {
    "duration": 27,
    "start_time": "2022-02-01T11:44:35.321Z"
   },
   {
    "duration": 41,
    "start_time": "2022-02-01T11:44:38.125Z"
   },
   {
    "duration": 1441,
    "start_time": "2022-02-01T12:24:09.472Z"
   },
   {
    "duration": 32,
    "start_time": "2022-02-01T12:24:10.916Z"
   },
   {
    "duration": 202,
    "start_time": "2022-02-01T12:24:10.951Z"
   },
   {
    "duration": 116,
    "start_time": "2022-02-01T12:24:11.156Z"
   },
   {
    "duration": 181,
    "start_time": "2022-02-01T12:24:11.275Z"
   },
   {
    "duration": 19,
    "start_time": "2022-02-01T12:24:11.459Z"
   },
   {
    "duration": 9,
    "start_time": "2022-02-01T12:24:11.481Z"
   },
   {
    "duration": 81,
    "start_time": "2022-02-01T12:24:11.494Z"
   },
   {
    "duration": 14,
    "start_time": "2022-02-01T12:24:11.580Z"
   },
   {
    "duration": 5,
    "start_time": "2022-02-01T12:24:11.596Z"
   },
   {
    "duration": 10,
    "start_time": "2022-02-01T12:24:11.604Z"
   },
   {
    "duration": 5,
    "start_time": "2022-02-01T12:24:11.648Z"
   },
   {
    "duration": 10,
    "start_time": "2022-02-01T12:24:11.655Z"
   },
   {
    "duration": 5,
    "start_time": "2022-02-01T12:24:11.668Z"
   },
   {
    "duration": 131,
    "start_time": "2022-02-01T12:24:11.676Z"
   },
   {
    "duration": 4,
    "start_time": "2022-02-01T12:24:11.809Z"
   },
   {
    "duration": 14,
    "start_time": "2022-02-01T12:24:11.815Z"
   },
   {
    "duration": 47,
    "start_time": "2022-02-01T12:24:11.831Z"
   },
   {
    "duration": 7,
    "start_time": "2022-02-01T12:24:11.881Z"
   },
   {
    "duration": 103,
    "start_time": "2022-02-01T12:24:11.890Z"
   },
   {
    "duration": 27,
    "start_time": "2022-02-01T12:24:11.995Z"
   },
   {
    "duration": 31,
    "start_time": "2022-02-01T12:24:12.024Z"
   },
   {
    "duration": 1441,
    "start_time": "2022-02-01T12:27:49.882Z"
   },
   {
    "duration": 42,
    "start_time": "2022-02-01T12:27:51.326Z"
   },
   {
    "duration": 206,
    "start_time": "2022-02-01T12:27:51.371Z"
   },
   {
    "duration": 118,
    "start_time": "2022-02-01T12:27:51.580Z"
   },
   {
    "duration": 185,
    "start_time": "2022-02-01T12:27:51.701Z"
   },
   {
    "duration": 18,
    "start_time": "2022-02-01T12:27:51.889Z"
   },
   {
    "duration": 7,
    "start_time": "2022-02-01T12:27:51.910Z"
   },
   {
    "duration": 90,
    "start_time": "2022-02-01T12:27:51.920Z"
   },
   {
    "duration": 12,
    "start_time": "2022-02-01T12:27:52.013Z"
   },
   {
    "duration": 10,
    "start_time": "2022-02-01T12:27:52.027Z"
   },
   {
    "duration": 15,
    "start_time": "2022-02-01T12:27:52.051Z"
   },
   {
    "duration": 5,
    "start_time": "2022-02-01T12:27:52.070Z"
   },
   {
    "duration": 12,
    "start_time": "2022-02-01T12:27:52.078Z"
   },
   {
    "duration": 7,
    "start_time": "2022-02-01T12:27:52.093Z"
   },
   {
    "duration": 173,
    "start_time": "2022-02-01T12:27:52.102Z"
   },
   {
    "duration": 4,
    "start_time": "2022-02-01T12:27:52.278Z"
   },
   {
    "duration": 13,
    "start_time": "2022-02-01T12:27:52.284Z"
   },
   {
    "duration": 103,
    "start_time": "2022-02-01T12:28:13.094Z"
   },
   {
    "duration": 46,
    "start_time": "2022-02-01T12:29:24.773Z"
   },
   {
    "duration": 1475,
    "start_time": "2022-02-01T12:32:32.315Z"
   },
   {
    "duration": 40,
    "start_time": "2022-02-01T12:32:33.792Z"
   },
   {
    "duration": 278,
    "start_time": "2022-02-01T12:32:33.835Z"
   },
   {
    "duration": 147,
    "start_time": "2022-02-01T12:32:34.117Z"
   },
   {
    "duration": 177,
    "start_time": "2022-02-01T12:32:34.266Z"
   },
   {
    "duration": 19,
    "start_time": "2022-02-01T12:32:34.446Z"
   },
   {
    "duration": 16,
    "start_time": "2022-02-01T12:32:34.468Z"
   },
   {
    "duration": 89,
    "start_time": "2022-02-01T12:32:34.488Z"
   },
   {
    "duration": 11,
    "start_time": "2022-02-01T12:32:34.580Z"
   },
   {
    "duration": 7,
    "start_time": "2022-02-01T12:32:34.594Z"
   },
   {
    "duration": 11,
    "start_time": "2022-02-01T12:32:34.603Z"
   },
   {
    "duration": 4,
    "start_time": "2022-02-01T12:32:34.617Z"
   },
   {
    "duration": 43,
    "start_time": "2022-02-01T12:32:34.623Z"
   },
   {
    "duration": 5,
    "start_time": "2022-02-01T12:32:34.669Z"
   },
   {
    "duration": 125,
    "start_time": "2022-02-01T12:32:34.677Z"
   },
   {
    "duration": 5,
    "start_time": "2022-02-01T12:32:34.804Z"
   },
   {
    "duration": 11,
    "start_time": "2022-02-01T12:32:34.812Z"
   },
   {
    "duration": 55,
    "start_time": "2022-02-01T12:32:34.826Z"
   },
   {
    "duration": 8,
    "start_time": "2022-02-01T12:32:34.883Z"
   },
   {
    "duration": 118,
    "start_time": "2022-02-01T12:32:34.894Z"
   },
   {
    "duration": 43,
    "start_time": "2022-02-01T12:32:35.014Z"
   },
   {
    "duration": 14,
    "start_time": "2022-02-01T12:32:35.060Z"
   },
   {
    "duration": 265,
    "start_time": "2022-02-01T12:32:35.077Z"
   },
   {
    "duration": 85,
    "start_time": "2022-02-01T12:33:33.205Z"
   },
   {
    "duration": 1410,
    "start_time": "2022-02-01T12:38:19.505Z"
   },
   {
    "duration": 33,
    "start_time": "2022-02-01T12:38:20.918Z"
   },
   {
    "duration": 211,
    "start_time": "2022-02-01T12:38:20.954Z"
   },
   {
    "duration": 131,
    "start_time": "2022-02-01T12:38:21.168Z"
   },
   {
    "duration": 175,
    "start_time": "2022-02-01T12:38:21.302Z"
   },
   {
    "duration": 20,
    "start_time": "2022-02-01T12:38:21.480Z"
   },
   {
    "duration": 7,
    "start_time": "2022-02-01T12:38:21.502Z"
   },
   {
    "duration": 86,
    "start_time": "2022-02-01T12:38:21.512Z"
   },
   {
    "duration": 11,
    "start_time": "2022-02-01T12:38:21.601Z"
   },
   {
    "duration": 10,
    "start_time": "2022-02-01T12:38:21.614Z"
   },
   {
    "duration": 6,
    "start_time": "2022-02-01T12:38:21.626Z"
   },
   {
    "duration": 23,
    "start_time": "2022-02-01T12:38:21.634Z"
   },
   {
    "duration": 10,
    "start_time": "2022-02-01T12:38:21.659Z"
   },
   {
    "duration": 9,
    "start_time": "2022-02-01T12:38:21.671Z"
   },
   {
    "duration": 4,
    "start_time": "2022-02-01T12:38:21.683Z"
   },
   {
    "duration": 138,
    "start_time": "2022-02-01T12:38:21.690Z"
   },
   {
    "duration": 3,
    "start_time": "2022-02-01T12:38:21.831Z"
   },
   {
    "duration": 14,
    "start_time": "2022-02-01T12:38:21.837Z"
   },
   {
    "duration": 43,
    "start_time": "2022-02-01T12:38:21.854Z"
   },
   {
    "duration": 95,
    "start_time": "2022-02-01T12:38:21.899Z"
   },
   {
    "duration": 27,
    "start_time": "2022-02-01T12:38:21.997Z"
   },
   {
    "duration": 15,
    "start_time": "2022-02-01T12:38:22.048Z"
   },
   {
    "duration": 269,
    "start_time": "2022-02-01T12:38:22.068Z"
   },
   {
    "duration": 88,
    "start_time": "2022-02-01T12:38:49.001Z"
   },
   {
    "duration": 75,
    "start_time": "2022-02-01T12:40:25.131Z"
   },
   {
    "duration": 1510,
    "start_time": "2022-02-01T12:41:03.723Z"
   },
   {
    "duration": 35,
    "start_time": "2022-02-01T12:41:05.235Z"
   },
   {
    "duration": 219,
    "start_time": "2022-02-01T12:41:05.274Z"
   },
   {
    "duration": 136,
    "start_time": "2022-02-01T12:41:05.496Z"
   },
   {
    "duration": 190,
    "start_time": "2022-02-01T12:41:05.635Z"
   },
   {
    "duration": 20,
    "start_time": "2022-02-01T12:41:05.827Z"
   },
   {
    "duration": 27,
    "start_time": "2022-02-01T12:41:05.849Z"
   },
   {
    "duration": 82,
    "start_time": "2022-02-01T12:41:05.880Z"
   },
   {
    "duration": 13,
    "start_time": "2022-02-01T12:41:05.966Z"
   },
   {
    "duration": 10,
    "start_time": "2022-02-01T12:41:05.982Z"
   },
   {
    "duration": 6,
    "start_time": "2022-02-01T12:41:05.994Z"
   },
   {
    "duration": 10,
    "start_time": "2022-02-01T12:41:06.002Z"
   },
   {
    "duration": 12,
    "start_time": "2022-02-01T12:41:06.015Z"
   },
   {
    "duration": 27,
    "start_time": "2022-02-01T12:41:06.030Z"
   },
   {
    "duration": 11,
    "start_time": "2022-02-01T12:41:06.060Z"
   },
   {
    "duration": 114,
    "start_time": "2022-02-01T12:41:06.074Z"
   },
   {
    "duration": 4,
    "start_time": "2022-02-01T12:41:06.191Z"
   },
   {
    "duration": 10,
    "start_time": "2022-02-01T12:41:06.197Z"
   },
   {
    "duration": 63,
    "start_time": "2022-02-01T12:41:06.209Z"
   },
   {
    "duration": 93,
    "start_time": "2022-02-01T12:41:06.275Z"
   },
   {
    "duration": 27,
    "start_time": "2022-02-01T12:41:06.371Z"
   },
   {
    "duration": 9,
    "start_time": "2022-02-01T12:41:06.401Z"
   },
   {
    "duration": 271,
    "start_time": "2022-02-01T12:41:06.414Z"
   },
   {
    "duration": 1490,
    "start_time": "2022-02-01T12:50:13.031Z"
   },
   {
    "duration": 46,
    "start_time": "2022-02-01T12:50:14.524Z"
   },
   {
    "duration": 206,
    "start_time": "2022-02-01T12:50:14.573Z"
   },
   {
    "duration": 125,
    "start_time": "2022-02-01T12:50:14.782Z"
   },
   {
    "duration": 193,
    "start_time": "2022-02-01T12:50:14.910Z"
   },
   {
    "duration": 19,
    "start_time": "2022-02-01T12:50:15.105Z"
   },
   {
    "duration": 16,
    "start_time": "2022-02-01T12:50:15.126Z"
   },
   {
    "duration": 87,
    "start_time": "2022-02-01T12:50:15.146Z"
   },
   {
    "duration": 20,
    "start_time": "2022-02-01T12:50:15.237Z"
   },
   {
    "duration": 5,
    "start_time": "2022-02-01T12:50:15.260Z"
   },
   {
    "duration": 18,
    "start_time": "2022-02-01T12:50:15.268Z"
   },
   {
    "duration": 45,
    "start_time": "2022-02-01T12:50:15.289Z"
   },
   {
    "duration": 37,
    "start_time": "2022-02-01T12:50:15.337Z"
   },
   {
    "duration": 27,
    "start_time": "2022-02-01T12:50:15.376Z"
   },
   {
    "duration": 10,
    "start_time": "2022-02-01T12:50:15.405Z"
   },
   {
    "duration": 119,
    "start_time": "2022-02-01T12:50:15.418Z"
   },
   {
    "duration": 4,
    "start_time": "2022-02-01T12:50:15.540Z"
   },
   {
    "duration": 18,
    "start_time": "2022-02-01T12:50:15.546Z"
   },
   {
    "duration": 46,
    "start_time": "2022-02-01T12:50:15.567Z"
   },
   {
    "duration": 97,
    "start_time": "2022-02-01T12:50:15.616Z"
   },
   {
    "duration": 52,
    "start_time": "2022-02-01T12:50:15.716Z"
   },
   {
    "duration": 4,
    "start_time": "2022-02-01T12:50:35.764Z"
   },
   {
    "duration": 218,
    "start_time": "2022-02-01T12:50:41.972Z"
   },
   {
    "duration": 52,
    "start_time": "2022-02-01T12:50:52.248Z"
   },
   {
    "duration": 252,
    "start_time": "2022-02-01T12:51:11.880Z"
   },
   {
    "duration": 88,
    "start_time": "2022-02-01T12:51:18.310Z"
   },
   {
    "duration": 1422,
    "start_time": "2022-02-01T12:59:29.103Z"
   },
   {
    "duration": 40,
    "start_time": "2022-02-01T12:59:30.528Z"
   },
   {
    "duration": 227,
    "start_time": "2022-02-01T12:59:30.571Z"
   },
   {
    "duration": 120,
    "start_time": "2022-02-01T12:59:30.801Z"
   },
   {
    "duration": 189,
    "start_time": "2022-02-01T12:59:30.923Z"
   },
   {
    "duration": 20,
    "start_time": "2022-02-01T12:59:31.114Z"
   },
   {
    "duration": 30,
    "start_time": "2022-02-01T12:59:31.137Z"
   },
   {
    "duration": 76,
    "start_time": "2022-02-01T12:59:31.171Z"
   },
   {
    "duration": 12,
    "start_time": "2022-02-01T12:59:31.251Z"
   },
   {
    "duration": 12,
    "start_time": "2022-02-01T12:59:31.266Z"
   },
   {
    "duration": 12,
    "start_time": "2022-02-01T12:59:31.280Z"
   },
   {
    "duration": 120,
    "start_time": "2022-02-01T12:59:31.294Z"
   },
   {
    "duration": 49,
    "start_time": "2022-02-01T12:59:31.417Z"
   },
   {
    "duration": 4,
    "start_time": "2022-02-01T12:59:31.469Z"
   },
   {
    "duration": 16,
    "start_time": "2022-02-01T12:59:31.475Z"
   },
   {
    "duration": 110,
    "start_time": "2022-02-01T12:59:31.493Z"
   },
   {
    "duration": 11,
    "start_time": "2022-02-01T12:59:31.606Z"
   },
   {
    "duration": 4,
    "start_time": "2022-02-01T12:59:31.620Z"
   },
   {
    "duration": 247,
    "start_time": "2022-02-01T12:59:31.656Z"
   },
   {
    "duration": 309,
    "start_time": "2022-02-01T12:59:31.905Z"
   },
   {
    "duration": 1645,
    "start_time": "2022-02-01T13:00:31.877Z"
   },
   {
    "duration": 594,
    "start_time": "2022-02-01T13:00:33.524Z"
   },
   {
    "duration": 5,
    "start_time": "2022-02-01T13:00:34.121Z"
   },
   {
    "duration": 100,
    "start_time": "2022-02-01T13:00:34.128Z"
   },
   {
    "duration": 25,
    "start_time": "2022-02-01T13:00:34.230Z"
   },
   {
    "duration": 18,
    "start_time": "2022-02-01T13:00:34.258Z"
   },
   {
    "duration": 20,
    "start_time": "2022-02-01T13:00:34.279Z"
   },
   {
    "duration": 110,
    "start_time": "2022-02-01T13:00:34.304Z"
   },
   {
    "duration": 48,
    "start_time": "2022-02-01T13:00:34.416Z"
   },
   {
    "duration": 3,
    "start_time": "2022-02-01T13:00:34.467Z"
   },
   {
    "duration": 13,
    "start_time": "2022-02-01T13:00:34.472Z"
   },
   {
    "duration": 106,
    "start_time": "2022-02-01T13:00:34.487Z"
   },
   {
    "duration": 12,
    "start_time": "2022-02-01T13:00:34.595Z"
   },
   {
    "duration": 4,
    "start_time": "2022-02-01T13:00:34.609Z"
   },
   {
    "duration": 290,
    "start_time": "2022-02-01T13:00:34.616Z"
   },
   {
    "duration": 243,
    "start_time": "2022-02-01T13:00:34.909Z"
   },
   {
    "duration": 1634,
    "start_time": "2022-02-01T13:32:29.504Z"
   },
   {
    "duration": 558,
    "start_time": "2022-02-01T13:32:31.141Z"
   },
   {
    "duration": 5,
    "start_time": "2022-02-01T13:32:31.701Z"
   },
   {
    "duration": 83,
    "start_time": "2022-02-01T13:32:31.708Z"
   },
   {
    "duration": 11,
    "start_time": "2022-02-01T13:32:31.794Z"
   },
   {
    "duration": 9,
    "start_time": "2022-02-01T13:32:31.808Z"
   },
   {
    "duration": 10,
    "start_time": "2022-02-01T13:32:31.820Z"
   },
   {
    "duration": 134,
    "start_time": "2022-02-01T13:32:31.834Z"
   },
   {
    "duration": 35,
    "start_time": "2022-02-01T13:32:31.971Z"
   },
   {
    "duration": 3,
    "start_time": "2022-02-01T13:32:32.009Z"
   },
   {
    "duration": 17,
    "start_time": "2022-02-01T13:32:32.015Z"
   },
   {
    "duration": 123,
    "start_time": "2022-02-01T13:32:32.034Z"
   },
   {
    "duration": 18,
    "start_time": "2022-02-01T13:32:32.160Z"
   },
   {
    "duration": 8,
    "start_time": "2022-02-01T13:32:32.181Z"
   },
   {
    "duration": 327,
    "start_time": "2022-02-01T13:32:32.192Z"
   },
   {
    "duration": 354,
    "start_time": "2022-02-01T13:32:32.522Z"
   },
   {
    "duration": 54,
    "start_time": "2022-02-01T13:35:32.948Z"
   },
   {
    "duration": 85,
    "start_time": "2022-02-01T13:36:09.487Z"
   },
   {
    "duration": 4,
    "start_time": "2022-02-01T13:45:24.816Z"
   },
   {
    "duration": 83,
    "start_time": "2022-02-01T13:48:56.086Z"
   },
   {
    "duration": 23,
    "start_time": "2022-02-01T14:11:36.990Z"
   },
   {
    "duration": 147,
    "start_time": "2022-02-01T14:12:56.862Z"
   },
   {
    "duration": 453,
    "start_time": "2022-02-01T14:14:11.647Z"
   },
   {
    "duration": 28,
    "start_time": "2022-02-01T14:14:17.900Z"
   },
   {
    "duration": 32,
    "start_time": "2022-02-01T14:14:28.606Z"
   },
   {
    "duration": 19,
    "start_time": "2022-02-01T14:15:03.273Z"
   },
   {
    "duration": 25,
    "start_time": "2022-02-01T14:15:16.606Z"
   },
   {
    "duration": 348,
    "start_time": "2022-02-01T14:15:21.084Z"
   },
   {
    "duration": 18,
    "start_time": "2022-02-01T14:15:37.996Z"
   },
   {
    "duration": 12,
    "start_time": "2022-02-01T14:16:29.965Z"
   },
   {
    "duration": 14,
    "start_time": "2022-02-01T14:16:43.791Z"
   },
   {
    "duration": 148,
    "start_time": "2022-02-01T14:17:38.961Z"
   },
   {
    "duration": 76,
    "start_time": "2022-02-01T14:18:42.914Z"
   },
   {
    "duration": 76,
    "start_time": "2022-02-01T14:19:04.262Z"
   },
   {
    "duration": 18,
    "start_time": "2022-02-01T14:19:39.311Z"
   },
   {
    "duration": 86,
    "start_time": "2022-02-01T14:21:07.617Z"
   },
   {
    "duration": 84,
    "start_time": "2022-02-01T14:21:26.097Z"
   },
   {
    "duration": 74,
    "start_time": "2022-02-01T14:22:56.662Z"
   },
   {
    "duration": 69,
    "start_time": "2022-02-01T14:23:23.347Z"
   },
   {
    "duration": 111,
    "start_time": "2022-02-01T14:23:43.473Z"
   },
   {
    "duration": 71,
    "start_time": "2022-02-01T14:23:49.563Z"
   },
   {
    "duration": 1475,
    "start_time": "2022-02-01T14:24:19.817Z"
   },
   {
    "duration": 569,
    "start_time": "2022-02-01T14:24:21.295Z"
   },
   {
    "duration": 4,
    "start_time": "2022-02-01T14:24:21.867Z"
   },
   {
    "duration": 72,
    "start_time": "2022-02-01T14:24:21.874Z"
   },
   {
    "duration": 16,
    "start_time": "2022-02-01T14:24:21.948Z"
   },
   {
    "duration": 8,
    "start_time": "2022-02-01T14:24:21.966Z"
   },
   {
    "duration": 6,
    "start_time": "2022-02-01T14:24:21.977Z"
   },
   {
    "duration": 129,
    "start_time": "2022-02-01T14:24:21.987Z"
   },
   {
    "duration": 54,
    "start_time": "2022-02-01T14:24:22.120Z"
   },
   {
    "duration": 4,
    "start_time": "2022-02-01T14:24:22.176Z"
   },
   {
    "duration": 10,
    "start_time": "2022-02-01T14:24:22.182Z"
   },
   {
    "duration": 110,
    "start_time": "2022-02-01T14:24:22.194Z"
   },
   {
    "duration": 15,
    "start_time": "2022-02-01T14:24:22.306Z"
   },
   {
    "duration": 28,
    "start_time": "2022-02-01T14:24:22.323Z"
   },
   {
    "duration": 267,
    "start_time": "2022-02-01T14:24:22.354Z"
   },
   {
    "duration": 252,
    "start_time": "2022-02-01T14:24:22.624Z"
   },
   {
    "duration": 4,
    "start_time": "2022-02-01T14:24:22.878Z"
   },
   {
    "duration": 86,
    "start_time": "2022-02-01T14:24:22.884Z"
   },
   {
    "duration": 97,
    "start_time": "2022-02-01T14:24:22.972Z"
   },
   {
    "duration": 94,
    "start_time": "2022-02-01T14:24:23.071Z"
   },
   {
    "duration": 18,
    "start_time": "2022-02-01T14:24:23.167Z"
   },
   {
    "duration": 108,
    "start_time": "2022-02-01T14:24:23.187Z"
   },
   {
    "duration": 24,
    "start_time": "2022-02-01T14:24:53.540Z"
   },
   {
    "duration": 84,
    "start_time": "2022-02-01T14:25:42.980Z"
   },
   {
    "duration": 1458,
    "start_time": "2022-02-01T14:28:26.961Z"
   },
   {
    "duration": 530,
    "start_time": "2022-02-01T14:28:28.422Z"
   },
   {
    "duration": 5,
    "start_time": "2022-02-01T14:28:28.956Z"
   },
   {
    "duration": 83,
    "start_time": "2022-02-01T14:28:28.966Z"
   },
   {
    "duration": 12,
    "start_time": "2022-02-01T14:28:29.052Z"
   },
   {
    "duration": 10,
    "start_time": "2022-02-01T14:28:29.067Z"
   },
   {
    "duration": 7,
    "start_time": "2022-02-01T14:28:29.079Z"
   },
   {
    "duration": 126,
    "start_time": "2022-02-01T14:28:29.090Z"
   },
   {
    "duration": 44,
    "start_time": "2022-02-01T14:28:29.219Z"
   },
   {
    "duration": 6,
    "start_time": "2022-02-01T14:28:29.266Z"
   },
   {
    "duration": 8,
    "start_time": "2022-02-01T14:28:29.275Z"
   },
   {
    "duration": 109,
    "start_time": "2022-02-01T14:28:29.285Z"
   },
   {
    "duration": 12,
    "start_time": "2022-02-01T14:28:29.396Z"
   },
   {
    "duration": 3,
    "start_time": "2022-02-01T14:28:29.411Z"
   },
   {
    "duration": 275,
    "start_time": "2022-02-01T14:28:29.416Z"
   },
   {
    "duration": 232,
    "start_time": "2022-02-01T14:28:29.693Z"
   },
   {
    "duration": 4,
    "start_time": "2022-02-01T14:28:29.928Z"
   },
   {
    "duration": 69,
    "start_time": "2022-02-01T14:28:29.951Z"
   },
   {
    "duration": 104,
    "start_time": "2022-02-01T14:28:30.022Z"
   },
   {
    "duration": 103,
    "start_time": "2022-02-01T14:28:30.129Z"
   },
   {
    "duration": 95,
    "start_time": "2022-02-01T14:28:30.235Z"
   },
   {
    "duration": 95,
    "start_time": "2022-02-01T14:28:30.333Z"
   },
   {
    "duration": 29,
    "start_time": "2022-02-01T14:53:10.172Z"
   },
   {
    "duration": 10,
    "start_time": "2022-02-01T14:53:59.902Z"
   },
   {
    "duration": 1510,
    "start_time": "2022-02-01T14:54:37.881Z"
   },
   {
    "duration": 682,
    "start_time": "2022-02-01T14:54:40.338Z"
   },
   {
    "duration": 5,
    "start_time": "2022-02-01T14:54:41.023Z"
   },
   {
    "duration": 110,
    "start_time": "2022-02-01T14:54:42.923Z"
   },
   {
    "duration": 31,
    "start_time": "2022-02-01T14:54:58.377Z"
   },
   {
    "duration": 1568,
    "start_time": "2022-02-01T14:56:02.054Z"
   },
   {
    "duration": 621,
    "start_time": "2022-02-01T14:56:03.625Z"
   },
   {
    "duration": 5,
    "start_time": "2022-02-01T14:56:04.250Z"
   },
   {
    "duration": 84,
    "start_time": "2022-02-01T14:56:04.258Z"
   },
   {
    "duration": 18,
    "start_time": "2022-02-01T14:56:04.344Z"
   },
   {
    "duration": 13,
    "start_time": "2022-02-01T14:56:04.365Z"
   },
   {
    "duration": 9,
    "start_time": "2022-02-01T14:56:04.381Z"
   },
   {
    "duration": 137,
    "start_time": "2022-02-01T14:56:04.395Z"
   },
   {
    "duration": 48,
    "start_time": "2022-02-01T14:56:04.537Z"
   },
   {
    "duration": 5,
    "start_time": "2022-02-01T14:56:04.588Z"
   },
   {
    "duration": 11,
    "start_time": "2022-02-01T14:56:04.596Z"
   },
   {
    "duration": 123,
    "start_time": "2022-02-01T14:56:04.609Z"
   },
   {
    "duration": 25,
    "start_time": "2022-02-01T14:56:04.735Z"
   },
   {
    "duration": 13,
    "start_time": "2022-02-01T14:56:04.762Z"
   },
   {
    "duration": 271,
    "start_time": "2022-02-01T14:56:04.777Z"
   },
   {
    "duration": 276,
    "start_time": "2022-02-01T14:56:05.051Z"
   },
   {
    "duration": 4,
    "start_time": "2022-02-01T14:56:05.330Z"
   },
   {
    "duration": 93,
    "start_time": "2022-02-01T14:56:05.349Z"
   },
   {
    "duration": 138,
    "start_time": "2022-02-01T14:56:05.450Z"
   },
   {
    "duration": 148,
    "start_time": "2022-02-01T14:56:05.591Z"
   },
   {
    "duration": 132,
    "start_time": "2022-02-01T14:56:05.752Z"
   },
   {
    "duration": 130,
    "start_time": "2022-02-01T14:56:05.887Z"
   },
   {
    "duration": 15,
    "start_time": "2022-02-01T14:56:09.945Z"
   },
   {
    "duration": 34,
    "start_time": "2022-02-01T14:56:27.193Z"
   },
   {
    "duration": 7,
    "start_time": "2022-02-01T14:57:59.768Z"
   },
   {
    "duration": 17,
    "start_time": "2022-02-01T14:58:06.968Z"
   },
   {
    "duration": 24,
    "start_time": "2022-02-01T14:59:39.544Z"
   },
   {
    "duration": 30,
    "start_time": "2022-02-01T15:01:50.971Z"
   },
   {
    "duration": 12,
    "start_time": "2022-02-01T15:01:59.163Z"
   },
   {
    "duration": 33,
    "start_time": "2022-02-01T15:02:15.659Z"
   },
   {
    "duration": 26,
    "start_time": "2022-02-01T15:02:18.919Z"
   },
   {
    "duration": 13,
    "start_time": "2022-02-01T15:02:29.322Z"
   },
   {
    "duration": 22,
    "start_time": "2022-02-01T15:03:29.755Z"
   },
   {
    "duration": 19,
    "start_time": "2022-02-01T15:04:00.681Z"
   },
   {
    "duration": 22,
    "start_time": "2022-02-01T15:05:42.476Z"
   },
   {
    "duration": 18,
    "start_time": "2022-02-01T15:05:50.763Z"
   },
   {
    "duration": 22,
    "start_time": "2022-02-01T15:06:31.544Z"
   },
   {
    "duration": 1493,
    "start_time": "2022-02-01T15:09:40.182Z"
   },
   {
    "duration": 567,
    "start_time": "2022-02-01T15:09:41.678Z"
   },
   {
    "duration": 7,
    "start_time": "2022-02-01T15:09:42.249Z"
   },
   {
    "duration": 93,
    "start_time": "2022-02-01T15:09:42.259Z"
   },
   {
    "duration": 13,
    "start_time": "2022-02-01T15:09:42.357Z"
   },
   {
    "duration": 8,
    "start_time": "2022-02-01T15:09:42.373Z"
   },
   {
    "duration": 7,
    "start_time": "2022-02-01T15:09:42.384Z"
   },
   {
    "duration": 141,
    "start_time": "2022-02-01T15:09:42.394Z"
   },
   {
    "duration": 42,
    "start_time": "2022-02-01T15:09:42.538Z"
   },
   {
    "duration": 4,
    "start_time": "2022-02-01T15:09:42.582Z"
   },
   {
    "duration": 11,
    "start_time": "2022-02-01T15:09:42.589Z"
   },
   {
    "duration": 111,
    "start_time": "2022-02-01T15:09:42.603Z"
   },
   {
    "duration": 41,
    "start_time": "2022-02-01T15:09:42.716Z"
   },
   {
    "duration": 4,
    "start_time": "2022-02-01T15:09:42.762Z"
   },
   {
    "duration": 255,
    "start_time": "2022-02-01T15:09:42.769Z"
   },
   {
    "duration": 247,
    "start_time": "2022-02-01T15:09:43.027Z"
   },
   {
    "duration": 4,
    "start_time": "2022-02-01T15:09:43.276Z"
   },
   {
    "duration": 93,
    "start_time": "2022-02-01T15:09:43.282Z"
   },
   {
    "duration": 97,
    "start_time": "2022-02-01T15:09:43.378Z"
   },
   {
    "duration": 103,
    "start_time": "2022-02-01T15:09:43.477Z"
   },
   {
    "duration": 96,
    "start_time": "2022-02-01T15:09:43.582Z"
   },
   {
    "duration": 98,
    "start_time": "2022-02-01T15:09:43.681Z"
   },
   {
    "duration": 6,
    "start_time": "2022-02-01T15:09:50.120Z"
   },
   {
    "duration": 482,
    "start_time": "2022-02-01T15:10:08.783Z"
   },
   {
    "duration": 52,
    "start_time": "2022-02-01T15:10:23.555Z"
   },
   {
    "duration": 23,
    "start_time": "2022-02-01T15:10:27.847Z"
   },
   {
    "duration": 21,
    "start_time": "2022-02-01T15:13:27.976Z"
   },
   {
    "duration": 39,
    "start_time": "2022-02-01T15:13:30.656Z"
   },
   {
    "duration": 22,
    "start_time": "2022-02-01T15:13:39.745Z"
   },
   {
    "duration": 28,
    "start_time": "2022-02-01T15:14:02.993Z"
   },
   {
    "duration": 41,
    "start_time": "2022-02-01T15:19:14.870Z"
   },
   {
    "duration": 37,
    "start_time": "2022-02-01T15:19:22.433Z"
   },
   {
    "duration": 1616,
    "start_time": "2022-02-01T15:19:37.842Z"
   },
   {
    "duration": 594,
    "start_time": "2022-02-01T15:19:39.461Z"
   },
   {
    "duration": 5,
    "start_time": "2022-02-01T15:19:40.062Z"
   },
   {
    "duration": 130,
    "start_time": "2022-02-01T15:19:40.072Z"
   },
   {
    "duration": 12,
    "start_time": "2022-02-01T15:19:40.206Z"
   },
   {
    "duration": 36,
    "start_time": "2022-02-01T15:19:40.220Z"
   },
   {
    "duration": 34,
    "start_time": "2022-02-01T15:19:40.260Z"
   },
   {
    "duration": 179,
    "start_time": "2022-02-01T15:19:40.298Z"
   },
   {
    "duration": 46,
    "start_time": "2022-02-01T15:19:40.481Z"
   },
   {
    "duration": 4,
    "start_time": "2022-02-01T15:19:40.530Z"
   },
   {
    "duration": 21,
    "start_time": "2022-02-01T15:19:40.537Z"
   },
   {
    "duration": 111,
    "start_time": "2022-02-01T15:19:40.566Z"
   },
   {
    "duration": 19,
    "start_time": "2022-02-01T15:19:40.680Z"
   },
   {
    "duration": 3,
    "start_time": "2022-02-01T15:19:40.702Z"
   },
   {
    "duration": 317,
    "start_time": "2022-02-01T15:19:40.707Z"
   },
   {
    "duration": 272,
    "start_time": "2022-02-01T15:19:41.027Z"
   },
   {
    "duration": 5,
    "start_time": "2022-02-01T15:19:41.302Z"
   },
   {
    "duration": 98,
    "start_time": "2022-02-01T15:19:41.310Z"
   },
   {
    "duration": 100,
    "start_time": "2022-02-01T15:19:41.411Z"
   },
   {
    "duration": 132,
    "start_time": "2022-02-01T15:19:41.514Z"
   },
   {
    "duration": 106,
    "start_time": "2022-02-01T15:19:41.654Z"
   },
   {
    "duration": 90,
    "start_time": "2022-02-01T15:19:41.765Z"
   },
   {
    "duration": 17,
    "start_time": "2022-02-01T15:19:41.858Z"
   },
   {
    "duration": 48,
    "start_time": "2022-02-01T15:19:41.879Z"
   },
   {
    "duration": 37,
    "start_time": "2022-02-01T15:19:41.929Z"
   },
   {
    "duration": 37,
    "start_time": "2022-02-01T15:19:41.969Z"
   },
   {
    "duration": 19,
    "start_time": "2022-02-01T15:19:42.008Z"
   },
   {
    "duration": 498,
    "start_time": "2022-02-01T15:30:38.519Z"
   },
   {
    "duration": 313,
    "start_time": "2022-02-01T15:30:59.657Z"
   },
   {
    "duration": 584,
    "start_time": "2022-02-01T15:31:22.154Z"
   },
   {
    "duration": 11,
    "start_time": "2022-02-01T15:31:35.727Z"
   },
   {
    "duration": 20,
    "start_time": "2022-02-01T15:31:45.656Z"
   },
   {
    "duration": 13,
    "start_time": "2022-02-01T15:32:15.604Z"
   },
   {
    "duration": 15,
    "start_time": "2022-02-01T15:32:25.190Z"
   },
   {
    "duration": 307,
    "start_time": "2022-02-01T15:32:59.382Z"
   },
   {
    "duration": 1496,
    "start_time": "2022-02-01T15:34:43.489Z"
   },
   {
    "duration": 549,
    "start_time": "2022-02-01T15:34:44.988Z"
   },
   {
    "duration": 4,
    "start_time": "2022-02-01T15:34:45.540Z"
   },
   {
    "duration": 79,
    "start_time": "2022-02-01T15:34:45.547Z"
   },
   {
    "duration": 25,
    "start_time": "2022-02-01T15:34:45.629Z"
   },
   {
    "duration": 14,
    "start_time": "2022-02-01T15:34:45.657Z"
   },
   {
    "duration": 10,
    "start_time": "2022-02-01T15:34:45.674Z"
   },
   {
    "duration": 130,
    "start_time": "2022-02-01T15:34:45.688Z"
   },
   {
    "duration": 36,
    "start_time": "2022-02-01T15:34:45.821Z"
   },
   {
    "duration": 7,
    "start_time": "2022-02-01T15:34:45.860Z"
   },
   {
    "duration": 13,
    "start_time": "2022-02-01T15:34:45.870Z"
   },
   {
    "duration": 100,
    "start_time": "2022-02-01T15:34:45.885Z"
   },
   {
    "duration": 12,
    "start_time": "2022-02-01T15:34:45.988Z"
   },
   {
    "duration": 3,
    "start_time": "2022-02-01T15:34:46.003Z"
   },
   {
    "duration": 290,
    "start_time": "2022-02-01T15:34:46.009Z"
   },
   {
    "duration": 256,
    "start_time": "2022-02-01T15:34:46.301Z"
   },
   {
    "duration": 5,
    "start_time": "2022-02-01T15:34:46.560Z"
   },
   {
    "duration": 95,
    "start_time": "2022-02-01T15:34:46.569Z"
   },
   {
    "duration": 128,
    "start_time": "2022-02-01T15:34:46.668Z"
   },
   {
    "duration": 115,
    "start_time": "2022-02-01T15:34:46.799Z"
   },
   {
    "duration": 106,
    "start_time": "2022-02-01T15:34:46.917Z"
   },
   {
    "duration": 98,
    "start_time": "2022-02-01T15:34:47.026Z"
   },
   {
    "duration": 1877,
    "start_time": "2022-02-01T15:35:03.779Z"
   },
   {
    "duration": 631,
    "start_time": "2022-02-01T15:35:05.659Z"
   },
   {
    "duration": 5,
    "start_time": "2022-02-01T15:35:06.293Z"
   },
   {
    "duration": 82,
    "start_time": "2022-02-01T15:35:06.301Z"
   },
   {
    "duration": 13,
    "start_time": "2022-02-01T15:35:06.385Z"
   },
   {
    "duration": 8,
    "start_time": "2022-02-01T15:35:06.400Z"
   },
   {
    "duration": 9,
    "start_time": "2022-02-01T15:35:06.410Z"
   },
   {
    "duration": 144,
    "start_time": "2022-02-01T15:35:06.421Z"
   },
   {
    "duration": 35,
    "start_time": "2022-02-01T15:35:06.570Z"
   },
   {
    "duration": 4,
    "start_time": "2022-02-01T15:35:06.608Z"
   },
   {
    "duration": 42,
    "start_time": "2022-02-01T15:35:06.614Z"
   },
   {
    "duration": 108,
    "start_time": "2022-02-01T15:35:06.659Z"
   },
   {
    "duration": 13,
    "start_time": "2022-02-01T15:35:06.769Z"
   },
   {
    "duration": 5,
    "start_time": "2022-02-01T15:35:06.785Z"
   },
   {
    "duration": 297,
    "start_time": "2022-02-01T15:35:06.793Z"
   },
   {
    "duration": 477,
    "start_time": "2022-02-01T15:35:07.094Z"
   },
   {
    "duration": 4,
    "start_time": "2022-02-01T15:35:07.575Z"
   },
   {
    "duration": 86,
    "start_time": "2022-02-01T15:35:07.582Z"
   },
   {
    "duration": 98,
    "start_time": "2022-02-01T15:35:07.671Z"
   },
   {
    "duration": 109,
    "start_time": "2022-02-01T15:35:07.771Z"
   },
   {
    "duration": 94,
    "start_time": "2022-02-01T15:35:07.882Z"
   },
   {
    "duration": 96,
    "start_time": "2022-02-01T15:35:07.979Z"
   },
   {
    "duration": 6,
    "start_time": "2022-02-01T15:35:12.644Z"
   },
   {
    "duration": 51,
    "start_time": "2022-02-01T15:35:14.705Z"
   },
   {
    "duration": 35,
    "start_time": "2022-02-01T15:35:15.508Z"
   },
   {
    "duration": 40,
    "start_time": "2022-02-01T15:35:16.204Z"
   },
   {
    "duration": 11,
    "start_time": "2022-02-01T15:35:32.422Z"
   },
   {
    "duration": 10,
    "start_time": "2022-02-01T15:35:54.839Z"
   },
   {
    "duration": 12,
    "start_time": "2022-02-01T15:36:18.790Z"
   },
   {
    "duration": 37,
    "start_time": "2022-02-01T15:37:14.308Z"
   },
   {
    "duration": 19,
    "start_time": "2022-02-01T15:37:19.107Z"
   },
   {
    "duration": 1499,
    "start_time": "2022-02-01T15:37:57.062Z"
   },
   {
    "duration": 563,
    "start_time": "2022-02-01T15:37:58.564Z"
   },
   {
    "duration": 5,
    "start_time": "2022-02-01T15:37:59.130Z"
   },
   {
    "duration": 80,
    "start_time": "2022-02-01T15:37:59.137Z"
   },
   {
    "duration": 12,
    "start_time": "2022-02-01T15:37:59.220Z"
   },
   {
    "duration": 19,
    "start_time": "2022-02-01T15:37:59.235Z"
   },
   {
    "duration": 15,
    "start_time": "2022-02-01T15:37:59.258Z"
   },
   {
    "duration": 118,
    "start_time": "2022-02-01T15:37:59.277Z"
   },
   {
    "duration": 36,
    "start_time": "2022-02-01T15:37:59.398Z"
   },
   {
    "duration": 14,
    "start_time": "2022-02-01T15:37:59.436Z"
   },
   {
    "duration": 20,
    "start_time": "2022-02-01T15:37:59.453Z"
   },
   {
    "duration": 99,
    "start_time": "2022-02-01T15:37:59.475Z"
   },
   {
    "duration": 12,
    "start_time": "2022-02-01T15:37:59.576Z"
   },
   {
    "duration": 6,
    "start_time": "2022-02-01T15:37:59.591Z"
   },
   {
    "duration": 282,
    "start_time": "2022-02-01T15:37:59.600Z"
   },
   {
    "duration": 247,
    "start_time": "2022-02-01T15:37:59.885Z"
   },
   {
    "duration": 4,
    "start_time": "2022-02-01T15:38:00.134Z"
   },
   {
    "duration": 97,
    "start_time": "2022-02-01T15:38:00.141Z"
   },
   {
    "duration": 92,
    "start_time": "2022-02-01T15:38:00.241Z"
   },
   {
    "duration": 120,
    "start_time": "2022-02-01T15:38:00.336Z"
   },
   {
    "duration": 92,
    "start_time": "2022-02-01T15:38:00.458Z"
   },
   {
    "duration": 80,
    "start_time": "2022-02-01T15:38:00.554Z"
   },
   {
    "duration": 18,
    "start_time": "2022-02-01T15:38:00.638Z"
   },
   {
    "duration": 58,
    "start_time": "2022-02-01T15:38:00.659Z"
   },
   {
    "duration": 44,
    "start_time": "2022-02-01T15:38:00.719Z"
   },
   {
    "duration": 42,
    "start_time": "2022-02-01T15:38:00.766Z"
   },
   {
    "duration": 7,
    "start_time": "2022-02-01T15:38:00.810Z"
   },
   {
    "duration": 11,
    "start_time": "2022-02-01T15:38:27.785Z"
   },
   {
    "duration": 17,
    "start_time": "2022-02-01T15:38:38.961Z"
   },
   {
    "duration": 11,
    "start_time": "2022-02-01T15:39:17.002Z"
   },
   {
    "duration": 19,
    "start_time": "2022-02-01T15:39:17.659Z"
   },
   {
    "duration": 11,
    "start_time": "2022-02-01T15:40:08.741Z"
   },
   {
    "duration": 17,
    "start_time": "2022-02-01T15:40:09.415Z"
   },
   {
    "duration": 19,
    "start_time": "2022-02-01T15:40:47.976Z"
   },
   {
    "duration": 15,
    "start_time": "2022-02-01T15:41:57.112Z"
   },
   {
    "duration": 18,
    "start_time": "2022-02-01T15:42:04.730Z"
   },
   {
    "duration": 7,
    "start_time": "2022-02-01T15:42:31.978Z"
   },
   {
    "duration": 16,
    "start_time": "2022-02-01T15:43:13.882Z"
   },
   {
    "duration": 535,
    "start_time": "2022-02-01T15:43:47.689Z"
   },
   {
    "duration": 63,
    "start_time": "2022-02-01T15:43:56.218Z"
   },
   {
    "duration": 14,
    "start_time": "2022-02-01T15:43:59.097Z"
   },
   {
    "duration": 17,
    "start_time": "2022-02-01T15:43:59.626Z"
   },
   {
    "duration": 55,
    "start_time": "2022-02-01T15:45:10.614Z"
   },
   {
    "duration": 377,
    "start_time": "2022-02-01T15:45:14.713Z"
   },
   {
    "duration": 53,
    "start_time": "2022-02-01T15:45:27.624Z"
   },
   {
    "duration": 15,
    "start_time": "2022-02-01T15:45:30.060Z"
   },
   {
    "duration": 19,
    "start_time": "2022-02-01T15:45:31.511Z"
   },
   {
    "duration": 36,
    "start_time": "2022-02-01T15:45:43.128Z"
   },
   {
    "duration": 25,
    "start_time": "2022-02-01T15:45:49.192Z"
   },
   {
    "duration": 32,
    "start_time": "2022-02-01T15:46:33.898Z"
   },
   {
    "duration": 16,
    "start_time": "2022-02-01T15:46:36.057Z"
   },
   {
    "duration": 22,
    "start_time": "2022-02-01T15:46:36.778Z"
   },
   {
    "duration": 1783,
    "start_time": "2022-02-01T15:47:19.561Z"
   },
   {
    "duration": 586,
    "start_time": "2022-02-01T15:47:21.348Z"
   },
   {
    "duration": 6,
    "start_time": "2022-02-01T15:47:21.938Z"
   },
   {
    "duration": 94,
    "start_time": "2022-02-01T15:47:21.948Z"
   },
   {
    "duration": 18,
    "start_time": "2022-02-01T15:47:22.046Z"
   },
   {
    "duration": 27,
    "start_time": "2022-02-01T15:47:22.067Z"
   },
   {
    "duration": 10,
    "start_time": "2022-02-01T15:47:22.098Z"
   },
   {
    "duration": 163,
    "start_time": "2022-02-01T15:47:22.113Z"
   },
   {
    "duration": 48,
    "start_time": "2022-02-01T15:47:22.280Z"
   },
   {
    "duration": 18,
    "start_time": "2022-02-01T15:47:22.331Z"
   },
   {
    "duration": 20,
    "start_time": "2022-02-01T15:47:22.355Z"
   },
   {
    "duration": 119,
    "start_time": "2022-02-01T15:47:22.377Z"
   },
   {
    "duration": 13,
    "start_time": "2022-02-01T15:47:22.498Z"
   },
   {
    "duration": 38,
    "start_time": "2022-02-01T15:47:22.513Z"
   },
   {
    "duration": 267,
    "start_time": "2022-02-01T15:47:22.554Z"
   },
   {
    "duration": 271,
    "start_time": "2022-02-01T15:47:22.824Z"
   },
   {
    "duration": 4,
    "start_time": "2022-02-01T15:47:23.097Z"
   },
   {
    "duration": 115,
    "start_time": "2022-02-01T15:47:23.104Z"
   },
   {
    "duration": 132,
    "start_time": "2022-02-01T15:47:23.222Z"
   },
   {
    "duration": 130,
    "start_time": "2022-02-01T15:47:23.361Z"
   },
   {
    "duration": 129,
    "start_time": "2022-02-01T15:47:23.494Z"
   },
   {
    "duration": 131,
    "start_time": "2022-02-01T15:47:23.626Z"
   },
   {
    "duration": 8,
    "start_time": "2022-02-01T15:47:23.762Z"
   },
   {
    "duration": 47,
    "start_time": "2022-02-01T15:47:23.773Z"
   },
   {
    "duration": 49,
    "start_time": "2022-02-01T15:47:23.823Z"
   },
   {
    "duration": 52,
    "start_time": "2022-02-01T15:47:23.877Z"
   },
   {
    "duration": 1677,
    "start_time": "2022-02-01T16:05:32.964Z"
   },
   {
    "duration": 594,
    "start_time": "2022-02-01T16:05:34.645Z"
   },
   {
    "duration": 5,
    "start_time": "2022-02-01T16:05:35.242Z"
   },
   {
    "duration": 213,
    "start_time": "2022-02-01T16:05:35.250Z"
   },
   {
    "duration": 13,
    "start_time": "2022-02-01T16:05:35.466Z"
   },
   {
    "duration": 11,
    "start_time": "2022-02-01T16:05:35.482Z"
   },
   {
    "duration": 9,
    "start_time": "2022-02-01T16:05:35.496Z"
   },
   {
    "duration": 134,
    "start_time": "2022-02-01T16:05:35.509Z"
   },
   {
    "duration": 40,
    "start_time": "2022-02-01T16:05:35.646Z"
   },
   {
    "duration": 5,
    "start_time": "2022-02-01T16:05:35.688Z"
   },
   {
    "duration": 10,
    "start_time": "2022-02-01T16:05:35.696Z"
   },
   {
    "duration": 124,
    "start_time": "2022-02-01T16:05:35.708Z"
   },
   {
    "duration": 16,
    "start_time": "2022-02-01T16:05:35.849Z"
   },
   {
    "duration": 8,
    "start_time": "2022-02-01T16:05:35.867Z"
   },
   {
    "duration": 261,
    "start_time": "2022-02-01T16:05:35.878Z"
   },
   {
    "duration": 271,
    "start_time": "2022-02-01T16:05:36.142Z"
   },
   {
    "duration": 4,
    "start_time": "2022-02-01T16:05:36.416Z"
   },
   {
    "duration": 93,
    "start_time": "2022-02-01T16:05:36.422Z"
   },
   {
    "duration": 99,
    "start_time": "2022-02-01T16:05:36.518Z"
   },
   {
    "duration": 100,
    "start_time": "2022-02-01T16:05:36.620Z"
   },
   {
    "duration": 103,
    "start_time": "2022-02-01T16:05:36.722Z"
   },
   {
    "duration": 98,
    "start_time": "2022-02-01T16:05:36.828Z"
   },
   {
    "duration": 35,
    "start_time": "2022-02-01T16:05:45.269Z"
   },
   {
    "duration": 7,
    "start_time": "2022-02-01T16:06:44.073Z"
   },
   {
    "duration": 30,
    "start_time": "2022-02-01T16:06:46.599Z"
   },
   {
    "duration": 7,
    "start_time": "2022-02-01T16:07:00.775Z"
   },
   {
    "duration": 39,
    "start_time": "2022-02-01T16:07:02.277Z"
   },
   {
    "duration": 27,
    "start_time": "2022-02-01T16:07:02.900Z"
   },
   {
    "duration": 35,
    "start_time": "2022-02-01T16:07:04.404Z"
   },
   {
    "duration": 420,
    "start_time": "2022-02-01T16:10:58.793Z"
   },
   {
    "duration": 25,
    "start_time": "2022-02-01T16:11:15.430Z"
   },
   {
    "duration": 13,
    "start_time": "2022-02-01T16:12:08.185Z"
   },
   {
    "duration": 1550,
    "start_time": "2022-02-01T16:12:41.039Z"
   },
   {
    "duration": 647,
    "start_time": "2022-02-01T16:12:42.592Z"
   },
   {
    "duration": 5,
    "start_time": "2022-02-01T16:12:43.243Z"
   },
   {
    "duration": 87,
    "start_time": "2022-02-01T16:12:43.251Z"
   },
   {
    "duration": 20,
    "start_time": "2022-02-01T16:12:43.341Z"
   },
   {
    "duration": 15,
    "start_time": "2022-02-01T16:12:43.364Z"
   },
   {
    "duration": 22,
    "start_time": "2022-02-01T16:12:43.381Z"
   },
   {
    "duration": 129,
    "start_time": "2022-02-01T16:12:43.408Z"
   },
   {
    "duration": 43,
    "start_time": "2022-02-01T16:12:43.541Z"
   },
   {
    "duration": 4,
    "start_time": "2022-02-01T16:12:43.586Z"
   },
   {
    "duration": 12,
    "start_time": "2022-02-01T16:12:43.593Z"
   },
   {
    "duration": 118,
    "start_time": "2022-02-01T16:12:43.607Z"
   },
   {
    "duration": 26,
    "start_time": "2022-02-01T16:12:43.728Z"
   },
   {
    "duration": 5,
    "start_time": "2022-02-01T16:12:43.763Z"
   },
   {
    "duration": 252,
    "start_time": "2022-02-01T16:12:43.771Z"
   },
   {
    "duration": 246,
    "start_time": "2022-02-01T16:12:44.026Z"
   },
   {
    "duration": 5,
    "start_time": "2022-02-01T16:12:44.275Z"
   },
   {
    "duration": 91,
    "start_time": "2022-02-01T16:12:44.283Z"
   },
   {
    "duration": 101,
    "start_time": "2022-02-01T16:12:44.377Z"
   },
   {
    "duration": 103,
    "start_time": "2022-02-01T16:12:44.481Z"
   },
   {
    "duration": 96,
    "start_time": "2022-02-01T16:12:44.586Z"
   },
   {
    "duration": 90,
    "start_time": "2022-02-01T16:12:44.685Z"
   },
   {
    "duration": 6,
    "start_time": "2022-02-01T16:12:51.160Z"
   },
   {
    "duration": 567,
    "start_time": "2022-02-01T16:12:51.169Z"
   },
   {
    "duration": 5,
    "start_time": "2022-02-01T16:12:51.739Z"
   },
   {
    "duration": 85,
    "start_time": "2022-02-01T16:12:51.746Z"
   },
   {
    "duration": 22,
    "start_time": "2022-02-01T16:12:51.834Z"
   },
   {
    "duration": 16,
    "start_time": "2022-02-01T16:12:51.858Z"
   },
   {
    "duration": 6,
    "start_time": "2022-02-01T16:12:51.877Z"
   },
   {
    "duration": 112,
    "start_time": "2022-02-01T16:12:51.888Z"
   },
   {
    "duration": 52,
    "start_time": "2022-02-01T16:12:52.004Z"
   },
   {
    "duration": 4,
    "start_time": "2022-02-01T16:12:52.059Z"
   },
   {
    "duration": 28,
    "start_time": "2022-02-01T16:12:52.066Z"
   },
   {
    "duration": 89,
    "start_time": "2022-02-01T16:12:52.097Z"
   },
   {
    "duration": 13,
    "start_time": "2022-02-01T16:12:52.189Z"
   },
   {
    "duration": 4,
    "start_time": "2022-02-01T16:12:52.205Z"
   },
   {
    "duration": 346,
    "start_time": "2022-02-01T16:12:52.212Z"
   },
   {
    "duration": 244,
    "start_time": "2022-02-01T16:12:52.561Z"
   },
   {
    "duration": 4,
    "start_time": "2022-02-01T16:12:52.807Z"
   },
   {
    "duration": 87,
    "start_time": "2022-02-01T16:12:52.813Z"
   },
   {
    "duration": 85,
    "start_time": "2022-02-01T16:12:52.902Z"
   },
   {
    "duration": 107,
    "start_time": "2022-02-01T16:12:52.990Z"
   },
   {
    "duration": 92,
    "start_time": "2022-02-01T16:12:53.100Z"
   },
   {
    "duration": 96,
    "start_time": "2022-02-01T16:12:53.195Z"
   },
   {
    "duration": 1629,
    "start_time": "2022-02-01T16:13:06.383Z"
   },
   {
    "duration": 571,
    "start_time": "2022-02-01T16:13:08.015Z"
   },
   {
    "duration": 5,
    "start_time": "2022-02-01T16:13:08.588Z"
   },
   {
    "duration": 89,
    "start_time": "2022-02-01T16:13:08.596Z"
   },
   {
    "duration": 12,
    "start_time": "2022-02-01T16:13:08.688Z"
   },
   {
    "duration": 9,
    "start_time": "2022-02-01T16:13:08.703Z"
   },
   {
    "duration": 9,
    "start_time": "2022-02-01T16:13:08.715Z"
   },
   {
    "duration": 120,
    "start_time": "2022-02-01T16:13:08.750Z"
   },
   {
    "duration": 35,
    "start_time": "2022-02-01T16:13:08.873Z"
   },
   {
    "duration": 3,
    "start_time": "2022-02-01T16:13:08.911Z"
   },
   {
    "duration": 32,
    "start_time": "2022-02-01T16:13:08.917Z"
   },
   {
    "duration": 103,
    "start_time": "2022-02-01T16:13:08.955Z"
   },
   {
    "duration": 14,
    "start_time": "2022-02-01T16:13:09.061Z"
   },
   {
    "duration": 4,
    "start_time": "2022-02-01T16:13:09.078Z"
   },
   {
    "duration": 265,
    "start_time": "2022-02-01T16:13:09.084Z"
   },
   {
    "duration": 257,
    "start_time": "2022-02-01T16:13:09.352Z"
   },
   {
    "duration": 4,
    "start_time": "2022-02-01T16:13:09.611Z"
   },
   {
    "duration": 93,
    "start_time": "2022-02-01T16:13:09.617Z"
   },
   {
    "duration": 97,
    "start_time": "2022-02-01T16:13:09.712Z"
   },
   {
    "duration": 99,
    "start_time": "2022-02-01T16:13:09.811Z"
   },
   {
    "duration": 110,
    "start_time": "2022-02-01T16:13:09.914Z"
   },
   {
    "duration": 91,
    "start_time": "2022-02-01T16:13:10.028Z"
   },
   {
    "duration": 7,
    "start_time": "2022-02-01T16:13:40.270Z"
   },
   {
    "duration": 1714,
    "start_time": "2022-02-01T16:18:18.465Z"
   },
   {
    "duration": 600,
    "start_time": "2022-02-01T16:18:20.185Z"
   },
   {
    "duration": 5,
    "start_time": "2022-02-01T16:18:20.788Z"
   },
   {
    "duration": 97,
    "start_time": "2022-02-01T16:18:20.796Z"
   },
   {
    "duration": 17,
    "start_time": "2022-02-01T16:18:20.896Z"
   },
   {
    "duration": 6,
    "start_time": "2022-02-01T16:18:20.917Z"
   },
   {
    "duration": 9,
    "start_time": "2022-02-01T16:18:20.926Z"
   },
   {
    "duration": 134,
    "start_time": "2022-02-01T16:18:20.957Z"
   },
   {
    "duration": 35,
    "start_time": "2022-02-01T16:18:21.094Z"
   },
   {
    "duration": 26,
    "start_time": "2022-02-01T16:18:21.132Z"
   },
   {
    "duration": 8,
    "start_time": "2022-02-01T16:18:21.163Z"
   },
   {
    "duration": 115,
    "start_time": "2022-02-01T16:18:21.173Z"
   },
   {
    "duration": 13,
    "start_time": "2022-02-01T16:18:21.293Z"
   },
   {
    "duration": 3,
    "start_time": "2022-02-01T16:18:21.309Z"
   },
   {
    "duration": 448,
    "start_time": "2022-02-01T16:18:21.316Z"
   },
   {
    "duration": 261,
    "start_time": "2022-02-01T16:18:21.767Z"
   },
   {
    "duration": 4,
    "start_time": "2022-02-01T16:18:22.031Z"
   },
   {
    "duration": 101,
    "start_time": "2022-02-01T16:18:22.050Z"
   },
   {
    "duration": 136,
    "start_time": "2022-02-01T16:18:22.154Z"
   },
   {
    "duration": 104,
    "start_time": "2022-02-01T16:18:22.295Z"
   },
   {
    "duration": 104,
    "start_time": "2022-02-01T16:18:22.401Z"
   },
   {
    "duration": 101,
    "start_time": "2022-02-01T16:18:22.507Z"
   },
   {
    "duration": 7,
    "start_time": "2022-02-01T16:18:22.612Z"
   },
   {
    "duration": 41,
    "start_time": "2022-02-01T16:19:39.534Z"
   },
   {
    "duration": 9,
    "start_time": "2022-02-01T16:31:40.676Z"
   },
   {
    "duration": 11,
    "start_time": "2022-02-01T16:31:48.066Z"
   },
   {
    "duration": 21,
    "start_time": "2022-02-01T16:32:04.165Z"
   },
   {
    "duration": 43,
    "start_time": "2022-02-01T16:58:45.124Z"
   },
   {
    "duration": 4,
    "start_time": "2022-02-01T17:04:10.937Z"
   },
   {
    "duration": 28,
    "start_time": "2022-02-01T17:05:29.479Z"
   },
   {
    "duration": 36,
    "start_time": "2022-02-01T17:05:38.213Z"
   },
   {
    "duration": 472,
    "start_time": "2022-02-01T17:10:33.116Z"
   },
   {
    "duration": 8,
    "start_time": "2022-02-01T17:11:12.218Z"
   },
   {
    "duration": 10,
    "start_time": "2022-02-01T17:11:19.033Z"
   },
   {
    "duration": 1505,
    "start_time": "2022-02-01T17:11:46.371Z"
   },
   {
    "duration": 553,
    "start_time": "2022-02-01T17:11:47.880Z"
   },
   {
    "duration": 5,
    "start_time": "2022-02-01T17:11:48.436Z"
   },
   {
    "duration": 95,
    "start_time": "2022-02-01T17:11:48.443Z"
   },
   {
    "duration": 16,
    "start_time": "2022-02-01T17:11:48.540Z"
   },
   {
    "duration": 25,
    "start_time": "2022-02-01T17:11:48.559Z"
   },
   {
    "duration": 6,
    "start_time": "2022-02-01T17:11:48.586Z"
   },
   {
    "duration": 112,
    "start_time": "2022-02-01T17:11:48.595Z"
   },
   {
    "duration": 40,
    "start_time": "2022-02-01T17:11:48.711Z"
   },
   {
    "duration": 9,
    "start_time": "2022-02-01T17:11:48.756Z"
   },
   {
    "duration": 19,
    "start_time": "2022-02-01T17:11:48.767Z"
   },
   {
    "duration": 101,
    "start_time": "2022-02-01T17:11:48.789Z"
   },
   {
    "duration": 13,
    "start_time": "2022-02-01T17:11:48.893Z"
   },
   {
    "duration": 4,
    "start_time": "2022-02-01T17:11:48.909Z"
   },
   {
    "duration": 408,
    "start_time": "2022-02-01T17:11:48.916Z"
   },
   {
    "duration": 249,
    "start_time": "2022-02-01T17:11:49.327Z"
   },
   {
    "duration": 4,
    "start_time": "2022-02-01T17:11:49.579Z"
   },
   {
    "duration": 88,
    "start_time": "2022-02-01T17:11:49.586Z"
   },
   {
    "duration": 100,
    "start_time": "2022-02-01T17:11:49.677Z"
   },
   {
    "duration": 98,
    "start_time": "2022-02-01T17:11:49.779Z"
   },
   {
    "duration": 99,
    "start_time": "2022-02-01T17:11:49.879Z"
   },
   {
    "duration": 94,
    "start_time": "2022-02-01T17:11:49.981Z"
   },
   {
    "duration": 9,
    "start_time": "2022-02-01T17:11:54.782Z"
   },
   {
    "duration": 4,
    "start_time": "2022-02-01T17:11:56.192Z"
   },
   {
    "duration": 29,
    "start_time": "2022-02-01T17:11:56.983Z"
   },
   {
    "duration": 37,
    "start_time": "2022-02-01T17:12:04.083Z"
   },
   {
    "duration": 1062,
    "start_time": "2022-02-02T08:23:44.294Z"
   },
   {
    "duration": 361,
    "start_time": "2022-02-02T08:23:45.358Z"
   },
   {
    "duration": 3,
    "start_time": "2022-02-02T08:23:45.721Z"
   },
   {
    "duration": 48,
    "start_time": "2022-02-02T08:23:45.725Z"
   },
   {
    "duration": 7,
    "start_time": "2022-02-02T08:23:45.774Z"
   },
   {
    "duration": 2,
    "start_time": "2022-02-02T08:23:45.783Z"
   },
   {
    "duration": 6,
    "start_time": "2022-02-02T08:23:45.787Z"
   },
   {
    "duration": 117,
    "start_time": "2022-02-02T08:23:45.795Z"
   },
   {
    "duration": 30,
    "start_time": "2022-02-02T08:23:45.915Z"
   },
   {
    "duration": 3,
    "start_time": "2022-02-02T08:23:45.946Z"
   },
   {
    "duration": 6,
    "start_time": "2022-02-02T08:23:45.950Z"
   },
   {
    "duration": 71,
    "start_time": "2022-02-02T08:23:45.957Z"
   },
   {
    "duration": 8,
    "start_time": "2022-02-02T08:23:46.030Z"
   },
   {
    "duration": 2,
    "start_time": "2022-02-02T08:23:46.039Z"
   },
   {
    "duration": 153,
    "start_time": "2022-02-02T08:23:46.044Z"
   },
   {
    "duration": 148,
    "start_time": "2022-02-02T08:23:46.199Z"
   },
   {
    "duration": 3,
    "start_time": "2022-02-02T08:23:46.349Z"
   },
   {
    "duration": 50,
    "start_time": "2022-02-02T08:23:46.353Z"
   },
   {
    "duration": 59,
    "start_time": "2022-02-02T08:23:46.404Z"
   },
   {
    "duration": 50,
    "start_time": "2022-02-02T08:23:46.464Z"
   },
   {
    "duration": 72,
    "start_time": "2022-02-02T08:23:46.515Z"
   },
   {
    "duration": 78,
    "start_time": "2022-02-02T08:23:46.588Z"
   },
   {
    "duration": 2,
    "start_time": "2022-02-02T08:23:46.669Z"
   },
   {
    "duration": 40,
    "start_time": "2022-02-02T08:23:46.673Z"
   },
   {
    "duration": 35,
    "start_time": "2022-02-02T08:23:46.714Z"
   },
   {
    "duration": 29,
    "start_time": "2022-02-02T08:23:46.751Z"
   },
   {
    "duration": 1106,
    "start_time": "2022-02-02T08:27:56.936Z"
   },
   {
    "duration": 390,
    "start_time": "2022-02-02T08:27:58.044Z"
   },
   {
    "duration": 3,
    "start_time": "2022-02-02T08:27:58.436Z"
   },
   {
    "duration": 56,
    "start_time": "2022-02-02T08:27:58.441Z"
   },
   {
    "duration": 10,
    "start_time": "2022-02-02T08:27:58.499Z"
   },
   {
    "duration": 9,
    "start_time": "2022-02-02T08:27:58.510Z"
   },
   {
    "duration": 7,
    "start_time": "2022-02-02T08:27:58.521Z"
   },
   {
    "duration": 75,
    "start_time": "2022-02-02T08:27:58.530Z"
   },
   {
    "duration": 38,
    "start_time": "2022-02-02T08:27:58.608Z"
   },
   {
    "duration": 2,
    "start_time": "2022-02-02T08:27:58.649Z"
   },
   {
    "duration": 7,
    "start_time": "2022-02-02T08:27:58.653Z"
   },
   {
    "duration": 82,
    "start_time": "2022-02-02T08:27:58.662Z"
   },
   {
    "duration": 10,
    "start_time": "2022-02-02T08:27:58.746Z"
   },
   {
    "duration": 3,
    "start_time": "2022-02-02T08:27:58.757Z"
   },
   {
    "duration": 154,
    "start_time": "2022-02-02T08:27:58.762Z"
   },
   {
    "duration": 161,
    "start_time": "2022-02-02T08:27:58.917Z"
   },
   {
    "duration": 3,
    "start_time": "2022-02-02T08:27:59.079Z"
   },
   {
    "duration": 56,
    "start_time": "2022-02-02T08:27:59.083Z"
   },
   {
    "duration": 54,
    "start_time": "2022-02-02T08:27:59.141Z"
   },
   {
    "duration": 67,
    "start_time": "2022-02-02T08:27:59.197Z"
   },
   {
    "duration": 73,
    "start_time": "2022-02-02T08:27:59.266Z"
   },
   {
    "duration": 45,
    "start_time": "2022-02-02T08:27:59.340Z"
   },
   {
    "duration": 2,
    "start_time": "2022-02-02T08:27:59.387Z"
   },
   {
    "duration": 44,
    "start_time": "2022-02-02T08:27:59.390Z"
   },
   {
    "duration": 17,
    "start_time": "2022-02-02T08:27:59.436Z"
   },
   {
    "duration": 20,
    "start_time": "2022-02-02T08:27:59.455Z"
   },
   {
    "duration": 14,
    "start_time": "2022-02-02T08:27:59.478Z"
   },
   {
    "duration": 14,
    "start_time": "2022-02-02T08:28:11.954Z"
   },
   {
    "duration": 13,
    "start_time": "2022-02-02T08:28:40.740Z"
   },
   {
    "duration": 10058,
    "start_time": "2022-02-02T08:29:05.180Z"
   },
   {
    "duration": 9731,
    "start_time": "2022-02-02T08:29:33.530Z"
   },
   {
    "duration": 4,
    "start_time": "2022-02-02T08:29:56.475Z"
   },
   {
    "duration": 6,
    "start_time": "2022-02-02T08:30:06.252Z"
   },
   {
    "duration": 6,
    "start_time": "2022-02-02T08:30:31.232Z"
   },
   {
    "duration": 348,
    "start_time": "2022-02-02T08:30:39.842Z"
   },
   {
    "duration": 5,
    "start_time": "2022-02-02T08:31:02.764Z"
   },
   {
    "duration": 16,
    "start_time": "2022-02-02T08:31:31.923Z"
   },
   {
    "duration": 5,
    "start_time": "2022-02-02T08:31:36.221Z"
   },
   {
    "duration": 335,
    "start_time": "2022-02-02T08:31:51.016Z"
   },
   {
    "duration": 365,
    "start_time": "2022-02-02T08:32:07.939Z"
   },
   {
    "duration": 340,
    "start_time": "2022-02-02T08:32:13.294Z"
   },
   {
    "duration": 15,
    "start_time": "2022-02-02T08:32:30.811Z"
   },
   {
    "duration": 5,
    "start_time": "2022-02-02T08:35:24.803Z"
   },
   {
    "duration": 19,
    "start_time": "2022-02-02T08:40:37.909Z"
   },
   {
    "duration": 5,
    "start_time": "2022-02-02T08:40:41.822Z"
   },
   {
    "duration": 1233,
    "start_time": "2022-02-02T08:40:56.604Z"
   },
   {
    "duration": 399,
    "start_time": "2022-02-02T08:40:57.839Z"
   },
   {
    "duration": 3,
    "start_time": "2022-02-02T08:40:58.240Z"
   },
   {
    "duration": 50,
    "start_time": "2022-02-02T08:40:58.245Z"
   },
   {
    "duration": 9,
    "start_time": "2022-02-02T08:40:58.297Z"
   },
   {
    "duration": 6,
    "start_time": "2022-02-02T08:40:58.308Z"
   },
   {
    "duration": 11,
    "start_time": "2022-02-02T08:40:58.316Z"
   },
   {
    "duration": 80,
    "start_time": "2022-02-02T08:40:58.329Z"
   },
   {
    "duration": 34,
    "start_time": "2022-02-02T08:40:58.412Z"
   },
   {
    "duration": 3,
    "start_time": "2022-02-02T08:40:58.448Z"
   },
   {
    "duration": 7,
    "start_time": "2022-02-02T08:40:58.452Z"
   },
   {
    "duration": 77,
    "start_time": "2022-02-02T08:40:58.461Z"
   },
   {
    "duration": 11,
    "start_time": "2022-02-02T08:40:58.540Z"
   },
   {
    "duration": 3,
    "start_time": "2022-02-02T08:40:58.552Z"
   },
   {
    "duration": 173,
    "start_time": "2022-02-02T08:40:58.557Z"
   },
   {
    "duration": 160,
    "start_time": "2022-02-02T08:40:58.732Z"
   },
   {
    "duration": 3,
    "start_time": "2022-02-02T08:40:58.894Z"
   },
   {
    "duration": 51,
    "start_time": "2022-02-02T08:40:58.899Z"
   },
   {
    "duration": 52,
    "start_time": "2022-02-02T08:40:58.952Z"
   },
   {
    "duration": 81,
    "start_time": "2022-02-02T08:40:59.006Z"
   },
   {
    "duration": 88,
    "start_time": "2022-02-02T08:40:59.089Z"
   },
   {
    "duration": 71,
    "start_time": "2022-02-02T08:40:59.179Z"
   },
   {
    "duration": 36,
    "start_time": "2022-02-02T08:40:59.252Z"
   },
   {
    "duration": 43,
    "start_time": "2022-02-02T08:40:59.290Z"
   },
   {
    "duration": 31,
    "start_time": "2022-02-02T08:40:59.335Z"
   },
   {
    "duration": 20,
    "start_time": "2022-02-02T08:40:59.368Z"
   },
   {
    "duration": 41,
    "start_time": "2022-02-02T08:40:59.391Z"
   },
   {
    "duration": 468,
    "start_time": "2022-02-02T08:44:19.103Z"
   },
   {
    "duration": 586,
    "start_time": "2022-02-02T08:44:26.559Z"
   },
   {
    "duration": 16,
    "start_time": "2022-02-02T08:44:34.249Z"
   },
   {
    "duration": 6,
    "start_time": "2022-02-02T08:45:09.294Z"
   },
   {
    "duration": 14,
    "start_time": "2022-02-02T08:45:29.090Z"
   },
   {
    "duration": 19,
    "start_time": "2022-02-02T08:45:32.803Z"
   },
   {
    "duration": 11,
    "start_time": "2022-02-02T08:45:53.923Z"
   },
   {
    "duration": 2022,
    "start_time": "2022-02-02T08:46:59.624Z"
   },
   {
    "duration": 449,
    "start_time": "2022-02-02T08:47:01.648Z"
   },
   {
    "duration": 3,
    "start_time": "2022-02-02T08:47:02.101Z"
   },
   {
    "duration": 57,
    "start_time": "2022-02-02T08:47:02.106Z"
   },
   {
    "duration": 10,
    "start_time": "2022-02-02T08:47:02.165Z"
   },
   {
    "duration": 6,
    "start_time": "2022-02-02T08:47:02.177Z"
   },
   {
    "duration": 7,
    "start_time": "2022-02-02T08:47:02.186Z"
   },
   {
    "duration": 86,
    "start_time": "2022-02-02T08:47:02.195Z"
   },
   {
    "duration": 26,
    "start_time": "2022-02-02T08:47:02.282Z"
   },
   {
    "duration": 3,
    "start_time": "2022-02-02T08:47:02.310Z"
   },
   {
    "duration": 4,
    "start_time": "2022-02-02T08:47:02.327Z"
   },
   {
    "duration": 62,
    "start_time": "2022-02-02T08:47:02.332Z"
   },
   {
    "duration": 9,
    "start_time": "2022-02-02T08:47:02.395Z"
   },
   {
    "duration": 2,
    "start_time": "2022-02-02T08:47:02.428Z"
   },
   {
    "duration": 137,
    "start_time": "2022-02-02T08:47:02.432Z"
   },
   {
    "duration": 154,
    "start_time": "2022-02-02T08:47:02.571Z"
   },
   {
    "duration": 3,
    "start_time": "2022-02-02T08:47:02.727Z"
   },
   {
    "duration": 60,
    "start_time": "2022-02-02T08:47:02.732Z"
   },
   {
    "duration": 88,
    "start_time": "2022-02-02T08:47:02.794Z"
   },
   {
    "duration": 81,
    "start_time": "2022-02-02T08:47:02.884Z"
   },
   {
    "duration": 84,
    "start_time": "2022-02-02T08:47:02.967Z"
   },
   {
    "duration": 80,
    "start_time": "2022-02-02T08:47:03.055Z"
   },
   {
    "duration": 40,
    "start_time": "2022-02-02T08:47:03.137Z"
   },
   {
    "duration": 29,
    "start_time": "2022-02-02T08:47:03.179Z"
   },
   {
    "duration": 46,
    "start_time": "2022-02-02T08:47:03.210Z"
   },
   {
    "duration": 20,
    "start_time": "2022-02-02T08:47:03.258Z"
   },
   {
    "duration": 26,
    "start_time": "2022-02-02T08:47:03.280Z"
   },
   {
    "duration": 561,
    "start_time": "2022-02-02T08:47:03.308Z"
   },
   {
    "duration": 13,
    "start_time": "2022-02-02T08:48:23.983Z"
   },
   {
    "duration": 15,
    "start_time": "2022-02-02T08:48:40.698Z"
   },
   {
    "duration": 23,
    "start_time": "2022-02-02T08:48:49.365Z"
   },
   {
    "duration": 21,
    "start_time": "2022-02-02T08:51:11.745Z"
   },
   {
    "duration": 10,
    "start_time": "2022-02-02T08:56:35.864Z"
   },
   {
    "duration": 16,
    "start_time": "2022-02-02T08:56:43.118Z"
   },
   {
    "duration": 13,
    "start_time": "2022-02-02T08:57:06.003Z"
   },
   {
    "duration": 20,
    "start_time": "2022-02-02T08:57:49.094Z"
   },
   {
    "duration": 6,
    "start_time": "2022-02-02T08:59:06.258Z"
   },
   {
    "duration": 1065,
    "start_time": "2022-02-02T08:59:14.887Z"
   },
   {
    "duration": 376,
    "start_time": "2022-02-02T08:59:15.953Z"
   },
   {
    "duration": 3,
    "start_time": "2022-02-02T08:59:16.331Z"
   },
   {
    "duration": 48,
    "start_time": "2022-02-02T08:59:16.336Z"
   },
   {
    "duration": 8,
    "start_time": "2022-02-02T08:59:16.386Z"
   },
   {
    "duration": 6,
    "start_time": "2022-02-02T08:59:16.395Z"
   },
   {
    "duration": 6,
    "start_time": "2022-02-02T08:59:16.403Z"
   },
   {
    "duration": 78,
    "start_time": "2022-02-02T08:59:16.410Z"
   },
   {
    "duration": 25,
    "start_time": "2022-02-02T08:59:16.490Z"
   },
   {
    "duration": 10,
    "start_time": "2022-02-02T08:59:16.517Z"
   },
   {
    "duration": 3,
    "start_time": "2022-02-02T08:59:16.529Z"
   },
   {
    "duration": 61,
    "start_time": "2022-02-02T08:59:16.534Z"
   },
   {
    "duration": 33,
    "start_time": "2022-02-02T08:59:16.596Z"
   },
   {
    "duration": 3,
    "start_time": "2022-02-02T08:59:16.630Z"
   },
   {
    "duration": 142,
    "start_time": "2022-02-02T08:59:16.634Z"
   },
   {
    "duration": 159,
    "start_time": "2022-02-02T08:59:16.777Z"
   },
   {
    "duration": 2,
    "start_time": "2022-02-02T08:59:16.937Z"
   },
   {
    "duration": 47,
    "start_time": "2022-02-02T08:59:16.941Z"
   },
   {
    "duration": 64,
    "start_time": "2022-02-02T08:59:16.989Z"
   },
   {
    "duration": 51,
    "start_time": "2022-02-02T08:59:17.054Z"
   },
   {
    "duration": 65,
    "start_time": "2022-02-02T08:59:17.106Z"
   },
   {
    "duration": 45,
    "start_time": "2022-02-02T08:59:17.173Z"
   },
   {
    "duration": 24,
    "start_time": "2022-02-02T08:59:17.227Z"
   },
   {
    "duration": 17,
    "start_time": "2022-02-02T08:59:17.252Z"
   },
   {
    "duration": 20,
    "start_time": "2022-02-02T08:59:17.271Z"
   },
   {
    "duration": 34,
    "start_time": "2022-02-02T08:59:17.293Z"
   },
   {
    "duration": 20,
    "start_time": "2022-02-02T08:59:17.330Z"
   },
   {
    "duration": 566,
    "start_time": "2022-02-02T08:59:17.352Z"
   },
   {
    "duration": 8,
    "start_time": "2022-02-02T08:59:17.920Z"
   },
   {
    "duration": 15,
    "start_time": "2022-02-02T09:00:12.117Z"
   },
   {
    "duration": 7,
    "start_time": "2022-02-02T09:00:23.788Z"
   },
   {
    "duration": 4,
    "start_time": "2022-02-02T09:00:40.081Z"
   },
   {
    "duration": 15,
    "start_time": "2022-02-02T09:00:48.797Z"
   },
   {
    "duration": 7,
    "start_time": "2022-02-02T09:17:13.373Z"
   },
   {
    "duration": 1102,
    "start_time": "2022-02-02T09:33:02.448Z"
   },
   {
    "duration": 380,
    "start_time": "2022-02-02T09:33:03.553Z"
   },
   {
    "duration": 3,
    "start_time": "2022-02-02T09:33:03.935Z"
   },
   {
    "duration": 52,
    "start_time": "2022-02-02T09:33:03.940Z"
   },
   {
    "duration": 8,
    "start_time": "2022-02-02T09:33:03.993Z"
   },
   {
    "duration": 5,
    "start_time": "2022-02-02T09:33:04.003Z"
   },
   {
    "duration": 19,
    "start_time": "2022-02-02T09:33:04.011Z"
   },
   {
    "duration": 108,
    "start_time": "2022-02-02T09:33:04.033Z"
   },
   {
    "duration": 35,
    "start_time": "2022-02-02T09:33:04.143Z"
   },
   {
    "duration": 4,
    "start_time": "2022-02-02T09:33:04.180Z"
   },
   {
    "duration": 11,
    "start_time": "2022-02-02T09:33:04.186Z"
   },
   {
    "duration": 87,
    "start_time": "2022-02-02T09:33:04.199Z"
   },
   {
    "duration": 9,
    "start_time": "2022-02-02T09:33:04.288Z"
   },
   {
    "duration": 29,
    "start_time": "2022-02-02T09:33:04.299Z"
   },
   {
    "duration": 258,
    "start_time": "2022-02-02T09:33:04.330Z"
   },
   {
    "duration": 235,
    "start_time": "2022-02-02T09:33:04.590Z"
   },
   {
    "duration": 8,
    "start_time": "2022-02-02T09:33:04.828Z"
   },
   {
    "duration": 76,
    "start_time": "2022-02-02T09:33:04.838Z"
   },
   {
    "duration": 63,
    "start_time": "2022-02-02T09:33:04.916Z"
   },
   {
    "duration": 63,
    "start_time": "2022-02-02T09:33:04.981Z"
   },
   {
    "duration": 52,
    "start_time": "2022-02-02T09:33:05.046Z"
   },
   {
    "duration": 59,
    "start_time": "2022-02-02T09:33:05.101Z"
   },
   {
    "duration": 25,
    "start_time": "2022-02-02T09:33:05.161Z"
   },
   {
    "duration": 18,
    "start_time": "2022-02-02T09:33:05.188Z"
   },
   {
    "duration": 21,
    "start_time": "2022-02-02T09:33:05.227Z"
   },
   {
    "duration": 15,
    "start_time": "2022-02-02T09:33:05.250Z"
   },
   {
    "duration": 21,
    "start_time": "2022-02-02T09:33:05.266Z"
   },
   {
    "duration": 605,
    "start_time": "2022-02-02T09:33:05.289Z"
   },
   {
    "duration": 6,
    "start_time": "2022-02-02T09:33:05.895Z"
   },
   {
    "duration": 26,
    "start_time": "2022-02-02T09:33:05.903Z"
   },
   {
    "duration": 1321,
    "start_time": "2022-02-02T09:37:05.721Z"
   },
   {
    "duration": 381,
    "start_time": "2022-02-02T09:37:07.044Z"
   },
   {
    "duration": 4,
    "start_time": "2022-02-02T09:37:07.427Z"
   },
   {
    "duration": 50,
    "start_time": "2022-02-02T09:37:07.433Z"
   },
   {
    "duration": 10,
    "start_time": "2022-02-02T09:37:07.485Z"
   },
   {
    "duration": 4,
    "start_time": "2022-02-02T09:37:07.497Z"
   },
   {
    "duration": 4,
    "start_time": "2022-02-02T09:37:07.527Z"
   },
   {
    "duration": 69,
    "start_time": "2022-02-02T09:37:07.533Z"
   },
   {
    "duration": 39,
    "start_time": "2022-02-02T09:37:07.605Z"
   },
   {
    "duration": 4,
    "start_time": "2022-02-02T09:37:07.646Z"
   },
   {
    "duration": 7,
    "start_time": "2022-02-02T09:37:07.652Z"
   },
   {
    "duration": 88,
    "start_time": "2022-02-02T09:37:07.661Z"
   },
   {
    "duration": 8,
    "start_time": "2022-02-02T09:37:07.751Z"
   },
   {
    "duration": 3,
    "start_time": "2022-02-02T09:37:07.761Z"
   },
   {
    "duration": 297,
    "start_time": "2022-02-02T09:37:07.766Z"
   },
   {
    "duration": 229,
    "start_time": "2022-02-02T09:37:08.065Z"
   },
   {
    "duration": 3,
    "start_time": "2022-02-02T09:37:08.296Z"
   },
   {
    "duration": 65,
    "start_time": "2022-02-02T09:37:08.301Z"
   },
   {
    "duration": 85,
    "start_time": "2022-02-02T09:37:08.368Z"
   },
   {
    "duration": 85,
    "start_time": "2022-02-02T09:37:08.454Z"
   },
   {
    "duration": 73,
    "start_time": "2022-02-02T09:37:08.541Z"
   },
   {
    "duration": 70,
    "start_time": "2022-02-02T09:37:08.628Z"
   },
   {
    "duration": 51,
    "start_time": "2022-02-02T09:37:08.700Z"
   },
   {
    "duration": 29,
    "start_time": "2022-02-02T09:37:08.753Z"
   },
   {
    "duration": 48,
    "start_time": "2022-02-02T09:37:08.784Z"
   },
   {
    "duration": 19,
    "start_time": "2022-02-02T09:37:08.834Z"
   },
   {
    "duration": 20,
    "start_time": "2022-02-02T09:37:08.857Z"
   },
   {
    "duration": 1085,
    "start_time": "2022-02-02T09:37:08.879Z"
   },
   {
    "duration": 6,
    "start_time": "2022-02-02T09:37:09.966Z"
   },
   {
    "duration": 22,
    "start_time": "2022-02-02T09:37:09.974Z"
   },
   {
    "duration": 10,
    "start_time": "2022-02-02T09:40:39.079Z"
   },
   {
    "duration": 128,
    "start_time": "2022-02-02T10:12:43.813Z"
   },
   {
    "duration": 123,
    "start_time": "2022-02-02T10:13:45.256Z"
   },
   {
    "duration": 7,
    "start_time": "2022-02-02T10:15:23.392Z"
   },
   {
    "duration": 436,
    "start_time": "2022-02-02T10:15:24.923Z"
   },
   {
    "duration": 17,
    "start_time": "2022-02-02T10:15:45.801Z"
   },
   {
    "duration": 13,
    "start_time": "2022-02-02T10:16:35.241Z"
   },
   {
    "duration": 1298,
    "start_time": "2022-02-02T10:17:18.739Z"
   },
   {
    "duration": 379,
    "start_time": "2022-02-02T10:17:20.039Z"
   },
   {
    "duration": 3,
    "start_time": "2022-02-02T10:17:20.420Z"
   },
   {
    "duration": 52,
    "start_time": "2022-02-02T10:17:20.425Z"
   },
   {
    "duration": 8,
    "start_time": "2022-02-02T10:17:20.479Z"
   },
   {
    "duration": 7,
    "start_time": "2022-02-02T10:17:20.489Z"
   },
   {
    "duration": 4,
    "start_time": "2022-02-02T10:17:20.498Z"
   },
   {
    "duration": 77,
    "start_time": "2022-02-02T10:17:20.505Z"
   },
   {
    "duration": 26,
    "start_time": "2022-02-02T10:17:20.585Z"
   },
   {
    "duration": 15,
    "start_time": "2022-02-02T10:17:20.613Z"
   },
   {
    "duration": 8,
    "start_time": "2022-02-02T10:17:20.630Z"
   },
   {
    "duration": 72,
    "start_time": "2022-02-02T10:17:20.639Z"
   },
   {
    "duration": 15,
    "start_time": "2022-02-02T10:17:20.713Z"
   },
   {
    "duration": 7,
    "start_time": "2022-02-02T10:17:20.730Z"
   },
   {
    "duration": 290,
    "start_time": "2022-02-02T10:17:20.739Z"
   },
   {
    "duration": 156,
    "start_time": "2022-02-02T10:17:21.031Z"
   },
   {
    "duration": 2,
    "start_time": "2022-02-02T10:17:21.189Z"
   },
   {
    "duration": 56,
    "start_time": "2022-02-02T10:17:21.192Z"
   },
   {
    "duration": 52,
    "start_time": "2022-02-02T10:17:21.250Z"
   },
   {
    "duration": 69,
    "start_time": "2022-02-02T10:17:21.303Z"
   },
   {
    "duration": 62,
    "start_time": "2022-02-02T10:17:21.374Z"
   },
   {
    "duration": 45,
    "start_time": "2022-02-02T10:17:21.438Z"
   },
   {
    "duration": 41,
    "start_time": "2022-02-02T10:17:21.486Z"
   },
   {
    "duration": 18,
    "start_time": "2022-02-02T10:17:21.529Z"
   },
   {
    "duration": 27,
    "start_time": "2022-02-02T10:17:21.549Z"
   },
   {
    "duration": 14,
    "start_time": "2022-02-02T10:17:21.577Z"
   },
   {
    "duration": 21,
    "start_time": "2022-02-02T10:17:21.593Z"
   },
   {
    "duration": 582,
    "start_time": "2022-02-02T10:17:21.616Z"
   },
   {
    "duration": 4,
    "start_time": "2022-02-02T10:17:22.200Z"
   },
   {
    "duration": 9,
    "start_time": "2022-02-02T10:17:22.206Z"
   },
   {
    "duration": 15,
    "start_time": "2022-02-02T10:17:22.217Z"
   },
   {
    "duration": 454,
    "start_time": "2022-02-02T10:17:22.233Z"
   },
   {
    "duration": 14,
    "start_time": "2022-02-02T10:17:37.752Z"
   },
   {
    "duration": 9,
    "start_time": "2022-02-02T10:17:48.704Z"
   },
   {
    "duration": 1397,
    "start_time": "2022-02-02T10:26:44.747Z"
   },
   {
    "duration": 383,
    "start_time": "2022-02-02T10:26:46.146Z"
   },
   {
    "duration": 3,
    "start_time": "2022-02-02T10:26:46.531Z"
   },
   {
    "duration": 53,
    "start_time": "2022-02-02T10:26:46.536Z"
   },
   {
    "duration": 8,
    "start_time": "2022-02-02T10:26:46.591Z"
   },
   {
    "duration": 4,
    "start_time": "2022-02-02T10:26:46.601Z"
   },
   {
    "duration": 21,
    "start_time": "2022-02-02T10:26:46.606Z"
   },
   {
    "duration": 65,
    "start_time": "2022-02-02T10:26:46.629Z"
   },
   {
    "duration": 37,
    "start_time": "2022-02-02T10:26:46.697Z"
   },
   {
    "duration": 2,
    "start_time": "2022-02-02T10:26:46.737Z"
   },
   {
    "duration": 9,
    "start_time": "2022-02-02T10:26:46.741Z"
   },
   {
    "duration": 78,
    "start_time": "2022-02-02T10:26:46.751Z"
   },
   {
    "duration": 11,
    "start_time": "2022-02-02T10:26:46.830Z"
   },
   {
    "duration": 3,
    "start_time": "2022-02-02T10:26:46.842Z"
   },
   {
    "duration": 152,
    "start_time": "2022-02-02T10:26:46.846Z"
   },
   {
    "duration": 171,
    "start_time": "2022-02-02T10:26:47.000Z"
   },
   {
    "duration": 3,
    "start_time": "2022-02-02T10:26:47.173Z"
   },
   {
    "duration": 55,
    "start_time": "2022-02-02T10:26:47.178Z"
   },
   {
    "duration": 51,
    "start_time": "2022-02-02T10:26:47.235Z"
   },
   {
    "duration": 68,
    "start_time": "2022-02-02T10:26:47.288Z"
   },
   {
    "duration": 49,
    "start_time": "2022-02-02T10:26:47.358Z"
   },
   {
    "duration": 62,
    "start_time": "2022-02-02T10:26:47.409Z"
   },
   {
    "duration": 26,
    "start_time": "2022-02-02T10:26:47.473Z"
   },
   {
    "duration": 36,
    "start_time": "2022-02-02T10:26:47.500Z"
   },
   {
    "duration": 22,
    "start_time": "2022-02-02T10:26:47.538Z"
   },
   {
    "duration": 15,
    "start_time": "2022-02-02T10:26:47.561Z"
   },
   {
    "duration": 19,
    "start_time": "2022-02-02T10:26:47.579Z"
   },
   {
    "duration": 628,
    "start_time": "2022-02-02T10:26:47.600Z"
   },
   {
    "duration": 6,
    "start_time": "2022-02-02T10:26:48.230Z"
   },
   {
    "duration": 9,
    "start_time": "2022-02-02T10:26:48.238Z"
   },
   {
    "duration": 9,
    "start_time": "2022-02-02T10:26:48.249Z"
   },
   {
    "duration": 449,
    "start_time": "2022-02-02T10:26:48.260Z"
   },
   {
    "duration": 78,
    "start_time": "2022-02-02T10:27:25.346Z"
   },
   {
    "duration": 1166,
    "start_time": "2022-02-02T10:34:39.797Z"
   },
   {
    "duration": 375,
    "start_time": "2022-02-02T10:34:40.966Z"
   },
   {
    "duration": 3,
    "start_time": "2022-02-02T10:34:41.345Z"
   },
   {
    "duration": 93,
    "start_time": "2022-02-02T10:34:41.349Z"
   },
   {
    "duration": 7,
    "start_time": "2022-02-02T10:34:41.444Z"
   },
   {
    "duration": 8,
    "start_time": "2022-02-02T10:34:41.453Z"
   },
   {
    "duration": 11,
    "start_time": "2022-02-02T10:34:41.464Z"
   },
   {
    "duration": 79,
    "start_time": "2022-02-02T10:34:41.477Z"
   },
   {
    "duration": 25,
    "start_time": "2022-02-02T10:34:41.558Z"
   },
   {
    "duration": 3,
    "start_time": "2022-02-02T10:34:41.584Z"
   },
   {
    "duration": 10,
    "start_time": "2022-02-02T10:34:41.589Z"
   },
   {
    "duration": 77,
    "start_time": "2022-02-02T10:34:41.601Z"
   },
   {
    "duration": 8,
    "start_time": "2022-02-02T10:34:41.679Z"
   },
   {
    "duration": 5,
    "start_time": "2022-02-02T10:34:41.689Z"
   },
   {
    "duration": 160,
    "start_time": "2022-02-02T10:34:41.695Z"
   },
   {
    "duration": 149,
    "start_time": "2022-02-02T10:34:41.856Z"
   },
   {
    "duration": 2,
    "start_time": "2022-02-02T10:34:42.007Z"
   },
   {
    "duration": 56,
    "start_time": "2022-02-02T10:34:42.010Z"
   },
   {
    "duration": 60,
    "start_time": "2022-02-02T10:34:42.068Z"
   },
   {
    "duration": 51,
    "start_time": "2022-02-02T10:34:42.129Z"
   },
   {
    "duration": 70,
    "start_time": "2022-02-02T10:34:42.181Z"
   },
   {
    "duration": 47,
    "start_time": "2022-02-02T10:34:42.254Z"
   },
   {
    "duration": 36,
    "start_time": "2022-02-02T10:34:42.303Z"
   },
   {
    "duration": 18,
    "start_time": "2022-02-02T10:34:42.341Z"
   },
   {
    "duration": 21,
    "start_time": "2022-02-02T10:34:42.360Z"
   },
   {
    "duration": 15,
    "start_time": "2022-02-02T10:34:42.382Z"
   },
   {
    "duration": 48,
    "start_time": "2022-02-02T10:34:42.399Z"
   },
   {
    "duration": 570,
    "start_time": "2022-02-02T10:34:42.449Z"
   },
   {
    "duration": 8,
    "start_time": "2022-02-02T10:34:43.020Z"
   },
   {
    "duration": 5,
    "start_time": "2022-02-02T10:34:43.030Z"
   },
   {
    "duration": 443,
    "start_time": "2022-02-02T10:34:43.037Z"
   },
   {
    "duration": 1123,
    "start_time": "2022-02-02T10:48:26.628Z"
   },
   {
    "duration": 406,
    "start_time": "2022-02-02T10:48:27.752Z"
   },
   {
    "duration": 3,
    "start_time": "2022-02-02T10:48:28.160Z"
   },
   {
    "duration": 88,
    "start_time": "2022-02-02T10:48:28.165Z"
   },
   {
    "duration": 8,
    "start_time": "2022-02-02T10:48:28.255Z"
   },
   {
    "duration": 5,
    "start_time": "2022-02-02T10:48:28.265Z"
   },
   {
    "duration": 7,
    "start_time": "2022-02-02T10:48:28.271Z"
   },
   {
    "duration": 89,
    "start_time": "2022-02-02T10:48:28.281Z"
   },
   {
    "duration": 33,
    "start_time": "2022-02-02T10:48:28.372Z"
   },
   {
    "duration": 4,
    "start_time": "2022-02-02T10:48:28.407Z"
   },
   {
    "duration": 18,
    "start_time": "2022-02-02T10:48:28.412Z"
   },
   {
    "duration": 64,
    "start_time": "2022-02-02T10:48:28.432Z"
   },
   {
    "duration": 32,
    "start_time": "2022-02-02T10:48:28.498Z"
   },
   {
    "duration": 2,
    "start_time": "2022-02-02T10:48:28.532Z"
   },
   {
    "duration": 144,
    "start_time": "2022-02-02T10:48:28.536Z"
   },
   {
    "duration": 155,
    "start_time": "2022-02-02T10:48:28.682Z"
   },
   {
    "duration": 2,
    "start_time": "2022-02-02T10:48:28.839Z"
   },
   {
    "duration": 49,
    "start_time": "2022-02-02T10:48:28.843Z"
   },
   {
    "duration": 63,
    "start_time": "2022-02-02T10:48:28.893Z"
   },
   {
    "duration": 53,
    "start_time": "2022-02-02T10:48:28.957Z"
   },
   {
    "duration": 61,
    "start_time": "2022-02-02T10:48:29.011Z"
   },
   {
    "duration": 59,
    "start_time": "2022-02-02T10:48:29.074Z"
   },
   {
    "duration": 25,
    "start_time": "2022-02-02T10:48:29.135Z"
   },
   {
    "duration": 18,
    "start_time": "2022-02-02T10:48:29.162Z"
   },
   {
    "duration": 20,
    "start_time": "2022-02-02T10:48:29.182Z"
   },
   {
    "duration": 41,
    "start_time": "2022-02-02T10:48:29.203Z"
   },
   {
    "duration": 28,
    "start_time": "2022-02-02T10:48:29.246Z"
   },
   {
    "duration": 977,
    "start_time": "2022-02-02T10:48:29.276Z"
   },
   {
    "duration": 7,
    "start_time": "2022-02-02T10:48:30.255Z"
   },
   {
    "duration": 12,
    "start_time": "2022-02-02T10:48:30.263Z"
   },
   {
    "duration": 794,
    "start_time": "2022-02-02T10:48:30.277Z"
   },
   {
    "duration": 15,
    "start_time": "2022-02-02T11:05:26.635Z"
   },
   {
    "duration": 118,
    "start_time": "2022-02-02T11:21:29.775Z"
   },
   {
    "duration": 13,
    "start_time": "2022-02-02T11:21:46.789Z"
   },
   {
    "duration": 12,
    "start_time": "2022-02-02T11:22:46.205Z"
   },
   {
    "duration": 9,
    "start_time": "2022-02-02T11:24:08.911Z"
   },
   {
    "duration": 13,
    "start_time": "2022-02-02T11:26:10.119Z"
   },
   {
    "duration": 21,
    "start_time": "2022-02-02T11:28:34.204Z"
   },
   {
    "duration": 10,
    "start_time": "2022-02-02T11:28:58.545Z"
   },
   {
    "duration": 16,
    "start_time": "2022-02-02T11:29:17.588Z"
   },
   {
    "duration": 1146,
    "start_time": "2022-02-02T11:36:57.114Z"
   },
   {
    "duration": 393,
    "start_time": "2022-02-02T11:36:58.262Z"
   },
   {
    "duration": 4,
    "start_time": "2022-02-02T11:36:58.657Z"
   },
   {
    "duration": 87,
    "start_time": "2022-02-02T11:36:58.663Z"
   },
   {
    "duration": 7,
    "start_time": "2022-02-02T11:36:58.751Z"
   },
   {
    "duration": 3,
    "start_time": "2022-02-02T11:36:58.760Z"
   },
   {
    "duration": 5,
    "start_time": "2022-02-02T11:36:58.764Z"
   },
   {
    "duration": 84,
    "start_time": "2022-02-02T11:36:58.770Z"
   },
   {
    "duration": 26,
    "start_time": "2022-02-02T11:36:58.857Z"
   },
   {
    "duration": 2,
    "start_time": "2022-02-02T11:36:58.885Z"
   },
   {
    "duration": 5,
    "start_time": "2022-02-02T11:36:58.889Z"
   },
   {
    "duration": 75,
    "start_time": "2022-02-02T11:36:58.895Z"
   },
   {
    "duration": 8,
    "start_time": "2022-02-02T11:36:58.972Z"
   },
   {
    "duration": 2,
    "start_time": "2022-02-02T11:36:58.982Z"
   },
   {
    "duration": 161,
    "start_time": "2022-02-02T11:36:58.986Z"
   },
   {
    "duration": 160,
    "start_time": "2022-02-02T11:36:59.148Z"
   },
   {
    "duration": 2,
    "start_time": "2022-02-02T11:36:59.310Z"
   },
   {
    "duration": 52,
    "start_time": "2022-02-02T11:36:59.313Z"
   },
   {
    "duration": 61,
    "start_time": "2022-02-02T11:36:59.367Z"
   },
   {
    "duration": 54,
    "start_time": "2022-02-02T11:36:59.429Z"
   },
   {
    "duration": 67,
    "start_time": "2022-02-02T11:36:59.484Z"
   },
   {
    "duration": 48,
    "start_time": "2022-02-02T11:36:59.553Z"
   },
   {
    "duration": 36,
    "start_time": "2022-02-02T11:36:59.603Z"
   },
   {
    "duration": 20,
    "start_time": "2022-02-02T11:36:59.640Z"
   },
   {
    "duration": 22,
    "start_time": "2022-02-02T11:36:59.661Z"
   },
   {
    "duration": 15,
    "start_time": "2022-02-02T11:36:59.684Z"
   },
   {
    "duration": 19,
    "start_time": "2022-02-02T11:36:59.727Z"
   },
   {
    "duration": 572,
    "start_time": "2022-02-02T11:36:59.748Z"
   },
   {
    "duration": 7,
    "start_time": "2022-02-02T11:37:00.322Z"
   },
   {
    "duration": 23,
    "start_time": "2022-02-02T11:37:00.331Z"
   },
   {
    "duration": 434,
    "start_time": "2022-02-02T11:37:00.356Z"
   },
   {
    "duration": 17,
    "start_time": "2022-02-02T11:37:00.792Z"
   },
   {
    "duration": 3,
    "start_time": "2022-02-02T11:37:00.810Z"
   },
   {
    "duration": 3,
    "start_time": "2022-02-02T11:41:07.133Z"
   },
   {
    "duration": 11,
    "start_time": "2022-02-02T11:48:46.840Z"
   },
   {
    "duration": 29,
    "start_time": "2022-02-02T11:51:15.225Z"
   },
   {
    "duration": 458,
    "start_time": "2022-02-02T11:51:46.551Z"
   },
   {
    "duration": 26,
    "start_time": "2022-02-02T11:52:16.197Z"
   },
   {
    "duration": 19,
    "start_time": "2022-02-02T11:53:41.294Z"
   },
   {
    "duration": 34,
    "start_time": "2022-02-02T11:53:55.684Z"
   },
   {
    "duration": 26,
    "start_time": "2022-02-02T11:55:11.508Z"
   },
   {
    "duration": 1628,
    "start_time": "2022-02-02T11:57:32.141Z"
   },
   {
    "duration": -4713,
    "start_time": "2022-02-02T11:57:38.485Z"
   },
   {
    "duration": -4727,
    "start_time": "2022-02-02T11:57:38.501Z"
   },
   {
    "duration": -4728,
    "start_time": "2022-02-02T11:57:38.504Z"
   },
   {
    "duration": -4731,
    "start_time": "2022-02-02T11:57:38.508Z"
   },
   {
    "duration": -4737,
    "start_time": "2022-02-02T11:57:38.515Z"
   },
   {
    "duration": -4741,
    "start_time": "2022-02-02T11:57:38.519Z"
   },
   {
    "duration": -4743,
    "start_time": "2022-02-02T11:57:38.522Z"
   },
   {
    "duration": -4746,
    "start_time": "2022-02-02T11:57:38.526Z"
   },
   {
    "duration": -4751,
    "start_time": "2022-02-02T11:57:38.532Z"
   },
   {
    "duration": -4754,
    "start_time": "2022-02-02T11:57:38.536Z"
   },
   {
    "duration": -4759,
    "start_time": "2022-02-02T11:57:38.542Z"
   },
   {
    "duration": -4762,
    "start_time": "2022-02-02T11:57:38.546Z"
   },
   {
    "duration": -4766,
    "start_time": "2022-02-02T11:57:38.550Z"
   },
   {
    "duration": -4768,
    "start_time": "2022-02-02T11:57:38.553Z"
   },
   {
    "duration": -4771,
    "start_time": "2022-02-02T11:57:38.557Z"
   },
   {
    "duration": -4773,
    "start_time": "2022-02-02T11:57:38.560Z"
   },
   {
    "duration": -4775,
    "start_time": "2022-02-02T11:57:38.563Z"
   },
   {
    "duration": -4777,
    "start_time": "2022-02-02T11:57:38.566Z"
   },
   {
    "duration": -4781,
    "start_time": "2022-02-02T11:57:38.571Z"
   },
   {
    "duration": -4784,
    "start_time": "2022-02-02T11:57:38.575Z"
   },
   {
    "duration": -4787,
    "start_time": "2022-02-02T11:57:38.579Z"
   },
   {
    "duration": -4789,
    "start_time": "2022-02-02T11:57:38.582Z"
   },
   {
    "duration": -4792,
    "start_time": "2022-02-02T11:57:38.585Z"
   },
   {
    "duration": -4794,
    "start_time": "2022-02-02T11:57:38.588Z"
   },
   {
    "duration": -4797,
    "start_time": "2022-02-02T11:57:38.592Z"
   },
   {
    "duration": -4805,
    "start_time": "2022-02-02T11:57:38.601Z"
   },
   {
    "duration": -4808,
    "start_time": "2022-02-02T11:57:38.605Z"
   },
   {
    "duration": -4811,
    "start_time": "2022-02-02T11:57:38.608Z"
   },
   {
    "duration": -4815,
    "start_time": "2022-02-02T11:57:38.613Z"
   },
   {
    "duration": -4817,
    "start_time": "2022-02-02T11:57:38.616Z"
   },
   {
    "duration": -4820,
    "start_time": "2022-02-02T11:57:38.620Z"
   },
   {
    "duration": -4822,
    "start_time": "2022-02-02T11:57:38.623Z"
   },
   {
    "duration": -4824,
    "start_time": "2022-02-02T11:57:38.626Z"
   },
   {
    "duration": -4827,
    "start_time": "2022-02-02T11:57:38.630Z"
   },
   {
    "duration": 1101,
    "start_time": "2022-02-02T11:58:45.665Z"
   },
   {
    "duration": 398,
    "start_time": "2022-02-02T11:58:46.768Z"
   },
   {
    "duration": 2,
    "start_time": "2022-02-02T11:58:47.168Z"
   },
   {
    "duration": 90,
    "start_time": "2022-02-02T11:58:47.172Z"
   },
   {
    "duration": 8,
    "start_time": "2022-02-02T11:58:47.264Z"
   },
   {
    "duration": 3,
    "start_time": "2022-02-02T11:58:47.273Z"
   },
   {
    "duration": 4,
    "start_time": "2022-02-02T11:58:47.277Z"
   },
   {
    "duration": 83,
    "start_time": "2022-02-02T11:58:47.283Z"
   },
   {
    "duration": 23,
    "start_time": "2022-02-02T11:58:47.367Z"
   },
   {
    "duration": 2,
    "start_time": "2022-02-02T11:58:47.392Z"
   },
   {
    "duration": 6,
    "start_time": "2022-02-02T11:58:47.395Z"
   },
   {
    "duration": 72,
    "start_time": "2022-02-02T11:58:47.403Z"
   },
   {
    "duration": 8,
    "start_time": "2022-02-02T11:58:47.477Z"
   },
   {
    "duration": 2,
    "start_time": "2022-02-02T11:58:47.486Z"
   },
   {
    "duration": 178,
    "start_time": "2022-02-02T11:58:47.490Z"
   },
   {
    "duration": 151,
    "start_time": "2022-02-02T11:58:47.670Z"
   },
   {
    "duration": 4,
    "start_time": "2022-02-02T11:58:47.823Z"
   },
   {
    "duration": 47,
    "start_time": "2022-02-02T11:58:47.828Z"
   },
   {
    "duration": 71,
    "start_time": "2022-02-02T11:58:47.877Z"
   },
   {
    "duration": 50,
    "start_time": "2022-02-02T11:58:47.950Z"
   },
   {
    "duration": 72,
    "start_time": "2022-02-02T11:58:48.001Z"
   },
   {
    "duration": 43,
    "start_time": "2022-02-02T11:58:48.075Z"
   },
   {
    "duration": 32,
    "start_time": "2022-02-02T11:58:48.121Z"
   },
   {
    "duration": 17,
    "start_time": "2022-02-02T11:58:48.154Z"
   },
   {
    "duration": 19,
    "start_time": "2022-02-02T11:58:48.173Z"
   },
   {
    "duration": 42,
    "start_time": "2022-02-02T11:58:48.194Z"
   },
   {
    "duration": 21,
    "start_time": "2022-02-02T11:58:48.237Z"
   },
   {
    "duration": 593,
    "start_time": "2022-02-02T11:58:48.259Z"
   },
   {
    "duration": 4,
    "start_time": "2022-02-02T11:58:48.854Z"
   },
   {
    "duration": 6,
    "start_time": "2022-02-02T11:58:48.860Z"
   },
   {
    "duration": 477,
    "start_time": "2022-02-02T11:58:48.868Z"
   },
   {
    "duration": 16,
    "start_time": "2022-02-02T11:58:49.346Z"
   },
   {
    "duration": 3,
    "start_time": "2022-02-02T11:58:49.363Z"
   },
   {
    "duration": 12,
    "start_time": "2022-02-02T11:58:49.368Z"
   },
   {
    "duration": 611,
    "start_time": "2022-02-02T11:58:49.381Z"
   },
   {
    "duration": 1146,
    "start_time": "2022-02-02T12:00:31.909Z"
   },
   {
    "duration": 412,
    "start_time": "2022-02-02T12:00:33.057Z"
   },
   {
    "duration": 3,
    "start_time": "2022-02-02T12:00:33.471Z"
   },
   {
    "duration": 90,
    "start_time": "2022-02-02T12:00:33.475Z"
   },
   {
    "duration": 7,
    "start_time": "2022-02-02T12:00:33.567Z"
   },
   {
    "duration": 3,
    "start_time": "2022-02-02T12:00:33.576Z"
   },
   {
    "duration": 6,
    "start_time": "2022-02-02T12:00:33.580Z"
   },
   {
    "duration": 99,
    "start_time": "2022-02-02T12:00:33.588Z"
   },
   {
    "duration": 25,
    "start_time": "2022-02-02T12:00:33.689Z"
   },
   {
    "duration": 2,
    "start_time": "2022-02-02T12:00:33.716Z"
   },
   {
    "duration": 14,
    "start_time": "2022-02-02T12:00:33.719Z"
   },
   {
    "duration": 69,
    "start_time": "2022-02-02T12:00:33.735Z"
   },
   {
    "duration": 28,
    "start_time": "2022-02-02T12:00:33.806Z"
   },
   {
    "duration": 3,
    "start_time": "2022-02-02T12:00:33.835Z"
   },
   {
    "duration": 148,
    "start_time": "2022-02-02T12:00:33.840Z"
   },
   {
    "duration": 168,
    "start_time": "2022-02-02T12:00:33.990Z"
   },
   {
    "duration": 3,
    "start_time": "2022-02-02T12:00:34.160Z"
   },
   {
    "duration": 51,
    "start_time": "2022-02-02T12:00:34.164Z"
   },
   {
    "duration": 63,
    "start_time": "2022-02-02T12:00:34.217Z"
   },
   {
    "duration": 72,
    "start_time": "2022-02-02T12:00:34.281Z"
   },
   {
    "duration": 48,
    "start_time": "2022-02-02T12:00:34.354Z"
   },
   {
    "duration": 62,
    "start_time": "2022-02-02T12:00:34.403Z"
   },
   {
    "duration": 25,
    "start_time": "2022-02-02T12:00:34.468Z"
   },
   {
    "duration": 17,
    "start_time": "2022-02-02T12:00:34.494Z"
   },
   {
    "duration": 39,
    "start_time": "2022-02-02T12:00:34.513Z"
   },
   {
    "duration": 14,
    "start_time": "2022-02-02T12:00:34.553Z"
   },
   {
    "duration": 17,
    "start_time": "2022-02-02T12:00:34.569Z"
   },
   {
    "duration": 688,
    "start_time": "2022-02-02T12:00:34.587Z"
   },
   {
    "duration": 4,
    "start_time": "2022-02-02T12:00:35.277Z"
   },
   {
    "duration": 7,
    "start_time": "2022-02-02T12:00:35.282Z"
   },
   {
    "duration": 465,
    "start_time": "2022-02-02T12:00:35.290Z"
   },
   {
    "duration": 15,
    "start_time": "2022-02-02T12:00:35.757Z"
   },
   {
    "duration": 3,
    "start_time": "2022-02-02T12:00:35.773Z"
   },
   {
    "duration": 23,
    "start_time": "2022-02-02T12:00:35.778Z"
   },
   {
    "duration": 9,
    "start_time": "2022-02-02T12:13:59.806Z"
   },
   {
    "duration": 977,
    "start_time": "2022-02-02T12:16:21.586Z"
   },
   {
    "duration": 406,
    "start_time": "2022-02-02T12:21:53.363Z"
   },
   {
    "duration": 913,
    "start_time": "2022-02-02T12:22:45.410Z"
   },
   {
    "duration": 625,
    "start_time": "2022-02-02T12:23:00.439Z"
   },
   {
    "duration": 1056,
    "start_time": "2022-02-02T12:23:29.274Z"
   },
   {
    "duration": 359,
    "start_time": "2022-02-02T12:23:36.509Z"
   },
   {
    "duration": 923,
    "start_time": "2022-02-02T12:24:04.788Z"
   },
   {
    "duration": 1123,
    "start_time": "2022-02-02T12:32:26.438Z"
   },
   {
    "duration": 5052,
    "start_time": "2022-02-02T12:32:27.563Z"
   },
   {
    "duration": 4,
    "start_time": "2022-02-02T12:32:32.617Z"
   },
   {
    "duration": 82,
    "start_time": "2022-02-02T12:32:32.622Z"
   },
   {
    "duration": 24,
    "start_time": "2022-02-02T12:32:32.706Z"
   },
   {
    "duration": 5,
    "start_time": "2022-02-02T12:32:32.732Z"
   },
   {
    "duration": 5,
    "start_time": "2022-02-02T12:32:32.739Z"
   },
   {
    "duration": 81,
    "start_time": "2022-02-02T12:32:32.746Z"
   },
   {
    "duration": 25,
    "start_time": "2022-02-02T12:32:32.829Z"
   },
   {
    "duration": 3,
    "start_time": "2022-02-02T12:32:32.855Z"
   },
   {
    "duration": 7,
    "start_time": "2022-02-02T12:32:32.859Z"
   },
   {
    "duration": 73,
    "start_time": "2022-02-02T12:32:32.868Z"
   },
   {
    "duration": 8,
    "start_time": "2022-02-02T12:32:32.942Z"
   },
   {
    "duration": 2,
    "start_time": "2022-02-02T12:32:32.952Z"
   },
   {
    "duration": 157,
    "start_time": "2022-02-02T12:32:32.956Z"
   },
   {
    "duration": 140,
    "start_time": "2022-02-02T12:32:33.114Z"
   },
   {
    "duration": 2,
    "start_time": "2022-02-02T12:32:33.255Z"
   },
   {
    "duration": 46,
    "start_time": "2022-02-02T12:32:33.258Z"
   },
   {
    "duration": 61,
    "start_time": "2022-02-02T12:32:33.305Z"
   },
   {
    "duration": 48,
    "start_time": "2022-02-02T12:32:33.367Z"
   },
   {
    "duration": 47,
    "start_time": "2022-02-02T12:32:33.427Z"
   },
   {
    "duration": 55,
    "start_time": "2022-02-02T12:32:33.475Z"
   },
   {
    "duration": 23,
    "start_time": "2022-02-02T12:32:33.533Z"
   },
   {
    "duration": 17,
    "start_time": "2022-02-02T12:32:33.557Z"
   },
   {
    "duration": 19,
    "start_time": "2022-02-02T12:32:33.575Z"
   },
   {
    "duration": 36,
    "start_time": "2022-02-02T12:32:33.596Z"
   },
   {
    "duration": 19,
    "start_time": "2022-02-02T12:32:33.633Z"
   },
   {
    "duration": 553,
    "start_time": "2022-02-02T12:32:33.654Z"
   },
   {
    "duration": 4,
    "start_time": "2022-02-02T12:32:34.209Z"
   },
   {
    "duration": 14,
    "start_time": "2022-02-02T12:32:34.215Z"
   },
   {
    "duration": 454,
    "start_time": "2022-02-02T12:32:34.231Z"
   },
   {
    "duration": 15,
    "start_time": "2022-02-02T12:32:34.687Z"
   },
   {
    "duration": 3,
    "start_time": "2022-02-02T12:32:34.704Z"
   },
   {
    "duration": 37,
    "start_time": "2022-02-02T12:32:34.709Z"
   },
   {
    "duration": 9,
    "start_time": "2022-02-02T12:32:34.748Z"
   },
   {
    "duration": 974,
    "start_time": "2022-02-02T12:32:34.758Z"
   },
   {
    "duration": 784,
    "start_time": "2022-02-02T12:36:52.055Z"
   },
   {
    "duration": 917,
    "start_time": "2022-02-02T12:37:09.348Z"
   },
   {
    "duration": 1015,
    "start_time": "2022-02-02T12:37:32.260Z"
   },
   {
    "duration": 1755,
    "start_time": "2022-02-02T12:38:04.630Z"
   },
   {
    "duration": 647,
    "start_time": "2022-02-02T12:38:22.608Z"
   },
   {
    "duration": 903,
    "start_time": "2022-02-02T12:38:34.357Z"
   },
   {
    "duration": 356,
    "start_time": "2022-02-02T12:40:39.205Z"
   },
   {
    "duration": 869,
    "start_time": "2022-02-02T12:40:48.279Z"
   },
   {
    "duration": 908,
    "start_time": "2022-02-02T12:42:38.139Z"
   },
   {
    "duration": 1187,
    "start_time": "2022-02-02T12:43:03.807Z"
   },
   {
    "duration": 865,
    "start_time": "2022-02-02T12:43:22.842Z"
   },
   {
    "duration": 12,
    "start_time": "2022-02-02T12:49:59.352Z"
   },
   {
    "duration": 513,
    "start_time": "2022-02-02T12:50:42.991Z"
   },
   {
    "duration": 268,
    "start_time": "2022-02-02T12:51:05.910Z"
   },
   {
    "duration": 174,
    "start_time": "2022-02-02T12:53:39.715Z"
   },
   {
    "duration": 339,
    "start_time": "2022-02-02T12:55:11.288Z"
   },
   {
    "duration": 349,
    "start_time": "2022-02-02T12:55:39.709Z"
   },
   {
    "duration": 314,
    "start_time": "2022-02-02T12:55:47.406Z"
   },
   {
    "duration": 360,
    "start_time": "2022-02-02T12:56:14.219Z"
   },
   {
    "duration": 343,
    "start_time": "2022-02-02T12:56:22.955Z"
   },
   {
    "duration": 821,
    "start_time": "2022-02-02T12:56:41.465Z"
   },
   {
    "duration": 928,
    "start_time": "2022-02-02T12:56:57.923Z"
   },
   {
    "duration": 1161,
    "start_time": "2022-02-02T12:57:26.932Z"
   },
   {
    "duration": 373,
    "start_time": "2022-02-02T12:57:28.095Z"
   },
   {
    "duration": 2,
    "start_time": "2022-02-02T12:57:28.472Z"
   },
   {
    "duration": 74,
    "start_time": "2022-02-02T12:57:28.475Z"
   },
   {
    "duration": 9,
    "start_time": "2022-02-02T12:57:28.551Z"
   },
   {
    "duration": 4,
    "start_time": "2022-02-02T12:57:28.561Z"
   },
   {
    "duration": 4,
    "start_time": "2022-02-02T12:57:28.568Z"
   },
   {
    "duration": 95,
    "start_time": "2022-02-02T12:57:28.573Z"
   },
   {
    "duration": 25,
    "start_time": "2022-02-02T12:57:28.669Z"
   },
   {
    "duration": 2,
    "start_time": "2022-02-02T12:57:28.696Z"
   },
   {
    "duration": 13,
    "start_time": "2022-02-02T12:57:28.700Z"
   },
   {
    "duration": 62,
    "start_time": "2022-02-02T12:57:28.714Z"
   },
   {
    "duration": 8,
    "start_time": "2022-02-02T12:57:28.777Z"
   },
   {
    "duration": 2,
    "start_time": "2022-02-02T12:57:28.787Z"
   },
   {
    "duration": 150,
    "start_time": "2022-02-02T12:57:28.790Z"
   },
   {
    "duration": 149,
    "start_time": "2022-02-02T12:57:28.941Z"
   },
   {
    "duration": 2,
    "start_time": "2022-02-02T12:57:29.092Z"
   },
   {
    "duration": 64,
    "start_time": "2022-02-02T12:57:29.096Z"
   },
   {
    "duration": 76,
    "start_time": "2022-02-02T12:57:29.162Z"
   },
   {
    "duration": 50,
    "start_time": "2022-02-02T12:57:29.239Z"
   },
   {
    "duration": 59,
    "start_time": "2022-02-02T12:57:29.291Z"
   },
   {
    "duration": 44,
    "start_time": "2022-02-02T12:57:29.353Z"
   },
   {
    "duration": 36,
    "start_time": "2022-02-02T12:57:29.398Z"
   },
   {
    "duration": 17,
    "start_time": "2022-02-02T12:57:29.435Z"
   },
   {
    "duration": 23,
    "start_time": "2022-02-02T12:57:29.454Z"
   },
   {
    "duration": 14,
    "start_time": "2022-02-02T12:57:29.479Z"
   },
   {
    "duration": 34,
    "start_time": "2022-02-02T12:57:29.494Z"
   },
   {
    "duration": 543,
    "start_time": "2022-02-02T12:57:29.529Z"
   },
   {
    "duration": 4,
    "start_time": "2022-02-02T12:57:30.074Z"
   },
   {
    "duration": 14,
    "start_time": "2022-02-02T12:57:30.079Z"
   },
   {
    "duration": 677,
    "start_time": "2022-02-02T12:57:30.094Z"
   },
   {
    "duration": 15,
    "start_time": "2022-02-02T12:57:30.773Z"
   },
   {
    "duration": 3,
    "start_time": "2022-02-02T12:57:30.790Z"
   },
   {
    "duration": 36,
    "start_time": "2022-02-02T12:57:30.794Z"
   },
   {
    "duration": 892,
    "start_time": "2022-02-02T12:57:30.831Z"
   },
   {
    "duration": 434,
    "start_time": "2022-02-02T12:58:55.227Z"
   },
   {
    "duration": 886,
    "start_time": "2022-02-02T12:59:33.231Z"
   },
   {
    "duration": 538,
    "start_time": "2022-02-02T13:00:47.341Z"
   },
   {
    "duration": 1063,
    "start_time": "2022-02-02T13:01:03.904Z"
   },
   {
    "duration": 388,
    "start_time": "2022-02-02T13:01:04.969Z"
   },
   {
    "duration": 3,
    "start_time": "2022-02-02T13:01:05.359Z"
   },
   {
    "duration": 76,
    "start_time": "2022-02-02T13:01:05.363Z"
   },
   {
    "duration": 9,
    "start_time": "2022-02-02T13:01:05.440Z"
   },
   {
    "duration": 5,
    "start_time": "2022-02-02T13:01:05.451Z"
   },
   {
    "duration": 25,
    "start_time": "2022-02-02T13:01:05.458Z"
   },
   {
    "duration": 82,
    "start_time": "2022-02-02T13:01:05.485Z"
   },
   {
    "duration": 25,
    "start_time": "2022-02-02T13:01:05.569Z"
   },
   {
    "duration": 6,
    "start_time": "2022-02-02T13:01:05.596Z"
   },
   {
    "duration": 23,
    "start_time": "2022-02-02T13:01:05.603Z"
   },
   {
    "duration": 68,
    "start_time": "2022-02-02T13:01:05.629Z"
   },
   {
    "duration": 8,
    "start_time": "2022-02-02T13:01:05.698Z"
   },
   {
    "duration": 3,
    "start_time": "2022-02-02T13:01:05.708Z"
   },
   {
    "duration": 145,
    "start_time": "2022-02-02T13:01:05.712Z"
   },
   {
    "duration": 137,
    "start_time": "2022-02-02T13:01:05.859Z"
   },
   {
    "duration": 2,
    "start_time": "2022-02-02T13:01:05.998Z"
   },
   {
    "duration": 56,
    "start_time": "2022-02-02T13:01:06.001Z"
   },
   {
    "duration": 52,
    "start_time": "2022-02-02T13:01:06.059Z"
   },
   {
    "duration": 61,
    "start_time": "2022-02-02T13:01:06.113Z"
   },
   {
    "duration": 60,
    "start_time": "2022-02-02T13:01:06.176Z"
   },
   {
    "duration": 43,
    "start_time": "2022-02-02T13:01:06.238Z"
   },
   {
    "duration": 22,
    "start_time": "2022-02-02T13:01:06.284Z"
   },
   {
    "duration": 28,
    "start_time": "2022-02-02T13:01:06.308Z"
   },
   {
    "duration": 20,
    "start_time": "2022-02-02T13:01:06.337Z"
   },
   {
    "duration": 20,
    "start_time": "2022-02-02T13:01:06.358Z"
   },
   {
    "duration": 19,
    "start_time": "2022-02-02T13:01:06.380Z"
   },
   {
    "duration": 553,
    "start_time": "2022-02-02T13:01:06.400Z"
   },
   {
    "duration": 6,
    "start_time": "2022-02-02T13:01:06.955Z"
   },
   {
    "duration": 9,
    "start_time": "2022-02-02T13:01:06.962Z"
   },
   {
    "duration": 429,
    "start_time": "2022-02-02T13:01:06.972Z"
   },
   {
    "duration": 24,
    "start_time": "2022-02-02T13:01:07.403Z"
   },
   {
    "duration": 3,
    "start_time": "2022-02-02T13:01:07.429Z"
   },
   {
    "duration": 22,
    "start_time": "2022-02-02T13:01:07.434Z"
   },
   {
    "duration": 860,
    "start_time": "2022-02-02T13:01:07.458Z"
   },
   {
    "duration": 642,
    "start_time": "2022-02-02T13:01:08.320Z"
   },
   {
    "duration": 555,
    "start_time": "2022-02-02T13:01:38.284Z"
   },
   {
    "duration": 335,
    "start_time": "2022-02-02T13:02:11.109Z"
   },
   {
    "duration": 9,
    "start_time": "2022-02-02T13:02:36.411Z"
   },
   {
    "duration": 1484,
    "start_time": "2022-02-02T13:04:34.692Z"
   },
   {
    "duration": 350,
    "start_time": "2022-02-02T13:04:59.853Z"
   },
   {
    "duration": 389,
    "start_time": "2022-02-02T13:05:22.004Z"
   },
   {
    "duration": 353,
    "start_time": "2022-02-02T13:05:30.326Z"
   },
   {
    "duration": 341,
    "start_time": "2022-02-02T13:05:37.250Z"
   },
   {
    "duration": 368,
    "start_time": "2022-02-02T13:05:44.735Z"
   },
   {
    "duration": 209,
    "start_time": "2022-02-02T13:06:54.345Z"
   },
   {
    "duration": 190,
    "start_time": "2022-02-02T13:07:05.874Z"
   },
   {
    "duration": 687,
    "start_time": "2022-02-02T13:07:28.161Z"
   },
   {
    "duration": 244,
    "start_time": "2022-02-02T13:07:59.617Z"
   },
   {
    "duration": 922,
    "start_time": "2022-02-02T13:08:14.486Z"
   },
   {
    "duration": 466,
    "start_time": "2022-02-02T13:08:33.003Z"
   },
   {
    "duration": 462,
    "start_time": "2022-02-02T13:08:42.116Z"
   },
   {
    "duration": 386,
    "start_time": "2022-02-02T13:09:47.383Z"
   },
   {
    "duration": 1129,
    "start_time": "2022-02-02T13:12:29.636Z"
   },
   {
    "duration": 409,
    "start_time": "2022-02-02T13:12:30.766Z"
   },
   {
    "duration": 3,
    "start_time": "2022-02-02T13:12:31.177Z"
   },
   {
    "duration": 81,
    "start_time": "2022-02-02T13:12:31.182Z"
   },
   {
    "duration": 9,
    "start_time": "2022-02-02T13:12:31.265Z"
   },
   {
    "duration": 11,
    "start_time": "2022-02-02T13:12:31.275Z"
   },
   {
    "duration": 10,
    "start_time": "2022-02-02T13:12:31.287Z"
   },
   {
    "duration": 82,
    "start_time": "2022-02-02T13:12:31.299Z"
   },
   {
    "duration": 26,
    "start_time": "2022-02-02T13:12:31.383Z"
   },
   {
    "duration": 4,
    "start_time": "2022-02-02T13:12:31.411Z"
   },
   {
    "duration": 10,
    "start_time": "2022-02-02T13:12:31.417Z"
   },
   {
    "duration": 60,
    "start_time": "2022-02-02T13:12:31.429Z"
   },
   {
    "duration": 8,
    "start_time": "2022-02-02T13:12:31.491Z"
   },
   {
    "duration": 2,
    "start_time": "2022-02-02T13:12:31.501Z"
   },
   {
    "duration": 138,
    "start_time": "2022-02-02T13:12:31.527Z"
   },
   {
    "duration": 163,
    "start_time": "2022-02-02T13:12:31.666Z"
   },
   {
    "duration": 3,
    "start_time": "2022-02-02T13:12:31.831Z"
   },
   {
    "duration": 62,
    "start_time": "2022-02-02T13:12:31.836Z"
   },
   {
    "duration": 98,
    "start_time": "2022-02-02T13:12:31.900Z"
   },
   {
    "duration": 89,
    "start_time": "2022-02-02T13:12:32.000Z"
   },
   {
    "duration": 86,
    "start_time": "2022-02-02T13:12:32.091Z"
   },
   {
    "duration": 83,
    "start_time": "2022-02-02T13:12:32.179Z"
   },
   {
    "duration": 36,
    "start_time": "2022-02-02T13:12:32.266Z"
   },
   {
    "duration": 29,
    "start_time": "2022-02-02T13:12:32.304Z"
   },
   {
    "duration": 20,
    "start_time": "2022-02-02T13:12:32.335Z"
   },
   {
    "duration": 17,
    "start_time": "2022-02-02T13:12:32.357Z"
   },
   {
    "duration": 21,
    "start_time": "2022-02-02T13:12:32.375Z"
   },
   {
    "duration": 585,
    "start_time": "2022-02-02T13:12:32.398Z"
   },
   {
    "duration": 5,
    "start_time": "2022-02-02T13:12:32.984Z"
   },
   {
    "duration": 7,
    "start_time": "2022-02-02T13:12:32.990Z"
   },
   {
    "duration": 428,
    "start_time": "2022-02-02T13:12:32.999Z"
   },
   {
    "duration": 17,
    "start_time": "2022-02-02T13:12:33.428Z"
   },
   {
    "duration": 3,
    "start_time": "2022-02-02T13:12:33.446Z"
   },
   {
    "duration": 22,
    "start_time": "2022-02-02T13:12:33.451Z"
   },
   {
    "duration": 958,
    "start_time": "2022-02-02T13:12:33.475Z"
   },
   {
    "duration": 1484,
    "start_time": "2022-02-02T14:32:42.138Z"
   },
   {
    "duration": 498,
    "start_time": "2022-02-02T14:32:43.625Z"
   },
   {
    "duration": 5,
    "start_time": "2022-02-02T14:32:44.127Z"
   },
   {
    "duration": 151,
    "start_time": "2022-02-02T14:32:44.135Z"
   },
   {
    "duration": 12,
    "start_time": "2022-02-02T14:32:44.288Z"
   },
   {
    "duration": 30,
    "start_time": "2022-02-02T14:32:44.303Z"
   },
   {
    "duration": 6,
    "start_time": "2022-02-02T14:32:44.336Z"
   },
   {
    "duration": 128,
    "start_time": "2022-02-02T14:32:44.346Z"
   },
   {
    "duration": 35,
    "start_time": "2022-02-02T14:32:44.477Z"
   },
   {
    "duration": 18,
    "start_time": "2022-02-02T14:32:44.514Z"
   },
   {
    "duration": 7,
    "start_time": "2022-02-02T14:32:44.536Z"
   },
   {
    "duration": 112,
    "start_time": "2022-02-02T14:32:44.546Z"
   },
   {
    "duration": 12,
    "start_time": "2022-02-02T14:32:44.660Z"
   },
   {
    "duration": 4,
    "start_time": "2022-02-02T14:32:44.674Z"
   },
   {
    "duration": 263,
    "start_time": "2022-02-02T14:32:44.681Z"
   },
   {
    "duration": 236,
    "start_time": "2022-02-02T14:32:44.946Z"
   },
   {
    "duration": 4,
    "start_time": "2022-02-02T14:32:45.185Z"
   },
   {
    "duration": 85,
    "start_time": "2022-02-02T14:32:45.191Z"
   },
   {
    "duration": 89,
    "start_time": "2022-02-02T14:32:45.279Z"
   },
   {
    "duration": 99,
    "start_time": "2022-02-02T14:32:45.370Z"
   },
   {
    "duration": 87,
    "start_time": "2022-02-02T14:32:45.471Z"
   },
   {
    "duration": 88,
    "start_time": "2022-02-02T14:32:45.560Z"
   },
   {
    "duration": 39,
    "start_time": "2022-02-02T14:32:45.652Z"
   },
   {
    "duration": 43,
    "start_time": "2022-02-02T14:32:45.694Z"
   },
   {
    "duration": 34,
    "start_time": "2022-02-02T14:32:45.740Z"
   },
   {
    "duration": 26,
    "start_time": "2022-02-02T14:32:45.777Z"
   },
   {
    "duration": 32,
    "start_time": "2022-02-02T14:32:45.832Z"
   },
   {
    "duration": 1171,
    "start_time": "2022-02-02T14:32:45.867Z"
   },
   {
    "duration": 10,
    "start_time": "2022-02-02T14:32:47.040Z"
   },
   {
    "duration": 13,
    "start_time": "2022-02-02T14:32:47.053Z"
   },
   {
    "duration": 908,
    "start_time": "2022-02-02T14:32:47.068Z"
   },
   {
    "duration": 27,
    "start_time": "2022-02-02T14:32:47.979Z"
   },
   {
    "duration": 6,
    "start_time": "2022-02-02T14:32:48.008Z"
   },
   {
    "duration": 43,
    "start_time": "2022-02-02T14:32:48.033Z"
   },
   {
    "duration": 1326,
    "start_time": "2022-02-02T14:32:48.079Z"
   },
   {
    "duration": 15,
    "start_time": "2022-02-02T14:33:14.735Z"
   },
   {
    "duration": 674,
    "start_time": "2022-02-02T14:38:18.106Z"
   },
   {
    "duration": 526,
    "start_time": "2022-02-02T14:38:56.137Z"
   },
   {
    "duration": 15,
    "start_time": "2022-02-02T14:40:40.070Z"
   },
   {
    "duration": 557,
    "start_time": "2022-02-02T14:40:56.110Z"
   },
   {
    "duration": 673,
    "start_time": "2022-02-02T14:41:12.850Z"
   },
   {
    "duration": 709,
    "start_time": "2022-02-02T14:41:50.451Z"
   },
   {
    "duration": 674,
    "start_time": "2022-02-02T14:42:03.406Z"
   },
   {
    "duration": 411,
    "start_time": "2022-02-02T14:42:52.517Z"
   },
   {
    "duration": 383,
    "start_time": "2022-02-02T14:43:24.242Z"
   },
   {
    "duration": 725,
    "start_time": "2022-02-02T14:56:33.968Z"
   },
   {
    "duration": 673,
    "start_time": "2022-02-02T14:57:19.681Z"
   },
   {
    "duration": 639,
    "start_time": "2022-02-02T14:57:32.846Z"
   },
   {
    "duration": 648,
    "start_time": "2022-02-02T14:58:57.426Z"
   },
   {
    "duration": 596,
    "start_time": "2022-02-02T14:59:20.659Z"
   },
   {
    "duration": 435,
    "start_time": "2022-02-02T14:59:40.115Z"
   },
   {
    "duration": 430,
    "start_time": "2022-02-02T14:59:50.408Z"
   },
   {
    "duration": 446,
    "start_time": "2022-02-02T14:59:58.055Z"
   },
   {
    "duration": 425,
    "start_time": "2022-02-02T15:00:21.489Z"
   },
   {
    "duration": 531,
    "start_time": "2022-02-02T15:00:27.576Z"
   },
   {
    "duration": 423,
    "start_time": "2022-02-02T15:01:44.467Z"
   },
   {
    "duration": 411,
    "start_time": "2022-02-02T15:01:53.757Z"
   },
   {
    "duration": 416,
    "start_time": "2022-02-02T15:02:50.071Z"
   },
   {
    "duration": 451,
    "start_time": "2022-02-02T15:04:38.652Z"
   },
   {
    "duration": 513,
    "start_time": "2022-02-02T15:05:12.532Z"
   },
   {
    "duration": 690,
    "start_time": "2022-02-02T15:05:23.009Z"
   },
   {
    "duration": 489,
    "start_time": "2022-02-02T15:05:30.000Z"
   },
   {
    "duration": 455,
    "start_time": "2022-02-02T15:05:39.541Z"
   },
   {
    "duration": 1368,
    "start_time": "2022-02-02T15:06:08.728Z"
   },
   {
    "duration": 683,
    "start_time": "2022-02-02T15:06:10.099Z"
   },
   {
    "duration": 4,
    "start_time": "2022-02-02T15:06:10.785Z"
   },
   {
    "duration": 151,
    "start_time": "2022-02-02T15:06:10.792Z"
   },
   {
    "duration": 14,
    "start_time": "2022-02-02T15:06:10.946Z"
   },
   {
    "duration": 5,
    "start_time": "2022-02-02T15:06:10.963Z"
   },
   {
    "duration": 7,
    "start_time": "2022-02-02T15:06:10.971Z"
   },
   {
    "duration": 149,
    "start_time": "2022-02-02T15:06:10.983Z"
   },
   {
    "duration": 33,
    "start_time": "2022-02-02T15:06:11.135Z"
   },
   {
    "duration": 4,
    "start_time": "2022-02-02T15:06:11.170Z"
   },
   {
    "duration": 9,
    "start_time": "2022-02-02T15:06:11.176Z"
   },
   {
    "duration": 107,
    "start_time": "2022-02-02T15:06:11.188Z"
   },
   {
    "duration": 11,
    "start_time": "2022-02-02T15:06:11.297Z"
   },
   {
    "duration": 23,
    "start_time": "2022-02-02T15:06:11.310Z"
   },
   {
    "duration": 313,
    "start_time": "2022-02-02T15:06:11.335Z"
   },
   {
    "duration": 228,
    "start_time": "2022-02-02T15:06:11.650Z"
   },
   {
    "duration": 3,
    "start_time": "2022-02-02T15:06:11.880Z"
   },
   {
    "duration": 72,
    "start_time": "2022-02-02T15:06:11.885Z"
   },
   {
    "duration": 88,
    "start_time": "2022-02-02T15:06:11.959Z"
   },
   {
    "duration": 98,
    "start_time": "2022-02-02T15:06:12.049Z"
   },
   {
    "duration": 84,
    "start_time": "2022-02-02T15:06:12.150Z"
   },
   {
    "duration": 81,
    "start_time": "2022-02-02T15:06:12.236Z"
   },
   {
    "duration": 40,
    "start_time": "2022-02-02T15:06:12.321Z"
   },
   {
    "duration": 28,
    "start_time": "2022-02-02T15:06:12.364Z"
   },
   {
    "duration": 44,
    "start_time": "2022-02-02T15:06:12.394Z"
   },
   {
    "duration": 24,
    "start_time": "2022-02-02T15:06:12.440Z"
   },
   {
    "duration": 31,
    "start_time": "2022-02-02T15:06:12.466Z"
   },
   {
    "duration": 1434,
    "start_time": "2022-02-02T15:06:12.500Z"
   },
   {
    "duration": 8,
    "start_time": "2022-02-02T15:06:13.936Z"
   },
   {
    "duration": 13,
    "start_time": "2022-02-02T15:06:13.946Z"
   },
   {
    "duration": 879,
    "start_time": "2022-02-02T15:06:13.961Z"
   },
   {
    "duration": 26,
    "start_time": "2022-02-02T15:06:14.842Z"
   },
   {
    "duration": 5,
    "start_time": "2022-02-02T15:06:14.870Z"
   },
   {
    "duration": 67,
    "start_time": "2022-02-02T15:06:14.878Z"
   },
   {
    "duration": 1477,
    "start_time": "2022-02-02T15:06:14.947Z"
   },
   {
    "duration": 422,
    "start_time": "2022-02-02T15:06:16.426Z"
   },
   {
    "duration": 448,
    "start_time": "2022-02-02T15:06:16.851Z"
   },
   {
    "duration": 460,
    "start_time": "2022-02-02T15:06:17.302Z"
   },
   {
    "duration": 1497,
    "start_time": "2022-02-02T15:21:13.616Z"
   },
   {
    "duration": 518,
    "start_time": "2022-02-02T15:21:15.116Z"
   },
   {
    "duration": 5,
    "start_time": "2022-02-02T15:21:15.638Z"
   },
   {
    "duration": 148,
    "start_time": "2022-02-02T15:21:15.646Z"
   },
   {
    "duration": 41,
    "start_time": "2022-02-02T15:21:15.796Z"
   },
   {
    "duration": 8,
    "start_time": "2022-02-02T15:21:15.839Z"
   },
   {
    "duration": 8,
    "start_time": "2022-02-02T15:21:15.850Z"
   },
   {
    "duration": 122,
    "start_time": "2022-02-02T15:21:15.863Z"
   },
   {
    "duration": 47,
    "start_time": "2022-02-02T15:21:15.988Z"
   },
   {
    "duration": 4,
    "start_time": "2022-02-02T15:21:16.038Z"
   },
   {
    "duration": 12,
    "start_time": "2022-02-02T15:21:16.045Z"
   },
   {
    "duration": 100,
    "start_time": "2022-02-02T15:21:16.060Z"
   },
   {
    "duration": 12,
    "start_time": "2022-02-02T15:21:16.163Z"
   },
   {
    "duration": 4,
    "start_time": "2022-02-02T15:21:16.177Z"
   },
   {
    "duration": 258,
    "start_time": "2022-02-02T15:21:16.183Z"
   },
   {
    "duration": 255,
    "start_time": "2022-02-02T15:21:16.443Z"
   },
   {
    "duration": 5,
    "start_time": "2022-02-02T15:21:16.701Z"
   },
   {
    "duration": 94,
    "start_time": "2022-02-02T15:21:16.708Z"
   },
   {
    "duration": 102,
    "start_time": "2022-02-02T15:21:16.804Z"
   },
   {
    "duration": 104,
    "start_time": "2022-02-02T15:21:16.908Z"
   },
   {
    "duration": 98,
    "start_time": "2022-02-02T15:21:17.015Z"
   },
   {
    "duration": 90,
    "start_time": "2022-02-02T15:21:17.115Z"
   },
   {
    "duration": 52,
    "start_time": "2022-02-02T15:21:17.209Z"
   },
   {
    "duration": 28,
    "start_time": "2022-02-02T15:21:17.264Z"
   },
   {
    "duration": 51,
    "start_time": "2022-02-02T15:21:17.295Z"
   },
   {
    "duration": 27,
    "start_time": "2022-02-02T15:21:17.350Z"
   },
   {
    "duration": 64,
    "start_time": "2022-02-02T15:21:17.379Z"
   },
   {
    "duration": 1318,
    "start_time": "2022-02-02T15:21:17.446Z"
   },
   {
    "duration": 8,
    "start_time": "2022-02-02T15:21:18.766Z"
   },
   {
    "duration": 11,
    "start_time": "2022-02-02T15:21:18.776Z"
   },
   {
    "duration": 953,
    "start_time": "2022-02-02T15:21:18.790Z"
   },
   {
    "duration": 28,
    "start_time": "2022-02-02T15:21:19.745Z"
   },
   {
    "duration": 5,
    "start_time": "2022-02-02T15:21:19.775Z"
   },
   {
    "duration": 66,
    "start_time": "2022-02-02T15:21:19.782Z"
   },
   {
    "duration": 462,
    "start_time": "2022-02-02T15:21:19.850Z"
   },
   {
    "duration": 464,
    "start_time": "2022-02-02T15:21:20.315Z"
   },
   {
    "duration": 503,
    "start_time": "2022-02-02T15:21:20.781Z"
   },
   {
    "duration": 1486,
    "start_time": "2022-02-02T15:21:21.287Z"
   },
   {
    "duration": 1580,
    "start_time": "2022-02-02T17:11:52.343Z"
   },
   {
    "duration": 556,
    "start_time": "2022-02-02T17:11:53.926Z"
   },
   {
    "duration": 4,
    "start_time": "2022-02-02T17:11:54.486Z"
   },
   {
    "duration": 178,
    "start_time": "2022-02-02T17:11:54.493Z"
   },
   {
    "duration": 14,
    "start_time": "2022-02-02T17:11:54.674Z"
   },
   {
    "duration": 6,
    "start_time": "2022-02-02T17:11:54.691Z"
   },
   {
    "duration": 35,
    "start_time": "2022-02-02T17:11:54.699Z"
   },
   {
    "duration": 148,
    "start_time": "2022-02-02T17:11:54.739Z"
   },
   {
    "duration": 55,
    "start_time": "2022-02-02T17:11:54.891Z"
   },
   {
    "duration": 4,
    "start_time": "2022-02-02T17:11:54.950Z"
   },
   {
    "duration": 10,
    "start_time": "2022-02-02T17:11:54.957Z"
   },
   {
    "duration": 114,
    "start_time": "2022-02-02T17:11:54.969Z"
   },
   {
    "duration": 15,
    "start_time": "2022-02-02T17:11:55.086Z"
   },
   {
    "duration": 6,
    "start_time": "2022-02-02T17:11:55.132Z"
   },
   {
    "duration": 280,
    "start_time": "2022-02-02T17:11:55.141Z"
   },
   {
    "duration": 275,
    "start_time": "2022-02-02T17:11:55.424Z"
   },
   {
    "duration": 4,
    "start_time": "2022-02-02T17:11:55.712Z"
   },
   {
    "duration": 86,
    "start_time": "2022-02-02T17:11:55.719Z"
   },
   {
    "duration": 101,
    "start_time": "2022-02-02T17:11:55.807Z"
   },
   {
    "duration": 98,
    "start_time": "2022-02-02T17:11:55.910Z"
   },
   {
    "duration": 103,
    "start_time": "2022-02-02T17:11:56.011Z"
   },
   {
    "duration": 91,
    "start_time": "2022-02-02T17:11:56.116Z"
   },
   {
    "duration": 61,
    "start_time": "2022-02-02T17:11:56.211Z"
   },
   {
    "duration": 29,
    "start_time": "2022-02-02T17:11:56.275Z"
   },
   {
    "duration": 60,
    "start_time": "2022-02-02T17:11:56.307Z"
   },
   {
    "duration": 24,
    "start_time": "2022-02-02T17:11:56.370Z"
   },
   {
    "duration": 67,
    "start_time": "2022-02-02T17:11:56.397Z"
   },
   {
    "duration": 1378,
    "start_time": "2022-02-02T17:11:56.467Z"
   },
   {
    "duration": 9,
    "start_time": "2022-02-02T17:11:57.852Z"
   },
   {
    "duration": 11,
    "start_time": "2022-02-02T17:11:57.863Z"
   },
   {
    "duration": 1056,
    "start_time": "2022-02-02T17:11:57.877Z"
   },
   {
    "duration": 32,
    "start_time": "2022-02-02T17:11:58.936Z"
   },
   {
    "duration": 5,
    "start_time": "2022-02-02T17:11:58.970Z"
   },
   {
    "duration": 64,
    "start_time": "2022-02-02T17:11:58.977Z"
   },
   {
    "duration": 497,
    "start_time": "2022-02-02T17:11:59.045Z"
   },
   {
    "duration": 488,
    "start_time": "2022-02-02T17:11:59.545Z"
   },
   {
    "duration": 559,
    "start_time": "2022-02-02T17:12:00.036Z"
   },
   {
    "duration": 1479,
    "start_time": "2022-02-02T17:12:00.598Z"
   },
   {
    "duration": 18,
    "start_time": "2022-02-02T17:20:11.239Z"
   },
   {
    "duration": 11,
    "start_time": "2022-02-02T17:22:04.050Z"
   },
   {
    "duration": 542,
    "start_time": "2022-02-02T17:28:46.447Z"
   },
   {
    "duration": 1752,
    "start_time": "2022-02-02T17:29:10.669Z"
   },
   {
    "duration": 707,
    "start_time": "2022-02-02T17:29:12.424Z"
   },
   {
    "duration": 5,
    "start_time": "2022-02-02T17:29:13.137Z"
   },
   {
    "duration": 144,
    "start_time": "2022-02-02T17:29:13.146Z"
   },
   {
    "duration": 49,
    "start_time": "2022-02-02T17:29:13.293Z"
   },
   {
    "duration": 7,
    "start_time": "2022-02-02T17:29:13.346Z"
   },
   {
    "duration": 11,
    "start_time": "2022-02-02T17:29:13.355Z"
   },
   {
    "duration": 110,
    "start_time": "2022-02-02T17:29:13.368Z"
   },
   {
    "duration": 33,
    "start_time": "2022-02-02T17:29:13.482Z"
   },
   {
    "duration": 16,
    "start_time": "2022-02-02T17:29:13.518Z"
   },
   {
    "duration": 24,
    "start_time": "2022-02-02T17:29:13.536Z"
   },
   {
    "duration": 91,
    "start_time": "2022-02-02T17:29:13.563Z"
   },
   {
    "duration": 16,
    "start_time": "2022-02-02T17:29:13.657Z"
   },
   {
    "duration": 5,
    "start_time": "2022-02-02T17:29:13.676Z"
   },
   {
    "duration": 284,
    "start_time": "2022-02-02T17:29:13.684Z"
   },
   {
    "duration": 245,
    "start_time": "2022-02-02T17:29:13.970Z"
   },
   {
    "duration": 4,
    "start_time": "2022-02-02T17:29:14.217Z"
   },
   {
    "duration": 72,
    "start_time": "2022-02-02T17:29:14.232Z"
   },
   {
    "duration": 100,
    "start_time": "2022-02-02T17:29:14.306Z"
   },
   {
    "duration": 108,
    "start_time": "2022-02-02T17:29:14.409Z"
   },
   {
    "duration": 94,
    "start_time": "2022-02-02T17:29:14.519Z"
   },
   {
    "duration": 93,
    "start_time": "2022-02-02T17:29:14.616Z"
   },
   {
    "duration": 53,
    "start_time": "2022-02-02T17:29:14.711Z"
   },
   {
    "duration": 66,
    "start_time": "2022-02-02T17:29:14.768Z"
   },
   {
    "duration": 34,
    "start_time": "2022-02-02T17:29:14.841Z"
   },
   {
    "duration": 26,
    "start_time": "2022-02-02T17:29:14.877Z"
   },
   {
    "duration": 65,
    "start_time": "2022-02-02T17:29:14.909Z"
   },
   {
    "duration": 1706,
    "start_time": "2022-02-02T17:29:14.977Z"
   },
   {
    "duration": 8,
    "start_time": "2022-02-02T17:29:16.685Z"
   },
   {
    "duration": 11,
    "start_time": "2022-02-02T17:29:16.695Z"
   },
   {
    "duration": 949,
    "start_time": "2022-02-02T17:29:16.708Z"
   },
   {
    "duration": 26,
    "start_time": "2022-02-02T17:29:17.660Z"
   },
   {
    "duration": 5,
    "start_time": "2022-02-02T17:29:17.689Z"
   },
   {
    "duration": 65,
    "start_time": "2022-02-02T17:29:17.697Z"
   },
   {
    "duration": 460,
    "start_time": "2022-02-02T17:29:17.765Z"
   },
   {
    "duration": 455,
    "start_time": "2022-02-02T17:29:18.227Z"
   },
   {
    "duration": 508,
    "start_time": "2022-02-02T17:29:18.685Z"
   },
   {
    "duration": 1436,
    "start_time": "2022-02-02T17:29:19.196Z"
   },
   {
    "duration": 25,
    "start_time": "2022-02-02T17:29:20.635Z"
   },
   {
    "duration": 15,
    "start_time": "2022-02-02T17:29:20.662Z"
   },
   {
    "duration": 7,
    "start_time": "2022-02-02T17:31:09.183Z"
   },
   {
    "duration": 7,
    "start_time": "2022-02-02T17:31:18.557Z"
   },
   {
    "duration": 6,
    "start_time": "2022-02-02T17:31:27.392Z"
   },
   {
    "duration": 9,
    "start_time": "2022-02-02T17:31:37.012Z"
   },
   {
    "duration": 16,
    "start_time": "2022-02-02T17:38:50.508Z"
   },
   {
    "duration": 19,
    "start_time": "2022-02-02T17:40:29.286Z"
   },
   {
    "duration": 19,
    "start_time": "2022-02-02T17:40:51.357Z"
   },
   {
    "duration": 713,
    "start_time": "2022-02-02T17:42:45.475Z"
   },
   {
    "duration": 259,
    "start_time": "2022-02-02T17:42:57.716Z"
   },
   {
    "duration": 537,
    "start_time": "2022-02-02T17:43:30.629Z"
   },
   {
    "duration": 252,
    "start_time": "2022-02-02T17:43:37.400Z"
   },
   {
    "duration": 425,
    "start_time": "2022-02-02T17:44:30.140Z"
   },
   {
    "duration": 358,
    "start_time": "2022-02-02T17:44:44.593Z"
   },
   {
    "duration": 1407,
    "start_time": "2022-02-02T17:47:16.683Z"
   },
   {
    "duration": 483,
    "start_time": "2022-02-02T17:47:18.093Z"
   },
   {
    "duration": 5,
    "start_time": "2022-02-02T17:47:18.580Z"
   },
   {
    "duration": 153,
    "start_time": "2022-02-02T17:47:18.589Z"
   },
   {
    "duration": 14,
    "start_time": "2022-02-02T17:47:18.745Z"
   },
   {
    "duration": 6,
    "start_time": "2022-02-02T17:47:18.761Z"
   },
   {
    "duration": 6,
    "start_time": "2022-02-02T17:47:18.770Z"
   },
   {
    "duration": 143,
    "start_time": "2022-02-02T17:47:18.781Z"
   },
   {
    "duration": 33,
    "start_time": "2022-02-02T17:47:18.934Z"
   },
   {
    "duration": 4,
    "start_time": "2022-02-02T17:47:18.970Z"
   },
   {
    "duration": 11,
    "start_time": "2022-02-02T17:47:18.976Z"
   },
   {
    "duration": 111,
    "start_time": "2022-02-02T17:47:18.990Z"
   },
   {
    "duration": 33,
    "start_time": "2022-02-02T17:47:19.103Z"
   },
   {
    "duration": 4,
    "start_time": "2022-02-02T17:47:19.139Z"
   },
   {
    "duration": 243,
    "start_time": "2022-02-02T17:47:19.146Z"
   },
   {
    "duration": 237,
    "start_time": "2022-02-02T17:47:19.391Z"
   },
   {
    "duration": 4,
    "start_time": "2022-02-02T17:47:19.633Z"
   },
   {
    "duration": 71,
    "start_time": "2022-02-02T17:47:19.639Z"
   },
   {
    "duration": 94,
    "start_time": "2022-02-02T17:47:19.712Z"
   },
   {
    "duration": 98,
    "start_time": "2022-02-02T17:47:19.808Z"
   },
   {
    "duration": 85,
    "start_time": "2022-02-02T17:47:19.909Z"
   },
   {
    "duration": 96,
    "start_time": "2022-02-02T17:47:19.997Z"
   },
   {
    "duration": 52,
    "start_time": "2022-02-02T17:47:20.098Z"
   },
   {
    "duration": 28,
    "start_time": "2022-02-02T17:47:20.152Z"
   },
   {
    "duration": 53,
    "start_time": "2022-02-02T17:47:20.182Z"
   },
   {
    "duration": 24,
    "start_time": "2022-02-02T17:47:20.238Z"
   },
   {
    "duration": 31,
    "start_time": "2022-02-02T17:47:20.264Z"
   },
   {
    "duration": 1258,
    "start_time": "2022-02-02T17:47:20.297Z"
   },
   {
    "duration": 8,
    "start_time": "2022-02-02T17:47:21.557Z"
   },
   {
    "duration": 12,
    "start_time": "2022-02-02T17:47:21.568Z"
   },
   {
    "duration": 935,
    "start_time": "2022-02-02T17:47:21.582Z"
   },
   {
    "duration": 39,
    "start_time": "2022-02-02T17:47:22.519Z"
   },
   {
    "duration": 5,
    "start_time": "2022-02-02T17:47:22.561Z"
   },
   {
    "duration": 44,
    "start_time": "2022-02-02T17:47:22.568Z"
   },
   {
    "duration": 458,
    "start_time": "2022-02-02T17:47:22.614Z"
   },
   {
    "duration": 465,
    "start_time": "2022-02-02T17:47:23.075Z"
   },
   {
    "duration": 462,
    "start_time": "2022-02-02T17:47:23.542Z"
   },
   {
    "duration": 1304,
    "start_time": "2022-02-02T17:47:24.006Z"
   },
   {
    "duration": 9,
    "start_time": "2022-02-02T17:47:25.312Z"
   },
   {
    "duration": 6,
    "start_time": "2022-02-02T17:47:25.333Z"
   },
   {
    "duration": 19,
    "start_time": "2022-02-02T17:47:25.341Z"
   },
   {
    "duration": 421,
    "start_time": "2022-02-02T17:47:25.362Z"
   },
   {
    "duration": 1922,
    "start_time": "2022-02-02T17:49:13.854Z"
   },
   {
    "duration": 588,
    "start_time": "2022-02-02T17:49:15.780Z"
   },
   {
    "duration": 5,
    "start_time": "2022-02-02T17:49:16.371Z"
   },
   {
    "duration": 137,
    "start_time": "2022-02-02T17:49:16.378Z"
   },
   {
    "duration": 24,
    "start_time": "2022-02-02T17:49:16.517Z"
   },
   {
    "duration": 7,
    "start_time": "2022-02-02T17:49:16.543Z"
   },
   {
    "duration": 5,
    "start_time": "2022-02-02T17:49:16.553Z"
   },
   {
    "duration": 131,
    "start_time": "2022-02-02T17:49:16.562Z"
   },
   {
    "duration": 41,
    "start_time": "2022-02-02T17:49:16.696Z"
   },
   {
    "duration": 4,
    "start_time": "2022-02-02T17:49:16.739Z"
   },
   {
    "duration": 9,
    "start_time": "2022-02-02T17:49:16.746Z"
   },
   {
    "duration": 105,
    "start_time": "2022-02-02T17:49:16.758Z"
   },
   {
    "duration": 14,
    "start_time": "2022-02-02T17:49:16.867Z"
   },
   {
    "duration": 4,
    "start_time": "2022-02-02T17:49:16.884Z"
   },
   {
    "duration": 452,
    "start_time": "2022-02-02T17:49:16.891Z"
   },
   {
    "duration": 321,
    "start_time": "2022-02-02T17:49:17.346Z"
   },
   {
    "duration": 4,
    "start_time": "2022-02-02T17:49:17.670Z"
   },
   {
    "duration": 105,
    "start_time": "2022-02-02T17:49:17.677Z"
   },
   {
    "duration": 91,
    "start_time": "2022-02-02T17:49:17.785Z"
   },
   {
    "duration": 99,
    "start_time": "2022-02-02T17:49:17.879Z"
   },
   {
    "duration": 91,
    "start_time": "2022-02-02T17:49:17.981Z"
   },
   {
    "duration": 83,
    "start_time": "2022-02-02T17:49:18.074Z"
   },
   {
    "duration": 36,
    "start_time": "2022-02-02T17:49:18.162Z"
   },
   {
    "duration": 43,
    "start_time": "2022-02-02T17:49:18.202Z"
   },
   {
    "duration": 32,
    "start_time": "2022-02-02T17:49:18.248Z"
   },
   {
    "duration": 24,
    "start_time": "2022-02-02T17:49:18.282Z"
   },
   {
    "duration": 57,
    "start_time": "2022-02-02T17:49:18.308Z"
   },
   {
    "duration": 1203,
    "start_time": "2022-02-02T17:49:18.368Z"
   },
   {
    "duration": 7,
    "start_time": "2022-02-02T17:49:19.573Z"
   },
   {
    "duration": 14,
    "start_time": "2022-02-02T17:49:19.583Z"
   },
   {
    "duration": 966,
    "start_time": "2022-02-02T17:49:19.599Z"
   },
   {
    "duration": 38,
    "start_time": "2022-02-02T17:49:20.569Z"
   },
   {
    "duration": 22,
    "start_time": "2022-02-02T17:49:20.610Z"
   },
   {
    "duration": 60,
    "start_time": "2022-02-02T17:49:20.635Z"
   },
   {
    "duration": 575,
    "start_time": "2022-02-02T17:49:20.698Z"
   },
   {
    "duration": 459,
    "start_time": "2022-02-02T17:49:21.276Z"
   },
   {
    "duration": 469,
    "start_time": "2022-02-02T17:49:21.737Z"
   },
   {
    "duration": 1446,
    "start_time": "2022-02-02T17:49:22.208Z"
   },
   {
    "duration": 10,
    "start_time": "2022-02-02T17:49:23.657Z"
   },
   {
    "duration": 11,
    "start_time": "2022-02-02T17:49:23.669Z"
   },
   {
    "duration": 51,
    "start_time": "2022-02-02T17:49:23.682Z"
   },
   {
    "duration": 461,
    "start_time": "2022-02-02T17:49:23.735Z"
   },
   {
    "duration": 300,
    "start_time": "2022-02-02T17:49:36.766Z"
   },
   {
    "duration": 352,
    "start_time": "2022-02-02T17:49:46.915Z"
   },
   {
    "duration": 388,
    "start_time": "2022-02-02T17:53:01.208Z"
   },
   {
    "duration": 506,
    "start_time": "2022-02-02T17:53:16.965Z"
   },
   {
    "duration": 888,
    "start_time": "2022-02-02T17:53:54.541Z"
   },
   {
    "duration": 584,
    "start_time": "2022-02-02T17:54:01.032Z"
   },
   {
    "duration": 374,
    "start_time": "2022-02-02T17:55:02.730Z"
   },
   {
    "duration": 407,
    "start_time": "2022-02-02T17:59:27.203Z"
   },
   {
    "duration": 1477,
    "start_time": "2022-02-02T18:01:47.415Z"
   },
   {
    "duration": 513,
    "start_time": "2022-02-02T18:01:48.895Z"
   },
   {
    "duration": 5,
    "start_time": "2022-02-02T18:01:49.410Z"
   },
   {
    "duration": 146,
    "start_time": "2022-02-02T18:01:49.418Z"
   },
   {
    "duration": 11,
    "start_time": "2022-02-02T18:01:49.567Z"
   },
   {
    "duration": 8,
    "start_time": "2022-02-02T18:01:49.581Z"
   },
   {
    "duration": 6,
    "start_time": "2022-02-02T18:01:49.592Z"
   },
   {
    "duration": 195,
    "start_time": "2022-02-02T18:01:49.602Z"
   },
   {
    "duration": 50,
    "start_time": "2022-02-02T18:01:49.800Z"
   },
   {
    "duration": 5,
    "start_time": "2022-02-02T18:01:49.853Z"
   },
   {
    "duration": 11,
    "start_time": "2022-02-02T18:01:49.861Z"
   },
   {
    "duration": 135,
    "start_time": "2022-02-02T18:01:49.875Z"
   },
   {
    "duration": 32,
    "start_time": "2022-02-02T18:01:50.013Z"
   },
   {
    "duration": 5,
    "start_time": "2022-02-02T18:01:50.048Z"
   },
   {
    "duration": 254,
    "start_time": "2022-02-02T18:01:50.055Z"
   },
   {
    "duration": 244,
    "start_time": "2022-02-02T18:01:50.311Z"
   },
   {
    "duration": 3,
    "start_time": "2022-02-02T18:01:50.558Z"
   },
   {
    "duration": 92,
    "start_time": "2022-02-02T18:01:50.564Z"
   },
   {
    "duration": 97,
    "start_time": "2022-02-02T18:01:50.659Z"
   },
   {
    "duration": 102,
    "start_time": "2022-02-02T18:01:50.760Z"
   },
   {
    "duration": 97,
    "start_time": "2022-02-02T18:01:50.865Z"
   },
   {
    "duration": 90,
    "start_time": "2022-02-02T18:01:50.965Z"
   },
   {
    "duration": 40,
    "start_time": "2022-02-02T18:01:51.062Z"
   },
   {
    "duration": 47,
    "start_time": "2022-02-02T18:01:51.105Z"
   },
   {
    "duration": 35,
    "start_time": "2022-02-02T18:01:51.154Z"
   },
   {
    "duration": 55,
    "start_time": "2022-02-02T18:01:51.192Z"
   },
   {
    "duration": 38,
    "start_time": "2022-02-02T18:01:51.250Z"
   },
   {
    "duration": 1821,
    "start_time": "2022-02-02T18:01:51.291Z"
   },
   {
    "duration": 9,
    "start_time": "2022-02-02T18:01:53.114Z"
   },
   {
    "duration": 11,
    "start_time": "2022-02-02T18:01:53.133Z"
   },
   {
    "duration": 930,
    "start_time": "2022-02-02T18:01:53.146Z"
   },
   {
    "duration": 28,
    "start_time": "2022-02-02T18:01:54.078Z"
   },
   {
    "duration": 25,
    "start_time": "2022-02-02T18:01:54.109Z"
   },
   {
    "duration": 40,
    "start_time": "2022-02-02T18:01:54.136Z"
   },
   {
    "duration": 687,
    "start_time": "2022-02-02T18:01:54.179Z"
   },
   {
    "duration": 654,
    "start_time": "2022-02-02T18:01:54.869Z"
   },
   {
    "duration": 721,
    "start_time": "2022-02-02T18:01:55.526Z"
   },
   {
    "duration": 1812,
    "start_time": "2022-02-02T18:01:56.261Z"
   },
   {
    "duration": 10,
    "start_time": "2022-02-02T18:01:58.076Z"
   },
   {
    "duration": 10,
    "start_time": "2022-02-02T18:01:58.089Z"
   },
   {
    "duration": 48,
    "start_time": "2022-02-02T18:01:58.102Z"
   },
   {
    "duration": 462,
    "start_time": "2022-02-02T18:01:58.153Z"
   },
   {
    "duration": 15,
    "start_time": "2022-02-02T18:04:21.146Z"
   },
   {
    "duration": 30,
    "start_time": "2022-02-02T18:04:32.900Z"
   },
   {
    "duration": 6,
    "start_time": "2022-02-02T18:05:35.651Z"
   },
   {
    "duration": 16,
    "start_time": "2022-02-02T18:05:39.674Z"
   },
   {
    "duration": 7,
    "start_time": "2022-02-02T18:05:45.856Z"
   },
   {
    "duration": 15,
    "start_time": "2022-02-02T18:05:49.033Z"
   },
   {
    "duration": 28,
    "start_time": "2022-02-02T18:07:56.277Z"
   },
   {
    "duration": 15,
    "start_time": "2022-02-02T18:08:22.725Z"
   },
   {
    "duration": 433,
    "start_time": "2022-02-02T18:09:01.353Z"
   },
   {
    "duration": 279,
    "start_time": "2022-02-02T18:10:35.142Z"
   },
   {
    "duration": 255,
    "start_time": "2022-02-02T18:11:47.101Z"
   },
   {
    "duration": 3386,
    "start_time": "2022-02-02T18:12:04.027Z"
   },
   {
    "duration": 1445,
    "start_time": "2022-02-02T18:13:23.966Z"
   },
   {
    "duration": 692,
    "start_time": "2022-02-02T18:13:25.413Z"
   },
   {
    "duration": 5,
    "start_time": "2022-02-02T18:13:26.110Z"
   },
   {
    "duration": 146,
    "start_time": "2022-02-02T18:13:26.118Z"
   },
   {
    "duration": 13,
    "start_time": "2022-02-02T18:13:26.266Z"
   },
   {
    "duration": 9,
    "start_time": "2022-02-02T18:13:26.281Z"
   },
   {
    "duration": 8,
    "start_time": "2022-02-02T18:13:26.292Z"
   },
   {
    "duration": 108,
    "start_time": "2022-02-02T18:13:26.332Z"
   },
   {
    "duration": 34,
    "start_time": "2022-02-02T18:13:26.443Z"
   },
   {
    "duration": 3,
    "start_time": "2022-02-02T18:13:26.480Z"
   },
   {
    "duration": 11,
    "start_time": "2022-02-02T18:13:26.486Z"
   },
   {
    "duration": 105,
    "start_time": "2022-02-02T18:13:26.501Z"
   },
   {
    "duration": 31,
    "start_time": "2022-02-02T18:13:26.608Z"
   },
   {
    "duration": 5,
    "start_time": "2022-02-02T18:13:26.642Z"
   },
   {
    "duration": 259,
    "start_time": "2022-02-02T18:13:26.650Z"
   },
   {
    "duration": 264,
    "start_time": "2022-02-02T18:13:26.912Z"
   },
   {
    "duration": 4,
    "start_time": "2022-02-02T18:13:27.180Z"
   },
   {
    "duration": 90,
    "start_time": "2022-02-02T18:13:27.186Z"
   },
   {
    "duration": 126,
    "start_time": "2022-02-02T18:13:27.279Z"
   },
   {
    "duration": 95,
    "start_time": "2022-02-02T18:13:27.407Z"
   },
   {
    "duration": 104,
    "start_time": "2022-02-02T18:13:27.504Z"
   },
   {
    "duration": 87,
    "start_time": "2022-02-02T18:13:27.611Z"
   },
   {
    "duration": 47,
    "start_time": "2022-02-02T18:13:27.703Z"
   },
   {
    "duration": 27,
    "start_time": "2022-02-02T18:13:27.753Z"
   },
   {
    "duration": 59,
    "start_time": "2022-02-02T18:13:27.782Z"
   },
   {
    "duration": 27,
    "start_time": "2022-02-02T18:13:27.844Z"
   },
   {
    "duration": 37,
    "start_time": "2022-02-02T18:13:27.873Z"
   },
   {
    "duration": 4813,
    "start_time": "2022-02-02T18:13:31.655Z"
   },
   {
    "duration": 3570,
    "start_time": "2022-02-02T18:13:38.920Z"
   },
   {
    "duration": 7,
    "start_time": "2022-02-02T18:13:46.628Z"
   },
   {
    "duration": 10,
    "start_time": "2022-02-02T18:13:57.677Z"
   },
   {
    "duration": 1655,
    "start_time": "2022-02-02T18:13:59.126Z"
   },
   {
    "duration": 36,
    "start_time": "2022-02-02T18:14:29.083Z"
   },
   {
    "duration": 31,
    "start_time": "2022-02-02T18:15:12.835Z"
   },
   {
    "duration": 6,
    "start_time": "2022-02-02T18:15:14.551Z"
   },
   {
    "duration": 20,
    "start_time": "2022-02-02T18:15:27.101Z"
   },
   {
    "duration": 40,
    "start_time": "2022-02-02T18:15:36.134Z"
   },
   {
    "duration": 1967,
    "start_time": "2022-02-02T18:16:29.899Z"
   },
   {
    "duration": 513,
    "start_time": "2022-02-02T18:16:31.870Z"
   },
   {
    "duration": 5,
    "start_time": "2022-02-02T18:16:32.389Z"
   },
   {
    "duration": 162,
    "start_time": "2022-02-02T18:16:32.396Z"
   },
   {
    "duration": 13,
    "start_time": "2022-02-02T18:16:32.562Z"
   },
   {
    "duration": 20,
    "start_time": "2022-02-02T18:16:32.578Z"
   },
   {
    "duration": 5,
    "start_time": "2022-02-02T18:16:32.631Z"
   },
   {
    "duration": 116,
    "start_time": "2022-02-02T18:16:32.639Z"
   },
   {
    "duration": 41,
    "start_time": "2022-02-02T18:16:32.758Z"
   },
   {
    "duration": 4,
    "start_time": "2022-02-02T18:16:32.802Z"
   },
   {
    "duration": 7,
    "start_time": "2022-02-02T18:16:32.832Z"
   },
   {
    "duration": 106,
    "start_time": "2022-02-02T18:16:32.842Z"
   },
   {
    "duration": 11,
    "start_time": "2022-02-02T18:16:32.951Z"
   },
   {
    "duration": 11,
    "start_time": "2022-02-02T18:16:32.965Z"
   },
   {
    "duration": 257,
    "start_time": "2022-02-02T18:16:32.980Z"
   },
   {
    "duration": 244,
    "start_time": "2022-02-02T18:16:33.240Z"
   },
   {
    "duration": 4,
    "start_time": "2022-02-02T18:16:33.487Z"
   },
   {
    "duration": 97,
    "start_time": "2022-02-02T18:16:33.493Z"
   },
   {
    "duration": 91,
    "start_time": "2022-02-02T18:16:33.593Z"
   },
   {
    "duration": 99,
    "start_time": "2022-02-02T18:16:33.687Z"
   },
   {
    "duration": 102,
    "start_time": "2022-02-02T18:16:33.789Z"
   },
   {
    "duration": 90,
    "start_time": "2022-02-02T18:16:33.896Z"
   },
   {
    "duration": 55,
    "start_time": "2022-02-02T18:16:33.989Z"
   },
   {
    "duration": 26,
    "start_time": "2022-02-02T18:16:34.047Z"
   },
   {
    "duration": 32,
    "start_time": "2022-02-02T18:16:34.076Z"
   },
   {
    "duration": 45,
    "start_time": "2022-02-02T18:16:34.111Z"
   },
   {
    "duration": 37,
    "start_time": "2022-02-02T18:16:34.159Z"
   },
   {
    "duration": 4622,
    "start_time": "2022-02-02T18:16:34.231Z"
   },
   {
    "duration": 3598,
    "start_time": "2022-02-02T18:16:38.856Z"
   },
   {
    "duration": 8,
    "start_time": "2022-02-02T18:16:42.458Z"
   },
   {
    "duration": 13,
    "start_time": "2022-02-02T18:16:42.469Z"
   },
   {
    "duration": 1431,
    "start_time": "2022-02-02T18:16:42.484Z"
   },
   {
    "duration": 39,
    "start_time": "2022-02-02T18:16:43.917Z"
   },
   {
    "duration": 7,
    "start_time": "2022-02-02T18:16:43.959Z"
   },
   {
    "duration": 76,
    "start_time": "2022-02-02T18:16:43.969Z"
   },
   {
    "duration": 689,
    "start_time": "2022-02-02T18:16:44.047Z"
   },
   {
    "duration": 718,
    "start_time": "2022-02-02T18:16:44.738Z"
   },
   {
    "duration": 708,
    "start_time": "2022-02-02T18:16:45.460Z"
   },
   {
    "duration": 1899,
    "start_time": "2022-02-02T18:16:46.171Z"
   },
   {
    "duration": 14,
    "start_time": "2022-02-02T18:16:48.073Z"
   },
   {
    "duration": 14,
    "start_time": "2022-02-02T18:16:48.091Z"
   },
   {
    "duration": 42,
    "start_time": "2022-02-02T18:16:48.108Z"
   },
   {
    "duration": 468,
    "start_time": "2022-02-02T18:16:48.154Z"
   },
   {
    "duration": 21,
    "start_time": "2022-02-02T18:46:01.256Z"
   },
   {
    "duration": 10,
    "start_time": "2022-02-02T18:50:54.063Z"
   },
   {
    "duration": 9,
    "start_time": "2022-02-02T18:51:34.652Z"
   },
   {
    "duration": 11,
    "start_time": "2022-02-02T18:52:11.366Z"
   },
   {
    "duration": 1539,
    "start_time": "2022-02-02T18:52:58.646Z"
   },
   {
    "duration": 533,
    "start_time": "2022-02-02T18:53:00.188Z"
   },
   {
    "duration": 4,
    "start_time": "2022-02-02T18:53:00.724Z"
   },
   {
    "duration": 185,
    "start_time": "2022-02-02T18:53:00.731Z"
   },
   {
    "duration": 15,
    "start_time": "2022-02-02T18:53:00.934Z"
   },
   {
    "duration": 9,
    "start_time": "2022-02-02T18:53:00.952Z"
   },
   {
    "duration": 8,
    "start_time": "2022-02-02T18:53:00.964Z"
   },
   {
    "duration": 205,
    "start_time": "2022-02-02T18:53:00.977Z"
   },
   {
    "duration": 57,
    "start_time": "2022-02-02T18:53:01.187Z"
   },
   {
    "duration": 4,
    "start_time": "2022-02-02T18:53:01.248Z"
   },
   {
    "duration": 11,
    "start_time": "2022-02-02T18:53:01.255Z"
   },
   {
    "duration": 105,
    "start_time": "2022-02-02T18:53:01.269Z"
   },
   {
    "duration": 11,
    "start_time": "2022-02-02T18:53:01.377Z"
   },
   {
    "duration": 21,
    "start_time": "2022-02-02T18:53:01.391Z"
   },
   {
    "duration": 254,
    "start_time": "2022-02-02T18:53:01.414Z"
   },
   {
    "duration": 239,
    "start_time": "2022-02-02T18:53:01.671Z"
   },
   {
    "duration": 4,
    "start_time": "2022-02-02T18:53:01.912Z"
   },
   {
    "duration": 89,
    "start_time": "2022-02-02T18:53:01.932Z"
   },
   {
    "duration": 82,
    "start_time": "2022-02-02T18:53:02.024Z"
   },
   {
    "duration": 99,
    "start_time": "2022-02-02T18:53:02.109Z"
   },
   {
    "duration": 98,
    "start_time": "2022-02-02T18:53:02.210Z"
   },
   {
    "duration": 90,
    "start_time": "2022-02-02T18:53:02.310Z"
   },
   {
    "duration": 59,
    "start_time": "2022-02-02T18:53:02.405Z"
   },
   {
    "duration": 28,
    "start_time": "2022-02-02T18:53:02.467Z"
   },
   {
    "duration": 56,
    "start_time": "2022-02-02T18:53:02.498Z"
   },
   {
    "duration": 25,
    "start_time": "2022-02-02T18:53:02.557Z"
   },
   {
    "duration": 66,
    "start_time": "2022-02-02T18:53:02.584Z"
   },
   {
    "duration": 3496,
    "start_time": "2022-02-02T18:53:02.652Z"
   },
   {
    "duration": 2670,
    "start_time": "2022-02-02T18:53:06.151Z"
   },
   {
    "duration": 12,
    "start_time": "2022-02-02T18:53:08.824Z"
   },
   {
    "duration": 12,
    "start_time": "2022-02-02T18:53:08.838Z"
   },
   {
    "duration": 1018,
    "start_time": "2022-02-02T18:53:08.853Z"
   },
   {
    "duration": 34,
    "start_time": "2022-02-02T18:53:09.874Z"
   },
   {
    "duration": 23,
    "start_time": "2022-02-02T18:53:09.911Z"
   },
   {
    "duration": 42,
    "start_time": "2022-02-02T18:53:09.939Z"
   },
   {
    "duration": 470,
    "start_time": "2022-02-02T18:53:09.984Z"
   },
   {
    "duration": 589,
    "start_time": "2022-02-02T18:53:10.457Z"
   },
   {
    "duration": 475,
    "start_time": "2022-02-02T18:53:11.048Z"
   },
   {
    "duration": 1509,
    "start_time": "2022-02-02T18:53:11.533Z"
   },
   {
    "duration": 9,
    "start_time": "2022-02-02T18:53:13.046Z"
   },
   {
    "duration": 9,
    "start_time": "2022-02-02T18:53:13.057Z"
   },
   {
    "duration": 19,
    "start_time": "2022-02-02T18:53:13.068Z"
   },
   {
    "duration": 522,
    "start_time": "2022-02-02T18:53:13.090Z"
   },
   {
    "duration": 10,
    "start_time": "2022-02-02T18:53:13.614Z"
   },
   {
    "duration": 8,
    "start_time": "2022-02-02T18:53:13.633Z"
   },
   {
    "duration": 6,
    "start_time": "2022-02-02T18:53:35.546Z"
   },
   {
    "duration": 7,
    "start_time": "2022-02-02T18:54:35.698Z"
   },
   {
    "duration": 12,
    "start_time": "2022-02-02T18:56:47.991Z"
   },
   {
    "duration": 1472,
    "start_time": "2022-02-02T18:58:53.836Z"
   },
   {
    "duration": 519,
    "start_time": "2022-02-02T18:58:55.311Z"
   },
   {
    "duration": 5,
    "start_time": "2022-02-02T18:58:55.833Z"
   },
   {
    "duration": 197,
    "start_time": "2022-02-02T18:58:55.841Z"
   },
   {
    "duration": 14,
    "start_time": "2022-02-02T18:58:56.042Z"
   },
   {
    "duration": 6,
    "start_time": "2022-02-02T18:58:56.059Z"
   },
   {
    "duration": 6,
    "start_time": "2022-02-02T18:58:56.068Z"
   },
   {
    "duration": 153,
    "start_time": "2022-02-02T18:58:56.079Z"
   },
   {
    "duration": 34,
    "start_time": "2022-02-02T18:58:56.235Z"
   },
   {
    "duration": 4,
    "start_time": "2022-02-02T18:58:56.271Z"
   },
   {
    "duration": 8,
    "start_time": "2022-02-02T18:58:56.279Z"
   },
   {
    "duration": 119,
    "start_time": "2022-02-02T18:58:56.290Z"
   },
   {
    "duration": 30,
    "start_time": "2022-02-02T18:58:56.413Z"
   },
   {
    "duration": 4,
    "start_time": "2022-02-02T18:58:56.446Z"
   },
   {
    "duration": 261,
    "start_time": "2022-02-02T18:58:56.453Z"
   },
   {
    "duration": 243,
    "start_time": "2022-02-02T18:58:56.717Z"
   },
   {
    "duration": 4,
    "start_time": "2022-02-02T18:58:56.962Z"
   },
   {
    "duration": 94,
    "start_time": "2022-02-02T18:58:56.969Z"
   },
   {
    "duration": 96,
    "start_time": "2022-02-02T18:58:57.065Z"
   },
   {
    "duration": 147,
    "start_time": "2022-02-02T18:58:57.164Z"
   },
   {
    "duration": 130,
    "start_time": "2022-02-02T18:58:57.314Z"
   },
   {
    "duration": 95,
    "start_time": "2022-02-02T18:58:57.447Z"
   },
   {
    "duration": 42,
    "start_time": "2022-02-02T18:58:57.549Z"
   },
   {
    "duration": 53,
    "start_time": "2022-02-02T18:58:57.595Z"
   },
   {
    "duration": 34,
    "start_time": "2022-02-02T18:58:57.651Z"
   },
   {
    "duration": 57,
    "start_time": "2022-02-02T18:58:57.688Z"
   },
   {
    "duration": 35,
    "start_time": "2022-02-02T18:58:57.747Z"
   },
   {
    "duration": 4616,
    "start_time": "2022-02-02T18:58:57.785Z"
   },
   {
    "duration": 3650,
    "start_time": "2022-02-02T18:59:02.404Z"
   },
   {
    "duration": 10,
    "start_time": "2022-02-02T18:59:06.057Z"
   },
   {
    "duration": 15,
    "start_time": "2022-02-02T18:59:06.070Z"
   },
   {
    "duration": 1004,
    "start_time": "2022-02-02T18:59:06.088Z"
   },
   {
    "duration": 45,
    "start_time": "2022-02-02T18:59:07.095Z"
   },
   {
    "duration": 7,
    "start_time": "2022-02-02T18:59:07.143Z"
   },
   {
    "duration": 39,
    "start_time": "2022-02-02T18:59:07.153Z"
   },
   {
    "duration": 469,
    "start_time": "2022-02-02T18:59:07.194Z"
   },
   {
    "duration": 469,
    "start_time": "2022-02-02T18:59:07.666Z"
   },
   {
    "duration": 481,
    "start_time": "2022-02-02T18:59:08.138Z"
   },
   {
    "duration": 1413,
    "start_time": "2022-02-02T18:59:08.622Z"
   },
   {
    "duration": 9,
    "start_time": "2022-02-02T18:59:10.038Z"
   },
   {
    "duration": 14,
    "start_time": "2022-02-02T18:59:10.050Z"
   },
   {
    "duration": 22,
    "start_time": "2022-02-02T18:59:10.067Z"
   },
   {
    "duration": 515,
    "start_time": "2022-02-02T18:59:10.091Z"
   },
   {
    "duration": 10,
    "start_time": "2022-02-02T18:59:10.608Z"
   },
   {
    "duration": 16,
    "start_time": "2022-02-02T18:59:10.620Z"
   },
   {
    "duration": 22,
    "start_time": "2022-02-02T18:59:17.574Z"
   },
   {
    "duration": 5,
    "start_time": "2022-02-02T19:00:51.668Z"
   },
   {
    "duration": 6,
    "start_time": "2022-02-02T19:01:32.178Z"
   },
   {
    "duration": 1523,
    "start_time": "2022-02-02T19:06:39.486Z"
   },
   {
    "duration": 641,
    "start_time": "2022-02-02T19:06:41.012Z"
   },
   {
    "duration": 5,
    "start_time": "2022-02-02T19:06:41.656Z"
   },
   {
    "duration": 135,
    "start_time": "2022-02-02T19:06:41.663Z"
   },
   {
    "duration": 38,
    "start_time": "2022-02-02T19:06:41.800Z"
   },
   {
    "duration": 10,
    "start_time": "2022-02-02T19:06:41.841Z"
   },
   {
    "duration": 8,
    "start_time": "2022-02-02T19:06:41.853Z"
   },
   {
    "duration": 119,
    "start_time": "2022-02-02T19:06:41.865Z"
   },
   {
    "duration": 51,
    "start_time": "2022-02-02T19:06:41.988Z"
   },
   {
    "duration": 4,
    "start_time": "2022-02-02T19:06:42.042Z"
   },
   {
    "duration": 9,
    "start_time": "2022-02-02T19:06:42.048Z"
   },
   {
    "duration": 109,
    "start_time": "2022-02-02T19:06:42.060Z"
   },
   {
    "duration": 11,
    "start_time": "2022-02-02T19:06:42.171Z"
   },
   {
    "duration": 5,
    "start_time": "2022-02-02T19:06:42.184Z"
   },
   {
    "duration": 252,
    "start_time": "2022-02-02T19:06:42.192Z"
   },
   {
    "duration": 240,
    "start_time": "2022-02-02T19:06:42.446Z"
   },
   {
    "duration": 4,
    "start_time": "2022-02-02T19:06:42.688Z"
   },
   {
    "duration": 87,
    "start_time": "2022-02-02T19:06:42.695Z"
   },
   {
    "duration": 90,
    "start_time": "2022-02-02T19:06:42.785Z"
   },
   {
    "duration": 100,
    "start_time": "2022-02-02T19:06:42.878Z"
   },
   {
    "duration": 89,
    "start_time": "2022-02-02T19:06:42.981Z"
   },
   {
    "duration": 91,
    "start_time": "2022-02-02T19:06:43.073Z"
   },
   {
    "duration": 37,
    "start_time": "2022-02-02T19:06:43.169Z"
   },
   {
    "duration": 41,
    "start_time": "2022-02-02T19:06:43.209Z"
   },
   {
    "duration": 31,
    "start_time": "2022-02-02T19:06:43.253Z"
   },
   {
    "duration": 51,
    "start_time": "2022-02-02T19:06:43.286Z"
   },
   {
    "duration": 36,
    "start_time": "2022-02-02T19:06:43.339Z"
   },
   {
    "duration": 3297,
    "start_time": "2022-02-02T19:06:43.377Z"
   },
   {
    "duration": 2462,
    "start_time": "2022-02-02T19:06:46.677Z"
   },
   {
    "duration": 7,
    "start_time": "2022-02-02T19:06:49.142Z"
   },
   {
    "duration": 13,
    "start_time": "2022-02-02T19:06:49.151Z"
   },
   {
    "duration": 979,
    "start_time": "2022-02-02T19:06:49.166Z"
   },
   {
    "duration": 32,
    "start_time": "2022-02-02T19:06:50.148Z"
   },
   {
    "duration": 5,
    "start_time": "2022-02-02T19:06:50.182Z"
   },
   {
    "duration": 67,
    "start_time": "2022-02-02T19:06:50.189Z"
   },
   {
    "duration": 438,
    "start_time": "2022-02-02T19:06:50.259Z"
   },
   {
    "duration": 443,
    "start_time": "2022-02-02T19:06:50.699Z"
   },
   {
    "duration": 483,
    "start_time": "2022-02-02T19:06:51.145Z"
   },
   {
    "duration": 1335,
    "start_time": "2022-02-02T19:06:51.632Z"
   },
   {
    "duration": 10,
    "start_time": "2022-02-02T19:06:52.969Z"
   },
   {
    "duration": 12,
    "start_time": "2022-02-02T19:06:52.981Z"
   },
   {
    "duration": 38,
    "start_time": "2022-02-02T19:06:52.996Z"
   },
   {
    "duration": 449,
    "start_time": "2022-02-02T19:06:53.036Z"
   },
   {
    "duration": 10,
    "start_time": "2022-02-02T19:06:53.488Z"
   },
   {
    "duration": 10,
    "start_time": "2022-02-02T19:06:53.500Z"
   },
   {
    "duration": 20,
    "start_time": "2022-02-02T19:06:53.512Z"
   },
   {
    "duration": 9,
    "start_time": "2022-02-02T19:06:53.537Z"
   },
   {
    "duration": 20,
    "start_time": "2022-02-02T19:08:13.364Z"
   },
   {
    "duration": 20,
    "start_time": "2022-02-02T19:09:54.876Z"
   },
   {
    "duration": 1556,
    "start_time": "2022-02-02T19:13:59.652Z"
   },
   {
    "duration": 526,
    "start_time": "2022-02-02T19:14:01.211Z"
   },
   {
    "duration": 5,
    "start_time": "2022-02-02T19:14:01.741Z"
   },
   {
    "duration": 148,
    "start_time": "2022-02-02T19:14:01.749Z"
   },
   {
    "duration": 36,
    "start_time": "2022-02-02T19:14:01.900Z"
   },
   {
    "duration": 11,
    "start_time": "2022-02-02T19:14:01.939Z"
   },
   {
    "duration": 9,
    "start_time": "2022-02-02T19:14:01.952Z"
   },
   {
    "duration": 130,
    "start_time": "2022-02-02T19:14:01.966Z"
   },
   {
    "duration": 48,
    "start_time": "2022-02-02T19:14:02.100Z"
   },
   {
    "duration": 5,
    "start_time": "2022-02-02T19:14:02.151Z"
   },
   {
    "duration": 10,
    "start_time": "2022-02-02T19:14:02.159Z"
   },
   {
    "duration": 113,
    "start_time": "2022-02-02T19:14:02.171Z"
   },
   {
    "duration": 12,
    "start_time": "2022-02-02T19:14:02.286Z"
   },
   {
    "duration": 5,
    "start_time": "2022-02-02T19:14:02.300Z"
   },
   {
    "duration": 435,
    "start_time": "2022-02-02T19:14:02.333Z"
   },
   {
    "duration": 328,
    "start_time": "2022-02-02T19:14:02.772Z"
   },
   {
    "duration": 4,
    "start_time": "2022-02-02T19:14:03.103Z"
   },
   {
    "duration": 103,
    "start_time": "2022-02-02T19:14:03.110Z"
   },
   {
    "duration": 133,
    "start_time": "2022-02-02T19:14:03.215Z"
   },
   {
    "duration": 97,
    "start_time": "2022-02-02T19:14:03.351Z"
   },
   {
    "duration": 89,
    "start_time": "2022-02-02T19:14:03.450Z"
   },
   {
    "duration": 76,
    "start_time": "2022-02-02T19:14:03.542Z"
   },
   {
    "duration": 36,
    "start_time": "2022-02-02T19:14:03.636Z"
   },
   {
    "duration": 28,
    "start_time": "2022-02-02T19:14:03.675Z"
   },
   {
    "duration": 53,
    "start_time": "2022-02-02T19:14:03.705Z"
   },
   {
    "duration": 26,
    "start_time": "2022-02-02T19:14:03.761Z"
   },
   {
    "duration": 59,
    "start_time": "2022-02-02T19:14:03.789Z"
   },
   {
    "duration": 3419,
    "start_time": "2022-02-02T19:14:03.851Z"
   },
   {
    "duration": 2568,
    "start_time": "2022-02-02T19:14:07.273Z"
   },
   {
    "duration": 6,
    "start_time": "2022-02-02T19:14:09.844Z"
   },
   {
    "duration": 11,
    "start_time": "2022-02-02T19:14:09.853Z"
   },
   {
    "duration": 1266,
    "start_time": "2022-02-02T19:14:09.867Z"
   },
   {
    "duration": 95,
    "start_time": "2022-02-02T19:14:11.137Z"
   },
   {
    "duration": 5,
    "start_time": "2022-02-02T19:14:11.235Z"
   },
   {
    "duration": 39,
    "start_time": "2022-02-02T19:14:11.242Z"
   },
   {
    "duration": 619,
    "start_time": "2022-02-02T19:14:11.284Z"
   },
   {
    "duration": 475,
    "start_time": "2022-02-02T19:14:11.907Z"
   },
   {
    "duration": 461,
    "start_time": "2022-02-02T19:14:12.384Z"
   },
   {
    "duration": 1458,
    "start_time": "2022-02-02T19:14:12.860Z"
   },
   {
    "duration": 18,
    "start_time": "2022-02-02T19:14:14.320Z"
   },
   {
    "duration": 11,
    "start_time": "2022-02-02T19:14:14.340Z"
   },
   {
    "duration": 19,
    "start_time": "2022-02-02T19:14:14.353Z"
   },
   {
    "duration": 520,
    "start_time": "2022-02-02T19:14:14.374Z"
   },
   {
    "duration": 11,
    "start_time": "2022-02-02T19:14:14.897Z"
   },
   {
    "duration": 27,
    "start_time": "2022-02-02T19:14:14.911Z"
   },
   {
    "duration": 7,
    "start_time": "2022-02-02T19:14:14.941Z"
   },
   {
    "duration": 10,
    "start_time": "2022-02-02T19:14:14.951Z"
   },
   {
    "duration": 27,
    "start_time": "2022-02-02T19:14:14.964Z"
   },
   {
    "duration": 27,
    "start_time": "2022-02-02T19:14:31.420Z"
   },
   {
    "duration": 22,
    "start_time": "2022-02-02T19:14:40.701Z"
   },
   {
    "duration": 282,
    "start_time": "2022-02-02T19:16:55.886Z"
   },
   {
    "duration": 1451,
    "start_time": "2022-02-02T19:20:49.050Z"
   },
   {
    "duration": 698,
    "start_time": "2022-02-02T19:20:50.503Z"
   },
   {
    "duration": 5,
    "start_time": "2022-02-02T19:20:51.205Z"
   },
   {
    "duration": 173,
    "start_time": "2022-02-02T19:20:51.213Z"
   },
   {
    "duration": 12,
    "start_time": "2022-02-02T19:20:51.388Z"
   },
   {
    "duration": 34,
    "start_time": "2022-02-02T19:20:51.402Z"
   },
   {
    "duration": 12,
    "start_time": "2022-02-02T19:20:51.438Z"
   },
   {
    "duration": 109,
    "start_time": "2022-02-02T19:20:51.454Z"
   },
   {
    "duration": 35,
    "start_time": "2022-02-02T19:20:51.566Z"
   },
   {
    "duration": 3,
    "start_time": "2022-02-02T19:20:51.604Z"
   },
   {
    "duration": 6,
    "start_time": "2022-02-02T19:20:51.632Z"
   },
   {
    "duration": 100,
    "start_time": "2022-02-02T19:20:51.641Z"
   },
   {
    "duration": 13,
    "start_time": "2022-02-02T19:20:51.743Z"
   },
   {
    "duration": 3,
    "start_time": "2022-02-02T19:20:51.759Z"
   },
   {
    "duration": 248,
    "start_time": "2022-02-02T19:20:51.764Z"
   },
   {
    "duration": 231,
    "start_time": "2022-02-02T19:20:52.014Z"
   },
   {
    "duration": 4,
    "start_time": "2022-02-02T19:20:52.248Z"
   },
   {
    "duration": 86,
    "start_time": "2022-02-02T19:20:52.254Z"
   },
   {
    "duration": 96,
    "start_time": "2022-02-02T19:20:52.342Z"
   },
   {
    "duration": 100,
    "start_time": "2022-02-02T19:20:52.440Z"
   },
   {
    "duration": 90,
    "start_time": "2022-02-02T19:20:52.542Z"
   },
   {
    "duration": 77,
    "start_time": "2022-02-02T19:20:52.635Z"
   },
   {
    "duration": 42,
    "start_time": "2022-02-02T19:20:52.731Z"
   },
   {
    "duration": 55,
    "start_time": "2022-02-02T19:20:52.777Z"
   },
   {
    "duration": 35,
    "start_time": "2022-02-02T19:20:52.835Z"
   },
   {
    "duration": 28,
    "start_time": "2022-02-02T19:20:52.875Z"
   },
   {
    "duration": 54,
    "start_time": "2022-02-02T19:20:52.906Z"
   },
   {
    "duration": 3312,
    "start_time": "2022-02-02T19:20:52.962Z"
   },
   {
    "duration": 2570,
    "start_time": "2022-02-02T19:20:56.276Z"
   },
   {
    "duration": 7,
    "start_time": "2022-02-02T19:20:58.849Z"
   },
   {
    "duration": 14,
    "start_time": "2022-02-02T19:20:58.858Z"
   },
   {
    "duration": 1002,
    "start_time": "2022-02-02T19:20:58.874Z"
   },
   {
    "duration": 31,
    "start_time": "2022-02-02T19:20:59.879Z"
   },
   {
    "duration": 21,
    "start_time": "2022-02-02T19:20:59.912Z"
   },
   {
    "duration": 41,
    "start_time": "2022-02-02T19:20:59.936Z"
   },
   {
    "duration": 470,
    "start_time": "2022-02-02T19:20:59.979Z"
   },
   {
    "duration": 480,
    "start_time": "2022-02-02T19:21:00.451Z"
   },
   {
    "duration": 500,
    "start_time": "2022-02-02T19:21:00.934Z"
   },
   {
    "duration": 1404,
    "start_time": "2022-02-02T19:21:01.437Z"
   },
   {
    "duration": 10,
    "start_time": "2022-02-02T19:21:02.844Z"
   },
   {
    "duration": 20,
    "start_time": "2022-02-02T19:21:02.856Z"
   },
   {
    "duration": 24,
    "start_time": "2022-02-02T19:21:02.879Z"
   },
   {
    "duration": 471,
    "start_time": "2022-02-02T19:21:02.906Z"
   },
   {
    "duration": 10,
    "start_time": "2022-02-02T19:21:03.380Z"
   },
   {
    "duration": 15,
    "start_time": "2022-02-02T19:21:03.393Z"
   },
   {
    "duration": 5,
    "start_time": "2022-02-02T19:21:03.411Z"
   },
   {
    "duration": 9,
    "start_time": "2022-02-02T19:21:03.433Z"
   },
   {
    "duration": 26,
    "start_time": "2022-02-02T19:21:03.445Z"
   },
   {
    "duration": 320,
    "start_time": "2022-02-02T19:21:03.474Z"
   },
   {
    "duration": 30,
    "start_time": "2022-02-02T20:06:20.289Z"
   },
   {
    "duration": 1497,
    "start_time": "2022-02-02T20:19:49.121Z"
   },
   {
    "duration": 537,
    "start_time": "2022-02-02T20:19:50.621Z"
   },
   {
    "duration": 4,
    "start_time": "2022-02-02T20:19:51.162Z"
   },
   {
    "duration": 135,
    "start_time": "2022-02-02T20:19:51.169Z"
   },
   {
    "duration": 33,
    "start_time": "2022-02-02T20:19:51.306Z"
   },
   {
    "duration": 10,
    "start_time": "2022-02-02T20:19:51.342Z"
   },
   {
    "duration": 10,
    "start_time": "2022-02-02T20:19:51.354Z"
   },
   {
    "duration": 120,
    "start_time": "2022-02-02T20:19:51.368Z"
   },
   {
    "duration": 47,
    "start_time": "2022-02-02T20:19:51.491Z"
   },
   {
    "duration": 4,
    "start_time": "2022-02-02T20:19:51.541Z"
   },
   {
    "duration": 10,
    "start_time": "2022-02-02T20:19:51.547Z"
   },
   {
    "duration": 104,
    "start_time": "2022-02-02T20:19:51.560Z"
   },
   {
    "duration": 12,
    "start_time": "2022-02-02T20:19:51.667Z"
   },
   {
    "duration": 8,
    "start_time": "2022-02-02T20:19:51.682Z"
   },
   {
    "duration": 260,
    "start_time": "2022-02-02T20:19:51.693Z"
   },
   {
    "duration": 252,
    "start_time": "2022-02-02T20:19:51.956Z"
   },
   {
    "duration": 4,
    "start_time": "2022-02-02T20:19:52.211Z"
   },
   {
    "duration": 68,
    "start_time": "2022-02-02T20:19:52.233Z"
   },
   {
    "duration": 100,
    "start_time": "2022-02-02T20:19:52.304Z"
   },
   {
    "duration": 95,
    "start_time": "2022-02-02T20:19:52.406Z"
   },
   {
    "duration": 94,
    "start_time": "2022-02-02T20:19:52.504Z"
   },
   {
    "duration": 91,
    "start_time": "2022-02-02T20:19:52.601Z"
   },
   {
    "duration": 47,
    "start_time": "2022-02-02T20:19:52.698Z"
   },
   {
    "duration": 27,
    "start_time": "2022-02-02T20:19:52.748Z"
   },
   {
    "duration": 55,
    "start_time": "2022-02-02T20:19:52.777Z"
   },
   {
    "duration": 25,
    "start_time": "2022-02-02T20:19:52.835Z"
   },
   {
    "duration": 37,
    "start_time": "2022-02-02T20:19:52.863Z"
   },
   {
    "duration": 3224,
    "start_time": "2022-02-02T20:19:52.902Z"
   },
   {
    "duration": 2452,
    "start_time": "2022-02-02T20:19:56.129Z"
   },
   {
    "duration": 10,
    "start_time": "2022-02-02T20:19:58.584Z"
   },
   {
    "duration": 13,
    "start_time": "2022-02-02T20:19:58.597Z"
   },
   {
    "duration": 980,
    "start_time": "2022-02-02T20:19:58.633Z"
   },
   {
    "duration": 39,
    "start_time": "2022-02-02T20:19:59.615Z"
   },
   {
    "duration": 7,
    "start_time": "2022-02-02T20:19:59.657Z"
   },
   {
    "duration": 68,
    "start_time": "2022-02-02T20:19:59.667Z"
   },
   {
    "duration": 457,
    "start_time": "2022-02-02T20:19:59.738Z"
   },
   {
    "duration": 471,
    "start_time": "2022-02-02T20:20:00.197Z"
   },
   {
    "duration": 511,
    "start_time": "2022-02-02T20:20:00.671Z"
   },
   {
    "duration": 1450,
    "start_time": "2022-02-02T20:20:01.185Z"
   },
   {
    "duration": 9,
    "start_time": "2022-02-02T20:20:02.638Z"
   },
   {
    "duration": 22,
    "start_time": "2022-02-02T20:20:02.650Z"
   },
   {
    "duration": 20,
    "start_time": "2022-02-02T20:20:02.675Z"
   },
   {
    "duration": 493,
    "start_time": "2022-02-02T20:20:02.697Z"
   },
   {
    "duration": 10,
    "start_time": "2022-02-02T20:20:03.192Z"
   },
   {
    "duration": 29,
    "start_time": "2022-02-02T20:20:03.206Z"
   },
   {
    "duration": 7,
    "start_time": "2022-02-02T20:20:03.238Z"
   },
   {
    "duration": 7,
    "start_time": "2022-02-02T20:20:03.248Z"
   },
   {
    "duration": 22,
    "start_time": "2022-02-02T20:20:03.257Z"
   },
   {
    "duration": 314,
    "start_time": "2022-02-02T20:20:03.281Z"
   },
   {
    "duration": 1462,
    "start_time": "2022-02-02T20:22:28.062Z"
   },
   {
    "duration": 531,
    "start_time": "2022-02-02T20:22:29.527Z"
   },
   {
    "duration": 4,
    "start_time": "2022-02-02T20:22:30.061Z"
   },
   {
    "duration": 207,
    "start_time": "2022-02-02T20:22:30.068Z"
   },
   {
    "duration": 16,
    "start_time": "2022-02-02T20:22:30.279Z"
   },
   {
    "duration": 34,
    "start_time": "2022-02-02T20:22:30.298Z"
   },
   {
    "duration": 42,
    "start_time": "2022-02-02T20:22:30.335Z"
   },
   {
    "duration": 147,
    "start_time": "2022-02-02T20:22:30.381Z"
   },
   {
    "duration": 36,
    "start_time": "2022-02-02T20:22:30.532Z"
   },
   {
    "duration": 4,
    "start_time": "2022-02-02T20:22:30.571Z"
   },
   {
    "duration": 43,
    "start_time": "2022-02-02T20:22:30.577Z"
   },
   {
    "duration": 94,
    "start_time": "2022-02-02T20:22:30.623Z"
   },
   {
    "duration": 27,
    "start_time": "2022-02-02T20:22:30.720Z"
   },
   {
    "duration": 19,
    "start_time": "2022-02-02T20:22:30.750Z"
   },
   {
    "duration": 253,
    "start_time": "2022-02-02T20:22:30.773Z"
   },
   {
    "duration": 259,
    "start_time": "2022-02-02T20:22:31.028Z"
   },
   {
    "duration": 3,
    "start_time": "2022-02-02T20:22:31.290Z"
   },
   {
    "duration": 94,
    "start_time": "2022-02-02T20:22:31.296Z"
   },
   {
    "duration": 97,
    "start_time": "2022-02-02T20:22:31.393Z"
   },
   {
    "duration": 97,
    "start_time": "2022-02-02T20:22:31.493Z"
   },
   {
    "duration": 107,
    "start_time": "2022-02-02T20:22:31.593Z"
   },
   {
    "duration": 94,
    "start_time": "2022-02-02T20:22:31.703Z"
   },
   {
    "duration": 48,
    "start_time": "2022-02-02T20:22:31.804Z"
   },
   {
    "duration": 27,
    "start_time": "2022-02-02T20:22:31.856Z"
   },
   {
    "duration": 55,
    "start_time": "2022-02-02T20:22:31.886Z"
   },
   {
    "duration": 24,
    "start_time": "2022-02-02T20:22:31.943Z"
   },
   {
    "duration": 35,
    "start_time": "2022-02-02T20:22:31.969Z"
   },
   {
    "duration": 3290,
    "start_time": "2022-02-02T20:22:32.006Z"
   },
   {
    "duration": 2624,
    "start_time": "2022-02-02T20:22:35.298Z"
   },
   {
    "duration": 11,
    "start_time": "2022-02-02T20:22:37.924Z"
   },
   {
    "duration": 16,
    "start_time": "2022-02-02T20:22:37.938Z"
   },
   {
    "duration": 986,
    "start_time": "2022-02-02T20:22:37.957Z"
   },
   {
    "duration": 30,
    "start_time": "2022-02-02T20:22:38.946Z"
   },
   {
    "duration": 5,
    "start_time": "2022-02-02T20:22:38.979Z"
   },
   {
    "duration": 68,
    "start_time": "2022-02-02T20:22:38.987Z"
   },
   {
    "duration": 474,
    "start_time": "2022-02-02T20:22:39.057Z"
   },
   {
    "duration": 716,
    "start_time": "2022-02-02T20:22:39.534Z"
   },
   {
    "duration": 767,
    "start_time": "2022-02-02T20:22:40.253Z"
   },
   {
    "duration": 1669,
    "start_time": "2022-02-02T20:22:41.023Z"
   },
   {
    "duration": 10,
    "start_time": "2022-02-02T20:22:42.695Z"
   },
   {
    "duration": 18,
    "start_time": "2022-02-02T20:22:42.707Z"
   },
   {
    "duration": 22,
    "start_time": "2022-02-02T20:22:42.733Z"
   },
   {
    "duration": 500,
    "start_time": "2022-02-02T20:22:42.758Z"
   },
   {
    "duration": 11,
    "start_time": "2022-02-02T20:22:43.261Z"
   },
   {
    "duration": 10,
    "start_time": "2022-02-02T20:22:43.274Z"
   },
   {
    "duration": 9,
    "start_time": "2022-02-02T20:22:43.287Z"
   },
   {
    "duration": 34,
    "start_time": "2022-02-02T20:22:43.299Z"
   },
   {
    "duration": 21,
    "start_time": "2022-02-02T20:22:43.335Z"
   },
   {
    "duration": 323,
    "start_time": "2022-02-02T20:22:43.359Z"
   },
   {
    "duration": 1671,
    "start_time": "2022-02-02T20:24:00.462Z"
   },
   {
    "duration": 533,
    "start_time": "2022-02-02T20:24:02.136Z"
   },
   {
    "duration": 4,
    "start_time": "2022-02-02T20:24:02.672Z"
   },
   {
    "duration": 153,
    "start_time": "2022-02-02T20:24:02.679Z"
   },
   {
    "duration": 13,
    "start_time": "2022-02-02T20:24:02.835Z"
   },
   {
    "duration": 12,
    "start_time": "2022-02-02T20:24:02.852Z"
   },
   {
    "duration": 9,
    "start_time": "2022-02-02T20:24:02.867Z"
   },
   {
    "duration": 134,
    "start_time": "2022-02-02T20:24:02.879Z"
   },
   {
    "duration": 48,
    "start_time": "2022-02-02T20:24:03.016Z"
   },
   {
    "duration": 5,
    "start_time": "2022-02-02T20:24:03.067Z"
   },
   {
    "duration": 12,
    "start_time": "2022-02-02T20:24:03.075Z"
   },
   {
    "duration": 112,
    "start_time": "2022-02-02T20:24:03.089Z"
   },
   {
    "duration": 29,
    "start_time": "2022-02-02T20:24:03.203Z"
   },
   {
    "duration": 8,
    "start_time": "2022-02-02T20:24:03.235Z"
   },
   {
    "duration": 239,
    "start_time": "2022-02-02T20:24:03.245Z"
   },
   {
    "duration": 257,
    "start_time": "2022-02-02T20:24:03.486Z"
   },
   {
    "duration": 4,
    "start_time": "2022-02-02T20:24:03.746Z"
   },
   {
    "duration": 90,
    "start_time": "2022-02-02T20:24:03.753Z"
   },
   {
    "duration": 97,
    "start_time": "2022-02-02T20:24:03.846Z"
   },
   {
    "duration": 94,
    "start_time": "2022-02-02T20:24:03.946Z"
   },
   {
    "duration": 98,
    "start_time": "2022-02-02T20:24:04.043Z"
   },
   {
    "duration": 90,
    "start_time": "2022-02-02T20:24:04.143Z"
   },
   {
    "duration": 38,
    "start_time": "2022-02-02T20:24:04.238Z"
   },
   {
    "duration": 28,
    "start_time": "2022-02-02T20:24:04.279Z"
   },
   {
    "duration": 34,
    "start_time": "2022-02-02T20:24:04.332Z"
   },
   {
    "duration": 25,
    "start_time": "2022-02-02T20:24:04.369Z"
   },
   {
    "duration": 60,
    "start_time": "2022-02-02T20:24:04.396Z"
   },
   {
    "duration": 3392,
    "start_time": "2022-02-02T20:24:04.458Z"
   },
   {
    "duration": 2661,
    "start_time": "2022-02-02T20:24:07.852Z"
   },
   {
    "duration": 18,
    "start_time": "2022-02-02T20:24:10.515Z"
   },
   {
    "duration": 12,
    "start_time": "2022-02-02T20:24:10.536Z"
   },
   {
    "duration": 1035,
    "start_time": "2022-02-02T20:24:10.551Z"
   },
   {
    "duration": 47,
    "start_time": "2022-02-02T20:24:11.588Z"
   },
   {
    "duration": 5,
    "start_time": "2022-02-02T20:24:11.637Z"
   },
   {
    "duration": 41,
    "start_time": "2022-02-02T20:24:11.644Z"
   },
   {
    "duration": 494,
    "start_time": "2022-02-02T20:24:11.688Z"
   },
   {
    "duration": 567,
    "start_time": "2022-02-02T20:24:12.184Z"
   },
   {
    "duration": 530,
    "start_time": "2022-02-02T20:24:12.754Z"
   },
   {
    "duration": 1362,
    "start_time": "2022-02-02T20:24:13.287Z"
   },
   {
    "duration": 10,
    "start_time": "2022-02-02T20:24:14.651Z"
   },
   {
    "duration": 14,
    "start_time": "2022-02-02T20:24:14.664Z"
   },
   {
    "duration": 24,
    "start_time": "2022-02-02T20:24:14.680Z"
   },
   {
    "duration": 492,
    "start_time": "2022-02-02T20:24:14.707Z"
   },
   {
    "duration": 10,
    "start_time": "2022-02-02T20:24:15.202Z"
   },
   {
    "duration": 20,
    "start_time": "2022-02-02T20:24:15.214Z"
   },
   {
    "duration": 14,
    "start_time": "2022-02-02T20:24:15.236Z"
   },
   {
    "duration": 6,
    "start_time": "2022-02-02T20:24:15.252Z"
   },
   {
    "duration": 21,
    "start_time": "2022-02-02T20:24:15.261Z"
   },
   {
    "duration": 329,
    "start_time": "2022-02-02T20:24:15.284Z"
   },
   {
    "duration": 1529,
    "start_time": "2022-02-02T20:50:51.589Z"
   },
   {
    "duration": 537,
    "start_time": "2022-02-02T20:50:53.121Z"
   },
   {
    "duration": 6,
    "start_time": "2022-02-02T20:50:53.666Z"
   },
   {
    "duration": 222,
    "start_time": "2022-02-02T20:50:53.675Z"
   },
   {
    "duration": 40,
    "start_time": "2022-02-02T20:50:53.900Z"
   },
   {
    "duration": 10,
    "start_time": "2022-02-02T20:50:53.943Z"
   },
   {
    "duration": 6,
    "start_time": "2022-02-02T20:50:53.958Z"
   },
   {
    "duration": 185,
    "start_time": "2022-02-02T20:50:53.968Z"
   },
   {
    "duration": 46,
    "start_time": "2022-02-02T20:50:54.156Z"
   },
   {
    "duration": 5,
    "start_time": "2022-02-02T20:50:54.205Z"
   },
   {
    "duration": 29,
    "start_time": "2022-02-02T20:50:54.212Z"
   },
   {
    "duration": 121,
    "start_time": "2022-02-02T20:50:54.244Z"
   },
   {
    "duration": 12,
    "start_time": "2022-02-02T20:50:54.368Z"
   },
   {
    "duration": 9,
    "start_time": "2022-02-02T20:50:54.383Z"
   },
   {
    "duration": 290,
    "start_time": "2022-02-02T20:50:54.395Z"
   },
   {
    "duration": 258,
    "start_time": "2022-02-02T20:50:54.688Z"
   },
   {
    "duration": 5,
    "start_time": "2022-02-02T20:50:54.949Z"
   },
   {
    "duration": 87,
    "start_time": "2022-02-02T20:50:54.956Z"
   },
   {
    "duration": 92,
    "start_time": "2022-02-02T20:50:55.045Z"
   },
   {
    "duration": 100,
    "start_time": "2022-02-02T20:50:55.140Z"
   },
   {
    "duration": 93,
    "start_time": "2022-02-02T20:50:55.243Z"
   },
   {
    "duration": 77,
    "start_time": "2022-02-02T20:50:55.342Z"
   },
   {
    "duration": 40,
    "start_time": "2022-02-02T20:50:55.434Z"
   },
   {
    "duration": 30,
    "start_time": "2022-02-02T20:50:55.477Z"
   },
   {
    "duration": 33,
    "start_time": "2022-02-02T20:50:55.534Z"
   },
   {
    "duration": 25,
    "start_time": "2022-02-02T20:50:55.570Z"
   },
   {
    "duration": 59,
    "start_time": "2022-02-02T20:50:55.597Z"
   },
   {
    "duration": 3453,
    "start_time": "2022-02-02T20:50:55.659Z"
   },
   {
    "duration": 3559,
    "start_time": "2022-02-02T20:50:59.115Z"
   },
   {
    "duration": 8,
    "start_time": "2022-02-02T20:51:02.678Z"
   },
   {
    "duration": 15,
    "start_time": "2022-02-02T20:51:02.690Z"
   },
   {
    "duration": 1680,
    "start_time": "2022-02-02T20:51:02.708Z"
   },
   {
    "duration": 56,
    "start_time": "2022-02-02T20:51:04.391Z"
   },
   {
    "duration": 7,
    "start_time": "2022-02-02T20:51:04.451Z"
   },
   {
    "duration": 79,
    "start_time": "2022-02-02T20:51:04.461Z"
   },
   {
    "duration": 682,
    "start_time": "2022-02-02T20:51:04.543Z"
   },
   {
    "duration": 473,
    "start_time": "2022-02-02T20:51:05.232Z"
   },
   {
    "duration": 489,
    "start_time": "2022-02-02T20:51:05.708Z"
   },
   {
    "duration": 1397,
    "start_time": "2022-02-02T20:51:06.200Z"
   },
   {
    "duration": 11,
    "start_time": "2022-02-02T20:51:07.599Z"
   },
   {
    "duration": 26,
    "start_time": "2022-02-02T20:51:07.613Z"
   },
   {
    "duration": 32,
    "start_time": "2022-02-02T20:51:07.642Z"
   },
   {
    "duration": 470,
    "start_time": "2022-02-02T20:51:07.677Z"
   },
   {
    "duration": 10,
    "start_time": "2022-02-02T20:51:08.150Z"
   },
   {
    "duration": 9,
    "start_time": "2022-02-02T20:51:08.162Z"
   },
   {
    "duration": 4,
    "start_time": "2022-02-02T20:51:08.174Z"
   },
   {
    "duration": 10,
    "start_time": "2022-02-02T20:51:08.180Z"
   },
   {
    "duration": 52,
    "start_time": "2022-02-02T20:51:08.192Z"
   },
   {
    "duration": 299,
    "start_time": "2022-02-02T20:51:08.246Z"
   },
   {
    "duration": 1737,
    "start_time": "2022-02-12T06:11:02.199Z"
   },
   {
    "duration": 484,
    "start_time": "2022-02-12T06:11:03.939Z"
   },
   {
    "duration": 5,
    "start_time": "2022-02-12T06:11:04.425Z"
   },
   {
    "duration": 141,
    "start_time": "2022-02-12T06:11:04.433Z"
   },
   {
    "duration": 11,
    "start_time": "2022-02-12T06:11:04.576Z"
   },
   {
    "duration": 35,
    "start_time": "2022-02-12T06:11:04.589Z"
   },
   {
    "duration": 6,
    "start_time": "2022-02-12T06:11:04.627Z"
   },
   {
    "duration": 118,
    "start_time": "2022-02-12T06:11:04.636Z"
   },
   {
    "duration": 32,
    "start_time": "2022-02-12T06:11:04.757Z"
   },
   {
    "duration": 4,
    "start_time": "2022-02-12T06:11:04.792Z"
   },
   {
    "duration": 28,
    "start_time": "2022-02-12T06:11:04.798Z"
   },
   {
    "duration": 94,
    "start_time": "2022-02-12T06:11:04.829Z"
   },
   {
    "duration": 11,
    "start_time": "2022-02-12T06:11:04.926Z"
   },
   {
    "duration": 4,
    "start_time": "2022-02-12T06:11:04.940Z"
   },
   {
    "duration": 252,
    "start_time": "2022-02-12T06:11:04.946Z"
   },
   {
    "duration": 243,
    "start_time": "2022-02-12T06:11:05.200Z"
   },
   {
    "duration": 4,
    "start_time": "2022-02-12T06:11:05.445Z"
   },
   {
    "duration": 99,
    "start_time": "2022-02-12T06:11:05.452Z"
   },
   {
    "duration": 118,
    "start_time": "2022-02-12T06:11:05.554Z"
   },
   {
    "duration": 123,
    "start_time": "2022-02-12T06:11:05.675Z"
   },
   {
    "duration": 122,
    "start_time": "2022-02-12T06:11:05.801Z"
   },
   {
    "duration": 78,
    "start_time": "2022-02-12T06:11:05.926Z"
   },
   {
    "duration": 52,
    "start_time": "2022-02-12T06:11:06.009Z"
   },
   {
    "duration": 30,
    "start_time": "2022-02-12T06:11:06.064Z"
   },
   {
    "duration": 35,
    "start_time": "2022-02-12T06:11:06.124Z"
   },
   {
    "duration": 28,
    "start_time": "2022-02-12T06:11:06.161Z"
   },
   {
    "duration": 64,
    "start_time": "2022-02-12T06:11:06.191Z"
   },
   {
    "duration": 3351,
    "start_time": "2022-02-12T06:11:06.258Z"
   },
   {
    "duration": 2455,
    "start_time": "2022-02-12T06:11:09.612Z"
   },
   {
    "duration": 8,
    "start_time": "2022-02-12T06:11:12.069Z"
   },
   {
    "duration": 11,
    "start_time": "2022-02-12T06:11:12.080Z"
   },
   {
    "duration": 961,
    "start_time": "2022-02-12T06:11:12.094Z"
   },
   {
    "duration": 29,
    "start_time": "2022-02-12T06:11:13.057Z"
   },
   {
    "duration": 5,
    "start_time": "2022-02-12T06:11:13.088Z"
   },
   {
    "duration": 59,
    "start_time": "2022-02-12T06:11:13.096Z"
   },
   {
    "duration": 453,
    "start_time": "2022-02-12T06:11:13.157Z"
   },
   {
    "duration": 442,
    "start_time": "2022-02-12T06:11:13.612Z"
   },
   {
    "duration": 461,
    "start_time": "2022-02-12T06:11:14.056Z"
   },
   {
    "duration": 1338,
    "start_time": "2022-02-12T06:11:14.523Z"
   },
   {
    "duration": 11,
    "start_time": "2022-02-12T06:11:15.864Z"
   },
   {
    "duration": 9,
    "start_time": "2022-02-12T06:11:15.878Z"
   },
   {
    "duration": 48,
    "start_time": "2022-02-12T06:11:15.890Z"
   },
   {
    "duration": 433,
    "start_time": "2022-02-12T06:11:15.941Z"
   },
   {
    "duration": 10,
    "start_time": "2022-02-12T06:11:16.377Z"
   },
   {
    "duration": 19,
    "start_time": "2022-02-12T06:11:16.389Z"
   },
   {
    "duration": 14,
    "start_time": "2022-02-12T06:11:16.410Z"
   },
   {
    "duration": 8,
    "start_time": "2022-02-12T06:11:16.426Z"
   },
   {
    "duration": 21,
    "start_time": "2022-02-12T06:11:16.437Z"
   },
   {
    "duration": 307,
    "start_time": "2022-02-12T06:11:16.460Z"
   },
   {
    "duration": 644,
    "start_time": "2022-02-12T06:47:59.396Z"
   },
   {
    "duration": 5,
    "start_time": "2022-02-12T06:48:03.573Z"
   },
   {
    "duration": 25,
    "start_time": "2022-02-12T06:54:49.291Z"
   },
   {
    "duration": 24,
    "start_time": "2022-02-12T06:55:04.121Z"
   },
   {
    "duration": 6,
    "start_time": "2022-02-12T06:55:11.250Z"
   },
   {
    "duration": 8,
    "start_time": "2022-02-12T06:55:18.098Z"
   },
   {
    "duration": 23,
    "start_time": "2022-02-12T06:55:22.481Z"
   },
   {
    "duration": 20,
    "start_time": "2022-02-12T06:55:26.960Z"
   },
   {
    "duration": 7,
    "start_time": "2022-02-12T06:55:32.129Z"
   },
   {
    "duration": 6,
    "start_time": "2022-02-12T06:55:42.892Z"
   },
   {
    "duration": 38,
    "start_time": "2022-02-12T06:55:47.679Z"
   },
   {
    "duration": 34,
    "start_time": "2022-02-12T06:55:50.167Z"
   },
   {
    "duration": 25,
    "start_time": "2022-02-12T06:55:57.351Z"
   },
   {
    "duration": 7,
    "start_time": "2022-02-12T06:56:07.438Z"
   },
   {
    "duration": 25,
    "start_time": "2022-02-12T07:02:01.864Z"
   },
   {
    "duration": 12,
    "start_time": "2022-02-12T07:03:51.178Z"
   },
   {
    "duration": 25,
    "start_time": "2022-02-12T07:05:22.830Z"
   },
   {
    "duration": 24,
    "start_time": "2022-02-12T07:06:47.520Z"
   },
   {
    "duration": 126,
    "start_time": "2022-02-12T07:31:33.534Z"
   },
   {
    "duration": 472,
    "start_time": "2022-02-12T07:31:40.308Z"
   },
   {
    "duration": 513,
    "start_time": "2022-02-12T07:32:01.307Z"
   },
   {
    "duration": 478,
    "start_time": "2022-02-12T07:32:22.379Z"
   },
   {
    "duration": 7,
    "start_time": "2022-02-12T07:34:03.876Z"
   },
   {
    "duration": 7,
    "start_time": "2022-02-12T07:34:19.179Z"
   },
   {
    "duration": 7,
    "start_time": "2022-02-12T07:34:25.170Z"
   },
   {
    "duration": 9,
    "start_time": "2022-02-12T07:34:27.282Z"
   },
   {
    "duration": 7,
    "start_time": "2022-02-12T07:34:30.841Z"
   },
   {
    "duration": 8,
    "start_time": "2022-02-12T07:34:34.233Z"
   },
   {
    "duration": 9,
    "start_time": "2022-02-12T07:34:38.169Z"
   },
   {
    "duration": 1491,
    "start_time": "2022-02-12T07:42:36.941Z"
   },
   {
    "duration": 543,
    "start_time": "2022-02-12T07:42:38.435Z"
   },
   {
    "duration": 4,
    "start_time": "2022-02-12T07:42:38.981Z"
   },
   {
    "duration": 167,
    "start_time": "2022-02-12T07:42:38.988Z"
   },
   {
    "duration": 12,
    "start_time": "2022-02-12T07:42:39.157Z"
   },
   {
    "duration": 6,
    "start_time": "2022-02-12T07:42:39.172Z"
   },
   {
    "duration": 6,
    "start_time": "2022-02-12T07:42:39.181Z"
   },
   {
    "duration": 110,
    "start_time": "2022-02-12T07:42:39.235Z"
   },
   {
    "duration": 43,
    "start_time": "2022-02-12T07:42:39.350Z"
   },
   {
    "duration": 5,
    "start_time": "2022-02-12T07:42:39.396Z"
   },
   {
    "duration": 7,
    "start_time": "2022-02-12T07:42:39.423Z"
   },
   {
    "duration": 106,
    "start_time": "2022-02-12T07:42:39.432Z"
   },
   {
    "duration": 13,
    "start_time": "2022-02-12T07:42:39.541Z"
   },
   {
    "duration": 7,
    "start_time": "2022-02-12T07:42:39.556Z"
   },
   {
    "duration": 408,
    "start_time": "2022-02-12T07:42:39.565Z"
   },
   {
    "duration": 247,
    "start_time": "2022-02-12T07:42:39.976Z"
   },
   {
    "duration": 4,
    "start_time": "2022-02-12T07:42:40.225Z"
   },
   {
    "duration": 75,
    "start_time": "2022-02-12T07:42:40.236Z"
   },
   {
    "duration": 138,
    "start_time": "2022-02-12T07:42:40.324Z"
   },
   {
    "duration": 99,
    "start_time": "2022-02-12T07:42:40.465Z"
   },
   {
    "duration": 119,
    "start_time": "2022-02-12T07:42:40.567Z"
   },
   {
    "duration": 112,
    "start_time": "2022-02-12T07:42:40.689Z"
   },
   {
    "duration": 60,
    "start_time": "2022-02-12T07:42:40.804Z"
   },
   {
    "duration": 26,
    "start_time": "2022-02-12T07:42:40.866Z"
   },
   {
    "duration": 54,
    "start_time": "2022-02-12T07:42:40.895Z"
   },
   {
    "duration": 26,
    "start_time": "2022-02-12T07:42:40.952Z"
   },
   {
    "duration": 64,
    "start_time": "2022-02-12T07:42:40.985Z"
   },
   {
    "duration": 3213,
    "start_time": "2022-02-12T07:42:41.052Z"
   },
   {
    "duration": 2524,
    "start_time": "2022-02-12T07:42:44.267Z"
   },
   {
    "duration": 8,
    "start_time": "2022-02-12T07:42:46.793Z"
   },
   {
    "duration": 32,
    "start_time": "2022-02-12T07:42:46.803Z"
   },
   {
    "duration": 1015,
    "start_time": "2022-02-12T07:42:46.839Z"
   },
   {
    "duration": 31,
    "start_time": "2022-02-12T07:42:47.857Z"
   },
   {
    "duration": 6,
    "start_time": "2022-02-12T07:42:47.890Z"
   },
   {
    "duration": 67,
    "start_time": "2022-02-12T07:42:47.898Z"
   },
   {
    "duration": 514,
    "start_time": "2022-02-12T07:42:47.968Z"
   },
   {
    "duration": 521,
    "start_time": "2022-02-12T07:42:48.484Z"
   },
   {
    "duration": 455,
    "start_time": "2022-02-12T07:42:49.007Z"
   },
   {
    "duration": 480,
    "start_time": "2022-02-12T07:42:49.466Z"
   },
   {
    "duration": 1496,
    "start_time": "2022-02-12T07:42:49.948Z"
   },
   {
    "duration": 10,
    "start_time": "2022-02-12T07:42:51.446Z"
   },
   {
    "duration": 16,
    "start_time": "2022-02-12T07:42:51.459Z"
   },
   {
    "duration": 26,
    "start_time": "2022-02-12T07:42:51.477Z"
   },
   {
    "duration": 371,
    "start_time": "2022-02-12T07:42:51.505Z"
   },
   {
    "duration": 10,
    "start_time": "2022-02-12T07:42:51.878Z"
   },
   {
    "duration": 9,
    "start_time": "2022-02-12T07:42:51.891Z"
   },
   {
    "duration": 5,
    "start_time": "2022-02-12T07:42:51.925Z"
   },
   {
    "duration": 6,
    "start_time": "2022-02-12T07:42:51.932Z"
   },
   {
    "duration": 25,
    "start_time": "2022-02-12T07:42:51.945Z"
   },
   {
    "duration": 333,
    "start_time": "2022-02-12T07:42:51.972Z"
   },
   {
    "duration": 1423,
    "start_time": "2022-02-12T13:23:55.535Z"
   },
   {
    "duration": 509,
    "start_time": "2022-02-12T13:23:56.960Z"
   },
   {
    "duration": 4,
    "start_time": "2022-02-12T13:23:57.473Z"
   },
   {
    "duration": 103,
    "start_time": "2022-02-12T13:23:57.479Z"
   },
   {
    "duration": 10,
    "start_time": "2022-02-12T13:23:57.584Z"
   },
   {
    "duration": 25,
    "start_time": "2022-02-12T13:23:57.596Z"
   },
   {
    "duration": 18,
    "start_time": "2022-02-12T13:23:57.623Z"
   },
   {
    "duration": 101,
    "start_time": "2022-02-12T13:23:57.645Z"
   },
   {
    "duration": 36,
    "start_time": "2022-02-12T13:23:57.749Z"
   },
   {
    "duration": 3,
    "start_time": "2022-02-12T13:23:57.787Z"
   },
   {
    "duration": 26,
    "start_time": "2022-02-12T13:23:57.792Z"
   },
   {
    "duration": 79,
    "start_time": "2022-02-12T13:23:57.821Z"
   },
   {
    "duration": 17,
    "start_time": "2022-02-12T13:23:57.902Z"
   },
   {
    "duration": 146,
    "start_time": "2022-02-12T13:23:57.922Z"
   },
   {
    "duration": 229,
    "start_time": "2022-02-12T13:23:58.070Z"
   },
   {
    "duration": 3,
    "start_time": "2022-02-12T13:23:58.301Z"
   },
   {
    "duration": 81,
    "start_time": "2022-02-12T13:23:58.306Z"
   },
   {
    "duration": 75,
    "start_time": "2022-02-12T13:23:58.390Z"
   },
   {
    "duration": 76,
    "start_time": "2022-02-12T13:23:58.467Z"
   },
   {
    "duration": 69,
    "start_time": "2022-02-12T13:23:58.544Z"
   },
   {
    "duration": 65,
    "start_time": "2022-02-12T13:23:58.619Z"
   },
   {
    "duration": 47,
    "start_time": "2022-02-12T13:23:58.686Z"
   },
   {
    "duration": 31,
    "start_time": "2022-02-12T13:23:58.738Z"
   },
   {
    "duration": 30,
    "start_time": "2022-02-12T13:23:58.772Z"
   },
   {
    "duration": 21,
    "start_time": "2022-02-12T13:23:58.804Z"
   },
   {
    "duration": 30,
    "start_time": "2022-02-12T13:23:58.827Z"
   },
   {
    "duration": 2731,
    "start_time": "2022-02-12T13:23:58.860Z"
   },
   {
    "duration": 1449,
    "start_time": "2022-02-12T13:24:01.592Z"
   },
   {
    "duration": 5,
    "start_time": "2022-02-12T13:24:03.043Z"
   },
   {
    "duration": 8,
    "start_time": "2022-02-12T13:24:03.050Z"
   },
   {
    "duration": 518,
    "start_time": "2022-02-12T13:24:03.060Z"
   },
   {
    "duration": 9,
    "start_time": "2022-02-12T13:24:03.580Z"
   },
   {
    "duration": 46,
    "start_time": "2022-02-12T13:24:03.591Z"
   },
   {
    "duration": 3,
    "start_time": "2022-02-12T13:24:03.639Z"
   },
   {
    "duration": 29,
    "start_time": "2022-02-12T13:24:03.644Z"
   },
   {
    "duration": 306,
    "start_time": "2022-02-12T13:24:03.675Z"
   },
   {
    "duration": 335,
    "start_time": "2022-02-12T13:24:03.983Z"
   },
   {
    "duration": 313,
    "start_time": "2022-02-12T13:24:04.320Z"
   },
   {
    "duration": 952,
    "start_time": "2022-02-12T13:24:04.635Z"
   },
   {
    "duration": 6,
    "start_time": "2022-02-12T13:24:05.589Z"
   },
   {
    "duration": 12,
    "start_time": "2022-02-12T13:24:05.597Z"
   },
   {
    "duration": 22,
    "start_time": "2022-02-12T13:24:05.611Z"
   },
   {
    "duration": 348,
    "start_time": "2022-02-12T13:24:05.635Z"
   },
   {
    "duration": 7,
    "start_time": "2022-02-12T13:24:05.984Z"
   },
   {
    "duration": 11,
    "start_time": "2022-02-12T13:24:05.992Z"
   },
   {
    "duration": 9,
    "start_time": "2022-02-12T13:24:06.004Z"
   },
   {
    "duration": 10,
    "start_time": "2022-02-12T13:24:06.019Z"
   },
   {
    "duration": 23,
    "start_time": "2022-02-12T13:24:06.030Z"
   },
   {
    "duration": 193,
    "start_time": "2022-02-12T13:24:06.055Z"
   },
   {
    "duration": 250,
    "start_time": "2022-02-12T13:25:24.258Z"
   },
   {
    "duration": 277,
    "start_time": "2022-02-12T13:25:51.644Z"
   },
   {
    "duration": 298,
    "start_time": "2022-02-12T13:27:44.396Z"
   },
   {
    "duration": 299,
    "start_time": "2022-02-12T13:29:41.407Z"
   },
   {
    "duration": 314,
    "start_time": "2022-02-12T13:30:07.267Z"
   },
   {
    "duration": 527,
    "start_time": "2022-02-12T13:30:20.056Z"
   },
   {
    "duration": 470,
    "start_time": "2022-02-12T13:30:31.413Z"
   },
   {
    "duration": 285,
    "start_time": "2022-02-12T13:30:50.772Z"
   },
   {
    "duration": 1138,
    "start_time": "2022-02-12T13:33:41.562Z"
   },
   {
    "duration": 382,
    "start_time": "2022-02-12T13:33:42.703Z"
   },
   {
    "duration": 4,
    "start_time": "2022-02-12T13:33:43.088Z"
   },
   {
    "duration": 130,
    "start_time": "2022-02-12T13:33:43.094Z"
   },
   {
    "duration": 9,
    "start_time": "2022-02-12T13:33:43.226Z"
   },
   {
    "duration": 15,
    "start_time": "2022-02-12T13:33:43.237Z"
   },
   {
    "duration": 6,
    "start_time": "2022-02-12T13:33:43.254Z"
   },
   {
    "duration": 87,
    "start_time": "2022-02-12T13:33:43.261Z"
   },
   {
    "duration": 26,
    "start_time": "2022-02-12T13:33:43.351Z"
   },
   {
    "duration": 2,
    "start_time": "2022-02-12T13:33:43.380Z"
   },
   {
    "duration": 9,
    "start_time": "2022-02-12T13:33:43.384Z"
   },
   {
    "duration": 81,
    "start_time": "2022-02-12T13:33:43.395Z"
   },
   {
    "duration": 2,
    "start_time": "2022-02-12T13:33:43.478Z"
   },
   {
    "duration": 109,
    "start_time": "2022-02-12T13:33:43.482Z"
   },
   {
    "duration": 201,
    "start_time": "2022-02-12T13:33:43.593Z"
   },
   {
    "duration": 3,
    "start_time": "2022-02-12T13:33:43.795Z"
   },
   {
    "duration": 70,
    "start_time": "2022-02-12T13:33:43.800Z"
   },
   {
    "duration": 57,
    "start_time": "2022-02-12T13:33:43.871Z"
   },
   {
    "duration": 58,
    "start_time": "2022-02-12T13:33:43.930Z"
   },
   {
    "duration": 70,
    "start_time": "2022-02-12T13:33:43.989Z"
   },
   {
    "duration": 64,
    "start_time": "2022-02-12T13:33:44.061Z"
   },
   {
    "duration": 28,
    "start_time": "2022-02-12T13:33:44.127Z"
   },
   {
    "duration": 34,
    "start_time": "2022-02-12T13:33:44.157Z"
   },
   {
    "duration": 31,
    "start_time": "2022-02-12T13:33:44.193Z"
   },
   {
    "duration": 17,
    "start_time": "2022-02-12T13:33:44.225Z"
   },
   {
    "duration": 24,
    "start_time": "2022-02-12T13:33:44.244Z"
   },
   {
    "duration": 1930,
    "start_time": "2022-02-12T13:33:44.272Z"
   },
   {
    "duration": 1606,
    "start_time": "2022-02-12T13:33:46.205Z"
   },
   {
    "duration": 8,
    "start_time": "2022-02-12T13:33:47.813Z"
   },
   {
    "duration": 8,
    "start_time": "2022-02-12T13:33:47.822Z"
   },
   {
    "duration": 509,
    "start_time": "2022-02-12T13:33:47.832Z"
   },
   {
    "duration": 9,
    "start_time": "2022-02-12T13:33:48.343Z"
   },
   {
    "duration": 41,
    "start_time": "2022-02-12T13:33:48.354Z"
   },
   {
    "duration": 3,
    "start_time": "2022-02-12T13:33:48.397Z"
   },
   {
    "duration": 30,
    "start_time": "2022-02-12T13:33:48.401Z"
   },
   {
    "duration": 287,
    "start_time": "2022-02-12T13:33:48.433Z"
   },
   {
    "duration": 257,
    "start_time": "2022-02-12T13:33:48.722Z"
   },
   {
    "duration": 312,
    "start_time": "2022-02-12T13:33:48.981Z"
   },
   {
    "duration": 969,
    "start_time": "2022-02-12T13:33:49.296Z"
   },
   {
    "duration": 6,
    "start_time": "2022-02-12T13:33:50.267Z"
   },
   {
    "duration": 7,
    "start_time": "2022-02-12T13:33:50.275Z"
   },
   {
    "duration": 18,
    "start_time": "2022-02-12T13:33:50.283Z"
   },
   {
    "duration": 362,
    "start_time": "2022-02-12T13:33:50.319Z"
   },
   {
    "duration": 9,
    "start_time": "2022-02-12T13:33:50.682Z"
   },
   {
    "duration": 19,
    "start_time": "2022-02-12T13:33:50.692Z"
   },
   {
    "duration": 7,
    "start_time": "2022-02-12T13:33:50.713Z"
   },
   {
    "duration": 8,
    "start_time": "2022-02-12T13:33:50.721Z"
   },
   {
    "duration": 16,
    "start_time": "2022-02-12T13:33:50.730Z"
   },
   {
    "duration": 189,
    "start_time": "2022-02-12T13:33:50.747Z"
   },
   {
    "duration": 1109,
    "start_time": "2022-02-12T13:35:57.173Z"
   },
   {
    "duration": 372,
    "start_time": "2022-02-12T13:35:58.284Z"
   },
   {
    "duration": 3,
    "start_time": "2022-02-12T13:35:58.658Z"
   },
   {
    "duration": 89,
    "start_time": "2022-02-12T13:35:58.663Z"
   },
   {
    "duration": 9,
    "start_time": "2022-02-12T13:35:58.754Z"
   },
   {
    "duration": 8,
    "start_time": "2022-02-12T13:35:58.765Z"
   },
   {
    "duration": 6,
    "start_time": "2022-02-12T13:35:58.774Z"
   },
   {
    "duration": 85,
    "start_time": "2022-02-12T13:35:58.782Z"
   },
   {
    "duration": 28,
    "start_time": "2022-02-12T13:35:58.869Z"
   },
   {
    "duration": 2,
    "start_time": "2022-02-12T13:35:58.899Z"
   },
   {
    "duration": 4,
    "start_time": "2022-02-12T13:35:58.919Z"
   },
   {
    "duration": 67,
    "start_time": "2022-02-12T13:35:58.925Z"
   },
   {
    "duration": 2,
    "start_time": "2022-02-12T13:35:58.994Z"
   },
   {
    "duration": 109,
    "start_time": "2022-02-12T13:35:58.998Z"
   },
   {
    "duration": 175,
    "start_time": "2022-02-12T13:35:59.109Z"
   },
   {
    "duration": 3,
    "start_time": "2022-02-12T13:35:59.285Z"
   },
   {
    "duration": 58,
    "start_time": "2022-02-12T13:35:59.289Z"
   },
   {
    "duration": 59,
    "start_time": "2022-02-12T13:35:59.348Z"
   },
   {
    "duration": 66,
    "start_time": "2022-02-12T13:35:59.409Z"
   },
   {
    "duration": 66,
    "start_time": "2022-02-12T13:35:59.476Z"
   },
   {
    "duration": 50,
    "start_time": "2022-02-12T13:35:59.544Z"
   },
   {
    "duration": 43,
    "start_time": "2022-02-12T13:35:59.596Z"
   },
   {
    "duration": 19,
    "start_time": "2022-02-12T13:35:59.642Z"
   },
   {
    "duration": 21,
    "start_time": "2022-02-12T13:35:59.663Z"
   },
   {
    "duration": 37,
    "start_time": "2022-02-12T13:35:59.686Z"
   },
   {
    "duration": 21,
    "start_time": "2022-02-12T13:35:59.725Z"
   },
   {
    "duration": 2038,
    "start_time": "2022-02-12T13:35:59.748Z"
   },
   {
    "duration": 1421,
    "start_time": "2022-02-12T13:36:01.788Z"
   },
   {
    "duration": 8,
    "start_time": "2022-02-12T13:36:03.211Z"
   },
   {
    "duration": 8,
    "start_time": "2022-02-12T13:36:03.221Z"
   },
   {
    "duration": 593,
    "start_time": "2022-02-12T13:36:03.231Z"
   },
   {
    "duration": 35,
    "start_time": "2022-02-12T13:36:03.826Z"
   },
   {
    "duration": 111,
    "start_time": "2022-02-12T13:36:03.878Z"
   },
   {
    "duration": 24,
    "start_time": "2022-02-12T13:36:04.013Z"
   },
   {
    "duration": 202,
    "start_time": "2022-02-12T13:36:04.039Z"
   },
   {
    "duration": 417,
    "start_time": "2022-02-12T13:36:04.258Z"
   },
   {
    "duration": 267,
    "start_time": "2022-02-12T13:36:04.677Z"
   },
   {
    "duration": 506,
    "start_time": "2022-02-12T13:36:04.947Z"
   },
   {
    "duration": 1028,
    "start_time": "2022-02-12T13:36:05.455Z"
   },
   {
    "duration": 7,
    "start_time": "2022-02-12T13:36:06.485Z"
   },
   {
    "duration": 7,
    "start_time": "2022-02-12T13:36:06.494Z"
   },
   {
    "duration": 25,
    "start_time": "2022-02-12T13:36:06.503Z"
   },
   {
    "duration": 362,
    "start_time": "2022-02-12T13:36:06.530Z"
   },
   {
    "duration": 7,
    "start_time": "2022-02-12T13:36:06.894Z"
   },
   {
    "duration": 20,
    "start_time": "2022-02-12T13:36:06.904Z"
   },
   {
    "duration": 8,
    "start_time": "2022-02-12T13:36:06.925Z"
   },
   {
    "duration": 6,
    "start_time": "2022-02-12T13:36:06.935Z"
   },
   {
    "duration": 28,
    "start_time": "2022-02-12T13:36:06.943Z"
   },
   {
    "duration": 185,
    "start_time": "2022-02-12T13:36:06.973Z"
   },
   {
    "duration": 528,
    "start_time": "2022-02-12T14:08:21.427Z"
   },
   {
    "duration": 26,
    "start_time": "2022-02-12T14:08:34.733Z"
   },
   {
    "duration": 566,
    "start_time": "2022-02-12T14:08:52.837Z"
   },
   {
    "duration": 27,
    "start_time": "2022-02-12T14:09:00.212Z"
   },
   {
    "duration": 17,
    "start_time": "2022-02-12T14:10:11.004Z"
   },
   {
    "duration": 30,
    "start_time": "2022-02-12T14:10:18.064Z"
   },
   {
    "duration": 439,
    "start_time": "2022-02-12T14:10:42.333Z"
   },
   {
    "duration": 448,
    "start_time": "2022-02-12T14:10:54.735Z"
   },
   {
    "duration": 426,
    "start_time": "2022-02-12T14:10:56.701Z"
   },
   {
    "duration": 502,
    "start_time": "2022-02-12T14:11:14.742Z"
   },
   {
    "duration": 17,
    "start_time": "2022-02-12T14:12:45.710Z"
   },
   {
    "duration": 489,
    "start_time": "2022-02-12T14:12:50.575Z"
   },
   {
    "duration": 26,
    "start_time": "2022-02-12T14:13:19.246Z"
   },
   {
    "duration": 7,
    "start_time": "2022-02-12T14:13:42.609Z"
   },
   {
    "duration": 10,
    "start_time": "2022-02-12T14:13:45.826Z"
   },
   {
    "duration": 7,
    "start_time": "2022-02-12T14:13:48.874Z"
   },
   {
    "duration": 27,
    "start_time": "2022-02-12T14:13:59.090Z"
   },
   {
    "duration": 81,
    "start_time": "2022-02-12T14:16:17.817Z"
   },
   {
    "duration": 57,
    "start_time": "2022-02-12T14:17:43.901Z"
   },
   {
    "duration": 1826,
    "start_time": "2022-02-12T14:36:01.859Z"
   },
   {
    "duration": 507,
    "start_time": "2022-02-12T14:36:03.688Z"
   },
   {
    "duration": 4,
    "start_time": "2022-02-12T14:36:04.198Z"
   },
   {
    "duration": 184,
    "start_time": "2022-02-12T14:36:04.206Z"
   },
   {
    "duration": 31,
    "start_time": "2022-02-12T14:36:04.392Z"
   },
   {
    "duration": 7,
    "start_time": "2022-02-12T14:36:04.427Z"
   },
   {
    "duration": 6,
    "start_time": "2022-02-12T14:36:04.436Z"
   },
   {
    "duration": 130,
    "start_time": "2022-02-12T14:36:04.444Z"
   },
   {
    "duration": 44,
    "start_time": "2022-02-12T14:36:04.579Z"
   },
   {
    "duration": 4,
    "start_time": "2022-02-12T14:36:04.628Z"
   },
   {
    "duration": 14,
    "start_time": "2022-02-12T14:36:04.635Z"
   },
   {
    "duration": 119,
    "start_time": "2022-02-12T14:36:04.652Z"
   },
   {
    "duration": 4,
    "start_time": "2022-02-12T14:36:04.773Z"
   },
   {
    "duration": 214,
    "start_time": "2022-02-12T14:36:04.780Z"
   },
   {
    "duration": 258,
    "start_time": "2022-02-12T14:36:04.996Z"
   },
   {
    "duration": 6,
    "start_time": "2022-02-12T14:36:05.257Z"
   },
   {
    "duration": 100,
    "start_time": "2022-02-12T14:36:05.266Z"
   },
   {
    "duration": 108,
    "start_time": "2022-02-12T14:36:05.368Z"
   },
   {
    "duration": 111,
    "start_time": "2022-02-12T14:36:05.479Z"
   },
   {
    "duration": 109,
    "start_time": "2022-02-12T14:36:05.593Z"
   },
   {
    "duration": 93,
    "start_time": "2022-02-12T14:36:05.704Z"
   },
   {
    "duration": 67,
    "start_time": "2022-02-12T14:36:05.799Z"
   },
   {
    "duration": 29,
    "start_time": "2022-02-12T14:36:05.869Z"
   },
   {
    "duration": 72,
    "start_time": "2022-02-12T14:36:05.900Z"
   },
   {
    "duration": 22,
    "start_time": "2022-02-12T14:36:05.975Z"
   },
   {
    "duration": 65,
    "start_time": "2022-02-12T14:36:06.000Z"
   },
   {
    "duration": 3951,
    "start_time": "2022-02-12T14:36:06.072Z"
   },
   {
    "duration": 2998,
    "start_time": "2022-02-12T14:36:10.028Z"
   },
   {
    "duration": 10,
    "start_time": "2022-02-12T14:36:13.029Z"
   },
   {
    "duration": 14,
    "start_time": "2022-02-12T14:36:13.042Z"
   },
   {
    "duration": 1092,
    "start_time": "2022-02-12T14:36:13.058Z"
   },
   {
    "duration": 15,
    "start_time": "2022-02-12T14:36:14.153Z"
   },
   {
    "duration": 62,
    "start_time": "2022-02-12T14:36:14.172Z"
   },
   {
    "duration": 45,
    "start_time": "2022-02-12T14:36:14.237Z"
   },
   {
    "duration": 76,
    "start_time": "2022-02-12T14:36:14.285Z"
   },
   {
    "duration": 67,
    "start_time": "2022-02-12T14:36:14.363Z"
   },
   {
    "duration": 454,
    "start_time": "2022-02-12T14:36:14.433Z"
   },
   {
    "duration": 629,
    "start_time": "2022-02-12T14:36:14.889Z"
   },
   {
    "duration": 593,
    "start_time": "2022-02-12T14:36:15.524Z"
   },
   {
    "duration": 1698,
    "start_time": "2022-02-12T14:36:16.125Z"
   },
   {
    "duration": 16,
    "start_time": "2022-02-12T14:36:17.827Z"
   },
   {
    "duration": 32,
    "start_time": "2022-02-12T14:36:17.848Z"
   },
   {
    "duration": 48,
    "start_time": "2022-02-12T14:36:17.883Z"
   },
   {
    "duration": 525,
    "start_time": "2022-02-12T14:36:17.934Z"
   },
   {
    "duration": 14,
    "start_time": "2022-02-12T14:36:18.463Z"
   },
   {
    "duration": 11,
    "start_time": "2022-02-12T14:36:18.479Z"
   },
   {
    "duration": 31,
    "start_time": "2022-02-12T14:36:18.493Z"
   },
   {
    "duration": 9,
    "start_time": "2022-02-12T14:36:18.527Z"
   },
   {
    "duration": 30,
    "start_time": "2022-02-12T14:36:18.540Z"
   },
   {
    "duration": 401,
    "start_time": "2022-02-12T14:36:18.573Z"
   }
  ],
  "kernelspec": {
   "display_name": "Python 3 (ipykernel)",
   "language": "python",
   "name": "python3"
  },
  "language_info": {
   "codemirror_mode": {
    "name": "ipython",
    "version": 3
   },
   "file_extension": ".py",
   "mimetype": "text/x-python",
   "name": "python",
   "nbconvert_exporter": "python",
   "pygments_lexer": "ipython3",
   "version": "3.9.13"
  },
  "toc": {
   "base_numbering": 1,
   "nav_menu": {
    "height": "12px",
    "width": "304px"
   },
   "number_sections": true,
   "sideBar": true,
   "skip_h1_title": true,
   "title_cell": "Table of Contents",
   "title_sidebar": "Contents",
   "toc_cell": true,
   "toc_position": {
    "height": "392px",
    "left": "126px",
    "top": "212.125px",
    "width": "212px"
   },
   "toc_section_display": true,
   "toc_window_display": false
  }
 },
 "nbformat": 4,
 "nbformat_minor": 2
}
