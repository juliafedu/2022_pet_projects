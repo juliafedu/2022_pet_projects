{
 "cells": [
  {
   "cell_type": "markdown",
   "metadata": {},
   "source": [
    "# Credit scoring"
   ]
  },
  {
   "cell_type": "markdown",
   "metadata": {},
   "source": [
    "**The task of the project is to define a portrait of a creditworthy client. Credit scoring is used by lenders to decide whether to extend or deny a loan.**"
   ]
  },
  {
   "cell_type": "markdown",
   "metadata": {},
   "source": [
    "## Results"
   ]
  },
  {
   "cell_type": "markdown",
   "metadata": {},
   "source": [
    " - Customers who who take out a loan for transactions with residential or commercial real estate are noticeably more likely to repay loans on time than those who take out a loan for education or a car. The group of customers who take out a loan for a wedding is noticeably smaller than the other three groups, it is not correct to take this group into account.\n",
    " - Customers with children have a worse credit history than customers without children. \n",
    " - Customers who are currently or in the past were officially married are more likely to repay loans. \n",
    " - Men are less likely to repay their loans on time than women. Among the borrowers the number of women is 2 times more than men. \n",
    " - People with the degree are more likely to repay the loan on time than people without."
   ]
  },
  {
   "cell_type": "markdown",
   "metadata": {},
   "source": [
    "**A business can use this research to develop personalized lending rates or repayment terms, according to the identified correlations.**"
   ]
  },
  {
   "cell_type": "markdown",
   "metadata": {},
   "source": [
    "## Data understanding"
   ]
  },
  {
   "cell_type": "code",
   "execution_count": 1,
   "metadata": {
    "scrolled": true
   },
   "outputs": [],
   "source": [
    "#import libraries\n",
    "import pandas as pd\n",
    "from nltk.stem import SnowballStemmer\n",
    "from pymystem3 import Mystem\n",
    "from collections import Counter"
   ]
  },
  {
   "cell_type": "code",
   "execution_count": 2,
   "metadata": {},
   "outputs": [
    {
     "name": "stdout",
     "output_type": "stream",
     "text": [
      "<class 'pandas.core.frame.DataFrame'>\n",
      "RangeIndex: 21525 entries, 0 to 21524\n",
      "Data columns (total 12 columns):\n",
      "children            21525 non-null int64\n",
      "days_employed       19351 non-null float64\n",
      "dob_years           21525 non-null int64\n",
      "education           21525 non-null object\n",
      "education_id        21525 non-null int64\n",
      "family_status       21525 non-null object\n",
      "family_status_id    21525 non-null int64\n",
      "gender              21525 non-null object\n",
      "income_type         21525 non-null object\n",
      "debt                21525 non-null int64\n",
      "total_income        19351 non-null float64\n",
      "purpose             21525 non-null object\n",
      "dtypes: float64(2), int64(5), object(5)\n",
      "memory usage: 2.0+ MB\n"
     ]
    }
   ],
   "source": [
    "#open a table and its concise summary\n",
    "data = pd.read_csv('/datasets/data.csv')\n",
    "data.info()"
   ]
  },
  {
   "cell_type": "code",
   "execution_count": 3,
   "metadata": {
    "scrolled": false
   },
   "outputs": [
    {
     "data": {
      "text/html": [
       "<div>\n",
       "<style scoped>\n",
       "    .dataframe tbody tr th:only-of-type {\n",
       "        vertical-align: middle;\n",
       "    }\n",
       "\n",
       "    .dataframe tbody tr th {\n",
       "        vertical-align: top;\n",
       "    }\n",
       "\n",
       "    .dataframe thead th {\n",
       "        text-align: right;\n",
       "    }\n",
       "</style>\n",
       "<table border=\"1\" class=\"dataframe\">\n",
       "  <thead>\n",
       "    <tr style=\"text-align: right;\">\n",
       "      <th></th>\n",
       "      <th>children</th>\n",
       "      <th>days_employed</th>\n",
       "      <th>dob_years</th>\n",
       "      <th>education_id</th>\n",
       "      <th>family_status_id</th>\n",
       "      <th>debt</th>\n",
       "      <th>total_income</th>\n",
       "    </tr>\n",
       "  </thead>\n",
       "  <tbody>\n",
       "    <tr>\n",
       "      <td>count</td>\n",
       "      <td>21525.000000</td>\n",
       "      <td>19351.000000</td>\n",
       "      <td>21525.000000</td>\n",
       "      <td>21525.000000</td>\n",
       "      <td>21525.000000</td>\n",
       "      <td>21525.000000</td>\n",
       "      <td>1.935100e+04</td>\n",
       "    </tr>\n",
       "    <tr>\n",
       "      <td>mean</td>\n",
       "      <td>0.538908</td>\n",
       "      <td>63046.497661</td>\n",
       "      <td>43.293380</td>\n",
       "      <td>0.817236</td>\n",
       "      <td>0.972544</td>\n",
       "      <td>0.080883</td>\n",
       "      <td>1.674223e+05</td>\n",
       "    </tr>\n",
       "    <tr>\n",
       "      <td>std</td>\n",
       "      <td>1.381587</td>\n",
       "      <td>140827.311974</td>\n",
       "      <td>12.574584</td>\n",
       "      <td>0.548138</td>\n",
       "      <td>1.420324</td>\n",
       "      <td>0.272661</td>\n",
       "      <td>1.029716e+05</td>\n",
       "    </tr>\n",
       "    <tr>\n",
       "      <td>min</td>\n",
       "      <td>-1.000000</td>\n",
       "      <td>-18388.949901</td>\n",
       "      <td>0.000000</td>\n",
       "      <td>0.000000</td>\n",
       "      <td>0.000000</td>\n",
       "      <td>0.000000</td>\n",
       "      <td>2.066726e+04</td>\n",
       "    </tr>\n",
       "    <tr>\n",
       "      <td>25%</td>\n",
       "      <td>0.000000</td>\n",
       "      <td>-2747.423625</td>\n",
       "      <td>33.000000</td>\n",
       "      <td>1.000000</td>\n",
       "      <td>0.000000</td>\n",
       "      <td>0.000000</td>\n",
       "      <td>1.030532e+05</td>\n",
       "    </tr>\n",
       "    <tr>\n",
       "      <td>50%</td>\n",
       "      <td>0.000000</td>\n",
       "      <td>-1203.369529</td>\n",
       "      <td>42.000000</td>\n",
       "      <td>1.000000</td>\n",
       "      <td>0.000000</td>\n",
       "      <td>0.000000</td>\n",
       "      <td>1.450179e+05</td>\n",
       "    </tr>\n",
       "    <tr>\n",
       "      <td>75%</td>\n",
       "      <td>1.000000</td>\n",
       "      <td>-291.095954</td>\n",
       "      <td>53.000000</td>\n",
       "      <td>1.000000</td>\n",
       "      <td>1.000000</td>\n",
       "      <td>0.000000</td>\n",
       "      <td>2.034351e+05</td>\n",
       "    </tr>\n",
       "    <tr>\n",
       "      <td>max</td>\n",
       "      <td>20.000000</td>\n",
       "      <td>401755.400475</td>\n",
       "      <td>75.000000</td>\n",
       "      <td>4.000000</td>\n",
       "      <td>4.000000</td>\n",
       "      <td>1.000000</td>\n",
       "      <td>2.265604e+06</td>\n",
       "    </tr>\n",
       "  </tbody>\n",
       "</table>\n",
       "</div>"
      ],
      "text/plain": [
       "           children  days_employed     dob_years  education_id  \\\n",
       "count  21525.000000   19351.000000  21525.000000  21525.000000   \n",
       "mean       0.538908   63046.497661     43.293380      0.817236   \n",
       "std        1.381587  140827.311974     12.574584      0.548138   \n",
       "min       -1.000000  -18388.949901      0.000000      0.000000   \n",
       "25%        0.000000   -2747.423625     33.000000      1.000000   \n",
       "50%        0.000000   -1203.369529     42.000000      1.000000   \n",
       "75%        1.000000    -291.095954     53.000000      1.000000   \n",
       "max       20.000000  401755.400475     75.000000      4.000000   \n",
       "\n",
       "       family_status_id          debt  total_income  \n",
       "count      21525.000000  21525.000000  1.935100e+04  \n",
       "mean           0.972544      0.080883  1.674223e+05  \n",
       "std            1.420324      0.272661  1.029716e+05  \n",
       "min            0.000000      0.000000  2.066726e+04  \n",
       "25%            0.000000      0.000000  1.030532e+05  \n",
       "50%            0.000000      0.000000  1.450179e+05  \n",
       "75%            1.000000      0.000000  2.034351e+05  \n",
       "max            4.000000      1.000000  2.265604e+06  "
      ]
     },
     "execution_count": 3,
     "metadata": {},
     "output_type": "execute_result"
    }
   ],
   "source": [
    "#generate descriptive statistics\n",
    "data.describe()"
   ]
  },
  {
   "cell_type": "code",
   "execution_count": 4,
   "metadata": {},
   "outputs": [
    {
     "data": {
      "text/html": [
       "<div>\n",
       "<style scoped>\n",
       "    .dataframe tbody tr th:only-of-type {\n",
       "        vertical-align: middle;\n",
       "    }\n",
       "\n",
       "    .dataframe tbody tr th {\n",
       "        vertical-align: top;\n",
       "    }\n",
       "\n",
       "    .dataframe thead th {\n",
       "        text-align: right;\n",
       "    }\n",
       "</style>\n",
       "<table border=\"1\" class=\"dataframe\">\n",
       "  <thead>\n",
       "    <tr style=\"text-align: right;\">\n",
       "      <th></th>\n",
       "      <th>children</th>\n",
       "      <th>days_employed</th>\n",
       "      <th>dob_years</th>\n",
       "      <th>education</th>\n",
       "      <th>education_id</th>\n",
       "      <th>family_status</th>\n",
       "      <th>family_status_id</th>\n",
       "      <th>gender</th>\n",
       "      <th>income_type</th>\n",
       "      <th>debt</th>\n",
       "      <th>total_income</th>\n",
       "      <th>purpose</th>\n",
       "    </tr>\n",
       "  </thead>\n",
       "  <tbody>\n",
       "    <tr>\n",
       "      <td>0</td>\n",
       "      <td>1</td>\n",
       "      <td>-8437.673028</td>\n",
       "      <td>42</td>\n",
       "      <td>высшее</td>\n",
       "      <td>0</td>\n",
       "      <td>женат / замужем</td>\n",
       "      <td>0</td>\n",
       "      <td>F</td>\n",
       "      <td>сотрудник</td>\n",
       "      <td>0</td>\n",
       "      <td>253875.639453</td>\n",
       "      <td>покупка жилья</td>\n",
       "    </tr>\n",
       "    <tr>\n",
       "      <td>1</td>\n",
       "      <td>1</td>\n",
       "      <td>-4024.803754</td>\n",
       "      <td>36</td>\n",
       "      <td>среднее</td>\n",
       "      <td>1</td>\n",
       "      <td>женат / замужем</td>\n",
       "      <td>0</td>\n",
       "      <td>F</td>\n",
       "      <td>сотрудник</td>\n",
       "      <td>0</td>\n",
       "      <td>112080.014102</td>\n",
       "      <td>приобретение автомобиля</td>\n",
       "    </tr>\n",
       "    <tr>\n",
       "      <td>2</td>\n",
       "      <td>0</td>\n",
       "      <td>-5623.422610</td>\n",
       "      <td>33</td>\n",
       "      <td>Среднее</td>\n",
       "      <td>1</td>\n",
       "      <td>женат / замужем</td>\n",
       "      <td>0</td>\n",
       "      <td>M</td>\n",
       "      <td>сотрудник</td>\n",
       "      <td>0</td>\n",
       "      <td>145885.952297</td>\n",
       "      <td>покупка жилья</td>\n",
       "    </tr>\n",
       "    <tr>\n",
       "      <td>3</td>\n",
       "      <td>3</td>\n",
       "      <td>-4124.747207</td>\n",
       "      <td>32</td>\n",
       "      <td>среднее</td>\n",
       "      <td>1</td>\n",
       "      <td>женат / замужем</td>\n",
       "      <td>0</td>\n",
       "      <td>M</td>\n",
       "      <td>сотрудник</td>\n",
       "      <td>0</td>\n",
       "      <td>267628.550329</td>\n",
       "      <td>дополнительное образование</td>\n",
       "    </tr>\n",
       "    <tr>\n",
       "      <td>4</td>\n",
       "      <td>0</td>\n",
       "      <td>340266.072047</td>\n",
       "      <td>53</td>\n",
       "      <td>среднее</td>\n",
       "      <td>1</td>\n",
       "      <td>гражданский брак</td>\n",
       "      <td>1</td>\n",
       "      <td>F</td>\n",
       "      <td>пенсионер</td>\n",
       "      <td>0</td>\n",
       "      <td>158616.077870</td>\n",
       "      <td>сыграть свадьбу</td>\n",
       "    </tr>\n",
       "    <tr>\n",
       "      <td>5</td>\n",
       "      <td>0</td>\n",
       "      <td>-926.185831</td>\n",
       "      <td>27</td>\n",
       "      <td>высшее</td>\n",
       "      <td>0</td>\n",
       "      <td>гражданский брак</td>\n",
       "      <td>1</td>\n",
       "      <td>M</td>\n",
       "      <td>компаньон</td>\n",
       "      <td>0</td>\n",
       "      <td>255763.565419</td>\n",
       "      <td>покупка жилья</td>\n",
       "    </tr>\n",
       "    <tr>\n",
       "      <td>6</td>\n",
       "      <td>0</td>\n",
       "      <td>-2879.202052</td>\n",
       "      <td>43</td>\n",
       "      <td>высшее</td>\n",
       "      <td>0</td>\n",
       "      <td>женат / замужем</td>\n",
       "      <td>0</td>\n",
       "      <td>F</td>\n",
       "      <td>компаньон</td>\n",
       "      <td>0</td>\n",
       "      <td>240525.971920</td>\n",
       "      <td>операции с жильем</td>\n",
       "    </tr>\n",
       "    <tr>\n",
       "      <td>7</td>\n",
       "      <td>0</td>\n",
       "      <td>-152.779569</td>\n",
       "      <td>50</td>\n",
       "      <td>СРЕДНЕЕ</td>\n",
       "      <td>1</td>\n",
       "      <td>женат / замужем</td>\n",
       "      <td>0</td>\n",
       "      <td>M</td>\n",
       "      <td>сотрудник</td>\n",
       "      <td>0</td>\n",
       "      <td>135823.934197</td>\n",
       "      <td>образование</td>\n",
       "    </tr>\n",
       "    <tr>\n",
       "      <td>8</td>\n",
       "      <td>2</td>\n",
       "      <td>-6929.865299</td>\n",
       "      <td>35</td>\n",
       "      <td>ВЫСШЕЕ</td>\n",
       "      <td>0</td>\n",
       "      <td>гражданский брак</td>\n",
       "      <td>1</td>\n",
       "      <td>F</td>\n",
       "      <td>сотрудник</td>\n",
       "      <td>0</td>\n",
       "      <td>95856.832424</td>\n",
       "      <td>на проведение свадьбы</td>\n",
       "    </tr>\n",
       "    <tr>\n",
       "      <td>9</td>\n",
       "      <td>0</td>\n",
       "      <td>-2188.756445</td>\n",
       "      <td>41</td>\n",
       "      <td>среднее</td>\n",
       "      <td>1</td>\n",
       "      <td>женат / замужем</td>\n",
       "      <td>0</td>\n",
       "      <td>M</td>\n",
       "      <td>сотрудник</td>\n",
       "      <td>0</td>\n",
       "      <td>144425.938277</td>\n",
       "      <td>покупка жилья для семьи</td>\n",
       "    </tr>\n",
       "    <tr>\n",
       "      <td>10</td>\n",
       "      <td>2</td>\n",
       "      <td>-4171.483647</td>\n",
       "      <td>36</td>\n",
       "      <td>высшее</td>\n",
       "      <td>0</td>\n",
       "      <td>женат / замужем</td>\n",
       "      <td>0</td>\n",
       "      <td>M</td>\n",
       "      <td>компаньон</td>\n",
       "      <td>0</td>\n",
       "      <td>113943.491460</td>\n",
       "      <td>покупка недвижимости</td>\n",
       "    </tr>\n",
       "    <tr>\n",
       "      <td>11</td>\n",
       "      <td>0</td>\n",
       "      <td>-792.701887</td>\n",
       "      <td>40</td>\n",
       "      <td>среднее</td>\n",
       "      <td>1</td>\n",
       "      <td>женат / замужем</td>\n",
       "      <td>0</td>\n",
       "      <td>F</td>\n",
       "      <td>сотрудник</td>\n",
       "      <td>0</td>\n",
       "      <td>77069.234271</td>\n",
       "      <td>покупка коммерческой недвижимости</td>\n",
       "    </tr>\n",
       "    <tr>\n",
       "      <td>12</td>\n",
       "      <td>0</td>\n",
       "      <td>NaN</td>\n",
       "      <td>65</td>\n",
       "      <td>среднее</td>\n",
       "      <td>1</td>\n",
       "      <td>гражданский брак</td>\n",
       "      <td>1</td>\n",
       "      <td>M</td>\n",
       "      <td>пенсионер</td>\n",
       "      <td>0</td>\n",
       "      <td>NaN</td>\n",
       "      <td>сыграть свадьбу</td>\n",
       "    </tr>\n",
       "    <tr>\n",
       "      <td>13</td>\n",
       "      <td>0</td>\n",
       "      <td>-1846.641941</td>\n",
       "      <td>54</td>\n",
       "      <td>неоконченное высшее</td>\n",
       "      <td>2</td>\n",
       "      <td>женат / замужем</td>\n",
       "      <td>0</td>\n",
       "      <td>F</td>\n",
       "      <td>сотрудник</td>\n",
       "      <td>0</td>\n",
       "      <td>130458.228857</td>\n",
       "      <td>приобретение автомобиля</td>\n",
       "    </tr>\n",
       "    <tr>\n",
       "      <td>14</td>\n",
       "      <td>0</td>\n",
       "      <td>-1844.956182</td>\n",
       "      <td>56</td>\n",
       "      <td>высшее</td>\n",
       "      <td>0</td>\n",
       "      <td>гражданский брак</td>\n",
       "      <td>1</td>\n",
       "      <td>F</td>\n",
       "      <td>компаньон</td>\n",
       "      <td>1</td>\n",
       "      <td>165127.911772</td>\n",
       "      <td>покупка жилой недвижимости</td>\n",
       "    </tr>\n",
       "  </tbody>\n",
       "</table>\n",
       "</div>"
      ],
      "text/plain": [
       "    children  days_employed  dob_years            education  education_id  \\\n",
       "0          1   -8437.673028         42               высшее             0   \n",
       "1          1   -4024.803754         36              среднее             1   \n",
       "2          0   -5623.422610         33              Среднее             1   \n",
       "3          3   -4124.747207         32              среднее             1   \n",
       "4          0  340266.072047         53              среднее             1   \n",
       "5          0    -926.185831         27               высшее             0   \n",
       "6          0   -2879.202052         43               высшее             0   \n",
       "7          0    -152.779569         50              СРЕДНЕЕ             1   \n",
       "8          2   -6929.865299         35               ВЫСШЕЕ             0   \n",
       "9          0   -2188.756445         41              среднее             1   \n",
       "10         2   -4171.483647         36               высшее             0   \n",
       "11         0    -792.701887         40              среднее             1   \n",
       "12         0            NaN         65              среднее             1   \n",
       "13         0   -1846.641941         54  неоконченное высшее             2   \n",
       "14         0   -1844.956182         56               высшее             0   \n",
       "\n",
       "       family_status  family_status_id gender income_type  debt  \\\n",
       "0    женат / замужем                 0      F   сотрудник     0   \n",
       "1    женат / замужем                 0      F   сотрудник     0   \n",
       "2    женат / замужем                 0      M   сотрудник     0   \n",
       "3    женат / замужем                 0      M   сотрудник     0   \n",
       "4   гражданский брак                 1      F   пенсионер     0   \n",
       "5   гражданский брак                 1      M   компаньон     0   \n",
       "6    женат / замужем                 0      F   компаньон     0   \n",
       "7    женат / замужем                 0      M   сотрудник     0   \n",
       "8   гражданский брак                 1      F   сотрудник     0   \n",
       "9    женат / замужем                 0      M   сотрудник     0   \n",
       "10   женат / замужем                 0      M   компаньон     0   \n",
       "11   женат / замужем                 0      F   сотрудник     0   \n",
       "12  гражданский брак                 1      M   пенсионер     0   \n",
       "13   женат / замужем                 0      F   сотрудник     0   \n",
       "14  гражданский брак                 1      F   компаньон     1   \n",
       "\n",
       "     total_income                            purpose  \n",
       "0   253875.639453                      покупка жилья  \n",
       "1   112080.014102            приобретение автомобиля  \n",
       "2   145885.952297                      покупка жилья  \n",
       "3   267628.550329         дополнительное образование  \n",
       "4   158616.077870                    сыграть свадьбу  \n",
       "5   255763.565419                      покупка жилья  \n",
       "6   240525.971920                  операции с жильем  \n",
       "7   135823.934197                        образование  \n",
       "8    95856.832424              на проведение свадьбы  \n",
       "9   144425.938277            покупка жилья для семьи  \n",
       "10  113943.491460               покупка недвижимости  \n",
       "11   77069.234271  покупка коммерческой недвижимости  \n",
       "12            NaN                    сыграть свадьбу  \n",
       "13  130458.228857            приобретение автомобиля  \n",
       "14  165127.911772         покупка жилой недвижимости  "
      ]
     },
     "execution_count": 4,
     "metadata": {},
     "output_type": "execute_result"
    }
   ],
   "source": [
    "#open the first 15 rows\n",
    "data.head(15)"
   ]
  },
  {
   "cell_type": "markdown",
   "metadata": {},
   "source": [
    "## Preprocessing"
   ]
  },
  {
   "cell_type": "code",
   "execution_count": 5,
   "metadata": {},
   "outputs": [
    {
     "name": "stdout",
     "output_type": "stream",
     "text": [
      "True\n"
     ]
    }
   ],
   "source": [
    "#find the rows with NaNs\n",
    "print(data[data['days_employed'].isna() & ~ data['total_income'].isna()].empty)"
   ]
  },
  {
   "cell_type": "code",
   "execution_count": 6,
   "metadata": {},
   "outputs": [
    {
     "name": "stdout",
     "output_type": "stream",
     "text": [
      "0\n"
     ]
    }
   ],
   "source": [
    "#use fillna() to fill in the gaps and do a check\n",
    "data['total_income'] = data['total_income'].fillna(data.groupby('income_type')['total_income'].transform('median'))\n",
    "print(data['total_income'].isna().sum())"
   ]
  },
  {
   "cell_type": "code",
   "execution_count": 7,
   "metadata": {},
   "outputs": [
    {
     "name": "stdout",
     "output_type": "stream",
     "text": [
      "True\n"
     ]
    }
   ],
   "source": [
    "#take a module from negative values and do a check\n",
    "data['days_employed'] = data['days_employed'].abs()\n",
    "print(data[data['days_employed'] < 0].empty)"
   ]
  },
  {
   "cell_type": "code",
   "execution_count": 8,
   "metadata": {},
   "outputs": [
    {
     "name": "stdout",
     "output_type": "stream",
     "text": [
      "children            0\n",
      "days_employed       0\n",
      "dob_years           0\n",
      "education           0\n",
      "education_id        0\n",
      "family_status       0\n",
      "family_status_id    0\n",
      "gender              0\n",
      "income_type         0\n",
      "debt                0\n",
      "total_income        0\n",
      "purpose             0\n",
      "dtype: int64\n"
     ]
    }
   ],
   "source": [
    "#use fillna() to fill in the gaps and do a check\n",
    "data['days_employed'] = data['days_employed'].fillna(data.groupby('income_type')['days_employed'].transform('mean'))\n",
    "print(data.isna().sum())"
   ]
  },
  {
   "cell_type": "markdown",
   "metadata": {},
   "source": [
    "We assume that the age of the customer is equal to or greater than 18. We replace missing values with the average value of the cluster, since the age feature consists of homogeneous data."
   ]
  },
  {
   "cell_type": "code",
   "execution_count": 9,
   "metadata": {},
   "outputs": [
    {
     "name": "stdout",
     "output_type": "stream",
     "text": [
      "True\n"
     ]
    }
   ],
   "source": [
    "#write te function to replace nulls, apply it to the rows and do a check\n",
    "data_filtered = data[data['dob_years'] != 0].groupby('income_type')['dob_years'].mean()\n",
    " \n",
    "def mean_age(row):\n",
    "    if row['dob_years'] == 0:\n",
    "        return data_filtered.loc[row['income_type']]\n",
    "    return row['dob_years']\n",
    " \n",
    "data['dob_years'] = data.apply(mean_age, axis=1)\n",
    "\n",
    "print(data[data['dob_years'] < 18].empty)"
   ]
  },
  {
   "cell_type": "markdown",
   "metadata": {},
   "source": [
    "We assume that the value of the days_employed feature cannot exceed 20000 - (75-20)*365, where 75 is the maximum value of the age feature."
   ]
  },
  {
   "cell_type": "code",
   "execution_count": 10,
   "metadata": {},
   "outputs": [
    {
     "data": {
      "text/plain": [
       "income_type\n",
       "безработный       2\n",
       "пенсионер      3856\n",
       "Name: income_type, dtype: int64"
      ]
     },
     "metadata": {},
     "output_type": "display_data"
    }
   ],
   "source": [
    "#analyze where garbage is\n",
    "display(data[data['days_employed'] > 20000].groupby('income_type')['income_type'].count())"
   ]
  },
  {
   "cell_type": "code",
   "execution_count": 11,
   "metadata": {
    "scrolled": true
   },
   "outputs": [
    {
     "data": {
      "text/html": [
       "<div>\n",
       "<style scoped>\n",
       "    .dataframe tbody tr th:only-of-type {\n",
       "        vertical-align: middle;\n",
       "    }\n",
       "\n",
       "    .dataframe tbody tr th {\n",
       "        vertical-align: top;\n",
       "    }\n",
       "\n",
       "    .dataframe thead th {\n",
       "        text-align: right;\n",
       "    }\n",
       "</style>\n",
       "<table border=\"1\" class=\"dataframe\">\n",
       "  <thead>\n",
       "    <tr style=\"text-align: right;\">\n",
       "      <th></th>\n",
       "      <th>children</th>\n",
       "      <th>days_employed</th>\n",
       "      <th>dob_years</th>\n",
       "      <th>education</th>\n",
       "      <th>education_id</th>\n",
       "      <th>family_status</th>\n",
       "      <th>family_status_id</th>\n",
       "      <th>gender</th>\n",
       "      <th>income_type</th>\n",
       "      <th>debt</th>\n",
       "      <th>total_income</th>\n",
       "      <th>purpose</th>\n",
       "    </tr>\n",
       "  </thead>\n",
       "  <tbody>\n",
       "    <tr>\n",
       "      <td>3133</td>\n",
       "      <td>1</td>\n",
       "      <td>337524.466835</td>\n",
       "      <td>31.0</td>\n",
       "      <td>среднее</td>\n",
       "      <td>1</td>\n",
       "      <td>женат / замужем</td>\n",
       "      <td>0</td>\n",
       "      <td>M</td>\n",
       "      <td>безработный</td>\n",
       "      <td>1</td>\n",
       "      <td>59956.991984</td>\n",
       "      <td>покупка жилья для сдачи</td>\n",
       "    </tr>\n",
       "    <tr>\n",
       "      <td>14798</td>\n",
       "      <td>0</td>\n",
       "      <td>395302.838654</td>\n",
       "      <td>45.0</td>\n",
       "      <td>Высшее</td>\n",
       "      <td>0</td>\n",
       "      <td>гражданский брак</td>\n",
       "      <td>1</td>\n",
       "      <td>F</td>\n",
       "      <td>безработный</td>\n",
       "      <td>0</td>\n",
       "      <td>202722.511368</td>\n",
       "      <td>ремонт жилью</td>\n",
       "    </tr>\n",
       "  </tbody>\n",
       "</table>\n",
       "</div>"
      ],
      "text/plain": [
       "       children  days_employed  dob_years education  education_id  \\\n",
       "3133          1  337524.466835       31.0   среднее             1   \n",
       "14798         0  395302.838654       45.0    Высшее             0   \n",
       "\n",
       "          family_status  family_status_id gender  income_type  debt  \\\n",
       "3133    женат / замужем                 0      M  безработный     1   \n",
       "14798  гражданский брак                 1      F  безработный     0   \n",
       "\n",
       "        total_income                  purpose  \n",
       "3133    59956.991984  покупка жилья для сдачи  \n",
       "14798  202722.511368             ремонт жилью  "
      ]
     },
     "metadata": {},
     "output_type": "display_data"
    }
   ],
   "source": [
    "#analyze the unemployed\n",
    "display(data[data['income_type'] == 'безработный'])"
   ]
  },
  {
   "cell_type": "code",
   "execution_count": 12,
   "metadata": {},
   "outputs": [
    {
     "data": {
      "text/html": [
       "<div>\n",
       "<style scoped>\n",
       "    .dataframe tbody tr th:only-of-type {\n",
       "        vertical-align: middle;\n",
       "    }\n",
       "\n",
       "    .dataframe tbody tr th {\n",
       "        vertical-align: top;\n",
       "    }\n",
       "\n",
       "    .dataframe thead th {\n",
       "        text-align: right;\n",
       "    }\n",
       "</style>\n",
       "<table border=\"1\" class=\"dataframe\">\n",
       "  <thead>\n",
       "    <tr style=\"text-align: right;\">\n",
       "      <th></th>\n",
       "      <th>children</th>\n",
       "      <th>days_employed</th>\n",
       "      <th>dob_years</th>\n",
       "      <th>education</th>\n",
       "      <th>education_id</th>\n",
       "      <th>family_status</th>\n",
       "      <th>family_status_id</th>\n",
       "      <th>gender</th>\n",
       "      <th>income_type</th>\n",
       "      <th>debt</th>\n",
       "      <th>total_income</th>\n",
       "      <th>purpose</th>\n",
       "    </tr>\n",
       "  </thead>\n",
       "  <tbody>\n",
       "    <tr>\n",
       "      <td>0</td>\n",
       "      <td>1</td>\n",
       "      <td>8437.673028</td>\n",
       "      <td>42.0</td>\n",
       "      <td>высшее</td>\n",
       "      <td>0</td>\n",
       "      <td>женат / замужем</td>\n",
       "      <td>0</td>\n",
       "      <td>F</td>\n",
       "      <td>сотрудник</td>\n",
       "      <td>0</td>\n",
       "      <td>253875.639453</td>\n",
       "      <td>покупка жилья</td>\n",
       "    </tr>\n",
       "    <tr>\n",
       "      <td>1</td>\n",
       "      <td>1</td>\n",
       "      <td>4024.803754</td>\n",
       "      <td>36.0</td>\n",
       "      <td>среднее</td>\n",
       "      <td>1</td>\n",
       "      <td>женат / замужем</td>\n",
       "      <td>0</td>\n",
       "      <td>F</td>\n",
       "      <td>сотрудник</td>\n",
       "      <td>0</td>\n",
       "      <td>112080.014102</td>\n",
       "      <td>приобретение автомобиля</td>\n",
       "    </tr>\n",
       "    <tr>\n",
       "      <td>2</td>\n",
       "      <td>0</td>\n",
       "      <td>5623.422610</td>\n",
       "      <td>33.0</td>\n",
       "      <td>Среднее</td>\n",
       "      <td>1</td>\n",
       "      <td>женат / замужем</td>\n",
       "      <td>0</td>\n",
       "      <td>M</td>\n",
       "      <td>сотрудник</td>\n",
       "      <td>0</td>\n",
       "      <td>145885.952297</td>\n",
       "      <td>покупка жилья</td>\n",
       "    </tr>\n",
       "    <tr>\n",
       "      <td>3</td>\n",
       "      <td>3</td>\n",
       "      <td>4124.747207</td>\n",
       "      <td>32.0</td>\n",
       "      <td>среднее</td>\n",
       "      <td>1</td>\n",
       "      <td>женат / замужем</td>\n",
       "      <td>0</td>\n",
       "      <td>M</td>\n",
       "      <td>сотрудник</td>\n",
       "      <td>0</td>\n",
       "      <td>267628.550329</td>\n",
       "      <td>дополнительное образование</td>\n",
       "    </tr>\n",
       "    <tr>\n",
       "      <td>4</td>\n",
       "      <td>0</td>\n",
       "      <td>3165.910371</td>\n",
       "      <td>53.0</td>\n",
       "      <td>среднее</td>\n",
       "      <td>1</td>\n",
       "      <td>гражданский брак</td>\n",
       "      <td>1</td>\n",
       "      <td>F</td>\n",
       "      <td>пенсионер</td>\n",
       "      <td>0</td>\n",
       "      <td>158616.077870</td>\n",
       "      <td>сыграть свадьбу</td>\n",
       "    </tr>\n",
       "  </tbody>\n",
       "</table>\n",
       "</div>"
      ],
      "text/plain": [
       "   children  days_employed  dob_years education  education_id  \\\n",
       "0         1    8437.673028       42.0    высшее             0   \n",
       "1         1    4024.803754       36.0   среднее             1   \n",
       "2         0    5623.422610       33.0   Среднее             1   \n",
       "3         3    4124.747207       32.0   среднее             1   \n",
       "4         0    3165.910371       53.0   среднее             1   \n",
       "\n",
       "      family_status  family_status_id gender income_type  debt   total_income  \\\n",
       "0   женат / замужем                 0      F   сотрудник     0  253875.639453   \n",
       "1   женат / замужем                 0      F   сотрудник     0  112080.014102   \n",
       "2   женат / замужем                 0      M   сотрудник     0  145885.952297   \n",
       "3   женат / замужем                 0      M   сотрудник     0  267628.550329   \n",
       "4  гражданский брак                 1      F   пенсионер     0  158616.077870   \n",
       "\n",
       "                      purpose  \n",
       "0               покупка жилья  \n",
       "1     приобретение автомобиля  \n",
       "2               покупка жилья  \n",
       "3  дополнительное образование  \n",
       "4             сыграть свадьбу  "
      ]
     },
     "metadata": {},
     "output_type": "display_data"
    },
    {
     "data": {
      "text/html": [
       "<div>\n",
       "<style scoped>\n",
       "    .dataframe tbody tr th:only-of-type {\n",
       "        vertical-align: middle;\n",
       "    }\n",
       "\n",
       "    .dataframe tbody tr th {\n",
       "        vertical-align: top;\n",
       "    }\n",
       "\n",
       "    .dataframe thead th {\n",
       "        text-align: right;\n",
       "    }\n",
       "</style>\n",
       "<table border=\"1\" class=\"dataframe\">\n",
       "  <thead>\n",
       "    <tr style=\"text-align: right;\">\n",
       "      <th></th>\n",
       "      <th>children</th>\n",
       "      <th>days_employed</th>\n",
       "      <th>dob_years</th>\n",
       "      <th>education</th>\n",
       "      <th>education_id</th>\n",
       "      <th>family_status</th>\n",
       "      <th>family_status_id</th>\n",
       "      <th>gender</th>\n",
       "      <th>income_type</th>\n",
       "      <th>debt</th>\n",
       "      <th>total_income</th>\n",
       "      <th>purpose</th>\n",
       "    </tr>\n",
       "  </thead>\n",
       "  <tbody>\n",
       "    <tr>\n",
       "      <td>3133</td>\n",
       "      <td>1</td>\n",
       "      <td>2058.104489</td>\n",
       "      <td>31.0</td>\n",
       "      <td>среднее</td>\n",
       "      <td>1</td>\n",
       "      <td>женат / замужем</td>\n",
       "      <td>0</td>\n",
       "      <td>M</td>\n",
       "      <td>безработный</td>\n",
       "      <td>1</td>\n",
       "      <td>59956.991984</td>\n",
       "      <td>покупка жилья для сдачи</td>\n",
       "    </tr>\n",
       "    <tr>\n",
       "      <td>14798</td>\n",
       "      <td>0</td>\n",
       "      <td>2691.130356</td>\n",
       "      <td>45.0</td>\n",
       "      <td>Высшее</td>\n",
       "      <td>0</td>\n",
       "      <td>гражданский брак</td>\n",
       "      <td>1</td>\n",
       "      <td>F</td>\n",
       "      <td>безработный</td>\n",
       "      <td>0</td>\n",
       "      <td>202722.511368</td>\n",
       "      <td>ремонт жилью</td>\n",
       "    </tr>\n",
       "  </tbody>\n",
       "</table>\n",
       "</div>"
      ],
      "text/plain": [
       "       children  days_employed  dob_years education  education_id  \\\n",
       "3133          1    2058.104489       31.0   среднее             1   \n",
       "14798         0    2691.130356       45.0    Высшее             0   \n",
       "\n",
       "          family_status  family_status_id gender  income_type  debt  \\\n",
       "3133    женат / замужем                 0      M  безработный     1   \n",
       "14798  гражданский брак                 1      F  безработный     0   \n",
       "\n",
       "        total_income                  purpose  \n",
       "3133    59956.991984  покупка жилья для сдачи  \n",
       "14798  202722.511368             ремонт жилью  "
      ]
     },
     "metadata": {},
     "output_type": "display_data"
    }
   ],
   "source": [
    "#replace the incorrect values by the means and do a check\n",
    "days_employed_20s_mean = data[(data['income_type'] != 'пенсионер') & (data['dob_years'] >= 18) & (data['dob_years'] < 30)]['days_employed'].mean()\n",
    "days_employed_30s_mean = data[(data['income_type'] != 'пенсионер') & (data['income_type'] != 'безработный') & (data['dob_years'] >= 30) & (data['dob_years'] < 40)]['days_employed'].mean()\n",
    "days_employed_40s_mean = data[(data['income_type'] != 'пенсионер') & (data['income_type'] != 'безработный') & (data['dob_years'] >= 40) & (data['dob_years'] < 50)]['days_employed'].mean()\n",
    "days_employed_50s_mean = data[(data['income_type'] != 'пенсионер') & (data['dob_years'] >= 50) & (data['dob_years'] < 60)]['days_employed'].mean()\n",
    "days_employed_60_75_mean = data[(data['income_type'] != 'пенсионер') & (data['dob_years'] >= 60) & (data['dob_years'] < 76)]['days_employed'].mean()\n",
    "\n",
    "def work_experience(row):\n",
    "    work_type = row['income_type']\n",
    "    age = row['dob_years']\n",
    "    if work_type == 'безработный':\n",
    "        if age < 40:\n",
    "            return days_employed_30s_mean\n",
    "        return days_employed_40s_mean\n",
    "    if work_type == 'пенсионер':\n",
    "        if age >= 18 and age < 30:\n",
    "            return days_employed_20s_mean\n",
    "        if age >= 30 and age < 40:\n",
    "            return days_employed_30s_mean\n",
    "        if age >= 40 and age < 50:\n",
    "            return days_employed_40s_mean\n",
    "        if age >= 50 and age < 60:\n",
    "            return days_employed_50s_mean\n",
    "        return days_employed_60_75_mean\n",
    "    return row['days_employed']\n",
    "\n",
    "data['days_employed'] = data.apply(work_experience, axis=1)\n",
    "\n",
    "display(data.head())\n",
    "display(data[data['income_type'] == 'безработный'])"
   ]
  },
  {
   "cell_type": "code",
   "execution_count": 13,
   "metadata": {},
   "outputs": [
    {
     "name": "stdout",
     "output_type": "stream",
     "text": [
      "True\n"
     ]
    }
   ],
   "source": [
    "#change incorrect values and do a check\n",
    "data.loc[data['children'] < 0, 'children'] = 0\n",
    "data.loc[data['children'] == 20, 'children'] = 2\n",
    "print(data[data['children'] > 5].empty)"
   ]
  },
  {
   "cell_type": "code",
   "execution_count": 14,
   "metadata": {},
   "outputs": [
    {
     "name": "stdout",
     "output_type": "stream",
     "text": [
      "F      14236\n",
      "M       7288\n",
      "XNA        1\n",
      "Name: gender, dtype: int64\n",
      "Int64Index([10701], dtype='int64')\n"
     ]
    }
   ],
   "source": [
    "#analyze the unique values and return the index of the row with the missing value\n",
    "print(data['gender'].value_counts())\n",
    "print(data[data['gender'] == 'XNA'].index)"
   ]
  },
  {
   "cell_type": "code",
   "execution_count": 15,
   "metadata": {},
   "outputs": [
    {
     "name": "stdout",
     "output_type": "stream",
     "text": [
      "F    14236\n",
      "M     7288\n",
      "Name: gender, dtype: int64\n"
     ]
    }
   ],
   "source": [
    "#delete the row with the incorrect value and do a check\n",
    "data = data.drop([10701])\n",
    "print(data['gender'].value_counts()) "
   ]
  },
  {
   "cell_type": "code",
   "execution_count": 16,
   "metadata": {},
   "outputs": [
    {
     "data": {
      "text/html": [
       "<div>\n",
       "<style scoped>\n",
       "    .dataframe tbody tr th:only-of-type {\n",
       "        vertical-align: middle;\n",
       "    }\n",
       "\n",
       "    .dataframe tbody tr th {\n",
       "        vertical-align: top;\n",
       "    }\n",
       "\n",
       "    .dataframe thead th {\n",
       "        text-align: right;\n",
       "    }\n",
       "</style>\n",
       "<table border=\"1\" class=\"dataframe\">\n",
       "  <thead>\n",
       "    <tr style=\"text-align: right;\">\n",
       "      <th></th>\n",
       "      <th>children</th>\n",
       "      <th>days_employed</th>\n",
       "      <th>dob_years</th>\n",
       "      <th>education</th>\n",
       "      <th>education_id</th>\n",
       "      <th>family_status</th>\n",
       "      <th>family_status_id</th>\n",
       "      <th>gender</th>\n",
       "      <th>income_type</th>\n",
       "      <th>debt</th>\n",
       "      <th>total_income</th>\n",
       "      <th>purpose</th>\n",
       "    </tr>\n",
       "  </thead>\n",
       "  <tbody>\n",
       "    <tr>\n",
       "      <td>0</td>\n",
       "      <td>1</td>\n",
       "      <td>8437.673028</td>\n",
       "      <td>42.0</td>\n",
       "      <td>высшее</td>\n",
       "      <td>0</td>\n",
       "      <td>женат / замужем</td>\n",
       "      <td>0</td>\n",
       "      <td>F</td>\n",
       "      <td>сотрудник</td>\n",
       "      <td>0</td>\n",
       "      <td>253875.639453</td>\n",
       "      <td>покупка жилья</td>\n",
       "    </tr>\n",
       "    <tr>\n",
       "      <td>1</td>\n",
       "      <td>1</td>\n",
       "      <td>4024.803754</td>\n",
       "      <td>36.0</td>\n",
       "      <td>среднее</td>\n",
       "      <td>1</td>\n",
       "      <td>женат / замужем</td>\n",
       "      <td>0</td>\n",
       "      <td>F</td>\n",
       "      <td>сотрудник</td>\n",
       "      <td>0</td>\n",
       "      <td>112080.014102</td>\n",
       "      <td>приобретение автомобиля</td>\n",
       "    </tr>\n",
       "    <tr>\n",
       "      <td>2</td>\n",
       "      <td>0</td>\n",
       "      <td>5623.422610</td>\n",
       "      <td>33.0</td>\n",
       "      <td>среднее</td>\n",
       "      <td>1</td>\n",
       "      <td>женат / замужем</td>\n",
       "      <td>0</td>\n",
       "      <td>M</td>\n",
       "      <td>сотрудник</td>\n",
       "      <td>0</td>\n",
       "      <td>145885.952297</td>\n",
       "      <td>покупка жилья</td>\n",
       "    </tr>\n",
       "    <tr>\n",
       "      <td>3</td>\n",
       "      <td>3</td>\n",
       "      <td>4124.747207</td>\n",
       "      <td>32.0</td>\n",
       "      <td>среднее</td>\n",
       "      <td>1</td>\n",
       "      <td>женат / замужем</td>\n",
       "      <td>0</td>\n",
       "      <td>M</td>\n",
       "      <td>сотрудник</td>\n",
       "      <td>0</td>\n",
       "      <td>267628.550329</td>\n",
       "      <td>дополнительное образование</td>\n",
       "    </tr>\n",
       "    <tr>\n",
       "      <td>4</td>\n",
       "      <td>0</td>\n",
       "      <td>3165.910371</td>\n",
       "      <td>53.0</td>\n",
       "      <td>среднее</td>\n",
       "      <td>1</td>\n",
       "      <td>гражданский брак</td>\n",
       "      <td>1</td>\n",
       "      <td>F</td>\n",
       "      <td>пенсионер</td>\n",
       "      <td>0</td>\n",
       "      <td>158616.077870</td>\n",
       "      <td>сыграть свадьбу</td>\n",
       "    </tr>\n",
       "  </tbody>\n",
       "</table>\n",
       "</div>"
      ],
      "text/plain": [
       "   children  days_employed  dob_years education  education_id  \\\n",
       "0         1    8437.673028       42.0    высшее             0   \n",
       "1         1    4024.803754       36.0   среднее             1   \n",
       "2         0    5623.422610       33.0   среднее             1   \n",
       "3         3    4124.747207       32.0   среднее             1   \n",
       "4         0    3165.910371       53.0   среднее             1   \n",
       "\n",
       "      family_status  family_status_id gender income_type  debt   total_income  \\\n",
       "0   женат / замужем                 0      F   сотрудник     0  253875.639453   \n",
       "1   женат / замужем                 0      F   сотрудник     0  112080.014102   \n",
       "2   женат / замужем                 0      M   сотрудник     0  145885.952297   \n",
       "3   женат / замужем                 0      M   сотрудник     0  267628.550329   \n",
       "4  гражданский брак                 1      F   пенсионер     0  158616.077870   \n",
       "\n",
       "                      purpose  \n",
       "0               покупка жилья  \n",
       "1     приобретение автомобиля  \n",
       "2               покупка жилья  \n",
       "3  дополнительное образование  \n",
       "4             сыграть свадьбу  "
      ]
     },
     "metadata": {},
     "output_type": "display_data"
    }
   ],
   "source": [
    "#change the register and do a check\n",
    "data['education'] = data['education'].str.lower()\n",
    "display(data.head())"
   ]
  },
  {
   "cell_type": "code",
   "execution_count": 17,
   "metadata": {
    "scrolled": true
   },
   "outputs": [
    {
     "data": {
      "text/plain": [
       "женат / замужем          12380\n",
       "гражданский брак          4176\n",
       "Не женат / не замужем     2813\n",
       "в разводе                 1195\n",
       "вдовец / вдова             960\n",
       "Name: family_status, dtype: int64"
      ]
     },
     "execution_count": 17,
     "metadata": {},
     "output_type": "execute_result"
    }
   ],
   "source": [
    "#return the unique values\n",
    "data['family_status'].value_counts()"
   ]
  },
  {
   "cell_type": "code",
   "execution_count": 18,
   "metadata": {},
   "outputs": [
    {
     "data": {
      "text/plain": [
       "женат / замужем          12380\n",
       "гражданский брак          4176\n",
       "не женат / не замужем     2813\n",
       "в разводе                 1195\n",
       "вдовец / вдова             960\n",
       "Name: family_status, dtype: int64"
      ]
     },
     "execution_count": 18,
     "metadata": {},
     "output_type": "execute_result"
    }
   ],
   "source": [
    "#change the incorrect value and do a check\n",
    "data.loc[data['family_status'] == 'Не женат / не замужем', 'family_status'] = 'не женат / не замужем'\n",
    "data['family_status'].value_counts()"
   ]
  },
  {
   "cell_type": "code",
   "execution_count": 19,
   "metadata": {},
   "outputs": [
    {
     "name": "stdout",
     "output_type": "stream",
     "text": [
      "<class 'pandas.core.frame.DataFrame'>\n",
      "Int64Index: 21524 entries, 0 to 21524\n",
      "Data columns (total 12 columns):\n",
      "children            21524 non-null int64\n",
      "days_employed       21524 non-null int64\n",
      "dob_years           21524 non-null int64\n",
      "education           21524 non-null object\n",
      "education_id        21524 non-null int64\n",
      "family_status       21524 non-null object\n",
      "family_status_id    21524 non-null int64\n",
      "gender              21524 non-null object\n",
      "income_type         21524 non-null object\n",
      "debt                21524 non-null int64\n",
      "total_income        21524 non-null int64\n",
      "purpose             21524 non-null object\n",
      "dtypes: int64(7), object(5)\n",
      "memory usage: 2.1+ MB\n"
     ]
    }
   ],
   "source": [
    "#change data types and do a check\n",
    "data['total_income'] = data['total_income'].astype('int')\n",
    "data['days_employed'] = data['days_employed'].astype('int')\n",
    "data['dob_years'] = data['dob_years'].astype('int')\n",
    "data.info()"
   ]
  },
  {
   "cell_type": "code",
   "execution_count": 20,
   "metadata": {},
   "outputs": [
    {
     "data": {
      "text/plain": [
       "71"
      ]
     },
     "execution_count": 20,
     "metadata": {},
     "output_type": "execute_result"
    }
   ],
   "source": [
    "#look for duplicates\n",
    "data.duplicated().sum()"
   ]
  },
  {
   "cell_type": "code",
   "execution_count": 21,
   "metadata": {},
   "outputs": [
    {
     "data": {
      "text/plain": [
       "0"
      ]
     },
     "execution_count": 21,
     "metadata": {},
     "output_type": "execute_result"
    }
   ],
   "source": [
    "#delete the duplicates and do a check\n",
    "data = data.drop_duplicates().reset_index(drop=True)\n",
    "data.duplicated().sum()"
   ]
  },
  {
   "cell_type": "markdown",
   "metadata": {},
   "source": [
    "### Lemmatization"
   ]
  },
  {
   "cell_type": "code",
   "execution_count": 22,
   "metadata": {},
   "outputs": [
    {
     "data": {
      "text/plain": [
       "свадьба                                   791\n",
       "на проведение свадьбы                     768\n",
       "сыграть свадьбу                           765\n",
       "операции с недвижимостью                  675\n",
       "покупка коммерческой недвижимости         661\n",
       "операции с жильем                         652\n",
       "покупка жилья для сдачи                   651\n",
       "операции с коммерческой недвижимостью     650\n",
       "покупка жилья                             646\n",
       "жилье                                     646\n",
       "покупка жилья для семьи                   638\n",
       "строительство собственной недвижимости    635\n",
       "недвижимость                              633\n",
       "операции со своей недвижимостью           627\n",
       "строительство жилой недвижимости          624\n",
       "покупка своего жилья                      620\n",
       "покупка недвижимости                      620\n",
       "строительство недвижимости                619\n",
       "ремонт жилью                              607\n",
       "покупка жилой недвижимости                606\n",
       "на покупку своего автомобиля              505\n",
       "заняться высшим образованием              496\n",
       "автомобиль                                494\n",
       "сделка с подержанным автомобилем          486\n",
       "автомобили                                478\n",
       "свой автомобиль                           478\n",
       "на покупку подержанного автомобиля        478\n",
       "на покупку автомобиля                     471\n",
       "приобретение автомобиля                   461\n",
       "дополнительное образование                460\n",
       "сделка с автомобилем                      455\n",
       "высшее образование                        452\n",
       "образование                               447\n",
       "получение дополнительного образования     446\n",
       "получение образования                     442\n",
       "профильное образование                    436\n",
       "получение высшего образования             426\n",
       "заняться образованием                     408\n",
       "Name: purpose, dtype: int64"
      ]
     },
     "execution_count": 22,
     "metadata": {},
     "output_type": "execute_result"
    }
   ],
   "source": [
    "#return the unique values\n",
    "data['purpose'].value_counts()"
   ]
  },
  {
   "cell_type": "code",
   "execution_count": 23,
   "metadata": {},
   "outputs": [
    {
     "name": "stdout",
     "output_type": "stream",
     "text": [
      "Counter({' ': 55021, 'недвижимость': 6350, 'покупка': 5896, 'жилье': 4460, 'автомобиль': 4306, 'образование': 4013, 'с': 2918, 'операция': 2604, 'свадьба': 2324, 'свой': 2230, 'на': 2222, 'строительство': 1878, 'высокий': 1374, 'получение': 1314, 'коммерческий': 1311, 'для': 1289, 'жилой': 1230, 'сделка': 941, 'дополнительный': 906, 'заниматься': 904, 'подержать': 853, 'проведение': 768, 'сыграть': 765, 'сдача': 651, 'семья': 638, 'собственный': 635, 'со': 627, 'ремонт': 607, 'приобретение': 461, 'профильный': 436, 'подержанный': 111, '\\n': 1})\n"
     ]
    }
   ],
   "source": [
    "#return lemmas\n",
    "text = ' '.join(data['purpose'])\n",
    "lemmas = Mystem().lemmatize(text)\n",
    "print(Counter(lemmas))"
   ]
  },
  {
   "cell_type": "code",
   "execution_count": 24,
   "metadata": {},
   "outputs": [
    {
     "data": {
      "text/html": [
       "<div>\n",
       "<style scoped>\n",
       "    .dataframe tbody tr th:only-of-type {\n",
       "        vertical-align: middle;\n",
       "    }\n",
       "\n",
       "    .dataframe tbody tr th {\n",
       "        vertical-align: top;\n",
       "    }\n",
       "\n",
       "    .dataframe thead th {\n",
       "        text-align: right;\n",
       "    }\n",
       "</style>\n",
       "<table border=\"1\" class=\"dataframe\">\n",
       "  <thead>\n",
       "    <tr style=\"text-align: right;\">\n",
       "      <th></th>\n",
       "      <th>children</th>\n",
       "      <th>days_employed</th>\n",
       "      <th>dob_years</th>\n",
       "      <th>education</th>\n",
       "      <th>education_id</th>\n",
       "      <th>family_status</th>\n",
       "      <th>family_status_id</th>\n",
       "      <th>gender</th>\n",
       "      <th>income_type</th>\n",
       "      <th>debt</th>\n",
       "      <th>total_income</th>\n",
       "      <th>purpose</th>\n",
       "    </tr>\n",
       "  </thead>\n",
       "  <tbody>\n",
       "    <tr>\n",
       "      <td>0</td>\n",
       "      <td>1</td>\n",
       "      <td>8437</td>\n",
       "      <td>42</td>\n",
       "      <td>высшее</td>\n",
       "      <td>0</td>\n",
       "      <td>женат / замужем</td>\n",
       "      <td>0</td>\n",
       "      <td>F</td>\n",
       "      <td>сотрудник</td>\n",
       "      <td>0</td>\n",
       "      <td>253875</td>\n",
       "      <td>недвижимость</td>\n",
       "    </tr>\n",
       "    <tr>\n",
       "      <td>1</td>\n",
       "      <td>1</td>\n",
       "      <td>4024</td>\n",
       "      <td>36</td>\n",
       "      <td>среднее</td>\n",
       "      <td>1</td>\n",
       "      <td>женат / замужем</td>\n",
       "      <td>0</td>\n",
       "      <td>F</td>\n",
       "      <td>сотрудник</td>\n",
       "      <td>0</td>\n",
       "      <td>112080</td>\n",
       "      <td>автомобиль</td>\n",
       "    </tr>\n",
       "    <tr>\n",
       "      <td>2</td>\n",
       "      <td>0</td>\n",
       "      <td>5623</td>\n",
       "      <td>33</td>\n",
       "      <td>среднее</td>\n",
       "      <td>1</td>\n",
       "      <td>женат / замужем</td>\n",
       "      <td>0</td>\n",
       "      <td>M</td>\n",
       "      <td>сотрудник</td>\n",
       "      <td>0</td>\n",
       "      <td>145885</td>\n",
       "      <td>недвижимость</td>\n",
       "    </tr>\n",
       "    <tr>\n",
       "      <td>3</td>\n",
       "      <td>3</td>\n",
       "      <td>4124</td>\n",
       "      <td>32</td>\n",
       "      <td>среднее</td>\n",
       "      <td>1</td>\n",
       "      <td>женат / замужем</td>\n",
       "      <td>0</td>\n",
       "      <td>M</td>\n",
       "      <td>сотрудник</td>\n",
       "      <td>0</td>\n",
       "      <td>267628</td>\n",
       "      <td>образование</td>\n",
       "    </tr>\n",
       "    <tr>\n",
       "      <td>4</td>\n",
       "      <td>0</td>\n",
       "      <td>3165</td>\n",
       "      <td>53</td>\n",
       "      <td>среднее</td>\n",
       "      <td>1</td>\n",
       "      <td>гражданский брак</td>\n",
       "      <td>1</td>\n",
       "      <td>F</td>\n",
       "      <td>пенсионер</td>\n",
       "      <td>0</td>\n",
       "      <td>158616</td>\n",
       "      <td>свадьба</td>\n",
       "    </tr>\n",
       "  </tbody>\n",
       "</table>\n",
       "</div>"
      ],
      "text/plain": [
       "   children  days_employed  dob_years education  education_id  \\\n",
       "0         1           8437         42    высшее             0   \n",
       "1         1           4024         36   среднее             1   \n",
       "2         0           5623         33   среднее             1   \n",
       "3         3           4124         32   среднее             1   \n",
       "4         0           3165         53   среднее             1   \n",
       "\n",
       "      family_status  family_status_id gender income_type  debt  total_income  \\\n",
       "0   женат / замужем                 0      F   сотрудник     0        253875   \n",
       "1   женат / замужем                 0      F   сотрудник     0        112080   \n",
       "2   женат / замужем                 0      M   сотрудник     0        145885   \n",
       "3   женат / замужем                 0      M   сотрудник     0        267628   \n",
       "4  гражданский брак                 1      F   пенсионер     0        158616   \n",
       "\n",
       "        purpose  \n",
       "0  недвижимость  \n",
       "1    автомобиль  \n",
       "2  недвижимость  \n",
       "3   образование  \n",
       "4       свадьба  "
      ]
     },
     "metadata": {},
     "output_type": "display_data"
    }
   ],
   "source": [
    "#rewrite values of the column\n",
    "m = Mystem()\n",
    "def purposes(purpose):\n",
    "    purpose_lemmatized = m.lemmatize(purpose)\n",
    "    if 'автомобиль' in purpose_lemmatized:\n",
    "        return 'автомобиль'\n",
    "    if 'образование' in purpose_lemmatized:\n",
    "        return 'образование'\n",
    "    if 'свадьба' in purpose_lemmatized:\n",
    "        return 'свадьба'\n",
    "    if ('недвижимость' in purpose_lemmatized) or ('жилье' in purpose_lemmatized):\n",
    "        return 'недвижимость'\n",
    "    return 'другое'\n",
    "data['purpose'] = data['purpose'].apply(purposes)\n",
    "display(data.head())"
   ]
  },
  {
   "cell_type": "markdown",
   "metadata": {},
   "source": [
    "### Data clustering"
   ]
  },
  {
   "cell_type": "code",
   "execution_count": 25,
   "metadata": {},
   "outputs": [
    {
     "data": {
      "text/html": [
       "<div>\n",
       "<style scoped>\n",
       "    .dataframe tbody tr th:only-of-type {\n",
       "        vertical-align: middle;\n",
       "    }\n",
       "\n",
       "    .dataframe tbody tr th {\n",
       "        vertical-align: top;\n",
       "    }\n",
       "\n",
       "    .dataframe thead th {\n",
       "        text-align: right;\n",
       "    }\n",
       "</style>\n",
       "<table border=\"1\" class=\"dataframe\">\n",
       "  <thead>\n",
       "    <tr style=\"text-align: right;\">\n",
       "      <th></th>\n",
       "      <th>children</th>\n",
       "      <th>days_employed</th>\n",
       "      <th>dob_years</th>\n",
       "      <th>education</th>\n",
       "      <th>education_id</th>\n",
       "      <th>family_status</th>\n",
       "      <th>family_status_id</th>\n",
       "      <th>gender</th>\n",
       "      <th>income_type</th>\n",
       "      <th>debt</th>\n",
       "      <th>total_income</th>\n",
       "      <th>purpose</th>\n",
       "    </tr>\n",
       "  </thead>\n",
       "  <tbody>\n",
       "    <tr>\n",
       "      <td>0</td>\n",
       "      <td>yes</td>\n",
       "      <td>8437</td>\n",
       "      <td>42</td>\n",
       "      <td>высшее</td>\n",
       "      <td>0</td>\n",
       "      <td>женат / замужем</td>\n",
       "      <td>0</td>\n",
       "      <td>F</td>\n",
       "      <td>сотрудник</td>\n",
       "      <td>0</td>\n",
       "      <td>253875</td>\n",
       "      <td>недвижимость</td>\n",
       "    </tr>\n",
       "    <tr>\n",
       "      <td>1</td>\n",
       "      <td>yes</td>\n",
       "      <td>4024</td>\n",
       "      <td>36</td>\n",
       "      <td>среднее</td>\n",
       "      <td>1</td>\n",
       "      <td>женат / замужем</td>\n",
       "      <td>0</td>\n",
       "      <td>F</td>\n",
       "      <td>сотрудник</td>\n",
       "      <td>0</td>\n",
       "      <td>112080</td>\n",
       "      <td>автомобиль</td>\n",
       "    </tr>\n",
       "    <tr>\n",
       "      <td>2</td>\n",
       "      <td>no</td>\n",
       "      <td>5623</td>\n",
       "      <td>33</td>\n",
       "      <td>среднее</td>\n",
       "      <td>1</td>\n",
       "      <td>женат / замужем</td>\n",
       "      <td>0</td>\n",
       "      <td>M</td>\n",
       "      <td>сотрудник</td>\n",
       "      <td>0</td>\n",
       "      <td>145885</td>\n",
       "      <td>недвижимость</td>\n",
       "    </tr>\n",
       "    <tr>\n",
       "      <td>3</td>\n",
       "      <td>yes</td>\n",
       "      <td>4124</td>\n",
       "      <td>32</td>\n",
       "      <td>среднее</td>\n",
       "      <td>1</td>\n",
       "      <td>женат / замужем</td>\n",
       "      <td>0</td>\n",
       "      <td>M</td>\n",
       "      <td>сотрудник</td>\n",
       "      <td>0</td>\n",
       "      <td>267628</td>\n",
       "      <td>образование</td>\n",
       "    </tr>\n",
       "    <tr>\n",
       "      <td>4</td>\n",
       "      <td>no</td>\n",
       "      <td>3165</td>\n",
       "      <td>53</td>\n",
       "      <td>среднее</td>\n",
       "      <td>1</td>\n",
       "      <td>гражданский брак</td>\n",
       "      <td>1</td>\n",
       "      <td>F</td>\n",
       "      <td>пенсионер</td>\n",
       "      <td>0</td>\n",
       "      <td>158616</td>\n",
       "      <td>свадьба</td>\n",
       "    </tr>\n",
       "  </tbody>\n",
       "</table>\n",
       "</div>"
      ],
      "text/plain": [
       "  children  days_employed  dob_years education  education_id  \\\n",
       "0      yes           8437         42    высшее             0   \n",
       "1      yes           4024         36   среднее             1   \n",
       "2       no           5623         33   среднее             1   \n",
       "3      yes           4124         32   среднее             1   \n",
       "4       no           3165         53   среднее             1   \n",
       "\n",
       "      family_status  family_status_id gender income_type  debt  total_income  \\\n",
       "0   женат / замужем                 0      F   сотрудник     0        253875   \n",
       "1   женат / замужем                 0      F   сотрудник     0        112080   \n",
       "2   женат / замужем                 0      M   сотрудник     0        145885   \n",
       "3   женат / замужем                 0      M   сотрудник     0        267628   \n",
       "4  гражданский брак                 1      F   пенсионер     0        158616   \n",
       "\n",
       "        purpose  \n",
       "0  недвижимость  \n",
       "1    автомобиль  \n",
       "2  недвижимость  \n",
       "3   образование  \n",
       "4       свадьба  "
      ]
     },
     "metadata": {},
     "output_type": "display_data"
    }
   ],
   "source": [
    "#rewrite the values\n",
    "def kids(row):\n",
    "    value = row['children']\n",
    "    if value > 0:\n",
    "        return 'yes'\n",
    "    return 'no'\n",
    "data['children'] = data.apply(kids, axis=1)\n",
    "display(data.head())"
   ]
  },
  {
   "cell_type": "code",
   "execution_count": 26,
   "metadata": {},
   "outputs": [
    {
     "data": {
      "text/html": [
       "<div>\n",
       "<style scoped>\n",
       "    .dataframe tbody tr th:only-of-type {\n",
       "        vertical-align: middle;\n",
       "    }\n",
       "\n",
       "    .dataframe tbody tr th {\n",
       "        vertical-align: top;\n",
       "    }\n",
       "\n",
       "    .dataframe thead th {\n",
       "        text-align: right;\n",
       "    }\n",
       "</style>\n",
       "<table border=\"1\" class=\"dataframe\">\n",
       "  <thead>\n",
       "    <tr style=\"text-align: right;\">\n",
       "      <th></th>\n",
       "      <th>children</th>\n",
       "      <th>days_employed</th>\n",
       "      <th>dob_years</th>\n",
       "      <th>education</th>\n",
       "      <th>education_id</th>\n",
       "      <th>family_status</th>\n",
       "      <th>family_status_id</th>\n",
       "      <th>gender</th>\n",
       "      <th>income_type</th>\n",
       "      <th>debt</th>\n",
       "      <th>total_income</th>\n",
       "      <th>purpose</th>\n",
       "    </tr>\n",
       "  </thead>\n",
       "  <tbody>\n",
       "    <tr>\n",
       "      <td>0</td>\n",
       "      <td>yes</td>\n",
       "      <td>8437</td>\n",
       "      <td>42</td>\n",
       "      <td>высшее</td>\n",
       "      <td>0</td>\n",
       "      <td>женат / замужем</td>\n",
       "      <td>0</td>\n",
       "      <td>F</td>\n",
       "      <td>сотрудник</td>\n",
       "      <td>0</td>\n",
       "      <td>upper middle</td>\n",
       "      <td>недвижимость</td>\n",
       "    </tr>\n",
       "    <tr>\n",
       "      <td>1</td>\n",
       "      <td>yes</td>\n",
       "      <td>4024</td>\n",
       "      <td>36</td>\n",
       "      <td>среднее</td>\n",
       "      <td>1</td>\n",
       "      <td>женат / замужем</td>\n",
       "      <td>0</td>\n",
       "      <td>F</td>\n",
       "      <td>сотрудник</td>\n",
       "      <td>0</td>\n",
       "      <td>middle</td>\n",
       "      <td>автомобиль</td>\n",
       "    </tr>\n",
       "    <tr>\n",
       "      <td>2</td>\n",
       "      <td>no</td>\n",
       "      <td>5623</td>\n",
       "      <td>33</td>\n",
       "      <td>среднее</td>\n",
       "      <td>1</td>\n",
       "      <td>женат / замужем</td>\n",
       "      <td>0</td>\n",
       "      <td>M</td>\n",
       "      <td>сотрудник</td>\n",
       "      <td>0</td>\n",
       "      <td>middle</td>\n",
       "      <td>недвижимость</td>\n",
       "    </tr>\n",
       "    <tr>\n",
       "      <td>3</td>\n",
       "      <td>yes</td>\n",
       "      <td>4124</td>\n",
       "      <td>32</td>\n",
       "      <td>среднее</td>\n",
       "      <td>1</td>\n",
       "      <td>женат / замужем</td>\n",
       "      <td>0</td>\n",
       "      <td>M</td>\n",
       "      <td>сотрудник</td>\n",
       "      <td>0</td>\n",
       "      <td>upper middle</td>\n",
       "      <td>образование</td>\n",
       "    </tr>\n",
       "    <tr>\n",
       "      <td>4</td>\n",
       "      <td>no</td>\n",
       "      <td>3165</td>\n",
       "      <td>53</td>\n",
       "      <td>среднее</td>\n",
       "      <td>1</td>\n",
       "      <td>гражданский брак</td>\n",
       "      <td>1</td>\n",
       "      <td>F</td>\n",
       "      <td>пенсионер</td>\n",
       "      <td>0</td>\n",
       "      <td>middle</td>\n",
       "      <td>свадьба</td>\n",
       "    </tr>\n",
       "  </tbody>\n",
       "</table>\n",
       "</div>"
      ],
      "text/plain": [
       "  children  days_employed  dob_years education  education_id  \\\n",
       "0      yes           8437         42    высшее             0   \n",
       "1      yes           4024         36   среднее             1   \n",
       "2       no           5623         33   среднее             1   \n",
       "3      yes           4124         32   среднее             1   \n",
       "4       no           3165         53   среднее             1   \n",
       "\n",
       "      family_status  family_status_id gender income_type  debt  total_income  \\\n",
       "0   женат / замужем                 0      F   сотрудник     0  upper middle   \n",
       "1   женат / замужем                 0      F   сотрудник     0        middle   \n",
       "2   женат / замужем                 0      M   сотрудник     0        middle   \n",
       "3   женат / замужем                 0      M   сотрудник     0  upper middle   \n",
       "4  гражданский брак                 1      F   пенсионер     0        middle   \n",
       "\n",
       "        purpose  \n",
       "0  недвижимость  \n",
       "1    автомобиль  \n",
       "2  недвижимость  \n",
       "3   образование  \n",
       "4       свадьба  "
      ]
     },
     "metadata": {},
     "output_type": "display_data"
    }
   ],
   "source": [
    "#rename the values\n",
    "def income(row):\n",
    "    value = row['total_income']\n",
    "    if 20000 < value < 70000:\n",
    "        return 'lowest'\n",
    "    if 70000 <= value < 100000:\n",
    "        return 'lower middle'\n",
    "    if 100000 <= value < 200000:\n",
    "        return 'middle'\n",
    "    if 200000 <= value < 300000:\n",
    "        return 'upper middle'\n",
    "    return 'highest'\n",
    "\n",
    "data['total_income'] = data.apply(income, axis=1)\n",
    "display(data.head())"
   ]
  },
  {
   "cell_type": "markdown",
   "metadata": {},
   "source": [
    "## Finding correlations"
   ]
  },
  {
   "cell_type": "markdown",
   "metadata": {},
   "source": [
    "#### Is there a relationship between having children and repaying a loan on time?"
   ]
  },
  {
   "cell_type": "code",
   "execution_count": 27,
   "metadata": {},
   "outputs": [
    {
     "data": {
      "text/html": [
       "<style  type=\"text/css\" >\n",
       "</style><table id=\"T_203d5bb8_6306_11ec_bb32_02420a398743\" ><thead>    <tr>        <th class=\"blank level0\" ></th>        <th class=\"col_heading level0 col0\" colspan=2>debt</th>        <th class=\"col_heading level0 col2\" >ratio</th>    </tr>    <tr>        <th class=\"blank level1\" ></th>        <th class=\"col_heading level1 col0\" >sum</th>        <th class=\"col_heading level1 col1\" >count</th>        <th class=\"col_heading level1 col2\" ></th>    </tr>    <tr>        <th class=\"index_name level0\" >children</th>        <th class=\"blank\" ></th>        <th class=\"blank\" ></th>        <th class=\"blank\" ></th>    </tr></thead><tbody>\n",
       "                <tr>\n",
       "                        <th id=\"T_203d5bb8_6306_11ec_bb32_02420a398743level0_row0\" class=\"row_heading level0 row0\" >no</th>\n",
       "                        <td id=\"T_203d5bb8_6306_11ec_bb32_02420a398743row0_col0\" class=\"data row0 col0\" >1064</td>\n",
       "                        <td id=\"T_203d5bb8_6306_11ec_bb32_02420a398743row0_col1\" class=\"data row0 col1\" >14137</td>\n",
       "                        <td id=\"T_203d5bb8_6306_11ec_bb32_02420a398743row0_col2\" class=\"data row0 col2\" >7.53%</td>\n",
       "            </tr>\n",
       "            <tr>\n",
       "                        <th id=\"T_203d5bb8_6306_11ec_bb32_02420a398743level0_row1\" class=\"row_heading level0 row1\" >yes</th>\n",
       "                        <td id=\"T_203d5bb8_6306_11ec_bb32_02420a398743row1_col0\" class=\"data row1 col0\" >677</td>\n",
       "                        <td id=\"T_203d5bb8_6306_11ec_bb32_02420a398743row1_col1\" class=\"data row1 col1\" >7316</td>\n",
       "                        <td id=\"T_203d5bb8_6306_11ec_bb32_02420a398743row1_col2\" class=\"data row1 col2\" >9.25%</td>\n",
       "            </tr>\n",
       "    </tbody></table>"
      ],
      "text/plain": [
       "<pandas.io.formats.style.Styler at 0x7f0fa589b590>"
      ]
     },
     "metadata": {},
     "output_type": "display_data"
    }
   ],
   "source": [
    "#create a pivot table and a new column in it\n",
    "data_kids = data.groupby('children').agg({'debt': ['sum','count']})\n",
    "data_kids['ratio'] = (data_kids['debt']['sum']/data_kids['debt']['count'])*100\n",
    "display(data_kids.style.format({('ratio', ''):'{:.2f}%'}))"
   ]
  },
  {
   "cell_type": "markdown",
   "metadata": {},
   "source": [
    "Customers with children have a worse credit history than customers without children."
   ]
  },
  {
   "cell_type": "markdown",
   "metadata": {},
   "source": [
    "#### Is there a relationship between marital status and loan repayment on time?"
   ]
  },
  {
   "cell_type": "code",
   "execution_count": 28,
   "metadata": {
    "scrolled": true
   },
   "outputs": [
    {
     "data": {
      "text/html": [
       "<style  type=\"text/css\" >\n",
       "</style><table id=\"T_204564ca_6306_11ec_bb32_02420a398743\" ><thead>    <tr>        <th class=\"blank level0\" ></th>        <th class=\"col_heading level0 col0\" >sum</th>        <th class=\"col_heading level0 col1\" >count</th>        <th class=\"col_heading level0 col2\" >ratio</th>    </tr>    <tr>        <th class=\"blank level1\" ></th>        <th class=\"col_heading level1 col0\" >debt</th>        <th class=\"col_heading level1 col1\" >debt</th>        <th class=\"col_heading level1 col2\" ></th>    </tr>    <tr>        <th class=\"index_name level0\" >family_status</th>        <th class=\"blank\" ></th>        <th class=\"blank\" ></th>        <th class=\"blank\" ></th>    </tr></thead><tbody>\n",
       "                <tr>\n",
       "                        <th id=\"T_204564ca_6306_11ec_bb32_02420a398743level0_row0\" class=\"row_heading level0 row0\" >вдовец / вдова</th>\n",
       "                        <td id=\"T_204564ca_6306_11ec_bb32_02420a398743row0_col0\" class=\"data row0 col0\" >63</td>\n",
       "                        <td id=\"T_204564ca_6306_11ec_bb32_02420a398743row0_col1\" class=\"data row0 col1\" >959</td>\n",
       "                        <td id=\"T_204564ca_6306_11ec_bb32_02420a398743row0_col2\" class=\"data row0 col2\" >6.57%</td>\n",
       "            </tr>\n",
       "            <tr>\n",
       "                        <th id=\"T_204564ca_6306_11ec_bb32_02420a398743level0_row1\" class=\"row_heading level0 row1\" >в разводе</th>\n",
       "                        <td id=\"T_204564ca_6306_11ec_bb32_02420a398743row1_col0\" class=\"data row1 col0\" >85</td>\n",
       "                        <td id=\"T_204564ca_6306_11ec_bb32_02420a398743row1_col1\" class=\"data row1 col1\" >1195</td>\n",
       "                        <td id=\"T_204564ca_6306_11ec_bb32_02420a398743row1_col2\" class=\"data row1 col2\" >7.11%</td>\n",
       "            </tr>\n",
       "            <tr>\n",
       "                        <th id=\"T_204564ca_6306_11ec_bb32_02420a398743level0_row2\" class=\"row_heading level0 row2\" >женат / замужем</th>\n",
       "                        <td id=\"T_204564ca_6306_11ec_bb32_02420a398743row2_col0\" class=\"data row2 col0\" >931</td>\n",
       "                        <td id=\"T_204564ca_6306_11ec_bb32_02420a398743row2_col1\" class=\"data row2 col1\" >12339</td>\n",
       "                        <td id=\"T_204564ca_6306_11ec_bb32_02420a398743row2_col2\" class=\"data row2 col2\" >7.55%</td>\n",
       "            </tr>\n",
       "            <tr>\n",
       "                        <th id=\"T_204564ca_6306_11ec_bb32_02420a398743level0_row3\" class=\"row_heading level0 row3\" >гражданский брак</th>\n",
       "                        <td id=\"T_204564ca_6306_11ec_bb32_02420a398743row3_col0\" class=\"data row3 col0\" >388</td>\n",
       "                        <td id=\"T_204564ca_6306_11ec_bb32_02420a398743row3_col1\" class=\"data row3 col1\" >4150</td>\n",
       "                        <td id=\"T_204564ca_6306_11ec_bb32_02420a398743row3_col2\" class=\"data row3 col2\" >9.35%</td>\n",
       "            </tr>\n",
       "            <tr>\n",
       "                        <th id=\"T_204564ca_6306_11ec_bb32_02420a398743level0_row4\" class=\"row_heading level0 row4\" >не женат / не замужем</th>\n",
       "                        <td id=\"T_204564ca_6306_11ec_bb32_02420a398743row4_col0\" class=\"data row4 col0\" >274</td>\n",
       "                        <td id=\"T_204564ca_6306_11ec_bb32_02420a398743row4_col1\" class=\"data row4 col1\" >2810</td>\n",
       "                        <td id=\"T_204564ca_6306_11ec_bb32_02420a398743row4_col2\" class=\"data row4 col2\" >9.75%</td>\n",
       "            </tr>\n",
       "    </tbody></table>"
      ],
      "text/plain": [
       "<pandas.io.formats.style.Styler at 0x7f0fa58a8650>"
      ]
     },
     "metadata": {},
     "output_type": "display_data"
    }
   ],
   "source": [
    "#create a pivot table and a new column in it\n",
    "data_family = data.pivot_table(index='family_status', values='debt', aggfunc=['sum','count'])\n",
    "data_family['ratio'] = (data_family[('sum','debt')] / data_family[('count','debt')]) * 100\n",
    "display(data_family.sort_values(by='ratio').style.format({('ratio', ''):'{:.2f}%'}))"
   ]
  },
  {
   "cell_type": "markdown",
   "metadata": {},
   "source": [
    "Customers who are currently or in the past were officially married are more likely to repay loans."
   ]
  },
  {
   "cell_type": "markdown",
   "metadata": {},
   "source": [
    "#### Is there a relationship between income level and loan repayment on time?"
   ]
  },
  {
   "cell_type": "code",
   "execution_count": 29,
   "metadata": {},
   "outputs": [
    {
     "data": {
      "text/html": [
       "<style  type=\"text/css\" >\n",
       "</style><table id=\"T_204ae08a_6306_11ec_bb32_02420a398743\" ><thead>    <tr>        <th class=\"blank level0\" ></th>        <th class=\"col_heading level0 col0\" colspan=2>debt</th>        <th class=\"col_heading level0 col2\" >ratio</th>    </tr>    <tr>        <th class=\"blank level1\" ></th>        <th class=\"col_heading level1 col0\" >sum</th>        <th class=\"col_heading level1 col1\" >count</th>        <th class=\"col_heading level1 col2\" ></th>    </tr>    <tr>        <th class=\"index_name level0\" >total_income</th>        <th class=\"blank\" ></th>        <th class=\"blank\" ></th>        <th class=\"blank\" ></th>    </tr></thead><tbody>\n",
       "                <tr>\n",
       "                        <th id=\"T_204ae08a_6306_11ec_bb32_02420a398743level0_row0\" class=\"row_heading level0 row0\" >lowest</th>\n",
       "                        <td id=\"T_204ae08a_6306_11ec_bb32_02420a398743row0_col0\" class=\"data row0 col0\" >101</td>\n",
       "                        <td id=\"T_204ae08a_6306_11ec_bb32_02420a398743row0_col1\" class=\"data row0 col1\" >1474</td>\n",
       "                        <td id=\"T_204ae08a_6306_11ec_bb32_02420a398743row0_col2\" class=\"data row0 col2\" >6.85%</td>\n",
       "            </tr>\n",
       "            <tr>\n",
       "                        <th id=\"T_204ae08a_6306_11ec_bb32_02420a398743level0_row1\" class=\"row_heading level0 row1\" >upper middle</th>\n",
       "                        <td id=\"T_204ae08a_6306_11ec_bb32_02420a398743row1_col0\" class=\"data row1 col0\" >252</td>\n",
       "                        <td id=\"T_204ae08a_6306_11ec_bb32_02420a398743row1_col1\" class=\"data row1 col1\" >3583</td>\n",
       "                        <td id=\"T_204ae08a_6306_11ec_bb32_02420a398743row1_col2\" class=\"data row1 col2\" >7.03%</td>\n",
       "            </tr>\n",
       "            <tr>\n",
       "                        <th id=\"T_204ae08a_6306_11ec_bb32_02420a398743level0_row2\" class=\"row_heading level0 row2\" >highest</th>\n",
       "                        <td id=\"T_204ae08a_6306_11ec_bb32_02420a398743row2_col0\" class=\"data row2 col0\" >106</td>\n",
       "                        <td id=\"T_204ae08a_6306_11ec_bb32_02420a398743row2_col1\" class=\"data row2 col1\" >1483</td>\n",
       "                        <td id=\"T_204ae08a_6306_11ec_bb32_02420a398743row2_col2\" class=\"data row2 col2\" >7.15%</td>\n",
       "            </tr>\n",
       "            <tr>\n",
       "                        <th id=\"T_204ae08a_6306_11ec_bb32_02420a398743level0_row3\" class=\"row_heading level0 row3\" >lower middle</th>\n",
       "                        <td id=\"T_204ae08a_6306_11ec_bb32_02420a398743row3_col0\" class=\"data row3 col0\" >253</td>\n",
       "                        <td id=\"T_204ae08a_6306_11ec_bb32_02420a398743row3_col1\" class=\"data row3 col1\" >2989</td>\n",
       "                        <td id=\"T_204ae08a_6306_11ec_bb32_02420a398743row3_col2\" class=\"data row3 col2\" >8.46%</td>\n",
       "            </tr>\n",
       "            <tr>\n",
       "                        <th id=\"T_204ae08a_6306_11ec_bb32_02420a398743level0_row4\" class=\"row_heading level0 row4\" >middle</th>\n",
       "                        <td id=\"T_204ae08a_6306_11ec_bb32_02420a398743row4_col0\" class=\"data row4 col0\" >1029</td>\n",
       "                        <td id=\"T_204ae08a_6306_11ec_bb32_02420a398743row4_col1\" class=\"data row4 col1\" >11924</td>\n",
       "                        <td id=\"T_204ae08a_6306_11ec_bb32_02420a398743row4_col2\" class=\"data row4 col2\" >8.63%</td>\n",
       "            </tr>\n",
       "    </tbody></table>"
      ],
      "text/plain": [
       "<pandas.io.formats.style.Styler at 0x7f100bb72290>"
      ]
     },
     "metadata": {},
     "output_type": "display_data"
    }
   ],
   "source": [
    "#create a pivot table and a new column in it\n",
    "data_income = data.groupby('total_income').agg({'debt': ['sum','count']})\n",
    "data_income['ratio'] = data_income['debt']['sum']/data_income['debt']['count']*100\n",
    "display(data_income.sort_values(by = 'ratio').style.format({('ratio', ''):'{:.2f}%'}))"
   ]
  },
  {
   "cell_type": "markdown",
   "metadata": {},
   "source": [
    "No relationship."
   ]
  },
  {
   "cell_type": "markdown",
   "metadata": {},
   "source": [
    "#### How do different purposes of a loan affect its repayment on time?"
   ]
  },
  {
   "cell_type": "code",
   "execution_count": 30,
   "metadata": {},
   "outputs": [
    {
     "data": {
      "text/html": [
       "<style  type=\"text/css\" >\n",
       "</style><table id=\"T_20512648_6306_11ec_bb32_02420a398743\" ><thead>    <tr>        <th class=\"blank level0\" ></th>        <th class=\"col_heading level0 col0\" >sum</th>        <th class=\"col_heading level0 col1\" >count</th>        <th class=\"col_heading level0 col2\" >ratio</th>    </tr>    <tr>        <th class=\"blank level1\" ></th>        <th class=\"col_heading level1 col0\" >debt</th>        <th class=\"col_heading level1 col1\" >debt</th>        <th class=\"col_heading level1 col2\" ></th>    </tr>    <tr>        <th class=\"index_name level0\" >purpose</th>        <th class=\"blank\" ></th>        <th class=\"blank\" ></th>        <th class=\"blank\" ></th>    </tr></thead><tbody>\n",
       "                <tr>\n",
       "                        <th id=\"T_20512648_6306_11ec_bb32_02420a398743level0_row0\" class=\"row_heading level0 row0\" >недвижимость</th>\n",
       "                        <td id=\"T_20512648_6306_11ec_bb32_02420a398743row0_col0\" class=\"data row0 col0\" >782</td>\n",
       "                        <td id=\"T_20512648_6306_11ec_bb32_02420a398743row0_col1\" class=\"data row0 col1\" >10810</td>\n",
       "                        <td id=\"T_20512648_6306_11ec_bb32_02420a398743row0_col2\" class=\"data row0 col2\" >7.23%</td>\n",
       "            </tr>\n",
       "            <tr>\n",
       "                        <th id=\"T_20512648_6306_11ec_bb32_02420a398743level0_row1\" class=\"row_heading level0 row1\" >свадьба</th>\n",
       "                        <td id=\"T_20512648_6306_11ec_bb32_02420a398743row1_col0\" class=\"data row1 col0\" >186</td>\n",
       "                        <td id=\"T_20512648_6306_11ec_bb32_02420a398743row1_col1\" class=\"data row1 col1\" >2324</td>\n",
       "                        <td id=\"T_20512648_6306_11ec_bb32_02420a398743row1_col2\" class=\"data row1 col2\" >8.00%</td>\n",
       "            </tr>\n",
       "            <tr>\n",
       "                        <th id=\"T_20512648_6306_11ec_bb32_02420a398743level0_row2\" class=\"row_heading level0 row2\" >образование</th>\n",
       "                        <td id=\"T_20512648_6306_11ec_bb32_02420a398743row2_col0\" class=\"data row2 col0\" >370</td>\n",
       "                        <td id=\"T_20512648_6306_11ec_bb32_02420a398743row2_col1\" class=\"data row2 col1\" >4013</td>\n",
       "                        <td id=\"T_20512648_6306_11ec_bb32_02420a398743row2_col2\" class=\"data row2 col2\" >9.22%</td>\n",
       "            </tr>\n",
       "            <tr>\n",
       "                        <th id=\"T_20512648_6306_11ec_bb32_02420a398743level0_row3\" class=\"row_heading level0 row3\" >автомобиль</th>\n",
       "                        <td id=\"T_20512648_6306_11ec_bb32_02420a398743row3_col0\" class=\"data row3 col0\" >403</td>\n",
       "                        <td id=\"T_20512648_6306_11ec_bb32_02420a398743row3_col1\" class=\"data row3 col1\" >4306</td>\n",
       "                        <td id=\"T_20512648_6306_11ec_bb32_02420a398743row3_col2\" class=\"data row3 col2\" >9.36%</td>\n",
       "            </tr>\n",
       "    </tbody></table>"
      ],
      "text/plain": [
       "<pandas.io.formats.style.Styler at 0x7f0fc2169fd0>"
      ]
     },
     "metadata": {},
     "output_type": "display_data"
    }
   ],
   "source": [
    "#create a pivot table and a new column in it\n",
    "data_purpose = data.pivot_table(index='purpose', values='debt', aggfunc=['sum','count'])\n",
    "data_purpose['ratio'] = (data_purpose[('sum','debt')] / data_purpose[('count','debt')]) * 100\n",
    "display(data_purpose.sort_values(by='ratio').style.format({('ratio', ''):'{:.2f}%'}))"
   ]
  },
  {
   "cell_type": "markdown",
   "metadata": {},
   "source": [
    "Customers who who take out a loan for transactions with residential or commercial real estate are noticeably more likely to repay loans on time than those who take out a loan for education or a car. The group of customers who take out a loan for a wedding is noticeably smaller than the other three groups, it is not correct to take this group into account."
   ]
  },
  {
   "cell_type": "markdown",
   "metadata": {},
   "source": [
    "#### Does customer gender affect loan repayment on time?"
   ]
  },
  {
   "cell_type": "code",
   "execution_count": 31,
   "metadata": {
    "scrolled": true
   },
   "outputs": [
    {
     "data": {
      "text/html": [
       "<style  type=\"text/css\" >\n",
       "</style><table id=\"T_205927b2_6306_11ec_bb32_02420a398743\" ><thead>    <tr>        <th class=\"blank level0\" ></th>        <th class=\"col_heading level0 col0\" colspan=2>debt</th>        <th class=\"col_heading level0 col2\" >ratio</th>    </tr>    <tr>        <th class=\"blank level1\" ></th>        <th class=\"col_heading level1 col0\" >sum</th>        <th class=\"col_heading level1 col1\" >count</th>        <th class=\"col_heading level1 col2\" ></th>    </tr>    <tr>        <th class=\"index_name level0\" >gender</th>        <th class=\"blank\" ></th>        <th class=\"blank\" ></th>        <th class=\"blank\" ></th>    </tr></thead><tbody>\n",
       "                <tr>\n",
       "                        <th id=\"T_205927b2_6306_11ec_bb32_02420a398743level0_row0\" class=\"row_heading level0 row0\" >F</th>\n",
       "                        <td id=\"T_205927b2_6306_11ec_bb32_02420a398743row0_col0\" class=\"data row0 col0\" >994</td>\n",
       "                        <td id=\"T_205927b2_6306_11ec_bb32_02420a398743row0_col1\" class=\"data row0 col1\" >14174</td>\n",
       "                        <td id=\"T_205927b2_6306_11ec_bb32_02420a398743row0_col2\" class=\"data row0 col2\" >7.01%</td>\n",
       "            </tr>\n",
       "            <tr>\n",
       "                        <th id=\"T_205927b2_6306_11ec_bb32_02420a398743level0_row1\" class=\"row_heading level0 row1\" >M</th>\n",
       "                        <td id=\"T_205927b2_6306_11ec_bb32_02420a398743row1_col0\" class=\"data row1 col0\" >747</td>\n",
       "                        <td id=\"T_205927b2_6306_11ec_bb32_02420a398743row1_col1\" class=\"data row1 col1\" >7279</td>\n",
       "                        <td id=\"T_205927b2_6306_11ec_bb32_02420a398743row1_col2\" class=\"data row1 col2\" >10.26%</td>\n",
       "            </tr>\n",
       "    </tbody></table>"
      ],
      "text/plain": [
       "<pandas.io.formats.style.Styler at 0x7f0fa57d7f10>"
      ]
     },
     "metadata": {},
     "output_type": "display_data"
    }
   ],
   "source": [
    "#create a pivot table and a new column in it\n",
    "data_gender = data.groupby('gender').agg({'debt': ['sum','count']})\n",
    "data_gender['ratio'] = data_gender['debt']['sum']/data_gender['debt']['count']*100\n",
    "display(data_gender.sort_values(by = 'ratio').style.format({('ratio', ''):'{:.2f}%'}))"
   ]
  },
  {
   "cell_type": "markdown",
   "metadata": {},
   "source": [
    "Men are less likely to repay their loans on time than women. Among the borrowers the number of women is 2 times more than men."
   ]
  },
  {
   "cell_type": "markdown",
   "metadata": {},
   "source": [
    "#### Does the level of education affect the repayment of the loan on time?"
   ]
  },
  {
   "cell_type": "code",
   "execution_count": 32,
   "metadata": {
    "scrolled": true
   },
   "outputs": [
    {
     "data": {
      "text/html": [
       "<style  type=\"text/css\" >\n",
       "</style><table id=\"T_205d7902_6306_11ec_bb32_02420a398743\" ><thead>    <tr>        <th class=\"blank level0\" ></th>        <th class=\"col_heading level0 col0\" colspan=2>debt</th>        <th class=\"col_heading level0 col2\" >ratio</th>    </tr>    <tr>        <th class=\"blank level1\" ></th>        <th class=\"col_heading level1 col0\" >sum</th>        <th class=\"col_heading level1 col1\" >count</th>        <th class=\"col_heading level1 col2\" ></th>    </tr>    <tr>        <th class=\"index_name level0\" >education</th>        <th class=\"blank\" ></th>        <th class=\"blank\" ></th>        <th class=\"blank\" ></th>    </tr></thead><tbody>\n",
       "                <tr>\n",
       "                        <th id=\"T_205d7902_6306_11ec_bb32_02420a398743level0_row0\" class=\"row_heading level0 row0\" >ученая степень</th>\n",
       "                        <td id=\"T_205d7902_6306_11ec_bb32_02420a398743row0_col0\" class=\"data row0 col0\" >0</td>\n",
       "                        <td id=\"T_205d7902_6306_11ec_bb32_02420a398743row0_col1\" class=\"data row0 col1\" >6</td>\n",
       "                        <td id=\"T_205d7902_6306_11ec_bb32_02420a398743row0_col2\" class=\"data row0 col2\" >0.00%</td>\n",
       "            </tr>\n",
       "            <tr>\n",
       "                        <th id=\"T_205d7902_6306_11ec_bb32_02420a398743level0_row1\" class=\"row_heading level0 row1\" >высшее</th>\n",
       "                        <td id=\"T_205d7902_6306_11ec_bb32_02420a398743row1_col0\" class=\"data row1 col0\" >278</td>\n",
       "                        <td id=\"T_205d7902_6306_11ec_bb32_02420a398743row1_col1\" class=\"data row1 col1\" >5250</td>\n",
       "                        <td id=\"T_205d7902_6306_11ec_bb32_02420a398743row1_col2\" class=\"data row1 col2\" >5.30%</td>\n",
       "            </tr>\n",
       "            <tr>\n",
       "                        <th id=\"T_205d7902_6306_11ec_bb32_02420a398743level0_row2\" class=\"row_heading level0 row2\" >среднее</th>\n",
       "                        <td id=\"T_205d7902_6306_11ec_bb32_02420a398743row2_col0\" class=\"data row2 col0\" >1364</td>\n",
       "                        <td id=\"T_205d7902_6306_11ec_bb32_02420a398743row2_col1\" class=\"data row2 col1\" >15172</td>\n",
       "                        <td id=\"T_205d7902_6306_11ec_bb32_02420a398743row2_col2\" class=\"data row2 col2\" >8.99%</td>\n",
       "            </tr>\n",
       "            <tr>\n",
       "                        <th id=\"T_205d7902_6306_11ec_bb32_02420a398743level0_row3\" class=\"row_heading level0 row3\" >неоконченное высшее</th>\n",
       "                        <td id=\"T_205d7902_6306_11ec_bb32_02420a398743row3_col0\" class=\"data row3 col0\" >68</td>\n",
       "                        <td id=\"T_205d7902_6306_11ec_bb32_02420a398743row3_col1\" class=\"data row3 col1\" >743</td>\n",
       "                        <td id=\"T_205d7902_6306_11ec_bb32_02420a398743row3_col2\" class=\"data row3 col2\" >9.15%</td>\n",
       "            </tr>\n",
       "            <tr>\n",
       "                        <th id=\"T_205d7902_6306_11ec_bb32_02420a398743level0_row4\" class=\"row_heading level0 row4\" >начальное</th>\n",
       "                        <td id=\"T_205d7902_6306_11ec_bb32_02420a398743row4_col0\" class=\"data row4 col0\" >31</td>\n",
       "                        <td id=\"T_205d7902_6306_11ec_bb32_02420a398743row4_col1\" class=\"data row4 col1\" >282</td>\n",
       "                        <td id=\"T_205d7902_6306_11ec_bb32_02420a398743row4_col2\" class=\"data row4 col2\" >10.99%</td>\n",
       "            </tr>\n",
       "    </tbody></table>"
      ],
      "text/plain": [
       "<pandas.io.formats.style.Styler at 0x7f0fc2038810>"
      ]
     },
     "metadata": {},
     "output_type": "display_data"
    }
   ],
   "source": [
    "#create a pivot table and a new column in it\n",
    "data_education = data.groupby('education').agg({'debt': ['sum','count']})\n",
    "data_education['ratio'] = data_education['debt']['sum']/data_education['debt']['count']*100\n",
    "display(data_education.sort_values(by = 'ratio').style.format({('ratio', ''):'{:.2f}%'}))"
   ]
  },
  {
   "cell_type": "markdown",
   "metadata": {},
   "source": [
    "People with the degree are more likely to repay the loan on time than people without."
   ]
  },
  {
   "cell_type": "code",
   "execution_count": null,
   "metadata": {},
   "outputs": [],
   "source": []
  }
 ],
 "metadata": {
  "ExecuteTimeLog": [
   {
    "duration": 988,
    "start_time": "2021-12-12T13:28:32.359Z"
   },
   {
    "duration": 28,
    "start_time": "2021-12-12T13:30:02.828Z"
   },
   {
    "duration": 21,
    "start_time": "2021-12-12T13:52:55.944Z"
   },
   {
    "duration": 33,
    "start_time": "2021-12-12T13:55:33.356Z"
   },
   {
    "duration": 51,
    "start_time": "2021-12-12T13:56:10.193Z"
   },
   {
    "duration": 29,
    "start_time": "2021-12-12T14:19:14.976Z"
   },
   {
    "duration": 822,
    "start_time": "2021-12-12T14:19:35.930Z"
   },
   {
    "duration": 34,
    "start_time": "2021-12-12T14:19:36.755Z"
   },
   {
    "duration": 24,
    "start_time": "2021-12-12T14:21:34.594Z"
   },
   {
    "duration": 38,
    "start_time": "2021-12-12T14:29:16.642Z"
   },
   {
    "duration": 22,
    "start_time": "2021-12-12T14:29:53.645Z"
   },
   {
    "duration": 226,
    "start_time": "2021-12-12T14:30:46.295Z"
   },
   {
    "duration": 8,
    "start_time": "2021-12-12T14:30:58.921Z"
   },
   {
    "duration": 860,
    "start_time": "2021-12-12T14:32:44.597Z"
   },
   {
    "duration": 31,
    "start_time": "2021-12-12T14:32:45.459Z"
   },
   {
    "duration": 8,
    "start_time": "2021-12-12T14:32:45.494Z"
   },
   {
    "duration": 21,
    "start_time": "2021-12-12T14:38:14.626Z"
   },
   {
    "duration": 33,
    "start_time": "2021-12-12T14:53:45.124Z"
   },
   {
    "duration": 27,
    "start_time": "2021-12-12T14:55:13.826Z"
   },
   {
    "duration": 31,
    "start_time": "2021-12-12T14:55:57.174Z"
   },
   {
    "duration": 20,
    "start_time": "2021-12-12T14:59:18.044Z"
   },
   {
    "duration": 838,
    "start_time": "2021-12-12T14:59:25.481Z"
   },
   {
    "duration": 29,
    "start_time": "2021-12-12T14:59:26.321Z"
   },
   {
    "duration": 22,
    "start_time": "2021-12-12T14:59:26.353Z"
   },
   {
    "duration": 40,
    "start_time": "2021-12-12T14:59:26.378Z"
   },
   {
    "duration": 23,
    "start_time": "2021-12-12T15:03:28.092Z"
   },
   {
    "duration": 18,
    "start_time": "2021-12-12T15:03:47.147Z"
   },
   {
    "duration": 17,
    "start_time": "2021-12-12T15:05:30.991Z"
   },
   {
    "duration": 25,
    "start_time": "2021-12-12T15:05:42.381Z"
   },
   {
    "duration": 777,
    "start_time": "2021-12-12T15:16:21.357Z"
   },
   {
    "duration": 29,
    "start_time": "2021-12-12T15:16:22.137Z"
   },
   {
    "duration": 22,
    "start_time": "2021-12-12T15:16:22.168Z"
   },
   {
    "duration": 29,
    "start_time": "2021-12-12T15:16:22.192Z"
   },
   {
    "duration": 1685,
    "start_time": "2021-12-12T15:16:22.224Z"
   },
   {
    "duration": 848,
    "start_time": "2021-12-12T15:17:29.908Z"
   },
   {
    "duration": 29,
    "start_time": "2021-12-12T15:17:30.759Z"
   },
   {
    "duration": 37,
    "start_time": "2021-12-12T15:17:30.790Z"
   },
   {
    "duration": 6,
    "start_time": "2021-12-12T15:17:30.830Z"
   },
   {
    "duration": 1737,
    "start_time": "2021-12-12T15:17:30.838Z"
   },
   {
    "duration": 844,
    "start_time": "2021-12-12T15:18:14.210Z"
   },
   {
    "duration": 30,
    "start_time": "2021-12-12T15:18:15.057Z"
   },
   {
    "duration": 44,
    "start_time": "2021-12-12T15:18:15.091Z"
   },
   {
    "duration": 16,
    "start_time": "2021-12-12T15:18:15.137Z"
   },
   {
    "duration": 2078,
    "start_time": "2021-12-12T15:18:15.156Z"
   },
   {
    "duration": 902,
    "start_time": "2021-12-12T15:22:18.891Z"
   },
   {
    "duration": 30,
    "start_time": "2021-12-12T15:22:19.795Z"
   },
   {
    "duration": 22,
    "start_time": "2021-12-12T15:22:19.828Z"
   },
   {
    "duration": 9,
    "start_time": "2021-12-12T15:22:19.852Z"
   },
   {
    "duration": 848,
    "start_time": "2021-12-12T15:36:20.475Z"
   },
   {
    "duration": 27,
    "start_time": "2021-12-12T15:36:21.326Z"
   },
   {
    "duration": 20,
    "start_time": "2021-12-12T15:36:21.356Z"
   },
   {
    "duration": 6,
    "start_time": "2021-12-12T15:36:21.379Z"
   },
   {
    "duration": 9,
    "start_time": "2021-12-12T15:36:21.417Z"
   },
   {
    "duration": 20,
    "start_time": "2021-12-12T16:07:51.953Z"
   },
   {
    "duration": 18,
    "start_time": "2021-12-12T16:09:38.982Z"
   },
   {
    "duration": 19,
    "start_time": "2021-12-12T16:09:55.614Z"
   },
   {
    "duration": 924,
    "start_time": "2021-12-12T16:10:08.459Z"
   },
   {
    "duration": 19,
    "start_time": "2021-12-12T16:10:16.638Z"
   },
   {
    "duration": 887,
    "start_time": "2021-12-12T16:35:44.852Z"
   },
   {
    "duration": 32,
    "start_time": "2021-12-12T16:35:45.742Z"
   },
   {
    "duration": 51,
    "start_time": "2021-12-12T16:35:45.782Z"
   },
   {
    "duration": 7,
    "start_time": "2021-12-12T16:35:45.835Z"
   },
   {
    "duration": 20,
    "start_time": "2021-12-12T16:35:45.845Z"
   },
   {
    "duration": 12,
    "start_time": "2021-12-12T16:35:45.868Z"
   },
   {
    "duration": 13,
    "start_time": "2021-12-12T16:37:17.259Z"
   },
   {
    "duration": -1696,
    "start_time": "2021-12-12T18:03:11.082Z"
   },
   {
    "duration": 7669,
    "start_time": "2021-12-12T18:03:23.377Z"
   },
   {
    "duration": 859,
    "start_time": "2021-12-12T18:03:34.404Z"
   },
   {
    "duration": 27,
    "start_time": "2021-12-12T18:03:35.266Z"
   },
   {
    "duration": 38,
    "start_time": "2021-12-12T18:03:35.296Z"
   },
   {
    "duration": 6,
    "start_time": "2021-12-12T18:03:35.336Z"
   },
   {
    "duration": 22,
    "start_time": "2021-12-12T18:03:35.344Z"
   },
   {
    "duration": 9257,
    "start_time": "2021-12-12T18:03:35.368Z"
   },
   {
    "duration": 47,
    "start_time": "2021-12-12T18:05:00.285Z"
   },
   {
    "duration": 36,
    "start_time": "2021-12-12T18:05:00.298Z"
   },
   {
    "duration": 488,
    "start_time": "2021-12-12T18:05:11.652Z"
   },
   {
    "duration": 861,
    "start_time": "2021-12-12T18:05:15.197Z"
   },
   {
    "duration": 29,
    "start_time": "2021-12-12T18:05:16.061Z"
   },
   {
    "duration": 49,
    "start_time": "2021-12-12T18:05:16.093Z"
   },
   {
    "duration": 8,
    "start_time": "2021-12-12T18:05:16.145Z"
   },
   {
    "duration": 27,
    "start_time": "2021-12-12T18:05:16.156Z"
   },
   {
    "duration": 19,
    "start_time": "2021-12-12T18:07:48.891Z"
   },
   {
    "duration": 9274,
    "start_time": "2021-12-12T18:08:02.169Z"
   },
   {
    "duration": 8257,
    "start_time": "2021-12-12T18:11:53.674Z"
   },
   {
    "duration": 9,
    "start_time": "2021-12-12T18:12:15.725Z"
   },
   {
    "duration": 9815,
    "start_time": "2021-12-12T18:12:27.533Z"
   },
   {
    "duration": 9385,
    "start_time": "2021-12-12T18:14:48.743Z"
   },
   {
    "duration": 906,
    "start_time": "2021-12-12T18:15:58.609Z"
   },
   {
    "duration": 30,
    "start_time": "2021-12-12T18:15:59.518Z"
   },
   {
    "duration": 23,
    "start_time": "2021-12-12T18:15:59.552Z"
   },
   {
    "duration": 7,
    "start_time": "2021-12-12T18:15:59.579Z"
   },
   {
    "duration": 656,
    "start_time": "2021-12-15T16:42:35.778Z"
   },
   {
    "duration": 21,
    "start_time": "2021-12-15T16:42:36.436Z"
   },
   {
    "duration": 6,
    "start_time": "2021-12-15T16:42:36.459Z"
   },
   {
    "duration": 327,
    "start_time": "2021-12-15T16:42:36.467Z"
   },
   {
    "duration": 82,
    "start_time": "2021-12-15T17:18:32.870Z"
   },
   {
    "duration": 20,
    "start_time": "2021-12-15T17:18:32.954Z"
   },
   {
    "duration": 30,
    "start_time": "2021-12-15T17:18:32.977Z"
   },
   {
    "duration": 359,
    "start_time": "2021-12-15T17:18:33.009Z"
   },
   {
    "duration": 1235,
    "start_time": "2021-12-15T17:48:07.029Z"
   },
   {
    "duration": 66,
    "start_time": "2021-12-15T17:48:08.266Z"
   },
   {
    "duration": 15,
    "start_time": "2021-12-15T17:48:08.334Z"
   },
   {
    "duration": 13,
    "start_time": "2021-12-15T17:48:08.351Z"
   },
   {
    "duration": 354,
    "start_time": "2021-12-15T17:48:08.366Z"
   },
   {
    "duration": 61,
    "start_time": "2021-12-15T17:48:32.192Z"
   },
   {
    "duration": 82,
    "start_time": "2021-12-15T17:49:03.479Z"
   },
   {
    "duration": 86,
    "start_time": "2021-12-15T17:49:25.566Z"
   },
   {
    "duration": 1200,
    "start_time": "2021-12-15T17:51:06.538Z"
   },
   {
    "duration": 61,
    "start_time": "2021-12-15T17:51:07.740Z"
   },
   {
    "duration": 35,
    "start_time": "2021-12-15T17:51:07.802Z"
   },
   {
    "duration": 32,
    "start_time": "2021-12-15T17:51:07.839Z"
   },
   {
    "duration": 15,
    "start_time": "2021-12-15T18:13:33.541Z"
   },
   {
    "duration": 1299,
    "start_time": "2021-12-15T18:13:49.437Z"
   },
   {
    "duration": 61,
    "start_time": "2021-12-15T18:13:50.738Z"
   },
   {
    "duration": 36,
    "start_time": "2021-12-15T18:13:50.801Z"
   },
   {
    "duration": 30,
    "start_time": "2021-12-15T18:13:50.839Z"
   },
   {
    "duration": 31,
    "start_time": "2021-12-15T18:13:50.871Z"
   },
   {
    "duration": 65,
    "start_time": "2021-12-15T18:15:16.663Z"
   },
   {
    "duration": 84,
    "start_time": "2021-12-15T18:19:20.291Z"
   },
   {
    "duration": 10,
    "start_time": "2021-12-15T18:20:08.855Z"
   },
   {
    "duration": 9,
    "start_time": "2021-12-15T18:20:23.322Z"
   },
   {
    "duration": 7,
    "start_time": "2021-12-15T18:20:31.025Z"
   },
   {
    "duration": 1432,
    "start_time": "2021-12-15T18:27:33.431Z"
   },
   {
    "duration": 60,
    "start_time": "2021-12-15T18:27:34.866Z"
   },
   {
    "duration": 36,
    "start_time": "2021-12-15T18:27:34.928Z"
   },
   {
    "duration": 13,
    "start_time": "2021-12-15T18:27:34.966Z"
   },
   {
    "duration": 8,
    "start_time": "2021-12-15T18:27:34.980Z"
   },
   {
    "duration": 7,
    "start_time": "2021-12-15T18:31:39.439Z"
   },
   {
    "duration": 1500,
    "start_time": "2021-12-16T10:22:28.942Z"
   },
   {
    "duration": 63,
    "start_time": "2021-12-16T10:22:30.445Z"
   },
   {
    "duration": 40,
    "start_time": "2021-12-16T10:22:30.511Z"
   },
   {
    "duration": 15,
    "start_time": "2021-12-16T10:22:30.553Z"
   },
   {
    "duration": 107,
    "start_time": "2021-12-16T10:22:30.571Z"
   },
   {
    "duration": 21,
    "start_time": "2021-12-16T10:22:30.681Z"
   },
   {
    "duration": 4,
    "start_time": "2021-12-16T10:23:22.070Z"
   },
   {
    "duration": 4,
    "start_time": "2021-12-16T10:26:45.385Z"
   },
   {
    "duration": 5,
    "start_time": "2021-12-16T10:26:47.304Z"
   },
   {
    "duration": 4,
    "start_time": "2021-12-16T10:26:57.210Z"
   },
   {
    "duration": 6,
    "start_time": "2021-12-16T10:39:01.138Z"
   },
   {
    "duration": 14,
    "start_time": "2021-12-16T10:39:21.534Z"
   },
   {
    "duration": 1273,
    "start_time": "2021-12-16T10:40:41.203Z"
   },
   {
    "duration": 59,
    "start_time": "2021-12-16T10:40:42.478Z"
   },
   {
    "duration": 38,
    "start_time": "2021-12-16T10:40:42.540Z"
   },
   {
    "duration": 13,
    "start_time": "2021-12-16T10:40:42.580Z"
   },
   {
    "duration": 6,
    "start_time": "2021-12-16T10:40:42.606Z"
   },
   {
    "duration": 4,
    "start_time": "2021-12-16T10:40:42.613Z"
   },
   {
    "duration": 5,
    "start_time": "2021-12-16T10:40:42.619Z"
   },
   {
    "duration": 6,
    "start_time": "2021-12-16T10:40:42.626Z"
   },
   {
    "duration": 4,
    "start_time": "2021-12-16T10:40:42.634Z"
   },
   {
    "duration": 5,
    "start_time": "2021-12-16T10:41:07.984Z"
   },
   {
    "duration": 8,
    "start_time": "2021-12-16T10:42:54.642Z"
   },
   {
    "duration": 1221,
    "start_time": "2021-12-16T10:44:04.374Z"
   },
   {
    "duration": 60,
    "start_time": "2021-12-16T10:44:05.597Z"
   },
   {
    "duration": 46,
    "start_time": "2021-12-16T10:44:05.662Z"
   },
   {
    "duration": 14,
    "start_time": "2021-12-16T10:44:05.710Z"
   },
   {
    "duration": 10,
    "start_time": "2021-12-16T10:44:05.726Z"
   },
   {
    "duration": 10,
    "start_time": "2021-12-16T10:44:05.738Z"
   },
   {
    "duration": 4,
    "start_time": "2021-12-16T10:44:05.750Z"
   },
   {
    "duration": 4,
    "start_time": "2021-12-16T10:44:05.756Z"
   },
   {
    "duration": 4,
    "start_time": "2021-12-16T10:44:05.762Z"
   },
   {
    "duration": 4,
    "start_time": "2021-12-16T10:44:31.535Z"
   },
   {
    "duration": 489,
    "start_time": "2021-12-16T10:44:57.456Z"
   },
   {
    "duration": 5,
    "start_time": "2021-12-16T10:45:35.209Z"
   },
   {
    "duration": 361,
    "start_time": "2021-12-16T10:48:48.670Z"
   },
   {
    "duration": 12,
    "start_time": "2021-12-16T10:49:06.165Z"
   },
   {
    "duration": 18,
    "start_time": "2021-12-16T10:49:12.701Z"
   },
   {
    "duration": 113,
    "start_time": "2021-12-16T10:56:07.201Z"
   },
   {
    "duration": 21,
    "start_time": "2021-12-16T11:00:21.760Z"
   },
   {
    "duration": 23,
    "start_time": "2021-12-16T11:00:28.090Z"
   },
   {
    "duration": 1273,
    "start_time": "2021-12-16T11:01:01.437Z"
   },
   {
    "duration": 64,
    "start_time": "2021-12-16T11:01:02.712Z"
   },
   {
    "duration": 45,
    "start_time": "2021-12-16T11:01:02.779Z"
   },
   {
    "duration": 14,
    "start_time": "2021-12-16T11:01:02.827Z"
   },
   {
    "duration": 6,
    "start_time": "2021-12-16T11:01:02.843Z"
   },
   {
    "duration": 7,
    "start_time": "2021-12-16T11:01:02.851Z"
   },
   {
    "duration": 4,
    "start_time": "2021-12-16T11:01:02.860Z"
   },
   {
    "duration": 4,
    "start_time": "2021-12-16T11:01:02.866Z"
   },
   {
    "duration": 36,
    "start_time": "2021-12-16T11:01:02.872Z"
   },
   {
    "duration": 31,
    "start_time": "2021-12-16T11:01:02.910Z"
   },
   {
    "duration": 8,
    "start_time": "2021-12-16T11:03:33.289Z"
   },
   {
    "duration": 7,
    "start_time": "2021-12-16T11:03:38.376Z"
   },
   {
    "duration": 1242,
    "start_time": "2021-12-16T11:06:19.952Z"
   },
   {
    "duration": 62,
    "start_time": "2021-12-16T11:06:21.196Z"
   },
   {
    "duration": 51,
    "start_time": "2021-12-16T11:06:21.263Z"
   },
   {
    "duration": 13,
    "start_time": "2021-12-16T11:06:21.316Z"
   },
   {
    "duration": 8,
    "start_time": "2021-12-16T11:06:21.331Z"
   },
   {
    "duration": 8,
    "start_time": "2021-12-16T11:06:21.341Z"
   },
   {
    "duration": 4,
    "start_time": "2021-12-16T11:06:21.351Z"
   },
   {
    "duration": 5,
    "start_time": "2021-12-16T11:06:21.357Z"
   },
   {
    "duration": 44,
    "start_time": "2021-12-16T11:06:21.364Z"
   },
   {
    "duration": 7,
    "start_time": "2021-12-16T11:06:21.410Z"
   },
   {
    "duration": 1281,
    "start_time": "2021-12-16T11:11:49.105Z"
   },
   {
    "duration": 64,
    "start_time": "2021-12-16T11:11:50.388Z"
   },
   {
    "duration": 36,
    "start_time": "2021-12-16T11:11:50.455Z"
   },
   {
    "duration": 22,
    "start_time": "2021-12-16T11:11:50.494Z"
   },
   {
    "duration": 9,
    "start_time": "2021-12-16T11:11:50.518Z"
   },
   {
    "duration": 10,
    "start_time": "2021-12-16T11:11:50.529Z"
   },
   {
    "duration": 4,
    "start_time": "2021-12-16T11:11:50.541Z"
   },
   {
    "duration": 9,
    "start_time": "2021-12-16T11:11:50.548Z"
   },
   {
    "duration": 7,
    "start_time": "2021-12-16T11:11:50.559Z"
   },
   {
    "duration": 50,
    "start_time": "2021-12-16T11:11:50.567Z"
   },
   {
    "duration": 23,
    "start_time": "2021-12-16T11:12:01.600Z"
   },
   {
    "duration": 1279,
    "start_time": "2021-12-16T11:18:12.324Z"
   },
   {
    "duration": 62,
    "start_time": "2021-12-16T11:18:13.607Z"
   },
   {
    "duration": 38,
    "start_time": "2021-12-16T11:18:13.672Z"
   },
   {
    "duration": 14,
    "start_time": "2021-12-16T11:18:13.712Z"
   },
   {
    "duration": 6,
    "start_time": "2021-12-16T11:18:13.728Z"
   },
   {
    "duration": 10,
    "start_time": "2021-12-16T11:18:13.735Z"
   },
   {
    "duration": 4,
    "start_time": "2021-12-16T11:18:13.747Z"
   },
   {
    "duration": 16576,
    "start_time": "2021-12-16T11:18:13.753Z"
   },
   {
    "duration": 439,
    "start_time": "2021-12-16T11:18:30.331Z"
   },
   {
    "duration": -2337,
    "start_time": "2021-12-16T11:18:33.109Z"
   },
   {
    "duration": -2340,
    "start_time": "2021-12-16T11:18:33.114Z"
   },
   {
    "duration": 8,
    "start_time": "2021-12-16T11:18:40.412Z"
   },
   {
    "duration": 5,
    "start_time": "2021-12-16T11:18:51.211Z"
   },
   {
    "duration": 4,
    "start_time": "2021-12-16T11:18:54.715Z"
   },
   {
    "duration": 5,
    "start_time": "2021-12-16T11:18:55.891Z"
   },
   {
    "duration": 1224,
    "start_time": "2021-12-16T11:19:42.965Z"
   },
   {
    "duration": 60,
    "start_time": "2021-12-16T11:19:44.191Z"
   },
   {
    "duration": 52,
    "start_time": "2021-12-16T11:19:44.255Z"
   },
   {
    "duration": 14,
    "start_time": "2021-12-16T11:19:44.309Z"
   },
   {
    "duration": 11,
    "start_time": "2021-12-16T11:19:44.325Z"
   },
   {
    "duration": 7,
    "start_time": "2021-12-16T11:19:44.337Z"
   },
   {
    "duration": 5,
    "start_time": "2021-12-16T11:19:44.347Z"
   },
   {
    "duration": 16693,
    "start_time": "2021-12-16T11:19:44.354Z"
   },
   {
    "duration": 6,
    "start_time": "2021-12-16T11:20:01.049Z"
   },
   {
    "duration": 11,
    "start_time": "2021-12-16T11:20:01.057Z"
   },
   {
    "duration": 17,
    "start_time": "2021-12-16T11:20:01.069Z"
   },
   {
    "duration": 8,
    "start_time": "2021-12-16T11:29:45.042Z"
   },
   {
    "duration": 12,
    "start_time": "2021-12-16T11:30:51.082Z"
   },
   {
    "duration": 18,
    "start_time": "2021-12-16T11:30:56.594Z"
   },
   {
    "duration": 19,
    "start_time": "2021-12-16T11:31:53.621Z"
   },
   {
    "duration": 1301,
    "start_time": "2021-12-16T11:32:29.566Z"
   },
   {
    "duration": 60,
    "start_time": "2021-12-16T11:32:30.870Z"
   },
   {
    "duration": 38,
    "start_time": "2021-12-16T11:32:30.933Z"
   },
   {
    "duration": 14,
    "start_time": "2021-12-16T11:32:30.973Z"
   },
   {
    "duration": 23,
    "start_time": "2021-12-16T11:32:30.989Z"
   },
   {
    "duration": 13,
    "start_time": "2021-12-16T11:32:31.014Z"
   },
   {
    "duration": 5,
    "start_time": "2021-12-16T11:32:31.030Z"
   },
   {
    "duration": 20,
    "start_time": "2021-12-16T11:32:31.038Z"
   },
   {
    "duration": 11,
    "start_time": "2021-12-16T11:32:31.061Z"
   },
   {
    "duration": 8,
    "start_time": "2021-12-16T11:32:31.075Z"
   },
   {
    "duration": 20,
    "start_time": "2021-12-16T11:32:31.086Z"
   },
   {
    "duration": 28,
    "start_time": "2021-12-16T11:32:31.108Z"
   },
   {
    "duration": 19,
    "start_time": "2021-12-16T11:34:34.136Z"
   },
   {
    "duration": 1314,
    "start_time": "2021-12-16T11:43:34.276Z"
   },
   {
    "duration": 62,
    "start_time": "2021-12-16T11:43:35.592Z"
   },
   {
    "duration": 36,
    "start_time": "2021-12-16T11:43:35.656Z"
   },
   {
    "duration": 23,
    "start_time": "2021-12-16T11:43:35.695Z"
   },
   {
    "duration": 10,
    "start_time": "2021-12-16T11:43:35.720Z"
   },
   {
    "duration": 8,
    "start_time": "2021-12-16T11:43:35.731Z"
   },
   {
    "duration": 6,
    "start_time": "2021-12-16T11:43:35.741Z"
   },
   {
    "duration": 15930,
    "start_time": "2021-12-16T11:43:35.749Z"
   },
   {
    "duration": 5,
    "start_time": "2021-12-16T11:43:51.681Z"
   },
   {
    "duration": 18,
    "start_time": "2021-12-16T11:43:51.688Z"
   },
   {
    "duration": 5,
    "start_time": "2021-12-16T11:43:51.708Z"
   },
   {
    "duration": 9,
    "start_time": "2021-12-16T11:43:51.715Z"
   },
   {
    "duration": 1269,
    "start_time": "2021-12-16T11:51:29.714Z"
   },
   {
    "duration": 62,
    "start_time": "2021-12-16T11:51:30.986Z"
   },
   {
    "duration": 40,
    "start_time": "2021-12-16T11:51:31.050Z"
   },
   {
    "duration": 14,
    "start_time": "2021-12-16T11:51:31.106Z"
   },
   {
    "duration": 20,
    "start_time": "2021-12-16T11:51:31.123Z"
   },
   {
    "duration": 10,
    "start_time": "2021-12-16T11:51:31.145Z"
   },
   {
    "duration": 18,
    "start_time": "2021-12-16T11:51:31.157Z"
   },
   {
    "duration": 2,
    "start_time": "2021-12-16T11:51:31.178Z"
   },
   {
    "duration": 5,
    "start_time": "2021-12-16T11:51:31.182Z"
   },
   {
    "duration": 20,
    "start_time": "2021-12-16T11:51:31.189Z"
   },
   {
    "duration": 9,
    "start_time": "2021-12-16T11:51:31.211Z"
   },
   {
    "duration": 6,
    "start_time": "2021-12-16T11:51:31.222Z"
   },
   {
    "duration": 9,
    "start_time": "2021-12-16T11:52:51.901Z"
   },
   {
    "duration": 1149,
    "start_time": "2021-12-16T11:56:49.859Z"
   },
   {
    "duration": 59,
    "start_time": "2021-12-16T11:56:51.010Z"
   },
   {
    "duration": 37,
    "start_time": "2021-12-16T11:56:51.071Z"
   },
   {
    "duration": 13,
    "start_time": "2021-12-16T11:56:51.111Z"
   },
   {
    "duration": 15,
    "start_time": "2021-12-16T11:56:51.126Z"
   },
   {
    "duration": 17,
    "start_time": "2021-12-16T11:56:51.143Z"
   },
   {
    "duration": 3,
    "start_time": "2021-12-16T11:56:51.162Z"
   },
   {
    "duration": 124,
    "start_time": "2021-12-16T11:56:51.168Z"
   },
   {
    "duration": -2290,
    "start_time": "2021-12-16T11:56:53.584Z"
   },
   {
    "duration": -2293,
    "start_time": "2021-12-16T11:56:53.588Z"
   },
   {
    "duration": -2295,
    "start_time": "2021-12-16T11:56:53.591Z"
   },
   {
    "duration": -2295,
    "start_time": "2021-12-16T11:56:53.592Z"
   },
   {
    "duration": 15832,
    "start_time": "2021-12-16T11:57:09.423Z"
   },
   {
    "duration": 5,
    "start_time": "2021-12-16T11:57:27.807Z"
   },
   {
    "duration": 11,
    "start_time": "2021-12-16T11:57:43.615Z"
   },
   {
    "duration": 1253,
    "start_time": "2021-12-16T11:58:53.843Z"
   },
   {
    "duration": 62,
    "start_time": "2021-12-16T11:58:55.098Z"
   },
   {
    "duration": 44,
    "start_time": "2021-12-16T11:58:55.163Z"
   },
   {
    "duration": 15,
    "start_time": "2021-12-16T11:58:55.210Z"
   },
   {
    "duration": 8,
    "start_time": "2021-12-16T11:58:55.227Z"
   },
   {
    "duration": 9,
    "start_time": "2021-12-16T11:58:55.237Z"
   },
   {
    "duration": 5,
    "start_time": "2021-12-16T11:58:55.248Z"
   },
   {
    "duration": 16231,
    "start_time": "2021-12-16T11:58:55.256Z"
   },
   {
    "duration": 6,
    "start_time": "2021-12-16T11:59:11.489Z"
   },
   {
    "duration": 11,
    "start_time": "2021-12-16T11:59:11.497Z"
   },
   {
    "duration": 9,
    "start_time": "2021-12-16T11:59:11.511Z"
   },
   {
    "duration": 9,
    "start_time": "2021-12-16T11:59:11.523Z"
   },
   {
    "duration": 6,
    "start_time": "2021-12-16T11:59:47.300Z"
   },
   {
    "duration": 6,
    "start_time": "2021-12-16T12:00:16.948Z"
   },
   {
    "duration": 1305,
    "start_time": "2021-12-16T12:00:47.213Z"
   },
   {
    "duration": 64,
    "start_time": "2021-12-16T12:00:48.520Z"
   },
   {
    "duration": 41,
    "start_time": "2021-12-16T12:00:48.586Z"
   },
   {
    "duration": 14,
    "start_time": "2021-12-16T12:00:48.629Z"
   },
   {
    "duration": 20,
    "start_time": "2021-12-16T12:00:48.645Z"
   },
   {
    "duration": 70,
    "start_time": "2021-12-16T12:00:48.667Z"
   },
   {
    "duration": 19,
    "start_time": "2021-12-16T12:00:48.739Z"
   },
   {
    "duration": 15752,
    "start_time": "2021-12-16T12:00:48.760Z"
   },
   {
    "duration": 6,
    "start_time": "2021-12-16T12:01:04.515Z"
   },
   {
    "duration": 7,
    "start_time": "2021-12-16T12:01:04.524Z"
   },
   {
    "duration": 7,
    "start_time": "2021-12-16T12:01:04.533Z"
   },
   {
    "duration": 11,
    "start_time": "2021-12-16T12:01:04.541Z"
   },
   {
    "duration": 1292,
    "start_time": "2021-12-16T12:06:06.309Z"
   },
   {
    "duration": 59,
    "start_time": "2021-12-16T12:06:07.606Z"
   },
   {
    "duration": 42,
    "start_time": "2021-12-16T12:06:07.670Z"
   },
   {
    "duration": 15,
    "start_time": "2021-12-16T12:06:07.714Z"
   },
   {
    "duration": 8,
    "start_time": "2021-12-16T12:06:07.730Z"
   },
   {
    "duration": 13,
    "start_time": "2021-12-16T12:06:07.740Z"
   },
   {
    "duration": 4,
    "start_time": "2021-12-16T12:06:07.755Z"
   },
   {
    "duration": 12,
    "start_time": "2021-12-16T12:06:07.760Z"
   },
   {
    "duration": 33,
    "start_time": "2021-12-16T12:06:07.773Z"
   },
   {
    "duration": 4,
    "start_time": "2021-12-16T12:06:07.808Z"
   },
   {
    "duration": 7,
    "start_time": "2021-12-16T12:06:07.813Z"
   },
   {
    "duration": 8,
    "start_time": "2021-12-16T12:06:07.821Z"
   },
   {
    "duration": 20,
    "start_time": "2021-12-16T12:07:04.942Z"
   },
   {
    "duration": 19,
    "start_time": "2021-12-16T12:07:35.262Z"
   },
   {
    "duration": 1293,
    "start_time": "2021-12-16T12:12:52.008Z"
   },
   {
    "duration": 64,
    "start_time": "2021-12-16T12:12:53.302Z"
   },
   {
    "duration": 39,
    "start_time": "2021-12-16T12:12:53.368Z"
   },
   {
    "duration": 14,
    "start_time": "2021-12-16T12:12:53.409Z"
   },
   {
    "duration": 6,
    "start_time": "2021-12-16T12:12:53.425Z"
   },
   {
    "duration": 8,
    "start_time": "2021-12-16T12:12:53.433Z"
   },
   {
    "duration": 3,
    "start_time": "2021-12-16T12:12:53.443Z"
   },
   {
    "duration": 688,
    "start_time": "2021-12-16T12:12:53.448Z"
   },
   {
    "duration": -2285,
    "start_time": "2021-12-16T12:12:56.424Z"
   },
   {
    "duration": -2287,
    "start_time": "2021-12-16T12:12:56.428Z"
   },
   {
    "duration": -2288,
    "start_time": "2021-12-16T12:12:56.430Z"
   },
   {
    "duration": -2294,
    "start_time": "2021-12-16T12:12:56.437Z"
   },
   {
    "duration": 579,
    "start_time": "2021-12-16T12:14:28.056Z"
   },
   {
    "duration": 12,
    "start_time": "2021-12-16T12:17:18.880Z"
   },
   {
    "duration": 6,
    "start_time": "2021-12-16T12:17:23.160Z"
   },
   {
    "duration": 4,
    "start_time": "2021-12-16T12:17:24.384Z"
   },
   {
    "duration": 4,
    "start_time": "2021-12-16T12:17:24.912Z"
   },
   {
    "duration": 8,
    "start_time": "2021-12-16T12:17:54.649Z"
   },
   {
    "duration": 32,
    "start_time": "2021-12-16T12:25:41.187Z"
   },
   {
    "duration": 13,
    "start_time": "2021-12-16T12:25:50.580Z"
   },
   {
    "duration": 6,
    "start_time": "2021-12-16T12:28:00.285Z"
   },
   {
    "duration": 33,
    "start_time": "2021-12-16T12:28:45.949Z"
   },
   {
    "duration": 25,
    "start_time": "2021-12-16T12:29:35.016Z"
   },
   {
    "duration": 23,
    "start_time": "2021-12-16T12:29:42.176Z"
   },
   {
    "duration": 23,
    "start_time": "2021-12-16T12:29:49.838Z"
   },
   {
    "duration": 31,
    "start_time": "2021-12-16T12:30:15.175Z"
   },
   {
    "duration": 19,
    "start_time": "2021-12-16T12:30:22.457Z"
   },
   {
    "duration": 16,
    "start_time": "2021-12-16T12:30:28.480Z"
   },
   {
    "duration": 8,
    "start_time": "2021-12-16T12:30:45.976Z"
   },
   {
    "duration": 6,
    "start_time": "2021-12-16T12:31:55.306Z"
   },
   {
    "duration": 1990,
    "start_time": "2021-12-16T12:35:18.397Z"
   },
   {
    "duration": 60,
    "start_time": "2021-12-16T12:35:20.389Z"
   },
   {
    "duration": 36,
    "start_time": "2021-12-16T12:35:20.452Z"
   },
   {
    "duration": 26,
    "start_time": "2021-12-16T12:35:20.490Z"
   },
   {
    "duration": 7,
    "start_time": "2021-12-16T12:35:20.518Z"
   },
   {
    "duration": 9,
    "start_time": "2021-12-16T12:35:20.527Z"
   },
   {
    "duration": 4,
    "start_time": "2021-12-16T12:35:20.538Z"
   },
   {
    "duration": 12,
    "start_time": "2021-12-16T12:35:20.545Z"
   },
   {
    "duration": 5,
    "start_time": "2021-12-16T12:35:20.559Z"
   },
   {
    "duration": 44,
    "start_time": "2021-12-16T12:35:20.565Z"
   },
   {
    "duration": 6,
    "start_time": "2021-12-16T12:35:20.611Z"
   },
   {
    "duration": 8,
    "start_time": "2021-12-16T12:35:20.619Z"
   },
   {
    "duration": 8,
    "start_time": "2021-12-16T12:35:20.629Z"
   },
   {
    "duration": 7,
    "start_time": "2021-12-16T12:35:20.638Z"
   },
   {
    "duration": 1073,
    "start_time": "2021-12-16T12:35:20.647Z"
   },
   {
    "duration": -2235,
    "start_time": "2021-12-16T12:35:23.957Z"
   },
   {
    "duration": 385,
    "start_time": "2021-12-16T12:35:30.903Z"
   },
   {
    "duration": 7,
    "start_time": "2021-12-16T12:35:37.327Z"
   },
   {
    "duration": 10,
    "start_time": "2021-12-16T12:35:50.719Z"
   },
   {
    "duration": 10,
    "start_time": "2021-12-16T12:36:32.320Z"
   },
   {
    "duration": 11,
    "start_time": "2021-12-16T12:36:38.672Z"
   },
   {
    "duration": 4465,
    "start_time": "2021-12-16T12:50:21.682Z"
   },
   {
    "duration": 5172,
    "start_time": "2021-12-16T12:51:23.234Z"
   },
   {
    "duration": 1228,
    "start_time": "2021-12-16T12:51:40.858Z"
   },
   {
    "duration": 59,
    "start_time": "2021-12-16T12:51:42.088Z"
   },
   {
    "duration": 36,
    "start_time": "2021-12-16T12:51:42.150Z"
   },
   {
    "duration": 20,
    "start_time": "2021-12-16T12:51:42.188Z"
   },
   {
    "duration": 15,
    "start_time": "2021-12-16T12:51:42.210Z"
   },
   {
    "duration": 18,
    "start_time": "2021-12-16T12:51:42.227Z"
   },
   {
    "duration": 12,
    "start_time": "2021-12-16T12:51:42.247Z"
   },
   {
    "duration": 36,
    "start_time": "2021-12-16T12:51:42.262Z"
   },
   {
    "duration": 7,
    "start_time": "2021-12-16T12:51:42.301Z"
   },
   {
    "duration": 22,
    "start_time": "2021-12-16T12:51:42.310Z"
   },
   {
    "duration": 10,
    "start_time": "2021-12-16T12:51:42.334Z"
   },
   {
    "duration": 11,
    "start_time": "2021-12-16T12:51:42.346Z"
   },
   {
    "duration": 19,
    "start_time": "2021-12-16T12:51:42.359Z"
   },
   {
    "duration": 6,
    "start_time": "2021-12-16T12:51:42.380Z"
   },
   {
    "duration": 26,
    "start_time": "2021-12-16T12:51:42.388Z"
   },
   {
    "duration": 13,
    "start_time": "2021-12-16T12:51:42.416Z"
   },
   {
    "duration": 4784,
    "start_time": "2021-12-16T12:51:42.431Z"
   },
   {
    "duration": 4484,
    "start_time": "2021-12-16T12:52:39.743Z"
   },
   {
    "duration": 1214,
    "start_time": "2021-12-16T17:11:26.831Z"
   },
   {
    "duration": 61,
    "start_time": "2021-12-16T17:11:28.047Z"
   },
   {
    "duration": 52,
    "start_time": "2021-12-16T17:11:28.111Z"
   },
   {
    "duration": 15,
    "start_time": "2021-12-16T17:11:28.165Z"
   },
   {
    "duration": 7,
    "start_time": "2021-12-16T17:11:28.182Z"
   },
   {
    "duration": 8,
    "start_time": "2021-12-16T17:11:28.191Z"
   },
   {
    "duration": 6,
    "start_time": "2021-12-16T17:11:28.201Z"
   },
   {
    "duration": 370,
    "start_time": "2021-12-16T17:11:28.209Z"
   },
   {
    "duration": 5,
    "start_time": "2021-12-16T17:11:28.581Z"
   },
   {
    "duration": 5,
    "start_time": "2021-12-16T17:11:28.588Z"
   },
   {
    "duration": 11,
    "start_time": "2021-12-16T17:11:28.595Z"
   },
   {
    "duration": 9,
    "start_time": "2021-12-16T17:11:28.607Z"
   },
   {
    "duration": 10,
    "start_time": "2021-12-16T17:11:28.618Z"
   },
   {
    "duration": 7,
    "start_time": "2021-12-16T17:11:28.629Z"
   },
   {
    "duration": 33,
    "start_time": "2021-12-16T17:11:28.637Z"
   },
   {
    "duration": 11,
    "start_time": "2021-12-16T17:11:28.671Z"
   },
   {
    "duration": 1283,
    "start_time": "2021-12-16T17:15:29.572Z"
   },
   {
    "duration": 61,
    "start_time": "2021-12-16T17:15:30.858Z"
   },
   {
    "duration": 43,
    "start_time": "2021-12-16T17:15:30.921Z"
   },
   {
    "duration": 14,
    "start_time": "2021-12-16T17:15:30.966Z"
   },
   {
    "duration": 11,
    "start_time": "2021-12-16T17:15:30.981Z"
   },
   {
    "duration": 19,
    "start_time": "2021-12-16T17:15:30.994Z"
   },
   {
    "duration": 12,
    "start_time": "2021-12-16T17:15:31.015Z"
   },
   {
    "duration": 359,
    "start_time": "2021-12-16T17:15:31.029Z"
   },
   {
    "duration": 5,
    "start_time": "2021-12-16T17:15:31.390Z"
   },
   {
    "duration": 22,
    "start_time": "2021-12-16T17:15:31.397Z"
   },
   {
    "duration": 11,
    "start_time": "2021-12-16T17:15:31.421Z"
   },
   {
    "duration": 12,
    "start_time": "2021-12-16T17:15:31.433Z"
   },
   {
    "duration": 10,
    "start_time": "2021-12-16T17:15:31.447Z"
   },
   {
    "duration": 10,
    "start_time": "2021-12-16T17:15:31.458Z"
   },
   {
    "duration": 24,
    "start_time": "2021-12-16T17:15:31.470Z"
   },
   {
    "duration": 25,
    "start_time": "2021-12-16T17:15:31.495Z"
   },
   {
    "duration": 7,
    "start_time": "2021-12-16T17:19:02.385Z"
   },
   {
    "duration": 18,
    "start_time": "2021-12-16T17:21:40.044Z"
   },
   {
    "duration": 333,
    "start_time": "2021-12-16T17:26:30.314Z"
   },
   {
    "duration": 365,
    "start_time": "2021-12-16T17:26:35.318Z"
   },
   {
    "duration": 7,
    "start_time": "2021-12-16T17:26:40.607Z"
   },
   {
    "duration": 17,
    "start_time": "2021-12-16T17:26:46.746Z"
   },
   {
    "duration": 1195,
    "start_time": "2021-12-16T17:27:26.635Z"
   },
   {
    "duration": 61,
    "start_time": "2021-12-16T17:27:27.832Z"
   },
   {
    "duration": 37,
    "start_time": "2021-12-16T17:27:27.895Z"
   },
   {
    "duration": 12,
    "start_time": "2021-12-16T17:27:27.934Z"
   },
   {
    "duration": 7,
    "start_time": "2021-12-16T17:27:27.963Z"
   },
   {
    "duration": 8,
    "start_time": "2021-12-16T17:27:27.971Z"
   },
   {
    "duration": 3,
    "start_time": "2021-12-16T17:27:27.981Z"
   },
   {
    "duration": 6482,
    "start_time": "2021-12-16T17:27:27.986Z"
   },
   {
    "duration": -109,
    "start_time": "2021-12-16T17:27:34.579Z"
   },
   {
    "duration": -112,
    "start_time": "2021-12-16T17:27:34.583Z"
   },
   {
    "duration": -114,
    "start_time": "2021-12-16T17:27:34.586Z"
   },
   {
    "duration": -125,
    "start_time": "2021-12-16T17:27:34.598Z"
   },
   {
    "duration": -129,
    "start_time": "2021-12-16T17:27:34.603Z"
   },
   {
    "duration": -132,
    "start_time": "2021-12-16T17:27:34.607Z"
   },
   {
    "duration": -140,
    "start_time": "2021-12-16T17:27:34.617Z"
   },
   {
    "duration": -144,
    "start_time": "2021-12-16T17:27:34.622Z"
   },
   {
    "duration": 326,
    "start_time": "2021-12-16T17:27:56.490Z"
   },
   {
    "duration": 9,
    "start_time": "2021-12-16T17:27:59.040Z"
   },
   {
    "duration": 4,
    "start_time": "2021-12-16T17:28:00.481Z"
   },
   {
    "duration": 5,
    "start_time": "2021-12-16T17:28:01.218Z"
   },
   {
    "duration": 19,
    "start_time": "2021-12-16T17:28:01.792Z"
   },
   {
    "duration": 317,
    "start_time": "2021-12-16T17:28:15.541Z"
   },
   {
    "duration": 7,
    "start_time": "2021-12-16T17:28:16.097Z"
   },
   {
    "duration": 4,
    "start_time": "2021-12-16T17:28:16.788Z"
   },
   {
    "duration": 5,
    "start_time": "2021-12-16T17:28:17.280Z"
   },
   {
    "duration": 17,
    "start_time": "2021-12-16T17:28:18.791Z"
   },
   {
    "duration": 1250,
    "start_time": "2021-12-16T17:28:28.786Z"
   },
   {
    "duration": 60,
    "start_time": "2021-12-16T17:28:30.038Z"
   },
   {
    "duration": 36,
    "start_time": "2021-12-16T17:28:30.100Z"
   },
   {
    "duration": 27,
    "start_time": "2021-12-16T17:28:30.138Z"
   },
   {
    "duration": 6,
    "start_time": "2021-12-16T17:28:30.166Z"
   },
   {
    "duration": 15,
    "start_time": "2021-12-16T17:28:30.173Z"
   },
   {
    "duration": 16,
    "start_time": "2021-12-16T17:28:30.190Z"
   },
   {
    "duration": 560,
    "start_time": "2021-12-16T17:28:30.208Z"
   },
   {
    "duration": -90,
    "start_time": "2021-12-16T17:28:30.860Z"
   },
   {
    "duration": -93,
    "start_time": "2021-12-16T17:28:30.864Z"
   },
   {
    "duration": -96,
    "start_time": "2021-12-16T17:28:30.868Z"
   },
   {
    "duration": -102,
    "start_time": "2021-12-16T17:28:30.875Z"
   },
   {
    "duration": -104,
    "start_time": "2021-12-16T17:28:30.878Z"
   },
   {
    "duration": -110,
    "start_time": "2021-12-16T17:28:30.885Z"
   },
   {
    "duration": -116,
    "start_time": "2021-12-16T17:28:30.892Z"
   },
   {
    "duration": -119,
    "start_time": "2021-12-16T17:28:30.896Z"
   },
   {
    "duration": 1153,
    "start_time": "2021-12-16T17:28:53.387Z"
   },
   {
    "duration": 59,
    "start_time": "2021-12-16T17:28:54.542Z"
   },
   {
    "duration": 36,
    "start_time": "2021-12-16T17:28:54.603Z"
   },
   {
    "duration": 26,
    "start_time": "2021-12-16T17:28:54.641Z"
   },
   {
    "duration": 7,
    "start_time": "2021-12-16T17:28:54.669Z"
   },
   {
    "duration": 8,
    "start_time": "2021-12-16T17:28:54.678Z"
   },
   {
    "duration": 4,
    "start_time": "2021-12-16T17:28:54.688Z"
   },
   {
    "duration": 368,
    "start_time": "2021-12-16T17:28:54.695Z"
   },
   {
    "duration": 7,
    "start_time": "2021-12-16T17:28:55.065Z"
   },
   {
    "duration": 3,
    "start_time": "2021-12-16T17:28:55.074Z"
   },
   {
    "duration": 9,
    "start_time": "2021-12-16T17:28:55.079Z"
   },
   {
    "duration": 20,
    "start_time": "2021-12-16T17:28:55.089Z"
   },
   {
    "duration": 9,
    "start_time": "2021-12-16T17:28:55.110Z"
   },
   {
    "duration": 8,
    "start_time": "2021-12-16T17:28:55.120Z"
   },
   {
    "duration": 38,
    "start_time": "2021-12-16T17:28:55.130Z"
   },
   {
    "duration": 11,
    "start_time": "2021-12-16T17:28:55.170Z"
   },
   {
    "duration": 3558,
    "start_time": "2021-12-16T17:36:06.703Z"
   },
   {
    "duration": 336,
    "start_time": "2021-12-16T17:36:15.448Z"
   },
   {
    "duration": 87,
    "start_time": "2021-12-16T17:37:41.287Z"
   },
   {
    "duration": 328,
    "start_time": "2021-12-16T17:37:46.844Z"
   },
   {
    "duration": 8,
    "start_time": "2021-12-16T17:37:48.901Z"
   },
   {
    "duration": 4,
    "start_time": "2021-12-16T17:37:52.340Z"
   },
   {
    "duration": 5,
    "start_time": "2021-12-16T17:37:52.895Z"
   },
   {
    "duration": 18,
    "start_time": "2021-12-16T17:37:53.880Z"
   },
   {
    "duration": 1137,
    "start_time": "2021-12-16T17:38:01.899Z"
   },
   {
    "duration": 58,
    "start_time": "2021-12-16T17:38:03.038Z"
   },
   {
    "duration": 37,
    "start_time": "2021-12-16T17:38:03.098Z"
   },
   {
    "duration": 27,
    "start_time": "2021-12-16T17:38:03.137Z"
   },
   {
    "duration": 5,
    "start_time": "2021-12-16T17:38:03.166Z"
   },
   {
    "duration": 10,
    "start_time": "2021-12-16T17:38:03.173Z"
   },
   {
    "duration": 3,
    "start_time": "2021-12-16T17:38:03.185Z"
   },
   {
    "duration": 358,
    "start_time": "2021-12-16T17:38:03.190Z"
   },
   {
    "duration": 14,
    "start_time": "2021-12-16T17:38:03.550Z"
   },
   {
    "duration": 15,
    "start_time": "2021-12-16T17:38:03.565Z"
   },
   {
    "duration": 21,
    "start_time": "2021-12-16T17:38:03.582Z"
   },
   {
    "duration": 32,
    "start_time": "2021-12-16T17:38:03.604Z"
   },
   {
    "duration": 12,
    "start_time": "2021-12-16T17:38:03.638Z"
   },
   {
    "duration": 16,
    "start_time": "2021-12-16T17:38:03.652Z"
   },
   {
    "duration": 24,
    "start_time": "2021-12-16T17:38:03.670Z"
   },
   {
    "duration": 16,
    "start_time": "2021-12-16T17:38:03.696Z"
   },
   {
    "duration": 1339,
    "start_time": "2021-12-16T17:45:44.931Z"
   },
   {
    "duration": 60,
    "start_time": "2021-12-16T17:45:46.272Z"
   },
   {
    "duration": 35,
    "start_time": "2021-12-16T17:45:46.334Z"
   },
   {
    "duration": 12,
    "start_time": "2021-12-16T17:45:46.371Z"
   },
   {
    "duration": 6,
    "start_time": "2021-12-16T17:45:46.385Z"
   },
   {
    "duration": 7,
    "start_time": "2021-12-16T17:45:46.393Z"
   },
   {
    "duration": 3,
    "start_time": "2021-12-16T17:45:46.401Z"
   },
   {
    "duration": 91,
    "start_time": "2021-12-16T17:45:46.406Z"
   },
   {
    "duration": -34,
    "start_time": "2021-12-16T17:45:46.533Z"
   },
   {
    "duration": -43,
    "start_time": "2021-12-16T17:45:46.543Z"
   },
   {
    "duration": -46,
    "start_time": "2021-12-16T17:45:46.547Z"
   },
   {
    "duration": -49,
    "start_time": "2021-12-16T17:45:46.551Z"
   },
   {
    "duration": -57,
    "start_time": "2021-12-16T17:45:46.560Z"
   },
   {
    "duration": -60,
    "start_time": "2021-12-16T17:45:46.564Z"
   },
   {
    "duration": -62,
    "start_time": "2021-12-16T17:45:46.567Z"
   },
   {
    "duration": -70,
    "start_time": "2021-12-16T17:45:46.576Z"
   },
   {
    "duration": 83,
    "start_time": "2021-12-16T17:45:57.128Z"
   },
   {
    "duration": 10,
    "start_time": "2021-12-16T17:46:05.215Z"
   },
   {
    "duration": 7,
    "start_time": "2021-12-16T17:46:09.415Z"
   },
   {
    "duration": 16,
    "start_time": "2021-12-16T17:46:35.247Z"
   },
   {
    "duration": 9,
    "start_time": "2021-12-16T17:49:44.802Z"
   },
   {
    "duration": 7,
    "start_time": "2021-12-16T17:49:48.041Z"
   },
   {
    "duration": 4,
    "start_time": "2021-12-16T17:49:49.366Z"
   },
   {
    "duration": 5,
    "start_time": "2021-12-16T17:49:50.125Z"
   },
   {
    "duration": 17,
    "start_time": "2021-12-16T17:49:51.866Z"
   },
   {
    "duration": 1326,
    "start_time": "2021-12-16T17:50:02.787Z"
   },
   {
    "duration": 61,
    "start_time": "2021-12-16T17:50:04.116Z"
   },
   {
    "duration": 39,
    "start_time": "2021-12-16T17:50:04.180Z"
   },
   {
    "duration": 18,
    "start_time": "2021-12-16T17:50:04.222Z"
   },
   {
    "duration": 24,
    "start_time": "2021-12-16T17:50:04.242Z"
   },
   {
    "duration": 7,
    "start_time": "2021-12-16T17:50:04.268Z"
   },
   {
    "duration": 7,
    "start_time": "2021-12-16T17:50:04.277Z"
   },
   {
    "duration": 9,
    "start_time": "2021-12-16T17:50:04.286Z"
   },
   {
    "duration": 7,
    "start_time": "2021-12-16T17:50:04.297Z"
   },
   {
    "duration": 7,
    "start_time": "2021-12-16T17:50:04.305Z"
   },
   {
    "duration": 11,
    "start_time": "2021-12-16T17:50:04.314Z"
   },
   {
    "duration": 43,
    "start_time": "2021-12-16T17:50:04.327Z"
   },
   {
    "duration": 9,
    "start_time": "2021-12-16T17:50:04.372Z"
   },
   {
    "duration": 5,
    "start_time": "2021-12-16T17:50:04.383Z"
   },
   {
    "duration": 16,
    "start_time": "2021-12-16T17:50:04.390Z"
   },
   {
    "duration": 11,
    "start_time": "2021-12-16T17:50:04.408Z"
   },
   {
    "duration": 8,
    "start_time": "2021-12-16T17:51:08.258Z"
   },
   {
    "duration": 8,
    "start_time": "2021-12-16T17:51:16.172Z"
   },
   {
    "duration": 6,
    "start_time": "2021-12-16T17:51:34.812Z"
   },
   {
    "duration": 352,
    "start_time": "2021-12-16T17:52:03.863Z"
   },
   {
    "duration": 7029,
    "start_time": "2021-12-16T17:52:27.871Z"
   },
   {
    "duration": 1123,
    "start_time": "2021-12-16T17:52:44.811Z"
   },
   {
    "duration": 61,
    "start_time": "2021-12-16T17:52:45.936Z"
   },
   {
    "duration": 37,
    "start_time": "2021-12-16T17:52:46.000Z"
   },
   {
    "duration": 31,
    "start_time": "2021-12-16T17:52:46.040Z"
   },
   {
    "duration": 8,
    "start_time": "2021-12-16T17:52:46.073Z"
   },
   {
    "duration": 14,
    "start_time": "2021-12-16T17:52:46.083Z"
   },
   {
    "duration": 3,
    "start_time": "2021-12-16T17:52:46.099Z"
   },
   {
    "duration": 10,
    "start_time": "2021-12-16T17:52:46.105Z"
   },
   {
    "duration": 8339,
    "start_time": "2021-12-16T17:52:46.117Z"
   },
   {
    "duration": -52,
    "start_time": "2021-12-16T17:52:54.510Z"
   },
   {
    "duration": -54,
    "start_time": "2021-12-16T17:52:54.513Z"
   },
   {
    "duration": -57,
    "start_time": "2021-12-16T17:52:54.517Z"
   },
   {
    "duration": -60,
    "start_time": "2021-12-16T17:52:54.521Z"
   },
   {
    "duration": -67,
    "start_time": "2021-12-16T17:52:54.529Z"
   },
   {
    "duration": -70,
    "start_time": "2021-12-16T17:52:54.533Z"
   },
   {
    "duration": -73,
    "start_time": "2021-12-16T17:52:54.537Z"
   },
   {
    "duration": 6,
    "start_time": "2021-12-16T17:53:21.310Z"
   },
   {
    "duration": 5,
    "start_time": "2021-12-16T17:53:27.854Z"
   },
   {
    "duration": 5,
    "start_time": "2021-12-16T17:53:35.836Z"
   },
   {
    "duration": 5,
    "start_time": "2021-12-16T17:55:24.241Z"
   },
   {
    "duration": 6,
    "start_time": "2021-12-16T17:55:56.956Z"
   },
   {
    "duration": 6,
    "start_time": "2021-12-16T17:56:12.063Z"
   },
   {
    "duration": 6,
    "start_time": "2021-12-16T17:56:30.965Z"
   },
   {
    "duration": 8,
    "start_time": "2021-12-16T17:57:57.683Z"
   },
   {
    "duration": 10,
    "start_time": "2021-12-16T17:58:13.396Z"
   },
   {
    "duration": 338,
    "start_time": "2021-12-16T17:59:16.226Z"
   },
   {
    "duration": 7,
    "start_time": "2021-12-16T17:59:36.576Z"
   },
   {
    "duration": 4,
    "start_time": "2021-12-16T17:59:39.254Z"
   },
   {
    "duration": 5,
    "start_time": "2021-12-16T17:59:40.661Z"
   },
   {
    "duration": 17,
    "start_time": "2021-12-16T17:59:41.393Z"
   },
   {
    "duration": 10,
    "start_time": "2021-12-16T18:00:54.436Z"
   },
   {
    "duration": 8,
    "start_time": "2021-12-16T18:01:06.668Z"
   },
   {
    "duration": 6795,
    "start_time": "2021-12-16T18:07:28.927Z"
   },
   {
    "duration": 12,
    "start_time": "2021-12-16T18:09:01.956Z"
   },
   {
    "duration": 13,
    "start_time": "2021-12-16T18:09:19.529Z"
   },
   {
    "duration": 286,
    "start_time": "2021-12-16T18:18:27.331Z"
   },
   {
    "duration": 5,
    "start_time": "2021-12-16T18:18:53.395Z"
   },
   {
    "duration": 1149,
    "start_time": "2021-12-16T18:21:44.306Z"
   },
   {
    "duration": 66,
    "start_time": "2021-12-16T18:21:45.457Z"
   },
   {
    "duration": 37,
    "start_time": "2021-12-16T18:21:45.525Z"
   },
   {
    "duration": 14,
    "start_time": "2021-12-16T18:21:45.564Z"
   },
   {
    "duration": 25,
    "start_time": "2021-12-16T18:21:45.580Z"
   },
   {
    "duration": 33,
    "start_time": "2021-12-16T18:21:45.607Z"
   },
   {
    "duration": 33,
    "start_time": "2021-12-16T18:21:45.642Z"
   },
   {
    "duration": 392,
    "start_time": "2021-12-16T18:21:45.678Z"
   },
   {
    "duration": -56,
    "start_time": "2021-12-16T18:21:46.128Z"
   },
   {
    "duration": -60,
    "start_time": "2021-12-16T18:21:46.133Z"
   },
   {
    "duration": -62,
    "start_time": "2021-12-16T18:21:46.136Z"
   },
   {
    "duration": -64,
    "start_time": "2021-12-16T18:21:46.139Z"
   },
   {
    "duration": -66,
    "start_time": "2021-12-16T18:21:46.142Z"
   },
   {
    "duration": -75,
    "start_time": "2021-12-16T18:21:46.152Z"
   },
   {
    "duration": -78,
    "start_time": "2021-12-16T18:21:46.155Z"
   },
   {
    "duration": -81,
    "start_time": "2021-12-16T18:21:46.159Z"
   },
   {
    "duration": 4,
    "start_time": "2021-12-16T18:22:47.424Z"
   },
   {
    "duration": 262,
    "start_time": "2021-12-16T18:22:51.431Z"
   },
   {
    "duration": 260,
    "start_time": "2021-12-16T18:23:54.243Z"
   },
   {
    "duration": 1206,
    "start_time": "2021-12-16T18:24:02.377Z"
   },
   {
    "duration": 83,
    "start_time": "2021-12-16T18:24:03.585Z"
   },
   {
    "duration": 56,
    "start_time": "2021-12-16T18:24:03.671Z"
   },
   {
    "duration": 20,
    "start_time": "2021-12-16T18:24:03.729Z"
   },
   {
    "duration": 19,
    "start_time": "2021-12-16T18:24:03.751Z"
   },
   {
    "duration": 9,
    "start_time": "2021-12-16T18:24:03.772Z"
   },
   {
    "duration": 4,
    "start_time": "2021-12-16T18:24:03.783Z"
   },
   {
    "duration": 5,
    "start_time": "2021-12-16T18:24:03.790Z"
   },
   {
    "duration": 5,
    "start_time": "2021-12-16T18:24:03.797Z"
   },
   {
    "duration": 6,
    "start_time": "2021-12-16T18:24:03.804Z"
   },
   {
    "duration": 57,
    "start_time": "2021-12-16T18:24:03.812Z"
   },
   {
    "duration": 9,
    "start_time": "2021-12-16T18:24:03.871Z"
   },
   {
    "duration": 8,
    "start_time": "2021-12-16T18:24:03.882Z"
   },
   {
    "duration": 13,
    "start_time": "2021-12-16T18:24:03.892Z"
   },
   {
    "duration": 12,
    "start_time": "2021-12-16T18:24:03.908Z"
   },
   {
    "duration": 346,
    "start_time": "2021-12-16T18:29:31.707Z"
   },
   {
    "duration": 6,
    "start_time": "2021-12-16T18:29:33.697Z"
   },
   {
    "duration": 4,
    "start_time": "2021-12-16T18:29:35.023Z"
   },
   {
    "duration": 5,
    "start_time": "2021-12-16T18:29:35.835Z"
   },
   {
    "duration": 17,
    "start_time": "2021-12-16T18:29:36.791Z"
   },
   {
    "duration": 333,
    "start_time": "2021-12-16T18:30:55.679Z"
   },
   {
    "duration": 5,
    "start_time": "2021-12-16T18:30:57.699Z"
   },
   {
    "duration": 4,
    "start_time": "2021-12-16T18:30:58.425Z"
   },
   {
    "duration": 4,
    "start_time": "2021-12-16T18:30:59.094Z"
   },
   {
    "duration": 18,
    "start_time": "2021-12-16T18:30:59.843Z"
   },
   {
    "duration": 1171,
    "start_time": "2021-12-16T18:31:05.464Z"
   },
   {
    "duration": 59,
    "start_time": "2021-12-16T18:31:06.637Z"
   },
   {
    "duration": 36,
    "start_time": "2021-12-16T18:31:06.700Z"
   },
   {
    "duration": 14,
    "start_time": "2021-12-16T18:31:06.738Z"
   },
   {
    "duration": 8,
    "start_time": "2021-12-16T18:31:06.764Z"
   },
   {
    "duration": 8,
    "start_time": "2021-12-16T18:31:06.774Z"
   },
   {
    "duration": 3,
    "start_time": "2021-12-16T18:31:06.786Z"
   },
   {
    "duration": 372,
    "start_time": "2021-12-16T18:31:06.791Z"
   },
   {
    "duration": 1109,
    "start_time": "2021-12-16T18:31:07.165Z"
   },
   {
    "duration": -46,
    "start_time": "2021-12-16T18:31:08.322Z"
   },
   {
    "duration": -52,
    "start_time": "2021-12-16T18:31:08.330Z"
   },
   {
    "duration": -54,
    "start_time": "2021-12-16T18:31:08.333Z"
   },
   {
    "duration": -56,
    "start_time": "2021-12-16T18:31:08.337Z"
   },
   {
    "duration": -61,
    "start_time": "2021-12-16T18:31:08.343Z"
   },
   {
    "duration": -64,
    "start_time": "2021-12-16T18:31:08.347Z"
   },
   {
    "duration": -65,
    "start_time": "2021-12-16T18:31:08.350Z"
   },
   {
    "duration": 1182,
    "start_time": "2021-12-16T18:35:20.068Z"
   },
   {
    "duration": -50,
    "start_time": "2021-12-16T18:35:21.303Z"
   },
   {
    "duration": 1270,
    "start_time": "2021-12-16T18:35:31.555Z"
   },
   {
    "duration": 58,
    "start_time": "2021-12-16T18:35:32.827Z"
   },
   {
    "duration": 36,
    "start_time": "2021-12-16T18:35:32.887Z"
   },
   {
    "duration": 13,
    "start_time": "2021-12-16T18:35:32.925Z"
   },
   {
    "duration": 25,
    "start_time": "2021-12-16T18:35:32.940Z"
   },
   {
    "duration": 7,
    "start_time": "2021-12-16T18:35:32.966Z"
   },
   {
    "duration": 9,
    "start_time": "2021-12-16T18:35:32.975Z"
   },
   {
    "duration": 359,
    "start_time": "2021-12-16T18:35:32.986Z"
   },
   {
    "duration": 5,
    "start_time": "2021-12-16T18:35:33.347Z"
   },
   {
    "duration": 3,
    "start_time": "2021-12-16T18:35:33.363Z"
   },
   {
    "duration": 7,
    "start_time": "2021-12-16T18:35:33.368Z"
   },
   {
    "duration": 20,
    "start_time": "2021-12-16T18:35:33.377Z"
   },
   {
    "duration": 10,
    "start_time": "2021-12-16T18:35:33.399Z"
   },
   {
    "duration": 6,
    "start_time": "2021-12-16T18:35:33.410Z"
   },
   {
    "duration": 10,
    "start_time": "2021-12-16T18:35:33.418Z"
   },
   {
    "duration": 40,
    "start_time": "2021-12-16T18:35:33.430Z"
   },
   {
    "duration": 680,
    "start_time": "2021-12-16T18:38:14.261Z"
   },
   {
    "duration": 1149,
    "start_time": "2021-12-16T18:40:56.583Z"
   },
   {
    "duration": 57,
    "start_time": "2021-12-16T18:40:57.734Z"
   },
   {
    "duration": 33,
    "start_time": "2021-12-16T18:40:57.796Z"
   },
   {
    "duration": 17,
    "start_time": "2021-12-16T18:40:57.830Z"
   },
   {
    "duration": 6,
    "start_time": "2021-12-16T18:40:57.863Z"
   },
   {
    "duration": 9,
    "start_time": "2021-12-16T18:40:57.870Z"
   },
   {
    "duration": 4,
    "start_time": "2021-12-16T18:40:57.881Z"
   },
   {
    "duration": 360,
    "start_time": "2021-12-16T18:40:57.887Z"
   },
   {
    "duration": 5,
    "start_time": "2021-12-16T18:40:58.248Z"
   },
   {
    "duration": 3,
    "start_time": "2021-12-16T18:40:58.263Z"
   },
   {
    "duration": 7,
    "start_time": "2021-12-16T18:40:58.268Z"
   },
   {
    "duration": 17,
    "start_time": "2021-12-16T18:40:58.277Z"
   },
   {
    "duration": 9,
    "start_time": "2021-12-16T18:40:58.295Z"
   },
   {
    "duration": 5,
    "start_time": "2021-12-16T18:40:58.306Z"
   },
   {
    "duration": 10,
    "start_time": "2021-12-16T18:40:58.313Z"
   },
   {
    "duration": 46,
    "start_time": "2021-12-16T18:40:58.325Z"
   },
   {
    "duration": 368,
    "start_time": "2021-12-16T18:40:58.372Z"
   },
   {
    "duration": 17,
    "start_time": "2021-12-16T18:41:21.936Z"
   },
   {
    "duration": 1187,
    "start_time": "2021-12-16T18:42:13.658Z"
   },
   {
    "duration": 61,
    "start_time": "2021-12-16T18:42:14.847Z"
   },
   {
    "duration": 36,
    "start_time": "2021-12-16T18:42:14.911Z"
   },
   {
    "duration": 17,
    "start_time": "2021-12-16T18:42:14.949Z"
   },
   {
    "duration": 12,
    "start_time": "2021-12-16T18:42:14.968Z"
   },
   {
    "duration": 7,
    "start_time": "2021-12-16T18:42:14.982Z"
   },
   {
    "duration": 4,
    "start_time": "2021-12-16T18:42:14.991Z"
   },
   {
    "duration": 356,
    "start_time": "2021-12-16T18:42:14.997Z"
   },
   {
    "duration": 9,
    "start_time": "2021-12-16T18:42:15.355Z"
   },
   {
    "duration": 4,
    "start_time": "2021-12-16T18:42:15.366Z"
   },
   {
    "duration": 7,
    "start_time": "2021-12-16T18:42:15.371Z"
   },
   {
    "duration": 18,
    "start_time": "2021-12-16T18:42:15.379Z"
   },
   {
    "duration": 9,
    "start_time": "2021-12-16T18:42:15.398Z"
   },
   {
    "duration": 6,
    "start_time": "2021-12-16T18:42:15.409Z"
   },
   {
    "duration": 10,
    "start_time": "2021-12-16T18:42:15.417Z"
   },
   {
    "duration": 43,
    "start_time": "2021-12-16T18:42:15.428Z"
   },
   {
    "duration": 2,
    "start_time": "2021-12-16T18:42:15.473Z"
   },
   {
    "duration": 438,
    "start_time": "2021-12-16T18:43:20.352Z"
   },
   {
    "duration": 5,
    "start_time": "2021-12-16T18:43:21.787Z"
   },
   {
    "duration": 3,
    "start_time": "2021-12-16T18:43:22.424Z"
   },
   {
    "duration": 4,
    "start_time": "2021-12-16T18:43:22.957Z"
   },
   {
    "duration": 17,
    "start_time": "2021-12-16T18:43:23.650Z"
   },
   {
    "duration": 9,
    "start_time": "2021-12-16T18:43:59.882Z"
   },
   {
    "duration": 435,
    "start_time": "2021-12-16T18:44:13.044Z"
   },
   {
    "duration": 7,
    "start_time": "2021-12-16T18:44:14.424Z"
   },
   {
    "duration": 4,
    "start_time": "2021-12-16T18:44:15.173Z"
   },
   {
    "duration": 5,
    "start_time": "2021-12-16T18:44:15.887Z"
   },
   {
    "duration": 17,
    "start_time": "2021-12-16T18:44:16.573Z"
   },
   {
    "duration": 19,
    "start_time": "2021-12-16T18:44:46.253Z"
   },
   {
    "duration": 484,
    "start_time": "2021-12-16T18:45:58.555Z"
   },
   {
    "duration": 7,
    "start_time": "2021-12-16T18:45:59.785Z"
   },
   {
    "duration": 3,
    "start_time": "2021-12-16T18:46:00.559Z"
   },
   {
    "duration": 5,
    "start_time": "2021-12-16T18:46:01.246Z"
   },
   {
    "duration": 20,
    "start_time": "2021-12-16T18:46:02.028Z"
   },
   {
    "duration": 17,
    "start_time": "2021-12-16T18:46:33.704Z"
   },
   {
    "duration": 332,
    "start_time": "2021-12-16T18:47:48.903Z"
   },
   {
    "duration": 8,
    "start_time": "2021-12-16T18:47:50.010Z"
   },
   {
    "duration": 1195,
    "start_time": "2021-12-16T18:47:57.534Z"
   },
   {
    "duration": 67,
    "start_time": "2021-12-16T18:47:58.731Z"
   },
   {
    "duration": 38,
    "start_time": "2021-12-16T18:47:58.802Z"
   },
   {
    "duration": 23,
    "start_time": "2021-12-16T18:47:58.842Z"
   },
   {
    "duration": 6,
    "start_time": "2021-12-16T18:47:58.867Z"
   },
   {
    "duration": 9,
    "start_time": "2021-12-16T18:47:58.875Z"
   },
   {
    "duration": 5,
    "start_time": "2021-12-16T18:47:58.886Z"
   },
   {
    "duration": 358,
    "start_time": "2021-12-16T18:47:58.893Z"
   },
   {
    "duration": 15,
    "start_time": "2021-12-16T18:47:59.253Z"
   },
   {
    "duration": 4,
    "start_time": "2021-12-16T18:47:59.270Z"
   },
   {
    "duration": 7,
    "start_time": "2021-12-16T18:47:59.276Z"
   },
   {
    "duration": 18,
    "start_time": "2021-12-16T18:47:59.285Z"
   },
   {
    "duration": 11,
    "start_time": "2021-12-16T18:47:59.305Z"
   },
   {
    "duration": 12,
    "start_time": "2021-12-16T18:47:59.318Z"
   },
   {
    "duration": 10,
    "start_time": "2021-12-16T18:47:59.364Z"
   },
   {
    "duration": 13,
    "start_time": "2021-12-16T18:47:59.376Z"
   },
   {
    "duration": 6,
    "start_time": "2021-12-16T18:47:59.391Z"
   },
   {
    "duration": 341,
    "start_time": "2021-12-16T18:48:33.901Z"
   },
   {
    "duration": 7,
    "start_time": "2021-12-16T18:48:35.008Z"
   },
   {
    "duration": 3,
    "start_time": "2021-12-16T18:48:35.748Z"
   },
   {
    "duration": 5,
    "start_time": "2021-12-16T18:48:36.406Z"
   },
   {
    "duration": 19,
    "start_time": "2021-12-16T18:48:37.036Z"
   },
   {
    "duration": 555,
    "start_time": "2021-12-16T18:50:14.028Z"
   },
   {
    "duration": 342,
    "start_time": "2021-12-16T18:51:51.019Z"
   },
   {
    "duration": 1219,
    "start_time": "2021-12-16T18:51:56.628Z"
   },
   {
    "duration": 62,
    "start_time": "2021-12-16T18:51:57.851Z"
   },
   {
    "duration": 39,
    "start_time": "2021-12-16T18:51:57.915Z"
   },
   {
    "duration": 18,
    "start_time": "2021-12-16T18:51:57.956Z"
   },
   {
    "duration": 7,
    "start_time": "2021-12-16T18:51:57.976Z"
   },
   {
    "duration": 8,
    "start_time": "2021-12-16T18:51:57.984Z"
   },
   {
    "duration": 4,
    "start_time": "2021-12-16T18:51:57.995Z"
   },
   {
    "duration": 502,
    "start_time": "2021-12-16T18:51:58.000Z"
   },
   {
    "duration": 8,
    "start_time": "2021-12-16T18:51:58.505Z"
   },
   {
    "duration": 3,
    "start_time": "2021-12-16T18:51:58.515Z"
   },
   {
    "duration": 7,
    "start_time": "2021-12-16T18:51:58.519Z"
   },
   {
    "duration": 37,
    "start_time": "2021-12-16T18:51:58.528Z"
   },
   {
    "duration": 9,
    "start_time": "2021-12-16T18:51:58.567Z"
   },
   {
    "duration": 6,
    "start_time": "2021-12-16T18:51:58.578Z"
   },
   {
    "duration": 10,
    "start_time": "2021-12-16T18:51:58.585Z"
   },
   {
    "duration": 11,
    "start_time": "2021-12-16T18:51:58.596Z"
   },
   {
    "duration": 5,
    "start_time": "2021-12-16T18:51:58.609Z"
   },
   {
    "duration": 328,
    "start_time": "2021-12-16T18:52:37.993Z"
   },
   {
    "duration": 1150,
    "start_time": "2021-12-16T18:52:43.896Z"
   },
   {
    "duration": 60,
    "start_time": "2021-12-16T18:52:45.048Z"
   },
   {
    "duration": 35,
    "start_time": "2021-12-16T18:52:45.110Z"
   },
   {
    "duration": 25,
    "start_time": "2021-12-16T18:52:45.147Z"
   },
   {
    "duration": 8,
    "start_time": "2021-12-16T18:52:45.173Z"
   },
   {
    "duration": 7,
    "start_time": "2021-12-16T18:52:45.183Z"
   },
   {
    "duration": 4,
    "start_time": "2021-12-16T18:52:45.191Z"
   },
   {
    "duration": 362,
    "start_time": "2021-12-16T18:52:45.197Z"
   },
   {
    "duration": 8,
    "start_time": "2021-12-16T18:52:45.563Z"
   },
   {
    "duration": 2,
    "start_time": "2021-12-16T18:52:45.573Z"
   },
   {
    "duration": 6,
    "start_time": "2021-12-16T18:52:45.577Z"
   },
   {
    "duration": 20,
    "start_time": "2021-12-16T18:52:45.584Z"
   },
   {
    "duration": 10,
    "start_time": "2021-12-16T18:52:45.606Z"
   },
   {
    "duration": 6,
    "start_time": "2021-12-16T18:52:45.618Z"
   },
   {
    "duration": 45,
    "start_time": "2021-12-16T18:52:45.626Z"
   },
   {
    "duration": 12,
    "start_time": "2021-12-16T18:52:45.673Z"
   },
   {
    "duration": 4,
    "start_time": "2021-12-16T18:52:45.687Z"
   },
   {
    "duration": 19,
    "start_time": "2021-12-16T18:54:05.339Z"
   },
   {
    "duration": 1178,
    "start_time": "2021-12-16T18:54:36.163Z"
   },
   {
    "duration": 59,
    "start_time": "2021-12-16T18:54:37.343Z"
   },
   {
    "duration": 37,
    "start_time": "2021-12-16T18:54:37.405Z"
   },
   {
    "duration": 27,
    "start_time": "2021-12-16T18:54:37.445Z"
   },
   {
    "duration": 7,
    "start_time": "2021-12-16T18:54:37.474Z"
   },
   {
    "duration": 20,
    "start_time": "2021-12-16T18:54:37.483Z"
   },
   {
    "duration": 7,
    "start_time": "2021-12-16T18:54:37.505Z"
   },
   {
    "duration": 335,
    "start_time": "2021-12-16T18:54:37.515Z"
   },
   {
    "duration": 12,
    "start_time": "2021-12-16T18:54:37.852Z"
   },
   {
    "duration": 5,
    "start_time": "2021-12-16T18:54:37.866Z"
   },
   {
    "duration": 8,
    "start_time": "2021-12-16T18:54:37.873Z"
   },
   {
    "duration": 19,
    "start_time": "2021-12-16T18:54:37.883Z"
   },
   {
    "duration": 10,
    "start_time": "2021-12-16T18:54:37.904Z"
   },
   {
    "duration": 7,
    "start_time": "2021-12-16T18:54:37.916Z"
   },
   {
    "duration": 46,
    "start_time": "2021-12-16T18:54:37.925Z"
   },
   {
    "duration": 12,
    "start_time": "2021-12-16T18:54:37.973Z"
   },
   {
    "duration": 2,
    "start_time": "2021-12-16T18:54:37.987Z"
   },
   {
    "duration": 1172,
    "start_time": "2021-12-16T18:56:43.110Z"
   },
   {
    "duration": 80,
    "start_time": "2021-12-16T18:56:44.285Z"
   },
   {
    "duration": 42,
    "start_time": "2021-12-16T18:56:44.368Z"
   },
   {
    "duration": 14,
    "start_time": "2021-12-16T18:56:44.412Z"
   },
   {
    "duration": 7,
    "start_time": "2021-12-16T18:56:44.428Z"
   },
   {
    "duration": 31,
    "start_time": "2021-12-16T18:56:44.437Z"
   },
   {
    "duration": 4,
    "start_time": "2021-12-16T18:56:44.470Z"
   },
   {
    "duration": 348,
    "start_time": "2021-12-16T18:56:44.476Z"
   },
   {
    "duration": 7,
    "start_time": "2021-12-16T18:56:44.826Z"
   },
   {
    "duration": 4,
    "start_time": "2021-12-16T18:56:44.834Z"
   },
   {
    "duration": 8,
    "start_time": "2021-12-16T18:56:44.839Z"
   },
   {
    "duration": 17,
    "start_time": "2021-12-16T18:56:44.863Z"
   },
   {
    "duration": 10,
    "start_time": "2021-12-16T18:56:44.882Z"
   },
   {
    "duration": 6,
    "start_time": "2021-12-16T18:56:44.894Z"
   },
   {
    "duration": 10,
    "start_time": "2021-12-16T18:56:44.901Z"
   },
   {
    "duration": 10,
    "start_time": "2021-12-16T18:56:44.913Z"
   },
   {
    "duration": 7,
    "start_time": "2021-12-16T18:56:44.925Z"
   },
   {
    "duration": 9,
    "start_time": "2021-12-16T19:00:41.774Z"
   },
   {
    "duration": 7,
    "start_time": "2021-12-16T19:00:43.458Z"
   },
   {
    "duration": 377,
    "start_time": "2021-12-16T19:02:18.126Z"
   },
   {
    "duration": 9,
    "start_time": "2021-12-16T19:03:14.540Z"
   },
   {
    "duration": 7,
    "start_time": "2021-12-16T19:03:16.185Z"
   },
   {
    "duration": 555,
    "start_time": "2021-12-16T19:04:08.211Z"
   },
   {
    "duration": 9,
    "start_time": "2021-12-16T19:04:09.852Z"
   },
   {
    "duration": 4,
    "start_time": "2021-12-16T19:04:10.816Z"
   },
   {
    "duration": 6,
    "start_time": "2021-12-16T19:04:11.763Z"
   },
   {
    "duration": 19,
    "start_time": "2021-12-16T19:04:12.589Z"
   },
   {
    "duration": 20,
    "start_time": "2021-12-16T19:05:09.254Z"
   },
   {
    "duration": 950,
    "start_time": "2021-12-16T19:07:00.185Z"
   },
   {
    "duration": 7293,
    "start_time": "2021-12-16T19:07:09.292Z"
   },
   {
    "duration": 9,
    "start_time": "2021-12-16T19:07:32.356Z"
   },
   {
    "duration": 9,
    "start_time": "2021-12-16T19:08:09.752Z"
   },
   {
    "duration": 341,
    "start_time": "2021-12-16T19:10:24.652Z"
   },
   {
    "duration": 10,
    "start_time": "2021-12-16T19:10:25.437Z"
   },
   {
    "duration": 4,
    "start_time": "2021-12-16T19:10:32.779Z"
   },
   {
    "duration": 5,
    "start_time": "2021-12-16T19:10:33.480Z"
   },
   {
    "duration": 18,
    "start_time": "2021-12-16T19:10:34.228Z"
   },
   {
    "duration": 1272,
    "start_time": "2021-12-16T19:10:43.317Z"
   },
   {
    "duration": 59,
    "start_time": "2021-12-16T19:10:44.591Z"
   },
   {
    "duration": 37,
    "start_time": "2021-12-16T19:10:44.652Z"
   },
   {
    "duration": 15,
    "start_time": "2021-12-16T19:10:44.691Z"
   },
   {
    "duration": 7,
    "start_time": "2021-12-16T19:10:44.708Z"
   },
   {
    "duration": 8,
    "start_time": "2021-12-16T19:10:44.717Z"
   },
   {
    "duration": 5,
    "start_time": "2021-12-16T19:10:44.727Z"
   },
   {
    "duration": 625,
    "start_time": "2021-12-16T19:10:44.765Z"
   },
   {
    "duration": -49,
    "start_time": "2021-12-16T19:10:45.441Z"
   },
   {
    "duration": -57,
    "start_time": "2021-12-16T19:10:45.450Z"
   },
   {
    "duration": -61,
    "start_time": "2021-12-16T19:10:45.455Z"
   },
   {
    "duration": -63,
    "start_time": "2021-12-16T19:10:45.458Z"
   },
   {
    "duration": -70,
    "start_time": "2021-12-16T19:10:45.466Z"
   },
   {
    "duration": -73,
    "start_time": "2021-12-16T19:10:45.470Z"
   },
   {
    "duration": -75,
    "start_time": "2021-12-16T19:10:45.473Z"
   },
   {
    "duration": -82,
    "start_time": "2021-12-16T19:10:45.481Z"
   },
   {
    "duration": -84,
    "start_time": "2021-12-16T19:10:45.484Z"
   },
   {
    "duration": 1438,
    "start_time": "2021-12-16T19:11:35.779Z"
   },
   {
    "duration": 61,
    "start_time": "2021-12-16T19:11:37.220Z"
   },
   {
    "duration": 37,
    "start_time": "2021-12-16T19:11:37.284Z"
   },
   {
    "duration": 13,
    "start_time": "2021-12-16T19:11:37.323Z"
   },
   {
    "duration": 13,
    "start_time": "2021-12-16T19:11:37.337Z"
   },
   {
    "duration": 7,
    "start_time": "2021-12-16T19:11:37.363Z"
   },
   {
    "duration": 9,
    "start_time": "2021-12-16T19:11:37.372Z"
   },
   {
    "duration": 575,
    "start_time": "2021-12-16T19:11:37.384Z"
   },
   {
    "duration": -64,
    "start_time": "2021-12-16T19:11:38.025Z"
   },
   {
    "duration": -67,
    "start_time": "2021-12-16T19:11:38.029Z"
   },
   {
    "duration": -68,
    "start_time": "2021-12-16T19:11:38.032Z"
   },
   {
    "duration": -78,
    "start_time": "2021-12-16T19:11:38.042Z"
   },
   {
    "duration": -84,
    "start_time": "2021-12-16T19:11:38.049Z"
   },
   {
    "duration": -91,
    "start_time": "2021-12-16T19:11:38.057Z"
   },
   {
    "duration": -94,
    "start_time": "2021-12-16T19:11:38.061Z"
   },
   {
    "duration": -97,
    "start_time": "2021-12-16T19:11:38.065Z"
   },
   {
    "duration": -107,
    "start_time": "2021-12-16T19:11:38.075Z"
   },
   {
    "duration": 1165,
    "start_time": "2021-12-16T19:15:58.081Z"
   },
   {
    "duration": 59,
    "start_time": "2021-12-16T19:15:59.248Z"
   },
   {
    "duration": 37,
    "start_time": "2021-12-16T19:15:59.309Z"
   },
   {
    "duration": 25,
    "start_time": "2021-12-16T19:15:59.348Z"
   },
   {
    "duration": 15,
    "start_time": "2021-12-16T19:15:59.375Z"
   },
   {
    "duration": 19,
    "start_time": "2021-12-16T19:15:59.392Z"
   },
   {
    "duration": 15,
    "start_time": "2021-12-16T19:15:59.413Z"
   },
   {
    "duration": 601,
    "start_time": "2021-12-16T19:15:59.430Z"
   },
   {
    "duration": -66,
    "start_time": "2021-12-16T19:16:00.100Z"
   },
   {
    "duration": -75,
    "start_time": "2021-12-16T19:16:00.110Z"
   },
   {
    "duration": -79,
    "start_time": "2021-12-16T19:16:00.114Z"
   },
   {
    "duration": -91,
    "start_time": "2021-12-16T19:16:00.127Z"
   },
   {
    "duration": -93,
    "start_time": "2021-12-16T19:16:00.130Z"
   },
   {
    "duration": -96,
    "start_time": "2021-12-16T19:16:00.134Z"
   },
   {
    "duration": -105,
    "start_time": "2021-12-16T19:16:00.144Z"
   },
   {
    "duration": -108,
    "start_time": "2021-12-16T19:16:00.148Z"
   },
   {
    "duration": -116,
    "start_time": "2021-12-16T19:16:00.157Z"
   },
   {
    "duration": 331,
    "start_time": "2021-12-16T19:16:40.096Z"
   },
   {
    "duration": 14,
    "start_time": "2021-12-16T19:16:41.590Z"
   },
   {
    "duration": 4,
    "start_time": "2021-12-16T19:16:42.525Z"
   },
   {
    "duration": 5,
    "start_time": "2021-12-16T19:16:43.929Z"
   },
   {
    "duration": 24,
    "start_time": "2021-12-16T19:16:45.700Z"
   },
   {
    "duration": 12,
    "start_time": "2021-12-16T19:18:21.406Z"
   },
   {
    "duration": 10,
    "start_time": "2021-12-16T19:18:32.175Z"
   },
   {
    "duration": 9,
    "start_time": "2021-12-16T19:18:44.701Z"
   },
   {
    "duration": 6,
    "start_time": "2021-12-16T19:19:05.485Z"
   },
   {
    "duration": 1194,
    "start_time": "2021-12-16T19:26:02.242Z"
   },
   {
    "duration": 60,
    "start_time": "2021-12-16T19:26:03.438Z"
   },
   {
    "duration": 36,
    "start_time": "2021-12-16T19:26:03.501Z"
   },
   {
    "duration": 26,
    "start_time": "2021-12-16T19:26:03.539Z"
   },
   {
    "duration": 7,
    "start_time": "2021-12-16T19:26:03.568Z"
   },
   {
    "duration": 9,
    "start_time": "2021-12-16T19:26:03.576Z"
   },
   {
    "duration": 3,
    "start_time": "2021-12-16T19:26:03.587Z"
   },
   {
    "duration": 363,
    "start_time": "2021-12-16T19:26:03.593Z"
   },
   {
    "duration": 10,
    "start_time": "2021-12-16T19:26:03.958Z"
   },
   {
    "duration": 4,
    "start_time": "2021-12-16T19:26:03.969Z"
   },
   {
    "duration": 6,
    "start_time": "2021-12-16T19:26:03.974Z"
   },
   {
    "duration": 17,
    "start_time": "2021-12-16T19:26:03.982Z"
   },
   {
    "duration": 10,
    "start_time": "2021-12-16T19:26:04.001Z"
   },
   {
    "duration": 5,
    "start_time": "2021-12-16T19:26:04.013Z"
   },
   {
    "duration": 43,
    "start_time": "2021-12-16T19:26:04.020Z"
   },
   {
    "duration": 11,
    "start_time": "2021-12-16T19:26:04.066Z"
   },
   {
    "duration": 5,
    "start_time": "2021-12-16T19:26:04.079Z"
   },
   {
    "duration": 10,
    "start_time": "2021-12-16T19:26:37.901Z"
   },
   {
    "duration": 9,
    "start_time": "2021-12-16T19:27:32.081Z"
   },
   {
    "duration": 1137,
    "start_time": "2021-12-16T19:33:17.596Z"
   },
   {
    "duration": 58,
    "start_time": "2021-12-16T19:33:18.735Z"
   },
   {
    "duration": 35,
    "start_time": "2021-12-16T19:33:18.794Z"
   },
   {
    "duration": 13,
    "start_time": "2021-12-16T19:33:18.830Z"
   },
   {
    "duration": 23,
    "start_time": "2021-12-16T19:33:18.844Z"
   },
   {
    "duration": 11,
    "start_time": "2021-12-16T19:33:18.869Z"
   },
   {
    "duration": 5,
    "start_time": "2021-12-16T19:33:18.881Z"
   },
   {
    "duration": 351,
    "start_time": "2021-12-16T19:33:18.889Z"
   },
   {
    "duration": 6,
    "start_time": "2021-12-16T19:33:19.242Z"
   },
   {
    "duration": 17,
    "start_time": "2021-12-16T19:33:19.250Z"
   },
   {
    "duration": 10,
    "start_time": "2021-12-16T19:33:19.269Z"
   },
   {
    "duration": 11,
    "start_time": "2021-12-16T19:33:19.281Z"
   },
   {
    "duration": 6,
    "start_time": "2021-12-16T19:33:19.293Z"
   },
   {
    "duration": 13,
    "start_time": "2021-12-16T19:33:19.300Z"
   },
   {
    "duration": 11,
    "start_time": "2021-12-16T19:33:19.314Z"
   },
   {
    "duration": 5,
    "start_time": "2021-12-16T19:33:19.326Z"
   },
   {
    "duration": 6,
    "start_time": "2021-12-16T19:54:16.356Z"
   },
   {
    "duration": 334,
    "start_time": "2021-12-16T19:54:29.241Z"
   },
   {
    "duration": 6,
    "start_time": "2021-12-16T19:54:30.939Z"
   },
   {
    "duration": 1128,
    "start_time": "2021-12-16T19:55:37.099Z"
   },
   {
    "duration": 58,
    "start_time": "2021-12-16T19:55:38.229Z"
   },
   {
    "duration": 35,
    "start_time": "2021-12-16T19:55:38.289Z"
   },
   {
    "duration": 12,
    "start_time": "2021-12-16T19:55:38.326Z"
   },
   {
    "duration": 25,
    "start_time": "2021-12-16T19:55:38.340Z"
   },
   {
    "duration": 6,
    "start_time": "2021-12-16T19:55:38.366Z"
   },
   {
    "duration": 3,
    "start_time": "2021-12-16T19:55:38.374Z"
   },
   {
    "duration": 353,
    "start_time": "2021-12-16T19:55:38.379Z"
   },
   {
    "duration": 7,
    "start_time": "2021-12-16T19:55:38.734Z"
   },
   {
    "duration": 10,
    "start_time": "2021-12-16T19:55:38.743Z"
   },
   {
    "duration": 4,
    "start_time": "2021-12-16T19:55:38.762Z"
   },
   {
    "duration": 6865,
    "start_time": "2021-12-16T19:55:38.768Z"
   },
   {
    "duration": -49,
    "start_time": "2021-12-16T19:55:45.684Z"
   },
   {
    "duration": -53,
    "start_time": "2021-12-16T19:55:45.688Z"
   },
   {
    "duration": -56,
    "start_time": "2021-12-16T19:55:45.692Z"
   },
   {
    "duration": -69,
    "start_time": "2021-12-16T19:55:45.706Z"
   },
   {
    "duration": -73,
    "start_time": "2021-12-16T19:55:45.711Z"
   },
   {
    "duration": 1161,
    "start_time": "2021-12-16T19:56:17.464Z"
   },
   {
    "duration": 57,
    "start_time": "2021-12-16T19:56:18.627Z"
   },
   {
    "duration": 33,
    "start_time": "2021-12-16T19:56:18.687Z"
   },
   {
    "duration": 12,
    "start_time": "2021-12-16T19:56:18.722Z"
   },
   {
    "duration": 8,
    "start_time": "2021-12-16T19:56:18.736Z"
   },
   {
    "duration": 8,
    "start_time": "2021-12-16T19:56:18.763Z"
   },
   {
    "duration": 4,
    "start_time": "2021-12-16T19:56:18.772Z"
   },
   {
    "duration": 345,
    "start_time": "2021-12-16T19:56:18.778Z"
   },
   {
    "duration": 5,
    "start_time": "2021-12-16T19:56:19.125Z"
   },
   {
    "duration": 8,
    "start_time": "2021-12-16T19:56:19.131Z"
   },
   {
    "duration": 6,
    "start_time": "2021-12-16T19:56:19.140Z"
   },
   {
    "duration": 9,
    "start_time": "2021-12-16T19:56:19.163Z"
   },
   {
    "duration": 5,
    "start_time": "2021-12-16T19:56:19.174Z"
   },
   {
    "duration": 13,
    "start_time": "2021-12-16T19:56:19.181Z"
   },
   {
    "duration": 12,
    "start_time": "2021-12-16T19:56:19.195Z"
   },
   {
    "duration": 5,
    "start_time": "2021-12-16T19:56:19.209Z"
   },
   {
    "duration": 80,
    "start_time": "2021-12-16T20:08:08.068Z"
   },
   {
    "duration": 12,
    "start_time": "2021-12-16T20:08:18.421Z"
   },
   {
    "duration": 10,
    "start_time": "2021-12-16T20:11:13.122Z"
   },
   {
    "duration": 10,
    "start_time": "2021-12-16T20:11:53.115Z"
   },
   {
    "duration": 11,
    "start_time": "2021-12-16T20:12:13.179Z"
   },
   {
    "duration": 10,
    "start_time": "2021-12-16T20:12:24.764Z"
   },
   {
    "duration": 10,
    "start_time": "2021-12-16T20:12:32.206Z"
   },
   {
    "duration": 10,
    "start_time": "2021-12-16T20:13:23.087Z"
   },
   {
    "duration": 11,
    "start_time": "2021-12-16T20:13:29.684Z"
   },
   {
    "duration": 10,
    "start_time": "2021-12-16T20:13:57.862Z"
   },
   {
    "duration": 11,
    "start_time": "2021-12-16T20:14:26.906Z"
   },
   {
    "duration": 11,
    "start_time": "2021-12-16T20:14:39.683Z"
   },
   {
    "duration": 6,
    "start_time": "2021-12-16T20:16:18.984Z"
   },
   {
    "duration": 6,
    "start_time": "2021-12-16T20:16:37.174Z"
   },
   {
    "duration": 6,
    "start_time": "2021-12-16T20:16:43.350Z"
   },
   {
    "duration": 9,
    "start_time": "2021-12-16T20:18:07.231Z"
   },
   {
    "duration": 6,
    "start_time": "2021-12-16T20:19:12.116Z"
   },
   {
    "duration": 12,
    "start_time": "2021-12-16T20:35:22.156Z"
   },
   {
    "duration": 15,
    "start_time": "2021-12-16T20:36:46.864Z"
   },
   {
    "duration": 7,
    "start_time": "2021-12-16T20:40:29.685Z"
   },
   {
    "duration": 7,
    "start_time": "2021-12-16T20:41:07.202Z"
   },
   {
    "duration": 4,
    "start_time": "2021-12-16T20:41:43.580Z"
   },
   {
    "duration": 1620,
    "start_time": "2021-12-17T17:12:35.478Z"
   },
   {
    "duration": 81,
    "start_time": "2021-12-17T17:12:37.101Z"
   },
   {
    "duration": 60,
    "start_time": "2021-12-17T17:12:37.185Z"
   },
   {
    "duration": 35,
    "start_time": "2021-12-17T17:12:37.248Z"
   },
   {
    "duration": 21,
    "start_time": "2021-12-17T17:12:37.285Z"
   },
   {
    "duration": 23,
    "start_time": "2021-12-17T17:12:37.309Z"
   },
   {
    "duration": 12,
    "start_time": "2021-12-17T17:12:37.335Z"
   },
   {
    "duration": 1073,
    "start_time": "2021-12-17T17:12:37.364Z"
   },
   {
    "duration": 9,
    "start_time": "2021-12-17T17:12:38.440Z"
   },
   {
    "duration": 5,
    "start_time": "2021-12-17T17:12:38.464Z"
   },
   {
    "duration": 7,
    "start_time": "2021-12-17T17:12:38.472Z"
   },
   {
    "duration": 15,
    "start_time": "2021-12-17T17:12:38.482Z"
   },
   {
    "duration": 10,
    "start_time": "2021-12-17T17:12:38.499Z"
   },
   {
    "duration": 9,
    "start_time": "2021-12-17T17:12:38.563Z"
   },
   {
    "duration": 12,
    "start_time": "2021-12-17T17:12:38.575Z"
   },
   {
    "duration": 14,
    "start_time": "2021-12-17T17:12:38.589Z"
   },
   {
    "duration": 8,
    "start_time": "2021-12-17T17:12:38.605Z"
   },
   {
    "duration": 54,
    "start_time": "2021-12-17T17:12:38.616Z"
   },
   {
    "duration": 37,
    "start_time": "2021-12-17T17:12:38.673Z"
   },
   {
    "duration": 32,
    "start_time": "2021-12-17T17:12:38.713Z"
   },
   {
    "duration": 6,
    "start_time": "2021-12-17T17:13:39.449Z"
   },
   {
    "duration": 4392,
    "start_time": "2021-12-17T17:18:20.847Z"
   },
   {
    "duration": 1505,
    "start_time": "2021-12-17T17:18:36.003Z"
   },
   {
    "duration": 78,
    "start_time": "2021-12-17T17:18:37.510Z"
   },
   {
    "duration": 58,
    "start_time": "2021-12-17T17:18:37.591Z"
   },
   {
    "duration": 20,
    "start_time": "2021-12-17T17:18:37.664Z"
   },
   {
    "duration": 9,
    "start_time": "2021-12-17T17:18:37.687Z"
   },
   {
    "duration": 10,
    "start_time": "2021-12-17T17:18:37.699Z"
   },
   {
    "duration": 5,
    "start_time": "2021-12-17T17:18:37.711Z"
   },
   {
    "duration": 628,
    "start_time": "2021-12-17T17:18:37.763Z"
   },
   {
    "duration": 6,
    "start_time": "2021-12-17T17:18:38.394Z"
   },
   {
    "duration": 5,
    "start_time": "2021-12-17T17:18:38.403Z"
   },
   {
    "duration": 8,
    "start_time": "2021-12-17T17:18:38.410Z"
   },
   {
    "duration": 43,
    "start_time": "2021-12-17T17:18:38.420Z"
   },
   {
    "duration": 8,
    "start_time": "2021-12-17T17:18:38.465Z"
   },
   {
    "duration": 10,
    "start_time": "2021-12-17T17:18:38.475Z"
   },
   {
    "duration": 11,
    "start_time": "2021-12-17T17:18:38.488Z"
   },
   {
    "duration": 14,
    "start_time": "2021-12-17T17:18:38.501Z"
   },
   {
    "duration": 49,
    "start_time": "2021-12-17T17:18:38.517Z"
   },
   {
    "duration": 14,
    "start_time": "2021-12-17T17:18:38.568Z"
   },
   {
    "duration": 16,
    "start_time": "2021-12-17T17:18:38.584Z"
   },
   {
    "duration": 453,
    "start_time": "2021-12-17T17:18:38.602Z"
   },
   {
    "duration": 3940,
    "start_time": "2021-12-17T17:19:17.650Z"
   },
   {
    "duration": 1641,
    "start_time": "2021-12-17T17:19:31.997Z"
   },
   {
    "duration": 78,
    "start_time": "2021-12-17T17:19:33.641Z"
   },
   {
    "duration": 64,
    "start_time": "2021-12-17T17:19:33.722Z"
   },
   {
    "duration": 22,
    "start_time": "2021-12-17T17:19:33.790Z"
   },
   {
    "duration": 10,
    "start_time": "2021-12-17T17:19:33.814Z"
   },
   {
    "duration": 43,
    "start_time": "2021-12-17T17:19:33.826Z"
   },
   {
    "duration": 11,
    "start_time": "2021-12-17T17:19:33.872Z"
   },
   {
    "duration": 641,
    "start_time": "2021-12-17T17:19:33.888Z"
   },
   {
    "duration": 8,
    "start_time": "2021-12-17T17:19:34.532Z"
   },
   {
    "duration": 22,
    "start_time": "2021-12-17T17:19:34.543Z"
   },
   {
    "duration": 6,
    "start_time": "2021-12-17T17:19:34.568Z"
   },
   {
    "duration": 15,
    "start_time": "2021-12-17T17:19:34.577Z"
   },
   {
    "duration": 8,
    "start_time": "2021-12-17T17:19:34.594Z"
   },
   {
    "duration": 10,
    "start_time": "2021-12-17T17:19:34.606Z"
   },
   {
    "duration": 11,
    "start_time": "2021-12-17T17:19:34.664Z"
   },
   {
    "duration": 14,
    "start_time": "2021-12-17T17:19:34.678Z"
   },
   {
    "duration": 12,
    "start_time": "2021-12-17T17:19:34.695Z"
   },
   {
    "duration": 62,
    "start_time": "2021-12-17T17:19:34.710Z"
   },
   {
    "duration": 16,
    "start_time": "2021-12-17T17:19:34.774Z"
   },
   {
    "duration": 6,
    "start_time": "2021-12-17T17:19:34.792Z"
   },
   {
    "duration": 6,
    "start_time": "2021-12-17T17:19:49.952Z"
   },
   {
    "duration": 1555,
    "start_time": "2021-12-17T17:21:04.838Z"
   },
   {
    "duration": 85,
    "start_time": "2021-12-17T17:21:06.396Z"
   },
   {
    "duration": 64,
    "start_time": "2021-12-17T17:21:06.484Z"
   },
   {
    "duration": 28,
    "start_time": "2021-12-17T17:21:06.564Z"
   },
   {
    "duration": 10,
    "start_time": "2021-12-17T17:21:06.594Z"
   },
   {
    "duration": 12,
    "start_time": "2021-12-17T17:21:06.607Z"
   },
   {
    "duration": 42,
    "start_time": "2021-12-17T17:21:06.622Z"
   },
   {
    "duration": 671,
    "start_time": "2021-12-17T17:21:06.669Z"
   },
   {
    "duration": 6,
    "start_time": "2021-12-17T17:21:07.343Z"
   },
   {
    "duration": 5,
    "start_time": "2021-12-17T17:21:07.363Z"
   },
   {
    "duration": 10,
    "start_time": "2021-12-17T17:21:07.371Z"
   },
   {
    "duration": 13,
    "start_time": "2021-12-17T17:21:07.383Z"
   },
   {
    "duration": 16,
    "start_time": "2021-12-17T17:21:07.399Z"
   },
   {
    "duration": 49,
    "start_time": "2021-12-17T17:21:07.418Z"
   },
   {
    "duration": 17,
    "start_time": "2021-12-17T17:21:07.470Z"
   },
   {
    "duration": 20,
    "start_time": "2021-12-17T17:21:07.490Z"
   },
   {
    "duration": 8,
    "start_time": "2021-12-17T17:21:07.512Z"
   },
   {
    "duration": 56,
    "start_time": "2021-12-17T17:21:07.523Z"
   },
   {
    "duration": 21,
    "start_time": "2021-12-17T17:21:07.582Z"
   },
   {
    "duration": 8,
    "start_time": "2021-12-17T17:21:07.606Z"
   },
   {
    "duration": 18,
    "start_time": "2021-12-17T17:21:19.126Z"
   },
   {
    "duration": 17,
    "start_time": "2021-12-17T17:22:03.938Z"
   },
   {
    "duration": 1561,
    "start_time": "2021-12-17T17:22:44.543Z"
   },
   {
    "duration": 76,
    "start_time": "2021-12-17T17:22:46.107Z"
   },
   {
    "duration": 55,
    "start_time": "2021-12-17T17:22:46.185Z"
   },
   {
    "duration": 33,
    "start_time": "2021-12-17T17:22:46.243Z"
   },
   {
    "duration": 8,
    "start_time": "2021-12-17T17:22:46.278Z"
   },
   {
    "duration": 10,
    "start_time": "2021-12-17T17:22:46.289Z"
   },
   {
    "duration": 5,
    "start_time": "2021-12-17T17:22:46.301Z"
   },
   {
    "duration": 656,
    "start_time": "2021-12-17T17:22:46.310Z"
   },
   {
    "duration": 13,
    "start_time": "2021-12-17T17:22:46.969Z"
   },
   {
    "duration": 5,
    "start_time": "2021-12-17T17:22:46.985Z"
   },
   {
    "duration": 6,
    "start_time": "2021-12-17T17:22:46.992Z"
   },
   {
    "duration": 15,
    "start_time": "2021-12-17T17:22:47.001Z"
   },
   {
    "duration": 49,
    "start_time": "2021-12-17T17:22:47.018Z"
   },
   {
    "duration": 9,
    "start_time": "2021-12-17T17:22:47.069Z"
   },
   {
    "duration": 11,
    "start_time": "2021-12-17T17:22:47.081Z"
   },
   {
    "duration": 13,
    "start_time": "2021-12-17T17:22:47.094Z"
   },
   {
    "duration": 8,
    "start_time": "2021-12-17T17:22:47.109Z"
   },
   {
    "duration": 14,
    "start_time": "2021-12-17T17:22:47.163Z"
   },
   {
    "duration": 16,
    "start_time": "2021-12-17T17:22:47.180Z"
   },
   {
    "duration": 7,
    "start_time": "2021-12-17T17:22:47.198Z"
   },
   {
    "duration": 55,
    "start_time": "2021-12-17T17:22:47.208Z"
   },
   {
    "duration": 26,
    "start_time": "2021-12-17T18:35:57.667Z"
   },
   {
    "duration": 1898,
    "start_time": "2021-12-17T18:36:13.589Z"
   },
   {
    "duration": 79,
    "start_time": "2021-12-17T18:36:15.489Z"
   },
   {
    "duration": 57,
    "start_time": "2021-12-17T18:36:15.570Z"
   },
   {
    "duration": 39,
    "start_time": "2021-12-17T18:36:15.629Z"
   },
   {
    "duration": 10,
    "start_time": "2021-12-17T18:36:15.671Z"
   },
   {
    "duration": 14,
    "start_time": "2021-12-17T18:36:15.684Z"
   },
   {
    "duration": 7,
    "start_time": "2021-12-17T18:36:15.701Z"
   },
   {
    "duration": 942,
    "start_time": "2021-12-17T18:36:15.714Z"
   },
   {
    "duration": 18,
    "start_time": "2021-12-17T18:36:16.660Z"
   },
   {
    "duration": 13,
    "start_time": "2021-12-17T18:36:16.682Z"
   },
   {
    "duration": 25,
    "start_time": "2021-12-17T18:36:16.699Z"
   },
   {
    "duration": 46,
    "start_time": "2021-12-17T18:36:16.728Z"
   },
   {
    "duration": 34,
    "start_time": "2021-12-17T18:36:16.786Z"
   },
   {
    "duration": 30,
    "start_time": "2021-12-17T18:36:16.824Z"
   },
   {
    "duration": 17,
    "start_time": "2021-12-17T18:36:16.858Z"
   },
   {
    "duration": 23,
    "start_time": "2021-12-17T18:36:16.878Z"
   },
   {
    "duration": 11,
    "start_time": "2021-12-17T18:36:16.904Z"
   },
   {
    "duration": 48,
    "start_time": "2021-12-17T18:36:16.918Z"
   },
   {
    "duration": 15,
    "start_time": "2021-12-17T18:36:16.969Z"
   },
   {
    "duration": 10,
    "start_time": "2021-12-17T18:36:16.986Z"
   },
   {
    "duration": 15,
    "start_time": "2021-12-17T18:36:16.999Z"
   },
   {
    "duration": 61,
    "start_time": "2021-12-17T18:36:17.016Z"
   },
   {
    "duration": 4,
    "start_time": "2021-12-17T18:36:17.080Z"
   },
   {
    "duration": 48,
    "start_time": "2021-12-17T18:40:43.539Z"
   },
   {
    "duration": 25,
    "start_time": "2021-12-17T18:41:03.589Z"
   },
   {
    "duration": 1982,
    "start_time": "2021-12-17T18:41:21.398Z"
   },
   {
    "duration": 121,
    "start_time": "2021-12-17T18:41:23.384Z"
   },
   {
    "duration": 71,
    "start_time": "2021-12-17T18:41:23.509Z"
   },
   {
    "duration": 33,
    "start_time": "2021-12-17T18:41:23.584Z"
   },
   {
    "duration": 30,
    "start_time": "2021-12-17T18:41:23.620Z"
   },
   {
    "duration": 12,
    "start_time": "2021-12-17T18:41:23.664Z"
   },
   {
    "duration": 26,
    "start_time": "2021-12-17T18:41:23.679Z"
   },
   {
    "duration": 834,
    "start_time": "2021-12-17T18:41:23.711Z"
   },
   {
    "duration": 15,
    "start_time": "2021-12-17T18:41:24.548Z"
   },
   {
    "duration": 4,
    "start_time": "2021-12-17T18:41:24.565Z"
   },
   {
    "duration": 7,
    "start_time": "2021-12-17T18:41:24.571Z"
   },
   {
    "duration": 12,
    "start_time": "2021-12-17T18:41:24.580Z"
   },
   {
    "duration": 8,
    "start_time": "2021-12-17T18:41:24.595Z"
   },
   {
    "duration": 8,
    "start_time": "2021-12-17T18:41:24.606Z"
   },
   {
    "duration": 55,
    "start_time": "2021-12-17T18:41:24.616Z"
   },
   {
    "duration": 14,
    "start_time": "2021-12-17T18:41:24.674Z"
   },
   {
    "duration": 9,
    "start_time": "2021-12-17T18:41:24.691Z"
   },
   {
    "duration": 15,
    "start_time": "2021-12-17T18:41:24.703Z"
   },
   {
    "duration": 15,
    "start_time": "2021-12-17T18:41:24.764Z"
   },
   {
    "duration": 14,
    "start_time": "2021-12-17T18:41:24.781Z"
   },
   {
    "duration": 24,
    "start_time": "2021-12-17T18:41:24.797Z"
   },
   {
    "duration": 56,
    "start_time": "2021-12-17T18:41:24.824Z"
   },
   {
    "duration": 44,
    "start_time": "2021-12-17T18:41:24.884Z"
   },
   {
    "duration": 12,
    "start_time": "2021-12-17T19:01:12.647Z"
   },
   {
    "duration": 11,
    "start_time": "2021-12-17T19:01:40.545Z"
   },
   {
    "duration": 10,
    "start_time": "2021-12-17T19:14:22.274Z"
   },
   {
    "duration": 13,
    "start_time": "2021-12-17T19:15:00.915Z"
   },
   {
    "duration": 16,
    "start_time": "2021-12-17T19:15:19.396Z"
   },
   {
    "duration": 1498,
    "start_time": "2021-12-17T19:18:21.206Z"
   },
   {
    "duration": 76,
    "start_time": "2021-12-17T19:18:22.707Z"
   },
   {
    "duration": 55,
    "start_time": "2021-12-17T19:18:22.786Z"
   },
   {
    "duration": 37,
    "start_time": "2021-12-17T19:18:22.845Z"
   },
   {
    "duration": 15,
    "start_time": "2021-12-17T19:18:22.884Z"
   },
   {
    "duration": 16,
    "start_time": "2021-12-17T19:18:22.902Z"
   },
   {
    "duration": 15,
    "start_time": "2021-12-17T19:18:22.920Z"
   },
   {
    "duration": 630,
    "start_time": "2021-12-17T19:18:22.939Z"
   },
   {
    "duration": 8,
    "start_time": "2021-12-17T19:18:23.572Z"
   },
   {
    "duration": 5,
    "start_time": "2021-12-17T19:18:23.583Z"
   },
   {
    "duration": 8,
    "start_time": "2021-12-17T19:18:23.591Z"
   },
   {
    "duration": 14,
    "start_time": "2021-12-17T19:18:23.601Z"
   },
   {
    "duration": 8,
    "start_time": "2021-12-17T19:18:23.662Z"
   },
   {
    "duration": 10,
    "start_time": "2021-12-17T19:18:23.673Z"
   },
   {
    "duration": 11,
    "start_time": "2021-12-17T19:18:23.685Z"
   },
   {
    "duration": 15,
    "start_time": "2021-12-17T19:18:23.698Z"
   },
   {
    "duration": 49,
    "start_time": "2021-12-17T19:18:23.716Z"
   },
   {
    "duration": 15,
    "start_time": "2021-12-17T19:18:23.767Z"
   },
   {
    "duration": 15,
    "start_time": "2021-12-17T19:18:23.784Z"
   },
   {
    "duration": 8,
    "start_time": "2021-12-17T19:18:23.802Z"
   },
   {
    "duration": 55,
    "start_time": "2021-12-17T19:18:23.813Z"
   },
   {
    "duration": 22,
    "start_time": "2021-12-17T19:18:23.870Z"
   },
   {
    "duration": 70,
    "start_time": "2021-12-17T19:18:23.896Z"
   },
   {
    "duration": 12,
    "start_time": "2021-12-17T19:18:23.969Z"
   },
   {
    "duration": 447,
    "start_time": "2021-12-17T19:18:23.984Z"
   },
   {
    "duration": 392,
    "start_time": "2021-12-17T19:18:51.012Z"
   },
   {
    "duration": 14,
    "start_time": "2021-12-17T19:48:02.042Z"
   },
   {
    "duration": 1573,
    "start_time": "2021-12-17T19:53:02.625Z"
   },
   {
    "duration": 76,
    "start_time": "2021-12-17T19:53:04.200Z"
   },
   {
    "duration": 55,
    "start_time": "2021-12-17T19:53:04.279Z"
   },
   {
    "duration": 38,
    "start_time": "2021-12-17T19:53:04.337Z"
   },
   {
    "duration": 9,
    "start_time": "2021-12-17T19:53:04.378Z"
   },
   {
    "duration": 9,
    "start_time": "2021-12-17T19:53:04.390Z"
   },
   {
    "duration": 5,
    "start_time": "2021-12-17T19:53:04.401Z"
   },
   {
    "duration": 644,
    "start_time": "2021-12-17T19:53:04.410Z"
   },
   {
    "duration": 8,
    "start_time": "2021-12-17T19:53:05.057Z"
   },
   {
    "duration": 5,
    "start_time": "2021-12-17T19:53:05.067Z"
   },
   {
    "duration": 7,
    "start_time": "2021-12-17T19:53:05.074Z"
   },
   {
    "duration": 13,
    "start_time": "2021-12-17T19:53:05.084Z"
   },
   {
    "duration": 10,
    "start_time": "2021-12-17T19:53:05.099Z"
   },
   {
    "duration": 52,
    "start_time": "2021-12-17T19:53:05.111Z"
   },
   {
    "duration": 12,
    "start_time": "2021-12-17T19:53:05.165Z"
   },
   {
    "duration": 16,
    "start_time": "2021-12-17T19:53:05.179Z"
   },
   {
    "duration": 8,
    "start_time": "2021-12-17T19:53:05.197Z"
   },
   {
    "duration": 56,
    "start_time": "2021-12-17T19:53:05.207Z"
   },
   {
    "duration": 16,
    "start_time": "2021-12-17T19:53:05.265Z"
   },
   {
    "duration": 10,
    "start_time": "2021-12-17T19:53:05.283Z"
   },
   {
    "duration": 16,
    "start_time": "2021-12-17T19:53:05.296Z"
   },
   {
    "duration": 49,
    "start_time": "2021-12-17T19:53:05.314Z"
   },
   {
    "duration": 16,
    "start_time": "2021-12-17T19:53:05.367Z"
   },
   {
    "duration": 24,
    "start_time": "2021-12-17T19:53:05.386Z"
   },
   {
    "duration": 76,
    "start_time": "2021-12-17T19:53:05.412Z"
   },
   {
    "duration": 10,
    "start_time": "2021-12-17T19:53:05.491Z"
   },
   {
    "duration": 3,
    "start_time": "2021-12-17T19:53:05.503Z"
   },
   {
    "duration": 1497,
    "start_time": "2021-12-17T19:55:33.212Z"
   },
   {
    "duration": 1655,
    "start_time": "2021-12-17T19:55:43.330Z"
   },
   {
    "duration": 79,
    "start_time": "2021-12-17T19:55:44.988Z"
   },
   {
    "duration": 56,
    "start_time": "2021-12-17T19:55:45.070Z"
   },
   {
    "duration": 38,
    "start_time": "2021-12-17T19:55:45.130Z"
   },
   {
    "duration": 9,
    "start_time": "2021-12-17T19:55:45.171Z"
   },
   {
    "duration": 12,
    "start_time": "2021-12-17T19:55:45.183Z"
   },
   {
    "duration": 6,
    "start_time": "2021-12-17T19:55:45.198Z"
   },
   {
    "duration": 1053,
    "start_time": "2021-12-17T19:55:45.209Z"
   },
   {
    "duration": 9,
    "start_time": "2021-12-17T19:55:46.267Z"
   },
   {
    "duration": 38,
    "start_time": "2021-12-17T19:55:46.279Z"
   },
   {
    "duration": 9,
    "start_time": "2021-12-17T19:55:46.320Z"
   },
   {
    "duration": 14,
    "start_time": "2021-12-17T19:55:46.332Z"
   },
   {
    "duration": 19,
    "start_time": "2021-12-17T19:55:46.348Z"
   },
   {
    "duration": 12,
    "start_time": "2021-12-17T19:55:46.371Z"
   },
   {
    "duration": 19,
    "start_time": "2021-12-17T19:55:46.385Z"
   },
   {
    "duration": 16,
    "start_time": "2021-12-17T19:55:46.407Z"
   },
   {
    "duration": 41,
    "start_time": "2021-12-17T19:55:46.425Z"
   },
   {
    "duration": 16,
    "start_time": "2021-12-17T19:55:46.469Z"
   },
   {
    "duration": 17,
    "start_time": "2021-12-17T19:55:46.487Z"
   },
   {
    "duration": 13,
    "start_time": "2021-12-17T19:55:46.507Z"
   },
   {
    "duration": 53,
    "start_time": "2021-12-17T19:55:46.522Z"
   },
   {
    "duration": 7,
    "start_time": "2021-12-17T19:55:46.578Z"
   },
   {
    "duration": 16,
    "start_time": "2021-12-17T19:55:46.589Z"
   },
   {
    "duration": 73,
    "start_time": "2021-12-17T19:55:46.608Z"
   },
   {
    "duration": 51,
    "start_time": "2021-12-17T19:55:46.684Z"
   },
   {
    "duration": 34,
    "start_time": "2021-12-17T19:55:46.738Z"
   },
   {
    "duration": 1040,
    "start_time": "2021-12-17T19:55:46.775Z"
   },
   {
    "duration": 959,
    "start_time": "2021-12-17T20:03:28.886Z"
   },
   {
    "duration": 8,
    "start_time": "2021-12-17T20:22:29.347Z"
   },
   {
    "duration": 30,
    "start_time": "2021-12-17T20:22:44.368Z"
   },
   {
    "duration": 454,
    "start_time": "2021-12-17T20:23:32.824Z"
   },
   {
    "duration": 1539,
    "start_time": "2021-12-17T20:23:44.455Z"
   },
   {
    "duration": 79,
    "start_time": "2021-12-17T20:23:45.996Z"
   },
   {
    "duration": 59,
    "start_time": "2021-12-17T20:23:46.077Z"
   },
   {
    "duration": 37,
    "start_time": "2021-12-17T20:23:46.139Z"
   },
   {
    "duration": 7,
    "start_time": "2021-12-17T20:23:46.179Z"
   },
   {
    "duration": 9,
    "start_time": "2021-12-17T20:23:46.189Z"
   },
   {
    "duration": 5,
    "start_time": "2021-12-17T20:23:46.201Z"
   },
   {
    "duration": 1112,
    "start_time": "2021-12-17T20:23:46.212Z"
   },
   {
    "duration": 8,
    "start_time": "2021-12-17T20:23:47.328Z"
   },
   {
    "duration": 4,
    "start_time": "2021-12-17T20:23:47.338Z"
   },
   {
    "duration": 23,
    "start_time": "2021-12-17T20:23:47.346Z"
   },
   {
    "duration": 14,
    "start_time": "2021-12-17T20:23:47.371Z"
   },
   {
    "duration": 10,
    "start_time": "2021-12-17T20:23:47.390Z"
   },
   {
    "duration": 8,
    "start_time": "2021-12-17T20:23:47.403Z"
   },
   {
    "duration": 59,
    "start_time": "2021-12-17T20:23:47.414Z"
   },
   {
    "duration": 13,
    "start_time": "2021-12-17T20:23:47.476Z"
   },
   {
    "duration": 8,
    "start_time": "2021-12-17T20:23:47.492Z"
   },
   {
    "duration": 15,
    "start_time": "2021-12-17T20:23:47.503Z"
   },
   {
    "duration": 17,
    "start_time": "2021-12-17T20:23:47.571Z"
   },
   {
    "duration": 11,
    "start_time": "2021-12-17T20:23:47.591Z"
   },
   {
    "duration": 19,
    "start_time": "2021-12-17T20:23:47.604Z"
   },
   {
    "duration": 37,
    "start_time": "2021-12-17T20:23:47.626Z"
   },
   {
    "duration": 17,
    "start_time": "2021-12-17T20:23:47.668Z"
   },
   {
    "duration": 23,
    "start_time": "2021-12-17T20:23:47.687Z"
   },
   {
    "duration": 76,
    "start_time": "2021-12-17T20:23:47.713Z"
   },
   {
    "duration": 10,
    "start_time": "2021-12-17T20:23:47.792Z"
   },
   {
    "duration": 570,
    "start_time": "2021-12-17T20:23:47.804Z"
   },
   {
    "duration": 6,
    "start_time": "2021-12-17T20:24:52.412Z"
   },
   {
    "duration": 981,
    "start_time": "2021-12-17T20:25:44.073Z"
   },
   {
    "duration": 1023,
    "start_time": "2021-12-17T20:27:13.906Z"
   },
   {
    "duration": 1435,
    "start_time": "2021-12-17T20:27:28.229Z"
   },
   {
    "duration": 976,
    "start_time": "2021-12-17T20:33:41.794Z"
   },
   {
    "duration": 1486,
    "start_time": "2021-12-17T20:53:37.915Z"
   },
   {
    "duration": 77,
    "start_time": "2021-12-17T20:53:39.404Z"
   },
   {
    "duration": 54,
    "start_time": "2021-12-17T20:53:39.484Z"
   },
   {
    "duration": 36,
    "start_time": "2021-12-17T20:53:39.540Z"
   },
   {
    "duration": 11,
    "start_time": "2021-12-17T20:53:39.579Z"
   },
   {
    "duration": 13,
    "start_time": "2021-12-17T20:53:39.592Z"
   },
   {
    "duration": 5,
    "start_time": "2021-12-17T20:53:39.608Z"
   },
   {
    "duration": 746,
    "start_time": "2021-12-17T20:53:39.620Z"
   },
   {
    "duration": 8,
    "start_time": "2021-12-17T20:53:40.370Z"
   },
   {
    "duration": 7,
    "start_time": "2021-12-17T20:53:40.381Z"
   },
   {
    "duration": 12,
    "start_time": "2021-12-17T20:53:40.391Z"
   },
   {
    "duration": 13,
    "start_time": "2021-12-17T20:53:40.405Z"
   },
   {
    "duration": 47,
    "start_time": "2021-12-17T20:53:40.420Z"
   },
   {
    "duration": 9,
    "start_time": "2021-12-17T20:53:40.469Z"
   },
   {
    "duration": 11,
    "start_time": "2021-12-17T20:53:40.480Z"
   },
   {
    "duration": 14,
    "start_time": "2021-12-17T20:53:40.493Z"
   },
   {
    "duration": 56,
    "start_time": "2021-12-17T20:53:40.510Z"
   },
   {
    "duration": 15,
    "start_time": "2021-12-17T20:53:40.569Z"
   },
   {
    "duration": 17,
    "start_time": "2021-12-17T20:53:40.587Z"
   },
   {
    "duration": 11,
    "start_time": "2021-12-17T20:53:40.606Z"
   },
   {
    "duration": 57,
    "start_time": "2021-12-17T20:53:40.619Z"
   },
   {
    "duration": 10,
    "start_time": "2021-12-17T20:53:40.680Z"
   },
   {
    "duration": 16,
    "start_time": "2021-12-17T20:53:40.694Z"
   },
   {
    "duration": 62,
    "start_time": "2021-12-17T20:53:40.712Z"
   },
   {
    "duration": 41,
    "start_time": "2021-12-17T20:53:40.776Z"
   },
   {
    "duration": 10,
    "start_time": "2021-12-17T20:53:40.819Z"
   },
   {
    "duration": 1018,
    "start_time": "2021-12-17T20:53:40.831Z"
   },
   {
    "duration": 3809,
    "start_time": "2021-12-17T21:22:42.004Z"
   },
   {
    "duration": 3577,
    "start_time": "2021-12-17T21:36:01.710Z"
   },
   {
    "duration": 3489,
    "start_time": "2021-12-17T21:36:54.016Z"
   },
   {
    "duration": 3796,
    "start_time": "2021-12-17T21:42:55.720Z"
   },
   {
    "duration": 3559,
    "start_time": "2021-12-17T21:43:29.205Z"
   },
   {
    "duration": 1110,
    "start_time": "2021-12-18T08:37:13.010Z"
   },
   {
    "duration": 58,
    "start_time": "2021-12-18T08:37:14.122Z"
   },
   {
    "duration": 35,
    "start_time": "2021-12-18T08:37:14.183Z"
   },
   {
    "duration": 14,
    "start_time": "2021-12-18T08:37:14.221Z"
   },
   {
    "duration": 31,
    "start_time": "2021-12-18T08:37:14.236Z"
   },
   {
    "duration": 7,
    "start_time": "2021-12-18T08:37:14.269Z"
   },
   {
    "duration": 3,
    "start_time": "2021-12-18T08:37:14.278Z"
   },
   {
    "duration": 579,
    "start_time": "2021-12-18T08:37:14.284Z"
   },
   {
    "duration": 6,
    "start_time": "2021-12-18T08:37:14.866Z"
   },
   {
    "duration": 4,
    "start_time": "2021-12-18T08:37:14.874Z"
   },
   {
    "duration": 5,
    "start_time": "2021-12-18T08:37:14.880Z"
   },
   {
    "duration": 11,
    "start_time": "2021-12-18T08:37:14.887Z"
   },
   {
    "duration": 6,
    "start_time": "2021-12-18T08:37:14.899Z"
   },
   {
    "duration": 6,
    "start_time": "2021-12-18T08:37:14.907Z"
   },
   {
    "duration": 8,
    "start_time": "2021-12-18T08:37:14.915Z"
   },
   {
    "duration": 44,
    "start_time": "2021-12-18T08:37:14.925Z"
   },
   {
    "duration": 7,
    "start_time": "2021-12-18T08:37:14.971Z"
   },
   {
    "duration": 16,
    "start_time": "2021-12-18T08:37:14.980Z"
   },
   {
    "duration": 24,
    "start_time": "2021-12-18T08:37:14.998Z"
   },
   {
    "duration": 12,
    "start_time": "2021-12-18T08:37:15.025Z"
   },
   {
    "duration": 17,
    "start_time": "2021-12-18T08:37:15.064Z"
   },
   {
    "duration": 6,
    "start_time": "2021-12-18T08:37:15.083Z"
   },
   {
    "duration": 13,
    "start_time": "2021-12-18T08:37:15.092Z"
   },
   {
    "duration": 15,
    "start_time": "2021-12-18T08:37:15.107Z"
   },
   {
    "duration": 58,
    "start_time": "2021-12-18T08:37:15.123Z"
   },
   {
    "duration": 7,
    "start_time": "2021-12-18T08:37:15.182Z"
   },
   {
    "duration": 2458,
    "start_time": "2021-12-18T08:37:15.191Z"
   },
   {
    "duration": 439,
    "start_time": "2021-12-18T11:33:48.010Z"
   },
   {
    "duration": 1676,
    "start_time": "2021-12-18T11:33:56.227Z"
   },
   {
    "duration": 92,
    "start_time": "2021-12-18T11:33:57.906Z"
   },
   {
    "duration": 75,
    "start_time": "2021-12-18T11:33:58.001Z"
   },
   {
    "duration": 22,
    "start_time": "2021-12-18T11:33:58.078Z"
   },
   {
    "duration": 10,
    "start_time": "2021-12-18T11:33:58.103Z"
   },
   {
    "duration": 9,
    "start_time": "2021-12-18T11:33:58.115Z"
   },
   {
    "duration": 5,
    "start_time": "2021-12-18T11:33:58.159Z"
   },
   {
    "duration": 944,
    "start_time": "2021-12-18T11:33:58.169Z"
   },
   {
    "duration": 6,
    "start_time": "2021-12-18T11:33:59.117Z"
   },
   {
    "duration": 6,
    "start_time": "2021-12-18T11:33:59.125Z"
   },
   {
    "duration": 29,
    "start_time": "2021-12-18T11:33:59.133Z"
   },
   {
    "duration": 12,
    "start_time": "2021-12-18T11:33:59.164Z"
   },
   {
    "duration": 8,
    "start_time": "2021-12-18T11:33:59.179Z"
   },
   {
    "duration": 11,
    "start_time": "2021-12-18T11:33:59.189Z"
   },
   {
    "duration": 57,
    "start_time": "2021-12-18T11:33:59.202Z"
   },
   {
    "duration": 14,
    "start_time": "2021-12-18T11:33:59.262Z"
   },
   {
    "duration": 11,
    "start_time": "2021-12-18T11:33:59.279Z"
   },
   {
    "duration": 13,
    "start_time": "2021-12-18T11:33:59.292Z"
   },
   {
    "duration": 58,
    "start_time": "2021-12-18T11:33:59.308Z"
   },
   {
    "duration": 12,
    "start_time": "2021-12-18T11:33:59.369Z"
   },
   {
    "duration": 18,
    "start_time": "2021-12-18T11:33:59.384Z"
   },
   {
    "duration": 9,
    "start_time": "2021-12-18T11:33:59.405Z"
   },
   {
    "duration": 59,
    "start_time": "2021-12-18T11:33:59.420Z"
   },
   {
    "duration": 35,
    "start_time": "2021-12-18T11:33:59.482Z"
   },
   {
    "duration": 73,
    "start_time": "2021-12-18T11:33:59.520Z"
   },
   {
    "duration": 11,
    "start_time": "2021-12-18T11:33:59.595Z"
   },
   {
    "duration": 3665,
    "start_time": "2021-12-18T11:33:59.609Z"
   },
   {
    "duration": 2556,
    "start_time": "2021-12-18T11:34:03.276Z"
   },
   {
    "duration": -54,
    "start_time": "2021-12-18T11:34:05.889Z"
   },
   {
    "duration": 15197,
    "start_time": "2021-12-18T11:35:06.600Z"
   },
   {
    "duration": 2013,
    "start_time": "2021-12-18T11:36:17.409Z"
   },
   {
    "duration": 106,
    "start_time": "2021-12-18T11:36:19.426Z"
   },
   {
    "duration": 70,
    "start_time": "2021-12-18T11:36:19.535Z"
   },
   {
    "duration": 23,
    "start_time": "2021-12-18T11:36:19.608Z"
   },
   {
    "duration": 32,
    "start_time": "2021-12-18T11:36:19.634Z"
   },
   {
    "duration": 11,
    "start_time": "2021-12-18T11:36:19.669Z"
   },
   {
    "duration": 11,
    "start_time": "2021-12-18T11:36:19.682Z"
   },
   {
    "duration": 671,
    "start_time": "2021-12-18T11:36:19.697Z"
   },
   {
    "duration": 7,
    "start_time": "2021-12-18T11:36:20.371Z"
   },
   {
    "duration": 6,
    "start_time": "2021-12-18T11:36:20.380Z"
   },
   {
    "duration": 10,
    "start_time": "2021-12-18T11:36:20.389Z"
   },
   {
    "duration": 18,
    "start_time": "2021-12-18T11:36:20.401Z"
   },
   {
    "duration": 37,
    "start_time": "2021-12-18T11:36:20.422Z"
   },
   {
    "duration": 11,
    "start_time": "2021-12-18T11:36:20.463Z"
   },
   {
    "duration": 16,
    "start_time": "2021-12-18T11:36:20.477Z"
   },
   {
    "duration": 20,
    "start_time": "2021-12-18T11:36:20.496Z"
   },
   {
    "duration": 46,
    "start_time": "2021-12-18T11:36:20.519Z"
   },
   {
    "duration": 15,
    "start_time": "2021-12-18T11:36:20.568Z"
   },
   {
    "duration": 25,
    "start_time": "2021-12-18T11:36:20.586Z"
   },
   {
    "duration": 10,
    "start_time": "2021-12-18T11:36:20.614Z"
   },
   {
    "duration": 23,
    "start_time": "2021-12-18T11:36:20.660Z"
   },
   {
    "duration": 6,
    "start_time": "2021-12-18T11:36:20.686Z"
   },
   {
    "duration": 20,
    "start_time": "2021-12-18T11:36:20.696Z"
   },
   {
    "duration": 62,
    "start_time": "2021-12-18T11:36:20.718Z"
   },
   {
    "duration": 58,
    "start_time": "2021-12-18T11:36:20.783Z"
   },
   {
    "duration": 14,
    "start_time": "2021-12-18T11:36:20.860Z"
   },
   {
    "duration": 3959,
    "start_time": "2021-12-18T11:36:20.877Z"
   },
   {
    "duration": 4263,
    "start_time": "2021-12-18T11:36:24.839Z"
   },
   {
    "duration": -34,
    "start_time": "2021-12-18T11:36:29.139Z"
   },
   {
    "duration": 496,
    "start_time": "2021-12-18T11:42:43.198Z"
   },
   {
    "duration": 35925,
    "start_time": "2021-12-18T11:44:25.470Z"
   },
   {
    "duration": 1869,
    "start_time": "2021-12-18T11:46:16.371Z"
   },
   {
    "duration": 105,
    "start_time": "2021-12-18T11:46:18.243Z"
   },
   {
    "duration": 85,
    "start_time": "2021-12-18T11:46:18.352Z"
   },
   {
    "duration": 35,
    "start_time": "2021-12-18T11:46:18.440Z"
   },
   {
    "duration": 11,
    "start_time": "2021-12-18T11:46:18.478Z"
   },
   {
    "duration": 9,
    "start_time": "2021-12-18T11:46:18.492Z"
   },
   {
    "duration": 5,
    "start_time": "2021-12-18T11:46:18.503Z"
   },
   {
    "duration": 738,
    "start_time": "2021-12-18T11:46:18.512Z"
   },
   {
    "duration": 11,
    "start_time": "2021-12-18T11:46:19.253Z"
   },
   {
    "duration": 8,
    "start_time": "2021-12-18T11:46:19.266Z"
   },
   {
    "duration": 7,
    "start_time": "2021-12-18T11:46:19.277Z"
   },
   {
    "duration": 14,
    "start_time": "2021-12-18T11:46:19.286Z"
   },
   {
    "duration": 9,
    "start_time": "2021-12-18T11:46:19.302Z"
   },
   {
    "duration": 16,
    "start_time": "2021-12-18T11:46:19.358Z"
   },
   {
    "duration": 17,
    "start_time": "2021-12-18T11:46:19.377Z"
   },
   {
    "duration": 18,
    "start_time": "2021-12-18T11:46:19.396Z"
   },
   {
    "duration": 42,
    "start_time": "2021-12-18T11:46:19.417Z"
   },
   {
    "duration": 15,
    "start_time": "2021-12-18T11:46:19.462Z"
   },
   {
    "duration": 25,
    "start_time": "2021-12-18T11:46:19.479Z"
   },
   {
    "duration": 15,
    "start_time": "2021-12-18T11:46:19.507Z"
   },
   {
    "duration": 56,
    "start_time": "2021-12-18T11:46:19.524Z"
   },
   {
    "duration": 7,
    "start_time": "2021-12-18T11:46:19.582Z"
   },
   {
    "duration": 16,
    "start_time": "2021-12-18T11:46:19.593Z"
   },
   {
    "duration": 61,
    "start_time": "2021-12-18T11:46:19.611Z"
   },
   {
    "duration": 45,
    "start_time": "2021-12-18T11:46:19.675Z"
   },
   {
    "duration": 11,
    "start_time": "2021-12-18T11:46:19.723Z"
   },
   {
    "duration": 3492,
    "start_time": "2021-12-18T11:46:19.759Z"
   },
   {
    "duration": 38072,
    "start_time": "2021-12-18T11:46:23.260Z"
   },
   {
    "duration": 3,
    "start_time": "2021-12-18T11:47:01.335Z"
   },
   {
    "duration": 39896,
    "start_time": "2021-12-18T11:47:24.881Z"
   },
   {
    "duration": 187,
    "start_time": "2021-12-18T11:48:36.097Z"
   },
   {
    "duration": 133,
    "start_time": "2021-12-18T11:49:41.375Z"
   },
   {
    "duration": 131,
    "start_time": "2021-12-18T11:49:47.561Z"
   },
   {
    "duration": 1593,
    "start_time": "2021-12-18T11:49:53.306Z"
   },
   {
    "duration": 78,
    "start_time": "2021-12-18T11:49:54.902Z"
   },
   {
    "duration": 58,
    "start_time": "2021-12-18T11:49:54.983Z"
   },
   {
    "duration": 41,
    "start_time": "2021-12-18T11:49:55.044Z"
   },
   {
    "duration": 9,
    "start_time": "2021-12-18T11:49:55.088Z"
   },
   {
    "duration": 11,
    "start_time": "2021-12-18T11:49:55.099Z"
   },
   {
    "duration": 5,
    "start_time": "2021-12-18T11:49:55.112Z"
   },
   {
    "duration": 669,
    "start_time": "2021-12-18T11:49:55.121Z"
   },
   {
    "duration": 7,
    "start_time": "2021-12-18T11:49:55.793Z"
   },
   {
    "duration": 8,
    "start_time": "2021-12-18T11:49:55.803Z"
   },
   {
    "duration": 6,
    "start_time": "2021-12-18T11:49:55.813Z"
   },
   {
    "duration": 43,
    "start_time": "2021-12-18T11:49:55.822Z"
   },
   {
    "duration": 8,
    "start_time": "2021-12-18T11:49:55.868Z"
   },
   {
    "duration": 9,
    "start_time": "2021-12-18T11:49:55.879Z"
   },
   {
    "duration": 11,
    "start_time": "2021-12-18T11:49:55.891Z"
   },
   {
    "duration": 56,
    "start_time": "2021-12-18T11:49:55.904Z"
   },
   {
    "duration": 9,
    "start_time": "2021-12-18T11:49:55.962Z"
   },
   {
    "duration": 16,
    "start_time": "2021-12-18T11:49:55.973Z"
   },
   {
    "duration": 24,
    "start_time": "2021-12-18T11:49:55.992Z"
   },
   {
    "duration": 42,
    "start_time": "2021-12-18T11:49:56.019Z"
   },
   {
    "duration": 22,
    "start_time": "2021-12-18T11:49:56.064Z"
   },
   {
    "duration": 10,
    "start_time": "2021-12-18T11:49:56.089Z"
   },
   {
    "duration": 56,
    "start_time": "2021-12-18T11:49:56.105Z"
   },
   {
    "duration": 34,
    "start_time": "2021-12-18T11:49:56.164Z"
   },
   {
    "duration": 74,
    "start_time": "2021-12-18T11:49:56.201Z"
   },
   {
    "duration": 9,
    "start_time": "2021-12-18T11:49:56.278Z"
   },
   {
    "duration": 3962,
    "start_time": "2021-12-18T11:49:56.290Z"
   },
   {
    "duration": 130,
    "start_time": "2021-12-18T11:50:00.260Z"
   },
   {
    "duration": -41,
    "start_time": "2021-12-18T11:50:00.434Z"
   },
   {
    "duration": 171,
    "start_time": "2021-12-18T11:51:24.290Z"
   },
   {
    "duration": 6994,
    "start_time": "2021-12-18T11:51:41.005Z"
   },
   {
    "duration": 6560,
    "start_time": "2021-12-18T11:52:25.318Z"
   },
   {
    "duration": 6911,
    "start_time": "2021-12-18T11:55:10.661Z"
   },
   {
    "duration": 10657,
    "start_time": "2021-12-18T11:55:46.502Z"
   },
   {
    "duration": 5314,
    "start_time": "2021-12-18T11:59:54.679Z"
   },
   {
    "duration": 5980,
    "start_time": "2021-12-18T12:02:18.040Z"
   },
   {
    "duration": 5168,
    "start_time": "2021-12-18T12:03:20.968Z"
   },
   {
    "duration": 15,
    "start_time": "2021-12-18T12:04:36.006Z"
   },
   {
    "duration": 5704,
    "start_time": "2021-12-18T12:16:44.646Z"
   },
   {
    "duration": 1736,
    "start_time": "2021-12-18T12:16:59.890Z"
   },
   {
    "duration": 79,
    "start_time": "2021-12-18T12:17:01.629Z"
   },
   {
    "duration": 69,
    "start_time": "2021-12-18T12:17:01.711Z"
   },
   {
    "duration": 22,
    "start_time": "2021-12-18T12:17:01.783Z"
   },
   {
    "duration": 13,
    "start_time": "2021-12-18T12:17:01.808Z"
   },
   {
    "duration": 36,
    "start_time": "2021-12-18T12:17:01.823Z"
   },
   {
    "duration": 4,
    "start_time": "2021-12-18T12:17:01.862Z"
   },
   {
    "duration": 628,
    "start_time": "2021-12-18T12:17:01.870Z"
   },
   {
    "duration": 6,
    "start_time": "2021-12-18T12:17:02.501Z"
   },
   {
    "duration": 9,
    "start_time": "2021-12-18T12:17:02.509Z"
   },
   {
    "duration": 13,
    "start_time": "2021-12-18T12:17:02.520Z"
   },
   {
    "duration": 13,
    "start_time": "2021-12-18T12:17:02.560Z"
   },
   {
    "duration": 24,
    "start_time": "2021-12-18T12:17:02.576Z"
   },
   {
    "duration": 14,
    "start_time": "2021-12-18T12:17:02.602Z"
   },
   {
    "duration": 12,
    "start_time": "2021-12-18T12:17:02.618Z"
   },
   {
    "duration": 39,
    "start_time": "2021-12-18T12:17:02.632Z"
   },
   {
    "duration": 10,
    "start_time": "2021-12-18T12:17:02.673Z"
   },
   {
    "duration": 18,
    "start_time": "2021-12-18T12:17:02.685Z"
   },
   {
    "duration": 20,
    "start_time": "2021-12-18T12:17:02.705Z"
   },
   {
    "duration": 39,
    "start_time": "2021-12-18T12:17:02.727Z"
   },
   {
    "duration": 16,
    "start_time": "2021-12-18T12:17:02.768Z"
   },
   {
    "duration": 9,
    "start_time": "2021-12-18T12:17:02.787Z"
   },
   {
    "duration": 16,
    "start_time": "2021-12-18T12:17:02.800Z"
   },
   {
    "duration": 56,
    "start_time": "2021-12-18T12:17:02.818Z"
   },
   {
    "duration": 61,
    "start_time": "2021-12-18T12:17:02.877Z"
   },
   {
    "duration": 14,
    "start_time": "2021-12-18T12:17:02.960Z"
   },
   {
    "duration": 3722,
    "start_time": "2021-12-18T12:17:02.977Z"
   },
   {
    "duration": 4389,
    "start_time": "2021-12-18T12:17:06.702Z"
   },
   {
    "duration": 4,
    "start_time": "2021-12-18T12:17:11.093Z"
   },
   {
    "duration": 4863,
    "start_time": "2021-12-18T12:18:25.130Z"
   },
   {
    "duration": 4498,
    "start_time": "2021-12-18T12:19:39.336Z"
   },
   {
    "duration": 4644,
    "start_time": "2021-12-18T12:22:36.732Z"
   },
   {
    "duration": 4910,
    "start_time": "2021-12-18T12:25:57.323Z"
   },
   {
    "duration": 5859,
    "start_time": "2021-12-18T12:27:28.631Z"
   },
   {
    "duration": 4812,
    "start_time": "2021-12-18T12:28:33.670Z"
   },
   {
    "duration": 1564,
    "start_time": "2021-12-18T12:32:51.695Z"
   },
   {
    "duration": 78,
    "start_time": "2021-12-18T12:32:53.262Z"
   },
   {
    "duration": 62,
    "start_time": "2021-12-18T12:32:53.343Z"
   },
   {
    "duration": 21,
    "start_time": "2021-12-18T12:32:53.407Z"
   },
   {
    "duration": 34,
    "start_time": "2021-12-18T12:32:53.430Z"
   },
   {
    "duration": 10,
    "start_time": "2021-12-18T12:32:53.466Z"
   },
   {
    "duration": 5,
    "start_time": "2021-12-18T12:32:53.479Z"
   },
   {
    "duration": 647,
    "start_time": "2021-12-18T12:32:53.488Z"
   },
   {
    "duration": 7,
    "start_time": "2021-12-18T12:32:54.138Z"
   },
   {
    "duration": 3,
    "start_time": "2021-12-18T12:32:54.160Z"
   },
   {
    "duration": 6,
    "start_time": "2021-12-18T12:32:54.166Z"
   },
   {
    "duration": 13,
    "start_time": "2021-12-18T12:32:54.174Z"
   },
   {
    "duration": 8,
    "start_time": "2021-12-18T12:32:54.189Z"
   },
   {
    "duration": 9,
    "start_time": "2021-12-18T12:32:54.200Z"
   },
   {
    "duration": 52,
    "start_time": "2021-12-18T12:32:54.211Z"
   },
   {
    "duration": 14,
    "start_time": "2021-12-18T12:32:54.266Z"
   },
   {
    "duration": 9,
    "start_time": "2021-12-18T12:32:54.282Z"
   },
   {
    "duration": 13,
    "start_time": "2021-12-18T12:32:54.293Z"
   },
   {
    "duration": 56,
    "start_time": "2021-12-18T12:32:54.308Z"
   },
   {
    "duration": 11,
    "start_time": "2021-12-18T12:32:54.367Z"
   },
   {
    "duration": 19,
    "start_time": "2021-12-18T12:32:54.381Z"
   },
   {
    "duration": 8,
    "start_time": "2021-12-18T12:32:54.403Z"
   },
   {
    "duration": 57,
    "start_time": "2021-12-18T12:32:54.416Z"
   },
   {
    "duration": 23,
    "start_time": "2021-12-18T12:32:54.476Z"
   },
   {
    "duration": 70,
    "start_time": "2021-12-18T12:32:54.501Z"
   },
   {
    "duration": 10,
    "start_time": "2021-12-18T12:32:54.573Z"
   },
   {
    "duration": 3351,
    "start_time": "2021-12-18T12:32:54.585Z"
   },
   {
    "duration": 1788,
    "start_time": "2021-12-18T12:32:57.939Z"
   },
   {
    "duration": -58,
    "start_time": "2021-12-18T12:32:59.788Z"
   },
   {
    "duration": 15076,
    "start_time": "2021-12-18T12:33:07.025Z"
   },
   {
    "duration": 8434,
    "start_time": "2021-12-18T12:33:31.874Z"
   },
   {
    "duration": 4515,
    "start_time": "2021-12-18T12:35:13.930Z"
   },
   {
    "duration": 1728,
    "start_time": "2021-12-18T12:39:36.212Z"
   },
   {
    "duration": 107,
    "start_time": "2021-12-18T12:39:37.943Z"
   },
   {
    "duration": 75,
    "start_time": "2021-12-18T12:39:38.061Z"
   },
   {
    "duration": 37,
    "start_time": "2021-12-18T12:39:38.139Z"
   },
   {
    "duration": 8,
    "start_time": "2021-12-18T12:39:38.178Z"
   },
   {
    "duration": 9,
    "start_time": "2021-12-18T12:39:38.189Z"
   },
   {
    "duration": 5,
    "start_time": "2021-12-18T12:39:38.200Z"
   },
   {
    "duration": 696,
    "start_time": "2021-12-18T12:39:38.209Z"
   },
   {
    "duration": 8,
    "start_time": "2021-12-18T12:39:38.909Z"
   },
   {
    "duration": 6,
    "start_time": "2021-12-18T12:39:38.919Z"
   },
   {
    "duration": 31,
    "start_time": "2021-12-18T12:39:38.928Z"
   },
   {
    "duration": 18,
    "start_time": "2021-12-18T12:39:38.963Z"
   },
   {
    "duration": 14,
    "start_time": "2021-12-18T12:39:38.983Z"
   },
   {
    "duration": 12,
    "start_time": "2021-12-18T12:39:38.999Z"
   },
   {
    "duration": 47,
    "start_time": "2021-12-18T12:39:39.013Z"
   },
   {
    "duration": 15,
    "start_time": "2021-12-18T12:39:39.063Z"
   },
   {
    "duration": 11,
    "start_time": "2021-12-18T12:39:39.080Z"
   },
   {
    "duration": 14,
    "start_time": "2021-12-18T12:39:39.093Z"
   },
   {
    "duration": 55,
    "start_time": "2021-12-18T12:39:39.109Z"
   },
   {
    "duration": 9,
    "start_time": "2021-12-18T12:39:39.167Z"
   },
   {
    "duration": 26,
    "start_time": "2021-12-18T12:39:39.179Z"
   },
   {
    "duration": 9,
    "start_time": "2021-12-18T12:39:39.208Z"
   },
   {
    "duration": 51,
    "start_time": "2021-12-18T12:39:39.223Z"
   },
   {
    "duration": 25,
    "start_time": "2021-12-18T12:39:39.278Z"
   },
   {
    "duration": 92,
    "start_time": "2021-12-18T12:39:39.306Z"
   },
   {
    "duration": 14,
    "start_time": "2021-12-18T12:39:39.401Z"
   },
   {
    "duration": 4129,
    "start_time": "2021-12-18T12:39:39.417Z"
   },
   {
    "duration": 6899,
    "start_time": "2021-12-18T12:39:43.549Z"
   },
   {
    "duration": 4,
    "start_time": "2021-12-18T12:39:50.458Z"
   },
   {
    "duration": 1737,
    "start_time": "2021-12-18T13:00:00.899Z"
   },
   {
    "duration": 80,
    "start_time": "2021-12-18T13:00:02.639Z"
   },
   {
    "duration": 98,
    "start_time": "2021-12-18T13:00:02.727Z"
   },
   {
    "duration": 35,
    "start_time": "2021-12-18T13:00:02.828Z"
   },
   {
    "duration": 11,
    "start_time": "2021-12-18T13:00:02.866Z"
   },
   {
    "duration": 10,
    "start_time": "2021-12-18T13:00:02.880Z"
   },
   {
    "duration": 5,
    "start_time": "2021-12-18T13:00:02.894Z"
   },
   {
    "duration": 675,
    "start_time": "2021-12-18T13:00:02.902Z"
   },
   {
    "duration": 6,
    "start_time": "2021-12-18T13:00:03.579Z"
   },
   {
    "duration": 8,
    "start_time": "2021-12-18T13:00:03.588Z"
   },
   {
    "duration": 8,
    "start_time": "2021-12-18T13:00:03.598Z"
   },
   {
    "duration": 14,
    "start_time": "2021-12-18T13:00:03.608Z"
   },
   {
    "duration": 43,
    "start_time": "2021-12-18T13:00:03.626Z"
   },
   {
    "duration": 11,
    "start_time": "2021-12-18T13:00:03.672Z"
   },
   {
    "duration": 14,
    "start_time": "2021-12-18T13:00:03.686Z"
   },
   {
    "duration": 66,
    "start_time": "2021-12-18T13:00:03.703Z"
   },
   {
    "duration": 11,
    "start_time": "2021-12-18T13:00:03.773Z"
   },
   {
    "duration": 16,
    "start_time": "2021-12-18T13:00:03.786Z"
   },
   {
    "duration": 18,
    "start_time": "2021-12-18T13:00:03.805Z"
   },
   {
    "duration": 35,
    "start_time": "2021-12-18T13:00:03.826Z"
   },
   {
    "duration": 19,
    "start_time": "2021-12-18T13:00:03.864Z"
   },
   {
    "duration": 8,
    "start_time": "2021-12-18T13:00:03.888Z"
   },
   {
    "duration": 18,
    "start_time": "2021-12-18T13:00:03.898Z"
   },
   {
    "duration": 64,
    "start_time": "2021-12-18T13:00:03.918Z"
   },
   {
    "duration": 78,
    "start_time": "2021-12-18T13:00:03.985Z"
   },
   {
    "duration": 14,
    "start_time": "2021-12-18T13:00:04.067Z"
   },
   {
    "duration": 3679,
    "start_time": "2021-12-18T13:00:04.084Z"
   },
   {
    "duration": 7457,
    "start_time": "2021-12-18T13:00:07.767Z"
   },
   {
    "duration": 3,
    "start_time": "2021-12-18T13:00:15.227Z"
   },
   {
    "duration": 26,
    "start_time": "2021-12-18T13:00:15.234Z"
   },
   {
    "duration": 7,
    "start_time": "2021-12-18T13:00:15.262Z"
   },
   {
    "duration": 581,
    "start_time": "2021-12-18T13:16:43.839Z"
   },
   {
    "duration": 47,
    "start_time": "2021-12-18T13:17:21.455Z"
   },
   {
    "duration": 33,
    "start_time": "2021-12-18T13:17:56.758Z"
   },
   {
    "duration": 15,
    "start_time": "2021-12-18T13:18:09.012Z"
   },
   {
    "duration": 110,
    "start_time": "2021-12-18T13:19:08.710Z"
   },
   {
    "duration": 70,
    "start_time": "2021-12-18T13:19:34.194Z"
   },
   {
    "duration": 2045,
    "start_time": "2021-12-18T13:19:48.196Z"
   },
   {
    "duration": 109,
    "start_time": "2021-12-18T13:19:50.244Z"
   },
   {
    "duration": 81,
    "start_time": "2021-12-18T13:19:50.360Z"
   },
   {
    "duration": 44,
    "start_time": "2021-12-18T13:19:50.444Z"
   },
   {
    "duration": 10,
    "start_time": "2021-12-18T13:19:50.491Z"
   },
   {
    "duration": 12,
    "start_time": "2021-12-18T13:19:50.505Z"
   },
   {
    "duration": 41,
    "start_time": "2021-12-18T13:19:50.520Z"
   },
   {
    "duration": 671,
    "start_time": "2021-12-18T13:19:50.567Z"
   },
   {
    "duration": 23,
    "start_time": "2021-12-18T13:19:51.242Z"
   },
   {
    "duration": 5,
    "start_time": "2021-12-18T13:19:51.269Z"
   },
   {
    "duration": 18,
    "start_time": "2021-12-18T13:19:51.277Z"
   },
   {
    "duration": 15,
    "start_time": "2021-12-18T13:19:51.298Z"
   },
   {
    "duration": 21,
    "start_time": "2021-12-18T13:19:51.316Z"
   },
   {
    "duration": 9,
    "start_time": "2021-12-18T13:19:51.361Z"
   },
   {
    "duration": 17,
    "start_time": "2021-12-18T13:19:51.372Z"
   },
   {
    "duration": 18,
    "start_time": "2021-12-18T13:19:51.392Z"
   },
   {
    "duration": 15,
    "start_time": "2021-12-18T13:19:51.413Z"
   },
   {
    "duration": 42,
    "start_time": "2021-12-18T13:19:51.431Z"
   },
   {
    "duration": 19,
    "start_time": "2021-12-18T13:19:51.476Z"
   },
   {
    "duration": 10,
    "start_time": "2021-12-18T13:19:51.498Z"
   },
   {
    "duration": 59,
    "start_time": "2021-12-18T13:19:51.511Z"
   },
   {
    "duration": 7,
    "start_time": "2021-12-18T13:19:51.573Z"
   },
   {
    "duration": 18,
    "start_time": "2021-12-18T13:19:51.585Z"
   },
   {
    "duration": 53,
    "start_time": "2021-12-18T13:19:51.606Z"
   },
   {
    "duration": 43,
    "start_time": "2021-12-18T13:19:51.662Z"
   },
   {
    "duration": 11,
    "start_time": "2021-12-18T13:19:51.707Z"
   },
   {
    "duration": 3446,
    "start_time": "2021-12-18T13:19:51.720Z"
   },
   {
    "duration": 7082,
    "start_time": "2021-12-18T13:19:55.169Z"
   },
   {
    "duration": 17,
    "start_time": "2021-12-18T13:20:02.261Z"
   },
   {
    "duration": 6,
    "start_time": "2021-12-18T13:20:02.281Z"
   },
   {
    "duration": 5,
    "start_time": "2021-12-18T13:20:02.289Z"
   },
   {
    "duration": 17,
    "start_time": "2021-12-18T13:20:25.598Z"
   },
   {
    "duration": 19,
    "start_time": "2021-12-18T13:33:56.864Z"
   },
   {
    "duration": 1475,
    "start_time": "2021-12-18T13:35:14.046Z"
   },
   {
    "duration": 27,
    "start_time": "2021-12-18T13:35:22.864Z"
   },
   {
    "duration": 18,
    "start_time": "2021-12-18T13:35:33.127Z"
   },
   {
    "duration": 423,
    "start_time": "2021-12-18T13:36:41.646Z"
   },
   {
    "duration": 657,
    "start_time": "2021-12-18T13:36:51.804Z"
   },
   {
    "duration": 380,
    "start_time": "2021-12-18T13:37:27.801Z"
   },
   {
    "duration": 24,
    "start_time": "2021-12-18T13:37:42.051Z"
   },
   {
    "duration": 21,
    "start_time": "2021-12-18T13:38:08.748Z"
   },
   {
    "duration": 482,
    "start_time": "2021-12-18T13:40:07.207Z"
   },
   {
    "duration": 413,
    "start_time": "2021-12-18T13:41:30.999Z"
   },
   {
    "duration": 21,
    "start_time": "2021-12-18T13:41:48.931Z"
   },
   {
    "duration": 22,
    "start_time": "2021-12-18T13:42:33.819Z"
   },
   {
    "duration": 22,
    "start_time": "2021-12-18T13:44:54.276Z"
   },
   {
    "duration": 17,
    "start_time": "2021-12-18T13:45:02.091Z"
   },
   {
    "duration": 30,
    "start_time": "2021-12-18T13:45:33.421Z"
   },
   {
    "duration": 1022,
    "start_time": "2021-12-18T13:50:13.735Z"
   },
   {
    "duration": 33,
    "start_time": "2021-12-18T13:50:35.053Z"
   },
   {
    "duration": 95,
    "start_time": "2021-12-18T13:50:48.879Z"
   },
   {
    "duration": 402,
    "start_time": "2021-12-18T14:16:19.092Z"
   },
   {
    "duration": 12,
    "start_time": "2021-12-18T14:16:35.629Z"
   },
   {
    "duration": 16,
    "start_time": "2021-12-18T14:17:01.751Z"
   },
   {
    "duration": 20,
    "start_time": "2021-12-18T14:18:53.914Z"
   },
   {
    "duration": 15,
    "start_time": "2021-12-18T14:20:40.569Z"
   },
   {
    "duration": 15,
    "start_time": "2021-12-18T14:21:01.579Z"
   },
   {
    "duration": 17,
    "start_time": "2021-12-18T14:22:09.583Z"
   },
   {
    "duration": 28,
    "start_time": "2021-12-18T14:24:06.132Z"
   },
   {
    "duration": 24,
    "start_time": "2021-12-18T14:25:50.294Z"
   },
   {
    "duration": 30,
    "start_time": "2021-12-18T14:25:57.624Z"
   },
   {
    "duration": 24,
    "start_time": "2021-12-18T14:26:20.749Z"
   },
   {
    "duration": 28,
    "start_time": "2021-12-18T14:26:28.372Z"
   },
   {
    "duration": 21,
    "start_time": "2021-12-18T14:29:51.676Z"
   },
   {
    "duration": 406,
    "start_time": "2021-12-18T14:30:04.741Z"
   },
   {
    "duration": 23,
    "start_time": "2021-12-18T14:30:18.151Z"
   },
   {
    "duration": 26,
    "start_time": "2021-12-18T14:30:45.116Z"
   },
   {
    "duration": 26,
    "start_time": "2021-12-18T14:30:54.215Z"
   },
   {
    "duration": 29,
    "start_time": "2021-12-18T14:31:55.219Z"
   },
   {
    "duration": 29,
    "start_time": "2021-12-18T14:32:05.085Z"
   },
   {
    "duration": 36,
    "start_time": "2021-12-18T14:34:05.978Z"
   },
   {
    "duration": 24,
    "start_time": "2021-12-18T14:34:33.275Z"
   },
   {
    "duration": 23,
    "start_time": "2021-12-18T14:50:24.013Z"
   },
   {
    "duration": 17,
    "start_time": "2021-12-18T14:50:55.118Z"
   },
   {
    "duration": 20,
    "start_time": "2021-12-18T14:51:16.415Z"
   },
   {
    "duration": 23,
    "start_time": "2021-12-18T14:52:02.473Z"
   },
   {
    "duration": 34,
    "start_time": "2021-12-18T14:53:13.131Z"
   },
   {
    "duration": 29,
    "start_time": "2021-12-18T14:53:53.677Z"
   },
   {
    "duration": 32,
    "start_time": "2021-12-18T14:54:06.618Z"
   },
   {
    "duration": 26,
    "start_time": "2021-12-18T15:05:14.271Z"
   },
   {
    "duration": 17,
    "start_time": "2021-12-18T15:31:22.249Z"
   },
   {
    "duration": 12,
    "start_time": "2021-12-18T15:32:01.500Z"
   },
   {
    "duration": 10,
    "start_time": "2021-12-18T15:32:20.100Z"
   },
   {
    "duration": 9,
    "start_time": "2021-12-18T15:32:30.908Z"
   },
   {
    "duration": 12,
    "start_time": "2021-12-18T15:32:36.411Z"
   },
   {
    "duration": 16,
    "start_time": "2021-12-18T15:58:43.417Z"
   },
   {
    "duration": 22,
    "start_time": "2021-12-18T15:59:41.434Z"
   },
   {
    "duration": 9,
    "start_time": "2021-12-18T16:17:21.463Z"
   },
   {
    "duration": 15,
    "start_time": "2021-12-18T17:27:46.902Z"
   },
   {
    "duration": 7,
    "start_time": "2021-12-18T17:36:10.438Z"
   },
   {
    "duration": 7,
    "start_time": "2021-12-18T17:36:29.593Z"
   },
   {
    "duration": 741,
    "start_time": "2021-12-18T17:44:03.898Z"
   },
   {
    "duration": 2264,
    "start_time": "2021-12-18T17:45:31.559Z"
   },
   {
    "duration": 32,
    "start_time": "2021-12-18T17:45:49.212Z"
   },
   {
    "duration": 34,
    "start_time": "2021-12-18T17:51:56.613Z"
   },
   {
    "duration": 35,
    "start_time": "2021-12-18T17:52:23.562Z"
   },
   {
    "duration": 45,
    "start_time": "2021-12-18T17:55:11.027Z"
   },
   {
    "duration": 28,
    "start_time": "2021-12-18T17:55:53.496Z"
   },
   {
    "duration": 5,
    "start_time": "2021-12-18T18:07:58.544Z"
   },
   {
    "duration": 4,
    "start_time": "2021-12-18T18:08:14.175Z"
   },
   {
    "duration": 1693,
    "start_time": "2021-12-18T18:28:45.247Z"
   },
   {
    "duration": 80,
    "start_time": "2021-12-18T18:28:46.943Z"
   },
   {
    "duration": 69,
    "start_time": "2021-12-18T18:28:47.026Z"
   },
   {
    "duration": 21,
    "start_time": "2021-12-18T18:28:47.098Z"
   },
   {
    "duration": 8,
    "start_time": "2021-12-18T18:28:47.122Z"
   },
   {
    "duration": 35,
    "start_time": "2021-12-18T18:28:47.132Z"
   },
   {
    "duration": 5,
    "start_time": "2021-12-18T18:28:47.169Z"
   },
   {
    "duration": 686,
    "start_time": "2021-12-18T18:28:47.178Z"
   },
   {
    "duration": 7,
    "start_time": "2021-12-18T18:28:47.868Z"
   },
   {
    "duration": 6,
    "start_time": "2021-12-18T18:28:47.877Z"
   },
   {
    "duration": 6,
    "start_time": "2021-12-18T18:28:47.886Z"
   },
   {
    "duration": 12,
    "start_time": "2021-12-18T18:28:47.895Z"
   },
   {
    "duration": 50,
    "start_time": "2021-12-18T18:28:47.909Z"
   },
   {
    "duration": 9,
    "start_time": "2021-12-18T18:28:47.962Z"
   },
   {
    "duration": 11,
    "start_time": "2021-12-18T18:28:47.974Z"
   },
   {
    "duration": 15,
    "start_time": "2021-12-18T18:28:47.987Z"
   },
   {
    "duration": 8,
    "start_time": "2021-12-18T18:28:48.005Z"
   },
   {
    "duration": 55,
    "start_time": "2021-12-18T18:28:48.015Z"
   },
   {
    "duration": 19,
    "start_time": "2021-12-18T18:28:48.072Z"
   },
   {
    "duration": 10,
    "start_time": "2021-12-18T18:28:48.093Z"
   },
   {
    "duration": 24,
    "start_time": "2021-12-18T18:28:48.105Z"
   },
   {
    "duration": 7,
    "start_time": "2021-12-18T18:28:48.160Z"
   },
   {
    "duration": 16,
    "start_time": "2021-12-18T18:28:48.171Z"
   },
   {
    "duration": 22,
    "start_time": "2021-12-18T18:28:48.190Z"
   },
   {
    "duration": 80,
    "start_time": "2021-12-18T18:28:48.215Z"
   },
   {
    "duration": 10,
    "start_time": "2021-12-18T18:28:48.297Z"
   },
   {
    "duration": 3510,
    "start_time": "2021-12-18T18:28:48.310Z"
   },
   {
    "duration": 6501,
    "start_time": "2021-12-18T18:28:51.822Z"
   },
   {
    "duration": 45,
    "start_time": "2021-12-18T18:28:58.326Z"
   },
   {
    "duration": 25,
    "start_time": "2021-12-18T18:28:58.373Z"
   },
   {
    "duration": 1607,
    "start_time": "2021-12-18T18:28:58.401Z"
   },
   {
    "duration": -46,
    "start_time": "2021-12-18T18:29:00.057Z"
   },
   {
    "duration": -50,
    "start_time": "2021-12-18T18:29:00.062Z"
   },
   {
    "duration": 1782,
    "start_time": "2021-12-18T18:29:52.886Z"
   },
   {
    "duration": 2096,
    "start_time": "2021-12-18T18:32:02.066Z"
   },
   {
    "duration": 683,
    "start_time": "2021-12-18T18:58:22.037Z"
   },
   {
    "duration": 721,
    "start_time": "2021-12-18T18:58:37.668Z"
   },
   {
    "duration": 185,
    "start_time": "2021-12-18T19:00:33.562Z"
   },
   {
    "duration": 386,
    "start_time": "2021-12-18T19:01:38.595Z"
   },
   {
    "duration": 691,
    "start_time": "2021-12-18T19:01:45.993Z"
   },
   {
    "duration": 1525,
    "start_time": "2021-12-18T19:02:12.561Z"
   },
   {
    "duration": 79,
    "start_time": "2021-12-18T19:02:14.089Z"
   },
   {
    "duration": 56,
    "start_time": "2021-12-18T19:02:14.172Z"
   },
   {
    "duration": 40,
    "start_time": "2021-12-18T19:02:14.231Z"
   },
   {
    "duration": 8,
    "start_time": "2021-12-18T19:02:14.274Z"
   },
   {
    "duration": 10,
    "start_time": "2021-12-18T19:02:14.284Z"
   },
   {
    "duration": 5,
    "start_time": "2021-12-18T19:02:14.296Z"
   },
   {
    "duration": 751,
    "start_time": "2021-12-18T19:02:14.305Z"
   },
   {
    "duration": 9,
    "start_time": "2021-12-18T19:02:15.061Z"
   },
   {
    "duration": 6,
    "start_time": "2021-12-18T19:02:15.073Z"
   },
   {
    "duration": 10,
    "start_time": "2021-12-18T19:02:15.081Z"
   },
   {
    "duration": 15,
    "start_time": "2021-12-18T19:02:15.094Z"
   },
   {
    "duration": 50,
    "start_time": "2021-12-18T19:02:15.111Z"
   },
   {
    "duration": 10,
    "start_time": "2021-12-18T19:02:15.163Z"
   },
   {
    "duration": 17,
    "start_time": "2021-12-18T19:02:15.175Z"
   },
   {
    "duration": 14,
    "start_time": "2021-12-18T19:02:15.194Z"
   },
   {
    "duration": 8,
    "start_time": "2021-12-18T19:02:15.211Z"
   },
   {
    "duration": 15,
    "start_time": "2021-12-18T19:02:15.260Z"
   },
   {
    "duration": 18,
    "start_time": "2021-12-18T19:02:15.278Z"
   },
   {
    "duration": 11,
    "start_time": "2021-12-18T19:02:15.298Z"
   },
   {
    "duration": 59,
    "start_time": "2021-12-18T19:02:15.312Z"
   },
   {
    "duration": 7,
    "start_time": "2021-12-18T19:02:15.374Z"
   },
   {
    "duration": 15,
    "start_time": "2021-12-18T19:02:15.387Z"
   },
   {
    "duration": 64,
    "start_time": "2021-12-18T19:02:15.405Z"
   },
   {
    "duration": 40,
    "start_time": "2021-12-18T19:02:15.471Z"
   },
   {
    "duration": 10,
    "start_time": "2021-12-18T19:02:15.513Z"
   },
   {
    "duration": 3436,
    "start_time": "2021-12-18T19:02:15.526Z"
   },
   {
    "duration": 6381,
    "start_time": "2021-12-18T19:02:18.965Z"
   },
   {
    "duration": 35,
    "start_time": "2021-12-18T19:02:25.360Z"
   },
   {
    "duration": 27,
    "start_time": "2021-12-18T19:02:25.398Z"
   },
   {
    "duration": 416,
    "start_time": "2021-12-18T19:02:25.427Z"
   },
   {
    "duration": 13,
    "start_time": "2021-12-18T19:02:25.846Z"
   },
   {
    "duration": 50,
    "start_time": "2021-12-18T19:02:25.861Z"
   },
   {
    "duration": 1706,
    "start_time": "2021-12-18T19:08:04.817Z"
   },
   {
    "duration": 77,
    "start_time": "2021-12-18T19:08:06.526Z"
   },
   {
    "duration": 64,
    "start_time": "2021-12-18T19:08:06.606Z"
   },
   {
    "duration": 21,
    "start_time": "2021-12-18T19:08:06.673Z"
   },
   {
    "duration": 8,
    "start_time": "2021-12-18T19:08:06.696Z"
   },
   {
    "duration": 9,
    "start_time": "2021-12-18T19:08:06.706Z"
   },
   {
    "duration": 5,
    "start_time": "2021-12-18T19:08:06.717Z"
   },
   {
    "duration": 639,
    "start_time": "2021-12-18T19:08:06.762Z"
   },
   {
    "duration": 6,
    "start_time": "2021-12-18T19:08:07.404Z"
   },
   {
    "duration": 6,
    "start_time": "2021-12-18T19:08:07.412Z"
   },
   {
    "duration": 8,
    "start_time": "2021-12-18T19:08:07.420Z"
   },
   {
    "duration": 40,
    "start_time": "2021-12-18T19:08:07.430Z"
   },
   {
    "duration": 11,
    "start_time": "2021-12-18T19:08:07.473Z"
   },
   {
    "duration": 11,
    "start_time": "2021-12-18T19:08:07.487Z"
   },
   {
    "duration": 13,
    "start_time": "2021-12-18T19:08:07.501Z"
   },
   {
    "duration": 16,
    "start_time": "2021-12-18T19:08:07.561Z"
   },
   {
    "duration": 9,
    "start_time": "2021-12-18T19:08:07.580Z"
   },
   {
    "duration": 16,
    "start_time": "2021-12-18T19:08:07.592Z"
   },
   {
    "duration": 56,
    "start_time": "2021-12-18T19:08:07.611Z"
   },
   {
    "duration": 15,
    "start_time": "2021-12-18T19:08:07.670Z"
   },
   {
    "duration": 19,
    "start_time": "2021-12-18T19:08:07.688Z"
   },
   {
    "duration": 6,
    "start_time": "2021-12-18T19:08:07.710Z"
   },
   {
    "duration": 50,
    "start_time": "2021-12-18T19:08:07.721Z"
   },
   {
    "duration": 24,
    "start_time": "2021-12-18T19:08:07.774Z"
   },
   {
    "duration": 71,
    "start_time": "2021-12-18T19:08:07.801Z"
   },
   {
    "duration": 10,
    "start_time": "2021-12-18T19:08:07.875Z"
   },
   {
    "duration": 3428,
    "start_time": "2021-12-18T19:08:07.887Z"
   },
   {
    "duration": 6171,
    "start_time": "2021-12-18T19:08:11.317Z"
   },
   {
    "duration": 35,
    "start_time": "2021-12-18T19:08:17.491Z"
   },
   {
    "duration": 45,
    "start_time": "2021-12-18T19:08:17.528Z"
   },
   {
    "duration": 424,
    "start_time": "2021-12-18T19:08:17.575Z"
   },
   {
    "duration": 28,
    "start_time": "2021-12-18T19:08:18.002Z"
   },
   {
    "duration": 40,
    "start_time": "2021-12-18T19:08:18.033Z"
   },
   {
    "duration": 43,
    "start_time": "2021-12-18T19:31:19.437Z"
   },
   {
    "duration": 39,
    "start_time": "2021-12-18T19:32:33.881Z"
   },
   {
    "duration": 40,
    "start_time": "2021-12-18T19:32:58.333Z"
   },
   {
    "duration": 28,
    "start_time": "2021-12-18T19:33:47.663Z"
   },
   {
    "duration": 29,
    "start_time": "2021-12-18T19:34:19.117Z"
   },
   {
    "duration": 35,
    "start_time": "2021-12-18T19:34:39.117Z"
   },
   {
    "duration": 25,
    "start_time": "2021-12-18T19:35:08.664Z"
   },
   {
    "duration": 28,
    "start_time": "2021-12-18T19:43:28.637Z"
   },
   {
    "duration": 818,
    "start_time": "2021-12-18T19:44:03.616Z"
   },
   {
    "duration": 26,
    "start_time": "2021-12-18T19:44:30.688Z"
   },
   {
    "duration": 12,
    "start_time": "2021-12-18T20:12:29.349Z"
   },
   {
    "duration": 45,
    "start_time": "2021-12-18T20:16:02.690Z"
   },
   {
    "duration": 11,
    "start_time": "2021-12-18T20:16:28.282Z"
   },
   {
    "duration": 774,
    "start_time": "2021-12-18T20:24:13.174Z"
   },
   {
    "duration": 1537,
    "start_time": "2021-12-18T20:24:22.640Z"
   },
   {
    "duration": 80,
    "start_time": "2021-12-18T20:24:24.179Z"
   },
   {
    "duration": 56,
    "start_time": "2021-12-18T20:24:24.262Z"
   },
   {
    "duration": 38,
    "start_time": "2021-12-18T20:24:24.321Z"
   },
   {
    "duration": 10,
    "start_time": "2021-12-18T20:24:24.361Z"
   },
   {
    "duration": 14,
    "start_time": "2021-12-18T20:24:24.374Z"
   },
   {
    "duration": 4,
    "start_time": "2021-12-18T20:24:24.391Z"
   },
   {
    "duration": 652,
    "start_time": "2021-12-18T20:24:24.399Z"
   },
   {
    "duration": 9,
    "start_time": "2021-12-18T20:24:25.054Z"
   },
   {
    "duration": 7,
    "start_time": "2021-12-18T20:24:25.065Z"
   },
   {
    "duration": 9,
    "start_time": "2021-12-18T20:24:25.074Z"
   },
   {
    "duration": 12,
    "start_time": "2021-12-18T20:24:25.085Z"
   },
   {
    "duration": 8,
    "start_time": "2021-12-18T20:24:25.099Z"
   },
   {
    "duration": 54,
    "start_time": "2021-12-18T20:24:25.110Z"
   },
   {
    "duration": 11,
    "start_time": "2021-12-18T20:24:25.166Z"
   },
   {
    "duration": 13,
    "start_time": "2021-12-18T20:24:25.180Z"
   },
   {
    "duration": 8,
    "start_time": "2021-12-18T20:24:25.195Z"
   },
   {
    "duration": 56,
    "start_time": "2021-12-18T20:24:25.205Z"
   },
   {
    "duration": 15,
    "start_time": "2021-12-18T20:24:25.263Z"
   },
   {
    "duration": 11,
    "start_time": "2021-12-18T20:24:25.280Z"
   },
   {
    "duration": 19,
    "start_time": "2021-12-18T20:24:25.293Z"
   },
   {
    "duration": 7,
    "start_time": "2021-12-18T20:24:25.314Z"
   },
   {
    "duration": 15,
    "start_time": "2021-12-18T20:24:25.358Z"
   },
   {
    "duration": 22,
    "start_time": "2021-12-18T20:24:25.376Z"
   },
   {
    "duration": 71,
    "start_time": "2021-12-18T20:24:25.400Z"
   },
   {
    "duration": 10,
    "start_time": "2021-12-18T20:24:25.473Z"
   },
   {
    "duration": 3475,
    "start_time": "2021-12-18T20:24:25.485Z"
   },
   {
    "duration": 6002,
    "start_time": "2021-12-18T20:24:28.963Z"
   },
   {
    "duration": 35,
    "start_time": "2021-12-18T20:24:34.968Z"
   },
   {
    "duration": 543,
    "start_time": "2021-12-18T20:24:35.005Z"
   },
   {
    "duration": -44,
    "start_time": "2021-12-18T20:24:35.595Z"
   },
   {
    "duration": -55,
    "start_time": "2021-12-18T20:24:35.608Z"
   },
   {
    "duration": -63,
    "start_time": "2021-12-18T20:24:35.618Z"
   },
   {
    "duration": -70,
    "start_time": "2021-12-18T20:24:35.626Z"
   },
   {
    "duration": -79,
    "start_time": "2021-12-18T20:24:35.637Z"
   },
   {
    "duration": -85,
    "start_time": "2021-12-18T20:24:35.644Z"
   },
   {
    "duration": -94,
    "start_time": "2021-12-18T20:24:35.655Z"
   },
   {
    "duration": 393,
    "start_time": "2021-12-18T20:24:54.044Z"
   },
   {
    "duration": 638,
    "start_time": "2021-12-18T20:25:11.857Z"
   },
   {
    "duration": 1568,
    "start_time": "2021-12-18T20:25:20.316Z"
   },
   {
    "duration": 78,
    "start_time": "2021-12-18T20:25:21.887Z"
   },
   {
    "duration": 56,
    "start_time": "2021-12-18T20:25:21.972Z"
   },
   {
    "duration": 42,
    "start_time": "2021-12-18T20:25:22.030Z"
   },
   {
    "duration": 14,
    "start_time": "2021-12-18T20:25:22.075Z"
   },
   {
    "duration": 11,
    "start_time": "2021-12-18T20:25:22.091Z"
   },
   {
    "duration": 5,
    "start_time": "2021-12-18T20:25:22.105Z"
   },
   {
    "duration": 649,
    "start_time": "2021-12-18T20:25:22.112Z"
   },
   {
    "duration": 7,
    "start_time": "2021-12-18T20:25:22.763Z"
   },
   {
    "duration": 5,
    "start_time": "2021-12-18T20:25:22.773Z"
   },
   {
    "duration": 7,
    "start_time": "2021-12-18T20:25:22.780Z"
   },
   {
    "duration": 12,
    "start_time": "2021-12-18T20:25:22.789Z"
   },
   {
    "duration": 9,
    "start_time": "2021-12-18T20:25:22.803Z"
   },
   {
    "duration": 10,
    "start_time": "2021-12-18T20:25:22.860Z"
   },
   {
    "duration": 12,
    "start_time": "2021-12-18T20:25:22.872Z"
   },
   {
    "duration": 15,
    "start_time": "2021-12-18T20:25:22.887Z"
   },
   {
    "duration": 8,
    "start_time": "2021-12-18T20:25:22.905Z"
   },
   {
    "duration": 58,
    "start_time": "2021-12-18T20:25:22.916Z"
   },
   {
    "duration": 17,
    "start_time": "2021-12-18T20:25:22.977Z"
   },
   {
    "duration": 16,
    "start_time": "2021-12-18T20:25:22.997Z"
   },
   {
    "duration": 52,
    "start_time": "2021-12-18T20:25:23.016Z"
   },
   {
    "duration": 7,
    "start_time": "2021-12-18T20:25:23.072Z"
   },
   {
    "duration": 16,
    "start_time": "2021-12-18T20:25:23.082Z"
   },
   {
    "duration": 22,
    "start_time": "2021-12-18T20:25:23.100Z"
   },
   {
    "duration": 73,
    "start_time": "2021-12-18T20:25:23.124Z"
   },
   {
    "duration": 10,
    "start_time": "2021-12-18T20:25:23.199Z"
   },
   {
    "duration": 3433,
    "start_time": "2021-12-18T20:25:23.212Z"
   },
   {
    "duration": 6395,
    "start_time": "2021-12-18T20:25:26.647Z"
   },
   {
    "duration": 45,
    "start_time": "2021-12-18T20:25:33.045Z"
   },
   {
    "duration": 501,
    "start_time": "2021-12-18T20:25:33.093Z"
   },
   {
    "duration": 30,
    "start_time": "2021-12-18T20:25:33.596Z"
   },
   {
    "duration": 417,
    "start_time": "2021-12-18T20:25:33.629Z"
   },
   {
    "duration": 38,
    "start_time": "2021-12-18T20:25:34.048Z"
   },
   {
    "duration": 24,
    "start_time": "2021-12-18T20:25:34.088Z"
   },
   {
    "duration": 11,
    "start_time": "2021-12-18T20:25:34.114Z"
   },
   {
    "duration": 25,
    "start_time": "2021-12-18T20:25:34.159Z"
   },
   {
    "duration": 25,
    "start_time": "2021-12-18T20:25:34.186Z"
   },
   {
    "duration": 24,
    "start_time": "2021-12-18T20:29:16.154Z"
   },
   {
    "duration": 1619,
    "start_time": "2021-12-18T20:29:53.766Z"
   },
   {
    "duration": 79,
    "start_time": "2021-12-18T20:29:55.388Z"
   },
   {
    "duration": 56,
    "start_time": "2021-12-18T20:29:55.470Z"
   },
   {
    "duration": 42,
    "start_time": "2021-12-18T20:29:55.529Z"
   },
   {
    "duration": 8,
    "start_time": "2021-12-18T20:29:55.574Z"
   },
   {
    "duration": 16,
    "start_time": "2021-12-18T20:29:55.585Z"
   },
   {
    "duration": 4,
    "start_time": "2021-12-18T20:29:55.603Z"
   },
   {
    "duration": 673,
    "start_time": "2021-12-18T20:29:55.611Z"
   },
   {
    "duration": 6,
    "start_time": "2021-12-18T20:29:56.287Z"
   },
   {
    "duration": 8,
    "start_time": "2021-12-18T20:29:56.295Z"
   },
   {
    "duration": 5,
    "start_time": "2021-12-18T20:29:56.305Z"
   },
   {
    "duration": 12,
    "start_time": "2021-12-18T20:29:56.313Z"
   },
   {
    "duration": 8,
    "start_time": "2021-12-18T20:29:56.359Z"
   },
   {
    "duration": 9,
    "start_time": "2021-12-18T20:29:56.370Z"
   },
   {
    "duration": 11,
    "start_time": "2021-12-18T20:29:56.381Z"
   },
   {
    "duration": 13,
    "start_time": "2021-12-18T20:29:56.394Z"
   },
   {
    "duration": 8,
    "start_time": "2021-12-18T20:29:56.409Z"
   },
   {
    "duration": 13,
    "start_time": "2021-12-18T20:29:56.460Z"
   },
   {
    "duration": 17,
    "start_time": "2021-12-18T20:29:56.475Z"
   },
   {
    "duration": 9,
    "start_time": "2021-12-18T20:29:56.494Z"
   },
   {
    "duration": 57,
    "start_time": "2021-12-18T20:29:56.506Z"
   },
   {
    "duration": 7,
    "start_time": "2021-12-18T20:29:56.565Z"
   },
   {
    "duration": 15,
    "start_time": "2021-12-18T20:29:56.576Z"
   },
   {
    "duration": 21,
    "start_time": "2021-12-18T20:29:56.593Z"
   },
   {
    "duration": 78,
    "start_time": "2021-12-18T20:29:56.617Z"
   },
   {
    "duration": 10,
    "start_time": "2021-12-18T20:29:56.697Z"
   },
   {
    "duration": 3334,
    "start_time": "2021-12-18T20:29:56.709Z"
   },
   {
    "duration": 6660,
    "start_time": "2021-12-18T20:30:00.046Z"
   },
   {
    "duration": 52,
    "start_time": "2021-12-18T20:30:06.709Z"
   },
   {
    "duration": 786,
    "start_time": "2021-12-18T20:30:06.764Z"
   },
   {
    "duration": 40,
    "start_time": "2021-12-18T20:30:07.560Z"
   },
   {
    "duration": 66,
    "start_time": "2021-12-18T20:30:07.604Z"
   },
   {
    "duration": 398,
    "start_time": "2021-12-18T20:30:07.672Z"
   },
   {
    "duration": 31,
    "start_time": "2021-12-18T20:30:08.072Z"
   },
   {
    "duration": 54,
    "start_time": "2021-12-18T20:30:08.107Z"
   },
   {
    "duration": 11,
    "start_time": "2021-12-18T20:30:08.164Z"
   },
   {
    "duration": 26,
    "start_time": "2021-12-18T20:30:08.177Z"
   },
   {
    "duration": 57,
    "start_time": "2021-12-18T20:30:08.206Z"
   },
   {
    "duration": 26,
    "start_time": "2021-12-18T20:33:42.700Z"
   },
   {
    "duration": 26,
    "start_time": "2021-12-18T20:34:18.247Z"
   },
   {
    "duration": 11,
    "start_time": "2021-12-18T20:34:39.797Z"
   },
   {
    "duration": 27,
    "start_time": "2021-12-18T20:38:33.527Z"
   },
   {
    "duration": 12,
    "start_time": "2021-12-18T20:38:45.395Z"
   },
   {
    "duration": 28,
    "start_time": "2021-12-18T20:41:44.878Z"
   },
   {
    "duration": 12,
    "start_time": "2021-12-18T20:42:02.462Z"
   },
   {
    "duration": 1847,
    "start_time": "2021-12-18T21:05:37.613Z"
   },
   {
    "duration": 91,
    "start_time": "2021-12-18T21:05:39.464Z"
   },
   {
    "duration": 57,
    "start_time": "2021-12-18T21:05:39.559Z"
   },
   {
    "duration": 42,
    "start_time": "2021-12-18T21:05:39.619Z"
   },
   {
    "duration": 9,
    "start_time": "2021-12-18T21:05:39.664Z"
   },
   {
    "duration": 10,
    "start_time": "2021-12-18T21:05:39.676Z"
   },
   {
    "duration": 6,
    "start_time": "2021-12-18T21:05:39.688Z"
   },
   {
    "duration": 704,
    "start_time": "2021-12-18T21:05:39.699Z"
   },
   {
    "duration": 9,
    "start_time": "2021-12-18T21:05:40.407Z"
   },
   {
    "duration": 5,
    "start_time": "2021-12-18T21:05:40.419Z"
   },
   {
    "duration": 36,
    "start_time": "2021-12-18T21:05:40.427Z"
   },
   {
    "duration": 13,
    "start_time": "2021-12-18T21:05:40.465Z"
   },
   {
    "duration": 11,
    "start_time": "2021-12-18T21:05:40.480Z"
   },
   {
    "duration": 10,
    "start_time": "2021-12-18T21:05:40.493Z"
   },
   {
    "duration": 55,
    "start_time": "2021-12-18T21:05:40.505Z"
   },
   {
    "duration": 14,
    "start_time": "2021-12-18T21:05:40.563Z"
   },
   {
    "duration": 10,
    "start_time": "2021-12-18T21:05:40.580Z"
   },
   {
    "duration": 14,
    "start_time": "2021-12-18T21:05:40.593Z"
   },
   {
    "duration": 65,
    "start_time": "2021-12-18T21:05:40.610Z"
   },
   {
    "duration": 14,
    "start_time": "2021-12-18T21:05:40.678Z"
   },
   {
    "duration": 17,
    "start_time": "2021-12-18T21:05:40.694Z"
   },
   {
    "duration": 8,
    "start_time": "2021-12-18T21:05:40.714Z"
   },
   {
    "duration": 24,
    "start_time": "2021-12-18T21:05:40.765Z"
   },
   {
    "duration": 34,
    "start_time": "2021-12-18T21:05:40.792Z"
   },
   {
    "duration": 79,
    "start_time": "2021-12-18T21:05:40.829Z"
   },
   {
    "duration": 12,
    "start_time": "2021-12-18T21:05:40.911Z"
   },
   {
    "duration": 3509,
    "start_time": "2021-12-18T21:05:40.925Z"
   },
   {
    "duration": 6297,
    "start_time": "2021-12-18T21:05:44.436Z"
   },
   {
    "duration": 46,
    "start_time": "2021-12-18T21:05:50.735Z"
   },
   {
    "duration": 400,
    "start_time": "2021-12-18T21:05:50.784Z"
   },
   {
    "duration": 28,
    "start_time": "2021-12-18T21:05:51.187Z"
   },
   {
    "duration": 50,
    "start_time": "2021-12-18T21:05:51.217Z"
   },
   {
    "duration": 418,
    "start_time": "2021-12-18T21:05:51.269Z"
   },
   {
    "duration": 29,
    "start_time": "2021-12-18T21:05:51.690Z"
   },
   {
    "duration": 47,
    "start_time": "2021-12-18T21:05:51.722Z"
   },
   {
    "duration": 11,
    "start_time": "2021-12-18T21:05:51.772Z"
   },
   {
    "duration": 11,
    "start_time": "2021-12-18T21:05:51.785Z"
   },
   {
    "duration": 11,
    "start_time": "2021-12-18T21:05:51.800Z"
   },
   {
    "duration": 48,
    "start_time": "2021-12-18T21:05:51.814Z"
   },
   {
    "duration": 26,
    "start_time": "2021-12-18T21:05:51.864Z"
   },
   {
    "duration": 25,
    "start_time": "2021-12-18T21:05:51.892Z"
   },
   {
    "duration": 27,
    "start_time": "2021-12-18T21:09:29.812Z"
   },
   {
    "duration": 29,
    "start_time": "2021-12-18T21:09:34.497Z"
   },
   {
    "duration": 1468,
    "start_time": "2021-12-19T11:57:54.510Z"
   },
   {
    "duration": 78,
    "start_time": "2021-12-19T11:57:55.982Z"
   },
   {
    "duration": 57,
    "start_time": "2021-12-19T11:57:56.066Z"
   },
   {
    "duration": 47,
    "start_time": "2021-12-19T11:57:56.127Z"
   },
   {
    "duration": 11,
    "start_time": "2021-12-19T11:57:56.177Z"
   },
   {
    "duration": 11,
    "start_time": "2021-12-19T11:57:56.191Z"
   },
   {
    "duration": 6,
    "start_time": "2021-12-19T11:57:56.208Z"
   },
   {
    "duration": 602,
    "start_time": "2021-12-19T11:57:56.260Z"
   },
   {
    "duration": 6,
    "start_time": "2021-12-19T11:57:56.864Z"
   },
   {
    "duration": 4,
    "start_time": "2021-12-19T11:57:56.873Z"
   },
   {
    "duration": 7,
    "start_time": "2021-12-19T11:57:56.879Z"
   },
   {
    "duration": 11,
    "start_time": "2021-12-19T11:57:56.889Z"
   },
   {
    "duration": 8,
    "start_time": "2021-12-19T11:57:56.903Z"
   },
   {
    "duration": 9,
    "start_time": "2021-12-19T11:57:56.960Z"
   },
   {
    "duration": 10,
    "start_time": "2021-12-19T11:57:56.972Z"
   },
   {
    "duration": 14,
    "start_time": "2021-12-19T11:57:56.984Z"
   },
   {
    "duration": 8,
    "start_time": "2021-12-19T11:57:57.000Z"
   },
   {
    "duration": 55,
    "start_time": "2021-12-19T11:57:57.010Z"
   },
   {
    "duration": 15,
    "start_time": "2021-12-19T11:57:57.068Z"
   },
   {
    "duration": 12,
    "start_time": "2021-12-19T11:57:57.086Z"
   },
   {
    "duration": 15,
    "start_time": "2021-12-19T11:57:57.100Z"
   },
   {
    "duration": 42,
    "start_time": "2021-12-19T11:57:57.120Z"
   },
   {
    "duration": 18,
    "start_time": "2021-12-19T11:57:57.164Z"
   },
   {
    "duration": 22,
    "start_time": "2021-12-19T11:57:57.185Z"
   },
   {
    "duration": 76,
    "start_time": "2021-12-19T11:57:57.209Z"
   },
   {
    "duration": 10,
    "start_time": "2021-12-19T11:57:57.288Z"
   },
   {
    "duration": 3330,
    "start_time": "2021-12-19T11:57:57.300Z"
   },
   {
    "duration": 6130,
    "start_time": "2021-12-19T11:58:00.632Z"
   },
   {
    "duration": 33,
    "start_time": "2021-12-19T11:58:06.764Z"
   },
   {
    "duration": 402,
    "start_time": "2021-12-19T11:58:06.800Z"
   },
   {
    "duration": 26,
    "start_time": "2021-12-19T11:58:07.204Z"
   },
   {
    "duration": 45,
    "start_time": "2021-12-19T11:58:07.233Z"
   },
   {
    "duration": 399,
    "start_time": "2021-12-19T11:58:07.280Z"
   },
   {
    "duration": 29,
    "start_time": "2021-12-19T11:58:07.681Z"
   },
   {
    "duration": 49,
    "start_time": "2021-12-19T11:58:07.712Z"
   },
   {
    "duration": 10,
    "start_time": "2021-12-19T11:58:07.764Z"
   },
   {
    "duration": 13,
    "start_time": "2021-12-19T11:58:07.776Z"
   },
   {
    "duration": 11,
    "start_time": "2021-12-19T11:58:07.791Z"
   },
   {
    "duration": 14,
    "start_time": "2021-12-19T11:58:07.804Z"
   },
   {
    "duration": 61,
    "start_time": "2021-12-19T11:58:07.821Z"
   },
   {
    "duration": 24,
    "start_time": "2021-12-19T11:58:07.885Z"
   },
   {
    "duration": 1259,
    "start_time": "2021-12-19T13:52:11.476Z"
   },
   {
    "duration": 63,
    "start_time": "2021-12-19T13:52:12.737Z"
   },
   {
    "duration": 40,
    "start_time": "2021-12-19T13:52:12.802Z"
   },
   {
    "duration": 14,
    "start_time": "2021-12-19T13:52:12.844Z"
   },
   {
    "duration": 6,
    "start_time": "2021-12-19T13:52:12.860Z"
   },
   {
    "duration": 8,
    "start_time": "2021-12-19T13:52:12.867Z"
   },
   {
    "duration": 31,
    "start_time": "2021-12-19T13:52:12.877Z"
   },
   {
    "duration": 373,
    "start_time": "2021-12-19T13:52:12.911Z"
   },
   {
    "duration": 5,
    "start_time": "2021-12-19T13:52:13.285Z"
   },
   {
    "duration": 14,
    "start_time": "2021-12-19T13:52:13.292Z"
   },
   {
    "duration": 5,
    "start_time": "2021-12-19T13:52:13.307Z"
   },
   {
    "duration": 7,
    "start_time": "2021-12-19T13:52:48.927Z"
   },
   {
    "duration": 6,
    "start_time": "2021-12-19T13:52:54.938Z"
   },
   {
    "duration": 23,
    "start_time": "2021-12-19T13:57:19.152Z"
   },
   {
    "duration": 9,
    "start_time": "2021-12-19T13:57:44.267Z"
   },
   {
    "duration": 7,
    "start_time": "2021-12-19T13:57:48.684Z"
   },
   {
    "duration": 6,
    "start_time": "2021-12-19T14:00:27.028Z"
   },
   {
    "duration": 9,
    "start_time": "2021-12-19T14:00:29.796Z"
   },
   {
    "duration": 14,
    "start_time": "2021-12-19T14:02:58.336Z"
   },
   {
    "duration": 11,
    "start_time": "2021-12-19T14:06:30.534Z"
   },
   {
    "duration": 8,
    "start_time": "2021-12-19T14:06:39.706Z"
   },
   {
    "duration": 7,
    "start_time": "2021-12-19T14:06:53.856Z"
   },
   {
    "duration": 10,
    "start_time": "2021-12-19T14:07:00.712Z"
   },
   {
    "duration": 12,
    "start_time": "2021-12-19T14:09:30.963Z"
   },
   {
    "duration": 8,
    "start_time": "2021-12-19T14:09:34.740Z"
   },
   {
    "duration": 12,
    "start_time": "2021-12-19T14:10:06.465Z"
   },
   {
    "duration": 6,
    "start_time": "2021-12-19T14:11:57.952Z"
   },
   {
    "duration": 12,
    "start_time": "2021-12-19T14:11:58.333Z"
   },
   {
    "duration": 18,
    "start_time": "2021-12-19T14:13:25.729Z"
   },
   {
    "duration": 33,
    "start_time": "2021-12-19T14:13:31.452Z"
   },
   {
    "duration": 11,
    "start_time": "2021-12-19T14:16:06.754Z"
   },
   {
    "duration": 349,
    "start_time": "2021-12-19T14:16:49.091Z"
   },
   {
    "duration": 28,
    "start_time": "2021-12-19T14:17:08.144Z"
   },
   {
    "duration": 19,
    "start_time": "2021-12-19T14:17:40.417Z"
   },
   {
    "duration": 2648,
    "start_time": "2021-12-19T14:19:47.091Z"
   },
   {
    "duration": 6,
    "start_time": "2021-12-19T14:25:48.926Z"
   },
   {
    "duration": 4,
    "start_time": "2021-12-19T14:26:00.259Z"
   },
   {
    "duration": 4341,
    "start_time": "2021-12-19T14:29:39.357Z"
   },
   {
    "duration": 19,
    "start_time": "2021-12-19T14:31:32.818Z"
   },
   {
    "duration": 240,
    "start_time": "2021-12-19T14:32:03.975Z"
   },
   {
    "duration": 22,
    "start_time": "2021-12-19T14:34:47.979Z"
   },
   {
    "duration": 17,
    "start_time": "2021-12-19T14:35:09.974Z"
   },
   {
    "duration": 235,
    "start_time": "2021-12-19T14:35:47.831Z"
   },
   {
    "duration": 18,
    "start_time": "2021-12-19T14:37:57.175Z"
   },
   {
    "duration": 650,
    "start_time": "2021-12-19T14:39:34.395Z"
   },
   {
    "duration": 7,
    "start_time": "2021-12-19T14:39:53.478Z"
   },
   {
    "duration": 6,
    "start_time": "2021-12-19T14:39:57.138Z"
   },
   {
    "duration": 5,
    "start_time": "2021-12-19T14:40:10.939Z"
   },
   {
    "duration": 11,
    "start_time": "2021-12-19T14:40:30.716Z"
   },
   {
    "duration": 15,
    "start_time": "2021-12-19T14:40:42.669Z"
   },
   {
    "duration": 7,
    "start_time": "2021-12-19T14:40:46.463Z"
   },
   {
    "duration": 8,
    "start_time": "2021-12-19T14:40:50.466Z"
   },
   {
    "duration": 7,
    "start_time": "2021-12-19T14:40:57.542Z"
   },
   {
    "duration": 8,
    "start_time": "2021-12-19T14:41:04.648Z"
   },
   {
    "duration": 12,
    "start_time": "2021-12-19T14:41:15.708Z"
   },
   {
    "duration": 8,
    "start_time": "2021-12-19T14:41:19.708Z"
   },
   {
    "duration": 8,
    "start_time": "2021-12-19T14:41:29.214Z"
   },
   {
    "duration": 7,
    "start_time": "2021-12-19T14:41:38.179Z"
   },
   {
    "duration": 7,
    "start_time": "2021-12-19T14:41:50.108Z"
   },
   {
    "duration": 8,
    "start_time": "2021-12-19T14:41:54.654Z"
   },
   {
    "duration": 9,
    "start_time": "2021-12-19T14:42:00.343Z"
   },
   {
    "duration": 21,
    "start_time": "2021-12-19T14:43:17.578Z"
   },
   {
    "duration": 17,
    "start_time": "2021-12-19T14:44:26.289Z"
   },
   {
    "duration": 19,
    "start_time": "2021-12-19T14:48:11.148Z"
   },
   {
    "duration": 8,
    "start_time": "2021-12-19T14:49:50.139Z"
   },
   {
    "duration": 8,
    "start_time": "2021-12-19T14:49:58.941Z"
   },
   {
    "duration": 9,
    "start_time": "2021-12-19T14:51:08.928Z"
   },
   {
    "duration": 8,
    "start_time": "2021-12-19T14:53:20.973Z"
   },
   {
    "duration": 17,
    "start_time": "2021-12-19T14:53:59.027Z"
   },
   {
    "duration": 18,
    "start_time": "2021-12-19T14:54:15.522Z"
   },
   {
    "duration": 1828,
    "start_time": "2021-12-19T15:00:06.461Z"
   },
   {
    "duration": 62,
    "start_time": "2021-12-19T15:00:08.291Z"
   },
   {
    "duration": 38,
    "start_time": "2021-12-19T15:00:08.355Z"
   },
   {
    "duration": 22,
    "start_time": "2021-12-19T15:00:08.395Z"
   },
   {
    "duration": 8,
    "start_time": "2021-12-19T15:00:08.419Z"
   },
   {
    "duration": 18,
    "start_time": "2021-12-19T15:00:08.429Z"
   },
   {
    "duration": 7,
    "start_time": "2021-12-19T15:00:08.449Z"
   },
   {
    "duration": 385,
    "start_time": "2021-12-19T15:00:08.459Z"
   },
   {
    "duration": 5,
    "start_time": "2021-12-19T15:00:08.847Z"
   },
   {
    "duration": 4,
    "start_time": "2021-12-19T15:00:08.854Z"
   },
   {
    "duration": 6,
    "start_time": "2021-12-19T15:00:08.860Z"
   },
   {
    "duration": 11,
    "start_time": "2021-12-19T15:00:08.867Z"
   },
   {
    "duration": 28,
    "start_time": "2021-12-19T15:00:08.880Z"
   },
   {
    "duration": 8,
    "start_time": "2021-12-19T15:00:08.910Z"
   },
   {
    "duration": 9,
    "start_time": "2021-12-19T15:00:08.920Z"
   },
   {
    "duration": 12,
    "start_time": "2021-12-19T15:00:08.930Z"
   },
   {
    "duration": 8,
    "start_time": "2021-12-19T15:00:08.944Z"
   },
   {
    "duration": 13,
    "start_time": "2021-12-19T15:00:08.954Z"
   },
   {
    "duration": 46,
    "start_time": "2021-12-19T15:00:08.968Z"
   },
   {
    "duration": 8,
    "start_time": "2021-12-19T15:00:09.016Z"
   },
   {
    "duration": 13,
    "start_time": "2021-12-19T15:00:09.026Z"
   },
   {
    "duration": 7,
    "start_time": "2021-12-19T15:00:09.041Z"
   },
   {
    "duration": 13,
    "start_time": "2021-12-19T15:00:09.052Z"
   },
   {
    "duration": 54,
    "start_time": "2021-12-19T15:00:09.068Z"
   },
   {
    "duration": 31,
    "start_time": "2021-12-19T15:00:09.124Z"
   },
   {
    "duration": 8,
    "start_time": "2021-12-19T15:00:09.157Z"
   },
   {
    "duration": 2727,
    "start_time": "2021-12-19T15:00:09.167Z"
   },
   {
    "duration": 4696,
    "start_time": "2021-12-19T15:00:11.896Z"
   },
   {
    "duration": 34,
    "start_time": "2021-12-19T15:00:16.594Z"
   },
   {
    "duration": 242,
    "start_time": "2021-12-19T15:00:16.630Z"
   },
   {
    "duration": 20,
    "start_time": "2021-12-19T15:00:16.874Z"
   },
   {
    "duration": 26,
    "start_time": "2021-12-19T15:00:16.895Z"
   },
   {
    "duration": 262,
    "start_time": "2021-12-19T15:00:16.923Z"
   },
   {
    "duration": 29,
    "start_time": "2021-12-19T15:00:17.187Z"
   },
   {
    "duration": 17,
    "start_time": "2021-12-19T15:00:17.218Z"
   },
   {
    "duration": 8,
    "start_time": "2021-12-19T15:00:17.237Z"
   },
   {
    "duration": 10,
    "start_time": "2021-12-19T15:00:17.246Z"
   },
   {
    "duration": 9,
    "start_time": "2021-12-19T15:00:17.258Z"
   },
   {
    "duration": 45,
    "start_time": "2021-12-19T15:00:17.269Z"
   },
   {
    "duration": 18,
    "start_time": "2021-12-19T15:00:17.316Z"
   },
   {
    "duration": 18,
    "start_time": "2021-12-19T15:00:17.336Z"
   },
   {
    "duration": 1159,
    "start_time": "2021-12-19T15:13:25.401Z"
   },
   {
    "duration": 61,
    "start_time": "2021-12-19T15:13:26.562Z"
   },
   {
    "duration": 38,
    "start_time": "2021-12-19T15:13:26.628Z"
   },
   {
    "duration": 21,
    "start_time": "2021-12-19T15:13:26.668Z"
   },
   {
    "duration": 21,
    "start_time": "2021-12-19T15:13:26.690Z"
   },
   {
    "duration": 8,
    "start_time": "2021-12-19T15:13:26.712Z"
   },
   {
    "duration": 4,
    "start_time": "2021-12-19T15:13:26.722Z"
   },
   {
    "duration": 373,
    "start_time": "2021-12-19T15:13:26.729Z"
   },
   {
    "duration": 6,
    "start_time": "2021-12-19T15:13:27.106Z"
   },
   {
    "duration": 5,
    "start_time": "2021-12-19T15:13:27.113Z"
   },
   {
    "duration": 5,
    "start_time": "2021-12-19T15:13:27.119Z"
   },
   {
    "duration": 8,
    "start_time": "2021-12-19T15:13:27.126Z"
   },
   {
    "duration": 5,
    "start_time": "2021-12-19T15:13:27.136Z"
   },
   {
    "duration": 7,
    "start_time": "2021-12-19T15:13:27.143Z"
   },
   {
    "duration": 8,
    "start_time": "2021-12-19T15:13:27.151Z"
   },
   {
    "duration": 51,
    "start_time": "2021-12-19T15:13:27.161Z"
   },
   {
    "duration": 5,
    "start_time": "2021-12-19T15:13:27.214Z"
   },
   {
    "duration": 10,
    "start_time": "2021-12-19T15:13:27.221Z"
   },
   {
    "duration": 10,
    "start_time": "2021-12-19T15:13:27.233Z"
   },
   {
    "duration": 9,
    "start_time": "2021-12-19T15:13:27.244Z"
   },
   {
    "duration": 23,
    "start_time": "2021-12-19T15:13:27.255Z"
   },
   {
    "duration": 27,
    "start_time": "2021-12-19T15:13:27.282Z"
   },
   {
    "duration": 11,
    "start_time": "2021-12-19T15:13:27.311Z"
   },
   {
    "duration": 16,
    "start_time": "2021-12-19T15:13:27.324Z"
   },
   {
    "duration": 37,
    "start_time": "2021-12-19T15:13:27.342Z"
   },
   {
    "duration": 28,
    "start_time": "2021-12-19T15:13:27.381Z"
   },
   {
    "duration": 2603,
    "start_time": "2021-12-19T15:13:27.411Z"
   },
   {
    "duration": 4352,
    "start_time": "2021-12-19T15:13:30.016Z"
   },
   {
    "duration": 38,
    "start_time": "2021-12-19T15:13:34.370Z"
   },
   {
    "duration": 226,
    "start_time": "2021-12-19T15:13:34.410Z"
   },
   {
    "duration": 19,
    "start_time": "2021-12-19T15:13:34.638Z"
   },
   {
    "duration": 18,
    "start_time": "2021-12-19T15:13:34.659Z"
   },
   {
    "duration": 264,
    "start_time": "2021-12-19T15:13:34.679Z"
   },
   {
    "duration": 19,
    "start_time": "2021-12-19T15:13:34.945Z"
   },
   {
    "duration": 15,
    "start_time": "2021-12-19T15:13:34.965Z"
   },
   {
    "duration": 25,
    "start_time": "2021-12-19T15:13:34.982Z"
   },
   {
    "duration": 7,
    "start_time": "2021-12-19T15:13:35.009Z"
   },
   {
    "duration": 11,
    "start_time": "2021-12-19T15:13:35.018Z"
   },
   {
    "duration": 10,
    "start_time": "2021-12-19T15:13:35.031Z"
   },
   {
    "duration": 18,
    "start_time": "2021-12-19T15:13:35.043Z"
   },
   {
    "duration": 46,
    "start_time": "2021-12-19T15:13:35.062Z"
   },
   {
    "duration": 1568,
    "start_time": "2021-12-19T16:14:53.714Z"
   },
   {
    "duration": 82,
    "start_time": "2021-12-19T16:14:58.029Z"
   },
   {
    "duration": 55,
    "start_time": "2021-12-19T16:15:02.666Z"
   },
   {
    "duration": 21,
    "start_time": "2021-12-19T16:15:04.858Z"
   },
   {
    "duration": 8,
    "start_time": "2021-12-19T16:15:10.300Z"
   },
   {
    "duration": 10,
    "start_time": "2021-12-19T16:35:29.466Z"
   },
   {
    "duration": 5,
    "start_time": "2021-12-19T16:35:31.091Z"
   },
   {
    "duration": 603,
    "start_time": "2021-12-19T16:35:34.131Z"
   },
   {
    "duration": 8,
    "start_time": "2021-12-19T16:35:35.571Z"
   },
   {
    "duration": 4,
    "start_time": "2021-12-19T16:35:38.722Z"
   },
   {
    "duration": 6,
    "start_time": "2021-12-19T16:35:39.411Z"
   },
   {
    "duration": 11,
    "start_time": "2021-12-19T16:38:01.331Z"
   },
   {
    "duration": 19,
    "start_time": "2021-12-19T16:40:11.768Z"
   },
   {
    "duration": 1797,
    "start_time": "2021-12-20T12:32:13.716Z"
   },
   {
    "duration": 76,
    "start_time": "2021-12-20T12:32:15.516Z"
   },
   {
    "duration": 62,
    "start_time": "2021-12-20T12:32:15.595Z"
   },
   {
    "duration": 22,
    "start_time": "2021-12-20T12:32:15.660Z"
   },
   {
    "duration": 19,
    "start_time": "2021-12-20T12:32:15.685Z"
   },
   {
    "duration": 22,
    "start_time": "2021-12-20T12:32:15.722Z"
   },
   {
    "duration": 16,
    "start_time": "2021-12-20T12:32:15.747Z"
   },
   {
    "duration": 645,
    "start_time": "2021-12-20T12:32:15.767Z"
   },
   {
    "duration": 11,
    "start_time": "2021-12-20T12:32:16.415Z"
   },
   {
    "duration": 12,
    "start_time": "2021-12-20T12:32:16.430Z"
   },
   {
    "duration": 10,
    "start_time": "2021-12-20T12:32:16.444Z"
   },
   {
    "duration": 16,
    "start_time": "2021-12-20T12:32:16.457Z"
   },
   {
    "duration": 48,
    "start_time": "2021-12-20T12:32:16.476Z"
   },
   {
    "duration": 12,
    "start_time": "2021-12-20T12:32:16.527Z"
   },
   {
    "duration": 14,
    "start_time": "2021-12-20T12:32:16.541Z"
   },
   {
    "duration": 18,
    "start_time": "2021-12-20T12:32:16.558Z"
   },
   {
    "duration": 13,
    "start_time": "2021-12-20T12:32:16.579Z"
   },
   {
    "duration": 36,
    "start_time": "2021-12-20T12:32:16.594Z"
   },
   {
    "duration": 15,
    "start_time": "2021-12-20T12:32:16.633Z"
   },
   {
    "duration": 8,
    "start_time": "2021-12-20T12:32:16.650Z"
   },
   {
    "duration": 17,
    "start_time": "2021-12-20T12:32:16.661Z"
   },
   {
    "duration": 48,
    "start_time": "2021-12-20T12:32:16.680Z"
   },
   {
    "duration": 11,
    "start_time": "2021-12-20T12:32:16.733Z"
   },
   {
    "duration": 20,
    "start_time": "2021-12-20T12:32:16.747Z"
   },
   {
    "duration": 8,
    "start_time": "2021-12-20T12:32:16.769Z"
   },
   {
    "duration": 49,
    "start_time": "2021-12-20T12:32:16.779Z"
   },
   {
    "duration": 23,
    "start_time": "2021-12-20T12:32:16.830Z"
   },
   {
    "duration": 43,
    "start_time": "2021-12-20T12:32:16.855Z"
   },
   {
    "duration": 10,
    "start_time": "2021-12-20T12:32:16.924Z"
   },
   {
    "duration": 3606,
    "start_time": "2021-12-20T12:32:16.938Z"
   },
   {
    "duration": 6600,
    "start_time": "2021-12-20T12:32:20.547Z"
   },
   {
    "duration": 29,
    "start_time": "2021-12-20T12:32:27.150Z"
   },
   {
    "duration": 416,
    "start_time": "2021-12-20T12:32:27.182Z"
   },
   {
    "duration": 42,
    "start_time": "2021-12-20T12:32:27.601Z"
   },
   {
    "duration": 32,
    "start_time": "2021-12-20T12:32:27.646Z"
   },
   {
    "duration": 491,
    "start_time": "2021-12-20T12:32:27.681Z"
   },
   {
    "duration": 30,
    "start_time": "2021-12-20T12:32:28.174Z"
   },
   {
    "duration": 35,
    "start_time": "2021-12-20T12:32:28.206Z"
   },
   {
    "duration": 11,
    "start_time": "2021-12-20T12:32:28.243Z"
   },
   {
    "duration": 23,
    "start_time": "2021-12-20T12:32:28.257Z"
   },
   {
    "duration": 24,
    "start_time": "2021-12-20T12:32:28.283Z"
   },
   {
    "duration": 29,
    "start_time": "2021-12-20T12:32:28.310Z"
   },
   {
    "duration": 31,
    "start_time": "2021-12-20T12:32:28.341Z"
   },
   {
    "duration": 27,
    "start_time": "2021-12-20T12:32:28.374Z"
   },
   {
    "duration": 1568,
    "start_time": "2021-12-20T12:33:06.797Z"
   },
   {
    "duration": 1480,
    "start_time": "2021-12-20T12:33:54.756Z"
   },
   {
    "duration": 1499,
    "start_time": "2021-12-20T12:37:42.029Z"
   },
   {
    "duration": 74,
    "start_time": "2021-12-20T12:37:43.531Z"
   },
   {
    "duration": 59,
    "start_time": "2021-12-20T12:37:43.609Z"
   },
   {
    "duration": 21,
    "start_time": "2021-12-20T12:37:43.671Z"
   },
   {
    "duration": 38,
    "start_time": "2021-12-20T12:37:43.695Z"
   },
   {
    "duration": 22,
    "start_time": "2021-12-20T12:37:43.735Z"
   },
   {
    "duration": 17,
    "start_time": "2021-12-20T12:37:43.759Z"
   },
   {
    "duration": 616,
    "start_time": "2021-12-20T12:37:43.780Z"
   },
   {
    "duration": 6,
    "start_time": "2021-12-20T12:37:44.399Z"
   },
   {
    "duration": 18,
    "start_time": "2021-12-20T12:37:44.423Z"
   },
   {
    "duration": 15,
    "start_time": "2021-12-20T12:37:44.443Z"
   },
   {
    "duration": 35,
    "start_time": "2021-12-20T12:37:44.460Z"
   },
   {
    "duration": 27,
    "start_time": "2021-12-20T12:37:44.497Z"
   },
   {
    "duration": 31,
    "start_time": "2021-12-20T12:37:44.527Z"
   },
   {
    "duration": 31,
    "start_time": "2021-12-20T12:37:44.561Z"
   },
   {
    "duration": 42,
    "start_time": "2021-12-20T12:37:44.594Z"
   },
   {
    "duration": 18,
    "start_time": "2021-12-20T12:37:44.639Z"
   },
   {
    "duration": 35,
    "start_time": "2021-12-20T12:37:44.659Z"
   },
   {
    "duration": 41,
    "start_time": "2021-12-20T12:37:44.697Z"
   },
   {
    "duration": 25,
    "start_time": "2021-12-20T12:37:44.741Z"
   },
   {
    "duration": 17,
    "start_time": "2021-12-20T12:37:44.768Z"
   },
   {
    "duration": 39,
    "start_time": "2021-12-20T12:37:44.788Z"
   },
   {
    "duration": 14,
    "start_time": "2021-12-20T12:37:44.833Z"
   },
   {
    "duration": 33,
    "start_time": "2021-12-20T12:37:44.850Z"
   },
   {
    "duration": 30,
    "start_time": "2021-12-20T12:37:44.885Z"
   },
   {
    "duration": 27,
    "start_time": "2021-12-20T12:37:44.917Z"
   },
   {
    "duration": 26,
    "start_time": "2021-12-20T12:37:44.947Z"
   },
   {
    "duration": 48,
    "start_time": "2021-12-20T12:37:44.976Z"
   },
   {
    "duration": 11,
    "start_time": "2021-12-20T12:37:45.027Z"
   },
   {
    "duration": 3295,
    "start_time": "2021-12-20T12:37:45.040Z"
   },
   {
    "duration": 6312,
    "start_time": "2021-12-20T12:37:48.338Z"
   },
   {
    "duration": 34,
    "start_time": "2021-12-20T12:37:54.653Z"
   },
   {
    "duration": 505,
    "start_time": "2021-12-20T12:37:54.689Z"
   },
   {
    "duration": 37,
    "start_time": "2021-12-20T12:37:55.197Z"
   },
   {
    "duration": 22,
    "start_time": "2021-12-20T12:37:55.237Z"
   },
   {
    "duration": 390,
    "start_time": "2021-12-20T12:37:55.263Z"
   },
   {
    "duration": 30,
    "start_time": "2021-12-20T12:37:55.656Z"
   },
   {
    "duration": 52,
    "start_time": "2021-12-20T12:37:55.688Z"
   },
   {
    "duration": 13,
    "start_time": "2021-12-20T12:37:55.742Z"
   },
   {
    "duration": 12,
    "start_time": "2021-12-20T12:37:55.758Z"
   },
   {
    "duration": 13,
    "start_time": "2021-12-20T12:37:55.773Z"
   },
   {
    "duration": 43,
    "start_time": "2021-12-20T12:37:55.789Z"
   },
   {
    "duration": 24,
    "start_time": "2021-12-20T12:37:55.834Z"
   },
   {
    "duration": 25,
    "start_time": "2021-12-20T12:37:55.861Z"
   },
   {
    "duration": 1649,
    "start_time": "2021-12-20T12:43:12.014Z"
   },
   {
    "duration": 78,
    "start_time": "2021-12-20T12:43:13.666Z"
   },
   {
    "duration": 54,
    "start_time": "2021-12-20T12:43:13.748Z"
   },
   {
    "duration": 36,
    "start_time": "2021-12-20T12:43:13.805Z"
   },
   {
    "duration": 13,
    "start_time": "2021-12-20T12:43:13.844Z"
   },
   {
    "duration": 31,
    "start_time": "2021-12-20T12:43:13.860Z"
   },
   {
    "duration": 31,
    "start_time": "2021-12-20T12:43:13.894Z"
   },
   {
    "duration": 589,
    "start_time": "2021-12-20T12:43:13.929Z"
   },
   {
    "duration": 7,
    "start_time": "2021-12-20T12:43:14.521Z"
   },
   {
    "duration": 8,
    "start_time": "2021-12-20T12:43:14.530Z"
   },
   {
    "duration": 18,
    "start_time": "2021-12-20T12:43:14.540Z"
   },
   {
    "duration": 23,
    "start_time": "2021-12-20T12:43:14.560Z"
   },
   {
    "duration": 38,
    "start_time": "2021-12-20T12:43:14.585Z"
   },
   {
    "duration": 12,
    "start_time": "2021-12-20T12:43:14.625Z"
   },
   {
    "duration": 33,
    "start_time": "2021-12-20T12:43:14.639Z"
   },
   {
    "duration": 19,
    "start_time": "2021-12-20T12:43:14.675Z"
   },
   {
    "duration": 17,
    "start_time": "2021-12-20T12:43:14.696Z"
   },
   {
    "duration": 49,
    "start_time": "2021-12-20T12:43:14.715Z"
   },
   {
    "duration": 22,
    "start_time": "2021-12-20T12:43:14.767Z"
   },
   {
    "duration": 24,
    "start_time": "2021-12-20T12:43:14.792Z"
   },
   {
    "duration": 48,
    "start_time": "2021-12-20T12:43:14.819Z"
   },
   {
    "duration": 26,
    "start_time": "2021-12-20T12:43:14.869Z"
   },
   {
    "duration": 31,
    "start_time": "2021-12-20T12:43:14.899Z"
   },
   {
    "duration": 34,
    "start_time": "2021-12-20T12:43:14.934Z"
   },
   {
    "duration": 18,
    "start_time": "2021-12-20T12:43:14.971Z"
   },
   {
    "duration": 27,
    "start_time": "2021-12-20T12:43:14.991Z"
   },
   {
    "duration": 26,
    "start_time": "2021-12-20T12:43:15.021Z"
   },
   {
    "duration": 46,
    "start_time": "2021-12-20T12:43:15.050Z"
   },
   {
    "duration": 27,
    "start_time": "2021-12-20T12:43:15.100Z"
   },
   {
    "duration": 3247,
    "start_time": "2021-12-20T12:43:15.130Z"
   },
   {
    "duration": 1489,
    "start_time": "2021-12-20T12:43:18.380Z"
   },
   {
    "duration": -48,
    "start_time": "2021-12-20T12:43:19.920Z"
   },
   {
    "duration": -54,
    "start_time": "2021-12-20T12:43:19.927Z"
   },
   {
    "duration": -61,
    "start_time": "2021-12-20T12:43:19.936Z"
   },
   {
    "duration": -65,
    "start_time": "2021-12-20T12:43:19.942Z"
   },
   {
    "duration": -72,
    "start_time": "2021-12-20T12:43:19.951Z"
   },
   {
    "duration": -76,
    "start_time": "2021-12-20T12:43:19.957Z"
   },
   {
    "duration": -84,
    "start_time": "2021-12-20T12:43:19.966Z"
   },
   {
    "duration": -89,
    "start_time": "2021-12-20T12:43:19.972Z"
   },
   {
    "duration": -91,
    "start_time": "2021-12-20T12:43:19.976Z"
   },
   {
    "duration": -99,
    "start_time": "2021-12-20T12:43:19.986Z"
   },
   {
    "duration": -103,
    "start_time": "2021-12-20T12:43:19.992Z"
   },
   {
    "duration": -110,
    "start_time": "2021-12-20T12:43:20.001Z"
   },
   {
    "duration": -114,
    "start_time": "2021-12-20T12:43:20.006Z"
   },
   {
    "duration": 1459,
    "start_time": "2021-12-20T12:53:33.857Z"
   },
   {
    "duration": 71,
    "start_time": "2021-12-20T12:53:35.318Z"
   },
   {
    "duration": 69,
    "start_time": "2021-12-20T12:53:35.392Z"
   },
   {
    "duration": 21,
    "start_time": "2021-12-20T12:53:35.464Z"
   },
   {
    "duration": 18,
    "start_time": "2021-12-20T12:53:35.488Z"
   },
   {
    "duration": 9,
    "start_time": "2021-12-20T12:53:35.524Z"
   },
   {
    "duration": 19,
    "start_time": "2021-12-20T12:53:35.535Z"
   },
   {
    "duration": 578,
    "start_time": "2021-12-20T12:53:35.558Z"
   },
   {
    "duration": 6,
    "start_time": "2021-12-20T12:53:36.139Z"
   },
   {
    "duration": 11,
    "start_time": "2021-12-20T12:53:36.147Z"
   },
   {
    "duration": 20,
    "start_time": "2021-12-20T12:53:36.161Z"
   },
   {
    "duration": 32,
    "start_time": "2021-12-20T12:53:36.183Z"
   },
   {
    "duration": 53,
    "start_time": "2021-12-20T12:53:36.217Z"
   },
   {
    "duration": 33,
    "start_time": "2021-12-20T12:53:36.273Z"
   },
   {
    "duration": 43,
    "start_time": "2021-12-20T12:53:36.308Z"
   },
   {
    "duration": 27,
    "start_time": "2021-12-20T12:53:36.353Z"
   },
   {
    "duration": 31,
    "start_time": "2021-12-20T12:53:36.382Z"
   },
   {
    "duration": 29,
    "start_time": "2021-12-20T12:53:36.415Z"
   },
   {
    "duration": 32,
    "start_time": "2021-12-20T12:53:36.446Z"
   },
   {
    "duration": 29,
    "start_time": "2021-12-20T12:53:36.480Z"
   },
   {
    "duration": 32,
    "start_time": "2021-12-20T12:53:36.512Z"
   },
   {
    "duration": 39,
    "start_time": "2021-12-20T12:53:36.546Z"
   },
   {
    "duration": 30,
    "start_time": "2021-12-20T12:53:36.590Z"
   },
   {
    "duration": 44,
    "start_time": "2021-12-20T12:53:36.623Z"
   },
   {
    "duration": 29,
    "start_time": "2021-12-20T12:53:36.670Z"
   },
   {
    "duration": 39,
    "start_time": "2021-12-20T12:53:36.701Z"
   },
   {
    "duration": 33,
    "start_time": "2021-12-20T12:53:36.743Z"
   },
   {
    "duration": 46,
    "start_time": "2021-12-20T12:53:36.779Z"
   },
   {
    "duration": 11,
    "start_time": "2021-12-20T12:53:36.827Z"
   },
   {
    "duration": 462,
    "start_time": "2021-12-20T12:53:36.841Z"
   },
   {
    "duration": -53,
    "start_time": "2021-12-20T12:53:37.360Z"
   },
   {
    "duration": -57,
    "start_time": "2021-12-20T12:53:37.366Z"
   },
   {
    "duration": -65,
    "start_time": "2021-12-20T12:53:37.376Z"
   },
   {
    "duration": -71,
    "start_time": "2021-12-20T12:53:37.384Z"
   },
   {
    "duration": -84,
    "start_time": "2021-12-20T12:53:37.399Z"
   },
   {
    "duration": -94,
    "start_time": "2021-12-20T12:53:37.410Z"
   },
   {
    "duration": -98,
    "start_time": "2021-12-20T12:53:37.415Z"
   },
   {
    "duration": -107,
    "start_time": "2021-12-20T12:53:37.426Z"
   },
   {
    "duration": -110,
    "start_time": "2021-12-20T12:53:37.431Z"
   },
   {
    "duration": -119,
    "start_time": "2021-12-20T12:53:37.442Z"
   },
   {
    "duration": -123,
    "start_time": "2021-12-20T12:53:37.447Z"
   },
   {
    "duration": -131,
    "start_time": "2021-12-20T12:53:37.457Z"
   },
   {
    "duration": -136,
    "start_time": "2021-12-20T12:53:37.463Z"
   },
   {
    "duration": -139,
    "start_time": "2021-12-20T12:53:37.468Z"
   },
   {
    "duration": 1670,
    "start_time": "2021-12-20T12:54:03.599Z"
   },
   {
    "duration": 82,
    "start_time": "2021-12-20T12:54:05.272Z"
   },
   {
    "duration": 70,
    "start_time": "2021-12-20T12:54:05.358Z"
   },
   {
    "duration": 24,
    "start_time": "2021-12-20T12:54:05.432Z"
   },
   {
    "duration": 15,
    "start_time": "2021-12-20T12:54:05.458Z"
   },
   {
    "duration": 12,
    "start_time": "2021-12-20T12:54:05.475Z"
   },
   {
    "duration": 5,
    "start_time": "2021-12-20T12:54:05.490Z"
   },
   {
    "duration": 924,
    "start_time": "2021-12-20T12:54:05.527Z"
   },
   {
    "duration": 8,
    "start_time": "2021-12-20T12:54:06.456Z"
   },
   {
    "duration": 8,
    "start_time": "2021-12-20T12:54:06.467Z"
   },
   {
    "duration": 9,
    "start_time": "2021-12-20T12:54:06.478Z"
   },
   {
    "duration": 40,
    "start_time": "2021-12-20T12:54:06.490Z"
   },
   {
    "duration": 18,
    "start_time": "2021-12-20T12:54:06.533Z"
   },
   {
    "duration": 19,
    "start_time": "2021-12-20T12:54:06.553Z"
   },
   {
    "duration": 22,
    "start_time": "2021-12-20T12:54:06.574Z"
   },
   {
    "duration": 30,
    "start_time": "2021-12-20T12:54:06.598Z"
   },
   {
    "duration": 16,
    "start_time": "2021-12-20T12:54:06.631Z"
   },
   {
    "duration": 22,
    "start_time": "2021-12-20T12:54:06.649Z"
   },
   {
    "duration": 16,
    "start_time": "2021-12-20T12:54:06.674Z"
   },
   {
    "duration": 33,
    "start_time": "2021-12-20T12:54:06.693Z"
   },
   {
    "duration": 27,
    "start_time": "2021-12-20T12:54:06.729Z"
   },
   {
    "duration": 25,
    "start_time": "2021-12-20T12:54:06.759Z"
   },
   {
    "duration": 13,
    "start_time": "2021-12-20T12:54:06.792Z"
   },
   {
    "duration": 14,
    "start_time": "2021-12-20T12:54:06.824Z"
   },
   {
    "duration": 7,
    "start_time": "2021-12-20T12:54:06.841Z"
   },
   {
    "duration": 16,
    "start_time": "2021-12-20T12:54:06.851Z"
   },
   {
    "duration": 62,
    "start_time": "2021-12-20T12:54:06.870Z"
   },
   {
    "duration": 40,
    "start_time": "2021-12-20T12:54:06.935Z"
   },
   {
    "duration": 10,
    "start_time": "2021-12-20T12:54:06.977Z"
   },
   {
    "duration": 3306,
    "start_time": "2021-12-20T12:54:06.989Z"
   },
   {
    "duration": 1566,
    "start_time": "2021-12-20T12:54:10.298Z"
   },
   {
    "duration": -53,
    "start_time": "2021-12-20T12:54:11.919Z"
   },
   {
    "duration": -57,
    "start_time": "2021-12-20T12:54:11.924Z"
   },
   {
    "duration": -66,
    "start_time": "2021-12-20T12:54:11.935Z"
   },
   {
    "duration": -69,
    "start_time": "2021-12-20T12:54:11.940Z"
   },
   {
    "duration": -74,
    "start_time": "2021-12-20T12:54:11.947Z"
   },
   {
    "duration": -81,
    "start_time": "2021-12-20T12:54:11.955Z"
   },
   {
    "duration": -85,
    "start_time": "2021-12-20T12:54:11.961Z"
   },
   {
    "duration": -93,
    "start_time": "2021-12-20T12:54:11.970Z"
   },
   {
    "duration": -99,
    "start_time": "2021-12-20T12:54:11.977Z"
   },
   {
    "duration": -106,
    "start_time": "2021-12-20T12:54:11.986Z"
   },
   {
    "duration": -111,
    "start_time": "2021-12-20T12:54:11.992Z"
   },
   {
    "duration": -113,
    "start_time": "2021-12-20T12:54:11.996Z"
   },
   {
    "duration": -121,
    "start_time": "2021-12-20T12:54:12.006Z"
   },
   {
    "duration": 1446,
    "start_time": "2021-12-20T12:55:19.788Z"
   },
   {
    "duration": 99,
    "start_time": "2021-12-20T12:55:21.237Z"
   },
   {
    "duration": 94,
    "start_time": "2021-12-20T12:55:21.340Z"
   },
   {
    "duration": 32,
    "start_time": "2021-12-20T12:55:21.438Z"
   },
   {
    "duration": 10,
    "start_time": "2021-12-20T12:55:21.473Z"
   },
   {
    "duration": 46,
    "start_time": "2021-12-20T12:55:21.486Z"
   },
   {
    "duration": 6,
    "start_time": "2021-12-20T12:55:21.535Z"
   },
   {
    "duration": 713,
    "start_time": "2021-12-20T12:55:21.548Z"
   },
   {
    "duration": 6,
    "start_time": "2021-12-20T12:55:22.263Z"
   },
   {
    "duration": 24,
    "start_time": "2021-12-20T12:55:22.271Z"
   },
   {
    "duration": 33,
    "start_time": "2021-12-20T12:55:22.297Z"
   },
   {
    "duration": 31,
    "start_time": "2021-12-20T12:55:22.332Z"
   },
   {
    "duration": 43,
    "start_time": "2021-12-20T12:55:22.366Z"
   },
   {
    "duration": 43,
    "start_time": "2021-12-20T12:55:22.412Z"
   },
   {
    "duration": 22,
    "start_time": "2021-12-20T12:55:22.458Z"
   },
   {
    "duration": 33,
    "start_time": "2021-12-20T12:55:22.483Z"
   },
   {
    "duration": 9,
    "start_time": "2021-12-20T12:55:22.519Z"
   },
   {
    "duration": 32,
    "start_time": "2021-12-20T12:55:22.530Z"
   },
   {
    "duration": 27,
    "start_time": "2021-12-20T12:55:22.565Z"
   },
   {
    "duration": 9,
    "start_time": "2021-12-20T12:55:22.594Z"
   },
   {
    "duration": 19,
    "start_time": "2021-12-20T12:55:22.605Z"
   },
   {
    "duration": 17,
    "start_time": "2021-12-20T12:55:22.626Z"
   },
   {
    "duration": 14,
    "start_time": "2021-12-20T12:55:22.648Z"
   },
   {
    "duration": 37,
    "start_time": "2021-12-20T12:55:22.664Z"
   },
   {
    "duration": 20,
    "start_time": "2021-12-20T12:55:22.703Z"
   },
   {
    "duration": 33,
    "start_time": "2021-12-20T12:55:22.725Z"
   },
   {
    "duration": 21,
    "start_time": "2021-12-20T12:55:22.760Z"
   },
   {
    "duration": 46,
    "start_time": "2021-12-20T12:55:22.784Z"
   },
   {
    "duration": 8,
    "start_time": "2021-12-20T12:55:22.833Z"
   },
   {
    "duration": 3253,
    "start_time": "2021-12-20T12:55:22.844Z"
   },
   {
    "duration": 1445,
    "start_time": "2021-12-20T12:55:26.100Z"
   },
   {
    "duration": -54,
    "start_time": "2021-12-20T12:55:27.601Z"
   },
   {
    "duration": -57,
    "start_time": "2021-12-20T12:55:27.606Z"
   },
   {
    "duration": -67,
    "start_time": "2021-12-20T12:55:27.617Z"
   },
   {
    "duration": -70,
    "start_time": "2021-12-20T12:55:27.622Z"
   },
   {
    "duration": -80,
    "start_time": "2021-12-20T12:55:27.633Z"
   },
   {
    "duration": -84,
    "start_time": "2021-12-20T12:55:27.638Z"
   },
   {
    "duration": -93,
    "start_time": "2021-12-20T12:55:27.649Z"
   },
   {
    "duration": -97,
    "start_time": "2021-12-20T12:55:27.654Z"
   },
   {
    "duration": -106,
    "start_time": "2021-12-20T12:55:27.665Z"
   },
   {
    "duration": -111,
    "start_time": "2021-12-20T12:55:27.671Z"
   },
   {
    "duration": -120,
    "start_time": "2021-12-20T12:55:27.682Z"
   },
   {
    "duration": -123,
    "start_time": "2021-12-20T12:55:27.687Z"
   },
   {
    "duration": -133,
    "start_time": "2021-12-20T12:55:27.698Z"
   },
   {
    "duration": 1490,
    "start_time": "2021-12-20T13:06:35.668Z"
   },
   {
    "duration": 75,
    "start_time": "2021-12-20T13:06:39.085Z"
   },
   {
    "duration": 58,
    "start_time": "2021-12-20T13:06:40.993Z"
   },
   {
    "duration": 23,
    "start_time": "2021-12-20T13:06:41.998Z"
   },
   {
    "duration": 7,
    "start_time": "2021-12-20T13:06:56.895Z"
   },
   {
    "duration": 9,
    "start_time": "2021-12-20T13:07:02.519Z"
   },
   {
    "duration": 5,
    "start_time": "2021-12-20T13:07:03.427Z"
   },
   {
    "duration": 622,
    "start_time": "2021-12-20T13:07:48.544Z"
   },
   {
    "duration": 7,
    "start_time": "2021-12-20T13:07:49.169Z"
   },
   {
    "duration": 4,
    "start_time": "2021-12-20T13:08:12.835Z"
   },
   {
    "duration": 7,
    "start_time": "2021-12-20T13:08:13.963Z"
   },
   {
    "duration": 11,
    "start_time": "2021-12-20T13:11:19.048Z"
   },
   {
    "duration": 19,
    "start_time": "2021-12-20T13:11:28.753Z"
   },
   {
    "duration": 30,
    "start_time": "2021-12-20T13:21:13.787Z"
   },
   {
    "duration": 1589,
    "start_time": "2021-12-20T13:24:39.824Z"
   },
   {
    "duration": 75,
    "start_time": "2021-12-20T13:24:43.693Z"
   },
   {
    "duration": 59,
    "start_time": "2021-12-20T13:24:52.435Z"
   },
   {
    "duration": 21,
    "start_time": "2021-12-20T13:24:54.285Z"
   },
   {
    "duration": 9,
    "start_time": "2021-12-20T13:25:07.533Z"
   },
   {
    "duration": 13,
    "start_time": "2021-12-20T13:25:12.227Z"
   },
   {
    "duration": 5,
    "start_time": "2021-12-20T13:25:13.819Z"
   },
   {
    "duration": 595,
    "start_time": "2021-12-20T13:25:18.910Z"
   },
   {
    "duration": 7,
    "start_time": "2021-12-20T13:25:20.182Z"
   },
   {
    "duration": 5,
    "start_time": "2021-12-20T13:25:25.752Z"
   },
   {
    "duration": 9,
    "start_time": "2021-12-20T13:25:27.326Z"
   },
   {
    "duration": 1613,
    "start_time": "2021-12-20T14:39:56.156Z"
   },
   {
    "duration": 77,
    "start_time": "2021-12-20T14:40:02.762Z"
   },
   {
    "duration": 66,
    "start_time": "2021-12-20T14:40:09.268Z"
   },
   {
    "duration": 22,
    "start_time": "2021-12-20T14:40:10.578Z"
   },
   {
    "duration": 8,
    "start_time": "2021-12-20T14:40:41.090Z"
   },
   {
    "duration": 14,
    "start_time": "2021-12-20T14:40:44.959Z"
   },
   {
    "duration": 6389,
    "start_time": "2021-12-20T14:41:05.191Z"
   },
   {
    "duration": 1536,
    "start_time": "2021-12-20T14:42:04.220Z"
   },
   {
    "duration": 72,
    "start_time": "2021-12-20T14:42:05.759Z"
   },
   {
    "duration": 57,
    "start_time": "2021-12-20T14:42:05.835Z"
   },
   {
    "duration": 43,
    "start_time": "2021-12-20T14:42:05.895Z"
   },
   {
    "duration": 11,
    "start_time": "2021-12-20T14:42:05.940Z"
   },
   {
    "duration": 17,
    "start_time": "2021-12-20T14:42:05.953Z"
   },
   {
    "duration": 6712,
    "start_time": "2021-12-20T14:42:05.972Z"
   },
   {
    "duration": -69,
    "start_time": "2021-12-20T14:42:12.757Z"
   },
   {
    "duration": -80,
    "start_time": "2021-12-20T14:42:12.770Z"
   },
   {
    "duration": -90,
    "start_time": "2021-12-20T14:42:12.782Z"
   },
   {
    "duration": -95,
    "start_time": "2021-12-20T14:42:12.788Z"
   },
   {
    "duration": -106,
    "start_time": "2021-12-20T14:42:12.800Z"
   },
   {
    "duration": -111,
    "start_time": "2021-12-20T14:42:12.807Z"
   },
   {
    "duration": -121,
    "start_time": "2021-12-20T14:42:12.818Z"
   },
   {
    "duration": -132,
    "start_time": "2021-12-20T14:42:12.830Z"
   },
   {
    "duration": -139,
    "start_time": "2021-12-20T14:42:12.839Z"
   },
   {
    "duration": -149,
    "start_time": "2021-12-20T14:42:12.850Z"
   },
   {
    "duration": -156,
    "start_time": "2021-12-20T14:42:12.858Z"
   },
   {
    "duration": -164,
    "start_time": "2021-12-20T14:42:12.868Z"
   },
   {
    "duration": -174,
    "start_time": "2021-12-20T14:42:12.879Z"
   },
   {
    "duration": -180,
    "start_time": "2021-12-20T14:42:12.887Z"
   },
   {
    "duration": -206,
    "start_time": "2021-12-20T14:42:12.914Z"
   },
   {
    "duration": -211,
    "start_time": "2021-12-20T14:42:12.920Z"
   },
   {
    "duration": -220,
    "start_time": "2021-12-20T14:42:12.930Z"
   },
   {
    "duration": -225,
    "start_time": "2021-12-20T14:42:12.937Z"
   },
   {
    "duration": -235,
    "start_time": "2021-12-20T14:42:12.948Z"
   },
   {
    "duration": -240,
    "start_time": "2021-12-20T14:42:12.955Z"
   },
   {
    "duration": -250,
    "start_time": "2021-12-20T14:42:12.966Z"
   },
   {
    "duration": -256,
    "start_time": "2021-12-20T14:42:12.973Z"
   },
   {
    "duration": -264,
    "start_time": "2021-12-20T14:42:12.983Z"
   },
   {
    "duration": -271,
    "start_time": "2021-12-20T14:42:12.991Z"
   },
   {
    "duration": -279,
    "start_time": "2021-12-20T14:42:13.001Z"
   },
   {
    "duration": -285,
    "start_time": "2021-12-20T14:42:13.008Z"
   },
   {
    "duration": -293,
    "start_time": "2021-12-20T14:42:13.018Z"
   },
   {
    "duration": -304,
    "start_time": "2021-12-20T14:42:13.030Z"
   },
   {
    "duration": -308,
    "start_time": "2021-12-20T14:42:13.036Z"
   },
   {
    "duration": -317,
    "start_time": "2021-12-20T14:42:13.047Z"
   },
   {
    "duration": -325,
    "start_time": "2021-12-20T14:42:13.056Z"
   },
   {
    "duration": -333,
    "start_time": "2021-12-20T14:42:13.066Z"
   },
   {
    "duration": -339,
    "start_time": "2021-12-20T14:42:13.073Z"
   },
   {
    "duration": -348,
    "start_time": "2021-12-20T14:42:13.083Z"
   },
   {
    "duration": -354,
    "start_time": "2021-12-20T14:42:13.091Z"
   },
   {
    "duration": 6153,
    "start_time": "2021-12-20T14:42:44.047Z"
   },
   {
    "duration": 7054,
    "start_time": "2021-12-20T14:43:10.088Z"
   },
   {
    "duration": 1663,
    "start_time": "2021-12-20T14:43:44.829Z"
   },
   {
    "duration": 74,
    "start_time": "2021-12-20T14:43:46.495Z"
   },
   {
    "duration": 84,
    "start_time": "2021-12-20T14:43:46.576Z"
   },
   {
    "duration": 28,
    "start_time": "2021-12-20T14:43:46.663Z"
   },
   {
    "duration": 32,
    "start_time": "2021-12-20T14:43:46.694Z"
   },
   {
    "duration": 14,
    "start_time": "2021-12-20T14:43:46.729Z"
   },
   {
    "duration": 677,
    "start_time": "2021-12-20T14:43:46.747Z"
   },
   {
    "duration": 5,
    "start_time": "2021-12-20T14:43:47.427Z"
   },
   {
    "duration": 10,
    "start_time": "2021-12-20T14:43:47.434Z"
   },
   {
    "duration": 17,
    "start_time": "2021-12-20T14:43:47.447Z"
   },
   {
    "duration": 22,
    "start_time": "2021-12-20T14:43:47.467Z"
   },
   {
    "duration": 33,
    "start_time": "2021-12-20T14:43:47.491Z"
   },
   {
    "duration": 15,
    "start_time": "2021-12-20T14:43:47.526Z"
   },
   {
    "duration": 10,
    "start_time": "2021-12-20T14:43:47.543Z"
   },
   {
    "duration": 14,
    "start_time": "2021-12-20T14:43:47.556Z"
   },
   {
    "duration": 56,
    "start_time": "2021-12-20T14:43:47.573Z"
   },
   {
    "duration": 14,
    "start_time": "2021-12-20T14:43:47.632Z"
   },
   {
    "duration": 10,
    "start_time": "2021-12-20T14:43:47.648Z"
   },
   {
    "duration": 19,
    "start_time": "2021-12-20T14:43:47.661Z"
   },
   {
    "duration": 49,
    "start_time": "2021-12-20T14:43:47.682Z"
   },
   {
    "duration": 10,
    "start_time": "2021-12-20T14:43:47.734Z"
   },
   {
    "duration": 18,
    "start_time": "2021-12-20T14:43:47.749Z"
   },
   {
    "duration": 7,
    "start_time": "2021-12-20T14:43:47.770Z"
   },
   {
    "duration": 54,
    "start_time": "2021-12-20T14:43:47.779Z"
   },
   {
    "duration": 22,
    "start_time": "2021-12-20T14:43:47.836Z"
   },
   {
    "duration": 76,
    "start_time": "2021-12-20T14:43:47.861Z"
   },
   {
    "duration": 13,
    "start_time": "2021-12-20T14:43:47.939Z"
   },
   {
    "duration": 3314,
    "start_time": "2021-12-20T14:43:47.956Z"
   },
   {
    "duration": 1813,
    "start_time": "2021-12-20T14:43:51.272Z"
   },
   {
    "duration": -49,
    "start_time": "2021-12-20T14:43:53.138Z"
   },
   {
    "duration": -57,
    "start_time": "2021-12-20T14:43:53.148Z"
   },
   {
    "duration": -61,
    "start_time": "2021-12-20T14:43:53.155Z"
   },
   {
    "duration": -70,
    "start_time": "2021-12-20T14:43:53.166Z"
   },
   {
    "duration": -75,
    "start_time": "2021-12-20T14:43:53.174Z"
   },
   {
    "duration": -85,
    "start_time": "2021-12-20T14:43:53.186Z"
   },
   {
    "duration": -94,
    "start_time": "2021-12-20T14:43:53.197Z"
   },
   {
    "duration": -100,
    "start_time": "2021-12-20T14:43:53.205Z"
   },
   {
    "duration": -108,
    "start_time": "2021-12-20T14:43:53.215Z"
   },
   {
    "duration": -114,
    "start_time": "2021-12-20T14:43:53.223Z"
   },
   {
    "duration": -121,
    "start_time": "2021-12-20T14:43:53.233Z"
   },
   {
    "duration": -126,
    "start_time": "2021-12-20T14:43:53.240Z"
   },
   {
    "duration": -134,
    "start_time": "2021-12-20T14:43:53.250Z"
   },
   {
    "duration": 1646,
    "start_time": "2021-12-20T14:57:55.623Z"
   },
   {
    "duration": 73,
    "start_time": "2021-12-20T14:58:00.331Z"
   },
   {
    "duration": 63,
    "start_time": "2021-12-20T14:58:05.596Z"
   },
   {
    "duration": 22,
    "start_time": "2021-12-20T14:58:06.514Z"
   },
   {
    "duration": 1779,
    "start_time": "2021-12-20T14:58:20.675Z"
   },
   {
    "duration": 82,
    "start_time": "2021-12-20T14:58:25.050Z"
   },
   {
    "duration": 53,
    "start_time": "2021-12-20T14:58:26.878Z"
   },
   {
    "duration": 22,
    "start_time": "2021-12-20T14:58:30.409Z"
   },
   {
    "duration": 7,
    "start_time": "2021-12-20T14:58:40.415Z"
   },
   {
    "duration": 13,
    "start_time": "2021-12-20T14:58:49.534Z"
   },
   {
    "duration": 8,
    "start_time": "2021-12-20T14:59:13.005Z"
   },
   {
    "duration": 22,
    "start_time": "2021-12-20T14:59:21.330Z"
   },
   {
    "duration": 615,
    "start_time": "2021-12-20T15:05:06.041Z"
   },
   {
    "duration": 1760,
    "start_time": "2021-12-20T16:47:25.902Z"
   },
   {
    "duration": 86,
    "start_time": "2021-12-20T16:47:27.667Z"
   },
   {
    "duration": 67,
    "start_time": "2021-12-20T16:47:27.756Z"
   },
   {
    "duration": 27,
    "start_time": "2021-12-20T16:47:27.828Z"
   },
   {
    "duration": 7,
    "start_time": "2021-12-20T16:47:27.859Z"
   },
   {
    "duration": 12,
    "start_time": "2021-12-20T16:47:27.869Z"
   },
   {
    "duration": 44,
    "start_time": "2021-12-20T16:47:27.884Z"
   },
   {
    "duration": 29,
    "start_time": "2021-12-20T16:47:27.933Z"
   },
   {
    "duration": 673,
    "start_time": "2021-12-20T16:47:27.965Z"
   },
   {
    "duration": 11,
    "start_time": "2021-12-20T16:47:28.640Z"
   },
   {
    "duration": 18,
    "start_time": "2021-12-20T16:47:28.654Z"
   },
   {
    "duration": 14,
    "start_time": "2021-12-20T16:47:28.675Z"
   },
   {
    "duration": 12,
    "start_time": "2021-12-20T16:47:28.724Z"
   },
   {
    "duration": 20,
    "start_time": "2021-12-20T16:47:28.739Z"
   },
   {
    "duration": 15,
    "start_time": "2021-12-20T16:47:28.762Z"
   },
   {
    "duration": 44,
    "start_time": "2021-12-20T16:47:28.781Z"
   },
   {
    "duration": 22,
    "start_time": "2021-12-20T16:47:28.828Z"
   },
   {
    "duration": 19,
    "start_time": "2021-12-20T16:47:28.853Z"
   },
   {
    "duration": 22,
    "start_time": "2021-12-20T16:47:28.874Z"
   },
   {
    "duration": 47,
    "start_time": "2021-12-20T16:47:28.925Z"
   },
   {
    "duration": 9,
    "start_time": "2021-12-20T16:47:28.975Z"
   },
   {
    "duration": 3772,
    "start_time": "2021-12-20T16:47:28.986Z"
   },
   {
    "duration": 1669,
    "start_time": "2021-12-20T16:47:32.763Z"
   },
   {
    "duration": -44,
    "start_time": "2021-12-20T16:47:34.481Z"
   },
   {
    "duration": -52,
    "start_time": "2021-12-20T16:47:34.491Z"
   },
   {
    "duration": -56,
    "start_time": "2021-12-20T16:47:34.497Z"
   },
   {
    "duration": -65,
    "start_time": "2021-12-20T16:47:34.508Z"
   },
   {
    "duration": -71,
    "start_time": "2021-12-20T16:47:34.515Z"
   },
   {
    "duration": -80,
    "start_time": "2021-12-20T16:47:34.525Z"
   },
   {
    "duration": -85,
    "start_time": "2021-12-20T16:47:34.531Z"
   },
   {
    "duration": -93,
    "start_time": "2021-12-20T16:47:34.541Z"
   },
   {
    "duration": -97,
    "start_time": "2021-12-20T16:47:34.547Z"
   },
   {
    "duration": -105,
    "start_time": "2021-12-20T16:47:34.556Z"
   },
   {
    "duration": -109,
    "start_time": "2021-12-20T16:47:34.562Z"
   },
   {
    "duration": -117,
    "start_time": "2021-12-20T16:47:34.571Z"
   },
   {
    "duration": 4966,
    "start_time": "2021-12-20T16:53:03.248Z"
   },
   {
    "duration": 1547,
    "start_time": "2021-12-20T16:55:31.508Z"
   },
   {
    "duration": 84,
    "start_time": "2021-12-20T16:55:35.175Z"
   },
   {
    "duration": 55,
    "start_time": "2021-12-20T16:55:40.342Z"
   },
   {
    "duration": 20,
    "start_time": "2021-12-20T16:55:41.170Z"
   },
   {
    "duration": 8,
    "start_time": "2021-12-20T16:55:45.987Z"
   },
   {
    "duration": 12,
    "start_time": "2021-12-20T16:55:48.406Z"
   },
   {
    "duration": 8,
    "start_time": "2021-12-20T16:56:02.489Z"
   },
   {
    "duration": 18,
    "start_time": "2021-12-20T16:56:05.193Z"
   },
   {
    "duration": 682,
    "start_time": "2021-12-20T16:56:11.388Z"
   },
   {
    "duration": 11,
    "start_time": "2021-12-20T16:56:18.757Z"
   },
   {
    "duration": 22,
    "start_time": "2021-12-20T16:56:19.872Z"
   },
   {
    "duration": 5,
    "start_time": "2021-12-20T17:04:21.632Z"
   },
   {
    "duration": 16,
    "start_time": "2021-12-20T17:29:49.991Z"
   },
   {
    "duration": 1461,
    "start_time": "2021-12-20T17:54:03.502Z"
   },
   {
    "duration": 21,
    "start_time": "2021-12-20T17:56:34.578Z"
   },
   {
    "duration": 940,
    "start_time": "2021-12-20T17:57:12.347Z"
   },
   {
    "duration": 1864,
    "start_time": "2021-12-20T18:33:32.801Z"
   },
   {
    "duration": 77,
    "start_time": "2021-12-20T18:33:34.668Z"
   },
   {
    "duration": 54,
    "start_time": "2021-12-20T18:33:34.748Z"
   },
   {
    "duration": 45,
    "start_time": "2021-12-20T18:33:34.805Z"
   },
   {
    "duration": 7,
    "start_time": "2021-12-20T18:33:34.852Z"
   },
   {
    "duration": 14,
    "start_time": "2021-12-20T18:33:34.861Z"
   },
   {
    "duration": 7,
    "start_time": "2021-12-20T18:33:34.877Z"
   },
   {
    "duration": 56,
    "start_time": "2021-12-20T18:33:34.890Z"
   },
   {
    "duration": 683,
    "start_time": "2021-12-20T18:33:34.951Z"
   },
   {
    "duration": 13,
    "start_time": "2021-12-20T18:33:35.637Z"
   },
   {
    "duration": 27,
    "start_time": "2021-12-20T18:33:35.653Z"
   },
   {
    "duration": 946,
    "start_time": "2021-12-20T18:33:35.682Z"
   },
   {
    "duration": 17,
    "start_time": "2021-12-20T18:33:36.632Z"
   },
   {
    "duration": 7458,
    "start_time": "2021-12-20T18:33:36.652Z"
   },
   {
    "duration": -62,
    "start_time": "2021-12-20T18:33:44.175Z"
   },
   {
    "duration": -66,
    "start_time": "2021-12-20T18:33:44.181Z"
   },
   {
    "duration": -78,
    "start_time": "2021-12-20T18:33:44.195Z"
   },
   {
    "duration": -87,
    "start_time": "2021-12-20T18:33:44.206Z"
   },
   {
    "duration": -93,
    "start_time": "2021-12-20T18:33:44.213Z"
   },
   {
    "duration": -102,
    "start_time": "2021-12-20T18:33:44.224Z"
   },
   {
    "duration": -108,
    "start_time": "2021-12-20T18:33:44.232Z"
   },
   {
    "duration": -117,
    "start_time": "2021-12-20T18:33:44.244Z"
   },
   {
    "duration": -128,
    "start_time": "2021-12-20T18:33:44.257Z"
   },
   {
    "duration": -133,
    "start_time": "2021-12-20T18:33:44.265Z"
   },
   {
    "duration": -142,
    "start_time": "2021-12-20T18:33:44.276Z"
   },
   {
    "duration": -153,
    "start_time": "2021-12-20T18:33:44.289Z"
   },
   {
    "duration": -159,
    "start_time": "2021-12-20T18:33:44.296Z"
   },
   {
    "duration": -170,
    "start_time": "2021-12-20T18:33:44.309Z"
   },
   {
    "duration": -173,
    "start_time": "2021-12-20T18:33:44.315Z"
   },
   {
    "duration": -185,
    "start_time": "2021-12-20T18:33:44.328Z"
   },
   {
    "duration": -195,
    "start_time": "2021-12-20T18:33:44.340Z"
   },
   {
    "duration": -201,
    "start_time": "2021-12-20T18:33:44.347Z"
   },
   {
    "duration": -211,
    "start_time": "2021-12-20T18:33:44.359Z"
   },
   {
    "duration": -222,
    "start_time": "2021-12-20T18:33:44.372Z"
   },
   {
    "duration": -227,
    "start_time": "2021-12-20T18:33:44.378Z"
   },
   {
    "duration": -238,
    "start_time": "2021-12-20T18:33:44.391Z"
   },
   {
    "duration": 7,
    "start_time": "2021-12-20T18:35:53.096Z"
   },
   {
    "duration": 20,
    "start_time": "2021-12-20T18:37:45.796Z"
   },
   {
    "duration": 29,
    "start_time": "2021-12-20T18:37:52.177Z"
   },
   {
    "duration": 8,
    "start_time": "2021-12-20T18:40:10.797Z"
   },
   {
    "duration": 24,
    "start_time": "2021-12-20T18:41:03.237Z"
   },
   {
    "duration": 2235,
    "start_time": "2021-12-21T08:59:39.574Z"
   },
   {
    "duration": 1669,
    "start_time": "2021-12-21T08:59:56.022Z"
   },
   {
    "duration": 73,
    "start_time": "2021-12-21T08:59:58.509Z"
   },
   {
    "duration": 57,
    "start_time": "2021-12-21T09:00:00.680Z"
   },
   {
    "duration": 21,
    "start_time": "2021-12-21T09:00:01.612Z"
   },
   {
    "duration": 7,
    "start_time": "2021-12-21T09:00:09.410Z"
   },
   {
    "duration": 11,
    "start_time": "2021-12-21T09:00:11.361Z"
   },
   {
    "duration": 7,
    "start_time": "2021-12-21T09:00:15.366Z"
   },
   {
    "duration": 18,
    "start_time": "2021-12-21T09:00:16.808Z"
   },
   {
    "duration": 621,
    "start_time": "2021-12-21T09:00:19.982Z"
   },
   {
    "duration": 12,
    "start_time": "2021-12-21T09:00:22.823Z"
   },
   {
    "duration": 1493,
    "start_time": "2021-12-21T09:00:53.276Z"
   },
   {
    "duration": 75,
    "start_time": "2021-12-21T09:00:56.500Z"
   },
   {
    "duration": 57,
    "start_time": "2021-12-21T09:01:01.599Z"
   },
   {
    "duration": 22,
    "start_time": "2021-12-21T09:01:02.678Z"
   },
   {
    "duration": 7,
    "start_time": "2021-12-21T09:01:07.581Z"
   },
   {
    "duration": 11,
    "start_time": "2021-12-21T09:01:09.560Z"
   },
   {
    "duration": 8,
    "start_time": "2021-12-21T09:01:14.222Z"
   },
   {
    "duration": 18,
    "start_time": "2021-12-21T09:01:15.712Z"
   },
   {
    "duration": 601,
    "start_time": "2021-12-21T09:01:18.829Z"
   },
   {
    "duration": 11,
    "start_time": "2021-12-21T09:01:24.048Z"
   },
   {
    "duration": 12,
    "start_time": "2021-12-21T09:02:15.430Z"
   },
   {
    "duration": 20,
    "start_time": "2021-12-21T09:02:23.326Z"
   },
   {
    "duration": 865,
    "start_time": "2021-12-21T09:02:28.060Z"
   },
   {
    "duration": 19,
    "start_time": "2021-12-21T09:02:53.767Z"
   },
   {
    "duration": 8,
    "start_time": "2021-12-21T09:02:57.589Z"
   },
   {
    "duration": 8,
    "start_time": "2021-12-21T09:03:51.774Z"
   },
   {
    "duration": 13,
    "start_time": "2021-12-21T09:05:21.734Z"
   },
   {
    "duration": 16,
    "start_time": "2021-12-21T09:08:28.277Z"
   },
   {
    "duration": 30,
    "start_time": "2021-12-21T09:09:30.543Z"
   },
   {
    "duration": 42,
    "start_time": "2021-12-21T09:09:37.798Z"
   },
   {
    "duration": 13,
    "start_time": "2021-12-21T09:09:52.794Z"
   },
   {
    "duration": 18,
    "start_time": "2021-12-21T09:09:56.704Z"
   },
   {
    "duration": 1953,
    "start_time": "2021-12-21T09:12:25.228Z"
   },
   {
    "duration": 82,
    "start_time": "2021-12-21T09:12:27.184Z"
   },
   {
    "duration": 59,
    "start_time": "2021-12-21T09:12:27.269Z"
   },
   {
    "duration": 42,
    "start_time": "2021-12-21T09:12:27.331Z"
   },
   {
    "duration": 13,
    "start_time": "2021-12-21T09:12:27.375Z"
   },
   {
    "duration": 15,
    "start_time": "2021-12-21T09:12:27.391Z"
   },
   {
    "duration": 7,
    "start_time": "2021-12-21T09:12:27.408Z"
   },
   {
    "duration": 58,
    "start_time": "2021-12-21T09:12:27.420Z"
   },
   {
    "duration": 678,
    "start_time": "2021-12-21T09:12:27.481Z"
   },
   {
    "duration": 17,
    "start_time": "2021-12-21T09:12:28.164Z"
   },
   {
    "duration": 20,
    "start_time": "2021-12-21T09:12:28.183Z"
   },
   {
    "duration": 946,
    "start_time": "2021-12-21T09:12:28.205Z"
   },
   {
    "duration": 20,
    "start_time": "2021-12-21T09:12:29.153Z"
   },
   {
    "duration": 16,
    "start_time": "2021-12-21T09:12:29.176Z"
   },
   {
    "duration": 14,
    "start_time": "2021-12-21T09:12:29.195Z"
   },
   {
    "duration": 76,
    "start_time": "2021-12-21T09:12:29.212Z"
   },
   {
    "duration": 10,
    "start_time": "2021-12-21T09:12:29.290Z"
   },
   {
    "duration": 22,
    "start_time": "2021-12-21T09:12:29.303Z"
   },
   {
    "duration": 55,
    "start_time": "2021-12-21T09:12:29.327Z"
   },
   {
    "duration": 30,
    "start_time": "2021-12-21T09:12:29.385Z"
   },
   {
    "duration": 73,
    "start_time": "2021-12-21T09:12:29.419Z"
   },
   {
    "duration": 10,
    "start_time": "2021-12-21T09:12:29.495Z"
   },
   {
    "duration": 3743,
    "start_time": "2021-12-21T09:12:29.513Z"
   },
   {
    "duration": 5501,
    "start_time": "2021-12-21T09:12:33.264Z"
   },
   {
    "duration": 417,
    "start_time": "2021-12-21T09:12:38.769Z"
   },
   {
    "duration": 1005,
    "start_time": "2021-12-21T09:12:39.188Z"
   },
   {
    "duration": 594,
    "start_time": "2021-12-21T09:12:40.197Z"
   },
   {
    "duration": -71,
    "start_time": "2021-12-21T09:12:40.865Z"
   },
   {
    "duration": -75,
    "start_time": "2021-12-21T09:12:40.871Z"
   },
   {
    "duration": -85,
    "start_time": "2021-12-21T09:12:40.882Z"
   },
   {
    "duration": -88,
    "start_time": "2021-12-21T09:12:40.887Z"
   },
   {
    "duration": -96,
    "start_time": "2021-12-21T09:12:40.897Z"
   },
   {
    "duration": -100,
    "start_time": "2021-12-21T09:12:40.902Z"
   },
   {
    "duration": -109,
    "start_time": "2021-12-21T09:12:40.912Z"
   },
   {
    "duration": -114,
    "start_time": "2021-12-21T09:12:40.919Z"
   },
   {
    "duration": -122,
    "start_time": "2021-12-21T09:12:40.928Z"
   },
   {
    "duration": -127,
    "start_time": "2021-12-21T09:12:40.934Z"
   },
   {
    "duration": 4,
    "start_time": "2021-12-21T09:12:47.403Z"
   },
   {
    "duration": 1588,
    "start_time": "2021-12-21T09:12:56.198Z"
   },
   {
    "duration": 81,
    "start_time": "2021-12-21T09:12:59.786Z"
   },
   {
    "duration": 63,
    "start_time": "2021-12-21T09:13:02.215Z"
   },
   {
    "duration": 30,
    "start_time": "2021-12-21T09:13:04.016Z"
   },
   {
    "duration": 10,
    "start_time": "2021-12-21T09:13:12.841Z"
   },
   {
    "duration": 11,
    "start_time": "2021-12-21T09:13:15.824Z"
   },
   {
    "duration": 7,
    "start_time": "2021-12-21T09:13:18.926Z"
   },
   {
    "duration": 18,
    "start_time": "2021-12-21T09:13:22.035Z"
   },
   {
    "duration": 1019,
    "start_time": "2021-12-21T09:13:25.298Z"
   },
   {
    "duration": 16,
    "start_time": "2021-12-21T09:13:29.467Z"
   },
   {
    "duration": 27,
    "start_time": "2021-12-21T09:13:34.474Z"
   },
   {
    "duration": 913,
    "start_time": "2021-12-21T09:13:36.227Z"
   },
   {
    "duration": 14,
    "start_time": "2021-12-21T09:13:54.530Z"
   },
   {
    "duration": 12,
    "start_time": "2021-12-21T09:13:56.192Z"
   },
   {
    "duration": 14,
    "start_time": "2021-12-21T09:16:04.476Z"
   },
   {
    "duration": 32,
    "start_time": "2021-12-21T09:16:15.689Z"
   },
   {
    "duration": 10,
    "start_time": "2021-12-21T09:16:20.471Z"
   },
   {
    "duration": 17,
    "start_time": "2021-12-21T09:16:22.810Z"
   },
   {
    "duration": 22,
    "start_time": "2021-12-21T09:16:30.389Z"
   },
   {
    "duration": 31,
    "start_time": "2021-12-21T09:16:46.546Z"
   },
   {
    "duration": 44,
    "start_time": "2021-12-21T09:16:47.381Z"
   },
   {
    "duration": 11,
    "start_time": "2021-12-21T09:17:01.715Z"
   },
   {
    "duration": 3540,
    "start_time": "2021-12-21T09:17:02.894Z"
   },
   {
    "duration": 5464,
    "start_time": "2021-12-21T09:17:14.154Z"
   },
   {
    "duration": 606,
    "start_time": "2021-12-21T09:17:58.860Z"
   },
   {
    "duration": 1839,
    "start_time": "2021-12-21T09:20:34.457Z"
   },
   {
    "duration": 874,
    "start_time": "2021-12-21T09:20:43.890Z"
   },
   {
    "duration": 1719,
    "start_time": "2021-12-21T09:21:01.136Z"
   },
   {
    "duration": 75,
    "start_time": "2021-12-21T09:21:02.857Z"
   },
   {
    "duration": 92,
    "start_time": "2021-12-21T09:21:02.936Z"
   },
   {
    "duration": 37,
    "start_time": "2021-12-21T09:21:03.031Z"
   },
   {
    "duration": 13,
    "start_time": "2021-12-21T09:21:03.072Z"
   },
   {
    "duration": 16,
    "start_time": "2021-12-21T09:21:03.088Z"
   },
   {
    "duration": 10,
    "start_time": "2021-12-21T09:21:03.107Z"
   },
   {
    "duration": 28,
    "start_time": "2021-12-21T09:21:03.158Z"
   },
   {
    "duration": 663,
    "start_time": "2021-12-21T09:21:03.191Z"
   },
   {
    "duration": 11,
    "start_time": "2021-12-21T09:21:03.859Z"
   },
   {
    "duration": 20,
    "start_time": "2021-12-21T09:21:03.872Z"
   },
   {
    "duration": 982,
    "start_time": "2021-12-21T09:21:03.894Z"
   },
   {
    "duration": 13,
    "start_time": "2021-12-21T09:21:04.879Z"
   },
   {
    "duration": 12,
    "start_time": "2021-12-21T09:21:04.894Z"
   },
   {
    "duration": 57,
    "start_time": "2021-12-21T09:21:04.908Z"
   },
   {
    "duration": 31,
    "start_time": "2021-12-21T09:21:04.967Z"
   },
   {
    "duration": 13,
    "start_time": "2021-12-21T09:21:05.000Z"
   },
   {
    "duration": 49,
    "start_time": "2021-12-21T09:21:05.015Z"
   },
   {
    "duration": 21,
    "start_time": "2021-12-21T09:21:05.067Z"
   },
   {
    "duration": 26,
    "start_time": "2021-12-21T09:21:05.090Z"
   },
   {
    "duration": 80,
    "start_time": "2021-12-21T09:21:05.119Z"
   },
   {
    "duration": 14,
    "start_time": "2021-12-21T09:21:05.202Z"
   },
   {
    "duration": 3720,
    "start_time": "2021-12-21T09:21:05.224Z"
   },
   {
    "duration": 5356,
    "start_time": "2021-12-21T09:21:08.947Z"
   },
   {
    "duration": 594,
    "start_time": "2021-12-21T09:21:14.306Z"
   },
   {
    "duration": 1100,
    "start_time": "2021-12-21T09:21:14.902Z"
   },
   {
    "duration": 815,
    "start_time": "2021-12-21T09:21:16.005Z"
   },
   {
    "duration": -65,
    "start_time": "2021-12-21T09:21:16.887Z"
   },
   {
    "duration": -69,
    "start_time": "2021-12-21T09:21:16.893Z"
   },
   {
    "duration": -79,
    "start_time": "2021-12-21T09:21:16.904Z"
   },
   {
    "duration": -84,
    "start_time": "2021-12-21T09:21:16.910Z"
   },
   {
    "duration": -95,
    "start_time": "2021-12-21T09:21:16.922Z"
   },
   {
    "duration": -100,
    "start_time": "2021-12-21T09:21:16.929Z"
   },
   {
    "duration": -109,
    "start_time": "2021-12-21T09:21:16.939Z"
   },
   {
    "duration": -115,
    "start_time": "2021-12-21T09:21:16.946Z"
   },
   {
    "duration": -125,
    "start_time": "2021-12-21T09:21:16.957Z"
   },
   {
    "duration": 29,
    "start_time": "2021-12-21T09:26:39.849Z"
   },
   {
    "duration": 19,
    "start_time": "2021-12-21T09:27:08.166Z"
   },
   {
    "duration": 20,
    "start_time": "2021-12-21T09:27:11.868Z"
   },
   {
    "duration": 393,
    "start_time": "2021-12-21T09:29:01.623Z"
   },
   {
    "duration": 24,
    "start_time": "2021-12-21T09:30:08.854Z"
   },
   {
    "duration": 23,
    "start_time": "2021-12-21T09:31:02.694Z"
   },
   {
    "duration": 419,
    "start_time": "2021-12-21T09:32:59.800Z"
   },
   {
    "duration": 32,
    "start_time": "2021-12-21T09:33:41.717Z"
   },
   {
    "duration": 32,
    "start_time": "2021-12-21T09:34:45.823Z"
   },
   {
    "duration": 35,
    "start_time": "2021-12-21T09:38:31.214Z"
   },
   {
    "duration": 83,
    "start_time": "2021-12-21T09:38:52.969Z"
   },
   {
    "duration": 40,
    "start_time": "2021-12-21T09:39:00.633Z"
   },
   {
    "duration": 1875,
    "start_time": "2021-12-21T09:40:51.904Z"
   },
   {
    "duration": 78,
    "start_time": "2021-12-21T09:40:53.782Z"
   },
   {
    "duration": 56,
    "start_time": "2021-12-21T09:40:53.867Z"
   },
   {
    "duration": 42,
    "start_time": "2021-12-21T09:40:53.926Z"
   },
   {
    "duration": 8,
    "start_time": "2021-12-21T09:40:53.971Z"
   },
   {
    "duration": 16,
    "start_time": "2021-12-21T09:40:53.981Z"
   },
   {
    "duration": 6,
    "start_time": "2021-12-21T09:40:54.002Z"
   },
   {
    "duration": 54,
    "start_time": "2021-12-21T09:40:54.011Z"
   },
   {
    "duration": 628,
    "start_time": "2021-12-21T09:40:54.068Z"
   },
   {
    "duration": 9,
    "start_time": "2021-12-21T09:40:54.699Z"
   },
   {
    "duration": 20,
    "start_time": "2021-12-21T09:40:54.711Z"
   },
   {
    "duration": 864,
    "start_time": "2021-12-21T09:40:54.733Z"
   },
   {
    "duration": 13,
    "start_time": "2021-12-21T09:40:55.600Z"
   },
   {
    "duration": 11,
    "start_time": "2021-12-21T09:40:55.615Z"
   },
   {
    "duration": 13,
    "start_time": "2021-12-21T09:40:55.660Z"
   },
   {
    "duration": 30,
    "start_time": "2021-12-21T09:40:55.675Z"
   },
   {
    "duration": 11,
    "start_time": "2021-12-21T09:40:55.708Z"
   },
   {
    "duration": 49,
    "start_time": "2021-12-21T09:40:55.721Z"
   },
   {
    "duration": 19,
    "start_time": "2021-12-21T09:40:55.773Z"
   },
   {
    "duration": 23,
    "start_time": "2021-12-21T09:40:55.795Z"
   },
   {
    "duration": 71,
    "start_time": "2021-12-21T09:40:55.821Z"
   },
   {
    "duration": 10,
    "start_time": "2021-12-21T09:40:55.897Z"
   },
   {
    "duration": 3396,
    "start_time": "2021-12-21T09:40:55.910Z"
   },
   {
    "duration": 5137,
    "start_time": "2021-12-21T09:40:59.308Z"
   },
   {
    "duration": 424,
    "start_time": "2021-12-21T09:41:04.447Z"
   },
   {
    "duration": 13824,
    "start_time": "2021-12-21T09:41:04.873Z"
   },
   {
    "duration": -57,
    "start_time": "2021-12-21T09:41:18.758Z"
   },
   {
    "duration": -61,
    "start_time": "2021-12-21T09:41:18.764Z"
   },
   {
    "duration": -70,
    "start_time": "2021-12-21T09:41:18.775Z"
   },
   {
    "duration": -73,
    "start_time": "2021-12-21T09:41:18.781Z"
   },
   {
    "duration": -83,
    "start_time": "2021-12-21T09:41:18.793Z"
   },
   {
    "duration": -85,
    "start_time": "2021-12-21T09:41:18.798Z"
   },
   {
    "duration": -92,
    "start_time": "2021-12-21T09:41:18.807Z"
   },
   {
    "duration": -95,
    "start_time": "2021-12-21T09:41:18.813Z"
   },
   {
    "duration": -103,
    "start_time": "2021-12-21T09:41:18.823Z"
   },
   {
    "duration": 583,
    "start_time": "2021-12-21T09:42:51.207Z"
   },
   {
    "duration": 557,
    "start_time": "2021-12-21T09:42:58.743Z"
   },
   {
    "duration": 498,
    "start_time": "2021-12-21T09:43:57.121Z"
   },
   {
    "duration": 413,
    "start_time": "2021-12-21T09:44:30.430Z"
   },
   {
    "duration": 1584,
    "start_time": "2021-12-21T09:44:44.347Z"
   },
   {
    "duration": 78,
    "start_time": "2021-12-21T09:44:45.934Z"
   },
   {
    "duration": 67,
    "start_time": "2021-12-21T09:44:46.016Z"
   },
   {
    "duration": 21,
    "start_time": "2021-12-21T09:44:46.086Z"
   },
   {
    "duration": 7,
    "start_time": "2021-12-21T09:44:46.109Z"
   },
   {
    "duration": 48,
    "start_time": "2021-12-21T09:44:46.119Z"
   },
   {
    "duration": 8,
    "start_time": "2021-12-21T09:44:46.170Z"
   },
   {
    "duration": 17,
    "start_time": "2021-12-21T09:44:46.182Z"
   },
   {
    "duration": 1112,
    "start_time": "2021-12-21T09:44:46.202Z"
   },
   {
    "duration": 15,
    "start_time": "2021-12-21T09:44:47.317Z"
   },
   {
    "duration": 42,
    "start_time": "2021-12-21T09:44:47.335Z"
   },
   {
    "duration": 1080,
    "start_time": "2021-12-21T09:44:47.380Z"
   },
   {
    "duration": 14,
    "start_time": "2021-12-21T09:44:48.462Z"
   },
   {
    "duration": 12,
    "start_time": "2021-12-21T09:44:48.479Z"
   },
   {
    "duration": 13,
    "start_time": "2021-12-21T09:44:48.493Z"
   },
   {
    "duration": 67,
    "start_time": "2021-12-21T09:44:48.509Z"
   },
   {
    "duration": 10,
    "start_time": "2021-12-21T09:44:48.578Z"
   },
   {
    "duration": 15,
    "start_time": "2021-12-21T09:44:48.590Z"
   },
   {
    "duration": 51,
    "start_time": "2021-12-21T09:44:48.608Z"
   },
   {
    "duration": 23,
    "start_time": "2021-12-21T09:44:48.662Z"
   },
   {
    "duration": 43,
    "start_time": "2021-12-21T09:44:48.688Z"
   },
   {
    "duration": 34,
    "start_time": "2021-12-21T09:44:48.733Z"
   },
   {
    "duration": 3510,
    "start_time": "2021-12-21T09:44:48.772Z"
   },
   {
    "duration": 5349,
    "start_time": "2021-12-21T09:44:52.286Z"
   },
   {
    "duration": 484,
    "start_time": "2021-12-21T09:44:57.638Z"
   },
   {
    "duration": 607,
    "start_time": "2021-12-21T09:44:58.125Z"
   },
   {
    "duration": -44,
    "start_time": "2021-12-21T09:44:58.779Z"
   },
   {
    "duration": -55,
    "start_time": "2021-12-21T09:44:58.791Z"
   },
   {
    "duration": -64,
    "start_time": "2021-12-21T09:44:58.802Z"
   },
   {
    "duration": -70,
    "start_time": "2021-12-21T09:44:58.809Z"
   },
   {
    "duration": -80,
    "start_time": "2021-12-21T09:44:58.820Z"
   },
   {
    "duration": -84,
    "start_time": "2021-12-21T09:44:58.826Z"
   },
   {
    "duration": -94,
    "start_time": "2021-12-21T09:44:58.837Z"
   },
   {
    "duration": -100,
    "start_time": "2021-12-21T09:44:58.844Z"
   },
   {
    "duration": -109,
    "start_time": "2021-12-21T09:44:58.855Z"
   },
   {
    "duration": 944,
    "start_time": "2021-12-21T09:45:15.066Z"
   },
   {
    "duration": 49,
    "start_time": "2021-12-21T09:45:31.546Z"
   },
   {
    "duration": 44,
    "start_time": "2021-12-21T09:48:24.911Z"
   },
   {
    "duration": 432,
    "start_time": "2021-12-21T09:49:57.171Z"
   },
   {
    "duration": 474,
    "start_time": "2021-12-21T09:50:07.125Z"
   },
   {
    "duration": 63,
    "start_time": "2021-12-21T09:50:34.660Z"
   },
   {
    "duration": 1464,
    "start_time": "2021-12-21T09:51:36.729Z"
   },
   {
    "duration": 47,
    "start_time": "2021-12-21T09:51:56.168Z"
   },
   {
    "duration": 636,
    "start_time": "2021-12-21T09:52:53.573Z"
   },
   {
    "duration": 49,
    "start_time": "2021-12-21T09:53:27.534Z"
   },
   {
    "duration": 48,
    "start_time": "2021-12-21T09:53:35.673Z"
   },
   {
    "duration": 637,
    "start_time": "2021-12-21T09:53:56.407Z"
   },
   {
    "duration": 558,
    "start_time": "2021-12-21T09:55:47.948Z"
   },
   {
    "duration": 51,
    "start_time": "2021-12-21T09:55:56.991Z"
   },
   {
    "duration": 707,
    "start_time": "2021-12-21T09:56:19.677Z"
   },
   {
    "duration": 202,
    "start_time": "2021-12-21T09:59:06.250Z"
   },
   {
    "duration": 46,
    "start_time": "2021-12-21T09:59:13.470Z"
   },
   {
    "duration": 50,
    "start_time": "2021-12-21T10:03:47.258Z"
   },
   {
    "duration": 1287,
    "start_time": "2021-12-21T10:05:15.268Z"
   },
   {
    "duration": 1103,
    "start_time": "2021-12-21T10:05:52.356Z"
   },
   {
    "duration": 49,
    "start_time": "2021-12-21T10:06:07.649Z"
   },
   {
    "duration": 424,
    "start_time": "2021-12-21T10:06:54.219Z"
   },
   {
    "duration": 56,
    "start_time": "2021-12-21T10:07:22.156Z"
   },
   {
    "duration": 124,
    "start_time": "2021-12-21T10:10:52.501Z"
   },
   {
    "duration": 417,
    "start_time": "2021-12-21T10:11:08.304Z"
   },
   {
    "duration": 2238,
    "start_time": "2021-12-21T10:11:32.387Z"
   },
   {
    "duration": 123,
    "start_time": "2021-12-21T10:11:34.629Z"
   },
   {
    "duration": 90,
    "start_time": "2021-12-21T10:11:34.755Z"
   },
   {
    "duration": 30,
    "start_time": "2021-12-21T10:11:34.848Z"
   },
   {
    "duration": 11,
    "start_time": "2021-12-21T10:11:34.882Z"
   },
   {
    "duration": 17,
    "start_time": "2021-12-21T10:11:34.896Z"
   },
   {
    "duration": 9,
    "start_time": "2021-12-21T10:11:34.961Z"
   },
   {
    "duration": 19,
    "start_time": "2021-12-21T10:11:34.976Z"
   },
   {
    "duration": 692,
    "start_time": "2021-12-21T10:11:34.999Z"
   },
   {
    "duration": 16,
    "start_time": "2021-12-21T10:11:35.694Z"
   },
   {
    "duration": 49,
    "start_time": "2021-12-21T10:11:35.712Z"
   },
   {
    "duration": 913,
    "start_time": "2021-12-21T10:11:35.764Z"
   },
   {
    "duration": 18,
    "start_time": "2021-12-21T10:11:36.680Z"
   },
   {
    "duration": 13,
    "start_time": "2021-12-21T10:11:36.701Z"
   },
   {
    "duration": 54,
    "start_time": "2021-12-21T10:11:36.717Z"
   },
   {
    "duration": 34,
    "start_time": "2021-12-21T10:11:36.774Z"
   },
   {
    "duration": 10,
    "start_time": "2021-12-21T10:11:36.811Z"
   },
   {
    "duration": 20,
    "start_time": "2021-12-21T10:11:36.861Z"
   },
   {
    "duration": 31,
    "start_time": "2021-12-21T10:11:36.884Z"
   },
   {
    "duration": 68,
    "start_time": "2021-12-21T10:11:36.919Z"
   },
   {
    "duration": 87,
    "start_time": "2021-12-21T10:11:36.990Z"
   },
   {
    "duration": 11,
    "start_time": "2021-12-21T10:11:37.079Z"
   },
   {
    "duration": 5093,
    "start_time": "2021-12-21T10:11:37.095Z"
   },
   {
    "duration": 5778,
    "start_time": "2021-12-21T10:11:42.191Z"
   },
   {
    "duration": 517,
    "start_time": "2021-12-21T10:11:47.972Z"
   },
   {
    "duration": 597,
    "start_time": "2021-12-21T10:11:48.491Z"
   },
   {
    "duration": -41,
    "start_time": "2021-12-21T10:11:49.133Z"
   },
   {
    "duration": -53,
    "start_time": "2021-12-21T10:11:49.147Z"
   },
   {
    "duration": -64,
    "start_time": "2021-12-21T10:11:49.159Z"
   },
   {
    "duration": -70,
    "start_time": "2021-12-21T10:11:49.167Z"
   },
   {
    "duration": -80,
    "start_time": "2021-12-21T10:11:49.179Z"
   },
   {
    "duration": -85,
    "start_time": "2021-12-21T10:11:49.185Z"
   },
   {
    "duration": -95,
    "start_time": "2021-12-21T10:11:49.197Z"
   },
   {
    "duration": -106,
    "start_time": "2021-12-21T10:11:49.209Z"
   },
   {
    "duration": -111,
    "start_time": "2021-12-21T10:11:49.216Z"
   },
   {
    "duration": 1010,
    "start_time": "2021-12-21T10:13:08.088Z"
   },
   {
    "duration": 443,
    "start_time": "2021-12-21T10:14:34.540Z"
   },
   {
    "duration": 44,
    "start_time": "2021-12-21T10:14:56.752Z"
   },
   {
    "duration": 501,
    "start_time": "2021-12-21T10:29:58.859Z"
   },
   {
    "duration": 27,
    "start_time": "2021-12-21T10:30:56.496Z"
   },
   {
    "duration": 41,
    "start_time": "2021-12-21T10:31:01.717Z"
   },
   {
    "duration": 28,
    "start_time": "2021-12-21T10:31:09.468Z"
   },
   {
    "duration": 30,
    "start_time": "2021-12-21T10:31:56.465Z"
   },
   {
    "duration": 83,
    "start_time": "2021-12-21T10:32:28.477Z"
   },
   {
    "duration": 61,
    "start_time": "2021-12-21T10:32:34.709Z"
   },
   {
    "duration": 41,
    "start_time": "2021-12-21T10:35:34.697Z"
   },
   {
    "duration": 31,
    "start_time": "2021-12-21T10:35:37.300Z"
   },
   {
    "duration": 1673,
    "start_time": "2021-12-21T10:57:15.587Z"
   },
   {
    "duration": 83,
    "start_time": "2021-12-21T10:57:17.263Z"
   },
   {
    "duration": 69,
    "start_time": "2021-12-21T10:57:17.349Z"
   },
   {
    "duration": 38,
    "start_time": "2021-12-21T10:57:17.421Z"
   },
   {
    "duration": 9,
    "start_time": "2021-12-21T10:57:17.462Z"
   },
   {
    "duration": 14,
    "start_time": "2021-12-21T10:57:17.474Z"
   },
   {
    "duration": 8,
    "start_time": "2021-12-21T10:57:17.491Z"
   },
   {
    "duration": 71,
    "start_time": "2021-12-21T10:57:17.503Z"
   },
   {
    "duration": 636,
    "start_time": "2021-12-21T10:57:17.577Z"
   },
   {
    "duration": 12,
    "start_time": "2021-12-21T10:57:18.216Z"
   },
   {
    "duration": 45,
    "start_time": "2021-12-21T10:57:18.231Z"
   },
   {
    "duration": 886,
    "start_time": "2021-12-21T10:57:18.279Z"
   },
   {
    "duration": 16,
    "start_time": "2021-12-21T10:57:19.167Z"
   },
   {
    "duration": 13,
    "start_time": "2021-12-21T10:57:19.186Z"
   },
   {
    "duration": 18,
    "start_time": "2021-12-21T10:57:19.202Z"
   },
   {
    "duration": 65,
    "start_time": "2021-12-21T10:57:19.222Z"
   },
   {
    "duration": 12,
    "start_time": "2021-12-21T10:57:19.289Z"
   },
   {
    "duration": 17,
    "start_time": "2021-12-21T10:57:19.304Z"
   },
   {
    "duration": 23,
    "start_time": "2021-12-21T10:57:19.359Z"
   },
   {
    "duration": 24,
    "start_time": "2021-12-21T10:57:19.384Z"
   },
   {
    "duration": 90,
    "start_time": "2021-12-21T10:57:19.411Z"
   },
   {
    "duration": 11,
    "start_time": "2021-12-21T10:57:19.504Z"
   },
   {
    "duration": 3557,
    "start_time": "2021-12-21T10:57:19.519Z"
   },
   {
    "duration": 5421,
    "start_time": "2021-12-21T10:57:23.080Z"
   },
   {
    "duration": 435,
    "start_time": "2021-12-21T10:57:28.504Z"
   },
   {
    "duration": 413,
    "start_time": "2021-12-21T10:57:28.941Z"
   },
   {
    "duration": 1106,
    "start_time": "2021-12-21T10:57:29.360Z"
   },
   {
    "duration": 48,
    "start_time": "2021-12-21T10:57:30.469Z"
   },
   {
    "duration": 49,
    "start_time": "2021-12-21T10:57:30.519Z"
   },
   {
    "duration": 47,
    "start_time": "2021-12-21T10:57:30.571Z"
   },
   {
    "duration": 49,
    "start_time": "2021-12-21T10:57:30.621Z"
   },
   {
    "duration": 50,
    "start_time": "2021-12-21T10:57:30.673Z"
   },
   {
    "duration": 2220,
    "start_time": "2021-12-21T11:19:53.823Z"
   },
   {
    "duration": 82,
    "start_time": "2021-12-21T11:19:56.047Z"
   },
   {
    "duration": 77,
    "start_time": "2021-12-21T11:19:56.133Z"
   },
   {
    "duration": 48,
    "start_time": "2021-12-21T11:19:56.213Z"
   },
   {
    "duration": 13,
    "start_time": "2021-12-21T11:19:56.264Z"
   },
   {
    "duration": 17,
    "start_time": "2021-12-21T11:19:56.280Z"
   },
   {
    "duration": 10,
    "start_time": "2021-12-21T11:19:56.300Z"
   },
   {
    "duration": 65,
    "start_time": "2021-12-21T11:19:56.316Z"
   },
   {
    "duration": 1181,
    "start_time": "2021-12-21T11:19:56.385Z"
   },
   {
    "duration": 13,
    "start_time": "2021-12-21T11:19:57.569Z"
   },
   {
    "duration": 24,
    "start_time": "2021-12-21T11:19:57.584Z"
   },
   {
    "duration": 882,
    "start_time": "2021-12-21T11:19:57.611Z"
   },
   {
    "duration": 15,
    "start_time": "2021-12-21T11:19:58.495Z"
   },
   {
    "duration": 14,
    "start_time": "2021-12-21T11:19:58.513Z"
   },
   {
    "duration": 43,
    "start_time": "2021-12-21T11:19:58.529Z"
   },
   {
    "duration": 31,
    "start_time": "2021-12-21T11:19:58.575Z"
   },
   {
    "duration": 12,
    "start_time": "2021-12-21T11:19:58.609Z"
   },
   {
    "duration": 48,
    "start_time": "2021-12-21T11:19:58.624Z"
   },
   {
    "duration": 22,
    "start_time": "2021-12-21T11:19:58.675Z"
   },
   {
    "duration": 23,
    "start_time": "2021-12-21T11:19:58.700Z"
   },
   {
    "duration": 94,
    "start_time": "2021-12-21T11:19:58.727Z"
   },
   {
    "duration": 15,
    "start_time": "2021-12-21T11:19:58.823Z"
   },
   {
    "duration": 3486,
    "start_time": "2021-12-21T11:19:58.863Z"
   },
   {
    "duration": 6086,
    "start_time": "2021-12-21T11:20:02.353Z"
   },
   {
    "duration": 423,
    "start_time": "2021-12-21T11:20:08.441Z"
   },
   {
    "duration": 425,
    "start_time": "2021-12-21T11:20:08.867Z"
   },
   {
    "duration": 4592,
    "start_time": "2021-12-21T11:20:09.294Z"
   },
   {
    "duration": 46,
    "start_time": "2021-12-21T11:20:13.889Z"
   },
   {
    "duration": 57,
    "start_time": "2021-12-21T11:20:13.939Z"
   },
   {
    "duration": 86,
    "start_time": "2021-12-21T11:20:13.999Z"
   },
   {
    "duration": 35,
    "start_time": "2021-12-21T11:20:14.088Z"
   },
   {
    "duration": 70,
    "start_time": "2021-12-21T11:20:14.127Z"
   },
   {
    "duration": 1792,
    "start_time": "2021-12-21T11:30:35.076Z"
   },
   {
    "duration": 83,
    "start_time": "2021-12-21T11:30:36.870Z"
   },
   {
    "duration": 60,
    "start_time": "2021-12-21T11:30:36.956Z"
   },
   {
    "duration": 43,
    "start_time": "2021-12-21T11:30:37.019Z"
   },
   {
    "duration": 13,
    "start_time": "2021-12-21T11:30:37.065Z"
   },
   {
    "duration": 16,
    "start_time": "2021-12-21T11:30:37.081Z"
   },
   {
    "duration": 8,
    "start_time": "2021-12-21T11:30:37.100Z"
   },
   {
    "duration": 61,
    "start_time": "2021-12-21T11:30:37.113Z"
   },
   {
    "duration": 644,
    "start_time": "2021-12-21T11:30:37.178Z"
   },
   {
    "duration": 10,
    "start_time": "2021-12-21T11:30:37.825Z"
   },
   {
    "duration": 37,
    "start_time": "2021-12-21T11:30:37.838Z"
   },
   {
    "duration": 873,
    "start_time": "2021-12-21T11:30:37.877Z"
   },
   {
    "duration": 15,
    "start_time": "2021-12-21T11:30:38.760Z"
   },
   {
    "duration": 12,
    "start_time": "2021-12-21T11:30:38.778Z"
   },
   {
    "duration": 16,
    "start_time": "2021-12-21T11:30:38.792Z"
   },
   {
    "duration": 69,
    "start_time": "2021-12-21T11:30:38.810Z"
   },
   {
    "duration": 10,
    "start_time": "2021-12-21T11:30:38.881Z"
   },
   {
    "duration": 20,
    "start_time": "2021-12-21T11:30:38.893Z"
   },
   {
    "duration": 58,
    "start_time": "2021-12-21T11:30:38.916Z"
   },
   {
    "duration": 24,
    "start_time": "2021-12-21T11:30:38.976Z"
   },
   {
    "duration": 70,
    "start_time": "2021-12-21T11:30:39.002Z"
   },
   {
    "duration": 10,
    "start_time": "2021-12-21T11:30:39.074Z"
   },
   {
    "duration": 3410,
    "start_time": "2021-12-21T11:30:39.089Z"
   },
   {
    "duration": 5681,
    "start_time": "2021-12-21T11:30:42.502Z"
   },
   {
    "duration": 440,
    "start_time": "2021-12-21T11:30:48.187Z"
   },
   {
    "duration": 441,
    "start_time": "2021-12-21T11:30:48.630Z"
   },
   {
    "duration": 1042,
    "start_time": "2021-12-21T11:30:49.073Z"
   },
   {
    "duration": 60,
    "start_time": "2021-12-21T11:30:50.118Z"
   },
   {
    "duration": 28,
    "start_time": "2021-12-21T11:30:50.180Z"
   },
   {
    "duration": 70,
    "start_time": "2021-12-21T11:30:50.210Z"
   },
   {
    "duration": 25,
    "start_time": "2021-12-21T11:30:50.283Z"
   },
   {
    "duration": 56,
    "start_time": "2021-12-21T11:30:50.310Z"
   },
   {
    "duration": 578,
    "start_time": "2021-12-21T19:05:57.370Z"
   },
   {
    "duration": 1956,
    "start_time": "2021-12-21T19:06:10.134Z"
   },
   {
    "duration": 105,
    "start_time": "2021-12-21T19:06:12.093Z"
   },
   {
    "duration": 68,
    "start_time": "2021-12-21T19:06:12.202Z"
   },
   {
    "duration": 21,
    "start_time": "2021-12-21T19:06:12.273Z"
   },
   {
    "duration": 10,
    "start_time": "2021-12-21T19:06:12.297Z"
   },
   {
    "duration": 50,
    "start_time": "2021-12-21T19:06:12.309Z"
   },
   {
    "duration": 7,
    "start_time": "2021-12-21T19:06:12.362Z"
   },
   {
    "duration": 20,
    "start_time": "2021-12-21T19:06:12.372Z"
   },
   {
    "duration": 676,
    "start_time": "2021-12-21T19:06:12.397Z"
   },
   {
    "duration": 12,
    "start_time": "2021-12-21T19:06:13.076Z"
   },
   {
    "duration": 24,
    "start_time": "2021-12-21T19:06:13.090Z"
   },
   {
    "duration": 858,
    "start_time": "2021-12-21T19:06:13.117Z"
   },
   {
    "duration": 32,
    "start_time": "2021-12-21T19:06:13.977Z"
   },
   {
    "duration": 20,
    "start_time": "2021-12-21T19:06:42.876Z"
   },
   {
    "duration": 14,
    "start_time": "2021-12-21T19:07:19.849Z"
   },
   {
    "duration": 12,
    "start_time": "2021-12-21T19:07:33.750Z"
   },
   {
    "duration": 13,
    "start_time": "2021-12-21T19:07:39.355Z"
   },
   {
    "duration": 32,
    "start_time": "2021-12-21T19:08:55.783Z"
   },
   {
    "duration": 10,
    "start_time": "2021-12-21T19:09:06.805Z"
   },
   {
    "duration": 23,
    "start_time": "2021-12-21T19:09:19.836Z"
   },
   {
    "duration": 22,
    "start_time": "2021-12-21T19:10:03.140Z"
   },
   {
    "duration": 34,
    "start_time": "2021-12-21T19:10:08.027Z"
   },
   {
    "duration": 46,
    "start_time": "2021-12-21T19:10:09.034Z"
   },
   {
    "duration": 15,
    "start_time": "2021-12-21T19:10:21.689Z"
   },
   {
    "duration": 3467,
    "start_time": "2021-12-21T19:11:02.860Z"
   },
   {
    "duration": 387,
    "start_time": "2021-12-21T19:12:11.384Z"
   },
   {
    "duration": 398,
    "start_time": "2021-12-21T19:13:25.613Z"
   },
   {
    "duration": 1672,
    "start_time": "2021-12-21T19:14:41.306Z"
   },
   {
    "duration": 61,
    "start_time": "2021-12-21T19:15:22.571Z"
   },
   {
    "duration": 17,
    "start_time": "2021-12-21T19:17:47.619Z"
   },
   {
    "duration": 34,
    "start_time": "2021-12-21T19:17:57.460Z"
   },
   {
    "duration": 21,
    "start_time": "2021-12-21T19:18:00.571Z"
   },
   {
    "duration": 28,
    "start_time": "2021-12-21T19:19:07.911Z"
   },
   {
    "duration": 57,
    "start_time": "2021-12-21T19:19:26.523Z"
   },
   {
    "duration": 1945,
    "start_time": "2021-12-21T19:20:12.489Z"
   },
   {
    "duration": 78,
    "start_time": "2021-12-21T19:20:14.436Z"
   },
   {
    "duration": 74,
    "start_time": "2021-12-21T19:20:14.516Z"
   },
   {
    "duration": 20,
    "start_time": "2021-12-21T19:20:14.593Z"
   },
   {
    "duration": 10,
    "start_time": "2021-12-21T19:20:14.616Z"
   },
   {
    "duration": 43,
    "start_time": "2021-12-21T19:20:14.629Z"
   },
   {
    "duration": 7,
    "start_time": "2021-12-21T19:20:14.675Z"
   },
   {
    "duration": 18,
    "start_time": "2021-12-21T19:20:14.688Z"
   },
   {
    "duration": 1070,
    "start_time": "2021-12-21T19:20:14.710Z"
   },
   {
    "duration": 11,
    "start_time": "2021-12-21T19:20:15.782Z"
   },
   {
    "duration": 22,
    "start_time": "2021-12-21T19:20:15.795Z"
   },
   {
    "duration": 1007,
    "start_time": "2021-12-21T19:20:15.820Z"
   },
   {
    "duration": 32,
    "start_time": "2021-12-21T19:20:16.831Z"
   },
   {
    "duration": 13,
    "start_time": "2021-12-21T19:20:16.867Z"
   },
   {
    "duration": 27,
    "start_time": "2021-12-21T19:20:16.882Z"
   },
   {
    "duration": 64,
    "start_time": "2021-12-21T19:20:16.912Z"
   },
   {
    "duration": 15,
    "start_time": "2021-12-21T19:20:16.979Z"
   },
   {
    "duration": 21,
    "start_time": "2021-12-21T19:20:16.997Z"
   },
   {
    "duration": 59,
    "start_time": "2021-12-21T19:20:17.021Z"
   },
   {
    "duration": 26,
    "start_time": "2021-12-21T19:20:17.083Z"
   },
   {
    "duration": 75,
    "start_time": "2021-12-21T19:20:17.112Z"
   },
   {
    "duration": 11,
    "start_time": "2021-12-21T19:20:17.189Z"
   },
   {
    "duration": 3645,
    "start_time": "2021-12-21T19:20:17.206Z"
   },
   {
    "duration": 6120,
    "start_time": "2021-12-21T19:20:20.858Z"
   },
   {
    "duration": 451,
    "start_time": "2021-12-21T19:20:26.981Z"
   },
   {
    "duration": 448,
    "start_time": "2021-12-21T19:20:27.434Z"
   },
   {
    "duration": 1967,
    "start_time": "2021-12-21T19:20:27.884Z"
   },
   {
    "duration": 50,
    "start_time": "2021-12-21T19:20:29.853Z"
   },
   {
    "duration": 26,
    "start_time": "2021-12-21T19:20:29.906Z"
   },
   {
    "duration": 40,
    "start_time": "2021-12-21T19:20:29.959Z"
   },
   {
    "duration": 24,
    "start_time": "2021-12-21T19:20:30.001Z"
   },
   {
    "duration": 51,
    "start_time": "2021-12-21T19:20:30.028Z"
   },
   {
    "duration": 1630,
    "start_time": "2021-12-22T09:03:56.950Z"
   },
   {
    "duration": 78,
    "start_time": "2021-12-22T09:03:58.583Z"
   },
   {
    "duration": 69,
    "start_time": "2021-12-22T09:03:58.664Z"
   },
   {
    "duration": 21,
    "start_time": "2021-12-22T09:03:58.736Z"
   },
   {
    "duration": 11,
    "start_time": "2021-12-22T09:03:58.759Z"
   },
   {
    "duration": 11,
    "start_time": "2021-12-22T09:03:58.773Z"
   },
   {
    "duration": 36,
    "start_time": "2021-12-22T09:03:58.787Z"
   },
   {
    "duration": 17,
    "start_time": "2021-12-22T09:03:58.827Z"
   },
   {
    "duration": 656,
    "start_time": "2021-12-22T09:03:58.847Z"
   },
   {
    "duration": 18,
    "start_time": "2021-12-22T09:03:59.505Z"
   },
   {
    "duration": 19,
    "start_time": "2021-12-22T09:03:59.525Z"
   },
   {
    "duration": 858,
    "start_time": "2021-12-22T09:03:59.546Z"
   },
   {
    "duration": 14,
    "start_time": "2021-12-22T09:04:00.417Z"
   },
   {
    "duration": 12,
    "start_time": "2021-12-22T09:04:00.433Z"
   },
   {
    "duration": 18,
    "start_time": "2021-12-22T09:04:00.447Z"
   },
   {
    "duration": 59,
    "start_time": "2021-12-22T09:04:00.467Z"
   },
   {
    "duration": 13,
    "start_time": "2021-12-22T09:04:00.528Z"
   },
   {
    "duration": 17,
    "start_time": "2021-12-22T09:04:00.544Z"
   },
   {
    "duration": 52,
    "start_time": "2021-12-22T09:04:00.565Z"
   },
   {
    "duration": 25,
    "start_time": "2021-12-22T09:04:00.619Z"
   },
   {
    "duration": 45,
    "start_time": "2021-12-22T09:04:00.646Z"
   },
   {
    "duration": 10,
    "start_time": "2021-12-22T09:04:00.718Z"
   },
   {
    "duration": 3468,
    "start_time": "2021-12-22T09:04:00.734Z"
   },
   {
    "duration": 4503,
    "start_time": "2021-12-22T09:04:04.205Z"
   },
   {
    "duration": 418,
    "start_time": "2021-12-22T09:04:08.718Z"
   },
   {
    "duration": 429,
    "start_time": "2021-12-22T09:04:09.138Z"
   },
   {
    "duration": 787,
    "start_time": "2021-12-22T09:04:09.570Z"
   },
   {
    "duration": 47,
    "start_time": "2021-12-22T09:04:10.360Z"
   },
   {
    "duration": 26,
    "start_time": "2021-12-22T09:04:10.417Z"
   },
   {
    "duration": 40,
    "start_time": "2021-12-22T09:04:10.445Z"
   },
   {
    "duration": 49,
    "start_time": "2021-12-22T09:04:10.487Z"
   },
   {
    "duration": 27,
    "start_time": "2021-12-22T09:04:10.538Z"
   }
  ],
  "kernelspec": {
   "display_name": "Python 3 (ipykernel)",
   "language": "python",
   "name": "python3"
  },
  "language_info": {
   "codemirror_mode": {
    "name": "ipython",
    "version": 3
   },
   "file_extension": ".py",
   "mimetype": "text/x-python",
   "name": "python",
   "nbconvert_exporter": "python",
   "pygments_lexer": "ipython3",
   "version": "3.9.13"
  },
  "toc": {
   "base_numbering": 1,
   "nav_menu": {
    "height": "371px",
    "width": "502px"
   },
   "number_sections": true,
   "sideBar": true,
   "skip_h1_title": true,
   "title_cell": "Table of Contents",
   "title_sidebar": "Contents",
   "toc_cell": false,
   "toc_position": {
    "height": "calc(100% - 180px)",
    "left": "10px",
    "top": "150px",
    "width": "598px"
   },
   "toc_section_display": true,
   "toc_window_display": false
  }
 },
 "nbformat": 4,
 "nbformat_minor": 2
}
