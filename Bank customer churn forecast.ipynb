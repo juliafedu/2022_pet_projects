{
 "cells": [
  {
   "cell_type": "markdown",
   "metadata": {},
   "source": [
    "# Bank customer churn forecast"
   ]
  },
  {
   "cell_type": "markdown",
   "metadata": {},
   "source": [
    "**The project's task is to predict customer churn from the bank using customer behavior data.**"
   ]
  },
  {
   "cell_type": "markdown",
   "metadata": {},
   "source": [
    "# Results"
   ]
  },
  {
   "cell_type": "markdown",
   "metadata": {},
   "source": [
    "- F1-measure of the model is 0.61\n",
    "- ROC AUC - 0.83\n",
    "- This means that the model predicted customer churn quite well and could benefit the business."
   ]
  },
  {
   "cell_type": "markdown",
   "metadata": {},
   "source": [
    "## Data understanding"
   ]
  },
  {
   "cell_type": "code",
   "execution_count": 1,
   "metadata": {},
   "outputs": [],
   "source": [
    "import pandas as pd\n",
    "import numpy as np\n",
    "from sklearn.preprocessing import StandardScaler\n",
    "from sklearn.model_selection import train_test_split\n",
    "from sklearn.linear_model import LogisticRegression\n",
    "from sklearn.tree import DecisionTreeClassifier\n",
    "from sklearn.ensemble import RandomForestClassifier\n",
    "from sklearn.metrics import accuracy_score\n",
    "from sklearn.metrics import f1_score\n",
    "from sklearn.metrics import roc_auc_score\n",
    "from sklearn.utils import shuffle"
   ]
  },
  {
   "cell_type": "code",
   "execution_count": 2,
   "metadata": {
    "scrolled": false
   },
   "outputs": [
    {
     "data": {
      "text/html": [
       "<div>\n",
       "<style scoped>\n",
       "    .dataframe tbody tr th:only-of-type {\n",
       "        vertical-align: middle;\n",
       "    }\n",
       "\n",
       "    .dataframe tbody tr th {\n",
       "        vertical-align: top;\n",
       "    }\n",
       "\n",
       "    .dataframe thead th {\n",
       "        text-align: right;\n",
       "    }\n",
       "</style>\n",
       "<table border=\"1\" class=\"dataframe\">\n",
       "  <thead>\n",
       "    <tr style=\"text-align: right;\">\n",
       "      <th></th>\n",
       "      <th>RowNumber</th>\n",
       "      <th>CustomerId</th>\n",
       "      <th>Surname</th>\n",
       "      <th>CreditScore</th>\n",
       "      <th>Geography</th>\n",
       "      <th>Gender</th>\n",
       "      <th>Age</th>\n",
       "      <th>Tenure</th>\n",
       "      <th>Balance</th>\n",
       "      <th>NumOfProducts</th>\n",
       "      <th>HasCrCard</th>\n",
       "      <th>IsActiveMember</th>\n",
       "      <th>EstimatedSalary</th>\n",
       "      <th>Exited</th>\n",
       "    </tr>\n",
       "  </thead>\n",
       "  <tbody>\n",
       "    <tr>\n",
       "      <th>0</th>\n",
       "      <td>1</td>\n",
       "      <td>15634602</td>\n",
       "      <td>Hargrave</td>\n",
       "      <td>619</td>\n",
       "      <td>France</td>\n",
       "      <td>Female</td>\n",
       "      <td>42</td>\n",
       "      <td>2.0</td>\n",
       "      <td>0.00</td>\n",
       "      <td>1</td>\n",
       "      <td>1</td>\n",
       "      <td>1</td>\n",
       "      <td>101348.88</td>\n",
       "      <td>1</td>\n",
       "    </tr>\n",
       "    <tr>\n",
       "      <th>1</th>\n",
       "      <td>2</td>\n",
       "      <td>15647311</td>\n",
       "      <td>Hill</td>\n",
       "      <td>608</td>\n",
       "      <td>Spain</td>\n",
       "      <td>Female</td>\n",
       "      <td>41</td>\n",
       "      <td>1.0</td>\n",
       "      <td>83807.86</td>\n",
       "      <td>1</td>\n",
       "      <td>0</td>\n",
       "      <td>1</td>\n",
       "      <td>112542.58</td>\n",
       "      <td>0</td>\n",
       "    </tr>\n",
       "    <tr>\n",
       "      <th>2</th>\n",
       "      <td>3</td>\n",
       "      <td>15619304</td>\n",
       "      <td>Onio</td>\n",
       "      <td>502</td>\n",
       "      <td>France</td>\n",
       "      <td>Female</td>\n",
       "      <td>42</td>\n",
       "      <td>8.0</td>\n",
       "      <td>159660.80</td>\n",
       "      <td>3</td>\n",
       "      <td>1</td>\n",
       "      <td>0</td>\n",
       "      <td>113931.57</td>\n",
       "      <td>1</td>\n",
       "    </tr>\n",
       "    <tr>\n",
       "      <th>3</th>\n",
       "      <td>4</td>\n",
       "      <td>15701354</td>\n",
       "      <td>Boni</td>\n",
       "      <td>699</td>\n",
       "      <td>France</td>\n",
       "      <td>Female</td>\n",
       "      <td>39</td>\n",
       "      <td>1.0</td>\n",
       "      <td>0.00</td>\n",
       "      <td>2</td>\n",
       "      <td>0</td>\n",
       "      <td>0</td>\n",
       "      <td>93826.63</td>\n",
       "      <td>0</td>\n",
       "    </tr>\n",
       "    <tr>\n",
       "      <th>4</th>\n",
       "      <td>5</td>\n",
       "      <td>15737888</td>\n",
       "      <td>Mitchell</td>\n",
       "      <td>850</td>\n",
       "      <td>Spain</td>\n",
       "      <td>Female</td>\n",
       "      <td>43</td>\n",
       "      <td>2.0</td>\n",
       "      <td>125510.82</td>\n",
       "      <td>1</td>\n",
       "      <td>1</td>\n",
       "      <td>1</td>\n",
       "      <td>79084.10</td>\n",
       "      <td>0</td>\n",
       "    </tr>\n",
       "  </tbody>\n",
       "</table>\n",
       "</div>"
      ],
      "text/plain": [
       "   RowNumber  CustomerId   Surname  CreditScore Geography  Gender  Age  \\\n",
       "0          1    15634602  Hargrave          619    France  Female   42   \n",
       "1          2    15647311      Hill          608     Spain  Female   41   \n",
       "2          3    15619304      Onio          502    France  Female   42   \n",
       "3          4    15701354      Boni          699    France  Female   39   \n",
       "4          5    15737888  Mitchell          850     Spain  Female   43   \n",
       "\n",
       "   Tenure    Balance  NumOfProducts  HasCrCard  IsActiveMember  \\\n",
       "0     2.0       0.00              1          1               1   \n",
       "1     1.0   83807.86              1          0               1   \n",
       "2     8.0  159660.80              3          1               0   \n",
       "3     1.0       0.00              2          0               0   \n",
       "4     2.0  125510.82              1          1               1   \n",
       "\n",
       "   EstimatedSalary  Exited  \n",
       "0        101348.88       1  \n",
       "1        112542.58       0  \n",
       "2        113931.57       1  \n",
       "3         93826.63       0  \n",
       "4         79084.10       0  "
      ]
     },
     "execution_count": 2,
     "metadata": {},
     "output_type": "execute_result"
    }
   ],
   "source": [
    "data = pd.read_csv('/datasets/Churn.csv')\n",
    "data.head()"
   ]
  },
  {
   "cell_type": "markdown",
   "metadata": {},
   "source": [
    "## Preprocessing"
   ]
  },
  {
   "cell_type": "code",
   "execution_count": 3,
   "metadata": {},
   "outputs": [],
   "source": [
    "data.columns = ['row_number', 'customer_id', 'surname', 'credit_score', 'geography',\n",
    "       'gender', 'age', 'tenure', 'balance', 'num_of_products', 'has_cr_card',\n",
    "       'is_active_member', 'estimated_salary', 'exited']"
   ]
  },
  {
   "cell_type": "code",
   "execution_count": 4,
   "metadata": {
    "scrolled": false
   },
   "outputs": [
    {
     "data": {
      "text/plain": [
       "Index(['row_number', 'customer_id', 'surname', 'credit_score', 'geography',\n",
       "       'gender', 'age', 'tenure', 'balance', 'num_of_products', 'has_cr_card',\n",
       "       'is_active_member', 'estimated_salary', 'exited'],\n",
       "      dtype='object')"
      ]
     },
     "execution_count": 4,
     "metadata": {},
     "output_type": "execute_result"
    }
   ],
   "source": [
    "data.columns"
   ]
  },
  {
   "cell_type": "code",
   "execution_count": 5,
   "metadata": {},
   "outputs": [],
   "source": [
    "data = data.drop(['row_number', 'customer_id', 'surname'], axis=1)"
   ]
  },
  {
   "cell_type": "code",
   "execution_count": 7,
   "metadata": {},
   "outputs": [
    {
     "data": {
      "text/plain": [
       "credit_score          0\n",
       "geography             0\n",
       "gender                0\n",
       "age                   0\n",
       "tenure              909\n",
       "balance               0\n",
       "num_of_products       0\n",
       "has_cr_card           0\n",
       "is_active_member      0\n",
       "estimated_salary      0\n",
       "exited                0\n",
       "dtype: int64"
      ]
     },
     "execution_count": 7,
     "metadata": {},
     "output_type": "execute_result"
    }
   ],
   "source": [
    "data.isna().sum()"
   ]
  },
  {
   "cell_type": "code",
   "execution_count": 8,
   "metadata": {},
   "outputs": [],
   "source": [
    "data['tenure'] = data['tenure'].fillna(data['tenure'].median())"
   ]
  },
  {
   "cell_type": "code",
   "execution_count": 9,
   "metadata": {},
   "outputs": [],
   "source": [
    "data_ohe = pd.get_dummies(data, drop_first=True)"
   ]
  },
  {
   "cell_type": "code",
   "execution_count": 10,
   "metadata": {
    "scrolled": true
   },
   "outputs": [
    {
     "data": {
      "text/html": [
       "<div>\n",
       "<style scoped>\n",
       "    .dataframe tbody tr th:only-of-type {\n",
       "        vertical-align: middle;\n",
       "    }\n",
       "\n",
       "    .dataframe tbody tr th {\n",
       "        vertical-align: top;\n",
       "    }\n",
       "\n",
       "    .dataframe thead th {\n",
       "        text-align: right;\n",
       "    }\n",
       "</style>\n",
       "<table border=\"1\" class=\"dataframe\">\n",
       "  <thead>\n",
       "    <tr style=\"text-align: right;\">\n",
       "      <th></th>\n",
       "      <th>credit_score</th>\n",
       "      <th>age</th>\n",
       "      <th>tenure</th>\n",
       "      <th>balance</th>\n",
       "      <th>num_of_products</th>\n",
       "      <th>has_cr_card</th>\n",
       "      <th>is_active_member</th>\n",
       "      <th>estimated_salary</th>\n",
       "      <th>exited</th>\n",
       "      <th>geography_Germany</th>\n",
       "      <th>geography_Spain</th>\n",
       "      <th>gender_Male</th>\n",
       "    </tr>\n",
       "  </thead>\n",
       "  <tbody>\n",
       "    <tr>\n",
       "      <th>0</th>\n",
       "      <td>619</td>\n",
       "      <td>42</td>\n",
       "      <td>2.0</td>\n",
       "      <td>0.00</td>\n",
       "      <td>1</td>\n",
       "      <td>1</td>\n",
       "      <td>1</td>\n",
       "      <td>101348.88</td>\n",
       "      <td>1</td>\n",
       "      <td>0</td>\n",
       "      <td>0</td>\n",
       "      <td>0</td>\n",
       "    </tr>\n",
       "    <tr>\n",
       "      <th>1</th>\n",
       "      <td>608</td>\n",
       "      <td>41</td>\n",
       "      <td>1.0</td>\n",
       "      <td>83807.86</td>\n",
       "      <td>1</td>\n",
       "      <td>0</td>\n",
       "      <td>1</td>\n",
       "      <td>112542.58</td>\n",
       "      <td>0</td>\n",
       "      <td>0</td>\n",
       "      <td>1</td>\n",
       "      <td>0</td>\n",
       "    </tr>\n",
       "    <tr>\n",
       "      <th>2</th>\n",
       "      <td>502</td>\n",
       "      <td>42</td>\n",
       "      <td>8.0</td>\n",
       "      <td>159660.80</td>\n",
       "      <td>3</td>\n",
       "      <td>1</td>\n",
       "      <td>0</td>\n",
       "      <td>113931.57</td>\n",
       "      <td>1</td>\n",
       "      <td>0</td>\n",
       "      <td>0</td>\n",
       "      <td>0</td>\n",
       "    </tr>\n",
       "    <tr>\n",
       "      <th>3</th>\n",
       "      <td>699</td>\n",
       "      <td>39</td>\n",
       "      <td>1.0</td>\n",
       "      <td>0.00</td>\n",
       "      <td>2</td>\n",
       "      <td>0</td>\n",
       "      <td>0</td>\n",
       "      <td>93826.63</td>\n",
       "      <td>0</td>\n",
       "      <td>0</td>\n",
       "      <td>0</td>\n",
       "      <td>0</td>\n",
       "    </tr>\n",
       "    <tr>\n",
       "      <th>4</th>\n",
       "      <td>850</td>\n",
       "      <td>43</td>\n",
       "      <td>2.0</td>\n",
       "      <td>125510.82</td>\n",
       "      <td>1</td>\n",
       "      <td>1</td>\n",
       "      <td>1</td>\n",
       "      <td>79084.10</td>\n",
       "      <td>0</td>\n",
       "      <td>0</td>\n",
       "      <td>1</td>\n",
       "      <td>0</td>\n",
       "    </tr>\n",
       "  </tbody>\n",
       "</table>\n",
       "</div>"
      ],
      "text/plain": [
       "   credit_score  age  tenure    balance  num_of_products  has_cr_card  \\\n",
       "0           619   42     2.0       0.00                1            1   \n",
       "1           608   41     1.0   83807.86                1            0   \n",
       "2           502   42     8.0  159660.80                3            1   \n",
       "3           699   39     1.0       0.00                2            0   \n",
       "4           850   43     2.0  125510.82                1            1   \n",
       "\n",
       "   is_active_member  estimated_salary  exited  geography_Germany  \\\n",
       "0                 1         101348.88       1                  0   \n",
       "1                 1         112542.58       0                  0   \n",
       "2                 0         113931.57       1                  0   \n",
       "3                 0          93826.63       0                  0   \n",
       "4                 1          79084.10       0                  0   \n",
       "\n",
       "   geography_Spain  gender_Male  \n",
       "0                0            0  \n",
       "1                1            0  \n",
       "2                0            0  \n",
       "3                0            0  \n",
       "4                1            0  "
      ]
     },
     "execution_count": 10,
     "metadata": {},
     "output_type": "execute_result"
    }
   ],
   "source": [
    "data_ohe.head()"
   ]
  },
  {
   "cell_type": "code",
   "execution_count": 11,
   "metadata": {},
   "outputs": [],
   "source": [
    "features = data_ohe.drop('exited', axis=1)\n",
    "target = data_ohe['exited']"
   ]
  },
  {
   "cell_type": "code",
   "execution_count": 12,
   "metadata": {},
   "outputs": [],
   "source": [
    "features_train, features_valid_test, target_train, target_valid_test = train_test_split(features, target, train_size=0.4, random_state=1)"
   ]
  },
  {
   "cell_type": "code",
   "execution_count": 13,
   "metadata": {},
   "outputs": [],
   "source": [
    "features_valid, features_test, target_valid, target_test = train_test_split(features_valid_test, target_valid_test, test_size=0.5, random_state=1)"
   ]
  },
  {
   "cell_type": "code",
   "execution_count": 14,
   "metadata": {},
   "outputs": [],
   "source": [
    "numeric = ['credit_score', 'age', 'tenure', 'balance', 'num_of_products', 'estimated_salary']"
   ]
  },
  {
   "cell_type": "code",
   "execution_count": 15,
   "metadata": {},
   "outputs": [],
   "source": [
    "pd.options.mode.chained_assignment = None\n",
    "scaler = StandardScaler()\n",
    "scaler.fit(features_train[numeric])\n",
    "features_train[numeric] = scaler.transform(features_train[numeric])\n",
    "features_valid[numeric] = scaler.transform(features_valid[numeric])\n",
    "features_test[numeric] = scaler.transform(features_test[numeric])"
   ]
  },
  {
   "cell_type": "markdown",
   "metadata": {},
   "source": [
    "## EDA"
   ]
  },
  {
   "cell_type": "code",
   "execution_count": 16,
   "metadata": {
    "scrolled": true
   },
   "outputs": [
    {
     "data": {
      "text/plain": [
       "0    0.7963\n",
       "1    0.2037\n",
       "Name: exited, dtype: float64"
      ]
     },
     "execution_count": 16,
     "metadata": {},
     "output_type": "execute_result"
    }
   ],
   "source": [
    "data['exited'].value_counts(normalize=True)"
   ]
  },
  {
   "cell_type": "markdown",
   "metadata": {},
   "source": [
    "### Training models on imbalanced data"
   ]
  },
  {
   "cell_type": "code",
   "execution_count": 17,
   "metadata": {
    "scrolled": true
   },
   "outputs": [
    {
     "name": "stdout",
     "output_type": "stream",
     "text": [
      "accuracy: 0.822\n"
     ]
    }
   ],
   "source": [
    "model = LogisticRegression(random_state=1)\n",
    "model.fit(features_train, target_train)\n",
    "predicted_valid = model.predict(features_valid)\n",
    "print('accuracy:', accuracy_score(target_valid, predicted_valid))"
   ]
  },
  {
   "cell_type": "code",
   "execution_count": 18,
   "metadata": {},
   "outputs": [
    {
     "name": "stdout",
     "output_type": "stream",
     "text": [
      "accuracy: (0.8573333333333333, 6)\n"
     ]
    }
   ],
   "source": [
    "accuracy = []\n",
    "\n",
    "for depth in range(1, 11):\n",
    "    model = DecisionTreeClassifier(max_depth=depth, random_state=1)\n",
    "    model.fit(features_train, target_train)\n",
    "    predicted_valid = model.predict(features_valid)\n",
    "    result = accuracy_score(target_valid, predicted_valid)\n",
    "    accuracy.append((result, depth))\n",
    "    \n",
    "print('accuracy:', max(accuracy))"
   ]
  },
  {
   "cell_type": "code",
   "execution_count": 19,
   "metadata": {},
   "outputs": [
    {
     "name": "stdout",
     "output_type": "stream",
     "text": [
      "f1: 0.559670781893004\n"
     ]
    }
   ],
   "source": [
    "model = DecisionTreeClassifier(max_depth=6, random_state=1)\n",
    "model.fit(features_train, target_train)\n",
    "predicted_valid = model.predict(features_valid)\n",
    "print('f1:', f1_score(target_valid, predicted_valid))"
   ]
  },
  {
   "cell_type": "code",
   "execution_count": 20,
   "metadata": {},
   "outputs": [
    {
     "name": "stdout",
     "output_type": "stream",
     "text": [
      "0.8013333333333333\n"
     ]
    }
   ],
   "source": [
    "target_pred_constant = pd.Series(target_valid.map({0: 0, 1: 0}))\n",
    "print(accuracy_score(target_valid, target_pred_constant))"
   ]
  },
  {
   "cell_type": "markdown",
   "metadata": {},
   "source": [
    "### Handling imbalanced data"
   ]
  },
  {
   "cell_type": "code",
   "execution_count": 21,
   "metadata": {},
   "outputs": [
    {
     "name": "stdout",
     "output_type": "stream",
     "text": [
      "f1: 0.5684210526315789\n"
     ]
    }
   ],
   "source": [
    "model = DecisionTreeClassifier(max_depth=6, random_state=1, class_weight='balanced', criterion='entropy')\n",
    "model.fit(features_train, target_train)\n",
    "predicted_valid = model.predict(features_valid)\n",
    "f1_1 = f1_score(target_valid, predicted_valid)\n",
    "print(\"f1:\", f1_1)"
   ]
  },
  {
   "cell_type": "code",
   "execution_count": 22,
   "metadata": {},
   "outputs": [],
   "source": [
    "def upsample(features, target, repeat):\n",
    "    features_zeros = features[target == 0]\n",
    "    features_ones = features[target == 1]\n",
    "    target_zeros = target[target == 0]\n",
    "    target_ones = target[target == 1]\n",
    "\n",
    "    features_upsampled = pd.concat([features_zeros] + [features_ones] * repeat)\n",
    "    target_upsampled = pd.concat([target_zeros] + [target_ones] * repeat)\n",
    "    \n",
    "    features_upsampled, target_upsampled = shuffle(\n",
    "        features_upsampled, target_upsampled, random_state=1)\n",
    "    \n",
    "    return features_upsampled, target_upsampled"
   ]
  },
  {
   "cell_type": "code",
   "execution_count": 23,
   "metadata": {},
   "outputs": [],
   "source": [
    "features_upsampled, target_upsampled = upsample(features_train, target_train, 4)"
   ]
  },
  {
   "cell_type": "code",
   "execution_count": 24,
   "metadata": {},
   "outputs": [
    {
     "name": "stdout",
     "output_type": "stream",
     "text": [
      "f1: 0.5693069306930693\n"
     ]
    }
   ],
   "source": [
    "model = DecisionTreeClassifier(max_depth=6, random_state=1, criterion='entropy')\n",
    "model.fit(features_upsampled, target_upsampled)\n",
    "predicted_valid = model.predict(features_valid)\n",
    "f1_2 = f1_score(target_valid, predicted_valid)\n",
    "print(\"f1:\", f1_2)"
   ]
  },
  {
   "cell_type": "markdown",
   "metadata": {},
   "source": [
    "### Training models on balanced data"
   ]
  },
  {
   "cell_type": "code",
   "execution_count": 25,
   "metadata": {},
   "outputs": [
    {
     "name": "stdout",
     "output_type": "stream",
     "text": [
      "f1, threshold: (0.5980015372790161, 0.36)\n"
     ]
    }
   ],
   "source": [
    "model = DecisionTreeClassifier(max_depth=6, random_state=1, criterion='entropy')\n",
    "model.fit(features_train, target_train)\n",
    "probabilities_valid = model.predict_proba(features_valid)\n",
    "probabilities_one_valid = probabilities_valid[:, 1]\n",
    "\n",
    "f1 = []\n",
    "\n",
    "for threshold in np.arange(0, 1, 0.02):\n",
    "    predicted_valid = probabilities_one_valid > threshold \n",
    "    result = f1_score(target_valid, predicted_valid)\n",
    "    f1.append((result, threshold))\n",
    "    \n",
    "print('f1, threshold:', max(f1))"
   ]
  },
  {
   "cell_type": "code",
   "execution_count": 26,
   "metadata": {},
   "outputs": [],
   "source": [
    "probabilities_one_valid = list(probabilities_one_valid)\n",
    "probabilities_one_valid = [1 if i > 0.36 else 0 for i in probabilities_one_valid] "
   ]
  },
  {
   "cell_type": "code",
   "execution_count": 27,
   "metadata": {
    "scrolled": true
   },
   "outputs": [
    {
     "data": {
      "text/plain": [
       "0.5980015372790161"
      ]
     },
     "execution_count": 27,
     "metadata": {},
     "output_type": "execute_result"
    }
   ],
   "source": [
    "f1_score(target_valid, probabilities_one_valid)"
   ]
  },
  {
   "cell_type": "code",
   "execution_count": 28,
   "metadata": {},
   "outputs": [
    {
     "data": {
      "text/plain": [
       "0.827255538866989"
      ]
     },
     "execution_count": 28,
     "metadata": {},
     "output_type": "execute_result"
    }
   ],
   "source": [
    "roc_auc_score(target_valid, probabilities_valid[:, 1])"
   ]
  },
  {
   "cell_type": "markdown",
   "metadata": {},
   "source": [
    "## Testing"
   ]
  },
  {
   "cell_type": "code",
   "execution_count": 29,
   "metadata": {},
   "outputs": [
    {
     "data": {
      "text/plain": [
       "0.6108597285067875"
      ]
     },
     "execution_count": 29,
     "metadata": {},
     "output_type": "execute_result"
    }
   ],
   "source": [
    "model = DecisionTreeClassifier(max_depth=6, random_state=1, criterion='entropy')\n",
    "model.fit(features_train, target_train)\n",
    "probabilities_test = model.predict_proba(features_test)\n",
    "probabilities_one_test = probabilities_test[:, 1]\n",
    "probabilities_one_test = list(probabilities_one_test)\n",
    "probabilities_one_test = [1 if i > 0.36 else 0 for i in probabilities_one_test] \n",
    "f1_score(target_test, probabilities_one_test)"
   ]
  },
  {
   "cell_type": "code",
   "execution_count": 30,
   "metadata": {},
   "outputs": [
    {
     "data": {
      "text/plain": [
       "0.8344688555802363"
      ]
     },
     "execution_count": 30,
     "metadata": {},
     "output_type": "execute_result"
    }
   ],
   "source": [
    "roc_auc_score(target_test, probabilities_test[:, 1])"
   ]
  },
  {
   "cell_type": "code",
   "execution_count": null,
   "metadata": {},
   "outputs": [],
   "source": []
  }
 ],
 "metadata": {
  "ExecuteTimeLog": [
   {
    "duration": 1107,
    "start_time": "2022-03-28T15:37:28.119Z"
   },
   {
    "duration": 3,
    "start_time": "2022-03-28T15:41:38.557Z"
   },
   {
    "duration": 1066,
    "start_time": "2022-03-28T15:41:50.064Z"
   },
   {
    "duration": 41,
    "start_time": "2022-03-28T15:43:14.079Z"
   },
   {
    "duration": 40,
    "start_time": "2022-03-28T15:43:24.902Z"
   },
   {
    "duration": 4,
    "start_time": "2022-03-28T15:47:39.863Z"
   },
   {
    "duration": 5,
    "start_time": "2022-03-28T15:47:54.703Z"
   },
   {
    "duration": 1175,
    "start_time": "2022-03-28T15:49:09.809Z"
   },
   {
    "duration": 48,
    "start_time": "2022-03-28T15:49:10.986Z"
   },
   {
    "duration": 3,
    "start_time": "2022-03-28T15:49:12.563Z"
   },
   {
    "duration": 4,
    "start_time": "2022-03-28T15:49:13.394Z"
   },
   {
    "duration": 8,
    "start_time": "2022-03-28T15:50:35.370Z"
   },
   {
    "duration": 1115,
    "start_time": "2022-03-28T15:59:29.017Z"
   },
   {
    "duration": 41,
    "start_time": "2022-03-28T15:59:30.134Z"
   },
   {
    "duration": 3,
    "start_time": "2022-03-28T15:59:30.176Z"
   },
   {
    "duration": 16,
    "start_time": "2022-03-28T15:59:30.181Z"
   },
   {
    "duration": 110,
    "start_time": "2022-03-28T15:59:30.198Z"
   },
   {
    "duration": 0,
    "start_time": "2022-03-28T15:59:30.310Z"
   },
   {
    "duration": 5,
    "start_time": "2022-03-28T15:59:52.088Z"
   },
   {
    "duration": 7,
    "start_time": "2022-03-28T15:59:53.012Z"
   },
   {
    "duration": 19,
    "start_time": "2022-03-28T16:00:00.662Z"
   },
   {
    "duration": 1192,
    "start_time": "2022-03-28T16:03:05.944Z"
   },
   {
    "duration": 49,
    "start_time": "2022-03-28T16:03:09.704Z"
   },
   {
    "duration": 4,
    "start_time": "2022-03-28T16:03:14.680Z"
   },
   {
    "duration": 4,
    "start_time": "2022-03-28T16:03:15.894Z"
   },
   {
    "duration": 5,
    "start_time": "2022-03-28T16:03:19.512Z"
   },
   {
    "duration": 4,
    "start_time": "2022-03-28T16:03:36.983Z"
   },
   {
    "duration": 9,
    "start_time": "2022-03-28T16:03:54.592Z"
   },
   {
    "duration": 11,
    "start_time": "2022-03-28T16:04:17.468Z"
   },
   {
    "duration": 19,
    "start_time": "2022-03-28T16:04:22.822Z"
   },
   {
    "duration": 20,
    "start_time": "2022-03-28T16:04:31.971Z"
   },
   {
    "duration": 7,
    "start_time": "2022-03-28T16:05:30.571Z"
   },
   {
    "duration": 20,
    "start_time": "2022-03-28T16:05:49.402Z"
   },
   {
    "duration": 11,
    "start_time": "2022-03-28T16:09:40.467Z"
   },
   {
    "duration": 1208,
    "start_time": "2022-03-28T16:15:30.679Z"
   },
   {
    "duration": 51,
    "start_time": "2022-03-28T16:15:31.889Z"
   },
   {
    "duration": 4,
    "start_time": "2022-03-28T16:15:31.942Z"
   },
   {
    "duration": 9,
    "start_time": "2022-03-28T16:15:31.948Z"
   },
   {
    "duration": 7,
    "start_time": "2022-03-28T16:15:31.959Z"
   },
   {
    "duration": 11,
    "start_time": "2022-03-28T16:15:31.968Z"
   },
   {
    "duration": 15,
    "start_time": "2022-03-28T16:15:31.981Z"
   },
   {
    "duration": 30,
    "start_time": "2022-03-28T16:15:31.998Z"
   },
   {
    "duration": 25,
    "start_time": "2022-03-28T16:15:32.029Z"
   },
   {
    "duration": 100,
    "start_time": "2022-03-28T16:41:36.079Z"
   },
   {
    "duration": 10,
    "start_time": "2022-03-28T16:42:17.563Z"
   },
   {
    "duration": 7,
    "start_time": "2022-03-28T16:42:28.788Z"
   },
   {
    "duration": 1533,
    "start_time": "2022-03-28T19:55:06.491Z"
   },
   {
    "duration": 60,
    "start_time": "2022-03-28T19:55:08.027Z"
   },
   {
    "duration": 4,
    "start_time": "2022-03-28T19:55:08.089Z"
   },
   {
    "duration": 6,
    "start_time": "2022-03-28T19:55:08.096Z"
   },
   {
    "duration": 7,
    "start_time": "2022-03-28T19:55:08.104Z"
   },
   {
    "duration": 31,
    "start_time": "2022-03-28T19:55:08.113Z"
   },
   {
    "duration": 10,
    "start_time": "2022-03-28T19:55:08.146Z"
   },
   {
    "duration": 5,
    "start_time": "2022-03-28T19:55:08.159Z"
   },
   {
    "duration": 11,
    "start_time": "2022-03-28T19:55:08.166Z"
   },
   {
    "duration": 14,
    "start_time": "2022-03-28T19:55:08.180Z"
   },
   {
    "duration": 59,
    "start_time": "2022-03-28T19:55:08.196Z"
   },
   {
    "duration": 10,
    "start_time": "2022-03-28T19:55:26.739Z"
   },
   {
    "duration": 7,
    "start_time": "2022-03-28T19:56:55.120Z"
   },
   {
    "duration": 9,
    "start_time": "2022-03-28T19:56:56.313Z"
   },
   {
    "duration": 10,
    "start_time": "2022-03-28T19:56:56.924Z"
   },
   {
    "duration": 16,
    "start_time": "2022-03-28T20:05:41.951Z"
   },
   {
    "duration": 17,
    "start_time": "2022-03-28T20:05:57.872Z"
   },
   {
    "duration": 1608,
    "start_time": "2022-03-28T20:13:42.774Z"
   },
   {
    "duration": 67,
    "start_time": "2022-03-28T20:13:44.385Z"
   },
   {
    "duration": 5,
    "start_time": "2022-03-28T20:13:44.454Z"
   },
   {
    "duration": 12,
    "start_time": "2022-03-28T20:13:44.462Z"
   },
   {
    "duration": 9,
    "start_time": "2022-03-28T20:13:44.476Z"
   },
   {
    "duration": 7,
    "start_time": "2022-03-28T20:13:44.488Z"
   },
   {
    "duration": 51,
    "start_time": "2022-03-28T20:13:44.497Z"
   },
   {
    "duration": 8,
    "start_time": "2022-03-28T20:13:44.550Z"
   },
   {
    "duration": 13,
    "start_time": "2022-03-28T20:13:44.560Z"
   },
   {
    "duration": 16,
    "start_time": "2022-03-28T20:13:44.576Z"
   },
   {
    "duration": 56,
    "start_time": "2022-03-28T20:13:44.594Z"
   },
   {
    "duration": 9,
    "start_time": "2022-03-28T20:13:44.652Z"
   },
   {
    "duration": 9,
    "start_time": "2022-03-28T20:13:44.664Z"
   },
   {
    "duration": 9,
    "start_time": "2022-03-28T20:13:44.676Z"
   },
   {
    "duration": 5,
    "start_time": "2022-03-28T20:13:44.687Z"
   },
   {
    "duration": 91,
    "start_time": "2022-03-28T20:13:44.695Z"
   },
   {
    "duration": 37,
    "start_time": "2022-03-28T20:14:18.932Z"
   },
   {
    "duration": 1684,
    "start_time": "2022-03-28T20:14:42.077Z"
   },
   {
    "duration": 64,
    "start_time": "2022-03-28T20:14:43.765Z"
   },
   {
    "duration": 14,
    "start_time": "2022-03-28T20:14:43.832Z"
   },
   {
    "duration": 14,
    "start_time": "2022-03-28T20:14:43.849Z"
   },
   {
    "duration": 10,
    "start_time": "2022-03-28T20:14:43.866Z"
   },
   {
    "duration": 10,
    "start_time": "2022-03-28T20:14:43.878Z"
   },
   {
    "duration": 17,
    "start_time": "2022-03-28T20:14:43.890Z"
   },
   {
    "duration": 36,
    "start_time": "2022-03-28T20:14:43.909Z"
   },
   {
    "duration": 19,
    "start_time": "2022-03-28T20:14:43.948Z"
   },
   {
    "duration": 16,
    "start_time": "2022-03-28T20:14:43.969Z"
   },
   {
    "duration": 16,
    "start_time": "2022-03-28T20:14:43.988Z"
   },
   {
    "duration": 40,
    "start_time": "2022-03-28T20:14:44.007Z"
   },
   {
    "duration": 10,
    "start_time": "2022-03-28T20:14:44.050Z"
   },
   {
    "duration": 9,
    "start_time": "2022-03-28T20:14:44.063Z"
   },
   {
    "duration": 6,
    "start_time": "2022-03-28T20:14:44.075Z"
   },
   {
    "duration": 69,
    "start_time": "2022-03-28T20:14:44.083Z"
   },
   {
    "duration": 1726,
    "start_time": "2022-03-28T20:21:08.588Z"
   },
   {
    "duration": 62,
    "start_time": "2022-03-28T20:21:10.317Z"
   },
   {
    "duration": 6,
    "start_time": "2022-03-28T20:21:10.382Z"
   },
   {
    "duration": 10,
    "start_time": "2022-03-28T20:21:10.393Z"
   },
   {
    "duration": 12,
    "start_time": "2022-03-28T20:21:10.406Z"
   },
   {
    "duration": 23,
    "start_time": "2022-03-28T20:21:10.421Z"
   },
   {
    "duration": 16,
    "start_time": "2022-03-28T20:21:10.447Z"
   },
   {
    "duration": 9,
    "start_time": "2022-03-28T20:21:10.465Z"
   },
   {
    "duration": 19,
    "start_time": "2022-03-28T20:21:10.476Z"
   },
   {
    "duration": 61,
    "start_time": "2022-03-28T20:21:10.499Z"
   },
   {
    "duration": 9,
    "start_time": "2022-03-28T20:21:10.562Z"
   },
   {
    "duration": 11,
    "start_time": "2022-03-28T20:21:10.574Z"
   },
   {
    "duration": 11,
    "start_time": "2022-03-28T20:21:10.587Z"
   },
   {
    "duration": 55,
    "start_time": "2022-03-28T20:21:10.601Z"
   },
   {
    "duration": 45,
    "start_time": "2022-03-28T20:21:10.660Z"
   },
   {
    "duration": 16,
    "start_time": "2022-03-28T20:21:10.708Z"
   },
   {
    "duration": 195,
    "start_time": "2022-03-28T20:31:51.990Z"
   },
   {
    "duration": 1643,
    "start_time": "2022-03-28T20:33:27.606Z"
   },
   {
    "duration": 76,
    "start_time": "2022-03-28T20:33:29.251Z"
   },
   {
    "duration": 4,
    "start_time": "2022-03-28T20:33:29.330Z"
   },
   {
    "duration": 7,
    "start_time": "2022-03-28T20:33:29.339Z"
   },
   {
    "duration": 12,
    "start_time": "2022-03-28T20:33:29.348Z"
   },
   {
    "duration": 7,
    "start_time": "2022-03-28T20:33:29.363Z"
   },
   {
    "duration": 17,
    "start_time": "2022-03-28T20:33:29.372Z"
   },
   {
    "duration": 6,
    "start_time": "2022-03-28T20:33:29.392Z"
   },
   {
    "duration": 54,
    "start_time": "2022-03-28T20:33:29.400Z"
   },
   {
    "duration": 21,
    "start_time": "2022-03-28T20:33:29.457Z"
   },
   {
    "duration": 7,
    "start_time": "2022-03-28T20:33:29.480Z"
   },
   {
    "duration": 9,
    "start_time": "2022-03-28T20:33:29.489Z"
   },
   {
    "duration": 44,
    "start_time": "2022-03-28T20:33:29.500Z"
   },
   {
    "duration": 4,
    "start_time": "2022-03-28T20:33:29.546Z"
   },
   {
    "duration": 33,
    "start_time": "2022-03-28T20:33:29.552Z"
   },
   {
    "duration": 12,
    "start_time": "2022-03-28T20:33:29.588Z"
   },
   {
    "duration": 212,
    "start_time": "2022-03-28T20:33:29.602Z"
   },
   {
    "duration": 167,
    "start_time": "2022-03-28T20:33:29.818Z"
   },
   {
    "duration": 9,
    "start_time": "2022-03-28T20:34:04.370Z"
   },
   {
    "duration": 1768,
    "start_time": "2022-03-28T20:34:49.127Z"
   },
   {
    "duration": 64,
    "start_time": "2022-03-28T20:34:50.898Z"
   },
   {
    "duration": 4,
    "start_time": "2022-03-28T20:34:50.964Z"
   },
   {
    "duration": 8,
    "start_time": "2022-03-28T20:34:50.970Z"
   },
   {
    "duration": 7,
    "start_time": "2022-03-28T20:34:50.980Z"
   },
   {
    "duration": 9,
    "start_time": "2022-03-28T20:34:50.989Z"
   },
   {
    "duration": 12,
    "start_time": "2022-03-28T20:34:51.000Z"
   },
   {
    "duration": 7,
    "start_time": "2022-03-28T20:34:51.042Z"
   },
   {
    "duration": 18,
    "start_time": "2022-03-28T20:34:51.051Z"
   },
   {
    "duration": 18,
    "start_time": "2022-03-28T20:34:51.072Z"
   },
   {
    "duration": 9,
    "start_time": "2022-03-28T20:34:51.144Z"
   },
   {
    "duration": 9,
    "start_time": "2022-03-28T20:34:51.155Z"
   },
   {
    "duration": 11,
    "start_time": "2022-03-28T20:34:51.167Z"
   },
   {
    "duration": 7,
    "start_time": "2022-03-28T20:34:51.180Z"
   },
   {
    "duration": 64,
    "start_time": "2022-03-28T20:34:51.189Z"
   },
   {
    "duration": 10,
    "start_time": "2022-03-28T20:34:51.255Z"
   },
   {
    "duration": 205,
    "start_time": "2022-03-28T20:34:51.267Z"
   },
   {
    "duration": 9,
    "start_time": "2022-03-28T20:34:51.474Z"
   },
   {
    "duration": 1663,
    "start_time": "2022-03-28T20:35:17.595Z"
   },
   {
    "duration": 62,
    "start_time": "2022-03-28T20:35:19.261Z"
   },
   {
    "duration": 5,
    "start_time": "2022-03-28T20:35:19.325Z"
   },
   {
    "duration": 12,
    "start_time": "2022-03-28T20:35:19.332Z"
   },
   {
    "duration": 6,
    "start_time": "2022-03-28T20:35:19.347Z"
   },
   {
    "duration": 7,
    "start_time": "2022-03-28T20:35:19.356Z"
   },
   {
    "duration": 11,
    "start_time": "2022-03-28T20:35:19.366Z"
   },
   {
    "duration": 9,
    "start_time": "2022-03-28T20:35:19.379Z"
   },
   {
    "duration": 59,
    "start_time": "2022-03-28T20:35:19.391Z"
   },
   {
    "duration": 18,
    "start_time": "2022-03-28T20:35:19.452Z"
   },
   {
    "duration": 8,
    "start_time": "2022-03-28T20:35:19.472Z"
   },
   {
    "duration": 9,
    "start_time": "2022-03-28T20:35:19.483Z"
   },
   {
    "duration": 50,
    "start_time": "2022-03-28T20:35:19.494Z"
   },
   {
    "duration": 4,
    "start_time": "2022-03-28T20:35:19.549Z"
   },
   {
    "duration": 30,
    "start_time": "2022-03-28T20:35:19.555Z"
   },
   {
    "duration": 12,
    "start_time": "2022-03-28T20:35:19.588Z"
   },
   {
    "duration": 206,
    "start_time": "2022-03-28T20:35:19.602Z"
   },
   {
    "duration": 7,
    "start_time": "2022-03-28T20:35:19.810Z"
   },
   {
    "duration": 110,
    "start_time": "2022-03-28T20:37:38.551Z"
   },
   {
    "duration": 1647,
    "start_time": "2022-03-28T20:40:51.311Z"
   },
   {
    "duration": 60,
    "start_time": "2022-03-28T20:40:52.961Z"
   },
   {
    "duration": 4,
    "start_time": "2022-03-28T20:40:53.023Z"
   },
   {
    "duration": 16,
    "start_time": "2022-03-28T20:40:53.030Z"
   },
   {
    "duration": 8,
    "start_time": "2022-03-28T20:40:53.048Z"
   },
   {
    "duration": 7,
    "start_time": "2022-03-28T20:40:53.059Z"
   },
   {
    "duration": 14,
    "start_time": "2022-03-28T20:40:53.068Z"
   },
   {
    "duration": 7,
    "start_time": "2022-03-28T20:40:53.085Z"
   },
   {
    "duration": 64,
    "start_time": "2022-03-28T20:40:53.095Z"
   },
   {
    "duration": 26,
    "start_time": "2022-03-28T20:40:53.165Z"
   },
   {
    "duration": 11,
    "start_time": "2022-03-28T20:40:53.193Z"
   },
   {
    "duration": 36,
    "start_time": "2022-03-28T20:40:53.207Z"
   },
   {
    "duration": 8,
    "start_time": "2022-03-28T20:40:53.245Z"
   },
   {
    "duration": 4,
    "start_time": "2022-03-28T20:40:53.255Z"
   },
   {
    "duration": 31,
    "start_time": "2022-03-28T20:40:53.261Z"
   },
   {
    "duration": 14,
    "start_time": "2022-03-28T20:40:53.294Z"
   },
   {
    "duration": 282,
    "start_time": "2022-03-28T20:40:53.343Z"
   },
   {
    "duration": 0,
    "start_time": "2022-03-28T20:40:53.628Z"
   },
   {
    "duration": 0,
    "start_time": "2022-03-28T20:40:53.629Z"
   },
   {
    "duration": 0,
    "start_time": "2022-03-28T20:40:53.631Z"
   },
   {
    "duration": 58756,
    "start_time": "2022-03-28T20:41:08.831Z"
   },
   {
    "duration": 1723,
    "start_time": "2022-03-28T20:42:33.704Z"
   },
   {
    "duration": 72,
    "start_time": "2022-03-28T20:42:35.430Z"
   },
   {
    "duration": 6,
    "start_time": "2022-03-28T20:42:35.505Z"
   },
   {
    "duration": 9,
    "start_time": "2022-03-28T20:42:35.514Z"
   },
   {
    "duration": 8,
    "start_time": "2022-03-28T20:42:35.545Z"
   },
   {
    "duration": 12,
    "start_time": "2022-03-28T20:42:35.556Z"
   },
   {
    "duration": 12,
    "start_time": "2022-03-28T20:42:35.570Z"
   },
   {
    "duration": 7,
    "start_time": "2022-03-28T20:42:35.585Z"
   },
   {
    "duration": 55,
    "start_time": "2022-03-28T20:42:35.595Z"
   },
   {
    "duration": 21,
    "start_time": "2022-03-28T20:42:35.652Z"
   },
   {
    "duration": 10,
    "start_time": "2022-03-28T20:42:35.677Z"
   },
   {
    "duration": 10,
    "start_time": "2022-03-28T20:42:35.690Z"
   },
   {
    "duration": 46,
    "start_time": "2022-03-28T20:42:35.702Z"
   },
   {
    "duration": 7,
    "start_time": "2022-03-28T20:42:35.752Z"
   },
   {
    "duration": 35,
    "start_time": "2022-03-28T20:42:35.761Z"
   },
   {
    "duration": 13,
    "start_time": "2022-03-28T20:42:35.798Z"
   },
   {
    "duration": 433,
    "start_time": "2022-03-28T20:42:35.813Z"
   },
   {
    "duration": 263,
    "start_time": "2022-03-28T20:42:36.250Z"
   },
   {
    "duration": 7,
    "start_time": "2022-03-28T20:42:36.515Z"
   },
   {
    "duration": 1688,
    "start_time": "2022-03-28T20:51:02.883Z"
   },
   {
    "duration": 60,
    "start_time": "2022-03-28T20:51:04.574Z"
   },
   {
    "duration": 9,
    "start_time": "2022-03-28T20:51:04.636Z"
   },
   {
    "duration": 8,
    "start_time": "2022-03-28T20:51:04.648Z"
   },
   {
    "duration": 7,
    "start_time": "2022-03-28T20:51:04.658Z"
   },
   {
    "duration": 6,
    "start_time": "2022-03-28T20:51:04.667Z"
   },
   {
    "duration": 11,
    "start_time": "2022-03-28T20:51:04.675Z"
   },
   {
    "duration": 6,
    "start_time": "2022-03-28T20:51:04.688Z"
   },
   {
    "duration": 61,
    "start_time": "2022-03-28T20:51:04.696Z"
   },
   {
    "duration": 17,
    "start_time": "2022-03-28T20:51:04.760Z"
   },
   {
    "duration": 11,
    "start_time": "2022-03-28T20:51:04.780Z"
   },
   {
    "duration": 8,
    "start_time": "2022-03-28T20:51:04.793Z"
   },
   {
    "duration": 39,
    "start_time": "2022-03-28T20:51:04.804Z"
   },
   {
    "duration": 4,
    "start_time": "2022-03-28T20:51:04.845Z"
   },
   {
    "duration": 31,
    "start_time": "2022-03-28T20:51:04.852Z"
   },
   {
    "duration": 12,
    "start_time": "2022-03-28T20:51:04.885Z"
   },
   {
    "duration": 343,
    "start_time": "2022-03-28T20:51:04.900Z"
   },
   {
    "duration": 267,
    "start_time": "2022-03-28T20:51:05.247Z"
   },
   {
    "duration": 7,
    "start_time": "2022-03-28T20:51:05.516Z"
   },
   {
    "duration": 41,
    "start_time": "2022-03-28T20:51:05.526Z"
   },
   {
    "duration": 1531,
    "start_time": "2022-03-29T09:21:19.481Z"
   },
   {
    "duration": 62,
    "start_time": "2022-03-29T09:21:21.014Z"
   },
   {
    "duration": 4,
    "start_time": "2022-03-29T09:21:21.078Z"
   },
   {
    "duration": 13,
    "start_time": "2022-03-29T09:21:21.085Z"
   },
   {
    "duration": 8,
    "start_time": "2022-03-29T09:21:21.100Z"
   },
   {
    "duration": 8,
    "start_time": "2022-03-29T09:21:21.110Z"
   },
   {
    "duration": 15,
    "start_time": "2022-03-29T09:21:21.120Z"
   },
   {
    "duration": 36,
    "start_time": "2022-03-29T09:21:21.138Z"
   },
   {
    "duration": 15,
    "start_time": "2022-03-29T09:21:21.176Z"
   },
   {
    "duration": 17,
    "start_time": "2022-03-29T09:21:21.195Z"
   },
   {
    "duration": 10,
    "start_time": "2022-03-29T09:21:21.214Z"
   },
   {
    "duration": 12,
    "start_time": "2022-03-29T09:21:21.226Z"
   },
   {
    "duration": 7,
    "start_time": "2022-03-29T09:21:21.274Z"
   },
   {
    "duration": 7,
    "start_time": "2022-03-29T09:21:21.283Z"
   },
   {
    "duration": 32,
    "start_time": "2022-03-29T09:21:21.292Z"
   },
   {
    "duration": 11,
    "start_time": "2022-03-29T09:21:21.326Z"
   },
   {
    "duration": 337,
    "start_time": "2022-03-29T09:21:21.339Z"
   },
   {
    "duration": 276,
    "start_time": "2022-03-29T09:21:21.679Z"
   },
   {
    "duration": 30,
    "start_time": "2022-03-29T09:21:21.958Z"
   },
   {
    "duration": 8,
    "start_time": "2022-03-29T09:21:21.990Z"
   },
   {
    "duration": 179,
    "start_time": "2022-03-29T09:21:21.999Z"
   },
   {
    "duration": 30,
    "start_time": "2022-03-29T09:21:54.114Z"
   },
   {
    "duration": 1662,
    "start_time": "2022-03-29T09:31:47.145Z"
   },
   {
    "duration": 57,
    "start_time": "2022-03-29T09:31:48.810Z"
   },
   {
    "duration": 5,
    "start_time": "2022-03-29T09:31:48.874Z"
   },
   {
    "duration": 8,
    "start_time": "2022-03-29T09:31:48.882Z"
   },
   {
    "duration": 7,
    "start_time": "2022-03-29T09:31:48.893Z"
   },
   {
    "duration": 8,
    "start_time": "2022-03-29T09:31:48.902Z"
   },
   {
    "duration": 10,
    "start_time": "2022-03-29T09:31:48.912Z"
   },
   {
    "duration": 6,
    "start_time": "2022-03-29T09:31:48.925Z"
   },
   {
    "duration": 16,
    "start_time": "2022-03-29T09:31:48.973Z"
   },
   {
    "duration": 16,
    "start_time": "2022-03-29T09:31:48.993Z"
   },
   {
    "duration": 7,
    "start_time": "2022-03-29T09:31:49.011Z"
   },
   {
    "duration": 8,
    "start_time": "2022-03-29T09:31:49.020Z"
   },
   {
    "duration": 43,
    "start_time": "2022-03-29T09:31:49.031Z"
   },
   {
    "duration": 6,
    "start_time": "2022-03-29T09:31:49.077Z"
   },
   {
    "duration": 30,
    "start_time": "2022-03-29T09:31:49.084Z"
   },
   {
    "duration": 12,
    "start_time": "2022-03-29T09:31:49.116Z"
   },
   {
    "duration": 347,
    "start_time": "2022-03-29T09:31:49.130Z"
   },
   {
    "duration": 273,
    "start_time": "2022-03-29T09:31:49.480Z"
   },
   {
    "duration": 8,
    "start_time": "2022-03-29T09:31:49.755Z"
   },
   {
    "duration": 102,
    "start_time": "2022-03-29T09:31:49.773Z"
   },
   {
    "duration": 242,
    "start_time": "2022-03-29T09:31:49.878Z"
   },
   {
    "duration": 1602,
    "start_time": "2022-03-29T09:33:04.557Z"
   },
   {
    "duration": 57,
    "start_time": "2022-03-29T09:33:06.161Z"
   },
   {
    "duration": 4,
    "start_time": "2022-03-29T09:33:06.221Z"
   },
   {
    "duration": 13,
    "start_time": "2022-03-29T09:33:06.228Z"
   },
   {
    "duration": 10,
    "start_time": "2022-03-29T09:33:06.243Z"
   },
   {
    "duration": 5,
    "start_time": "2022-03-29T09:33:06.273Z"
   },
   {
    "duration": 31,
    "start_time": "2022-03-29T09:33:06.280Z"
   },
   {
    "duration": 6,
    "start_time": "2022-03-29T09:33:06.313Z"
   },
   {
    "duration": 15,
    "start_time": "2022-03-29T09:33:06.321Z"
   },
   {
    "duration": 16,
    "start_time": "2022-03-29T09:33:06.340Z"
   },
   {
    "duration": 6,
    "start_time": "2022-03-29T09:33:06.374Z"
   },
   {
    "duration": 13,
    "start_time": "2022-03-29T09:33:06.382Z"
   },
   {
    "duration": 14,
    "start_time": "2022-03-29T09:33:06.397Z"
   },
   {
    "duration": 7,
    "start_time": "2022-03-29T09:33:06.413Z"
   },
   {
    "duration": 52,
    "start_time": "2022-03-29T09:33:06.422Z"
   },
   {
    "duration": 11,
    "start_time": "2022-03-29T09:33:06.477Z"
   },
   {
    "duration": 101,
    "start_time": "2022-03-29T09:33:06.490Z"
   },
   {
    "duration": 260,
    "start_time": "2022-03-29T09:33:06.675Z"
   },
   {
    "duration": 39,
    "start_time": "2022-03-29T09:33:06.938Z"
   },
   {
    "duration": 7,
    "start_time": "2022-03-29T09:33:06.979Z"
   },
   {
    "duration": 29,
    "start_time": "2022-03-29T09:33:06.988Z"
   },
   {
    "duration": 5,
    "start_time": "2022-03-29T09:33:07.019Z"
   },
   {
    "duration": 48,
    "start_time": "2022-03-29T09:33:07.026Z"
   },
   {
    "duration": 43,
    "start_time": "2022-03-29T09:39:17.201Z"
   },
   {
    "duration": 1508,
    "start_time": "2022-03-29T09:39:27.689Z"
   },
   {
    "duration": 59,
    "start_time": "2022-03-29T09:39:29.200Z"
   },
   {
    "duration": 5,
    "start_time": "2022-03-29T09:39:29.261Z"
   },
   {
    "duration": 6,
    "start_time": "2022-03-29T09:39:29.273Z"
   },
   {
    "duration": 8,
    "start_time": "2022-03-29T09:39:29.282Z"
   },
   {
    "duration": 7,
    "start_time": "2022-03-29T09:39:29.292Z"
   },
   {
    "duration": 11,
    "start_time": "2022-03-29T09:39:29.301Z"
   },
   {
    "duration": 6,
    "start_time": "2022-03-29T09:39:29.314Z"
   },
   {
    "duration": 56,
    "start_time": "2022-03-29T09:39:29.322Z"
   },
   {
    "duration": 22,
    "start_time": "2022-03-29T09:39:29.380Z"
   },
   {
    "duration": 8,
    "start_time": "2022-03-29T09:39:29.404Z"
   },
   {
    "duration": 8,
    "start_time": "2022-03-29T09:39:29.414Z"
   },
   {
    "duration": 7,
    "start_time": "2022-03-29T09:39:29.424Z"
   },
   {
    "duration": 39,
    "start_time": "2022-03-29T09:39:29.435Z"
   },
   {
    "duration": 34,
    "start_time": "2022-03-29T09:39:29.476Z"
   },
   {
    "duration": 12,
    "start_time": "2022-03-29T09:39:29.512Z"
   },
   {
    "duration": 153,
    "start_time": "2022-03-29T09:39:29.527Z"
   },
   {
    "duration": 365,
    "start_time": "2022-03-29T09:39:29.683Z"
   },
   {
    "duration": 34,
    "start_time": "2022-03-29T09:39:30.050Z"
   },
   {
    "duration": 7,
    "start_time": "2022-03-29T09:39:30.086Z"
   },
   {
    "duration": 47,
    "start_time": "2022-03-29T09:39:30.095Z"
   },
   {
    "duration": 17,
    "start_time": "2022-03-29T09:39:30.145Z"
   },
   {
    "duration": 46,
    "start_time": "2022-03-29T09:39:30.164Z"
   },
   {
    "duration": 65,
    "start_time": "2022-03-29T09:39:30.212Z"
   },
   {
    "duration": 1602,
    "start_time": "2022-03-29T09:41:23.477Z"
   },
   {
    "duration": 63,
    "start_time": "2022-03-29T09:41:25.082Z"
   },
   {
    "duration": 4,
    "start_time": "2022-03-29T09:41:25.148Z"
   },
   {
    "duration": 31,
    "start_time": "2022-03-29T09:41:25.155Z"
   },
   {
    "duration": 26,
    "start_time": "2022-03-29T09:41:25.189Z"
   },
   {
    "duration": 29,
    "start_time": "2022-03-29T09:41:25.217Z"
   },
   {
    "duration": 31,
    "start_time": "2022-03-29T09:41:25.249Z"
   },
   {
    "duration": 20,
    "start_time": "2022-03-29T09:41:25.282Z"
   },
   {
    "duration": 43,
    "start_time": "2022-03-29T09:41:25.305Z"
   },
   {
    "duration": 18,
    "start_time": "2022-03-29T09:41:25.353Z"
   },
   {
    "duration": 27,
    "start_time": "2022-03-29T09:41:25.373Z"
   },
   {
    "duration": 29,
    "start_time": "2022-03-29T09:41:25.403Z"
   },
   {
    "duration": 30,
    "start_time": "2022-03-29T09:41:25.435Z"
   },
   {
    "duration": 21,
    "start_time": "2022-03-29T09:41:25.467Z"
   },
   {
    "duration": 45,
    "start_time": "2022-03-29T09:41:25.491Z"
   },
   {
    "duration": 30,
    "start_time": "2022-03-29T09:41:25.538Z"
   },
   {
    "duration": 305,
    "start_time": "2022-03-29T09:41:25.571Z"
   },
   {
    "duration": 331,
    "start_time": "2022-03-29T09:41:25.879Z"
   },
   {
    "duration": 81,
    "start_time": "2022-03-29T09:41:26.213Z"
   },
   {
    "duration": 7,
    "start_time": "2022-03-29T09:41:26.296Z"
   },
   {
    "duration": 27,
    "start_time": "2022-03-29T09:41:26.305Z"
   },
   {
    "duration": 6,
    "start_time": "2022-03-29T09:41:26.374Z"
   },
   {
    "duration": 16,
    "start_time": "2022-03-29T09:41:26.383Z"
   },
   {
    "duration": 32,
    "start_time": "2022-03-29T09:41:26.401Z"
   },
   {
    "duration": 1515,
    "start_time": "2022-03-29T09:42:10.493Z"
   },
   {
    "duration": 56,
    "start_time": "2022-03-29T09:42:12.010Z"
   },
   {
    "duration": 6,
    "start_time": "2022-03-29T09:42:12.068Z"
   },
   {
    "duration": 8,
    "start_time": "2022-03-29T09:42:12.077Z"
   },
   {
    "duration": 7,
    "start_time": "2022-03-29T09:42:12.087Z"
   },
   {
    "duration": 8,
    "start_time": "2022-03-29T09:42:12.096Z"
   },
   {
    "duration": 11,
    "start_time": "2022-03-29T09:42:12.106Z"
   },
   {
    "duration": 6,
    "start_time": "2022-03-29T09:42:12.119Z"
   },
   {
    "duration": 58,
    "start_time": "2022-03-29T09:42:12.127Z"
   },
   {
    "duration": 15,
    "start_time": "2022-03-29T09:42:12.189Z"
   },
   {
    "duration": 8,
    "start_time": "2022-03-29T09:42:12.206Z"
   },
   {
    "duration": 10,
    "start_time": "2022-03-29T09:42:12.216Z"
   },
   {
    "duration": 8,
    "start_time": "2022-03-29T09:42:12.228Z"
   },
   {
    "duration": 36,
    "start_time": "2022-03-29T09:42:12.239Z"
   },
   {
    "duration": 30,
    "start_time": "2022-03-29T09:42:12.278Z"
   },
   {
    "duration": 12,
    "start_time": "2022-03-29T09:42:12.310Z"
   },
   {
    "duration": 254,
    "start_time": "2022-03-29T09:42:12.324Z"
   },
   {
    "duration": 272,
    "start_time": "2022-03-29T09:42:12.677Z"
   },
   {
    "duration": 33,
    "start_time": "2022-03-29T09:42:12.952Z"
   },
   {
    "duration": 7,
    "start_time": "2022-03-29T09:42:12.987Z"
   },
   {
    "duration": 30,
    "start_time": "2022-03-29T09:42:12.996Z"
   },
   {
    "duration": 6,
    "start_time": "2022-03-29T09:42:13.029Z"
   },
   {
    "duration": 47,
    "start_time": "2022-03-29T09:42:13.038Z"
   },
   {
    "duration": 34,
    "start_time": "2022-03-29T09:42:13.088Z"
   },
   {
    "duration": 1598,
    "start_time": "2022-03-29T09:44:21.471Z"
   },
   {
    "duration": 58,
    "start_time": "2022-03-29T09:44:23.072Z"
   },
   {
    "duration": 4,
    "start_time": "2022-03-29T09:44:23.133Z"
   },
   {
    "duration": 8,
    "start_time": "2022-03-29T09:44:23.141Z"
   },
   {
    "duration": 8,
    "start_time": "2022-03-29T09:44:23.175Z"
   },
   {
    "duration": 7,
    "start_time": "2022-03-29T09:44:23.185Z"
   },
   {
    "duration": 9,
    "start_time": "2022-03-29T09:44:23.195Z"
   },
   {
    "duration": 6,
    "start_time": "2022-03-29T09:44:23.207Z"
   },
   {
    "duration": 61,
    "start_time": "2022-03-29T09:44:23.215Z"
   },
   {
    "duration": 17,
    "start_time": "2022-03-29T09:44:23.280Z"
   },
   {
    "duration": 12,
    "start_time": "2022-03-29T09:44:23.298Z"
   },
   {
    "duration": 8,
    "start_time": "2022-03-29T09:44:23.312Z"
   },
   {
    "duration": 10,
    "start_time": "2022-03-29T09:44:23.322Z"
   },
   {
    "duration": 40,
    "start_time": "2022-03-29T09:44:23.334Z"
   },
   {
    "duration": 32,
    "start_time": "2022-03-29T09:44:23.376Z"
   },
   {
    "duration": 13,
    "start_time": "2022-03-29T09:44:23.410Z"
   },
   {
    "duration": 361,
    "start_time": "2022-03-29T09:44:23.425Z"
   },
   {
    "duration": 355,
    "start_time": "2022-03-29T09:44:23.788Z"
   },
   {
    "duration": 40,
    "start_time": "2022-03-29T09:44:24.146Z"
   },
   {
    "duration": 7,
    "start_time": "2022-03-29T09:44:24.189Z"
   },
   {
    "duration": 27,
    "start_time": "2022-03-29T09:44:24.199Z"
   },
   {
    "duration": 6,
    "start_time": "2022-03-29T09:44:24.228Z"
   },
   {
    "duration": 49,
    "start_time": "2022-03-29T09:44:24.237Z"
   },
   {
    "duration": 33,
    "start_time": "2022-03-29T09:44:24.288Z"
   },
   {
    "duration": 7,
    "start_time": "2022-03-29T09:44:24.324Z"
   },
   {
    "duration": 43,
    "start_time": "2022-03-29T09:44:24.334Z"
   },
   {
    "duration": 34,
    "start_time": "2022-03-29T09:44:24.380Z"
   },
   {
    "duration": 2133,
    "start_time": "2022-03-29T09:46:10.701Z"
   },
   {
    "duration": 94,
    "start_time": "2022-03-29T09:46:12.838Z"
   },
   {
    "duration": 4,
    "start_time": "2022-03-29T09:46:12.935Z"
   },
   {
    "duration": 13,
    "start_time": "2022-03-29T09:46:12.941Z"
   },
   {
    "duration": 19,
    "start_time": "2022-03-29T09:46:12.958Z"
   },
   {
    "duration": 7,
    "start_time": "2022-03-29T09:46:12.980Z"
   },
   {
    "duration": 9,
    "start_time": "2022-03-29T09:46:12.990Z"
   },
   {
    "duration": 6,
    "start_time": "2022-03-29T09:46:13.002Z"
   },
   {
    "duration": 64,
    "start_time": "2022-03-29T09:46:13.010Z"
   },
   {
    "duration": 17,
    "start_time": "2022-03-29T09:46:13.077Z"
   },
   {
    "duration": 8,
    "start_time": "2022-03-29T09:46:13.096Z"
   },
   {
    "duration": 9,
    "start_time": "2022-03-29T09:46:13.107Z"
   },
   {
    "duration": 8,
    "start_time": "2022-03-29T09:46:13.119Z"
   },
   {
    "duration": 42,
    "start_time": "2022-03-29T09:46:13.132Z"
   },
   {
    "duration": 31,
    "start_time": "2022-03-29T09:46:13.176Z"
   },
   {
    "duration": 14,
    "start_time": "2022-03-29T09:46:13.210Z"
   },
   {
    "duration": 457,
    "start_time": "2022-03-29T09:46:13.226Z"
   },
   {
    "duration": 273,
    "start_time": "2022-03-29T09:46:13.685Z"
   },
   {
    "duration": 35,
    "start_time": "2022-03-29T09:46:13.961Z"
   },
   {
    "duration": 7,
    "start_time": "2022-03-29T09:46:13.998Z"
   },
   {
    "duration": 27,
    "start_time": "2022-03-29T09:46:14.007Z"
   },
   {
    "duration": 37,
    "start_time": "2022-03-29T09:46:14.036Z"
   },
   {
    "duration": 18,
    "start_time": "2022-03-29T09:46:14.076Z"
   },
   {
    "duration": 47,
    "start_time": "2022-03-29T09:46:14.096Z"
   },
   {
    "duration": 133,
    "start_time": "2022-03-29T09:46:14.147Z"
   },
   {
    "duration": 1485,
    "start_time": "2022-03-29T09:51:53.306Z"
   },
   {
    "duration": 61,
    "start_time": "2022-03-29T09:51:54.794Z"
   },
   {
    "duration": 4,
    "start_time": "2022-03-29T09:51:54.857Z"
   },
   {
    "duration": 6,
    "start_time": "2022-03-29T09:51:54.872Z"
   },
   {
    "duration": 6,
    "start_time": "2022-03-29T09:51:54.881Z"
   },
   {
    "duration": 6,
    "start_time": "2022-03-29T09:51:54.889Z"
   },
   {
    "duration": 10,
    "start_time": "2022-03-29T09:51:54.897Z"
   },
   {
    "duration": 5,
    "start_time": "2022-03-29T09:51:54.910Z"
   },
   {
    "duration": 63,
    "start_time": "2022-03-29T09:51:54.917Z"
   },
   {
    "duration": 17,
    "start_time": "2022-03-29T09:51:54.982Z"
   },
   {
    "duration": 9,
    "start_time": "2022-03-29T09:51:55.001Z"
   },
   {
    "duration": 9,
    "start_time": "2022-03-29T09:51:55.012Z"
   },
   {
    "duration": 7,
    "start_time": "2022-03-29T09:51:55.023Z"
   },
   {
    "duration": 4,
    "start_time": "2022-03-29T09:51:55.034Z"
   },
   {
    "duration": 29,
    "start_time": "2022-03-29T09:51:55.074Z"
   },
   {
    "duration": 11,
    "start_time": "2022-03-29T09:51:55.105Z"
   },
   {
    "duration": 359,
    "start_time": "2022-03-29T09:51:55.119Z"
   },
   {
    "duration": 348,
    "start_time": "2022-03-29T09:51:55.481Z"
   },
   {
    "duration": 27,
    "start_time": "2022-03-29T09:51:55.831Z"
   },
   {
    "duration": 7,
    "start_time": "2022-03-29T09:51:55.874Z"
   },
   {
    "duration": 27,
    "start_time": "2022-03-29T09:51:55.884Z"
   },
   {
    "duration": 5,
    "start_time": "2022-03-29T09:51:55.913Z"
   },
   {
    "duration": 17,
    "start_time": "2022-03-29T09:51:55.921Z"
   },
   {
    "duration": 62,
    "start_time": "2022-03-29T09:51:55.940Z"
   },
   {
    "duration": 278,
    "start_time": "2022-03-29T09:51:56.005Z"
   },
   {
    "duration": 259,
    "start_time": "2022-03-29T09:53:27.557Z"
   },
   {
    "duration": 267,
    "start_time": "2022-03-29T09:54:43.053Z"
   },
   {
    "duration": 1489,
    "start_time": "2022-03-29T09:55:12.617Z"
   },
   {
    "duration": 57,
    "start_time": "2022-03-29T09:55:14.109Z"
   },
   {
    "duration": 8,
    "start_time": "2022-03-29T09:55:14.168Z"
   },
   {
    "duration": 8,
    "start_time": "2022-03-29T09:55:14.179Z"
   },
   {
    "duration": 7,
    "start_time": "2022-03-29T09:55:14.189Z"
   },
   {
    "duration": 8,
    "start_time": "2022-03-29T09:55:14.198Z"
   },
   {
    "duration": 11,
    "start_time": "2022-03-29T09:55:14.208Z"
   },
   {
    "duration": 6,
    "start_time": "2022-03-29T09:55:14.221Z"
   },
   {
    "duration": 55,
    "start_time": "2022-03-29T09:55:14.229Z"
   },
   {
    "duration": 15,
    "start_time": "2022-03-29T09:55:14.288Z"
   },
   {
    "duration": 8,
    "start_time": "2022-03-29T09:55:14.305Z"
   },
   {
    "duration": 7,
    "start_time": "2022-03-29T09:55:14.315Z"
   },
   {
    "duration": 8,
    "start_time": "2022-03-29T09:55:14.324Z"
   },
   {
    "duration": 4,
    "start_time": "2022-03-29T09:55:14.373Z"
   },
   {
    "duration": 31,
    "start_time": "2022-03-29T09:55:14.379Z"
   },
   {
    "duration": 12,
    "start_time": "2022-03-29T09:55:14.412Z"
   },
   {
    "duration": 253,
    "start_time": "2022-03-29T09:55:14.426Z"
   },
   {
    "duration": 361,
    "start_time": "2022-03-29T09:55:14.683Z"
   },
   {
    "duration": 35,
    "start_time": "2022-03-29T09:55:15.046Z"
   },
   {
    "duration": 7,
    "start_time": "2022-03-29T09:55:15.083Z"
   },
   {
    "duration": 30,
    "start_time": "2022-03-29T09:55:15.092Z"
   },
   {
    "duration": 6,
    "start_time": "2022-03-29T09:55:15.124Z"
   },
   {
    "duration": 47,
    "start_time": "2022-03-29T09:55:15.132Z"
   },
   {
    "duration": 32,
    "start_time": "2022-03-29T09:55:15.181Z"
   },
   {
    "duration": 288,
    "start_time": "2022-03-29T09:55:15.215Z"
   },
   {
    "duration": 273,
    "start_time": "2022-03-29T09:55:15.506Z"
   },
   {
    "duration": 273,
    "start_time": "2022-03-29T09:55:15.782Z"
   },
   {
    "duration": 1654,
    "start_time": "2022-03-29T11:04:42.002Z"
   },
   {
    "duration": 67,
    "start_time": "2022-03-29T11:04:43.658Z"
   },
   {
    "duration": 5,
    "start_time": "2022-03-29T11:04:43.727Z"
   },
   {
    "duration": 10,
    "start_time": "2022-03-29T11:04:43.735Z"
   },
   {
    "duration": 12,
    "start_time": "2022-03-29T11:04:43.747Z"
   },
   {
    "duration": 26,
    "start_time": "2022-03-29T11:04:43.761Z"
   },
   {
    "duration": 13,
    "start_time": "2022-03-29T11:04:43.790Z"
   },
   {
    "duration": 57,
    "start_time": "2022-03-29T11:04:43.805Z"
   },
   {
    "duration": 31,
    "start_time": "2022-03-29T11:04:43.864Z"
   },
   {
    "duration": 18,
    "start_time": "2022-03-29T11:04:43.899Z"
   },
   {
    "duration": 13,
    "start_time": "2022-03-29T11:04:43.919Z"
   },
   {
    "duration": 18,
    "start_time": "2022-03-29T11:04:43.935Z"
   },
   {
    "duration": 9,
    "start_time": "2022-03-29T11:04:43.956Z"
   },
   {
    "duration": 3,
    "start_time": "2022-03-29T11:04:43.985Z"
   },
   {
    "duration": 36,
    "start_time": "2022-03-29T11:04:43.991Z"
   },
   {
    "duration": 13,
    "start_time": "2022-03-29T11:04:44.029Z"
   },
   {
    "duration": 344,
    "start_time": "2022-03-29T11:04:44.045Z"
   },
   {
    "duration": 275,
    "start_time": "2022-03-29T11:04:44.485Z"
   },
   {
    "duration": 40,
    "start_time": "2022-03-29T11:04:44.762Z"
   },
   {
    "duration": 7,
    "start_time": "2022-03-29T11:04:44.804Z"
   },
   {
    "duration": 32,
    "start_time": "2022-03-29T11:04:44.813Z"
   },
   {
    "duration": 5,
    "start_time": "2022-03-29T11:04:44.848Z"
   },
   {
    "duration": 39,
    "start_time": "2022-03-29T11:04:44.855Z"
   },
   {
    "duration": 32,
    "start_time": "2022-03-29T11:04:44.897Z"
   },
   {
    "duration": 270,
    "start_time": "2022-03-29T11:04:56.005Z"
   },
   {
    "duration": 1566,
    "start_time": "2022-03-29T11:09:25.992Z"
   },
   {
    "duration": 58,
    "start_time": "2022-03-29T11:09:27.560Z"
   },
   {
    "duration": 5,
    "start_time": "2022-03-29T11:09:27.620Z"
   },
   {
    "duration": 9,
    "start_time": "2022-03-29T11:09:27.628Z"
   },
   {
    "duration": 11,
    "start_time": "2022-03-29T11:09:27.640Z"
   },
   {
    "duration": 13,
    "start_time": "2022-03-29T11:09:27.653Z"
   },
   {
    "duration": 10,
    "start_time": "2022-03-29T11:09:27.685Z"
   },
   {
    "duration": 6,
    "start_time": "2022-03-29T11:09:27.697Z"
   },
   {
    "duration": 20,
    "start_time": "2022-03-29T11:09:27.706Z"
   },
   {
    "duration": 17,
    "start_time": "2022-03-29T11:09:27.729Z"
   },
   {
    "duration": 17,
    "start_time": "2022-03-29T11:09:27.784Z"
   },
   {
    "duration": 29,
    "start_time": "2022-03-29T11:09:27.803Z"
   },
   {
    "duration": 13,
    "start_time": "2022-03-29T11:09:27.834Z"
   },
   {
    "duration": 24,
    "start_time": "2022-03-29T11:09:27.849Z"
   },
   {
    "duration": 45,
    "start_time": "2022-03-29T11:09:27.875Z"
   },
   {
    "duration": 13,
    "start_time": "2022-03-29T11:09:27.923Z"
   },
   {
    "duration": 249,
    "start_time": "2022-03-29T11:09:27.939Z"
   },
   {
    "duration": 304,
    "start_time": "2022-03-29T11:09:28.191Z"
   },
   {
    "duration": 27,
    "start_time": "2022-03-29T11:09:28.498Z"
   },
   {
    "duration": 7,
    "start_time": "2022-03-29T11:09:28.528Z"
   },
   {
    "duration": 59,
    "start_time": "2022-03-29T11:09:28.538Z"
   },
   {
    "duration": 6,
    "start_time": "2022-03-29T11:09:28.599Z"
   },
   {
    "duration": 22,
    "start_time": "2022-03-29T11:09:28.608Z"
   },
   {
    "duration": 55,
    "start_time": "2022-03-29T11:09:28.633Z"
   },
   {
    "duration": 327,
    "start_time": "2022-03-29T11:09:28.690Z"
   },
   {
    "duration": 5,
    "start_time": "2022-03-29T11:09:50.798Z"
   },
   {
    "duration": 263,
    "start_time": "2022-03-29T11:09:56.039Z"
   },
   {
    "duration": 364,
    "start_time": "2022-03-29T11:10:19.053Z"
   },
   {
    "duration": 165,
    "start_time": "2022-03-29T11:11:24.785Z"
   },
   {
    "duration": 1771,
    "start_time": "2022-03-29T11:30:59.466Z"
   },
   {
    "duration": 64,
    "start_time": "2022-03-29T11:31:01.240Z"
   },
   {
    "duration": 5,
    "start_time": "2022-03-29T11:31:01.306Z"
   },
   {
    "duration": 17,
    "start_time": "2022-03-29T11:31:01.314Z"
   },
   {
    "duration": 16,
    "start_time": "2022-03-29T11:31:01.333Z"
   },
   {
    "duration": 28,
    "start_time": "2022-03-29T11:31:01.351Z"
   },
   {
    "duration": 25,
    "start_time": "2022-03-29T11:31:01.381Z"
   },
   {
    "duration": 25,
    "start_time": "2022-03-29T11:31:01.408Z"
   },
   {
    "duration": 37,
    "start_time": "2022-03-29T11:31:01.436Z"
   },
   {
    "duration": 27,
    "start_time": "2022-03-29T11:31:01.477Z"
   },
   {
    "duration": 18,
    "start_time": "2022-03-29T11:31:01.506Z"
   },
   {
    "duration": 20,
    "start_time": "2022-03-29T11:31:01.527Z"
   },
   {
    "duration": 39,
    "start_time": "2022-03-29T11:31:01.550Z"
   },
   {
    "duration": 24,
    "start_time": "2022-03-29T11:31:01.591Z"
   },
   {
    "duration": 51,
    "start_time": "2022-03-29T11:31:01.617Z"
   },
   {
    "duration": 23,
    "start_time": "2022-03-29T11:31:01.670Z"
   },
   {
    "duration": 293,
    "start_time": "2022-03-29T11:31:01.696Z"
   },
   {
    "duration": 361,
    "start_time": "2022-03-29T11:31:01.992Z"
   },
   {
    "duration": 40,
    "start_time": "2022-03-29T11:31:02.356Z"
   },
   {
    "duration": 9,
    "start_time": "2022-03-29T11:31:02.399Z"
   },
   {
    "duration": 37,
    "start_time": "2022-03-29T11:31:02.410Z"
   },
   {
    "duration": 6,
    "start_time": "2022-03-29T11:31:02.449Z"
   },
   {
    "duration": 37,
    "start_time": "2022-03-29T11:31:02.457Z"
   },
   {
    "duration": 59,
    "start_time": "2022-03-29T11:31:02.496Z"
   },
   {
    "duration": 181,
    "start_time": "2022-03-29T11:31:02.557Z"
   },
   {
    "duration": 1555,
    "start_time": "2022-03-29T11:31:22.774Z"
   },
   {
    "duration": 59,
    "start_time": "2022-03-29T11:31:24.331Z"
   },
   {
    "duration": 5,
    "start_time": "2022-03-29T11:31:24.396Z"
   },
   {
    "duration": 16,
    "start_time": "2022-03-29T11:31:24.403Z"
   },
   {
    "duration": 8,
    "start_time": "2022-03-29T11:31:24.422Z"
   },
   {
    "duration": 11,
    "start_time": "2022-03-29T11:31:24.432Z"
   },
   {
    "duration": 41,
    "start_time": "2022-03-29T11:31:24.445Z"
   },
   {
    "duration": 8,
    "start_time": "2022-03-29T11:31:24.489Z"
   },
   {
    "duration": 27,
    "start_time": "2022-03-29T11:31:24.502Z"
   },
   {
    "duration": 19,
    "start_time": "2022-03-29T11:31:24.531Z"
   },
   {
    "duration": 36,
    "start_time": "2022-03-29T11:31:24.552Z"
   },
   {
    "duration": 8,
    "start_time": "2022-03-29T11:31:24.590Z"
   },
   {
    "duration": 10,
    "start_time": "2022-03-29T11:31:24.601Z"
   },
   {
    "duration": 6,
    "start_time": "2022-03-29T11:31:24.614Z"
   },
   {
    "duration": 35,
    "start_time": "2022-03-29T11:31:24.622Z"
   },
   {
    "duration": 34,
    "start_time": "2022-03-29T11:31:24.659Z"
   },
   {
    "duration": 294,
    "start_time": "2022-03-29T11:31:24.695Z"
   },
   {
    "duration": 349,
    "start_time": "2022-03-29T11:31:24.992Z"
   },
   {
    "duration": 40,
    "start_time": "2022-03-29T11:31:25.344Z"
   },
   {
    "duration": 8,
    "start_time": "2022-03-29T11:31:25.387Z"
   },
   {
    "duration": 34,
    "start_time": "2022-03-29T11:31:25.397Z"
   },
   {
    "duration": 6,
    "start_time": "2022-03-29T11:31:25.434Z"
   },
   {
    "duration": 49,
    "start_time": "2022-03-29T11:31:25.443Z"
   },
   {
    "duration": 34,
    "start_time": "2022-03-29T11:31:25.495Z"
   },
   {
    "duration": 177,
    "start_time": "2022-03-29T11:31:25.531Z"
   },
   {
    "duration": 1596,
    "start_time": "2022-03-29T11:40:18.864Z"
   },
   {
    "duration": 64,
    "start_time": "2022-03-29T11:40:20.463Z"
   },
   {
    "duration": 4,
    "start_time": "2022-03-29T11:40:20.529Z"
   },
   {
    "duration": 9,
    "start_time": "2022-03-29T11:40:20.536Z"
   },
   {
    "duration": 16,
    "start_time": "2022-03-29T11:40:20.548Z"
   },
   {
    "duration": 18,
    "start_time": "2022-03-29T11:40:20.567Z"
   },
   {
    "duration": 12,
    "start_time": "2022-03-29T11:40:20.587Z"
   },
   {
    "duration": 7,
    "start_time": "2022-03-29T11:40:20.601Z"
   },
   {
    "duration": 23,
    "start_time": "2022-03-29T11:40:20.610Z"
   },
   {
    "duration": 18,
    "start_time": "2022-03-29T11:40:20.637Z"
   },
   {
    "duration": 32,
    "start_time": "2022-03-29T11:40:20.657Z"
   },
   {
    "duration": 18,
    "start_time": "2022-03-29T11:40:20.691Z"
   },
   {
    "duration": 13,
    "start_time": "2022-03-29T11:40:20.712Z"
   },
   {
    "duration": 7,
    "start_time": "2022-03-29T11:40:20.727Z"
   },
   {
    "duration": 51,
    "start_time": "2022-03-29T11:40:20.736Z"
   },
   {
    "duration": 14,
    "start_time": "2022-03-29T11:40:20.790Z"
   },
   {
    "duration": 383,
    "start_time": "2022-03-29T11:40:20.807Z"
   },
   {
    "duration": 367,
    "start_time": "2022-03-29T11:40:21.193Z"
   },
   {
    "duration": 32,
    "start_time": "2022-03-29T11:40:21.562Z"
   },
   {
    "duration": 7,
    "start_time": "2022-03-29T11:40:21.597Z"
   },
   {
    "duration": 32,
    "start_time": "2022-03-29T11:40:21.606Z"
   },
   {
    "duration": 6,
    "start_time": "2022-03-29T11:40:21.641Z"
   },
   {
    "duration": 47,
    "start_time": "2022-03-29T11:40:21.649Z"
   },
   {
    "duration": 32,
    "start_time": "2022-03-29T11:40:21.699Z"
   },
   {
    "duration": 162,
    "start_time": "2022-03-29T11:40:21.734Z"
   },
   {
    "duration": 1541,
    "start_time": "2022-03-29T11:41:39.816Z"
   },
   {
    "duration": 65,
    "start_time": "2022-03-29T11:41:41.360Z"
   },
   {
    "duration": 5,
    "start_time": "2022-03-29T11:41:41.427Z"
   },
   {
    "duration": 17,
    "start_time": "2022-03-29T11:41:41.435Z"
   },
   {
    "duration": 14,
    "start_time": "2022-03-29T11:41:41.455Z"
   },
   {
    "duration": 15,
    "start_time": "2022-03-29T11:41:41.471Z"
   },
   {
    "duration": 25,
    "start_time": "2022-03-29T11:41:41.488Z"
   },
   {
    "duration": 11,
    "start_time": "2022-03-29T11:41:41.515Z"
   },
   {
    "duration": 28,
    "start_time": "2022-03-29T11:41:41.527Z"
   },
   {
    "duration": 25,
    "start_time": "2022-03-29T11:41:41.559Z"
   },
   {
    "duration": 15,
    "start_time": "2022-03-29T11:41:41.586Z"
   },
   {
    "duration": 9,
    "start_time": "2022-03-29T11:41:41.604Z"
   },
   {
    "duration": 9,
    "start_time": "2022-03-29T11:41:41.616Z"
   },
   {
    "duration": 8,
    "start_time": "2022-03-29T11:41:41.628Z"
   },
   {
    "duration": 55,
    "start_time": "2022-03-29T11:41:41.638Z"
   },
   {
    "duration": 13,
    "start_time": "2022-03-29T11:41:41.696Z"
   },
   {
    "duration": 277,
    "start_time": "2022-03-29T11:41:41.711Z"
   },
   {
    "duration": 371,
    "start_time": "2022-03-29T11:41:41.992Z"
   },
   {
    "duration": 36,
    "start_time": "2022-03-29T11:41:42.366Z"
   },
   {
    "duration": 8,
    "start_time": "2022-03-29T11:41:42.404Z"
   },
   {
    "duration": 30,
    "start_time": "2022-03-29T11:41:42.413Z"
   },
   {
    "duration": 6,
    "start_time": "2022-03-29T11:41:42.445Z"
   },
   {
    "duration": 14,
    "start_time": "2022-03-29T11:41:42.484Z"
   },
   {
    "duration": 33,
    "start_time": "2022-03-29T11:41:42.500Z"
   },
   {
    "duration": 151,
    "start_time": "2022-03-29T11:41:42.535Z"
   },
   {
    "duration": 1550,
    "start_time": "2022-03-29T11:42:18.502Z"
   },
   {
    "duration": 61,
    "start_time": "2022-03-29T11:42:20.055Z"
   },
   {
    "duration": 5,
    "start_time": "2022-03-29T11:42:20.123Z"
   },
   {
    "duration": 12,
    "start_time": "2022-03-29T11:42:20.130Z"
   },
   {
    "duration": 8,
    "start_time": "2022-03-29T11:42:20.145Z"
   },
   {
    "duration": 32,
    "start_time": "2022-03-29T11:42:20.156Z"
   },
   {
    "duration": 27,
    "start_time": "2022-03-29T11:42:20.190Z"
   },
   {
    "duration": 10,
    "start_time": "2022-03-29T11:42:20.220Z"
   },
   {
    "duration": 19,
    "start_time": "2022-03-29T11:42:20.234Z"
   },
   {
    "duration": 39,
    "start_time": "2022-03-29T11:42:20.255Z"
   },
   {
    "duration": 14,
    "start_time": "2022-03-29T11:42:20.296Z"
   },
   {
    "duration": 8,
    "start_time": "2022-03-29T11:42:20.312Z"
   },
   {
    "duration": 21,
    "start_time": "2022-03-29T11:42:20.322Z"
   },
   {
    "duration": 12,
    "start_time": "2022-03-29T11:42:20.345Z"
   },
   {
    "duration": 40,
    "start_time": "2022-03-29T11:42:20.359Z"
   },
   {
    "duration": 14,
    "start_time": "2022-03-29T11:42:20.401Z"
   },
   {
    "duration": 374,
    "start_time": "2022-03-29T11:42:20.417Z"
   },
   {
    "duration": 345,
    "start_time": "2022-03-29T11:42:20.793Z"
   },
   {
    "duration": 28,
    "start_time": "2022-03-29T11:42:21.140Z"
   },
   {
    "duration": 7,
    "start_time": "2022-03-29T11:42:21.184Z"
   },
   {
    "duration": 37,
    "start_time": "2022-03-29T11:42:21.193Z"
   },
   {
    "duration": 8,
    "start_time": "2022-03-29T11:42:21.232Z"
   },
   {
    "duration": 32,
    "start_time": "2022-03-29T11:42:21.242Z"
   },
   {
    "duration": 39,
    "start_time": "2022-03-29T11:42:21.277Z"
   },
   {
    "duration": 161,
    "start_time": "2022-03-29T11:42:21.319Z"
   },
   {
    "duration": 1109,
    "start_time": "2022-03-30T12:43:36.772Z"
   },
   {
    "duration": 42,
    "start_time": "2022-03-30T12:43:37.883Z"
   },
   {
    "duration": 6,
    "start_time": "2022-03-30T12:43:37.927Z"
   },
   {
    "duration": 5,
    "start_time": "2022-03-30T12:43:37.936Z"
   },
   {
    "duration": 9,
    "start_time": "2022-03-30T12:43:37.943Z"
   },
   {
    "duration": 6,
    "start_time": "2022-03-30T12:43:37.953Z"
   },
   {
    "duration": 10,
    "start_time": "2022-03-30T12:43:37.961Z"
   },
   {
    "duration": 10,
    "start_time": "2022-03-30T12:43:37.972Z"
   },
   {
    "duration": 15,
    "start_time": "2022-03-30T12:43:37.983Z"
   },
   {
    "duration": 17,
    "start_time": "2022-03-30T12:43:38.000Z"
   },
   {
    "duration": 18,
    "start_time": "2022-03-30T12:43:38.018Z"
   },
   {
    "duration": 7,
    "start_time": "2022-03-30T12:43:38.038Z"
   },
   {
    "duration": 6,
    "start_time": "2022-03-30T12:43:38.047Z"
   },
   {
    "duration": 6,
    "start_time": "2022-03-30T12:43:38.055Z"
   },
   {
    "duration": 25,
    "start_time": "2022-03-30T12:43:38.062Z"
   },
   {
    "duration": 6,
    "start_time": "2022-03-30T12:43:38.089Z"
   },
   {
    "duration": 145,
    "start_time": "2022-03-30T12:43:38.097Z"
   },
   {
    "duration": 219,
    "start_time": "2022-03-30T12:43:38.334Z"
   },
   {
    "duration": 18,
    "start_time": "2022-03-30T12:43:38.555Z"
   },
   {
    "duration": 5,
    "start_time": "2022-03-30T12:43:38.574Z"
   },
   {
    "duration": 126,
    "start_time": "2022-03-30T12:43:38.580Z"
   },
   {
    "duration": 0,
    "start_time": "2022-03-30T12:43:38.707Z"
   },
   {
    "duration": 0,
    "start_time": "2022-03-30T12:43:38.708Z"
   },
   {
    "duration": 0,
    "start_time": "2022-03-30T12:43:38.709Z"
   },
   {
    "duration": 0,
    "start_time": "2022-03-30T12:43:38.710Z"
   },
   {
    "duration": 22,
    "start_time": "2022-03-30T12:44:11.040Z"
   },
   {
    "duration": 3,
    "start_time": "2022-03-30T12:44:12.264Z"
   },
   {
    "duration": 9,
    "start_time": "2022-03-30T12:44:13.376Z"
   },
   {
    "duration": 24,
    "start_time": "2022-03-30T12:44:13.853Z"
   },
   {
    "duration": 81,
    "start_time": "2022-03-30T12:44:15.442Z"
   },
   {
    "duration": 1094,
    "start_time": "2022-03-30T12:47:49.973Z"
   },
   {
    "duration": 42,
    "start_time": "2022-03-30T12:47:51.069Z"
   },
   {
    "duration": 3,
    "start_time": "2022-03-30T12:47:51.113Z"
   },
   {
    "duration": 14,
    "start_time": "2022-03-30T12:47:51.118Z"
   },
   {
    "duration": 5,
    "start_time": "2022-03-30T12:47:51.134Z"
   },
   {
    "duration": 15,
    "start_time": "2022-03-30T12:47:51.140Z"
   },
   {
    "duration": 9,
    "start_time": "2022-03-30T12:47:51.157Z"
   },
   {
    "duration": 6,
    "start_time": "2022-03-30T12:47:51.168Z"
   },
   {
    "duration": 14,
    "start_time": "2022-03-30T12:47:51.175Z"
   },
   {
    "duration": 11,
    "start_time": "2022-03-30T12:47:51.192Z"
   },
   {
    "duration": 30,
    "start_time": "2022-03-30T12:47:51.205Z"
   },
   {
    "duration": 7,
    "start_time": "2022-03-30T12:47:51.237Z"
   },
   {
    "duration": 16,
    "start_time": "2022-03-30T12:47:51.246Z"
   },
   {
    "duration": 4,
    "start_time": "2022-03-30T12:47:51.264Z"
   },
   {
    "duration": 20,
    "start_time": "2022-03-30T12:47:51.270Z"
   },
   {
    "duration": 7,
    "start_time": "2022-03-30T12:47:51.292Z"
   },
   {
    "duration": 231,
    "start_time": "2022-03-30T12:47:51.301Z"
   },
   {
    "duration": 209,
    "start_time": "2022-03-30T12:47:51.535Z"
   },
   {
    "duration": 19,
    "start_time": "2022-03-30T12:47:51.746Z"
   },
   {
    "duration": 5,
    "start_time": "2022-03-30T12:47:51.767Z"
   },
   {
    "duration": 25,
    "start_time": "2022-03-30T12:47:51.774Z"
   },
   {
    "duration": 4,
    "start_time": "2022-03-30T12:47:51.801Z"
   },
   {
    "duration": 36,
    "start_time": "2022-03-30T12:47:51.807Z"
   },
   {
    "duration": 21,
    "start_time": "2022-03-30T12:47:51.846Z"
   },
   {
    "duration": 106,
    "start_time": "2022-03-30T12:47:51.869Z"
   },
   {
    "duration": 4,
    "start_time": "2022-03-30T12:53:12.106Z"
   },
   {
    "duration": 4,
    "start_time": "2022-03-30T12:53:36.775Z"
   },
   {
    "duration": 3,
    "start_time": "2022-03-30T12:57:51.246Z"
   },
   {
    "duration": 2,
    "start_time": "2022-03-30T12:57:51.896Z"
   },
   {
    "duration": 99,
    "start_time": "2022-03-30T12:58:04.176Z"
   },
   {
    "duration": 1095,
    "start_time": "2022-03-30T12:59:31.574Z"
   },
   {
    "duration": 40,
    "start_time": "2022-03-30T12:59:32.671Z"
   },
   {
    "duration": 3,
    "start_time": "2022-03-30T12:59:32.713Z"
   },
   {
    "duration": 6,
    "start_time": "2022-03-30T12:59:32.718Z"
   },
   {
    "duration": 9,
    "start_time": "2022-03-30T12:59:32.725Z"
   },
   {
    "duration": 4,
    "start_time": "2022-03-30T12:59:32.735Z"
   },
   {
    "duration": 10,
    "start_time": "2022-03-30T12:59:32.740Z"
   },
   {
    "duration": 4,
    "start_time": "2022-03-30T12:59:32.751Z"
   },
   {
    "duration": 13,
    "start_time": "2022-03-30T12:59:32.756Z"
   },
   {
    "duration": 11,
    "start_time": "2022-03-30T12:59:32.771Z"
   },
   {
    "duration": 6,
    "start_time": "2022-03-30T12:59:32.784Z"
   },
   {
    "duration": 6,
    "start_time": "2022-03-30T12:59:32.792Z"
   },
   {
    "duration": 38,
    "start_time": "2022-03-30T12:59:32.799Z"
   },
   {
    "duration": 4,
    "start_time": "2022-03-30T12:59:32.838Z"
   },
   {
    "duration": 21,
    "start_time": "2022-03-30T12:59:32.843Z"
   },
   {
    "duration": 6,
    "start_time": "2022-03-30T12:59:32.866Z"
   },
   {
    "duration": 260,
    "start_time": "2022-03-30T12:59:32.873Z"
   },
   {
    "duration": 207,
    "start_time": "2022-03-30T12:59:33.141Z"
   },
   {
    "duration": 18,
    "start_time": "2022-03-30T12:59:33.349Z"
   },
   {
    "duration": 5,
    "start_time": "2022-03-30T12:59:33.369Z"
   },
   {
    "duration": 30,
    "start_time": "2022-03-30T12:59:33.375Z"
   },
   {
    "duration": 3,
    "start_time": "2022-03-30T12:59:33.406Z"
   },
   {
    "duration": 28,
    "start_time": "2022-03-30T12:59:33.410Z"
   },
   {
    "duration": 21,
    "start_time": "2022-03-30T12:59:33.439Z"
   },
   {
    "duration": 95,
    "start_time": "2022-03-30T12:59:33.462Z"
   },
   {
    "duration": 2,
    "start_time": "2022-03-30T12:59:33.559Z"
   },
   {
    "duration": 5,
    "start_time": "2022-03-30T12:59:33.563Z"
   },
   {
    "duration": 117,
    "start_time": "2022-03-30T12:59:33.571Z"
   },
   {
    "duration": 4,
    "start_time": "2022-03-30T13:00:04.220Z"
   },
   {
    "duration": 1073,
    "start_time": "2022-03-30T13:00:37.585Z"
   },
   {
    "duration": 42,
    "start_time": "2022-03-30T13:00:38.660Z"
   },
   {
    "duration": 3,
    "start_time": "2022-03-30T13:00:38.704Z"
   },
   {
    "duration": 13,
    "start_time": "2022-03-30T13:00:38.709Z"
   },
   {
    "duration": 10,
    "start_time": "2022-03-30T13:00:38.723Z"
   },
   {
    "duration": 6,
    "start_time": "2022-03-30T13:00:38.734Z"
   },
   {
    "duration": 13,
    "start_time": "2022-03-30T13:00:38.741Z"
   },
   {
    "duration": 15,
    "start_time": "2022-03-30T13:00:38.756Z"
   },
   {
    "duration": 15,
    "start_time": "2022-03-30T13:00:38.773Z"
   },
   {
    "duration": 13,
    "start_time": "2022-03-30T13:00:38.791Z"
   },
   {
    "duration": 15,
    "start_time": "2022-03-30T13:00:38.806Z"
   },
   {
    "duration": 15,
    "start_time": "2022-03-30T13:00:38.823Z"
   },
   {
    "duration": 6,
    "start_time": "2022-03-30T13:00:38.839Z"
   },
   {
    "duration": 10,
    "start_time": "2022-03-30T13:00:38.846Z"
   },
   {
    "duration": 26,
    "start_time": "2022-03-30T13:00:38.857Z"
   },
   {
    "duration": 7,
    "start_time": "2022-03-30T13:00:38.885Z"
   },
   {
    "duration": 148,
    "start_time": "2022-03-30T13:00:38.894Z"
   },
   {
    "duration": 214,
    "start_time": "2022-03-30T13:00:39.135Z"
   },
   {
    "duration": 19,
    "start_time": "2022-03-30T13:00:39.351Z"
   },
   {
    "duration": 6,
    "start_time": "2022-03-30T13:00:39.372Z"
   },
   {
    "duration": 23,
    "start_time": "2022-03-30T13:00:39.379Z"
   },
   {
    "duration": 29,
    "start_time": "2022-03-30T13:00:39.404Z"
   },
   {
    "duration": 10,
    "start_time": "2022-03-30T13:00:39.435Z"
   },
   {
    "duration": 22,
    "start_time": "2022-03-30T13:00:39.447Z"
   },
   {
    "duration": 109,
    "start_time": "2022-03-30T13:00:39.471Z"
   },
   {
    "duration": 11,
    "start_time": "2022-03-30T13:00:43.665Z"
   },
   {
    "duration": 100,
    "start_time": "2022-03-30T13:01:03.798Z"
   },
   {
    "duration": 2,
    "start_time": "2022-03-30T13:01:07.773Z"
   },
   {
    "duration": 4,
    "start_time": "2022-03-30T13:01:08.413Z"
   },
   {
    "duration": 4,
    "start_time": "2022-03-30T13:01:16.763Z"
   },
   {
    "duration": 4,
    "start_time": "2022-03-30T13:03:11.778Z"
   },
   {
    "duration": 1175,
    "start_time": "2022-03-30T13:04:00.522Z"
   },
   {
    "duration": 39,
    "start_time": "2022-03-30T13:04:01.699Z"
   },
   {
    "duration": 3,
    "start_time": "2022-03-30T13:04:01.740Z"
   },
   {
    "duration": 26,
    "start_time": "2022-03-30T13:04:01.745Z"
   },
   {
    "duration": 26,
    "start_time": "2022-03-30T13:04:01.773Z"
   },
   {
    "duration": 29,
    "start_time": "2022-03-30T13:04:01.801Z"
   },
   {
    "duration": 10,
    "start_time": "2022-03-30T13:04:01.832Z"
   },
   {
    "duration": 16,
    "start_time": "2022-03-30T13:04:01.844Z"
   },
   {
    "duration": 15,
    "start_time": "2022-03-30T13:04:01.861Z"
   },
   {
    "duration": 12,
    "start_time": "2022-03-30T13:04:01.879Z"
   },
   {
    "duration": 8,
    "start_time": "2022-03-30T13:04:01.893Z"
   },
   {
    "duration": 24,
    "start_time": "2022-03-30T13:04:01.903Z"
   },
   {
    "duration": 10,
    "start_time": "2022-03-30T13:04:01.929Z"
   },
   {
    "duration": 33,
    "start_time": "2022-03-30T13:04:01.941Z"
   },
   {
    "duration": 28,
    "start_time": "2022-03-30T13:04:01.976Z"
   },
   {
    "duration": 15,
    "start_time": "2022-03-30T13:04:02.006Z"
   },
   {
    "duration": 117,
    "start_time": "2022-03-30T13:04:02.023Z"
   },
   {
    "duration": 305,
    "start_time": "2022-03-30T13:04:02.142Z"
   },
   {
    "duration": 19,
    "start_time": "2022-03-30T13:04:02.448Z"
   },
   {
    "duration": 5,
    "start_time": "2022-03-30T13:04:02.468Z"
   },
   {
    "duration": 40,
    "start_time": "2022-03-30T13:04:02.475Z"
   },
   {
    "duration": 4,
    "start_time": "2022-03-30T13:04:02.517Z"
   },
   {
    "duration": 16,
    "start_time": "2022-03-30T13:04:02.522Z"
   },
   {
    "duration": 22,
    "start_time": "2022-03-30T13:04:02.540Z"
   },
   {
    "duration": 96,
    "start_time": "2022-03-30T13:04:02.564Z"
   },
   {
    "duration": 83,
    "start_time": "2022-03-30T13:04:06.521Z"
   },
   {
    "duration": 3,
    "start_time": "2022-03-30T13:04:16.219Z"
   },
   {
    "duration": 4,
    "start_time": "2022-03-30T13:04:18.641Z"
   },
   {
    "duration": 4,
    "start_time": "2022-03-30T13:04:20.785Z"
   },
   {
    "duration": 100,
    "start_time": "2022-03-30T13:04:32.202Z"
   },
   {
    "duration": 1139,
    "start_time": "2022-03-30T13:04:54.275Z"
   },
   {
    "duration": 61,
    "start_time": "2022-03-30T13:04:55.417Z"
   },
   {
    "duration": 4,
    "start_time": "2022-03-30T13:04:55.480Z"
   },
   {
    "duration": 9,
    "start_time": "2022-03-30T13:04:55.486Z"
   },
   {
    "duration": 8,
    "start_time": "2022-03-30T13:04:55.497Z"
   },
   {
    "duration": 6,
    "start_time": "2022-03-30T13:04:55.507Z"
   },
   {
    "duration": 23,
    "start_time": "2022-03-30T13:04:55.514Z"
   },
   {
    "duration": 5,
    "start_time": "2022-03-30T13:04:55.539Z"
   },
   {
    "duration": 14,
    "start_time": "2022-03-30T13:04:55.545Z"
   },
   {
    "duration": 11,
    "start_time": "2022-03-30T13:04:55.562Z"
   },
   {
    "duration": 8,
    "start_time": "2022-03-30T13:04:55.575Z"
   },
   {
    "duration": 9,
    "start_time": "2022-03-30T13:04:55.584Z"
   },
   {
    "duration": 11,
    "start_time": "2022-03-30T13:04:55.594Z"
   },
   {
    "duration": 27,
    "start_time": "2022-03-30T13:04:55.606Z"
   },
   {
    "duration": 25,
    "start_time": "2022-03-30T13:04:55.634Z"
   },
   {
    "duration": 7,
    "start_time": "2022-03-30T13:04:55.660Z"
   },
   {
    "duration": 79,
    "start_time": "2022-03-30T13:04:55.669Z"
   },
   {
    "duration": 217,
    "start_time": "2022-03-30T13:04:55.833Z"
   },
   {
    "duration": 19,
    "start_time": "2022-03-30T13:04:56.051Z"
   },
   {
    "duration": 6,
    "start_time": "2022-03-30T13:04:56.071Z"
   },
   {
    "duration": 21,
    "start_time": "2022-03-30T13:04:56.079Z"
   },
   {
    "duration": 4,
    "start_time": "2022-03-30T13:04:56.102Z"
   },
   {
    "duration": 10,
    "start_time": "2022-03-30T13:04:56.133Z"
   },
   {
    "duration": 22,
    "start_time": "2022-03-30T13:04:56.145Z"
   },
   {
    "duration": 104,
    "start_time": "2022-03-30T13:04:56.169Z"
   },
   {
    "duration": 3,
    "start_time": "2022-03-30T13:08:02.862Z"
   },
   {
    "duration": 97,
    "start_time": "2022-03-30T13:08:04.881Z"
   },
   {
    "duration": 3,
    "start_time": "2022-03-30T13:08:29.330Z"
   },
   {
    "duration": 3,
    "start_time": "2022-03-30T13:08:30.319Z"
   },
   {
    "duration": 4,
    "start_time": "2022-03-30T13:08:31.955Z"
   },
   {
    "duration": 4,
    "start_time": "2022-03-30T13:08:34.002Z"
   },
   {
    "duration": 3,
    "start_time": "2022-03-30T13:08:52.003Z"
   },
   {
    "duration": 11,
    "start_time": "2022-03-30T13:08:52.999Z"
   },
   {
    "duration": 3,
    "start_time": "2022-03-30T13:09:38.012Z"
   },
   {
    "duration": 12,
    "start_time": "2022-03-30T13:09:38.730Z"
   },
   {
    "duration": 4,
    "start_time": "2022-03-30T13:09:40.390Z"
   },
   {
    "duration": 10,
    "start_time": "2022-03-30T13:09:42.201Z"
   },
   {
    "duration": 4,
    "start_time": "2022-03-30T13:09:44.598Z"
   },
   {
    "duration": 1241,
    "start_time": "2022-03-30T13:10:09.231Z"
   },
   {
    "duration": 41,
    "start_time": "2022-03-30T13:10:10.474Z"
   },
   {
    "duration": 3,
    "start_time": "2022-03-30T13:10:10.517Z"
   },
   {
    "duration": 13,
    "start_time": "2022-03-30T13:10:10.523Z"
   },
   {
    "duration": 13,
    "start_time": "2022-03-30T13:10:10.537Z"
   },
   {
    "duration": 8,
    "start_time": "2022-03-30T13:10:10.551Z"
   },
   {
    "duration": 13,
    "start_time": "2022-03-30T13:10:10.561Z"
   },
   {
    "duration": 5,
    "start_time": "2022-03-30T13:10:10.576Z"
   },
   {
    "duration": 15,
    "start_time": "2022-03-30T13:10:10.583Z"
   },
   {
    "duration": 36,
    "start_time": "2022-03-30T13:10:10.601Z"
   },
   {
    "duration": 7,
    "start_time": "2022-03-30T13:10:10.639Z"
   },
   {
    "duration": 8,
    "start_time": "2022-03-30T13:10:10.647Z"
   },
   {
    "duration": 7,
    "start_time": "2022-03-30T13:10:10.657Z"
   },
   {
    "duration": 11,
    "start_time": "2022-03-30T13:10:10.665Z"
   },
   {
    "duration": 27,
    "start_time": "2022-03-30T13:10:10.678Z"
   },
   {
    "duration": 32,
    "start_time": "2022-03-30T13:10:10.707Z"
   },
   {
    "duration": 195,
    "start_time": "2022-03-30T13:10:10.741Z"
   },
   {
    "duration": 274,
    "start_time": "2022-03-30T13:10:10.938Z"
   },
   {
    "duration": 27,
    "start_time": "2022-03-30T13:10:11.214Z"
   },
   {
    "duration": 5,
    "start_time": "2022-03-30T13:10:11.243Z"
   },
   {
    "duration": 31,
    "start_time": "2022-03-30T13:10:11.250Z"
   },
   {
    "duration": 4,
    "start_time": "2022-03-30T13:10:11.283Z"
   },
   {
    "duration": 17,
    "start_time": "2022-03-30T13:10:11.288Z"
   },
   {
    "duration": 32,
    "start_time": "2022-03-30T13:10:11.307Z"
   },
   {
    "duration": 99,
    "start_time": "2022-03-30T13:10:11.341Z"
   },
   {
    "duration": 5,
    "start_time": "2022-03-30T13:10:11.442Z"
   },
   {
    "duration": 93,
    "start_time": "2022-03-30T13:13:26.502Z"
   },
   {
    "duration": 4,
    "start_time": "2022-03-30T13:14:24.574Z"
   },
   {
    "duration": 3,
    "start_time": "2022-03-30T13:15:02.832Z"
   },
   {
    "duration": 6,
    "start_time": "2022-03-30T13:15:10.700Z"
   },
   {
    "duration": 5,
    "start_time": "2022-03-30T13:16:01.713Z"
   },
   {
    "duration": 5,
    "start_time": "2022-03-30T13:16:14.796Z"
   },
   {
    "duration": 3,
    "start_time": "2022-03-30T13:18:13.059Z"
   },
   {
    "duration": 10,
    "start_time": "2022-03-30T13:18:21.203Z"
   },
   {
    "duration": 4,
    "start_time": "2022-03-30T13:18:55.388Z"
   },
   {
    "duration": 1124,
    "start_time": "2022-03-30T13:19:49.065Z"
   },
   {
    "duration": 40,
    "start_time": "2022-03-30T13:19:50.191Z"
   },
   {
    "duration": 3,
    "start_time": "2022-03-30T13:19:50.232Z"
   },
   {
    "duration": 11,
    "start_time": "2022-03-30T13:19:50.237Z"
   },
   {
    "duration": 7,
    "start_time": "2022-03-30T13:19:50.249Z"
   },
   {
    "duration": 16,
    "start_time": "2022-03-30T13:19:50.257Z"
   },
   {
    "duration": 11,
    "start_time": "2022-03-30T13:19:50.275Z"
   },
   {
    "duration": 5,
    "start_time": "2022-03-30T13:19:50.288Z"
   },
   {
    "duration": 13,
    "start_time": "2022-03-30T13:19:50.294Z"
   },
   {
    "duration": 24,
    "start_time": "2022-03-30T13:19:50.310Z"
   },
   {
    "duration": 10,
    "start_time": "2022-03-30T13:19:50.336Z"
   },
   {
    "duration": 8,
    "start_time": "2022-03-30T13:19:50.347Z"
   },
   {
    "duration": 10,
    "start_time": "2022-03-30T13:19:50.356Z"
   },
   {
    "duration": 8,
    "start_time": "2022-03-30T13:19:50.368Z"
   },
   {
    "duration": 23,
    "start_time": "2022-03-30T13:19:50.378Z"
   },
   {
    "duration": 8,
    "start_time": "2022-03-30T13:19:50.403Z"
   },
   {
    "duration": 222,
    "start_time": "2022-03-30T13:19:50.412Z"
   },
   {
    "duration": 219,
    "start_time": "2022-03-30T13:19:50.636Z"
   },
   {
    "duration": 19,
    "start_time": "2022-03-30T13:19:50.856Z"
   },
   {
    "duration": 5,
    "start_time": "2022-03-30T13:19:50.876Z"
   },
   {
    "duration": 25,
    "start_time": "2022-03-30T13:19:50.882Z"
   },
   {
    "duration": 25,
    "start_time": "2022-03-30T13:19:50.908Z"
   },
   {
    "duration": 20,
    "start_time": "2022-03-30T13:19:50.935Z"
   },
   {
    "duration": 48,
    "start_time": "2022-03-30T13:19:50.957Z"
   },
   {
    "duration": 82,
    "start_time": "2022-03-30T13:19:51.006Z"
   },
   {
    "duration": 3,
    "start_time": "2022-03-30T13:19:54.076Z"
   },
   {
    "duration": 4,
    "start_time": "2022-03-30T13:19:55.503Z"
   },
   {
    "duration": 4,
    "start_time": "2022-03-30T13:20:04.246Z"
   },
   {
    "duration": 4,
    "start_time": "2022-03-30T13:20:12.461Z"
   },
   {
    "duration": 3,
    "start_time": "2022-03-30T13:20:50.750Z"
   },
   {
    "duration": 3,
    "start_time": "2022-03-30T13:20:51.962Z"
   },
   {
    "duration": 4,
    "start_time": "2022-03-30T13:20:52.696Z"
   },
   {
    "duration": 3,
    "start_time": "2022-03-30T13:21:08.649Z"
   },
   {
    "duration": 1112,
    "start_time": "2022-03-30T13:22:04.775Z"
   },
   {
    "duration": 40,
    "start_time": "2022-03-30T13:22:05.889Z"
   },
   {
    "duration": 3,
    "start_time": "2022-03-30T13:22:05.931Z"
   },
   {
    "duration": 8,
    "start_time": "2022-03-30T13:22:05.936Z"
   },
   {
    "duration": 6,
    "start_time": "2022-03-30T13:22:05.946Z"
   },
   {
    "duration": 8,
    "start_time": "2022-03-30T13:22:05.954Z"
   },
   {
    "duration": 11,
    "start_time": "2022-03-30T13:22:05.964Z"
   },
   {
    "duration": 6,
    "start_time": "2022-03-30T13:22:05.976Z"
   },
   {
    "duration": 17,
    "start_time": "2022-03-30T13:22:05.984Z"
   },
   {
    "duration": 18,
    "start_time": "2022-03-30T13:22:06.004Z"
   },
   {
    "duration": 13,
    "start_time": "2022-03-30T13:22:06.023Z"
   },
   {
    "duration": 6,
    "start_time": "2022-03-30T13:22:06.037Z"
   },
   {
    "duration": 12,
    "start_time": "2022-03-30T13:22:06.044Z"
   },
   {
    "duration": 3,
    "start_time": "2022-03-30T13:22:06.058Z"
   },
   {
    "duration": 21,
    "start_time": "2022-03-30T13:22:06.063Z"
   },
   {
    "duration": 7,
    "start_time": "2022-03-30T13:22:06.085Z"
   },
   {
    "duration": 149,
    "start_time": "2022-03-30T13:22:06.093Z"
   },
   {
    "duration": 216,
    "start_time": "2022-03-30T13:22:06.335Z"
   },
   {
    "duration": 18,
    "start_time": "2022-03-30T13:22:06.553Z"
   },
   {
    "duration": 4,
    "start_time": "2022-03-30T13:22:06.573Z"
   },
   {
    "duration": 27,
    "start_time": "2022-03-30T13:22:06.579Z"
   },
   {
    "duration": 5,
    "start_time": "2022-03-30T13:22:06.607Z"
   },
   {
    "duration": 26,
    "start_time": "2022-03-30T13:22:06.614Z"
   },
   {
    "duration": 22,
    "start_time": "2022-03-30T13:22:06.642Z"
   },
   {
    "duration": 108,
    "start_time": "2022-03-30T13:22:06.666Z"
   },
   {
    "duration": 3,
    "start_time": "2022-03-30T13:22:06.776Z"
   },
   {
    "duration": 14,
    "start_time": "2022-03-30T13:22:13.293Z"
   },
   {
    "duration": 1135,
    "start_time": "2022-03-30T13:37:06.163Z"
   },
   {
    "duration": 39,
    "start_time": "2022-03-30T13:37:07.300Z"
   },
   {
    "duration": 2,
    "start_time": "2022-03-30T13:37:07.341Z"
   },
   {
    "duration": 6,
    "start_time": "2022-03-30T13:37:07.346Z"
   },
   {
    "duration": 9,
    "start_time": "2022-03-30T13:37:07.354Z"
   },
   {
    "duration": 6,
    "start_time": "2022-03-30T13:37:07.365Z"
   },
   {
    "duration": 10,
    "start_time": "2022-03-30T13:37:07.372Z"
   },
   {
    "duration": 15,
    "start_time": "2022-03-30T13:37:07.383Z"
   },
   {
    "duration": 20,
    "start_time": "2022-03-30T13:37:07.400Z"
   },
   {
    "duration": 18,
    "start_time": "2022-03-30T13:37:07.422Z"
   },
   {
    "duration": 10,
    "start_time": "2022-03-30T13:37:07.442Z"
   },
   {
    "duration": 19,
    "start_time": "2022-03-30T13:37:07.454Z"
   },
   {
    "duration": 13,
    "start_time": "2022-03-30T13:37:07.475Z"
   },
   {
    "duration": 15,
    "start_time": "2022-03-30T13:37:07.490Z"
   },
   {
    "duration": 24,
    "start_time": "2022-03-30T13:37:07.507Z"
   },
   {
    "duration": 14,
    "start_time": "2022-03-30T13:37:07.533Z"
   },
   {
    "duration": 187,
    "start_time": "2022-03-30T13:37:07.549Z"
   },
   {
    "duration": 295,
    "start_time": "2022-03-30T13:37:07.738Z"
   },
   {
    "duration": 24,
    "start_time": "2022-03-30T13:37:08.034Z"
   },
   {
    "duration": 7,
    "start_time": "2022-03-30T13:37:08.060Z"
   },
   {
    "duration": 33,
    "start_time": "2022-03-30T13:37:08.069Z"
   },
   {
    "duration": 5,
    "start_time": "2022-03-30T13:37:08.104Z"
   },
   {
    "duration": 35,
    "start_time": "2022-03-30T13:37:08.110Z"
   },
   {
    "duration": 35,
    "start_time": "2022-03-30T13:37:08.148Z"
   },
   {
    "duration": 112,
    "start_time": "2022-03-30T13:37:08.185Z"
   },
   {
    "duration": 155,
    "start_time": "2022-03-30T13:37:08.298Z"
   },
   {
    "duration": 3,
    "start_time": "2022-03-30T13:38:26.419Z"
   },
   {
    "duration": 12,
    "start_time": "2022-03-30T13:38:34.694Z"
   },
   {
    "duration": 1409,
    "start_time": "2022-03-30T13:40:03.174Z"
   },
   {
    "duration": 45,
    "start_time": "2022-03-30T13:40:04.585Z"
   },
   {
    "duration": 3,
    "start_time": "2022-03-30T13:40:04.632Z"
   },
   {
    "duration": 15,
    "start_time": "2022-03-30T13:40:04.637Z"
   },
   {
    "duration": 9,
    "start_time": "2022-03-30T13:40:04.654Z"
   },
   {
    "duration": 11,
    "start_time": "2022-03-30T13:40:04.665Z"
   },
   {
    "duration": 12,
    "start_time": "2022-03-30T13:40:04.678Z"
   },
   {
    "duration": 7,
    "start_time": "2022-03-30T13:40:04.692Z"
   },
   {
    "duration": 34,
    "start_time": "2022-03-30T13:40:04.701Z"
   },
   {
    "duration": 16,
    "start_time": "2022-03-30T13:40:04.738Z"
   },
   {
    "duration": 8,
    "start_time": "2022-03-30T13:40:04.756Z"
   },
   {
    "duration": 11,
    "start_time": "2022-03-30T13:40:04.766Z"
   },
   {
    "duration": 8,
    "start_time": "2022-03-30T13:40:04.779Z"
   },
   {
    "duration": 5,
    "start_time": "2022-03-30T13:40:04.789Z"
   },
   {
    "duration": 47,
    "start_time": "2022-03-30T13:40:04.796Z"
   },
   {
    "duration": 7,
    "start_time": "2022-03-30T13:40:04.846Z"
   },
   {
    "duration": 282,
    "start_time": "2022-03-30T13:40:04.855Z"
   },
   {
    "duration": 306,
    "start_time": "2022-03-30T13:40:05.138Z"
   },
   {
    "duration": 18,
    "start_time": "2022-03-30T13:40:05.446Z"
   },
   {
    "duration": 5,
    "start_time": "2022-03-30T13:40:05.466Z"
   },
   {
    "duration": 25,
    "start_time": "2022-03-30T13:40:05.472Z"
   },
   {
    "duration": 4,
    "start_time": "2022-03-30T13:40:05.499Z"
   },
   {
    "duration": 10,
    "start_time": "2022-03-30T13:40:05.533Z"
   },
   {
    "duration": 24,
    "start_time": "2022-03-30T13:40:05.544Z"
   },
   {
    "duration": 117,
    "start_time": "2022-03-30T13:40:05.570Z"
   },
   {
    "duration": 3,
    "start_time": "2022-03-30T13:40:05.689Z"
   },
   {
    "duration": 12,
    "start_time": "2022-03-30T13:40:05.694Z"
   },
   {
    "duration": 1144,
    "start_time": "2022-03-30T13:40:27.628Z"
   },
   {
    "duration": 39,
    "start_time": "2022-03-30T13:40:28.774Z"
   },
   {
    "duration": 3,
    "start_time": "2022-03-30T13:40:28.815Z"
   },
   {
    "duration": 16,
    "start_time": "2022-03-30T13:40:28.820Z"
   },
   {
    "duration": 8,
    "start_time": "2022-03-30T13:40:28.838Z"
   },
   {
    "duration": 8,
    "start_time": "2022-03-30T13:40:28.848Z"
   },
   {
    "duration": 13,
    "start_time": "2022-03-30T13:40:28.858Z"
   },
   {
    "duration": 6,
    "start_time": "2022-03-30T13:40:28.872Z"
   },
   {
    "duration": 13,
    "start_time": "2022-03-30T13:40:28.879Z"
   },
   {
    "duration": 11,
    "start_time": "2022-03-30T13:40:28.895Z"
   },
   {
    "duration": 7,
    "start_time": "2022-03-30T13:40:28.908Z"
   },
   {
    "duration": 7,
    "start_time": "2022-03-30T13:40:28.932Z"
   },
   {
    "duration": 6,
    "start_time": "2022-03-30T13:40:28.940Z"
   },
   {
    "duration": 4,
    "start_time": "2022-03-30T13:40:28.947Z"
   },
   {
    "duration": 30,
    "start_time": "2022-03-30T13:40:28.953Z"
   },
   {
    "duration": 7,
    "start_time": "2022-03-30T13:40:28.985Z"
   },
   {
    "duration": 239,
    "start_time": "2022-03-30T13:40:28.994Z"
   },
   {
    "duration": 218,
    "start_time": "2022-03-30T13:40:29.235Z"
   },
   {
    "duration": 19,
    "start_time": "2022-03-30T13:40:29.454Z"
   },
   {
    "duration": 5,
    "start_time": "2022-03-30T13:40:29.474Z"
   },
   {
    "duration": 23,
    "start_time": "2022-03-30T13:40:29.481Z"
   },
   {
    "duration": 6,
    "start_time": "2022-03-30T13:40:29.506Z"
   },
   {
    "duration": 26,
    "start_time": "2022-03-30T13:40:29.514Z"
   },
   {
    "duration": 21,
    "start_time": "2022-03-30T13:40:29.542Z"
   },
   {
    "duration": 100,
    "start_time": "2022-03-30T13:40:29.564Z"
   },
   {
    "duration": 3,
    "start_time": "2022-03-30T13:40:29.665Z"
   },
   {
    "duration": 12,
    "start_time": "2022-03-30T13:40:29.670Z"
   },
   {
    "duration": 1129,
    "start_time": "2022-03-30T13:43:26.449Z"
   },
   {
    "duration": 44,
    "start_time": "2022-03-30T13:43:27.580Z"
   },
   {
    "duration": 3,
    "start_time": "2022-03-30T13:43:27.626Z"
   },
   {
    "duration": 9,
    "start_time": "2022-03-30T13:43:27.631Z"
   },
   {
    "duration": 6,
    "start_time": "2022-03-30T13:43:27.641Z"
   },
   {
    "duration": 6,
    "start_time": "2022-03-30T13:43:27.649Z"
   },
   {
    "duration": 10,
    "start_time": "2022-03-30T13:43:27.656Z"
   },
   {
    "duration": 5,
    "start_time": "2022-03-30T13:43:27.667Z"
   },
   {
    "duration": 15,
    "start_time": "2022-03-30T13:43:27.673Z"
   },
   {
    "duration": 19,
    "start_time": "2022-03-30T13:43:27.691Z"
   },
   {
    "duration": 25,
    "start_time": "2022-03-30T13:43:27.711Z"
   },
   {
    "duration": 7,
    "start_time": "2022-03-30T13:43:27.738Z"
   },
   {
    "duration": 7,
    "start_time": "2022-03-30T13:43:27.746Z"
   },
   {
    "duration": 6,
    "start_time": "2022-03-30T13:43:27.755Z"
   },
   {
    "duration": 21,
    "start_time": "2022-03-30T13:43:27.763Z"
   },
   {
    "duration": 14,
    "start_time": "2022-03-30T13:43:27.786Z"
   },
   {
    "duration": 141,
    "start_time": "2022-03-30T13:43:27.801Z"
   },
   {
    "duration": 212,
    "start_time": "2022-03-30T13:43:28.035Z"
   },
   {
    "duration": 17,
    "start_time": "2022-03-30T13:43:28.249Z"
   },
   {
    "duration": 5,
    "start_time": "2022-03-30T13:43:28.267Z"
   },
   {
    "duration": 19,
    "start_time": "2022-03-30T13:43:28.273Z"
   },
   {
    "duration": 3,
    "start_time": "2022-03-30T13:43:28.294Z"
   },
   {
    "duration": 36,
    "start_time": "2022-03-30T13:43:28.299Z"
   },
   {
    "duration": 21,
    "start_time": "2022-03-30T13:43:28.337Z"
   },
   {
    "duration": 100,
    "start_time": "2022-03-30T13:43:28.359Z"
   },
   {
    "duration": 3,
    "start_time": "2022-03-30T13:43:28.460Z"
   },
   {
    "duration": 10,
    "start_time": "2022-03-30T13:43:28.465Z"
   },
   {
    "duration": 1078,
    "start_time": "2022-03-30T13:43:46.495Z"
   },
   {
    "duration": 41,
    "start_time": "2022-03-30T13:43:47.575Z"
   },
   {
    "duration": 3,
    "start_time": "2022-03-30T13:43:47.620Z"
   },
   {
    "duration": 10,
    "start_time": "2022-03-30T13:43:47.625Z"
   },
   {
    "duration": 13,
    "start_time": "2022-03-30T13:43:47.636Z"
   },
   {
    "duration": 11,
    "start_time": "2022-03-30T13:43:47.651Z"
   },
   {
    "duration": 11,
    "start_time": "2022-03-30T13:43:47.664Z"
   },
   {
    "duration": 12,
    "start_time": "2022-03-30T13:43:47.676Z"
   },
   {
    "duration": 12,
    "start_time": "2022-03-30T13:43:47.690Z"
   },
   {
    "duration": 10,
    "start_time": "2022-03-30T13:43:47.704Z"
   },
   {
    "duration": 36,
    "start_time": "2022-03-30T13:43:47.716Z"
   },
   {
    "duration": 47,
    "start_time": "2022-03-30T13:43:47.754Z"
   },
   {
    "duration": 16,
    "start_time": "2022-03-30T13:43:47.803Z"
   },
   {
    "duration": 11,
    "start_time": "2022-03-30T13:43:47.821Z"
   },
   {
    "duration": 25,
    "start_time": "2022-03-30T13:43:47.834Z"
   },
   {
    "duration": 7,
    "start_time": "2022-03-30T13:43:47.861Z"
   },
   {
    "duration": 167,
    "start_time": "2022-03-30T13:43:47.869Z"
   },
   {
    "duration": 286,
    "start_time": "2022-03-30T13:43:48.038Z"
   },
   {
    "duration": 18,
    "start_time": "2022-03-30T13:43:48.332Z"
   },
   {
    "duration": 5,
    "start_time": "2022-03-30T13:43:48.352Z"
   },
   {
    "duration": 23,
    "start_time": "2022-03-30T13:43:48.358Z"
   },
   {
    "duration": 3,
    "start_time": "2022-03-30T13:43:48.383Z"
   },
   {
    "duration": 20,
    "start_time": "2022-03-30T13:43:48.388Z"
   },
   {
    "duration": 41,
    "start_time": "2022-03-30T13:43:48.410Z"
   },
   {
    "duration": 90,
    "start_time": "2022-03-30T13:43:48.453Z"
   },
   {
    "duration": 3,
    "start_time": "2022-03-30T13:43:48.545Z"
   },
   {
    "duration": 15,
    "start_time": "2022-03-30T13:43:48.551Z"
   },
   {
    "duration": 1266,
    "start_time": "2022-03-30T13:56:16.917Z"
   },
   {
    "duration": 47,
    "start_time": "2022-03-30T13:56:18.185Z"
   },
   {
    "duration": 3,
    "start_time": "2022-03-30T13:56:18.233Z"
   },
   {
    "duration": 6,
    "start_time": "2022-03-30T13:56:18.238Z"
   },
   {
    "duration": 5,
    "start_time": "2022-03-30T13:56:18.246Z"
   },
   {
    "duration": 5,
    "start_time": "2022-03-30T13:56:18.253Z"
   },
   {
    "duration": 11,
    "start_time": "2022-03-30T13:56:18.259Z"
   },
   {
    "duration": 4,
    "start_time": "2022-03-30T13:56:18.271Z"
   },
   {
    "duration": 33,
    "start_time": "2022-03-30T13:56:18.277Z"
   },
   {
    "duration": 16,
    "start_time": "2022-03-30T13:56:18.313Z"
   },
   {
    "duration": 8,
    "start_time": "2022-03-30T13:56:18.330Z"
   },
   {
    "duration": 6,
    "start_time": "2022-03-30T13:56:18.340Z"
   },
   {
    "duration": 6,
    "start_time": "2022-03-30T13:56:18.348Z"
   },
   {
    "duration": 4,
    "start_time": "2022-03-30T13:56:18.356Z"
   },
   {
    "duration": 51,
    "start_time": "2022-03-30T13:56:18.361Z"
   },
   {
    "duration": 9,
    "start_time": "2022-03-30T13:56:18.414Z"
   },
   {
    "duration": 179,
    "start_time": "2022-03-30T13:56:18.425Z"
   },
   {
    "duration": 256,
    "start_time": "2022-03-30T13:56:18.607Z"
   },
   {
    "duration": 19,
    "start_time": "2022-03-30T13:56:18.865Z"
   },
   {
    "duration": 16,
    "start_time": "2022-03-30T13:56:18.885Z"
   },
   {
    "duration": 22,
    "start_time": "2022-03-30T13:56:18.903Z"
   },
   {
    "duration": 4,
    "start_time": "2022-03-30T13:56:18.926Z"
   },
   {
    "duration": 11,
    "start_time": "2022-03-30T13:56:18.933Z"
   },
   {
    "duration": 24,
    "start_time": "2022-03-30T13:56:18.946Z"
   },
   {
    "duration": 134,
    "start_time": "2022-03-30T13:56:18.971Z"
   },
   {
    "duration": 4,
    "start_time": "2022-03-30T13:56:19.106Z"
   },
   {
    "duration": 9,
    "start_time": "2022-03-30T13:56:19.112Z"
   },
   {
    "duration": 9,
    "start_time": "2022-03-30T13:56:19.124Z"
   },
   {
    "duration": 130,
    "start_time": "2022-03-30T13:56:19.135Z"
   },
   {
    "duration": 1246,
    "start_time": "2022-03-30T13:58:28.108Z"
   },
   {
    "duration": 45,
    "start_time": "2022-03-30T13:58:29.356Z"
   },
   {
    "duration": 3,
    "start_time": "2022-03-30T13:58:29.403Z"
   },
   {
    "duration": 7,
    "start_time": "2022-03-30T13:58:29.409Z"
   },
   {
    "duration": 5,
    "start_time": "2022-03-30T13:58:29.418Z"
   },
   {
    "duration": 6,
    "start_time": "2022-03-30T13:58:29.425Z"
   },
   {
    "duration": 8,
    "start_time": "2022-03-30T13:58:29.433Z"
   },
   {
    "duration": 4,
    "start_time": "2022-03-30T13:58:29.442Z"
   },
   {
    "duration": 13,
    "start_time": "2022-03-30T13:58:29.448Z"
   },
   {
    "duration": 42,
    "start_time": "2022-03-30T13:58:29.464Z"
   },
   {
    "duration": 6,
    "start_time": "2022-03-30T13:58:29.508Z"
   },
   {
    "duration": 7,
    "start_time": "2022-03-30T13:58:29.516Z"
   },
   {
    "duration": 9,
    "start_time": "2022-03-30T13:58:29.524Z"
   },
   {
    "duration": 6,
    "start_time": "2022-03-30T13:58:29.535Z"
   },
   {
    "duration": 26,
    "start_time": "2022-03-30T13:58:29.542Z"
   },
   {
    "duration": 9,
    "start_time": "2022-03-30T13:58:29.569Z"
   },
   {
    "duration": 423,
    "start_time": "2022-03-30T13:58:29.580Z"
   },
   {
    "duration": 213,
    "start_time": "2022-03-30T13:58:30.005Z"
   },
   {
    "duration": 19,
    "start_time": "2022-03-30T13:58:30.220Z"
   },
   {
    "duration": 7,
    "start_time": "2022-03-30T13:58:30.241Z"
   },
   {
    "duration": 51,
    "start_time": "2022-03-30T13:58:30.250Z"
   },
   {
    "duration": 5,
    "start_time": "2022-03-30T13:58:30.304Z"
   },
   {
    "duration": 21,
    "start_time": "2022-03-30T13:58:30.311Z"
   },
   {
    "duration": 39,
    "start_time": "2022-03-30T13:58:30.334Z"
   },
   {
    "duration": 103,
    "start_time": "2022-03-30T13:58:30.374Z"
   },
   {
    "duration": 3,
    "start_time": "2022-03-30T13:58:30.479Z"
   },
   {
    "duration": 40,
    "start_time": "2022-03-30T13:58:30.483Z"
   },
   {
    "duration": 20,
    "start_time": "2022-03-30T13:58:30.526Z"
   },
   {
    "duration": 121,
    "start_time": "2022-03-30T13:58:30.548Z"
   },
   {
    "duration": 35,
    "start_time": "2022-03-30T13:59:33.855Z"
   },
   {
    "duration": 1260,
    "start_time": "2022-03-30T14:01:00.888Z"
   },
   {
    "duration": 49,
    "start_time": "2022-03-30T14:01:02.150Z"
   },
   {
    "duration": 3,
    "start_time": "2022-03-30T14:01:02.203Z"
   },
   {
    "duration": 13,
    "start_time": "2022-03-30T14:01:02.208Z"
   },
   {
    "duration": 9,
    "start_time": "2022-03-30T14:01:02.223Z"
   },
   {
    "duration": 19,
    "start_time": "2022-03-30T14:01:02.234Z"
   },
   {
    "duration": 11,
    "start_time": "2022-03-30T14:01:02.255Z"
   },
   {
    "duration": 12,
    "start_time": "2022-03-30T14:01:02.268Z"
   },
   {
    "duration": 12,
    "start_time": "2022-03-30T14:01:02.283Z"
   },
   {
    "duration": 12,
    "start_time": "2022-03-30T14:01:02.296Z"
   },
   {
    "duration": 9,
    "start_time": "2022-03-30T14:01:02.311Z"
   },
   {
    "duration": 11,
    "start_time": "2022-03-30T14:01:02.321Z"
   },
   {
    "duration": 14,
    "start_time": "2022-03-30T14:01:02.334Z"
   },
   {
    "duration": 9,
    "start_time": "2022-03-30T14:01:02.350Z"
   },
   {
    "duration": 37,
    "start_time": "2022-03-30T14:01:02.361Z"
   },
   {
    "duration": 17,
    "start_time": "2022-03-30T14:01:02.401Z"
   },
   {
    "duration": 184,
    "start_time": "2022-03-30T14:01:02.420Z"
   },
   {
    "duration": 207,
    "start_time": "2022-03-30T14:01:02.606Z"
   },
   {
    "duration": 17,
    "start_time": "2022-03-30T14:01:02.815Z"
   },
   {
    "duration": 4,
    "start_time": "2022-03-30T14:01:02.834Z"
   },
   {
    "duration": 19,
    "start_time": "2022-03-30T14:01:02.840Z"
   },
   {
    "duration": 3,
    "start_time": "2022-03-30T14:01:02.861Z"
   },
   {
    "duration": 39,
    "start_time": "2022-03-30T14:01:02.866Z"
   },
   {
    "duration": 24,
    "start_time": "2022-03-30T14:01:02.906Z"
   },
   {
    "duration": 99,
    "start_time": "2022-03-30T14:01:02.932Z"
   },
   {
    "duration": 3,
    "start_time": "2022-03-30T14:01:03.033Z"
   },
   {
    "duration": 8,
    "start_time": "2022-03-30T14:01:03.038Z"
   },
   {
    "duration": 6,
    "start_time": "2022-03-30T14:01:03.047Z"
   },
   {
    "duration": 132,
    "start_time": "2022-03-30T14:01:03.054Z"
   },
   {
    "duration": 104,
    "start_time": "2022-03-30T14:01:28.287Z"
   },
   {
    "duration": 1230,
    "start_time": "2022-03-30T14:01:57.317Z"
   },
   {
    "duration": 44,
    "start_time": "2022-03-30T14:01:58.549Z"
   },
   {
    "duration": 3,
    "start_time": "2022-03-30T14:01:58.594Z"
   },
   {
    "duration": 13,
    "start_time": "2022-03-30T14:01:58.599Z"
   },
   {
    "duration": 20,
    "start_time": "2022-03-30T14:01:58.613Z"
   },
   {
    "duration": 11,
    "start_time": "2022-03-30T14:01:58.634Z"
   },
   {
    "duration": 23,
    "start_time": "2022-03-30T14:01:58.646Z"
   },
   {
    "duration": 13,
    "start_time": "2022-03-30T14:01:58.671Z"
   },
   {
    "duration": 23,
    "start_time": "2022-03-30T14:01:58.685Z"
   },
   {
    "duration": 19,
    "start_time": "2022-03-30T14:01:58.711Z"
   },
   {
    "duration": 11,
    "start_time": "2022-03-30T14:01:58.731Z"
   },
   {
    "duration": 7,
    "start_time": "2022-03-30T14:01:58.743Z"
   },
   {
    "duration": 6,
    "start_time": "2022-03-30T14:01:58.751Z"
   },
   {
    "duration": 7,
    "start_time": "2022-03-30T14:01:58.758Z"
   },
   {
    "duration": 23,
    "start_time": "2022-03-30T14:01:58.766Z"
   },
   {
    "duration": 13,
    "start_time": "2022-03-30T14:01:58.800Z"
   },
   {
    "duration": 290,
    "start_time": "2022-03-30T14:01:58.815Z"
   },
   {
    "duration": 213,
    "start_time": "2022-03-30T14:01:59.107Z"
   },
   {
    "duration": 16,
    "start_time": "2022-03-30T14:01:59.321Z"
   },
   {
    "duration": 5,
    "start_time": "2022-03-30T14:01:59.339Z"
   },
   {
    "duration": 19,
    "start_time": "2022-03-30T14:01:59.345Z"
   },
   {
    "duration": 3,
    "start_time": "2022-03-30T14:01:59.366Z"
   },
   {
    "duration": 32,
    "start_time": "2022-03-30T14:01:59.371Z"
   },
   {
    "duration": 20,
    "start_time": "2022-03-30T14:01:59.405Z"
   },
   {
    "duration": 93,
    "start_time": "2022-03-30T14:01:59.427Z"
   },
   {
    "duration": 3,
    "start_time": "2022-03-30T14:01:59.522Z"
   },
   {
    "duration": 7,
    "start_time": "2022-03-30T14:01:59.527Z"
   },
   {
    "duration": 6,
    "start_time": "2022-03-30T14:01:59.537Z"
   },
   {
    "duration": 14,
    "start_time": "2022-03-30T14:02:43.867Z"
   },
   {
    "duration": 5,
    "start_time": "2022-03-30T14:03:06.234Z"
   },
   {
    "duration": 1463,
    "start_time": "2022-03-30T14:03:31.198Z"
   },
   {
    "duration": 48,
    "start_time": "2022-03-30T14:03:32.663Z"
   },
   {
    "duration": 3,
    "start_time": "2022-03-30T14:03:32.712Z"
   },
   {
    "duration": 5,
    "start_time": "2022-03-30T14:03:32.718Z"
   },
   {
    "duration": 5,
    "start_time": "2022-03-30T14:03:32.724Z"
   },
   {
    "duration": 6,
    "start_time": "2022-03-30T14:03:32.731Z"
   },
   {
    "duration": 8,
    "start_time": "2022-03-30T14:03:32.738Z"
   },
   {
    "duration": 5,
    "start_time": "2022-03-30T14:03:32.747Z"
   },
   {
    "duration": 19,
    "start_time": "2022-03-30T14:03:32.753Z"
   },
   {
    "duration": 16,
    "start_time": "2022-03-30T14:03:32.803Z"
   },
   {
    "duration": 7,
    "start_time": "2022-03-30T14:03:32.821Z"
   },
   {
    "duration": 8,
    "start_time": "2022-03-30T14:03:32.829Z"
   },
   {
    "duration": 17,
    "start_time": "2022-03-30T14:03:32.838Z"
   },
   {
    "duration": 8,
    "start_time": "2022-03-30T14:03:32.857Z"
   },
   {
    "duration": 24,
    "start_time": "2022-03-30T14:03:32.867Z"
   },
   {
    "duration": 21,
    "start_time": "2022-03-30T14:03:32.893Z"
   },
   {
    "duration": 286,
    "start_time": "2022-03-30T14:03:32.916Z"
   },
   {
    "duration": 246,
    "start_time": "2022-03-30T14:03:33.205Z"
   },
   {
    "duration": 27,
    "start_time": "2022-03-30T14:03:33.453Z"
   },
   {
    "duration": 21,
    "start_time": "2022-03-30T14:03:33.483Z"
   },
   {
    "duration": 25,
    "start_time": "2022-03-30T14:03:33.506Z"
   },
   {
    "duration": 5,
    "start_time": "2022-03-30T14:03:33.534Z"
   },
   {
    "duration": 14,
    "start_time": "2022-03-30T14:03:33.542Z"
   },
   {
    "duration": 43,
    "start_time": "2022-03-30T14:03:33.558Z"
   },
   {
    "duration": 103,
    "start_time": "2022-03-30T14:03:33.603Z"
   },
   {
    "duration": 4,
    "start_time": "2022-03-30T14:03:33.709Z"
   },
   {
    "duration": 22,
    "start_time": "2022-03-30T14:03:33.715Z"
   },
   {
    "duration": 107,
    "start_time": "2022-03-30T14:03:33.741Z"
   },
   {
    "duration": 132,
    "start_time": "2022-03-30T14:05:11.519Z"
   },
   {
    "duration": 137,
    "start_time": "2022-03-30T14:05:29.679Z"
   },
   {
    "duration": 1321,
    "start_time": "2022-03-30T14:10:07.646Z"
   },
   {
    "duration": 74,
    "start_time": "2022-03-30T14:10:08.970Z"
   },
   {
    "duration": 5,
    "start_time": "2022-03-30T14:10:09.046Z"
   },
   {
    "duration": 20,
    "start_time": "2022-03-30T14:10:09.054Z"
   },
   {
    "duration": 16,
    "start_time": "2022-03-30T14:10:09.076Z"
   },
   {
    "duration": 24,
    "start_time": "2022-03-30T14:10:09.094Z"
   },
   {
    "duration": 18,
    "start_time": "2022-03-30T14:10:09.121Z"
   },
   {
    "duration": 14,
    "start_time": "2022-03-30T14:10:09.141Z"
   },
   {
    "duration": 28,
    "start_time": "2022-03-30T14:10:09.158Z"
   },
   {
    "duration": 23,
    "start_time": "2022-03-30T14:10:09.190Z"
   },
   {
    "duration": 8,
    "start_time": "2022-03-30T14:10:09.215Z"
   },
   {
    "duration": 14,
    "start_time": "2022-03-30T14:10:09.225Z"
   },
   {
    "duration": 18,
    "start_time": "2022-03-30T14:10:09.240Z"
   },
   {
    "duration": 3,
    "start_time": "2022-03-30T14:10:09.260Z"
   },
   {
    "duration": 37,
    "start_time": "2022-03-30T14:10:09.265Z"
   },
   {
    "duration": 9,
    "start_time": "2022-03-30T14:10:09.303Z"
   },
   {
    "duration": 191,
    "start_time": "2022-03-30T14:10:09.314Z"
   },
   {
    "duration": 284,
    "start_time": "2022-03-30T14:10:09.507Z"
   },
   {
    "duration": 18,
    "start_time": "2022-03-30T14:10:09.802Z"
   },
   {
    "duration": 4,
    "start_time": "2022-03-30T14:10:09.822Z"
   },
   {
    "duration": 20,
    "start_time": "2022-03-30T14:10:09.828Z"
   },
   {
    "duration": 4,
    "start_time": "2022-03-30T14:10:09.850Z"
   },
   {
    "duration": 11,
    "start_time": "2022-03-30T14:10:09.856Z"
   },
   {
    "duration": 52,
    "start_time": "2022-03-30T14:10:09.868Z"
   },
   {
    "duration": 99,
    "start_time": "2022-03-30T14:10:09.922Z"
   },
   {
    "duration": 3,
    "start_time": "2022-03-30T14:10:10.023Z"
   },
   {
    "duration": 10,
    "start_time": "2022-03-30T14:10:10.028Z"
   },
   {
    "duration": 24,
    "start_time": "2022-03-30T14:10:10.041Z"
   },
   {
    "duration": 14,
    "start_time": "2022-03-30T14:19:44.077Z"
   },
   {
    "duration": 19,
    "start_time": "2022-03-30T14:19:52.151Z"
   },
   {
    "duration": 1308,
    "start_time": "2022-03-30T14:23:35.077Z"
   },
   {
    "duration": 45,
    "start_time": "2022-03-30T14:23:36.387Z"
   },
   {
    "duration": 3,
    "start_time": "2022-03-30T14:23:36.434Z"
   },
   {
    "duration": 15,
    "start_time": "2022-03-30T14:23:36.438Z"
   },
   {
    "duration": 16,
    "start_time": "2022-03-30T14:23:36.455Z"
   },
   {
    "duration": 25,
    "start_time": "2022-03-30T14:23:36.473Z"
   },
   {
    "duration": 16,
    "start_time": "2022-03-30T14:23:36.499Z"
   },
   {
    "duration": 26,
    "start_time": "2022-03-30T14:23:36.516Z"
   },
   {
    "duration": 26,
    "start_time": "2022-03-30T14:23:36.544Z"
   },
   {
    "duration": 24,
    "start_time": "2022-03-30T14:23:36.572Z"
   },
   {
    "duration": 22,
    "start_time": "2022-03-30T14:23:36.598Z"
   },
   {
    "duration": 14,
    "start_time": "2022-03-30T14:23:36.622Z"
   },
   {
    "duration": 15,
    "start_time": "2022-03-30T14:23:36.638Z"
   },
   {
    "duration": 20,
    "start_time": "2022-03-30T14:23:36.656Z"
   },
   {
    "duration": 27,
    "start_time": "2022-03-30T14:23:36.678Z"
   },
   {
    "duration": 10,
    "start_time": "2022-03-30T14:23:36.707Z"
   },
   {
    "duration": 185,
    "start_time": "2022-03-30T14:23:36.719Z"
   },
   {
    "duration": 311,
    "start_time": "2022-03-30T14:23:36.906Z"
   },
   {
    "duration": 25,
    "start_time": "2022-03-30T14:23:37.219Z"
   },
   {
    "duration": 13,
    "start_time": "2022-03-30T14:23:37.246Z"
   },
   {
    "duration": 49,
    "start_time": "2022-03-30T14:23:37.261Z"
   },
   {
    "duration": 5,
    "start_time": "2022-03-30T14:23:37.312Z"
   },
   {
    "duration": 35,
    "start_time": "2022-03-30T14:23:37.319Z"
   },
   {
    "duration": 53,
    "start_time": "2022-03-30T14:23:37.356Z"
   },
   {
    "duration": 101,
    "start_time": "2022-03-30T14:23:37.411Z"
   },
   {
    "duration": 4,
    "start_time": "2022-03-30T14:23:37.513Z"
   },
   {
    "duration": 27,
    "start_time": "2022-03-30T14:23:37.519Z"
   },
   {
    "duration": 151,
    "start_time": "2022-03-30T14:23:37.548Z"
   },
   {
    "duration": 86,
    "start_time": "2022-03-30T14:23:49.990Z"
   },
   {
    "duration": 1531,
    "start_time": "2022-03-30T14:26:24.498Z"
   },
   {
    "duration": 64,
    "start_time": "2022-03-30T14:26:26.032Z"
   },
   {
    "duration": 3,
    "start_time": "2022-03-30T14:26:26.099Z"
   },
   {
    "duration": 8,
    "start_time": "2022-03-30T14:26:26.105Z"
   },
   {
    "duration": 6,
    "start_time": "2022-03-30T14:26:26.115Z"
   },
   {
    "duration": 5,
    "start_time": "2022-03-30T14:26:26.123Z"
   },
   {
    "duration": 8,
    "start_time": "2022-03-30T14:26:26.130Z"
   },
   {
    "duration": 6,
    "start_time": "2022-03-30T14:26:26.139Z"
   },
   {
    "duration": 12,
    "start_time": "2022-03-30T14:26:26.146Z"
   },
   {
    "duration": 45,
    "start_time": "2022-03-30T14:26:26.161Z"
   },
   {
    "duration": 6,
    "start_time": "2022-03-30T14:26:26.208Z"
   },
   {
    "duration": 7,
    "start_time": "2022-03-30T14:26:26.217Z"
   },
   {
    "duration": 6,
    "start_time": "2022-03-30T14:26:26.226Z"
   },
   {
    "duration": 5,
    "start_time": "2022-03-30T14:26:26.234Z"
   },
   {
    "duration": 60,
    "start_time": "2022-03-30T14:26:26.241Z"
   },
   {
    "duration": 10,
    "start_time": "2022-03-30T14:26:26.303Z"
   },
   {
    "duration": 387,
    "start_time": "2022-03-30T14:26:26.314Z"
   },
   {
    "duration": 246,
    "start_time": "2022-03-30T14:26:26.703Z"
   },
   {
    "duration": 20,
    "start_time": "2022-03-30T14:26:26.951Z"
   },
   {
    "duration": 5,
    "start_time": "2022-03-30T14:26:26.973Z"
   },
   {
    "duration": 49,
    "start_time": "2022-03-30T14:26:26.979Z"
   },
   {
    "duration": 6,
    "start_time": "2022-03-30T14:26:27.030Z"
   },
   {
    "duration": 28,
    "start_time": "2022-03-30T14:26:27.038Z"
   },
   {
    "duration": 50,
    "start_time": "2022-03-30T14:26:27.069Z"
   },
   {
    "duration": 99,
    "start_time": "2022-03-30T14:26:27.120Z"
   },
   {
    "duration": 4,
    "start_time": "2022-03-30T14:26:27.220Z"
   },
   {
    "duration": 31,
    "start_time": "2022-03-30T14:26:27.226Z"
   },
   {
    "duration": 24,
    "start_time": "2022-03-30T14:26:27.260Z"
   },
   {
    "duration": 26,
    "start_time": "2022-03-30T14:26:27.286Z"
   },
   {
    "duration": 1209,
    "start_time": "2022-03-30T14:26:47.450Z"
   },
   {
    "duration": 45,
    "start_time": "2022-03-30T14:26:48.661Z"
   },
   {
    "duration": 2,
    "start_time": "2022-03-30T14:26:48.708Z"
   },
   {
    "duration": 8,
    "start_time": "2022-03-30T14:26:48.712Z"
   },
   {
    "duration": 4,
    "start_time": "2022-03-30T14:26:48.722Z"
   },
   {
    "duration": 5,
    "start_time": "2022-03-30T14:26:48.727Z"
   },
   {
    "duration": 9,
    "start_time": "2022-03-30T14:26:48.733Z"
   },
   {
    "duration": 4,
    "start_time": "2022-03-30T14:26:48.743Z"
   },
   {
    "duration": 13,
    "start_time": "2022-03-30T14:26:48.749Z"
   },
   {
    "duration": 10,
    "start_time": "2022-03-30T14:26:48.764Z"
   },
   {
    "duration": 25,
    "start_time": "2022-03-30T14:26:48.776Z"
   },
   {
    "duration": 5,
    "start_time": "2022-03-30T14:26:48.803Z"
   },
   {
    "duration": 8,
    "start_time": "2022-03-30T14:26:48.809Z"
   },
   {
    "duration": 7,
    "start_time": "2022-03-30T14:26:48.820Z"
   },
   {
    "duration": 24,
    "start_time": "2022-03-30T14:26:48.828Z"
   },
   {
    "duration": 8,
    "start_time": "2022-03-30T14:26:48.853Z"
   },
   {
    "duration": 147,
    "start_time": "2022-03-30T14:26:48.863Z"
   },
   {
    "duration": 305,
    "start_time": "2022-03-30T14:26:49.011Z"
   },
   {
    "duration": 17,
    "start_time": "2022-03-30T14:26:49.318Z"
   },
   {
    "duration": 5,
    "start_time": "2022-03-30T14:26:49.337Z"
   },
   {
    "duration": 21,
    "start_time": "2022-03-30T14:26:49.343Z"
   },
   {
    "duration": 3,
    "start_time": "2022-03-30T14:26:49.366Z"
   },
   {
    "duration": 31,
    "start_time": "2022-03-30T14:26:49.371Z"
   },
   {
    "duration": 22,
    "start_time": "2022-03-30T14:26:49.404Z"
   },
   {
    "duration": 99,
    "start_time": "2022-03-30T14:26:49.428Z"
   },
   {
    "duration": 3,
    "start_time": "2022-03-30T14:26:49.528Z"
   },
   {
    "duration": 8,
    "start_time": "2022-03-30T14:26:49.533Z"
   },
   {
    "duration": 19,
    "start_time": "2022-03-30T14:26:49.542Z"
   },
   {
    "duration": 7,
    "start_time": "2022-03-30T14:26:49.562Z"
   },
   {
    "duration": 1476,
    "start_time": "2022-03-30T14:30:31.881Z"
   },
   {
    "duration": 54,
    "start_time": "2022-03-30T14:30:33.359Z"
   },
   {
    "duration": 3,
    "start_time": "2022-03-30T14:30:33.415Z"
   },
   {
    "duration": 10,
    "start_time": "2022-03-30T14:30:33.419Z"
   },
   {
    "duration": 8,
    "start_time": "2022-03-30T14:30:33.430Z"
   },
   {
    "duration": 9,
    "start_time": "2022-03-30T14:30:33.439Z"
   },
   {
    "duration": 7,
    "start_time": "2022-03-30T14:30:33.450Z"
   },
   {
    "duration": 5,
    "start_time": "2022-03-30T14:30:33.458Z"
   },
   {
    "duration": 14,
    "start_time": "2022-03-30T14:30:33.464Z"
   },
   {
    "duration": 10,
    "start_time": "2022-03-30T14:30:33.480Z"
   },
   {
    "duration": 9,
    "start_time": "2022-03-30T14:30:33.492Z"
   },
   {
    "duration": 10,
    "start_time": "2022-03-30T14:30:33.502Z"
   },
   {
    "duration": 8,
    "start_time": "2022-03-30T14:30:33.513Z"
   },
   {
    "duration": 7,
    "start_time": "2022-03-30T14:30:33.522Z"
   },
   {
    "duration": 25,
    "start_time": "2022-03-30T14:30:33.531Z"
   },
   {
    "duration": 8,
    "start_time": "2022-03-30T14:30:33.557Z"
   },
   {
    "duration": 135,
    "start_time": "2022-03-30T14:30:33.567Z"
   },
   {
    "duration": 215,
    "start_time": "2022-03-30T14:30:33.705Z"
   },
   {
    "duration": 17,
    "start_time": "2022-03-30T14:30:33.921Z"
   },
   {
    "duration": 4,
    "start_time": "2022-03-30T14:30:33.940Z"
   },
   {
    "duration": 21,
    "start_time": "2022-03-30T14:30:33.946Z"
   },
   {
    "duration": 3,
    "start_time": "2022-03-30T14:30:33.969Z"
   },
   {
    "duration": 10,
    "start_time": "2022-03-30T14:30:33.974Z"
   },
   {
    "duration": 26,
    "start_time": "2022-03-30T14:30:33.986Z"
   },
   {
    "duration": 94,
    "start_time": "2022-03-30T14:30:34.014Z"
   },
   {
    "duration": 3,
    "start_time": "2022-03-30T14:30:34.110Z"
   },
   {
    "duration": 10,
    "start_time": "2022-03-30T14:30:34.115Z"
   },
   {
    "duration": 637,
    "start_time": "2022-03-30T14:30:34.129Z"
   },
   {
    "duration": 478,
    "start_time": "2022-03-30T14:31:00.625Z"
   },
   {
    "duration": 247,
    "start_time": "2022-03-30T14:32:44.800Z"
   },
   {
    "duration": 1239,
    "start_time": "2022-03-30T14:32:51.269Z"
   },
   {
    "duration": 48,
    "start_time": "2022-03-30T14:32:52.511Z"
   },
   {
    "duration": 4,
    "start_time": "2022-03-30T14:32:52.560Z"
   },
   {
    "duration": 6,
    "start_time": "2022-03-30T14:32:52.566Z"
   },
   {
    "duration": 5,
    "start_time": "2022-03-30T14:32:52.575Z"
   },
   {
    "duration": 5,
    "start_time": "2022-03-30T14:32:52.581Z"
   },
   {
    "duration": 7,
    "start_time": "2022-03-30T14:32:52.600Z"
   },
   {
    "duration": 5,
    "start_time": "2022-03-30T14:32:52.609Z"
   },
   {
    "duration": 13,
    "start_time": "2022-03-30T14:32:52.617Z"
   },
   {
    "duration": 14,
    "start_time": "2022-03-30T14:32:52.632Z"
   },
   {
    "duration": 12,
    "start_time": "2022-03-30T14:32:52.648Z"
   },
   {
    "duration": 9,
    "start_time": "2022-03-30T14:32:52.661Z"
   },
   {
    "duration": 32,
    "start_time": "2022-03-30T14:32:52.671Z"
   },
   {
    "duration": 3,
    "start_time": "2022-03-30T14:32:52.706Z"
   },
   {
    "duration": 25,
    "start_time": "2022-03-30T14:32:52.710Z"
   },
   {
    "duration": 8,
    "start_time": "2022-03-30T14:32:52.737Z"
   },
   {
    "duration": 257,
    "start_time": "2022-03-30T14:32:52.747Z"
   },
   {
    "duration": 271,
    "start_time": "2022-03-30T14:32:53.007Z"
   },
   {
    "duration": 21,
    "start_time": "2022-03-30T14:32:53.280Z"
   },
   {
    "duration": 5,
    "start_time": "2022-03-30T14:32:53.303Z"
   },
   {
    "duration": 27,
    "start_time": "2022-03-30T14:32:53.310Z"
   },
   {
    "duration": 4,
    "start_time": "2022-03-30T14:32:53.338Z"
   },
   {
    "duration": 25,
    "start_time": "2022-03-30T14:32:53.343Z"
   },
   {
    "duration": 32,
    "start_time": "2022-03-30T14:32:53.369Z"
   },
   {
    "duration": 84,
    "start_time": "2022-03-30T14:32:53.402Z"
   },
   {
    "duration": 4,
    "start_time": "2022-03-30T14:32:53.487Z"
   },
   {
    "duration": 14,
    "start_time": "2022-03-30T14:32:53.492Z"
   },
   {
    "duration": 259,
    "start_time": "2022-03-30T14:32:53.508Z"
   },
   {
    "duration": 245,
    "start_time": "2022-03-30T14:33:15.941Z"
   },
   {
    "duration": 1292,
    "start_time": "2022-03-30T14:37:40.686Z"
   },
   {
    "duration": 54,
    "start_time": "2022-03-30T14:37:41.980Z"
   },
   {
    "duration": 2,
    "start_time": "2022-03-30T14:37:42.036Z"
   },
   {
    "duration": 7,
    "start_time": "2022-03-30T14:37:42.040Z"
   },
   {
    "duration": 7,
    "start_time": "2022-03-30T14:37:42.048Z"
   },
   {
    "duration": 5,
    "start_time": "2022-03-30T14:37:42.056Z"
   },
   {
    "duration": 7,
    "start_time": "2022-03-30T14:37:42.063Z"
   },
   {
    "duration": 6,
    "start_time": "2022-03-30T14:37:42.072Z"
   },
   {
    "duration": 32,
    "start_time": "2022-03-30T14:37:42.079Z"
   },
   {
    "duration": 11,
    "start_time": "2022-03-30T14:37:42.114Z"
   },
   {
    "duration": 8,
    "start_time": "2022-03-30T14:37:42.126Z"
   },
   {
    "duration": 8,
    "start_time": "2022-03-30T14:37:42.136Z"
   },
   {
    "duration": 9,
    "start_time": "2022-03-30T14:37:42.145Z"
   },
   {
    "duration": 7,
    "start_time": "2022-03-30T14:37:42.156Z"
   },
   {
    "duration": 37,
    "start_time": "2022-03-30T14:37:42.165Z"
   },
   {
    "duration": 9,
    "start_time": "2022-03-30T14:37:42.205Z"
   },
   {
    "duration": 188,
    "start_time": "2022-03-30T14:37:42.216Z"
   },
   {
    "duration": 276,
    "start_time": "2022-03-30T14:37:42.406Z"
   },
   {
    "duration": 26,
    "start_time": "2022-03-30T14:37:42.684Z"
   },
   {
    "duration": 5,
    "start_time": "2022-03-30T14:37:42.711Z"
   },
   {
    "duration": 20,
    "start_time": "2022-03-30T14:37:42.718Z"
   },
   {
    "duration": 4,
    "start_time": "2022-03-30T14:37:42.740Z"
   },
   {
    "duration": 9,
    "start_time": "2022-03-30T14:37:42.746Z"
   },
   {
    "duration": 52,
    "start_time": "2022-03-30T14:37:42.756Z"
   },
   {
    "duration": 91,
    "start_time": "2022-03-30T14:37:42.810Z"
   },
   {
    "duration": 3,
    "start_time": "2022-03-30T14:37:42.903Z"
   },
   {
    "duration": 9,
    "start_time": "2022-03-30T14:37:42.909Z"
   },
   {
    "duration": 7,
    "start_time": "2022-03-30T14:37:42.921Z"
   },
   {
    "duration": 1412,
    "start_time": "2022-03-30T15:01:12.005Z"
   },
   {
    "duration": 48,
    "start_time": "2022-03-30T15:01:13.419Z"
   },
   {
    "duration": 3,
    "start_time": "2022-03-30T15:01:13.471Z"
   },
   {
    "duration": 8,
    "start_time": "2022-03-30T15:01:13.476Z"
   },
   {
    "duration": 6,
    "start_time": "2022-03-30T15:01:13.486Z"
   },
   {
    "duration": 13,
    "start_time": "2022-03-30T15:01:13.494Z"
   },
   {
    "duration": 8,
    "start_time": "2022-03-30T15:01:13.509Z"
   },
   {
    "duration": 5,
    "start_time": "2022-03-30T15:01:13.518Z"
   },
   {
    "duration": 12,
    "start_time": "2022-03-30T15:01:13.526Z"
   },
   {
    "duration": 11,
    "start_time": "2022-03-30T15:01:13.539Z"
   },
   {
    "duration": 9,
    "start_time": "2022-03-30T15:01:13.551Z"
   },
   {
    "duration": 9,
    "start_time": "2022-03-30T15:01:13.562Z"
   },
   {
    "duration": 33,
    "start_time": "2022-03-30T15:01:13.574Z"
   },
   {
    "duration": 7,
    "start_time": "2022-03-30T15:01:13.609Z"
   },
   {
    "duration": 26,
    "start_time": "2022-03-30T15:01:13.618Z"
   },
   {
    "duration": 14,
    "start_time": "2022-03-30T15:01:13.646Z"
   },
   {
    "duration": 338,
    "start_time": "2022-03-30T15:01:13.662Z"
   },
   {
    "duration": 269,
    "start_time": "2022-03-30T15:01:14.003Z"
   },
   {
    "duration": 35,
    "start_time": "2022-03-30T15:01:14.274Z"
   },
   {
    "duration": 6,
    "start_time": "2022-03-30T15:01:14.312Z"
   },
   {
    "duration": 30,
    "start_time": "2022-03-30T15:01:14.321Z"
   },
   {
    "duration": 6,
    "start_time": "2022-03-30T15:01:14.353Z"
   },
   {
    "duration": 11,
    "start_time": "2022-03-30T15:01:14.361Z"
   },
   {
    "duration": 49,
    "start_time": "2022-03-30T15:01:14.374Z"
   },
   {
    "duration": 132,
    "start_time": "2022-03-30T15:01:14.425Z"
   },
   {
    "duration": 4,
    "start_time": "2022-03-30T15:01:14.559Z"
   },
   {
    "duration": 12,
    "start_time": "2022-03-30T15:01:14.566Z"
   },
   {
    "duration": 5,
    "start_time": "2022-03-30T15:01:14.580Z"
   },
   {
    "duration": 1083,
    "start_time": "2022-03-31T08:27:22.561Z"
   },
   {
    "duration": 42,
    "start_time": "2022-03-31T08:27:23.646Z"
   },
   {
    "duration": 3,
    "start_time": "2022-03-31T08:27:23.689Z"
   },
   {
    "duration": 15,
    "start_time": "2022-03-31T08:27:23.694Z"
   },
   {
    "duration": 4,
    "start_time": "2022-03-31T08:27:23.711Z"
   },
   {
    "duration": 7,
    "start_time": "2022-03-31T08:27:23.717Z"
   },
   {
    "duration": 9,
    "start_time": "2022-03-31T08:27:23.726Z"
   },
   {
    "duration": 7,
    "start_time": "2022-03-31T08:27:23.736Z"
   },
   {
    "duration": 12,
    "start_time": "2022-03-31T08:27:23.745Z"
   },
   {
    "duration": 11,
    "start_time": "2022-03-31T08:27:23.759Z"
   },
   {
    "duration": 37,
    "start_time": "2022-03-31T08:27:23.772Z"
   },
   {
    "duration": 5,
    "start_time": "2022-03-31T08:27:23.811Z"
   },
   {
    "duration": 11,
    "start_time": "2022-03-31T08:27:23.818Z"
   },
   {
    "duration": 5,
    "start_time": "2022-03-31T08:27:23.832Z"
   },
   {
    "duration": 31,
    "start_time": "2022-03-31T08:27:23.838Z"
   },
   {
    "duration": 8,
    "start_time": "2022-03-31T08:27:23.870Z"
   },
   {
    "duration": 233,
    "start_time": "2022-03-31T08:27:23.879Z"
   },
   {
    "duration": 247,
    "start_time": "2022-03-31T08:27:24.114Z"
   },
   {
    "duration": 18,
    "start_time": "2022-03-31T08:27:24.362Z"
   },
   {
    "duration": 5,
    "start_time": "2022-03-31T08:27:24.381Z"
   },
   {
    "duration": 38,
    "start_time": "2022-03-31T08:27:24.387Z"
   },
   {
    "duration": 4,
    "start_time": "2022-03-31T08:27:24.426Z"
   },
   {
    "duration": 11,
    "start_time": "2022-03-31T08:27:24.431Z"
   },
   {
    "duration": 24,
    "start_time": "2022-03-31T08:27:24.443Z"
   },
   {
    "duration": 113,
    "start_time": "2022-03-31T08:27:24.469Z"
   },
   {
    "duration": 4,
    "start_time": "2022-03-31T08:27:24.583Z"
   },
   {
    "duration": 21,
    "start_time": "2022-03-31T08:27:24.588Z"
   },
   {
    "duration": 6,
    "start_time": "2022-03-31T08:27:24.611Z"
   },
   {
    "duration": 22,
    "start_time": "2022-03-31T08:27:24.619Z"
   },
   {
    "duration": 1091,
    "start_time": "2022-03-31T08:27:36.509Z"
   },
   {
    "duration": 39,
    "start_time": "2022-03-31T08:27:37.602Z"
   },
   {
    "duration": 3,
    "start_time": "2022-03-31T08:27:37.643Z"
   },
   {
    "duration": 6,
    "start_time": "2022-03-31T08:27:37.647Z"
   },
   {
    "duration": 5,
    "start_time": "2022-03-31T08:27:37.655Z"
   },
   {
    "duration": 6,
    "start_time": "2022-03-31T08:27:37.662Z"
   },
   {
    "duration": 8,
    "start_time": "2022-03-31T08:27:37.670Z"
   },
   {
    "duration": 6,
    "start_time": "2022-03-31T08:27:37.680Z"
   },
   {
    "duration": 24,
    "start_time": "2022-03-31T08:27:37.688Z"
   },
   {
    "duration": 10,
    "start_time": "2022-03-31T08:27:37.713Z"
   },
   {
    "duration": 7,
    "start_time": "2022-03-31T08:27:37.724Z"
   },
   {
    "duration": 6,
    "start_time": "2022-03-31T08:27:37.732Z"
   },
   {
    "duration": 12,
    "start_time": "2022-03-31T08:27:37.740Z"
   },
   {
    "duration": 4,
    "start_time": "2022-03-31T08:27:37.754Z"
   },
   {
    "duration": 30,
    "start_time": "2022-03-31T08:27:37.759Z"
   },
   {
    "duration": 23,
    "start_time": "2022-03-31T08:27:37.790Z"
   },
   {
    "duration": 298,
    "start_time": "2022-03-31T08:27:37.815Z"
   },
   {
    "duration": 306,
    "start_time": "2022-03-31T08:27:38.115Z"
   },
   {
    "duration": 18,
    "start_time": "2022-03-31T08:27:38.422Z"
   },
   {
    "duration": 5,
    "start_time": "2022-03-31T08:27:38.441Z"
   },
   {
    "duration": 21,
    "start_time": "2022-03-31T08:27:38.447Z"
   },
   {
    "duration": 4,
    "start_time": "2022-03-31T08:27:38.470Z"
   },
   {
    "duration": 10,
    "start_time": "2022-03-31T08:27:38.475Z"
   },
   {
    "duration": 23,
    "start_time": "2022-03-31T08:27:38.508Z"
   },
   {
    "duration": 104,
    "start_time": "2022-03-31T08:27:38.533Z"
   },
   {
    "duration": 3,
    "start_time": "2022-03-31T08:27:38.639Z"
   },
   {
    "duration": 9,
    "start_time": "2022-03-31T08:27:38.644Z"
   },
   {
    "duration": 7,
    "start_time": "2022-03-31T08:27:38.655Z"
   },
   {
    "duration": 50,
    "start_time": "2022-03-31T08:27:38.663Z"
   },
   {
    "duration": 1059,
    "start_time": "2022-03-31T08:35:48.402Z"
   },
   {
    "duration": 38,
    "start_time": "2022-03-31T08:35:49.463Z"
   },
   {
    "duration": 3,
    "start_time": "2022-03-31T08:35:49.503Z"
   },
   {
    "duration": 7,
    "start_time": "2022-03-31T08:35:49.507Z"
   },
   {
    "duration": 6,
    "start_time": "2022-03-31T08:35:49.517Z"
   },
   {
    "duration": 8,
    "start_time": "2022-03-31T08:35:49.524Z"
   },
   {
    "duration": 8,
    "start_time": "2022-03-31T08:35:49.533Z"
   },
   {
    "duration": 6,
    "start_time": "2022-03-31T08:35:49.542Z"
   },
   {
    "duration": 10,
    "start_time": "2022-03-31T08:35:49.549Z"
   },
   {
    "duration": 10,
    "start_time": "2022-03-31T08:35:49.560Z"
   },
   {
    "duration": 5,
    "start_time": "2022-03-31T08:35:49.572Z"
   },
   {
    "duration": 29,
    "start_time": "2022-03-31T08:35:49.579Z"
   },
   {
    "duration": 5,
    "start_time": "2022-03-31T08:35:49.610Z"
   },
   {
    "duration": 3,
    "start_time": "2022-03-31T08:35:49.618Z"
   },
   {
    "duration": 35,
    "start_time": "2022-03-31T08:35:49.622Z"
   },
   {
    "duration": 7,
    "start_time": "2022-03-31T08:35:49.658Z"
   },
   {
    "duration": 243,
    "start_time": "2022-03-31T08:35:49.667Z"
   },
   {
    "duration": 221,
    "start_time": "2022-03-31T08:35:49.913Z"
   },
   {
    "duration": 18,
    "start_time": "2022-03-31T08:35:50.136Z"
   },
   {
    "duration": 4,
    "start_time": "2022-03-31T08:35:50.156Z"
   },
   {
    "duration": 21,
    "start_time": "2022-03-31T08:35:50.161Z"
   },
   {
    "duration": 3,
    "start_time": "2022-03-31T08:35:50.183Z"
   },
   {
    "duration": 9,
    "start_time": "2022-03-31T08:35:50.208Z"
   },
   {
    "duration": 23,
    "start_time": "2022-03-31T08:35:50.218Z"
   },
   {
    "duration": 111,
    "start_time": "2022-03-31T08:35:50.242Z"
   },
   {
    "duration": 3,
    "start_time": "2022-03-31T08:35:50.355Z"
   },
   {
    "duration": 9,
    "start_time": "2022-03-31T08:35:50.360Z"
   },
   {
    "duration": 7,
    "start_time": "2022-03-31T08:35:50.370Z"
   },
   {
    "duration": 46,
    "start_time": "2022-03-31T08:35:50.378Z"
   },
   {
    "duration": 6,
    "start_time": "2022-03-31T08:35:50.426Z"
   },
   {
    "duration": 1143,
    "start_time": "2022-03-31T08:37:02.040Z"
   },
   {
    "duration": 44,
    "start_time": "2022-03-31T08:37:03.185Z"
   },
   {
    "duration": 3,
    "start_time": "2022-03-31T08:37:03.231Z"
   },
   {
    "duration": 8,
    "start_time": "2022-03-31T08:37:03.236Z"
   },
   {
    "duration": 6,
    "start_time": "2022-03-31T08:37:03.246Z"
   },
   {
    "duration": 6,
    "start_time": "2022-03-31T08:37:03.254Z"
   },
   {
    "duration": 10,
    "start_time": "2022-03-31T08:37:03.261Z"
   },
   {
    "duration": 5,
    "start_time": "2022-03-31T08:37:03.272Z"
   },
   {
    "duration": 34,
    "start_time": "2022-03-31T08:37:03.279Z"
   },
   {
    "duration": 12,
    "start_time": "2022-03-31T08:37:03.316Z"
   },
   {
    "duration": 6,
    "start_time": "2022-03-31T08:37:03.331Z"
   },
   {
    "duration": 8,
    "start_time": "2022-03-31T08:37:03.338Z"
   },
   {
    "duration": 7,
    "start_time": "2022-03-31T08:37:03.348Z"
   },
   {
    "duration": 11,
    "start_time": "2022-03-31T08:37:03.357Z"
   },
   {
    "duration": 51,
    "start_time": "2022-03-31T08:37:03.370Z"
   },
   {
    "duration": 9,
    "start_time": "2022-03-31T08:37:03.422Z"
   },
   {
    "duration": 187,
    "start_time": "2022-03-31T08:37:03.433Z"
   },
   {
    "duration": 230,
    "start_time": "2022-03-31T08:37:03.709Z"
   },
   {
    "duration": 19,
    "start_time": "2022-03-31T08:37:03.941Z"
   },
   {
    "duration": 5,
    "start_time": "2022-03-31T08:37:03.961Z"
   },
   {
    "duration": 42,
    "start_time": "2022-03-31T08:37:03.967Z"
   },
   {
    "duration": 3,
    "start_time": "2022-03-31T08:37:04.011Z"
   },
   {
    "duration": 12,
    "start_time": "2022-03-31T08:37:04.016Z"
   },
   {
    "duration": 25,
    "start_time": "2022-03-31T08:37:04.030Z"
   },
   {
    "duration": 122,
    "start_time": "2022-03-31T08:37:04.056Z"
   },
   {
    "duration": 3,
    "start_time": "2022-03-31T08:37:04.180Z"
   },
   {
    "duration": 9,
    "start_time": "2022-03-31T08:37:04.184Z"
   },
   {
    "duration": 6,
    "start_time": "2022-03-31T08:37:04.208Z"
   },
   {
    "duration": 25,
    "start_time": "2022-03-31T08:37:04.216Z"
   },
   {
    "duration": 8,
    "start_time": "2022-03-31T08:37:04.243Z"
   },
   {
    "duration": 1186,
    "start_time": "2022-03-31T08:38:13.187Z"
   },
   {
    "duration": 43,
    "start_time": "2022-03-31T08:38:14.374Z"
   },
   {
    "duration": 3,
    "start_time": "2022-03-31T08:38:14.418Z"
   },
   {
    "duration": 11,
    "start_time": "2022-03-31T08:38:14.423Z"
   },
   {
    "duration": 5,
    "start_time": "2022-03-31T08:38:14.436Z"
   },
   {
    "duration": 15,
    "start_time": "2022-03-31T08:38:14.442Z"
   },
   {
    "duration": 11,
    "start_time": "2022-03-31T08:38:14.459Z"
   },
   {
    "duration": 5,
    "start_time": "2022-03-31T08:38:14.472Z"
   },
   {
    "duration": 16,
    "start_time": "2022-03-31T08:38:14.478Z"
   },
   {
    "duration": 11,
    "start_time": "2022-03-31T08:38:14.509Z"
   },
   {
    "duration": 6,
    "start_time": "2022-03-31T08:38:14.522Z"
   },
   {
    "duration": 6,
    "start_time": "2022-03-31T08:38:14.530Z"
   },
   {
    "duration": 6,
    "start_time": "2022-03-31T08:38:14.537Z"
   },
   {
    "duration": 3,
    "start_time": "2022-03-31T08:38:14.546Z"
   },
   {
    "duration": 31,
    "start_time": "2022-03-31T08:38:14.550Z"
   },
   {
    "duration": 33,
    "start_time": "2022-03-31T08:38:14.582Z"
   },
   {
    "duration": 494,
    "start_time": "2022-03-31T08:38:14.617Z"
   },
   {
    "duration": 219,
    "start_time": "2022-03-31T08:38:15.114Z"
   },
   {
    "duration": 18,
    "start_time": "2022-03-31T08:38:15.335Z"
   },
   {
    "duration": 5,
    "start_time": "2022-03-31T08:38:15.354Z"
   },
   {
    "duration": 21,
    "start_time": "2022-03-31T08:38:15.361Z"
   },
   {
    "duration": 26,
    "start_time": "2022-03-31T08:38:15.384Z"
   },
   {
    "duration": 17,
    "start_time": "2022-03-31T08:38:15.411Z"
   },
   {
    "duration": 23,
    "start_time": "2022-03-31T08:38:15.429Z"
   },
   {
    "duration": 105,
    "start_time": "2022-03-31T08:38:15.454Z"
   },
   {
    "duration": 3,
    "start_time": "2022-03-31T08:38:15.561Z"
   },
   {
    "duration": 11,
    "start_time": "2022-03-31T08:38:15.566Z"
   },
   {
    "duration": 7,
    "start_time": "2022-03-31T08:38:15.579Z"
   },
   {
    "duration": 44,
    "start_time": "2022-03-31T08:38:15.588Z"
   },
   {
    "duration": 7,
    "start_time": "2022-03-31T08:38:15.634Z"
   },
   {
    "duration": 1528,
    "start_time": "2022-04-01T07:04:40.655Z"
   },
   {
    "duration": 61,
    "start_time": "2022-04-01T07:04:42.186Z"
   },
   {
    "duration": 4,
    "start_time": "2022-04-01T07:04:42.249Z"
   },
   {
    "duration": 7,
    "start_time": "2022-04-01T07:04:42.268Z"
   },
   {
    "duration": 25,
    "start_time": "2022-04-01T07:04:42.277Z"
   },
   {
    "duration": 18,
    "start_time": "2022-04-01T07:04:42.305Z"
   },
   {
    "duration": 25,
    "start_time": "2022-04-01T07:04:42.326Z"
   },
   {
    "duration": 18,
    "start_time": "2022-04-01T07:04:42.354Z"
   },
   {
    "duration": 38,
    "start_time": "2022-04-01T07:04:42.374Z"
   },
   {
    "duration": 17,
    "start_time": "2022-04-01T07:04:42.418Z"
   },
   {
    "duration": 16,
    "start_time": "2022-04-01T07:04:42.439Z"
   },
   {
    "duration": 16,
    "start_time": "2022-04-01T07:04:42.457Z"
   },
   {
    "duration": 19,
    "start_time": "2022-04-01T07:04:42.475Z"
   },
   {
    "duration": 16,
    "start_time": "2022-04-01T07:04:42.496Z"
   },
   {
    "duration": 50,
    "start_time": "2022-04-01T07:04:42.513Z"
   },
   {
    "duration": 12,
    "start_time": "2022-04-01T07:04:42.565Z"
   },
   {
    "duration": 290,
    "start_time": "2022-04-01T07:04:42.579Z"
   },
   {
    "duration": 256,
    "start_time": "2022-04-01T07:04:42.873Z"
   },
   {
    "duration": 36,
    "start_time": "2022-04-01T07:04:43.132Z"
   },
   {
    "duration": 10,
    "start_time": "2022-04-01T07:04:43.170Z"
   },
   {
    "duration": 41,
    "start_time": "2022-04-01T07:04:43.181Z"
   },
   {
    "duration": 6,
    "start_time": "2022-04-01T07:04:43.224Z"
   },
   {
    "duration": 36,
    "start_time": "2022-04-01T07:04:43.232Z"
   },
   {
    "duration": 39,
    "start_time": "2022-04-01T07:04:43.270Z"
   },
   {
    "duration": 146,
    "start_time": "2022-04-01T07:04:43.311Z"
   },
   {
    "duration": 9,
    "start_time": "2022-04-01T07:04:43.459Z"
   },
   {
    "duration": 36,
    "start_time": "2022-04-01T07:04:43.471Z"
   },
   {
    "duration": 25,
    "start_time": "2022-04-01T07:04:43.512Z"
   },
   {
    "duration": 56,
    "start_time": "2022-04-01T07:04:43.540Z"
   },
   {
    "duration": 14,
    "start_time": "2022-04-01T07:04:43.598Z"
   },
   {
    "duration": 2110,
    "start_time": "2022-04-01T07:06:25.127Z"
   },
   {
    "duration": 58,
    "start_time": "2022-04-01T07:06:27.239Z"
   },
   {
    "duration": 4,
    "start_time": "2022-04-01T07:06:27.299Z"
   },
   {
    "duration": 20,
    "start_time": "2022-04-01T07:06:27.306Z"
   },
   {
    "duration": 26,
    "start_time": "2022-04-01T07:06:27.328Z"
   },
   {
    "duration": 48,
    "start_time": "2022-04-01T07:06:27.356Z"
   },
   {
    "duration": 67,
    "start_time": "2022-04-01T07:06:27.406Z"
   },
   {
    "duration": 37,
    "start_time": "2022-04-01T07:06:27.475Z"
   },
   {
    "duration": 20,
    "start_time": "2022-04-01T07:06:27.514Z"
   },
   {
    "duration": 19,
    "start_time": "2022-04-01T07:06:27.538Z"
   },
   {
    "duration": 10,
    "start_time": "2022-04-01T07:06:27.560Z"
   },
   {
    "duration": 11,
    "start_time": "2022-04-01T07:06:27.572Z"
   },
   {
    "duration": 8,
    "start_time": "2022-04-01T07:06:27.585Z"
   },
   {
    "duration": 8,
    "start_time": "2022-04-01T07:06:27.596Z"
   },
   {
    "duration": 60,
    "start_time": "2022-04-01T07:06:27.607Z"
   },
   {
    "duration": 14,
    "start_time": "2022-04-01T07:06:27.669Z"
   },
   {
    "duration": 682,
    "start_time": "2022-04-01T07:06:27.687Z"
   },
   {
    "duration": 311,
    "start_time": "2022-04-01T07:06:28.373Z"
   },
   {
    "duration": 25,
    "start_time": "2022-04-01T07:06:28.687Z"
   },
   {
    "duration": 7,
    "start_time": "2022-04-01T07:06:28.713Z"
   },
   {
    "duration": 58,
    "start_time": "2022-04-01T07:06:28.722Z"
   },
   {
    "duration": 6,
    "start_time": "2022-04-01T07:06:28.782Z"
   },
   {
    "duration": 20,
    "start_time": "2022-04-01T07:06:28.790Z"
   },
   {
    "duration": 56,
    "start_time": "2022-04-01T07:06:28.812Z"
   },
   {
    "duration": 146,
    "start_time": "2022-04-01T07:06:28.871Z"
   },
   {
    "duration": 6,
    "start_time": "2022-04-01T07:06:29.019Z"
   },
   {
    "duration": 28,
    "start_time": "2022-04-01T07:06:29.028Z"
   },
   {
    "duration": 16,
    "start_time": "2022-04-01T07:06:29.062Z"
   },
   {
    "duration": 48,
    "start_time": "2022-04-01T07:06:29.081Z"
   },
   {
    "duration": 11,
    "start_time": "2022-04-01T07:06:29.132Z"
   }
  ],
  "kernelspec": {
   "display_name": "Python 3 (ipykernel)",
   "language": "python",
   "name": "python3"
  },
  "language_info": {
   "codemirror_mode": {
    "name": "ipython",
    "version": 3
   },
   "file_extension": ".py",
   "mimetype": "text/x-python",
   "name": "python",
   "nbconvert_exporter": "python",
   "pygments_lexer": "ipython3",
   "version": "3.9.13"
  },
  "toc": {
   "base_numbering": 1,
   "nav_menu": {
    "height": "180px",
    "width": "217px"
   },
   "number_sections": true,
   "sideBar": true,
   "skip_h1_title": true,
   "title_cell": "Содержание",
   "title_sidebar": "Contents",
   "toc_cell": true,
   "toc_position": {
    "height": "calc(100% - 180px)",
    "left": "10px",
    "top": "150px",
    "width": "262px"
   },
   "toc_section_display": true,
   "toc_window_display": false
  }
 },
 "nbformat": 4,
 "nbformat_minor": 2
}
