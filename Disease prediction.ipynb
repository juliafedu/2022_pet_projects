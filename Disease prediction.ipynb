{
 "cells": [
  {
   "cell_type": "markdown",
   "id": "Kg2ticNK7IkT",
   "metadata": {
    "id": "Kg2ticNK7IkT"
   },
   "source": [
    "# CV-DISEASE PREDICTION"
   ]
  },
  {
   "cell_type": "markdown",
   "id": "bljOKMxW7vIx",
   "metadata": {
    "id": "bljOKMxW7vIx"
   },
   "source": [
    "Heart disease remains the number-one killer in the world. **The task is to predict the presence or absence of cardiovascular disease using the patient examination results.**"
   ]
  },
  {
   "cell_type": "markdown",
   "id": "1295a600",
   "metadata": {},
   "source": [
    "## Results"
   ]
  },
  {
   "cell_type": "markdown",
   "id": "baaf3b2c",
   "metadata": {},
   "source": [
    "ROC AUC = 0.803 https://www.kaggle.com/competitions/yap6-heart-diseases-predictions/leaderboard"
   ]
  },
  {
   "cell_type": "code",
   "execution_count": 1,
   "id": "OxwxfUta4tzk",
   "metadata": {
    "colab": {
     "base_uri": "https://localhost:8080/"
    },
    "executionInfo": {
     "elapsed": 2377,
     "status": "ok",
     "timestamp": 1655739570001,
     "user": {
      "displayName": "Julia Fedurova",
      "userId": "06389464721626605031"
     },
     "user_tz": -180
    },
    "id": "OxwxfUta4tzk",
    "outputId": "e3f1257b-00e7-4700-f362-e847edcd5749"
   },
   "outputs": [
    {
     "name": "stdout",
     "output_type": "stream",
     "text": [
      "Drive already mounted at /content/drive; to attempt to forcibly remount, call drive.mount(\"/content/drive\", force_remount=True).\n"
     ]
    }
   ],
   "source": [
    "from google.colab import drive\n",
    "drive.mount('/content/drive')"
   ]
  },
  {
   "cell_type": "code",
   "execution_count": 2,
   "id": "sNLq_7LBn8ME",
   "metadata": {
    "colab": {
     "base_uri": "https://localhost:8080/"
    },
    "executionInfo": {
     "elapsed": 6244,
     "status": "ok",
     "timestamp": 1655739576239,
     "user": {
      "displayName": "Julia Fedurova",
      "userId": "06389464721626605031"
     },
     "user_tz": -180
    },
    "id": "sNLq_7LBn8ME",
    "outputId": "6c8b4f50-4bdc-444b-cdfa-b06092ca6256"
   },
   "outputs": [
    {
     "name": "stdout",
     "output_type": "stream",
     "text": [
      "Looking in indexes: https://pypi.org/simple, https://us-python.pkg.dev/colab-wheels/public/simple/\n",
      "Requirement already satisfied: mlens in /usr/local/lib/python3.7/dist-packages (0.2.3)\n",
      "Requirement already satisfied: numpy>=1.11 in /usr/local/lib/python3.7/dist-packages (from mlens) (1.21.6)\n",
      "Requirement already satisfied: scipy>=0.17 in /usr/local/lib/python3.7/dist-packages (from mlens) (1.4.1)\n"
     ]
    }
   ],
   "source": [
    "pip install mlens"
   ]
  },
  {
   "cell_type": "code",
   "execution_count": 3,
   "id": "5271ee9b-cd4a-4565-8d4a-fac938ce463f",
   "metadata": {
    "colab": {
     "base_uri": "https://localhost:8080/"
    },
    "executionInfo": {
     "elapsed": 1529,
     "status": "ok",
     "timestamp": 1655739577762,
     "user": {
      "displayName": "Julia Fedurova",
      "userId": "06389464721626605031"
     },
     "user_tz": -180
    },
    "id": "5271ee9b-cd4a-4565-8d4a-fac938ce463f",
    "outputId": "6ac2b65f-0309-4d36-fafb-7f7065c08aea"
   },
   "outputs": [
    {
     "name": "stderr",
     "output_type": "stream",
     "text": [
      "[MLENS] backend: threading\n"
     ]
    }
   ],
   "source": [
    "import numpy as np\n",
    "import pandas as pd\n",
    "from pandas import set_option\n",
    "import matplotlib.pyplot as plt\n",
    "import seaborn as sns\n",
    "from matplotlib.pyplot import figure\n",
    "\n",
    "from sklearn.model_selection import train_test_split, GridSearchCV, KFold, StratifiedKFold, cross_val_score\n",
    "from sklearn.inspection import permutation_importance\n",
    "from sklearn.preprocessing import MinMaxScaler, LabelEncoder\n",
    "from sklearn.metrics import roc_auc_score\n",
    "from mlens.visualization import corrmat\n",
    "from sklearn.mixture import BayesianGaussianMixture\n",
    "from imblearn.over_sampling import RandomOverSampler\n",
    "from imblearn.under_sampling import RandomUnderSampler\n",
    "\n",
    "from xgboost import XGBClassifier\n",
    "from sklearn.linear_model import LogisticRegression, SGDClassifier\n",
    "from sklearn.neighbors import KNeighborsClassifier\n",
    "from sklearn.discriminant_analysis import LinearDiscriminantAnalysis\n",
    "from sklearn.naive_bayes import GaussianNB, BernoulliNB\n",
    "from sklearn.ensemble import AdaBoostClassifier, GradientBoostingClassifier, VotingClassifier, RandomForestClassifier, ExtraTreesClassifier\n",
    "from mlens.ensemble import SuperLearner\n",
    "from lightgbm import LGBMClassifier\n",
    "\n",
    "import warnings\n",
    "warnings.filterwarnings(\"ignore\")"
   ]
  },
  {
   "cell_type": "markdown",
   "id": "e9e04fb6-bae9-4d87-8266-f549d3222693",
   "metadata": {
    "id": "e9e04fb6-bae9-4d87-8266-f549d3222693"
   },
   "source": [
    "# Load data"
   ]
  },
  {
   "cell_type": "code",
   "execution_count": 4,
   "id": "a1a31b5a-29f3-43c3-a3d2-416cc2242f36",
   "metadata": {
    "executionInfo": {
     "elapsed": 293,
     "status": "ok",
     "timestamp": 1655739578049,
     "user": {
      "displayName": "Julia Fedurova",
      "userId": "06389464721626605031"
     },
     "user_tz": -180
    },
    "id": "a1a31b5a-29f3-43c3-a3d2-416cc2242f36",
    "tags": []
   },
   "outputs": [],
   "source": [
    "train = pd.read_csv(\"/content/drive/MyDrive/train.csv\", index_col=\"id\")"
   ]
  },
  {
   "cell_type": "code",
   "execution_count": 5,
   "id": "7f15a4be-cd7c-4385-bd0a-c879b8edb21f",
   "metadata": {
    "executionInfo": {
     "elapsed": 7,
     "status": "ok",
     "timestamp": 1655739578050,
     "user": {
      "displayName": "Julia Fedurova",
      "userId": "06389464721626605031"
     },
     "user_tz": -180
    },
    "id": "7f15a4be-cd7c-4385-bd0a-c879b8edb21f"
   },
   "outputs": [],
   "source": [
    "test = pd.read_csv(\"/content/drive/MyDrive/test.csv\", index_col=\"id\")"
   ]
  },
  {
   "cell_type": "markdown",
   "id": "8646b09d-d92d-4737-8c26-8ebbd05fa2b9",
   "metadata": {
    "id": "8646b09d-d92d-4737-8c26-8ebbd05fa2b9"
   },
   "source": [
    "# Preprocessing"
   ]
  },
  {
   "cell_type": "code",
   "execution_count": 6,
   "id": "51db15c2-075d-4224-a4ec-01733c810441",
   "metadata": {
    "executionInfo": {
     "elapsed": 6,
     "status": "ok",
     "timestamp": 1655739578050,
     "user": {
      "displayName": "Julia Fedurova",
      "userId": "06389464721626605031"
     },
     "user_tz": -180
    },
    "id": "51db15c2-075d-4224-a4ec-01733c810441"
   },
   "outputs": [],
   "source": [
    "test[\"gender\"] -= 1\n",
    "train[\"gender\"] -= 1"
   ]
  },
  {
   "cell_type": "code",
   "execution_count": 7,
   "id": "7bdb8ac6-a2aa-4d1a-a5ca-acc006051041",
   "metadata": {
    "executionInfo": {
     "elapsed": 8,
     "status": "ok",
     "timestamp": 1655739578052,
     "user": {
      "displayName": "Julia Fedurova",
      "userId": "06389464721626605031"
     },
     "user_tz": -180
    },
    "id": "7bdb8ac6-a2aa-4d1a-a5ca-acc006051041"
   },
   "outputs": [],
   "source": [
    "train[\"age\"] = train[\"age\"] / 365.25\n",
    "test[\"age\"] = test[\"age\"] / 365.25"
   ]
  },
  {
   "cell_type": "code",
   "execution_count": 8,
   "id": "7QpY06gwa_ti",
   "metadata": {
    "executionInfo": {
     "elapsed": 7,
     "status": "ok",
     "timestamp": 1655739578052,
     "user": {
      "displayName": "Julia Fedurova",
      "userId": "06389464721626605031"
     },
     "user_tz": -180
    },
    "id": "7QpY06gwa_ti"
   },
   "outputs": [],
   "source": [
    "def get_age_clusters():\n",
    "    gm = BayesianGaussianMixture(n_components=13, random_state=1, max_iter=500, tol=0.0001)\n",
    "    gm.fit(test.loc[test[\"age\"] > 36, [\"age\"]].append(train.loc[train[\"age\"] > 36, [\"age\"]]))\n",
    "    centers = np.sort(gm.means_[:, 0])\n",
    "    train[\"age\"].append(test[\"age\"])\n",
    "    bins = [20] + list(np.array([[a, (a + b)/2] for a, b in zip(centers, centers[1:])]).flatten()) + [centers[-1], 66]\n",
    "    return bins"
   ]
  },
  {
   "cell_type": "code",
   "execution_count": 9,
   "id": "a0MWN8HYnyz_",
   "metadata": {
    "executionInfo": {
     "elapsed": 32278,
     "status": "ok",
     "timestamp": 1655739610324,
     "user": {
      "displayName": "Julia Fedurova",
      "userId": "06389464721626605031"
     },
     "user_tz": -180
    },
    "id": "a0MWN8HYnyz_"
   },
   "outputs": [],
   "source": [
    "age_clusters = get_age_clusters()"
   ]
  },
  {
   "cell_type": "code",
   "execution_count": 10,
   "id": "z_Z-Ponkflly",
   "metadata": {
    "executionInfo": {
     "elapsed": 363,
     "status": "ok",
     "timestamp": 1655739610682,
     "user": {
      "displayName": "Julia Fedurova",
      "userId": "06389464721626605031"
     },
     "user_tz": -180
    },
    "id": "z_Z-Ponkflly"
   },
   "outputs": [],
   "source": [
    "def preprocess(train, test):\n",
    "    \n",
    "    # ARTERIAL PRESSURE \n",
    "    \n",
    "    train[\"ap_hi\"] = train[\"ap_hi\"].abs()\n",
    "    test[\"ap_hi\"] = test[\"ap_hi\"].abs()\n",
    "    train[\"ap_lo\"] = train[\"ap_lo\"].abs()\n",
    "    test[\"ap_lo\"] = test[\"ap_lo\"].abs()\n",
    "    train.drop(train.query(\"ap_hi < 10\").index, axis=0, inplace=True)\n",
    "    train.drop(train.query(\"ap_lo < 10\").index, axis=0, inplace=True)\n",
    "    train.loc[train[\"ap_hi\"] < 20, \"ap_hi\"] = train[\"ap_hi\"] + 10\n",
    "    train.loc[train[\"ap_lo\"] < 20, \"ap_lo\"] = train[\"ap_lo\"] * 10\n",
    "    train.loc[train[\"ap_hi\"] < 30, \"ap_hi\"] = train[\"ap_hi\"] + 100\n",
    "    train.loc[train[\"ap_lo\"] < 40, \"ap_lo\"] = train[\"ap_lo\"] + 10\n",
    "    train.loc[train[\"ap_lo\"] < 40, \"ap_lo\"] = train[\"ap_lo\"] + 10\n",
    "    train.loc[train[\"ap_hi\"] > 1000, \"ap_hi\"] = train[\"ap_hi\"] / 10\n",
    "    train.loc[train[\"ap_hi\"] > 1000, \"ap_hi\"] = train[\"ap_hi\"] / 10\n",
    "    train.loc[train[\"ap_lo\"] > 1000, \"ap_lo\"] = train[\"ap_lo\"] / 10\n",
    "    train.loc[train[\"ap_lo\"] > 1000, \"ap_lo\"] = train[\"ap_lo\"] / 10\n",
    "    train.loc[train[\"ap_lo\"] > 600, \"ap_lo\"] = train[\"ap_lo\"] / 10\n",
    "    train.loc[train[\"ap_lo\"] > 200, \"ap_lo\"] = 60\n",
    "    train.loc[train[\"ap_lo\"] == train[\"ap_hi\"], \"ap_hi\"] = 180\n",
    "    train[\"ap_lo_dubl\"] = train[\"ap_lo\"]\n",
    "    train[\"ap_hi_dubl\"] = train[\"ap_hi\"]\n",
    "    train.loc[train[\"ap_lo\"] > train[\"ap_hi\"], \"ap_lo\"] = train[\"ap_hi_dubl\"]\n",
    "    train.loc[train[\"ap_lo_dubl\"] > train[\"ap_hi\"], \"ap_hi\"] = train[\"ap_lo_dubl\"]\n",
    "    train.loc[train[\"ap_hi\"] < 85, \"ap_hi\"] = train[\"ap_hi\"] + 10\n",
    "    train.loc[train[\"ap_hi\"] > 900, \"ap_hi\"] = train[\"ap_hi\"] / 10\n",
    "    train.loc[train[\"ap_hi\"] > 500, \"ap_hi\"] = 170\n",
    "    train.loc[train[\"ap_hi\"] > 400, \"ap_hi\"] = 140\n",
    "    train.loc[train.index == 56048, \"ap_lo\"] = 100\n",
    "    train.loc[train.index == 50799, \"ap_lo\"] = 100\n",
    "    train.loc[train.index == 30014, \"ap_lo\"] = 75\n",
    "    train.loc[train.index == 30014, \"ap_lo\"] = 90\n",
    "    test.loc[test[\"ap_hi\"] < 10, \"ap_hi\"] = 140\n",
    "    test.loc[test[\"ap_lo\"] < 10, \"ap_lo\"] = test[\"ap_lo\"] * 10\n",
    "    test.loc[test[\"ap_lo\"] < 10, \"ap_lo\"] = 80\n",
    "    test.loc[test[\"ap_hi\"] < 20, \"ap_hi\"] = test[\"ap_hi\"] * 10\n",
    "    test.loc[test[\"ap_lo\"] < 19, \"ap_lo\"] = test[\"ap_lo\"] * 10\n",
    "    test[\"ap_hi_dubl\"] = test[\"ap_hi\"]\n",
    "    test.loc[test[\"ap_hi\"] < 80, \"ap_hi\"] = test[\"ap_lo\"]\n",
    "    test.loc[test[\"ap_hi\"] < 80, \"ap_hi\"] = test[\"ap_hi\"] + 100\n",
    "    test.loc[test[\"ap_hi_dubl\"] < 80, \"ap_lo\"] = test[\"ap_hi_dubl\"]\n",
    "    test.loc[test[\"ap_lo\"] < 49, \"ap_lo\"] = test[\"ap_lo\"] + 10\n",
    "    test.loc[test[\"ap_lo\"] < 49, \"ap_lo\"] = test[\"ap_lo\"] + 10\n",
    "    test.loc[test[\"ap_hi\"] > 1000, \"ap_hi\"] = test[\"ap_hi\"] / 10\n",
    "    test.loc[test[\"ap_hi\"] > 1000, \"ap_hi\"] = test[\"ap_hi\"] / 10\n",
    "    test.loc[test[\"ap_hi\"] > 300, \"ap_hi\"] = 100\n",
    "    test.loc[test[\"ap_lo\"] >= 1000, \"ap_lo\"] = test[\"ap_lo\"] / 10\n",
    "    test.loc[test[\"ap_lo\"] > 600, \"ap_lo\"] = test[\"ap_lo\"] / 10\n",
    "    test.loc[test[\"ap_lo\"] > 300, \"ap_lo\"] = 70\n",
    "    test[\"ap_lo_dubl\"] = test[\"ap_lo\"]\n",
    "    test.loc[test[\"ap_lo\"] > 140, \"ap_hi\"] = test[\"ap_lo\"]\n",
    "    test.loc[test[\"ap_lo_dubl\"] > 140, \"ap_lo\"] = test[\"ap_hi_dubl\"]\n",
    "    test.loc[test.index == 78488, \"ap_lo\"] = 150\n",
    "    test.loc[test.index == 78488, \"ap_hi\"] = 210\n",
    "    test.loc[test[\"ap_lo\"] == test[\"ap_hi\"], \"ap_hi\"] = 140\n",
    "    test.loc[test[\"ap_lo\"] > test[\"ap_hi\"], \"ap_hi\"] = test[\"ap_lo\"] \n",
    "    test.loc[test[\"ap_lo\"] == test[\"ap_hi\"], \"ap_lo\"] = test[\"ap_hi_dubl\"] \n",
    "    test.loc[test.index == 91106, \"ap_lo\"] = 90\n",
    "    test.loc[test.index == 94426, \"ap_lo\"] = 110\n",
    "\n",
    "    train.drop(\"ap_hi_dubl\", axis=1, inplace=True)\n",
    "    train.drop(\"ap_lo_dubl\", axis=1, inplace=True)\n",
    "    test.drop(\"ap_lo_dubl\", axis=1, inplace=True)\n",
    "    test.drop(\"ap_hi_dubl\", axis=1, inplace=True)\n",
    "\n",
    "    # HEIGHT AND WEIGHT\n",
    "\n",
    "    train.loc[train[\"height\"] < 100, \"height\"] = train[\"height\"] + 100\n",
    "    test.loc[test[\"height\"] < 100, \"height\"] = test[\"height\"] + 100\n",
    "    train.loc[train[\"height\"] < 140, \"height\"] = 140\n",
    "    test.loc[test[\"height\"] < 140, \"height\"] = 140\n",
    "    train.loc[train[\"height\"] == 250, \"height\"] = 150\n",
    "\n",
    "    train.loc[train[\"weight\"] <= 31, \"weight\"] = train[\"weight\"] + 100\n",
    "    test.loc[test[\"weight\"] < 40, \"weight\"] = 40\n",
    "    train.loc[train[\"weight\"] < 40, \"weight\"] = 40\n",
    "\n",
    "    # AGE\n",
    "\n",
    "    train[\"age\"] = (pd.cut(train[\"age\"], bins=age_clusters, labels=False) + 39)\n",
    "    test[\"age\"] = (pd.cut(test[\"age\"], bins=age_clusters, labels=False) + 39)    \n",
    "   \n",
    "    # FEATURE ENGINEERING\n",
    "\n",
    "    train[\"pp\"] = (train[\"ap_hi\"]/5 - train[\"ap_lo\"]/5).round()*5\n",
    "    test[\"pp\"] = (test[\"ap_hi\"]/5 - test[\"ap_lo\"]/5).round()*5\n",
    "\n",
    "    train[\"ap_hi\"], train[\"ap_lo\"] = (train[\"ap_hi\"]/5).round()*5, (train[\"ap_lo\"]/5).round()*5\n",
    "    test[\"ap_hi\"], test[\"ap_lo\"] = (test[\"ap_hi\"]/5).round()*5, (test[\"ap_lo\"]/5).round()*5\n",
    "    \n",
    "    return train, test"
   ]
  },
  {
   "cell_type": "code",
   "execution_count": 11,
   "id": "Mmy47Nwtyi6W",
   "metadata": {
    "executionInfo": {
     "elapsed": 363,
     "status": "ok",
     "timestamp": 1655739611274,
     "user": {
      "displayName": "Julia Fedurova",
      "userId": "06389464721626605031"
     },
     "user_tz": -180
    },
    "id": "Mmy47Nwtyi6W"
   },
   "outputs": [],
   "source": [
    "train, test = preprocess(train, test)"
   ]
  },
  {
   "cell_type": "code",
   "execution_count": 12,
   "id": "BPlt5q86Pn5Y",
   "metadata": {
    "executionInfo": {
     "elapsed": 7,
     "status": "ok",
     "timestamp": 1655739611275,
     "user": {
      "displayName": "Julia Fedurova",
      "userId": "06389464721626605031"
     },
     "user_tz": -180
    },
    "id": "BPlt5q86Pn5Y"
   },
   "outputs": [],
   "source": [
    "train = train.reset_index(drop=True)\n",
    "test = test.reset_index(drop=True)"
   ]
  },
  {
   "cell_type": "markdown",
   "id": "20781dc5-9567-448e-a39e-4c1b4d9aec98",
   "metadata": {
    "id": "20781dc5-9567-448e-a39e-4c1b4d9aec98",
    "tags": []
   },
   "source": [
    "# Exploratory data analysis"
   ]
  },
  {
   "cell_type": "code",
   "execution_count": 13,
   "id": "FNzgq_wFXXQG",
   "metadata": {
    "colab": {
     "base_uri": "https://localhost:8080/",
     "height": 460
    },
    "executionInfo": {
     "elapsed": 4682,
     "status": "ok",
     "timestamp": 1655739615951,
     "user": {
      "displayName": "Julia Fedurova",
      "userId": "06389464721626605031"
     },
     "user_tz": -180
    },
    "id": "FNzgq_wFXXQG",
    "outputId": "688aca28-e4f6-4e0a-cb55-e5678cb92beb"
   },
   "outputs": [
    {
     "data": {
      "text/plain": [
       "Text(0, 0.5, 'ap_hi')"
      ]
     },
     "execution_count": 13,
     "metadata": {},
     "output_type": "execute_result"
    },
    {
     "data": {
      "image/png": "[encoded data removed]",
      "text/plain": [
       "<Figure size 504x504 with 1 Axes>"
      ]
     },
     "metadata": {
      "needs_background": "light"
     },
     "output_type": "display_data"
    }
   ],
   "source": [
    "plt.figure(figsize=(7,7))\n",
    "plt.scatter(train[\"ap_lo\"], train[\"ap_hi\"], s=4, c=train[\"cardio\"], cmap=\"seismic\")\n",
    "plt.plot([50, 200], [50, 200], \"--\", linewidth=1, color=\"g\")\n",
    "plt.xlabel(\"ap_lo\")\n",
    "plt.ylabel(\"ap_hi\")"
   ]
  },
  {
   "cell_type": "markdown",
   "id": "31bb8092-854e-479d-8a92-0dc7642e48e3",
   "metadata": {
    "id": "31bb8092-854e-479d-8a92-0dc7642e48e3",
    "tags": []
   },
   "source": [
    "# Feature engineering"
   ]
  },
  {
   "cell_type": "markdown",
   "id": "fclHPQjmRIdp",
   "metadata": {
    "id": "fclHPQjmRIdp"
   },
   "source": [
    "- **Pulse pressure** tends to increase as you get older, and this number can also be an indicator of health problems before you develop symptoms."
   ]
  },
  {
   "cell_type": "markdown",
   "id": "i6G-_wFXRZvg",
   "metadata": {
    "id": "i6G-_wFXRZvg"
   },
   "source": [
    "- **Mean arterial pressure** is considered to be the perfusion pressure seen by organs in the body. So then high mean arterial pressur can cause CVD."
   ]
  },
  {
   "cell_type": "markdown",
   "id": "2NSDVTEgPYC_",
   "metadata": {
    "id": "2NSDVTEgPYC_"
   },
   "source": [
    "- Values of **blood pressure** can be classified by the Classification of office blood pressure and definitions of hypertension grade, published by European Society of Cardiology in 2019."
   ]
  },
  {
   "cell_type": "markdown",
   "id": "5178e125-785d-4eff-8f39-0ba3a13a0228",
   "metadata": {
    "id": "5178e125-785d-4eff-8f39-0ba3a13a0228"
   },
   "source": [
    "- For computing **BMI** I used the formula that was proposed by Nick Trefethen, Professor of numerical analysis at the University of Oxford."
   ]
  },
  {
   "cell_type": "markdown",
   "id": "02e5c205-3a15-45b2-ab62-cb8274a60a84",
   "metadata": {
    "id": "02e5c205-3a15-45b2-ab62-cb8274a60a84"
   },
   "source": [
    "- According to the International Journal of Obesity and Related Metabolic Disorders BMI may be converted into an estimate of **body fat percentage**."
   ]
  },
  {
   "cell_type": "markdown",
   "id": "TilmA82JhzRm",
   "metadata": {
    "id": "TilmA82JhzRm"
   },
   "source": [
    "- In 2006 Dr. Lemmens, Dr. Bernstein, and Dr. Brodsky discovered an equation that allows to predict **blood volume**. Changes in blood volume affect arterial pressure by changing cardiac output. An increase in blood volume increases arterial blood pressure. "
   ]
  },
  {
   "cell_type": "markdown",
   "id": "3Y4xSMyHm1Oy",
   "metadata": {
    "id": "3Y4xSMyHm1Oy"
   },
   "source": [
    "- According to the US National Institute of Health **diabetes** can cause CVD. High blood glucose from diabetes can damage your blood vessels and the nerves that control your heart and blood vessels. Over time, this damage can lead to heart disease. High cholesterol or glucose are signs of type 2 diabetes."
   ]
  },
  {
   "cell_type": "markdown",
   "id": "7ceb1ab6-8213-4a28-8bfb-4a60b650fc85",
   "metadata": {
    "id": "7ceb1ab6-8213-4a28-8bfb-4a60b650fc85"
   },
   "source": [
    "- In men, the risk profile of CDV increases linearly over time. Conversely, because estrogen has a beneficial effect on the cardiovascular system, women during the fertile age can be protected from atherosclerosis. However, after the **menopause** (mean age is 50) the incidence of stroke among women increases significantly."
   ]
  },
  {
   "cell_type": "code",
   "execution_count": 14,
   "id": "8lZXMdHF9nJh",
   "metadata": {
    "executionInfo": {
     "elapsed": 207,
     "status": "ok",
     "timestamp": 1655739642319,
     "user": {
      "displayName": "Julia Fedurova",
      "userId": "06389464721626605031"
     },
     "user_tz": -180
    },
    "id": "8lZXMdHF9nJh"
   },
   "outputs": [],
   "source": [
    "def bp_func(row):\n",
    "    s = row[\"ap_hi\"]\n",
    "    d = row[\"ap_lo\"]\n",
    "    if s >= 140 and d < 90:\n",
    "        return  1\n",
    "    if (s >= 140 or d >= 90) and (s <= 159 or d <=99):\n",
    "        return 1\n",
    "    if (s > 160 or d > 100) and (s <= 179 or d <= 109):\n",
    "        return 1\n",
    "    if s >= 180 or d >= 110:\n",
    "        return 1\n",
    "    return 0"
   ]
  },
  {
   "cell_type": "code",
   "execution_count": 15,
   "id": "b1f9627d-0362-4427-9994-f85cac2fafe7",
   "metadata": {
    "executionInfo": {
     "elapsed": 3,
     "status": "ok",
     "timestamp": 1655739643146,
     "user": {
      "displayName": "Julia Fedurova",
      "userId": "06389464721626605031"
     },
     "user_tz": -180
    },
    "id": "b1f9627d-0362-4427-9994-f85cac2fafe7"
   },
   "outputs": [],
   "source": [
    "def map_func(row):\n",
    "    mean_arterial_pressure = row[\"mean_arterial_pressure\"]\n",
    "    if mean_arterial_pressure < 92:\n",
    "        return 0\n",
    "    if mean_arterial_pressure >= 92 and mean_arterial_pressure < 97:\n",
    "        return 1\n",
    "    return 1"
   ]
  },
  {
   "cell_type": "code",
   "execution_count": 16,
   "id": "R4PMW-oZd20B",
   "metadata": {
    "executionInfo": {
     "elapsed": 6,
     "status": "ok",
     "timestamp": 1655739644126,
     "user": {
      "displayName": "Julia Fedurova",
      "userId": "06389464721626605031"
     },
     "user_tz": -180
    },
    "id": "R4PMW-oZd20B"
   },
   "outputs": [],
   "source": [
    "def blood_volume_func(row):\n",
    "    weight = row[\"weight\"]\n",
    "    bmi = row[\"bmi\"]\n",
    "    return (weight * 70) / ((bmi / 22) ** 0.5)"
   ]
  },
  {
   "cell_type": "code",
   "execution_count": 17,
   "id": "1d6b5bce-a485-454f-9c47-b3425afbbacd",
   "metadata": {
    "executionInfo": {
     "elapsed": 204,
     "status": "ok",
     "timestamp": 1655739645396,
     "user": {
      "displayName": "Julia Fedurova",
      "userId": "06389464721626605031"
     },
     "user_tz": -180
    },
    "id": "1d6b5bce-a485-454f-9c47-b3425afbbacd"
   },
   "outputs": [],
   "source": [
    "def bmi_func(row):\n",
    "    bmi = row[\"bmi\"]\n",
    "    if bmi < 27:\n",
    "        return 0\n",
    "    return 1"
   ]
  },
  {
   "cell_type": "code",
   "execution_count": 18,
   "id": "cd1e5ec6-5333-46ae-a603-bf6bf5b11eeb",
   "metadata": {
    "executionInfo": {
     "elapsed": 5,
     "status": "ok",
     "timestamp": 1655739646289,
     "user": {
      "displayName": "Julia Fedurova",
      "userId": "06389464721626605031"
     },
     "user_tz": -180
    },
    "id": "cd1e5ec6-5333-46ae-a603-bf6bf5b11eeb"
   },
   "outputs": [],
   "source": [
    "def bfp_func(row):\n",
    "    bfp = row[\"body_fat_percentage\"]\n",
    "    if bfp < 30:\n",
    "        return 0\n",
    "    return 1"
   ]
  },
  {
   "cell_type": "code",
   "execution_count": 19,
   "id": "91617dc2-d47b-4840-9b8a-dc4e020e54ed",
   "metadata": {
    "executionInfo": {
     "elapsed": 9,
     "status": "ok",
     "timestamp": 1655739646980,
     "user": {
      "displayName": "Julia Fedurova",
      "userId": "06389464721626605031"
     },
     "user_tz": -180
    },
    "id": "91617dc2-d47b-4840-9b8a-dc4e020e54ed"
   },
   "outputs": [],
   "source": [
    "def t2d_func(row):\n",
    "    gluc = row[\"gluc\"]\n",
    "    chol = row[\"cholesterol\"]\n",
    "    if gluc > 2 or chol > 2:\n",
    "        return 1\n",
    "    return 0"
   ]
  },
  {
   "cell_type": "code",
   "execution_count": 20,
   "id": "1xGw34TRZixc",
   "metadata": {
    "executionInfo": {
     "elapsed": 210,
     "status": "ok",
     "timestamp": 1655739648825,
     "user": {
      "displayName": "Julia Fedurova",
      "userId": "06389464721626605031"
     },
     "user_tz": -180
    },
    "id": "1xGw34TRZixc"
   },
   "outputs": [],
   "source": [
    "def chol_func(row):\n",
    "    chol = row[\"cholesterol\"]    \n",
    "    if chol > 1:\n",
    "        return \"high\"\n",
    "    return \"normal\""
   ]
  },
  {
   "cell_type": "code",
   "execution_count": 21,
   "id": "SXMfugENaodo",
   "metadata": {
    "executionInfo": {
     "elapsed": 4,
     "status": "ok",
     "timestamp": 1655739649526,
     "user": {
      "displayName": "Julia Fedurova",
      "userId": "06389464721626605031"
     },
     "user_tz": -180
    },
    "id": "SXMfugENaodo"
   },
   "outputs": [],
   "source": [
    "def gluc_func(row):\n",
    "    gluc = row[\"gluc\"]    \n",
    "    if gluc > 1:\n",
    "        return \"high\"\n",
    "    return \"normal\""
   ]
  },
  {
   "cell_type": "code",
   "execution_count": 22,
   "id": "w_4iH_fQT3S-",
   "metadata": {
    "executionInfo": {
     "elapsed": 4,
     "status": "ok",
     "timestamp": 1655739650362,
     "user": {
      "displayName": "Julia Fedurova",
      "userId": "06389464721626605031"
     },
     "user_tz": -180
    },
    "id": "w_4iH_fQT3S-"
   },
   "outputs": [],
   "source": [
    "def menopause_func(row):\n",
    "    male = row[\"gender\"]\n",
    "    age = row[\"age\"]\n",
    "    if male == False and age > 50:\n",
    "        return 1\n",
    "    return 0"
   ]
  },
  {
   "cell_type": "code",
   "execution_count": 23,
   "id": "XxUKGvm_jlKW",
   "metadata": {
    "executionInfo": {
     "elapsed": 336,
     "status": "ok",
     "timestamp": 1655739652877,
     "user": {
      "displayName": "Julia Fedurova",
      "userId": "06389464721626605031"
     },
     "user_tz": -180
    },
    "id": "XxUKGvm_jlKW"
   },
   "outputs": [],
   "source": [
    "def feature_engineering(train, test):\n",
    "\n",
    "    # ARTERIAL PRESSURE \n",
    "\n",
    "    train[\"bp_normal\"] = ((train[\"ap_hi\"].between(85, 125)) & (train[\"ap_lo\"].between(55, 85))).astype(\"int\")\n",
    "    test[\"bp_normal\"] = ((test[\"ap_hi\"].between(85, 125)) & (test[\"ap_lo\"].between(55, 85))).astype(\"int\")\n",
    "\n",
    "    train[\"cat_bp\"] = train.apply(bp_func, axis=1)\n",
    "    test[\"cat_bp\"] = test.apply(bp_func, axis=1)\n",
    "\n",
    "    train[\"alt_pp\"] = ((train[\"ap_hi\"] - train[\"ap_lo\"]) / train[\"ap_hi\"]) * 100\n",
    "    test[\"alt_pp\"] = ((test[\"ap_hi\"] - test[\"ap_lo\"]) / test[\"ap_hi\"]) * 100\n",
    "\n",
    "    train[\"mean_arterial_pressure\"] = train[\"ap_lo\"] + ((1/3) * (train[\"ap_hi\"] - train[\"ap_lo\"]))\n",
    "    test[\"mean_arterial_pressure\"] = test[\"ap_lo\"] + ((1/3) * (test[\"ap_hi\"] - test[\"ap_lo\"]))\n",
    "\n",
    "    train[\"cat_map\"] = train.apply(map_func, axis=1)\n",
    "    test[\"cat_map\"] = test.apply(map_func, axis=1)\n",
    "\n",
    "    #BMI\n",
    "\n",
    "    train[\"bmi\"] = 1.3 * (train[\"weight\"] / ((train[\"height\"] / 100) ** 2.5))\n",
    "    test[\"bmi\"] = 1.3 * (test[\"weight\"] / ((test[\"height\"] / 100) ** 2.5))\n",
    "\n",
    "    train[\"blood_volume\"] = train.apply(blood_volume_func, axis=1)\n",
    "    test[\"blood_volume\"] = test.apply(blood_volume_func, axis=1)\n",
    "\n",
    "    train[\"cat_bmi\"] = train.apply(bmi_func, axis=1)\n",
    "    test[\"cat_bmi\"] = test.apply(bmi_func, axis=1)\n",
    "\n",
    "    train[\"alt_bmi\"] = pd.qcut(train[\"weight\"]/(train[\"height\"]/100)**2, 25, labels=False)\n",
    "    test[\"alt_bmi\"] = pd.qcut(test[\"weight\"]/(test[\"height\"]/100)**2, 25, labels=False)\n",
    "\n",
    "    train[\"cat_weight\"] = pd.qcut(train[\"weight\"], 10, labels=False)\n",
    "    test[\"cat_weight\"] = pd.qcut(test[\"weight\"], 10, labels=False)\n",
    "\n",
    "    train[\"body_fat_percentage\"] = (1.39 * train[\"bmi\"]) + (0.16 * train[\"age\"]) - (10.34 * train[\"gender\"]) - 9\n",
    "    test[\"body_fat_percentage\"] = (1.39 * test[\"bmi\"]) + (0.16 * test[\"age\"]) - (10.34 * test[\"gender\"]) - 9\n",
    "\n",
    "    train[\"obesity_bfp\"] = train.apply(bfp_func, axis=1)\n",
    "    test[\"obesity_bfp\"] = test.apply(bfp_func, axis=1)\n",
    "\n",
    "    #CHOLESTEROL AND GLUCOSE\n",
    "\n",
    "    train[\"t2d\"] = train.apply(t2d_func, axis=1)\n",
    "    test[\"t2d\"] = test.apply(t2d_func, axis=1)\n",
    "\n",
    "    train[\"cholesterol\"] = train.apply(chol_func, axis=1)\n",
    "    test[\"cholesterol\"] = test.apply(chol_func, axis=1)\n",
    "\n",
    "    train[\"gluc\"] = train.apply(gluc_func, axis=1)\n",
    "    test[\"gluc\"] = test.apply(gluc_func, axis=1)\n",
    "\n",
    "    #MENOPAUSE\n",
    "\n",
    "    train[\"menopause\"] = train.apply(menopause_func, axis=1)\n",
    "    test[\"menopause\"] = test.apply(menopause_func, axis=1)\n",
    "\n",
    "    return train, test"
   ]
  },
  {
   "cell_type": "code",
   "execution_count": 24,
   "id": "eqp8hKJio1Vg",
   "metadata": {
    "executionInfo": {
     "elapsed": 10876,
     "status": "ok",
     "timestamp": 1655739676003,
     "user": {
      "displayName": "Julia Fedurova",
      "userId": "06389464721626605031"
     },
     "user_tz": -180
    },
    "id": "eqp8hKJio1Vg"
   },
   "outputs": [],
   "source": [
    "train, test = feature_engineering(train, test)"
   ]
  },
  {
   "cell_type": "code",
   "execution_count": 25,
   "id": "GBswIu0c21qj",
   "metadata": {
    "executionInfo": {
     "elapsed": 201,
     "status": "ok",
     "timestamp": 1655739792091,
     "user": {
      "displayName": "Julia Fedurova",
      "userId": "06389464721626605031"
     },
     "user_tz": -180
    },
    "id": "GBswIu0c21qj"
   },
   "outputs": [],
   "source": [
    "train_ohe = pd.get_dummies(train)\n",
    "test_ohe = pd.get_dummies(test)"
   ]
  },
  {
   "cell_type": "code",
   "execution_count": 26,
   "id": "n0Y-EEccYoH6",
   "metadata": {
    "executionInfo": {
     "elapsed": 203,
     "status": "ok",
     "timestamp": 1655739794886,
     "user": {
      "displayName": "Julia Fedurova",
      "userId": "06389464721626605031"
     },
     "user_tz": -180
    },
    "id": "n0Y-EEccYoH6"
   },
   "outputs": [],
   "source": [
    "train_ohe.drop([\"cholesterol_normal\", \"gluc_normal\"], axis=1, inplace=True)\n",
    "test_ohe.drop([\"cholesterol_normal\", \"gluc_normal\"], axis=1, inplace=True)"
   ]
  },
  {
   "cell_type": "markdown",
   "id": "cRgIGB5I5ZGK",
   "metadata": {
    "id": "cRgIGB5I5ZGK"
   },
   "source": [
    "# Prediction of smoke and alco"
   ]
  },
  {
   "cell_type": "markdown",
   "id": "KL59nWlfGVys",
   "metadata": {
    "id": "KL59nWlfGVys"
   },
   "source": [
    "- Alcohol consumption and smoking are subjective features that are difficult to trust. So then it is necessary to predict these features."
   ]
  },
  {
   "cell_type": "code",
   "execution_count": 27,
   "id": "cS0ams9m02WK",
   "metadata": {
    "executionInfo": {
     "elapsed": 679,
     "status": "ok",
     "timestamp": 1655739968041,
     "user": {
      "displayName": "Julia Fedurova",
      "userId": "06389464721626605031"
     },
     "user_tz": -180
    },
    "id": "cS0ams9m02WK"
   },
   "outputs": [],
   "source": [
    "train_sa = train_ohe.drop([\"alco\", \"smoke\", \"cardio\"], axis=1)\n",
    "test_sa = test_ohe.drop([\"alco\", \"smoke\"], axis=1)\n",
    "alco = train_ohe[\"alco\"]\n",
    "smoke = train_ohe[\"smoke\"]"
   ]
  },
  {
   "cell_type": "code",
   "execution_count": 31,
   "id": "stpzvq1m70LC",
   "metadata": {
    "executionInfo": {
     "elapsed": 281,
     "status": "ok",
     "timestamp": 1655740018956,
     "user": {
      "displayName": "Julia Fedurova",
      "userId": "06389464721626605031"
     },
     "user_tz": -180
    },
    "id": "stpzvq1m70LC"
   },
   "outputs": [],
   "source": [
    "xgb_model_sa = XGBClassifier(max_depth=4, learning_rate=0.02, n_estimators=800,\n",
    "                      reg_lambda=6.2, reg_alpha=0.6288, subsample=0.8019,\n",
    "                      colsample_bylevel=0.6983, colsample_bytree=0.7464,\n",
    "                      gamma=0.9215, min_child_weight=6.5, max_delta_step=0.5,\n",
    "                      seed=5, nthread=-1)"
   ]
  },
  {
   "cell_type": "code",
   "execution_count": 29,
   "id": "muWfi4H10xYE",
   "metadata": {
    "executionInfo": {
     "elapsed": 320,
     "status": "ok",
     "timestamp": 1655739971564,
     "user": {
      "displayName": "Julia Fedurova",
      "userId": "06389464721626605031"
     },
     "user_tz": -180
    },
    "id": "muWfi4H10xYE"
   },
   "outputs": [],
   "source": [
    "def over_sampling(X, y):\n",
    "    over_sampler = RandomOverSampler(sampling_strategy=\"minority\", random_state=1)\n",
    "    X_over, y_over = over_sampler.fit_resample(X, y)\n",
    "    return X_over, y_over"
   ]
  },
  {
   "cell_type": "code",
   "execution_count": 30,
   "id": "vhYIyZ3EAYcI",
   "metadata": {
    "executionInfo": {
     "elapsed": 7,
     "status": "ok",
     "timestamp": 1655739972403,
     "user": {
      "displayName": "Julia Fedurova",
      "userId": "06389464721626605031"
     },
     "user_tz": -180
    },
    "id": "vhYIyZ3EAYcI"
   },
   "outputs": [],
   "source": [
    "def under_sampling(X, y):\n",
    "    under_sampler = RandomUnderSampler(sampling_strategy=0.5, random_state=1)\n",
    "    X_under, y_under = under_sampler.fit_resample(X, y)\n",
    "    return X_under, y_under"
   ]
  },
  {
   "cell_type": "code",
   "execution_count": 32,
   "id": "uErDbb9m8H24",
   "metadata": {
    "executionInfo": {
     "elapsed": 347,
     "status": "ok",
     "timestamp": 1655740025580,
     "user": {
      "displayName": "Julia Fedurova",
      "userId": "06389464721626605031"
     },
     "user_tz": -180
    },
    "id": "uErDbb9m8H24"
   },
   "outputs": [],
   "source": [
    "def smoke_alco(X_train, y, X):\n",
    "    xgb_model_sa.fit(X_train, y)\n",
    "    pr = xgb_model_sa.predict(X)\n",
    "    return pd.Series(pr)"
   ]
  },
  {
   "cell_type": "code",
   "execution_count": 33,
   "id": "EI2IDvc47iUE",
   "metadata": {
    "executionInfo": {
     "elapsed": 502,
     "status": "ok",
     "timestamp": 1655740027562,
     "user": {
      "displayName": "Julia Fedurova",
      "userId": "06389464721626605031"
     },
     "user_tz": -180
    },
    "id": "EI2IDvc47iUE"
   },
   "outputs": [],
   "source": [
    "train_alco_over, alco_over = over_sampling(train_sa, alco)\n",
    "train_smoke_under, smoke_under = under_sampling(train_sa, smoke)"
   ]
  },
  {
   "cell_type": "code",
   "execution_count": 34,
   "id": "KkNcIGa4B__w",
   "metadata": {
    "executionInfo": {
     "elapsed": 85047,
     "status": "ok",
     "timestamp": 1655740113592,
     "user": {
      "displayName": "Julia Fedurova",
      "userId": "06389464721626605031"
     },
     "user_tz": -180
    },
    "id": "KkNcIGa4B__w"
   },
   "outputs": [],
   "source": [
    "train_ohe[\"alco\"] = smoke_alco(train_alco_over, alco_over, train_sa)\n",
    "train_ohe[\"smoke\"] = smoke_alco(train_smoke_under, smoke_under, train_sa)"
   ]
  },
  {
   "cell_type": "code",
   "execution_count": 35,
   "id": "te3OLM6V-esT",
   "metadata": {
    "colab": {
     "base_uri": "https://localhost:8080/"
    },
    "executionInfo": {
     "elapsed": 239,
     "status": "ok",
     "timestamp": 1655740329067,
     "user": {
      "displayName": "Julia Fedurova",
      "userId": "06389464721626605031"
     },
     "user_tz": -180
    },
    "id": "te3OLM6V-esT",
    "outputId": "e2778fa3-d1de-44e3-d788-9334c1a4660f"
   },
   "outputs": [
    {
     "data": {
      "text/plain": [
       "0    0.723631\n",
       "1    0.276369\n",
       "Name: smoke, dtype: float64"
      ]
     },
     "execution_count": 35,
     "metadata": {},
     "output_type": "execute_result"
    }
   ],
   "source": [
    "train_ohe[\"smoke\"].value_counts(normalize=True)"
   ]
  },
  {
   "cell_type": "markdown",
   "id": "sze8fl4RGx38",
   "metadata": {
    "id": "sze8fl4RGx38"
   },
   "source": [
    "According to the WHO the prevalence of current adult smokers (15 and above) in Kazakhstan in 2014 was 22.4%. "
   ]
  },
  {
   "cell_type": "code",
   "execution_count": 36,
   "id": "tamLqFbp-sOm",
   "metadata": {
    "colab": {
     "base_uri": "https://localhost:8080/"
    },
    "executionInfo": {
     "elapsed": 216,
     "status": "ok",
     "timestamp": 1655740331903,
     "user": {
      "displayName": "Julia Fedurova",
      "userId": "06389464721626605031"
     },
     "user_tz": -180
    },
    "id": "tamLqFbp-sOm",
    "outputId": "1ce784ed-77a3-4b17-8bbb-7d7a368e7d60"
   },
   "outputs": [
    {
     "data": {
      "text/plain": [
       "0    0.65237\n",
       "1    0.34763\n",
       "Name: alco, dtype: float64"
      ]
     },
     "execution_count": 36,
     "metadata": {},
     "output_type": "execute_result"
    }
   ],
   "source": [
    "train_ohe[\"alco\"].value_counts(normalize=True)"
   ]
  },
  {
   "cell_type": "markdown",
   "id": "gJ13rTi-GzEi",
   "metadata": {
    "id": "gJ13rTi-GzEi"
   },
   "source": [
    "According to the Survey on drug use and health in Kazakhstan in 2018, 35 percent of Kazakhstan’s population drink alcohol."
   ]
  },
  {
   "cell_type": "code",
   "execution_count": 37,
   "id": "9MHdu4reR6tN",
   "metadata": {
    "executionInfo": {
     "elapsed": 111595,
     "status": "ok",
     "timestamp": 1655740445747,
     "user": {
      "displayName": "Julia Fedurova",
      "userId": "06389464721626605031"
     },
     "user_tz": -180
    },
    "id": "9MHdu4reR6tN"
   },
   "outputs": [],
   "source": [
    "test_ohe[\"alco\"] = smoke_alco(train_alco_over, alco_over, test_sa)\n",
    "test_ohe[\"smoke\"] = smoke_alco(train_smoke_under, smoke_under, test_sa)"
   ]
  },
  {
   "cell_type": "markdown",
   "id": "WySMTm9sQI0y",
   "metadata": {
    "id": "WySMTm9sQI0y"
   },
   "source": [
    "# Feature correlation"
   ]
  },
  {
   "cell_type": "code",
   "execution_count": 38,
   "id": "5706794b-327c-4271-bd90-3c0a955c6d2f",
   "metadata": {
    "executionInfo": {
     "elapsed": 7,
     "status": "ok",
     "timestamp": 1655740446776,
     "user": {
      "displayName": "Julia Fedurova",
      "userId": "06389464721626605031"
     },
     "user_tz": -180
    },
    "id": "5706794b-327c-4271-bd90-3c0a955c6d2f"
   },
   "outputs": [],
   "source": [
    "features = [\"ap_hi\", \"mean_arterial_pressure\", \"ap_lo\", \"age\", \"bmi\", \"weight\", \"pp\", \"body_fat_percentage\", \n",
    "            \"blood_volume\", \"obesity_bfp\", \"t2d\", \"menopause\", \"gluc_high\", \"alt_bmi\", \"alco\", \"smoke\", \"active\",\n",
    "            \"cat_weight\", \"alt_pp\", \"cholesterol_high\", \"bp_normal\", \"cat_map\", \"cat_bmi\", \"cat_bp\"]"
   ]
  },
  {
   "cell_type": "code",
   "execution_count": 39,
   "id": "397tM3x9QaP3",
   "metadata": {
    "colab": {
     "base_uri": "https://localhost:8080/",
     "height": 1000
    },
    "executionInfo": {
     "elapsed": 2584,
     "status": "ok",
     "timestamp": 1655740449355,
     "user": {
      "displayName": "Julia Fedurova",
      "userId": "06389464721626605031"
     },
     "user_tz": -180
    },
    "id": "397tM3x9QaP3",
    "outputId": "aeb58bd0-b817-41e4-8bc0-d9c5e2d22dfc"
   },
   "outputs": [
    {
     "data": {
      "image/png": "[encoded data removed]",
      "text/plain": [
       "<Figure size 1800x1800 with 2 Axes>"
      ]
     },
     "metadata": {
      "needs_background": "light"
     },
     "output_type": "display_data"
    },
    {
     "data": {
      "text/plain": [
       "<matplotlib.axes._subplots.AxesSubplot at 0x7fd31d5a3490>"
      ]
     },
     "execution_count": 39,
     "metadata": {},
     "output_type": "execute_result"
    }
   ],
   "source": [
    "corrmat(train_ohe[features].append(test_ohe[features]).corr(), figsize=(25, 25), inflate=False)"
   ]
  },
  {
   "cell_type": "code",
   "execution_count": 40,
   "id": "EXPJbiWFXv-M",
   "metadata": {
    "colab": {
     "base_uri": "https://localhost:8080/"
    },
    "executionInfo": {
     "elapsed": 22,
     "status": "ok",
     "timestamp": 1655740449358,
     "user": {
      "displayName": "Julia Fedurova",
      "userId": "06389464721626605031"
     },
     "user_tz": -180
    },
    "id": "EXPJbiWFXv-M",
    "outputId": "54a01e21-e949-4860-fe15-750291404f0b"
   },
   "outputs": [
    {
     "data": {
      "text/plain": [
       "ap_hi                     0.431546\n",
       "bp_normal                 0.423978\n",
       "mean_arterial_pressure    0.413321\n",
       "cat_bp                    0.394177\n",
       "ap_lo                     0.345678\n",
       "pp                        0.336455\n",
       "cat_map                   0.263270\n",
       "age                       0.235625\n",
       "cholesterol_high          0.205453\n",
       "alt_bmi                   0.199153\n",
       "bmi                       0.186884\n",
       "weight                    0.181562\n",
       "cat_weight                0.180755\n",
       "t2d                       0.173991\n",
       "alt_pp                    0.171028\n",
       "body_fat_percentage       0.167869\n",
       "cat_bmi                   0.164528\n",
       "menopause                 0.134443\n",
       "blood_volume              0.130468\n",
       "obesity_bfp               0.101696\n",
       "gluc_high                 0.090768\n",
       "active                    0.035589\n",
       "alco                      0.032654\n",
       "smoke                     0.016497\n",
       "height                    0.012535\n",
       "gender                    0.008186\n",
       "Name: cardio, dtype: float64"
      ]
     },
     "execution_count": 40,
     "metadata": {},
     "output_type": "execute_result"
    }
   ],
   "source": [
    "train_corr = train_ohe.corr()[\"cardio\"]\n",
    "train_corr.abs().sort_values(ascending=False)[1:]"
   ]
  },
  {
   "cell_type": "markdown",
   "id": "84013d73-a057-44ec-8105-acbee2e85140",
   "metadata": {
    "id": "84013d73-a057-44ec-8105-acbee2e85140",
    "tags": []
   },
   "source": [
    "# Base lines\n",
    "\n"
   ]
  },
  {
   "cell_type": "code",
   "execution_count": null,
   "id": "e4cfb2a9-0325-4479-ad05-f3f5d0443c9e",
   "metadata": {
    "id": "e4cfb2a9-0325-4479-ad05-f3f5d0443c9e",
    "tags": []
   },
   "outputs": [],
   "source": [
    "X = train_ohe[features]\n",
    "y = train_ohe[\"cardio\"]\n",
    "test = test_ohe[features]"
   ]
  },
  {
   "cell_type": "code",
   "execution_count": null,
   "id": "b1db083d-a810-45b3-bebe-280a49bf8fe6",
   "metadata": {
    "id": "b1db083d-a810-45b3-bebe-280a49bf8fe6"
   },
   "outputs": [],
   "source": [
    "scaler = MinMaxScaler()\n",
    "scaler.fit(X)\n",
    "X = scaler.transform(X)\n",
    "test = scaler.transform(test)"
   ]
  },
  {
   "cell_type": "code",
   "execution_count": null,
   "id": "666d6017-860f-4339-876b-59e53aa3d48a",
   "metadata": {
    "id": "666d6017-860f-4339-876b-59e53aa3d48a"
   },
   "outputs": [],
   "source": [
    "def models_func():\n",
    "    models = []\n",
    "    \n",
    "    models.append((\"LR\" , LogisticRegression()))\n",
    "    models.append((\"SGD\" , SGDClassifier()))\n",
    "    models.append((\"KNN\" , KNeighborsClassifier()))\n",
    "    models.append((\"LDA\" , LinearDiscriminantAnalysis()))\n",
    "    models.append((\"GNB\" , GaussianNB()))\n",
    "    models.append((\"BNB\" , BernoulliNB()))\n",
    "    models.append((\"Ada\" , AdaBoostClassifier()))\n",
    "    models.append((\"GB\" , GradientBoostingClassifier())) \n",
    "    models.append((\"RF\" , RandomForestClassifier()))\n",
    "    models.append((\"ET\" , ExtraTreesClassifier()))\n",
    "    models.append((\"XGB\" , XGBClassifier()))\n",
    "    models.append((\"LGB\" , LGBMClassifier()))\n",
    "    \n",
    "    return models"
   ]
  },
  {
   "cell_type": "code",
   "execution_count": null,
   "id": "_gyqkV6Ios8t",
   "metadata": {
    "id": "_gyqkV6Ios8t"
   },
   "outputs": [],
   "source": [
    "kf = StratifiedKFold(n_splits=7, shuffle=True, random_state=1)"
   ]
  },
  {
   "cell_type": "code",
   "execution_count": null,
   "id": "161885d6-8412-46f0-9444-1d676480dfcb",
   "metadata": {
    "id": "161885d6-8412-46f0-9444-1d676480dfcb"
   },
   "outputs": [],
   "source": [
    "def base_model_func(X, y, models):\n",
    "    scoring = \"roc_auc\"\n",
    "    results = []\n",
    "    names = []\n",
    "    for name, model in models:\n",
    "        kfold = kf\n",
    "        cv_results = cross_val_score(model, X, y, cv=kfold, scoring=scoring)\n",
    "        results.append(cv_results)\n",
    "        names.append(name)\n",
    "        msg = \"%s: %f\" % (name, cv_results.mean())\n",
    "        print(msg)\n",
    "        \n",
    "    return names, results"
   ]
  },
  {
   "cell_type": "code",
   "execution_count": null,
   "id": "7ad641b3-96c8-4447-978b-2372fb3bfd5c",
   "metadata": {
    "colab": {
     "base_uri": "https://localhost:8080/"
    },
    "executionInfo": {
     "elapsed": 459383,
     "status": "ok",
     "timestamp": 1655721072956,
     "user": {
      "displayName": "Julia Fedurova",
      "userId": "06389464721626605031"
     },
     "user_tz": -180
    },
    "id": "7ad641b3-96c8-4447-978b-2372fb3bfd5c",
    "outputId": "a6fd3aaf-1ad7-46e8-cf90-29ec420519ca"
   },
   "outputs": [
    {
     "name": "stdout",
     "output_type": "stream",
     "text": [
      "LR: 0.792954\n",
      "SGD: 0.779717\n",
      "KNN: 0.744515\n",
      "LDA: 0.791067\n",
      "GNB: 0.778677\n",
      "BNB: 0.769275\n",
      "Ada: 0.794452\n",
      "GB: 0.801758\n",
      "RF: 0.762647\n",
      "ET: 0.737194\n",
      "XGB: 0.801570\n",
      "LGB: 0.801537\n"
     ]
    }
   ],
   "source": [
    "models = models_func()\n",
    "names, results = base_model_func(X, y, models)"
   ]
  },
  {
   "cell_type": "markdown",
   "id": "q17zE_vVrQWy",
   "metadata": {
    "id": "q17zE_vVrQWy"
   },
   "source": [
    "Gradient Boosting, GB and LGB models showed the best results."
   ]
  },
  {
   "cell_type": "markdown",
   "id": "N8U8mn7pUJ5l",
   "metadata": {
    "id": "N8U8mn7pUJ5l"
   },
   "source": [
    "# Hyperparameters tuning"
   ]
  },
  {
   "cell_type": "markdown",
   "id": "Q8WCzVUKIKQw",
   "metadata": {
    "id": "Q8WCzVUKIKQw"
   },
   "source": [
    " The following hyperparameters were found using GridSearchCV."
   ]
  },
  {
   "cell_type": "code",
   "execution_count": 41,
   "id": "opSAhscDUfcL",
   "metadata": {
    "executionInfo": {
     "elapsed": 19,
     "status": "ok",
     "timestamp": 1655740449360,
     "user": {
      "displayName": "Julia Fedurova",
      "userId": "06389464721626605031"
     },
     "user_tz": -180
    },
    "id": "opSAhscDUfcL"
   },
   "outputs": [],
   "source": [
    "rf_params = {\"max_depth\": 8,\n",
    "             \"max_features\": 7,\n",
    "             \"min_samples_split\": 10,\n",
    "             \"n_estimators\": 500}"
   ]
  },
  {
   "cell_type": "code",
   "execution_count": 42,
   "id": "TrMXlBZxXVX9",
   "metadata": {
    "executionInfo": {
     "elapsed": 19,
     "status": "ok",
     "timestamp": 1655740449361,
     "user": {
      "displayName": "Julia Fedurova",
      "userId": "06389464721626605031"
     },
     "user_tz": -180
    },
    "id": "TrMXlBZxXVX9"
   },
   "outputs": [],
   "source": [
    "knn_params = {\"n_neighbors\": 20}"
   ]
  },
  {
   "cell_type": "code",
   "execution_count": 43,
   "id": "fZ7xxaR0YEhV",
   "metadata": {
    "executionInfo": {
     "elapsed": 22,
     "status": "ok",
     "timestamp": 1655740449364,
     "user": {
      "displayName": "Julia Fedurova",
      "userId": "06389464721626605031"
     },
     "user_tz": -180
    },
    "id": "fZ7xxaR0YEhV"
   },
   "outputs": [],
   "source": [
    "ada_params = {\"learning_rate\": .1,\n",
    "              \"n_estimators\": 300}"
   ]
  },
  {
   "cell_type": "code",
   "execution_count": 44,
   "id": "bsr-bb5lZtBI",
   "metadata": {
    "executionInfo": {
     "elapsed": 23,
     "status": "ok",
     "timestamp": 1655740449366,
     "user": {
      "displayName": "Julia Fedurova",
      "userId": "06389464721626605031"
     },
     "user_tz": -180
    },
    "id": "bsr-bb5lZtBI"
   },
   "outputs": [],
   "source": [
    "gb_params = {\"n_estimators\": 300,\n",
    "             \"learning_rate\": .1,\n",
    "             \"min_samples_split\": 0.1,\n",
    "             \"max_depth\": 3}"
   ]
  },
  {
   "cell_type": "code",
   "execution_count": 45,
   "id": "P1jOACHP-Gzb",
   "metadata": {
    "executionInfo": {
     "elapsed": 25,
     "status": "ok",
     "timestamp": 1655740449368,
     "user": {
      "displayName": "Julia Fedurova",
      "userId": "06389464721626605031"
     },
     "user_tz": -180
    },
    "id": "P1jOACHP-Gzb"
   },
   "outputs": [],
   "source": [
    "lgbm_params = {\"learning_rate\": .01,\n",
    "               \"n_estimators\": 1000,\n",
    "               \"max_depth\": 5}"
   ]
  },
  {
   "cell_type": "code",
   "execution_count": 46,
   "id": "8FymH4fSKuM6",
   "metadata": {
    "executionInfo": {
     "elapsed": 26,
     "status": "ok",
     "timestamp": 1655740449369,
     "user": {
      "displayName": "Julia Fedurova",
      "userId": "06389464721626605031"
     },
     "user_tz": -180
    },
    "id": "8FymH4fSKuM6"
   },
   "outputs": [],
   "source": [
    "xgb_params = {\"n_estimators\": 500,\n",
    "              \"max_depth\": 3,\n",
    "              \"learning_rate \": .01}"
   ]
  },
  {
   "cell_type": "code",
   "execution_count": 47,
   "id": "PboJxd1lvMUz",
   "metadata": {
    "executionInfo": {
     "elapsed": 23,
     "status": "ok",
     "timestamp": 1655740449369,
     "user": {
      "displayName": "Julia Fedurova",
      "userId": "06389464721626605031"
     },
     "user_tz": -180
    },
    "id": "PboJxd1lvMUz"
   },
   "outputs": [],
   "source": [
    "et_params = {\"n_estimators\": 300,\n",
    "             \"max_depth\": 6,\n",
    "             \"min_samples_split\": 2}"
   ]
  },
  {
   "cell_type": "code",
   "execution_count": 48,
   "id": "9vHwh0d2yYpq",
   "metadata": {
    "executionInfo": {
     "elapsed": 24,
     "status": "ok",
     "timestamp": 1655740449370,
     "user": {
      "displayName": "Julia Fedurova",
      "userId": "06389464721626605031"
     },
     "user_tz": -180
    },
    "id": "9vHwh0d2yYpq"
   },
   "outputs": [],
   "source": [
    "nb_params = {\"var_smoothing\": 1.873817422860387e-09}"
   ]
  },
  {
   "cell_type": "markdown",
   "id": "FSACxREUMzcz",
   "metadata": {
    "id": "FSACxREUMzcz"
   },
   "source": [
    "# Stacking"
   ]
  },
  {
   "cell_type": "code",
   "execution_count": 49,
   "id": "lRX32Pa8kV86",
   "metadata": {
    "executionInfo": {
     "elapsed": 221,
     "status": "ok",
     "timestamp": 1655740491748,
     "user": {
      "displayName": "Julia Fedurova",
      "userId": "06389464721626605031"
     },
     "user_tz": -180
    },
    "id": "lRX32Pa8kV86"
   },
   "outputs": [],
   "source": [
    "def get_models():\n",
    "\n",
    "    rf_model = RandomForestClassifier(**rf_params)\n",
    "\n",
    "    knn_model = KNeighborsClassifier(**knn_params)\n",
    "\n",
    "    nb_model = GaussianNB(**nb_params)\n",
    "\n",
    "    ada_model = AdaBoostClassifier(**ada_params)\n",
    "\n",
    "    gb_model = GradientBoostingClassifier(**gb_params)\n",
    "\n",
    "    lgbm_model = LGBMClassifier(**lgbm_params)\n",
    "\n",
    "    xgb_model = XGBClassifier(**xgb_params)\n",
    "\n",
    "    lg_model = LogisticRegression()\n",
    "    \n",
    "    sgd_model = SGDClassifier(loss=\"log\", penalty=\"l1\")\n",
    "\n",
    "    lda_model = LinearDiscriminantAnalysis()\n",
    "    \n",
    "    et_model = ExtraTreesClassifier(**et_params)\n",
    "\n",
    "    models = {\"RF\": rf_model, \"KNN\": knn_model, \"NB\": nb_model, \n",
    "              \"Ada\": ada_model, \"GB\": gb_model, \"LGBM\": lgbm_model, \n",
    "              \"XGB\": xgb_model, \"LG\": lg_model, \"SGD\": sgd_model, \n",
    "              \"LDA\": lda_model, \"ET\": et_model}\n",
    "\n",
    "    return models"
   ]
  },
  {
   "cell_type": "code",
   "execution_count": null,
   "id": "zrNcxOIv0eG7",
   "metadata": {
    "id": "zrNcxOIv0eG7"
   },
   "outputs": [],
   "source": [
    "base_learners = get_models()\n",
    "meta_learner = LogisticRegression()"
   ]
  },
  {
   "cell_type": "code",
   "execution_count": null,
   "id": "J1aaiZVSE5J2",
   "metadata": {
    "id": "J1aaiZVSE5J2"
   },
   "outputs": [],
   "source": [
    "sl = SuperLearner(random_state=1)\n",
    "\n",
    "sl.add(list(base_learners.values()), proba=True) \n",
    "sl.add_meta(meta_learner, proba=True)"
   ]
  },
  {
   "cell_type": "code",
   "execution_count": null,
   "id": "xd1K6uFZZaRF",
   "metadata": {
    "id": "xd1K6uFZZaRF"
   },
   "outputs": [],
   "source": [
    "results = cross_val_score(sl, X, y, cv=kf, scoring=\"roc_auc\")"
   ]
  },
  {
   "cell_type": "code",
   "execution_count": null,
   "id": "5wrO_UQYlvcP",
   "metadata": {
    "id": "5wrO_UQYlvcP"
   },
   "outputs": [],
   "source": [
    "sl.fit(X, y)\n",
    "p_sl = sl.predict_proba(test)"
   ]
  },
  {
   "cell_type": "markdown",
   "id": "6OsxJQKTZbO5",
   "metadata": {
    "id": "6OsxJQKTZbO5"
   },
   "source": [
    "# Model evaluation"
   ]
  },
  {
   "cell_type": "code",
   "execution_count": null,
   "id": "NwffpEeb1KBj",
   "metadata": {
    "id": "NwffpEeb1KBj"
   },
   "outputs": [],
   "source": [
    "meta_learner.fit(X, y)"
   ]
  },
  {
   "cell_type": "code",
   "execution_count": null,
   "id": "87312f5b-ce43-4d5b-b45c-2d329b0d6b91",
   "metadata": {
    "id": "87312f5b-ce43-4d5b-b45c-2d329b0d6b91"
   },
   "outputs": [],
   "source": [
    "result = permutation_importance(meta_learner, X, y, scoring=\"roc_auc\")"
   ]
  },
  {
   "cell_type": "code",
   "execution_count": null,
   "id": "23540ec2-c420-484d-b3f5-bdfdd8ee1c4c",
   "metadata": {
    "id": "23540ec2-c420-484d-b3f5-bdfdd8ee1c4c"
   },
   "outputs": [],
   "source": [
    "result_sorted = result.importances_mean.argsort()"
   ]
  },
  {
   "cell_type": "code",
   "execution_count": null,
   "id": "45b39d69-d5bf-4a84-98a0-d69360046a60",
   "metadata": {
    "colab": {
     "base_uri": "https://localhost:8080/",
     "height": 1000
    },
    "executionInfo": {
     "elapsed": 3824,
     "status": "ok",
     "timestamp": 1655670455633,
     "user": {
      "displayName": "Julia Fedurova",
      "userId": "06389464721626605031"
     },
     "user_tz": -180
    },
    "id": "45b39d69-d5bf-4a84-98a0-d69360046a60",
    "outputId": "f6a09e2d-3cc3-48db-87f5-29220810da9f"
   },
   "outputs": [
    {
     "data": {
      "image/png": "[encoded data removed]",
      "text/plain": [
       "<Figure size 3600x3600 with 1 Axes>"
      ]
     },
     "metadata": {
      "needs_background": "light"
     },
     "output_type": "display_data"
    }
   ],
   "source": [
    "fig, ax = plt.subplots(figsize=(50,50))\n",
    "ax.boxplot(result.importances[result_sorted].T, vert=False, labels=X.columns[result_sorted])\n",
    "plt.title(\"Feature importance\")\n",
    "plt.show()"
   ]
  }
 ],
 "metadata": {
  "colab": {
   "collapsed_sections": [
    "98d08e33-609c-4ab2-82ae-fecdc8e95f3b"
   ],
   "name": "Prediction of CVD.ipynb",
   "provenance": []
  },
  "kernelspec": {
   "display_name": "Python 3 (ipykernel)",
   "language": "python",
   "name": "python3"
  },
  "language_info": {
   "codemirror_mode": {
    "name": "ipython",
    "version": 3
   },
   "file_extension": ".py",
   "mimetype": "text/x-python",
   "name": "python",
   "nbconvert_exporter": "python",
   "pygments_lexer": "ipython3",
   "version": "3.9.13"
  }
 },
 "nbformat": 4,
 "nbformat_minor": 5
}
