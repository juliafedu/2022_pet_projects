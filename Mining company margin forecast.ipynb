{
 "cells": [
  {
   "cell_type": "markdown",
   "metadata": {},
   "source": [
    "# Mining company margin forecast"
   ]
  },
  {
   "cell_type": "markdown",
   "metadata": {},
   "source": [
    "**Project's task is to find a region for drilling new wells that will bring the maximum profit to the mining company.**"
   ]
  },
  {
   "cell_type": "markdown",
   "metadata": {},
   "source": [
    "# Results"
   ]
  },
  {
   "cell_type": "markdown",
   "metadata": {},
   "source": [
    "Region 1 has the minimum risk of losses, while it also has the maximum average profit. It is necessary to invest in the development of Region 1."
   ]
  },
  {
   "cell_type": "markdown",
   "metadata": {},
   "source": [
    "## Data understanding"
   ]
  },
  {
   "cell_type": "code",
   "execution_count": 1,
   "metadata": {},
   "outputs": [],
   "source": [
    "import numpy as np\n",
    "import pandas as pd\n",
    "from sklearn.model_selection import train_test_split\n",
    "from sklearn.metrics import mean_squared_error\n",
    "from sklearn.linear_model import LinearRegression"
   ]
  },
  {
   "cell_type": "code",
   "execution_count": 2,
   "metadata": {},
   "outputs": [],
   "source": [
    "data_0 = pd.read_csv(\"/datasets/geo_data_0.csv\")\n",
    "data_1 = pd.read_csv(\"/datasets/geo_data_1.csv\")\n",
    "data_2 = pd.read_csv(\"/datasets/geo_data_2.csv\")"
   ]
  },
  {
   "cell_type": "code",
   "execution_count": 3,
   "metadata": {
    "scrolled": true
   },
   "outputs": [
    {
     "data": {
      "text/plain": [
       "id         0\n",
       "f0         0\n",
       "f1         0\n",
       "f2         0\n",
       "product    0\n",
       "dtype: int64"
      ]
     },
     "metadata": {},
     "output_type": "display_data"
    },
    {
     "data": {
      "text/html": [
       "<div>\n",
       "<style scoped>\n",
       "    .dataframe tbody tr th:only-of-type {\n",
       "        vertical-align: middle;\n",
       "    }\n",
       "\n",
       "    .dataframe tbody tr th {\n",
       "        vertical-align: top;\n",
       "    }\n",
       "\n",
       "    .dataframe thead th {\n",
       "        text-align: right;\n",
       "    }\n",
       "</style>\n",
       "<table border=\"1\" class=\"dataframe\">\n",
       "  <thead>\n",
       "    <tr style=\"text-align: right;\">\n",
       "      <th></th>\n",
       "      <th>id</th>\n",
       "      <th>f0</th>\n",
       "      <th>f1</th>\n",
       "      <th>f2</th>\n",
       "      <th>product</th>\n",
       "    </tr>\n",
       "  </thead>\n",
       "  <tbody>\n",
       "    <tr>\n",
       "      <th>0</th>\n",
       "      <td>txEyH</td>\n",
       "      <td>0.705745</td>\n",
       "      <td>-0.497823</td>\n",
       "      <td>1.221170</td>\n",
       "      <td>105.280062</td>\n",
       "    </tr>\n",
       "    <tr>\n",
       "      <th>1</th>\n",
       "      <td>2acmU</td>\n",
       "      <td>1.334711</td>\n",
       "      <td>-0.340164</td>\n",
       "      <td>4.365080</td>\n",
       "      <td>73.037750</td>\n",
       "    </tr>\n",
       "    <tr>\n",
       "      <th>2</th>\n",
       "      <td>409Wp</td>\n",
       "      <td>1.022732</td>\n",
       "      <td>0.151990</td>\n",
       "      <td>1.419926</td>\n",
       "      <td>85.265647</td>\n",
       "    </tr>\n",
       "    <tr>\n",
       "      <th>3</th>\n",
       "      <td>iJLyR</td>\n",
       "      <td>-0.032172</td>\n",
       "      <td>0.139033</td>\n",
       "      <td>2.978566</td>\n",
       "      <td>168.620776</td>\n",
       "    </tr>\n",
       "    <tr>\n",
       "      <th>4</th>\n",
       "      <td>Xdl7t</td>\n",
       "      <td>1.988431</td>\n",
       "      <td>0.155413</td>\n",
       "      <td>4.751769</td>\n",
       "      <td>154.036647</td>\n",
       "    </tr>\n",
       "  </tbody>\n",
       "</table>\n",
       "</div>"
      ],
      "text/plain": [
       "      id        f0        f1        f2     product\n",
       "0  txEyH  0.705745 -0.497823  1.221170  105.280062\n",
       "1  2acmU  1.334711 -0.340164  4.365080   73.037750\n",
       "2  409Wp  1.022732  0.151990  1.419926   85.265647\n",
       "3  iJLyR -0.032172  0.139033  2.978566  168.620776\n",
       "4  Xdl7t  1.988431  0.155413  4.751769  154.036647"
      ]
     },
     "metadata": {},
     "output_type": "display_data"
    },
    {
     "data": {
      "text/plain": [
       "id         0\n",
       "f0         0\n",
       "f1         0\n",
       "f2         0\n",
       "product    0\n",
       "dtype: int64"
      ]
     },
     "metadata": {},
     "output_type": "display_data"
    },
    {
     "data": {
      "text/html": [
       "<div>\n",
       "<style scoped>\n",
       "    .dataframe tbody tr th:only-of-type {\n",
       "        vertical-align: middle;\n",
       "    }\n",
       "\n",
       "    .dataframe tbody tr th {\n",
       "        vertical-align: top;\n",
       "    }\n",
       "\n",
       "    .dataframe thead th {\n",
       "        text-align: right;\n",
       "    }\n",
       "</style>\n",
       "<table border=\"1\" class=\"dataframe\">\n",
       "  <thead>\n",
       "    <tr style=\"text-align: right;\">\n",
       "      <th></th>\n",
       "      <th>id</th>\n",
       "      <th>f0</th>\n",
       "      <th>f1</th>\n",
       "      <th>f2</th>\n",
       "      <th>product</th>\n",
       "    </tr>\n",
       "  </thead>\n",
       "  <tbody>\n",
       "    <tr>\n",
       "      <th>0</th>\n",
       "      <td>kBEdx</td>\n",
       "      <td>-15.001348</td>\n",
       "      <td>-8.276000</td>\n",
       "      <td>-0.005876</td>\n",
       "      <td>3.179103</td>\n",
       "    </tr>\n",
       "    <tr>\n",
       "      <th>1</th>\n",
       "      <td>62mP7</td>\n",
       "      <td>14.272088</td>\n",
       "      <td>-3.475083</td>\n",
       "      <td>0.999183</td>\n",
       "      <td>26.953261</td>\n",
       "    </tr>\n",
       "    <tr>\n",
       "      <th>2</th>\n",
       "      <td>vyE1P</td>\n",
       "      <td>6.263187</td>\n",
       "      <td>-5.948386</td>\n",
       "      <td>5.001160</td>\n",
       "      <td>134.766305</td>\n",
       "    </tr>\n",
       "    <tr>\n",
       "      <th>3</th>\n",
       "      <td>KcrkZ</td>\n",
       "      <td>-13.081196</td>\n",
       "      <td>-11.506057</td>\n",
       "      <td>4.999415</td>\n",
       "      <td>137.945408</td>\n",
       "    </tr>\n",
       "    <tr>\n",
       "      <th>4</th>\n",
       "      <td>AHL4O</td>\n",
       "      <td>12.702195</td>\n",
       "      <td>-8.147433</td>\n",
       "      <td>5.004363</td>\n",
       "      <td>134.766305</td>\n",
       "    </tr>\n",
       "  </tbody>\n",
       "</table>\n",
       "</div>"
      ],
      "text/plain": [
       "      id         f0         f1        f2     product\n",
       "0  kBEdx -15.001348  -8.276000 -0.005876    3.179103\n",
       "1  62mP7  14.272088  -3.475083  0.999183   26.953261\n",
       "2  vyE1P   6.263187  -5.948386  5.001160  134.766305\n",
       "3  KcrkZ -13.081196 -11.506057  4.999415  137.945408\n",
       "4  AHL4O  12.702195  -8.147433  5.004363  134.766305"
      ]
     },
     "metadata": {},
     "output_type": "display_data"
    },
    {
     "data": {
      "text/plain": [
       "id         0\n",
       "f0         0\n",
       "f1         0\n",
       "f2         0\n",
       "product    0\n",
       "dtype: int64"
      ]
     },
     "metadata": {},
     "output_type": "display_data"
    },
    {
     "data": {
      "text/html": [
       "<div>\n",
       "<style scoped>\n",
       "    .dataframe tbody tr th:only-of-type {\n",
       "        vertical-align: middle;\n",
       "    }\n",
       "\n",
       "    .dataframe tbody tr th {\n",
       "        vertical-align: top;\n",
       "    }\n",
       "\n",
       "    .dataframe thead th {\n",
       "        text-align: right;\n",
       "    }\n",
       "</style>\n",
       "<table border=\"1\" class=\"dataframe\">\n",
       "  <thead>\n",
       "    <tr style=\"text-align: right;\">\n",
       "      <th></th>\n",
       "      <th>id</th>\n",
       "      <th>f0</th>\n",
       "      <th>f1</th>\n",
       "      <th>f2</th>\n",
       "      <th>product</th>\n",
       "    </tr>\n",
       "  </thead>\n",
       "  <tbody>\n",
       "    <tr>\n",
       "      <th>0</th>\n",
       "      <td>fwXo0</td>\n",
       "      <td>-1.146987</td>\n",
       "      <td>0.963328</td>\n",
       "      <td>-0.828965</td>\n",
       "      <td>27.758673</td>\n",
       "    </tr>\n",
       "    <tr>\n",
       "      <th>1</th>\n",
       "      <td>WJtFt</td>\n",
       "      <td>0.262778</td>\n",
       "      <td>0.269839</td>\n",
       "      <td>-2.530187</td>\n",
       "      <td>56.069697</td>\n",
       "    </tr>\n",
       "    <tr>\n",
       "      <th>2</th>\n",
       "      <td>ovLUW</td>\n",
       "      <td>0.194587</td>\n",
       "      <td>0.289035</td>\n",
       "      <td>-5.586433</td>\n",
       "      <td>62.871910</td>\n",
       "    </tr>\n",
       "    <tr>\n",
       "      <th>3</th>\n",
       "      <td>q6cA6</td>\n",
       "      <td>2.236060</td>\n",
       "      <td>-0.553760</td>\n",
       "      <td>0.930038</td>\n",
       "      <td>114.572842</td>\n",
       "    </tr>\n",
       "    <tr>\n",
       "      <th>4</th>\n",
       "      <td>WPMUX</td>\n",
       "      <td>-0.515993</td>\n",
       "      <td>1.716266</td>\n",
       "      <td>5.899011</td>\n",
       "      <td>149.600746</td>\n",
       "    </tr>\n",
       "  </tbody>\n",
       "</table>\n",
       "</div>"
      ],
      "text/plain": [
       "      id        f0        f1        f2     product\n",
       "0  fwXo0 -1.146987  0.963328 -0.828965   27.758673\n",
       "1  WJtFt  0.262778  0.269839 -2.530187   56.069697\n",
       "2  ovLUW  0.194587  0.289035 -5.586433   62.871910\n",
       "3  q6cA6  2.236060 -0.553760  0.930038  114.572842\n",
       "4  WPMUX -0.515993  1.716266  5.899011  149.600746"
      ]
     },
     "metadata": {},
     "output_type": "display_data"
    }
   ],
   "source": [
    "for data in [data_0, data_1, data_2]:\n",
    "    display(data.isna().sum())\n",
    "    display(data.head())"
   ]
  },
  {
   "cell_type": "code",
   "execution_count": 4,
   "metadata": {},
   "outputs": [],
   "source": [
    "for data in [data_0, data_1, data_2]:\n",
    "    data.drop(\"id\", axis=1, inplace=True)"
   ]
  },
  {
   "cell_type": "markdown",
   "metadata": {},
   "source": [
    "## Model building "
   ]
  },
  {
   "cell_type": "code",
   "execution_count": 5,
   "metadata": {},
   "outputs": [],
   "source": [
    "target = [\"product\"]"
   ]
  },
  {
   "cell_type": "code",
   "execution_count": 6,
   "metadata": {},
   "outputs": [],
   "source": [
    "def splitting(data):\n",
    "    x_train, x_test, y_train, y_test = train_test_split(\n",
    "    data.drop(target, axis=1), data[target], test_size=0.25, random_state=1)\n",
    "    return x_train, x_test, y_train, y_test "
   ]
  },
  {
   "cell_type": "code",
   "execution_count": 7,
   "metadata": {},
   "outputs": [],
   "source": [
    "x_train_0, x_test_0, y_train_0, y_test_0 = splitting(data_0)"
   ]
  },
  {
   "cell_type": "code",
   "execution_count": 8,
   "metadata": {},
   "outputs": [],
   "source": [
    "x_train_1, x_test_1, y_train_1, y_test_1 = splitting(data_1)"
   ]
  },
  {
   "cell_type": "code",
   "execution_count": 9,
   "metadata": {},
   "outputs": [],
   "source": [
    "x_train_2, x_test_2, y_train_2, y_test_2 = splitting(data_2)"
   ]
  },
  {
   "cell_type": "code",
   "execution_count": 10,
   "metadata": {},
   "outputs": [],
   "source": [
    "lr = LinearRegression()"
   ]
  },
  {
   "cell_type": "code",
   "execution_count": 11,
   "metadata": {},
   "outputs": [],
   "source": [
    "def prediction(x_train, x_test, y_train):\n",
    "    lr.fit(x_train, y_train)\n",
    "    y_pr = lr.predict(x_test)\n",
    "    return y_pr"
   ]
  },
  {
   "cell_type": "code",
   "execution_count": 12,
   "metadata": {},
   "outputs": [],
   "source": [
    "y_pr_0 = prediction(x_train_0, x_test_0, y_train_0)"
   ]
  },
  {
   "cell_type": "code",
   "execution_count": 13,
   "metadata": {},
   "outputs": [],
   "source": [
    "y_pr_1 = prediction(x_train_1, x_test_1, y_train_1)"
   ]
  },
  {
   "cell_type": "code",
   "execution_count": 14,
   "metadata": {},
   "outputs": [],
   "source": [
    "y_pr_2 = prediction(x_train_2, x_test_2, y_train_2)"
   ]
  },
  {
   "cell_type": "markdown",
   "metadata": {},
   "source": [
    "### Calculation of metrics"
   ]
  },
  {
   "cell_type": "code",
   "execution_count": 15,
   "metadata": {},
   "outputs": [],
   "source": [
    "def count_rmse(y_test, y_pr):\n",
    "    rmse = mean_squared_error(y_test, y_pr, squared=False)\n",
    "    return rmse"
   ]
  },
  {
   "cell_type": "code",
   "execution_count": 16,
   "metadata": {
    "scrolled": false
   },
   "outputs": [
    {
     "name": "stdout",
     "output_type": "stream",
     "text": [
      "Регион 0\n",
      "RMSE: 37.74258669996437\n",
      "Средний запас предсказанного сырья: 92.49262459838863 тыс. баррелей\n"
     ]
    }
   ],
   "source": [
    "print(\"Регион 0\")\n",
    "print(\"RMSE:\", count_rmse(y_test_0, y_pr_0))\n",
    "print(\"Средний запас предсказанного сырья:\", y_pr_0.mean(), \"тыс. баррелей\")"
   ]
  },
  {
   "cell_type": "code",
   "execution_count": 17,
   "metadata": {},
   "outputs": [
    {
     "name": "stdout",
     "output_type": "stream",
     "text": [
      "Регион 1\n",
      "RMSE: 0.8943375629130574\n",
      "Средний запас предсказанного сырья: 69.12040524285558 тыс. баррелей\n"
     ]
    }
   ],
   "source": [
    "print(\"Регион 1\")\n",
    "print(\"RMSE:\", count_rmse(y_test_1, y_pr_1))\n",
    "print(\"Средний запас предсказанного сырья:\", y_pr_1.mean(), \"тыс. баррелей\")"
   ]
  },
  {
   "cell_type": "code",
   "execution_count": 18,
   "metadata": {
    "scrolled": true
   },
   "outputs": [
    {
     "name": "stdout",
     "output_type": "stream",
     "text": [
      "Регион 2\n",
      "RMSE: 39.86671127773423\n",
      "Средний запас предсказанного сырья: 94.9568304858529 тыс. баррелей\n"
     ]
    }
   ],
   "source": [
    "print(\"Регион 2\")\n",
    "print(\"RMSE:\", count_rmse(y_test_2, y_pr_2))\n",
    "print(\"Средний запас предсказанного сырья:\", y_pr_2.mean(), \"тыс. баррелей\")"
   ]
  },
  {
   "cell_type": "markdown",
   "metadata": {},
   "source": [
    "Linear regression was best trained in Region 1. More raw materials were predicted in Region 2."
   ]
  },
  {
   "cell_type": "markdown",
   "metadata": {},
   "source": [
    "## Calculation of profit and risks"
   ]
  },
  {
   "cell_type": "code",
   "execution_count": 19,
   "metadata": {},
   "outputs": [],
   "source": [
    "y_pr_0 = pd.Series(list(y_pr_0), name=\"product\")\n",
    "y_pr_1 = pd.Series(list(y_pr_1), name=\"product\")\n",
    "y_pr_2 = pd.Series(list(y_pr_2), name=\"product\")"
   ]
  },
  {
   "cell_type": "code",
   "execution_count": 20,
   "metadata": {
    "scrolled": true
   },
   "outputs": [],
   "source": [
    "y_true_0 = y_test_0.reset_index(drop=True).squeeze()\n",
    "y_true_1 = y_test_1.reset_index(drop=True).squeeze()\n",
    "y_true_2 = y_test_2.reset_index(drop=True).squeeze()"
   ]
  },
  {
   "cell_type": "code",
   "execution_count": 21,
   "metadata": {},
   "outputs": [],
   "source": [
    "#to find a sufficient volume of raw materials for the break-even development of a new well, it is necessary to have a budget for the development of wells in the region, 10 billion rubles, divided by the number of wells to be developed, 200, and then divided by the profit that the well can bring, 4.5 million rubles.\n",
    "budget_per_area = 1e11\n",
    "n_holes = 500\n",
    "n_max_holes = 200\n",
    "price_per_barrel = 4.5 * 1e6"
   ]
  },
  {
   "cell_type": "code",
   "execution_count": 22,
   "metadata": {
    "scrolled": true
   },
   "outputs": [
    {
     "name": "stdout",
     "output_type": "stream",
     "text": [
      "111.11111111111111 тыс. баррелей\n"
     ]
    }
   ],
   "source": [
    "min_volume = budget_per_area / n_max_holes / price_per_barrel\n",
    "print(min_volume, \"тыс. баррелей\")"
   ]
  },
  {
   "cell_type": "code",
   "execution_count": 23,
   "metadata": {},
   "outputs": [],
   "source": [
    "#a function to calculate the profit after the development of the 200 largest wells.\n",
    "def revenue(y_true, y_pr, count):\n",
    "    y_pr_sorted = y_pr.sort_values(ascending=False)\n",
    "    y_sel = y_true[y_pr_sorted.index][:count]\n",
    "    return ((price_per_barrel * y_sel.sum()) - budget_per_area) / 1e9"
   ]
  },
  {
   "cell_type": "markdown",
   "metadata": {},
   "source": [
    "- Bootstrap with 1000 samples is used to find the profit distribution. It is necessary to find the average return, 95% confidence interval, and risk of loss for each region."
   ]
  },
  {
   "cell_type": "code",
   "execution_count": 24,
   "metadata": {},
   "outputs": [],
   "source": [
    "state = np.random.RandomState(1) \n",
    "\n",
    "def revenue_bootstrap(y_true, y_pr):\n",
    "    values = []\n",
    "    \n",
    "    for i in range(1000):\n",
    "        y_true_subsample = y_true.sample(n=n_holes, replace=True, random_state=state)\n",
    "        y_pr_subsample = y_pr[y_true_subsample.index] \n",
    "        values.append(revenue(y_true_subsample, y_pr_subsample, n_max_holes))\n",
    "        \n",
    "    values = pd.Series(values)\n",
    "    lower = values.quantile(0.025)\n",
    "    upper = values.quantile(0.975)\n",
    "    mean = values.mean()\n",
    "    risk = (values < 0).mean() * 100\n",
    "    print(\"Средняя прибыль:\", mean, \"млрд.руб.\")\n",
    "    print(\"95%-й доверительный интервал:\", lower, \"-\", upper)\n",
    "    print(\"Риск убытков:\", risk, \"%\")"
   ]
  },
  {
   "cell_type": "code",
   "execution_count": 25,
   "metadata": {
    "scrolled": false
   },
   "outputs": [
    {
     "name": "stdout",
     "output_type": "stream",
     "text": [
      "Регион 0\n",
      "Средняя прибыль: 4.643776703569898 млрд.руб.\n",
      "95%-й доверительный интервал: -0.9845387716982542 - 10.074690990475634\n",
      "Риск убытков: 5.2 %\n"
     ]
    }
   ],
   "source": [
    "print(\"Регион 0\")\n",
    "revenue_bootstrap(y_true_0, y_pr_0)"
   ]
  },
  {
   "cell_type": "code",
   "execution_count": 26,
   "metadata": {},
   "outputs": [
    {
     "name": "stdout",
     "output_type": "stream",
     "text": [
      "Регион 1\n",
      "Средняя прибыль: 5.416368033879771 млрд.руб.\n",
      "95%-й доверительный интервал: 1.2520761425419107 - 9.609603373577178\n",
      "Риск убытков: 0.4 %\n"
     ]
    }
   ],
   "source": [
    "print(\"Регион 1\")\n",
    "revenue_bootstrap(y_true_1, y_pr_1)"
   ]
  },
  {
   "cell_type": "code",
   "execution_count": 27,
   "metadata": {
    "scrolled": true
   },
   "outputs": [
    {
     "name": "stdout",
     "output_type": "stream",
     "text": [
      "Регион 2\n",
      "Средняя прибыль: 4.201703713499941 млрд.руб.\n",
      "95%-й доверительный интервал: -1.0959781500023476 - 9.911556494251101\n",
      "Риск убытков: 6.7 %\n"
     ]
    }
   ],
   "source": [
    "print(\"Регион 2\")\n",
    "revenue_bootstrap(y_true_2, y_pr_2)"
   ]
  },
  {
   "cell_type": "code",
   "execution_count": null,
   "metadata": {},
   "outputs": [],
   "source": []
  }
 ],
 "metadata": {
  "ExecuteTimeLog": [
   {
    "duration": 1546,
    "start_time": "2022-04-06T10:50:16.171Z"
   },
   {
    "duration": 1101,
    "start_time": "2022-04-06T10:50:18.522Z"
   },
   {
    "duration": 338,
    "start_time": "2022-04-06T10:51:26.361Z"
   },
   {
    "duration": 1123,
    "start_time": "2022-04-06T10:54:09.207Z"
   },
   {
    "duration": 450,
    "start_time": "2022-04-06T10:54:10.333Z"
   },
   {
    "duration": 0,
    "start_time": "2022-04-06T10:54:10.785Z"
   },
   {
    "duration": 32129,
    "start_time": "2022-04-06T10:54:33.354Z"
   },
   {
    "duration": 532,
    "start_time": "2022-04-06T10:55:05.485Z"
   },
   {
    "duration": 0,
    "start_time": "2022-04-06T10:55:06.019Z"
   },
   {
    "duration": 500,
    "start_time": "2022-04-06T10:55:10.786Z"
   },
   {
    "duration": 0,
    "start_time": "2022-04-06T10:55:11.288Z"
   },
   {
    "duration": 945,
    "start_time": "2022-04-06T10:55:40.810Z"
   },
   {
    "duration": 1260,
    "start_time": "2022-04-06T10:55:46.698Z"
   },
   {
    "duration": 340,
    "start_time": "2022-04-06T10:55:47.960Z"
   },
   {
    "duration": 150,
    "start_time": "2022-04-06T10:58:10.219Z"
   },
   {
    "duration": 167,
    "start_time": "2022-04-06T10:58:25.344Z"
   },
   {
    "duration": 1305,
    "start_time": "2022-04-06T10:58:48.764Z"
   },
   {
    "duration": 347,
    "start_time": "2022-04-06T10:58:50.072Z"
   },
   {
    "duration": 200,
    "start_time": "2022-04-06T10:58:50.424Z"
   },
   {
    "duration": 102,
    "start_time": "2022-04-06T11:00:30.344Z"
   },
   {
    "duration": 46,
    "start_time": "2022-04-06T11:00:46.444Z"
   },
   {
    "duration": 72189,
    "start_time": "2022-04-06T11:03:18.840Z"
   },
   {
    "duration": 1334,
    "start_time": "2022-04-06T11:07:56.055Z"
   },
   {
    "duration": 353,
    "start_time": "2022-04-06T11:07:57.392Z"
   },
   {
    "duration": 63,
    "start_time": "2022-04-06T11:07:57.747Z"
   },
   {
    "duration": 17,
    "start_time": "2022-04-06T11:12:00.182Z"
   },
   {
    "duration": 28,
    "start_time": "2022-04-06T11:12:05.034Z"
   },
   {
    "duration": 1161,
    "start_time": "2022-04-06T11:18:20.796Z"
   },
   {
    "duration": 364,
    "start_time": "2022-04-06T11:18:21.959Z"
   },
   {
    "duration": 49,
    "start_time": "2022-04-06T11:18:22.324Z"
   },
   {
    "duration": 34,
    "start_time": "2022-04-06T11:18:22.375Z"
   },
   {
    "duration": 3,
    "start_time": "2022-04-06T11:18:22.411Z"
   },
   {
    "duration": 21,
    "start_time": "2022-04-06T11:18:22.415Z"
   },
   {
    "duration": 12,
    "start_time": "2022-04-06T11:19:14.645Z"
   },
   {
    "duration": 10,
    "start_time": "2022-04-06T11:19:37.184Z"
   },
   {
    "duration": 8,
    "start_time": "2022-04-06T11:19:44.607Z"
   },
   {
    "duration": 8,
    "start_time": "2022-04-06T11:19:49.394Z"
   },
   {
    "duration": 1111,
    "start_time": "2022-04-06T11:20:41.337Z"
   },
   {
    "duration": 352,
    "start_time": "2022-04-06T11:20:42.451Z"
   },
   {
    "duration": 51,
    "start_time": "2022-04-06T11:20:42.807Z"
   },
   {
    "duration": 16,
    "start_time": "2022-04-06T11:20:42.860Z"
   },
   {
    "duration": 5,
    "start_time": "2022-04-06T11:20:42.877Z"
   },
   {
    "duration": 42,
    "start_time": "2022-04-06T11:20:42.884Z"
   },
   {
    "duration": 16,
    "start_time": "2022-04-06T11:20:42.928Z"
   },
   {
    "duration": 17,
    "start_time": "2022-04-06T11:21:27.524Z"
   },
   {
    "duration": 1142,
    "start_time": "2022-04-06T11:34:48.886Z"
   },
   {
    "duration": 349,
    "start_time": "2022-04-06T11:34:50.532Z"
   },
   {
    "duration": 49,
    "start_time": "2022-04-06T11:34:51.671Z"
   },
   {
    "duration": 16,
    "start_time": "2022-04-06T11:35:00.969Z"
   },
   {
    "duration": 3,
    "start_time": "2022-04-06T11:35:04.594Z"
   },
   {
    "duration": 16,
    "start_time": "2022-04-06T11:35:05.546Z"
   },
   {
    "duration": 20,
    "start_time": "2022-04-06T11:35:43.657Z"
   },
   {
    "duration": 6,
    "start_time": "2022-04-06T11:38:57.027Z"
   },
   {
    "duration": 12,
    "start_time": "2022-04-06T11:39:40.579Z"
   },
   {
    "duration": 5,
    "start_time": "2022-04-06T11:39:44.339Z"
   },
   {
    "duration": 1134,
    "start_time": "2022-04-06T11:40:05.209Z"
   },
   {
    "duration": 369,
    "start_time": "2022-04-06T11:40:06.954Z"
   },
   {
    "duration": 50,
    "start_time": "2022-04-06T11:40:07.876Z"
   },
   {
    "duration": 19,
    "start_time": "2022-04-06T11:40:09.311Z"
   },
   {
    "duration": 3,
    "start_time": "2022-04-06T11:40:11.630Z"
   },
   {
    "duration": 17,
    "start_time": "2022-04-06T11:40:12.302Z"
   },
   {
    "duration": 15,
    "start_time": "2022-04-06T11:40:13.287Z"
   },
   {
    "duration": 7,
    "start_time": "2022-04-06T11:40:14.269Z"
   },
   {
    "duration": 95,
    "start_time": "2022-04-06T11:41:59.620Z"
   },
   {
    "duration": 289,
    "start_time": "2022-04-06T11:42:03.187Z"
   },
   {
    "duration": 15,
    "start_time": "2022-04-06T11:42:06.442Z"
   },
   {
    "duration": 1385,
    "start_time": "2022-04-06T11:42:20.988Z"
   },
   {
    "duration": 364,
    "start_time": "2022-04-06T11:42:22.375Z"
   },
   {
    "duration": 46,
    "start_time": "2022-04-06T11:42:22.987Z"
   },
   {
    "duration": 18,
    "start_time": "2022-04-06T11:42:24.449Z"
   },
   {
    "duration": 3,
    "start_time": "2022-04-06T11:42:26.851Z"
   },
   {
    "duration": 16,
    "start_time": "2022-04-06T11:42:27.478Z"
   },
   {
    "duration": 17,
    "start_time": "2022-04-06T11:42:28.071Z"
   },
   {
    "duration": 6,
    "start_time": "2022-04-06T11:42:28.940Z"
   },
   {
    "duration": 105,
    "start_time": "2022-04-06T11:42:35.396Z"
   },
   {
    "duration": 157,
    "start_time": "2022-04-06T11:42:48.264Z"
   },
   {
    "duration": 1492,
    "start_time": "2022-04-06T11:51:08.616Z"
   },
   {
    "duration": 364,
    "start_time": "2022-04-06T11:51:10.110Z"
   },
   {
    "duration": 52,
    "start_time": "2022-04-06T11:51:10.939Z"
   },
   {
    "duration": 17,
    "start_time": "2022-04-06T11:51:12.391Z"
   },
   {
    "duration": 2,
    "start_time": "2022-04-06T11:51:17.233Z"
   },
   {
    "duration": 18,
    "start_time": "2022-04-06T11:51:18.840Z"
   },
   {
    "duration": 157,
    "start_time": "2022-04-06T11:53:19.530Z"
   },
   {
    "duration": 151,
    "start_time": "2022-04-06T11:53:30.194Z"
   },
   {
    "duration": 173,
    "start_time": "2022-04-06T11:53:40.205Z"
   },
   {
    "duration": 1354,
    "start_time": "2022-04-06T11:57:06.224Z"
   },
   {
    "duration": 346,
    "start_time": "2022-04-06T11:57:07.580Z"
   },
   {
    "duration": 48,
    "start_time": "2022-04-06T11:57:08.730Z"
   },
   {
    "duration": 17,
    "start_time": "2022-04-06T11:57:10.636Z"
   },
   {
    "duration": 3,
    "start_time": "2022-04-06T12:03:22.749Z"
   },
   {
    "duration": 17,
    "start_time": "2022-04-06T12:03:26.053Z"
   },
   {
    "duration": 15,
    "start_time": "2022-04-06T12:03:27.319Z"
   },
   {
    "duration": 6,
    "start_time": "2022-04-06T12:03:28.197Z"
   },
   {
    "duration": 174,
    "start_time": "2022-04-06T12:03:38.573Z"
   },
   {
    "duration": 103,
    "start_time": "2022-04-06T12:03:57.285Z"
   },
   {
    "duration": 5,
    "start_time": "2022-04-06T12:04:02.503Z"
   },
   {
    "duration": 6,
    "start_time": "2022-04-06T12:04:49.135Z"
   },
   {
    "duration": 5,
    "start_time": "2022-04-06T12:04:52.063Z"
   },
   {
    "duration": 1527,
    "start_time": "2022-04-06T12:07:08.658Z"
   },
   {
    "duration": 347,
    "start_time": "2022-04-06T12:07:10.186Z"
   },
   {
    "duration": 45,
    "start_time": "2022-04-06T12:07:10.535Z"
   },
   {
    "duration": 27,
    "start_time": "2022-04-06T12:07:10.582Z"
   },
   {
    "duration": 4,
    "start_time": "2022-04-06T12:07:10.611Z"
   },
   {
    "duration": 18,
    "start_time": "2022-04-06T12:07:10.617Z"
   },
   {
    "duration": 74,
    "start_time": "2022-04-06T12:07:10.637Z"
   },
   {
    "duration": 97,
    "start_time": "2022-04-06T12:07:10.714Z"
   },
   {
    "duration": 5,
    "start_time": "2022-04-06T12:07:10.813Z"
   },
   {
    "duration": 1308,
    "start_time": "2022-04-06T12:09:27.052Z"
   },
   {
    "duration": 347,
    "start_time": "2022-04-06T12:09:28.362Z"
   },
   {
    "duration": 45,
    "start_time": "2022-04-06T12:09:28.711Z"
   },
   {
    "duration": 16,
    "start_time": "2022-04-06T12:09:28.758Z"
   },
   {
    "duration": 5,
    "start_time": "2022-04-06T12:09:28.776Z"
   },
   {
    "duration": 40,
    "start_time": "2022-04-06T12:09:28.782Z"
   },
   {
    "duration": 85,
    "start_time": "2022-04-06T12:09:28.824Z"
   },
   {
    "duration": 99,
    "start_time": "2022-04-06T12:09:28.912Z"
   },
   {
    "duration": 16,
    "start_time": "2022-04-06T12:09:29.013Z"
   },
   {
    "duration": 13,
    "start_time": "2022-04-06T12:09:29.032Z"
   },
   {
    "duration": 67,
    "start_time": "2022-04-06T12:09:29.048Z"
   },
   {
    "duration": 105,
    "start_time": "2022-04-06T12:09:29.118Z"
   },
   {
    "duration": 13,
    "start_time": "2022-04-06T12:09:29.224Z"
   },
   {
    "duration": 169,
    "start_time": "2022-04-06T12:09:29.240Z"
   },
   {
    "duration": 13,
    "start_time": "2022-04-06T12:10:21.115Z"
   },
   {
    "duration": 1290,
    "start_time": "2022-04-06T12:10:45.780Z"
   },
   {
    "duration": 341,
    "start_time": "2022-04-06T12:10:47.071Z"
   },
   {
    "duration": 47,
    "start_time": "2022-04-06T12:10:47.414Z"
   },
   {
    "duration": 15,
    "start_time": "2022-04-06T12:10:47.464Z"
   },
   {
    "duration": 5,
    "start_time": "2022-04-06T12:10:47.481Z"
   },
   {
    "duration": 17,
    "start_time": "2022-04-06T12:10:47.509Z"
   },
   {
    "duration": 17,
    "start_time": "2022-04-06T12:10:47.528Z"
   },
   {
    "duration": 72,
    "start_time": "2022-04-06T12:10:47.546Z"
   },
   {
    "duration": 16,
    "start_time": "2022-04-06T12:10:47.709Z"
   },
   {
    "duration": 16,
    "start_time": "2022-04-06T12:10:47.728Z"
   },
   {
    "duration": 100,
    "start_time": "2022-04-06T12:10:47.809Z"
   },
   {
    "duration": 16,
    "start_time": "2022-04-06T12:10:47.911Z"
   },
   {
    "duration": 14,
    "start_time": "2022-04-06T12:10:47.929Z"
   },
   {
    "duration": 70,
    "start_time": "2022-04-06T12:10:47.946Z"
   },
   {
    "duration": 1352,
    "start_time": "2022-04-06T12:11:17.916Z"
   },
   {
    "duration": 354,
    "start_time": "2022-04-06T12:11:19.271Z"
   },
   {
    "duration": 51,
    "start_time": "2022-04-06T12:11:19.627Z"
   },
   {
    "duration": 34,
    "start_time": "2022-04-06T12:11:19.680Z"
   },
   {
    "duration": 16,
    "start_time": "2022-04-06T12:11:19.717Z"
   },
   {
    "duration": 28,
    "start_time": "2022-04-06T12:11:19.735Z"
   },
   {
    "duration": 45,
    "start_time": "2022-04-06T12:11:19.765Z"
   },
   {
    "duration": 99,
    "start_time": "2022-04-06T12:11:19.812Z"
   },
   {
    "duration": 22,
    "start_time": "2022-04-06T12:11:19.912Z"
   },
   {
    "duration": 14,
    "start_time": "2022-04-06T12:11:19.936Z"
   },
   {
    "duration": 64,
    "start_time": "2022-04-06T12:11:19.953Z"
   },
   {
    "duration": 115,
    "start_time": "2022-04-06T12:11:20.018Z"
   },
   {
    "duration": 16,
    "start_time": "2022-04-06T12:11:20.135Z"
   },
   {
    "duration": 101,
    "start_time": "2022-04-06T12:11:20.209Z"
   },
   {
    "duration": 1376,
    "start_time": "2022-04-06T12:12:12.563Z"
   },
   {
    "duration": 357,
    "start_time": "2022-04-06T12:12:13.941Z"
   },
   {
    "duration": 48,
    "start_time": "2022-04-06T12:12:14.300Z"
   },
   {
    "duration": 17,
    "start_time": "2022-04-06T12:12:14.349Z"
   },
   {
    "duration": 6,
    "start_time": "2022-04-06T12:12:14.369Z"
   },
   {
    "duration": 43,
    "start_time": "2022-04-06T12:12:14.377Z"
   },
   {
    "duration": 87,
    "start_time": "2022-04-06T12:12:14.422Z"
   },
   {
    "duration": 99,
    "start_time": "2022-04-06T12:12:14.511Z"
   },
   {
    "duration": 15,
    "start_time": "2022-04-06T12:12:14.612Z"
   },
   {
    "duration": 15,
    "start_time": "2022-04-06T12:12:14.629Z"
   },
   {
    "duration": 71,
    "start_time": "2022-04-06T12:12:14.646Z"
   },
   {
    "duration": 105,
    "start_time": "2022-04-06T12:12:14.719Z"
   },
   {
    "duration": 14,
    "start_time": "2022-04-06T12:12:14.826Z"
   },
   {
    "duration": 73,
    "start_time": "2022-04-06T12:12:14.843Z"
   },
   {
    "duration": 1362,
    "start_time": "2022-04-06T12:14:28.889Z"
   },
   {
    "duration": 350,
    "start_time": "2022-04-06T12:14:30.253Z"
   },
   {
    "duration": 45,
    "start_time": "2022-04-06T12:14:30.605Z"
   },
   {
    "duration": 16,
    "start_time": "2022-04-06T12:14:30.652Z"
   },
   {
    "duration": 10,
    "start_time": "2022-04-06T12:14:30.669Z"
   },
   {
    "duration": 40,
    "start_time": "2022-04-06T12:14:30.680Z"
   },
   {
    "duration": 15,
    "start_time": "2022-04-06T12:14:30.721Z"
   },
   {
    "duration": 172,
    "start_time": "2022-04-06T12:14:30.738Z"
   },
   {
    "duration": 16,
    "start_time": "2022-04-06T12:14:30.912Z"
   },
   {
    "duration": 13,
    "start_time": "2022-04-06T12:14:30.931Z"
   },
   {
    "duration": 8,
    "start_time": "2022-04-06T12:14:31.008Z"
   },
   {
    "duration": 109,
    "start_time": "2022-04-06T12:14:31.018Z"
   },
   {
    "duration": 12,
    "start_time": "2022-04-06T12:14:31.128Z"
   },
   {
    "duration": 73,
    "start_time": "2022-04-06T12:14:31.143Z"
   },
   {
    "duration": 1384,
    "start_time": "2022-04-06T12:16:04.308Z"
   },
   {
    "duration": 351,
    "start_time": "2022-04-06T12:16:05.694Z"
   },
   {
    "duration": 61,
    "start_time": "2022-04-06T12:16:06.049Z"
   },
   {
    "duration": 17,
    "start_time": "2022-04-06T12:16:06.111Z"
   },
   {
    "duration": 5,
    "start_time": "2022-04-06T12:16:06.130Z"
   },
   {
    "duration": 19,
    "start_time": "2022-04-06T12:16:06.137Z"
   },
   {
    "duration": 54,
    "start_time": "2022-04-06T12:16:06.158Z"
   },
   {
    "duration": 6,
    "start_time": "2022-04-06T12:16:06.308Z"
   },
   {
    "duration": 18,
    "start_time": "2022-04-06T12:16:06.316Z"
   },
   {
    "duration": 13,
    "start_time": "2022-04-06T12:16:06.336Z"
   },
   {
    "duration": 108,
    "start_time": "2022-04-06T12:16:06.408Z"
   },
   {
    "duration": 27,
    "start_time": "2022-04-06T12:16:06.518Z"
   },
   {
    "duration": 15,
    "start_time": "2022-04-06T12:16:06.546Z"
   },
   {
    "duration": 48,
    "start_time": "2022-04-06T12:16:06.563Z"
   },
   {
    "duration": 15,
    "start_time": "2022-04-06T12:17:34.848Z"
   },
   {
    "duration": 8,
    "start_time": "2022-04-06T12:17:36.130Z"
   },
   {
    "duration": 15,
    "start_time": "2022-04-06T12:17:51.752Z"
   },
   {
    "duration": 6,
    "start_time": "2022-04-06T12:17:55.599Z"
   },
   {
    "duration": 14,
    "start_time": "2022-04-06T12:18:04.890Z"
   },
   {
    "duration": 6,
    "start_time": "2022-04-06T12:18:06.769Z"
   },
   {
    "duration": 14,
    "start_time": "2022-04-06T12:18:45.438Z"
   },
   {
    "duration": 6,
    "start_time": "2022-04-06T12:18:47.314Z"
   },
   {
    "duration": 12,
    "start_time": "2022-04-06T12:18:53.087Z"
   },
   {
    "duration": 6,
    "start_time": "2022-04-06T12:18:54.572Z"
   },
   {
    "duration": 13,
    "start_time": "2022-04-06T12:19:17.820Z"
   },
   {
    "duration": 6,
    "start_time": "2022-04-06T12:19:18.765Z"
   },
   {
    "duration": 12,
    "start_time": "2022-04-06T12:19:30.503Z"
   },
   {
    "duration": 7,
    "start_time": "2022-04-06T12:19:31.937Z"
   },
   {
    "duration": 1300,
    "start_time": "2022-04-06T12:19:43.050Z"
   },
   {
    "duration": 339,
    "start_time": "2022-04-06T12:19:44.351Z"
   },
   {
    "duration": 52,
    "start_time": "2022-04-06T12:19:44.692Z"
   },
   {
    "duration": 16,
    "start_time": "2022-04-06T12:19:44.746Z"
   },
   {
    "duration": 6,
    "start_time": "2022-04-06T12:19:44.764Z"
   },
   {
    "duration": 40,
    "start_time": "2022-04-06T12:19:44.771Z"
   },
   {
    "duration": 15,
    "start_time": "2022-04-06T12:19:44.812Z"
   },
   {
    "duration": 86,
    "start_time": "2022-04-06T12:19:44.829Z"
   },
   {
    "duration": 113,
    "start_time": "2022-04-06T12:19:44.917Z"
   },
   {
    "duration": 13,
    "start_time": "2022-04-06T12:19:45.033Z"
   },
   {
    "duration": 67,
    "start_time": "2022-04-06T12:19:45.048Z"
   },
   {
    "duration": 109,
    "start_time": "2022-04-06T12:19:45.117Z"
   },
   {
    "duration": 15,
    "start_time": "2022-04-06T12:19:45.228Z"
   },
   {
    "duration": 164,
    "start_time": "2022-04-06T12:19:45.245Z"
   },
   {
    "duration": 5,
    "start_time": "2022-04-06T12:35:00.331Z"
   },
   {
    "duration": 98,
    "start_time": "2022-04-06T12:36:25.067Z"
   },
   {
    "duration": 4,
    "start_time": "2022-04-06T12:36:48.918Z"
   },
   {
    "duration": 3,
    "start_time": "2022-04-06T12:37:06.573Z"
   },
   {
    "duration": 5,
    "start_time": "2022-04-06T12:37:10.784Z"
   },
   {
    "duration": 11,
    "start_time": "2022-04-06T12:37:49.508Z"
   },
   {
    "duration": 10,
    "start_time": "2022-04-06T12:47:59.034Z"
   },
   {
    "duration": 17,
    "start_time": "2022-04-06T12:48:43.696Z"
   },
   {
    "duration": 31,
    "start_time": "2022-04-06T12:49:13.212Z"
   },
   {
    "duration": 1388,
    "start_time": "2022-04-06T12:52:12.011Z"
   },
   {
    "duration": 353,
    "start_time": "2022-04-06T12:52:13.401Z"
   },
   {
    "duration": 61,
    "start_time": "2022-04-06T12:52:13.755Z"
   },
   {
    "duration": 16,
    "start_time": "2022-04-06T12:52:13.818Z"
   },
   {
    "duration": 4,
    "start_time": "2022-04-06T12:52:13.837Z"
   },
   {
    "duration": 23,
    "start_time": "2022-04-06T12:52:13.842Z"
   },
   {
    "duration": 46,
    "start_time": "2022-04-06T12:52:13.867Z"
   },
   {
    "duration": 99,
    "start_time": "2022-04-06T12:52:13.915Z"
   },
   {
    "duration": 27,
    "start_time": "2022-04-06T12:52:14.015Z"
   },
   {
    "duration": 65,
    "start_time": "2022-04-06T12:52:14.044Z"
   },
   {
    "duration": 99,
    "start_time": "2022-04-06T12:52:14.111Z"
   },
   {
    "duration": 16,
    "start_time": "2022-04-06T12:52:14.212Z"
   },
   {
    "duration": 17,
    "start_time": "2022-04-06T12:52:14.230Z"
   },
   {
    "duration": 10,
    "start_time": "2022-04-06T12:52:14.308Z"
   },
   {
    "duration": 37,
    "start_time": "2022-04-06T12:52:14.409Z"
   },
   {
    "duration": 16,
    "start_time": "2022-04-06T12:52:14.448Z"
   },
   {
    "duration": 1066,
    "start_time": "2022-04-06T13:11:20.666Z"
   },
   {
    "duration": 351,
    "start_time": "2022-04-06T13:11:21.734Z"
   },
   {
    "duration": 54,
    "start_time": "2022-04-06T13:11:22.090Z"
   },
   {
    "duration": 19,
    "start_time": "2022-04-06T13:11:22.146Z"
   },
   {
    "duration": 3,
    "start_time": "2022-04-06T13:11:22.167Z"
   },
   {
    "duration": 44,
    "start_time": "2022-04-06T13:11:22.172Z"
   },
   {
    "duration": 22,
    "start_time": "2022-04-06T13:11:22.219Z"
   },
   {
    "duration": 100,
    "start_time": "2022-04-06T13:11:22.310Z"
   },
   {
    "duration": 15,
    "start_time": "2022-04-06T13:11:22.413Z"
   },
   {
    "duration": 13,
    "start_time": "2022-04-06T13:11:22.429Z"
   },
   {
    "duration": 10,
    "start_time": "2022-04-06T13:11:22.508Z"
   },
   {
    "duration": 15,
    "start_time": "2022-04-06T13:11:22.610Z"
   },
   {
    "duration": 16,
    "start_time": "2022-04-06T13:11:22.626Z"
   },
   {
    "duration": 99,
    "start_time": "2022-04-06T13:11:22.710Z"
   },
   {
    "duration": 29,
    "start_time": "2022-04-06T13:11:22.811Z"
   },
   {
    "duration": 5,
    "start_time": "2022-04-06T13:11:22.842Z"
   },
   {
    "duration": 5,
    "start_time": "2022-04-06T13:11:22.849Z"
   },
   {
    "duration": 1130,
    "start_time": "2022-04-06T13:14:45.099Z"
   },
   {
    "duration": 353,
    "start_time": "2022-04-06T13:14:46.231Z"
   },
   {
    "duration": 56,
    "start_time": "2022-04-06T13:14:46.586Z"
   },
   {
    "duration": 16,
    "start_time": "2022-04-06T13:14:46.645Z"
   },
   {
    "duration": 4,
    "start_time": "2022-04-06T13:14:46.663Z"
   },
   {
    "duration": 45,
    "start_time": "2022-04-06T13:14:46.669Z"
   },
   {
    "duration": 93,
    "start_time": "2022-04-06T13:14:46.716Z"
   },
   {
    "duration": 99,
    "start_time": "2022-04-06T13:14:46.812Z"
   },
   {
    "duration": 15,
    "start_time": "2022-04-06T13:14:46.913Z"
   },
   {
    "duration": 81,
    "start_time": "2022-04-06T13:14:46.931Z"
   },
   {
    "duration": 97,
    "start_time": "2022-04-06T13:14:47.015Z"
   },
   {
    "duration": 16,
    "start_time": "2022-04-06T13:14:47.114Z"
   },
   {
    "duration": 77,
    "start_time": "2022-04-06T13:14:47.132Z"
   },
   {
    "duration": 98,
    "start_time": "2022-04-06T13:14:47.211Z"
   },
   {
    "duration": 29,
    "start_time": "2022-04-06T13:14:47.311Z"
   },
   {
    "duration": 3,
    "start_time": "2022-04-06T13:14:47.342Z"
   },
   {
    "duration": 4,
    "start_time": "2022-04-06T13:14:47.347Z"
   },
   {
    "duration": 3,
    "start_time": "2022-04-06T13:16:12.456Z"
   },
   {
    "duration": 3,
    "start_time": "2022-04-06T13:16:21.734Z"
   },
   {
    "duration": 4,
    "start_time": "2022-04-06T13:21:33.255Z"
   },
   {
    "duration": 1090,
    "start_time": "2022-04-06T13:21:50.938Z"
   },
   {
    "duration": 353,
    "start_time": "2022-04-06T13:21:52.030Z"
   },
   {
    "duration": 58,
    "start_time": "2022-04-06T13:21:52.385Z"
   },
   {
    "duration": 17,
    "start_time": "2022-04-06T13:21:52.445Z"
   },
   {
    "duration": 5,
    "start_time": "2022-04-06T13:21:52.463Z"
   },
   {
    "duration": 18,
    "start_time": "2022-04-06T13:21:52.469Z"
   },
   {
    "duration": 36,
    "start_time": "2022-04-06T13:21:52.488Z"
   },
   {
    "duration": 84,
    "start_time": "2022-04-06T13:21:52.526Z"
   },
   {
    "duration": 104,
    "start_time": "2022-04-06T13:21:52.613Z"
   },
   {
    "duration": 20,
    "start_time": "2022-04-06T13:21:52.720Z"
   },
   {
    "duration": 99,
    "start_time": "2022-04-06T13:21:52.810Z"
   },
   {
    "duration": 15,
    "start_time": "2022-04-06T13:21:52.911Z"
   },
   {
    "duration": 13,
    "start_time": "2022-04-06T13:21:52.928Z"
   },
   {
    "duration": 67,
    "start_time": "2022-04-06T13:21:52.944Z"
   },
   {
    "duration": 120,
    "start_time": "2022-04-06T13:21:53.013Z"
   },
   {
    "duration": 3,
    "start_time": "2022-04-06T13:21:53.135Z"
   },
   {
    "duration": 4,
    "start_time": "2022-04-06T13:21:53.140Z"
   },
   {
    "duration": 5,
    "start_time": "2022-04-06T13:21:53.146Z"
   },
   {
    "duration": 9,
    "start_time": "2022-04-06T13:22:02.878Z"
   },
   {
    "duration": 1073,
    "start_time": "2022-04-06T13:22:49.444Z"
   },
   {
    "duration": 343,
    "start_time": "2022-04-06T13:22:50.518Z"
   },
   {
    "duration": 56,
    "start_time": "2022-04-06T13:22:50.863Z"
   },
   {
    "duration": 16,
    "start_time": "2022-04-06T13:22:50.921Z"
   },
   {
    "duration": 5,
    "start_time": "2022-04-06T13:22:50.938Z"
   },
   {
    "duration": 19,
    "start_time": "2022-04-06T13:22:50.944Z"
   },
   {
    "duration": 51,
    "start_time": "2022-04-06T13:22:50.965Z"
   },
   {
    "duration": 96,
    "start_time": "2022-04-06T13:22:51.018Z"
   },
   {
    "duration": 18,
    "start_time": "2022-04-06T13:22:51.116Z"
   },
   {
    "duration": 15,
    "start_time": "2022-04-06T13:22:51.136Z"
   },
   {
    "duration": 99,
    "start_time": "2022-04-06T13:22:51.212Z"
   },
   {
    "duration": 16,
    "start_time": "2022-04-06T13:22:51.313Z"
   },
   {
    "duration": 14,
    "start_time": "2022-04-06T13:22:51.331Z"
   },
   {
    "duration": 63,
    "start_time": "2022-04-06T13:22:51.347Z"
   },
   {
    "duration": 119,
    "start_time": "2022-04-06T13:22:51.412Z"
   },
   {
    "duration": 3,
    "start_time": "2022-04-06T13:22:51.533Z"
   },
   {
    "duration": 5,
    "start_time": "2022-04-06T13:22:51.537Z"
   },
   {
    "duration": 9,
    "start_time": "2022-04-06T13:22:51.543Z"
   },
   {
    "duration": 4,
    "start_time": "2022-04-06T13:23:02.544Z"
   },
   {
    "duration": 1058,
    "start_time": "2022-04-06T13:23:37.676Z"
   },
   {
    "duration": 350,
    "start_time": "2022-04-06T13:23:38.736Z"
   },
   {
    "duration": 53,
    "start_time": "2022-04-06T13:23:39.088Z"
   },
   {
    "duration": 17,
    "start_time": "2022-04-06T13:23:39.144Z"
   },
   {
    "duration": 3,
    "start_time": "2022-04-06T13:23:39.163Z"
   },
   {
    "duration": 17,
    "start_time": "2022-04-06T13:23:39.168Z"
   },
   {
    "duration": 22,
    "start_time": "2022-04-06T13:23:39.209Z"
   },
   {
    "duration": 97,
    "start_time": "2022-04-06T13:23:39.312Z"
   },
   {
    "duration": 17,
    "start_time": "2022-04-06T13:23:39.411Z"
   },
   {
    "duration": 14,
    "start_time": "2022-04-06T13:23:39.431Z"
   },
   {
    "duration": 101,
    "start_time": "2022-04-06T13:23:39.509Z"
   },
   {
    "duration": 17,
    "start_time": "2022-04-06T13:23:39.611Z"
   },
   {
    "duration": 15,
    "start_time": "2022-04-06T13:23:39.629Z"
   },
   {
    "duration": 68,
    "start_time": "2022-04-06T13:23:39.647Z"
   },
   {
    "duration": 116,
    "start_time": "2022-04-06T13:23:39.717Z"
   },
   {
    "duration": 5,
    "start_time": "2022-04-06T13:23:39.835Z"
   },
   {
    "duration": 4,
    "start_time": "2022-04-06T13:23:39.842Z"
   },
   {
    "duration": 6,
    "start_time": "2022-04-06T13:23:39.848Z"
   },
   {
    "duration": 1106,
    "start_time": "2022-04-06T13:24:30.323Z"
   },
   {
    "duration": 348,
    "start_time": "2022-04-06T13:24:31.431Z"
   },
   {
    "duration": 54,
    "start_time": "2022-04-06T13:24:31.781Z"
   },
   {
    "duration": 16,
    "start_time": "2022-04-06T13:24:31.837Z"
   },
   {
    "duration": 6,
    "start_time": "2022-04-06T13:24:31.854Z"
   },
   {
    "duration": 17,
    "start_time": "2022-04-06T13:24:31.861Z"
   },
   {
    "duration": 34,
    "start_time": "2022-04-06T13:24:31.880Z"
   },
   {
    "duration": 94,
    "start_time": "2022-04-06T13:24:31.916Z"
   },
   {
    "duration": 104,
    "start_time": "2022-04-06T13:24:32.013Z"
   },
   {
    "duration": 14,
    "start_time": "2022-04-06T13:24:32.120Z"
   },
   {
    "duration": 80,
    "start_time": "2022-04-06T13:24:32.137Z"
   },
   {
    "duration": 15,
    "start_time": "2022-04-06T13:24:32.310Z"
   },
   {
    "duration": 14,
    "start_time": "2022-04-06T13:24:32.327Z"
   },
   {
    "duration": 66,
    "start_time": "2022-04-06T13:24:32.344Z"
   },
   {
    "duration": 119,
    "start_time": "2022-04-06T13:24:32.413Z"
   },
   {
    "duration": 8,
    "start_time": "2022-04-06T13:24:32.533Z"
   },
   {
    "duration": 4,
    "start_time": "2022-04-06T13:24:32.542Z"
   },
   {
    "duration": 8,
    "start_time": "2022-04-06T13:24:32.548Z"
   },
   {
    "duration": 3,
    "start_time": "2022-04-06T13:25:25.377Z"
   },
   {
    "duration": 6,
    "start_time": "2022-04-06T13:25:28.218Z"
   },
   {
    "duration": 1080,
    "start_time": "2022-04-06T13:25:34.052Z"
   },
   {
    "duration": 345,
    "start_time": "2022-04-06T13:25:35.134Z"
   },
   {
    "duration": 55,
    "start_time": "2022-04-06T13:25:35.481Z"
   },
   {
    "duration": 14,
    "start_time": "2022-04-06T13:25:35.538Z"
   },
   {
    "duration": 5,
    "start_time": "2022-04-06T13:25:35.554Z"
   },
   {
    "duration": 19,
    "start_time": "2022-04-06T13:25:35.560Z"
   },
   {
    "duration": 45,
    "start_time": "2022-04-06T13:25:35.581Z"
   },
   {
    "duration": 182,
    "start_time": "2022-04-06T13:25:35.627Z"
   },
   {
    "duration": 16,
    "start_time": "2022-04-06T13:25:35.811Z"
   },
   {
    "duration": 81,
    "start_time": "2022-04-06T13:25:35.829Z"
   },
   {
    "duration": 97,
    "start_time": "2022-04-06T13:25:35.913Z"
   },
   {
    "duration": 16,
    "start_time": "2022-04-06T13:25:36.012Z"
   },
   {
    "duration": 79,
    "start_time": "2022-04-06T13:25:36.030Z"
   },
   {
    "duration": 97,
    "start_time": "2022-04-06T13:25:36.114Z"
   },
   {
    "duration": 110,
    "start_time": "2022-04-06T13:25:36.213Z"
   },
   {
    "duration": 0,
    "start_time": "2022-04-06T13:25:36.325Z"
   },
   {
    "duration": 0,
    "start_time": "2022-04-06T13:25:36.328Z"
   },
   {
    "duration": 0,
    "start_time": "2022-04-06T13:25:36.329Z"
   },
   {
    "duration": 12,
    "start_time": "2022-04-06T13:25:52.189Z"
   },
   {
    "duration": 1140,
    "start_time": "2022-04-06T13:29:52.985Z"
   },
   {
    "duration": 333,
    "start_time": "2022-04-06T13:29:54.127Z"
   },
   {
    "duration": 58,
    "start_time": "2022-04-06T13:29:54.462Z"
   },
   {
    "duration": 16,
    "start_time": "2022-04-06T13:29:54.523Z"
   },
   {
    "duration": 5,
    "start_time": "2022-04-06T13:29:54.541Z"
   },
   {
    "duration": 18,
    "start_time": "2022-04-06T13:29:54.547Z"
   },
   {
    "duration": 43,
    "start_time": "2022-04-06T13:29:54.567Z"
   },
   {
    "duration": 100,
    "start_time": "2022-04-06T13:29:54.612Z"
   },
   {
    "duration": 16,
    "start_time": "2022-04-06T13:29:54.713Z"
   },
   {
    "duration": 13,
    "start_time": "2022-04-06T13:29:54.731Z"
   },
   {
    "duration": 68,
    "start_time": "2022-04-06T13:29:54.747Z"
   },
   {
    "duration": 105,
    "start_time": "2022-04-06T13:29:54.819Z"
   },
   {
    "duration": 14,
    "start_time": "2022-04-06T13:29:54.925Z"
   },
   {
    "duration": 75,
    "start_time": "2022-04-06T13:29:54.941Z"
   },
   {
    "duration": 106,
    "start_time": "2022-04-06T13:29:55.018Z"
   },
   {
    "duration": 110,
    "start_time": "2022-04-06T13:29:55.126Z"
   },
   {
    "duration": 0,
    "start_time": "2022-04-06T13:29:55.238Z"
   },
   {
    "duration": 0,
    "start_time": "2022-04-06T13:29:55.240Z"
   },
   {
    "duration": 2,
    "start_time": "2022-04-06T13:31:25.708Z"
   },
   {
    "duration": 3,
    "start_time": "2022-04-06T13:31:29.639Z"
   },
   {
    "duration": 4,
    "start_time": "2022-04-06T13:31:31.366Z"
   },
   {
    "duration": 4,
    "start_time": "2022-04-06T13:31:58.098Z"
   },
   {
    "duration": 1080,
    "start_time": "2022-04-06T13:34:15.966Z"
   },
   {
    "duration": 361,
    "start_time": "2022-04-06T13:34:17.048Z"
   },
   {
    "duration": 53,
    "start_time": "2022-04-06T13:34:17.411Z"
   },
   {
    "duration": 18,
    "start_time": "2022-04-06T13:34:17.466Z"
   },
   {
    "duration": 25,
    "start_time": "2022-04-06T13:34:17.485Z"
   },
   {
    "duration": 20,
    "start_time": "2022-04-06T13:34:17.511Z"
   },
   {
    "duration": 15,
    "start_time": "2022-04-06T13:34:17.533Z"
   },
   {
    "duration": 60,
    "start_time": "2022-04-06T13:34:17.550Z"
   },
   {
    "duration": 105,
    "start_time": "2022-04-06T13:34:17.617Z"
   },
   {
    "duration": 84,
    "start_time": "2022-04-06T13:34:17.725Z"
   },
   {
    "duration": 98,
    "start_time": "2022-04-06T13:34:17.812Z"
   },
   {
    "duration": 16,
    "start_time": "2022-04-06T13:34:17.912Z"
   },
   {
    "duration": 14,
    "start_time": "2022-04-06T13:34:17.929Z"
   },
   {
    "duration": 72,
    "start_time": "2022-04-06T13:34:17.945Z"
   },
   {
    "duration": 191,
    "start_time": "2022-04-06T13:34:18.019Z"
   },
   {
    "duration": 0,
    "start_time": "2022-04-06T13:34:18.212Z"
   },
   {
    "duration": 0,
    "start_time": "2022-04-06T13:34:18.214Z"
   },
   {
    "duration": 0,
    "start_time": "2022-04-06T13:34:18.215Z"
   },
   {
    "duration": 1135,
    "start_time": "2022-04-06T13:34:59.019Z"
   },
   {
    "duration": 381,
    "start_time": "2022-04-06T13:35:00.156Z"
   },
   {
    "duration": 46,
    "start_time": "2022-04-06T13:35:00.539Z"
   },
   {
    "duration": 34,
    "start_time": "2022-04-06T13:35:00.587Z"
   },
   {
    "duration": 12,
    "start_time": "2022-04-06T13:35:00.623Z"
   },
   {
    "duration": 29,
    "start_time": "2022-04-06T13:35:00.637Z"
   },
   {
    "duration": 47,
    "start_time": "2022-04-06T13:35:00.668Z"
   },
   {
    "duration": 95,
    "start_time": "2022-04-06T13:35:00.717Z"
   },
   {
    "duration": 127,
    "start_time": "2022-04-06T13:35:00.814Z"
   },
   {
    "duration": 14,
    "start_time": "2022-04-06T13:35:00.943Z"
   },
   {
    "duration": 56,
    "start_time": "2022-04-06T13:35:00.960Z"
   },
   {
    "duration": 17,
    "start_time": "2022-04-06T13:35:01.108Z"
   },
   {
    "duration": 15,
    "start_time": "2022-04-06T13:35:01.126Z"
   },
   {
    "duration": 74,
    "start_time": "2022-04-06T13:35:01.143Z"
   },
   {
    "duration": 176,
    "start_time": "2022-04-06T13:35:01.221Z"
   },
   {
    "duration": 0,
    "start_time": "2022-04-06T13:35:01.409Z"
   },
   {
    "duration": 0,
    "start_time": "2022-04-06T13:35:01.410Z"
   },
   {
    "duration": 0,
    "start_time": "2022-04-06T13:35:01.411Z"
   },
   {
    "duration": 5,
    "start_time": "2022-04-06T13:38:39.062Z"
   },
   {
    "duration": 1011,
    "start_time": "2022-04-06T13:39:49.503Z"
   },
   {
    "duration": 350,
    "start_time": "2022-04-06T13:39:50.515Z"
   },
   {
    "duration": 52,
    "start_time": "2022-04-06T13:39:50.867Z"
   },
   {
    "duration": 17,
    "start_time": "2022-04-06T13:39:50.921Z"
   },
   {
    "duration": 5,
    "start_time": "2022-04-06T13:39:50.940Z"
   },
   {
    "duration": 19,
    "start_time": "2022-04-06T13:39:50.946Z"
   },
   {
    "duration": 49,
    "start_time": "2022-04-06T13:39:50.966Z"
   },
   {
    "duration": 99,
    "start_time": "2022-04-06T13:39:51.017Z"
   },
   {
    "duration": 16,
    "start_time": "2022-04-06T13:39:51.117Z"
   },
   {
    "duration": 74,
    "start_time": "2022-04-06T13:39:51.135Z"
   },
   {
    "duration": 98,
    "start_time": "2022-04-06T13:39:51.211Z"
   },
   {
    "duration": 17,
    "start_time": "2022-04-06T13:39:51.311Z"
   },
   {
    "duration": 14,
    "start_time": "2022-04-06T13:39:51.329Z"
   },
   {
    "duration": 70,
    "start_time": "2022-04-06T13:39:51.346Z"
   },
   {
    "duration": 26,
    "start_time": "2022-04-06T13:39:51.509Z"
   },
   {
    "duration": 4,
    "start_time": "2022-04-06T13:39:51.536Z"
   },
   {
    "duration": 8,
    "start_time": "2022-04-06T13:39:51.541Z"
   },
   {
    "duration": 9,
    "start_time": "2022-04-06T13:39:51.550Z"
   },
   {
    "duration": 9,
    "start_time": "2022-04-06T13:40:05.436Z"
   },
   {
    "duration": 8,
    "start_time": "2022-04-06T13:40:18.450Z"
   },
   {
    "duration": 21,
    "start_time": "2022-04-06T13:41:10.229Z"
   },
   {
    "duration": 6,
    "start_time": "2022-04-06T13:41:11.763Z"
   },
   {
    "duration": 1065,
    "start_time": "2022-04-06T13:41:20.550Z"
   },
   {
    "duration": 354,
    "start_time": "2022-04-06T13:41:21.617Z"
   },
   {
    "duration": 55,
    "start_time": "2022-04-06T13:41:21.973Z"
   },
   {
    "duration": 18,
    "start_time": "2022-04-06T13:41:22.030Z"
   },
   {
    "duration": 19,
    "start_time": "2022-04-06T13:41:22.050Z"
   },
   {
    "duration": 33,
    "start_time": "2022-04-06T13:41:22.071Z"
   },
   {
    "duration": 21,
    "start_time": "2022-04-06T13:41:22.105Z"
   },
   {
    "duration": 84,
    "start_time": "2022-04-06T13:41:22.128Z"
   },
   {
    "duration": 105,
    "start_time": "2022-04-06T13:41:22.215Z"
   },
   {
    "duration": 14,
    "start_time": "2022-04-06T13:41:22.322Z"
   },
   {
    "duration": 77,
    "start_time": "2022-04-06T13:41:22.339Z"
   },
   {
    "duration": 106,
    "start_time": "2022-04-06T13:41:22.418Z"
   },
   {
    "duration": 14,
    "start_time": "2022-04-06T13:41:22.525Z"
   },
   {
    "duration": 75,
    "start_time": "2022-04-06T13:41:22.542Z"
   },
   {
    "duration": 27,
    "start_time": "2022-04-06T13:41:22.709Z"
   },
   {
    "duration": 3,
    "start_time": "2022-04-06T13:41:22.738Z"
   },
   {
    "duration": 6,
    "start_time": "2022-04-06T13:41:22.742Z"
   },
   {
    "duration": 7,
    "start_time": "2022-04-06T13:41:22.749Z"
   },
   {
    "duration": 8,
    "start_time": "2022-04-06T13:41:31.096Z"
   },
   {
    "duration": 5,
    "start_time": "2022-04-06T13:41:41.692Z"
   },
   {
    "duration": 94,
    "start_time": "2022-04-06T13:42:22.844Z"
   },
   {
    "duration": 9,
    "start_time": "2022-04-06T13:42:30.728Z"
   },
   {
    "duration": 20,
    "start_time": "2022-04-06T13:45:20.524Z"
   },
   {
    "duration": 1078,
    "start_time": "2022-04-06T13:45:25.535Z"
   },
   {
    "duration": 341,
    "start_time": "2022-04-06T13:45:26.615Z"
   },
   {
    "duration": 51,
    "start_time": "2022-04-06T13:45:26.958Z"
   },
   {
    "duration": 17,
    "start_time": "2022-04-06T13:45:27.011Z"
   },
   {
    "duration": 6,
    "start_time": "2022-04-06T13:45:27.030Z"
   },
   {
    "duration": 17,
    "start_time": "2022-04-06T13:45:27.037Z"
   },
   {
    "duration": 60,
    "start_time": "2022-04-06T13:45:27.056Z"
   },
   {
    "duration": 95,
    "start_time": "2022-04-06T13:45:27.119Z"
   },
   {
    "duration": 17,
    "start_time": "2022-04-06T13:45:27.216Z"
   },
   {
    "duration": 12,
    "start_time": "2022-04-06T13:45:27.236Z"
   },
   {
    "duration": 60,
    "start_time": "2022-04-06T13:45:27.251Z"
   },
   {
    "duration": 103,
    "start_time": "2022-04-06T13:45:27.313Z"
   },
   {
    "duration": 13,
    "start_time": "2022-04-06T13:45:27.418Z"
   },
   {
    "duration": 176,
    "start_time": "2022-04-06T13:45:27.433Z"
   },
   {
    "duration": 26,
    "start_time": "2022-04-06T13:45:27.611Z"
   },
   {
    "duration": 5,
    "start_time": "2022-04-06T13:45:27.639Z"
   },
   {
    "duration": 8,
    "start_time": "2022-04-06T13:45:27.646Z"
   },
   {
    "duration": 5,
    "start_time": "2022-04-06T13:45:27.656Z"
   },
   {
    "duration": 5,
    "start_time": "2022-04-06T13:45:35.245Z"
   },
   {
    "duration": 7,
    "start_time": "2022-04-06T13:45:52.973Z"
   },
   {
    "duration": 5,
    "start_time": "2022-04-06T13:46:04.020Z"
   },
   {
    "duration": 1060,
    "start_time": "2022-04-06T13:48:17.752Z"
   },
   {
    "duration": 345,
    "start_time": "2022-04-06T13:48:18.814Z"
   },
   {
    "duration": 57,
    "start_time": "2022-04-06T13:48:19.161Z"
   },
   {
    "duration": 17,
    "start_time": "2022-04-06T13:48:19.220Z"
   },
   {
    "duration": 7,
    "start_time": "2022-04-06T13:48:19.239Z"
   },
   {
    "duration": 17,
    "start_time": "2022-04-06T13:48:19.248Z"
   },
   {
    "duration": 46,
    "start_time": "2022-04-06T13:48:19.267Z"
   },
   {
    "duration": 97,
    "start_time": "2022-04-06T13:48:19.314Z"
   },
   {
    "duration": 20,
    "start_time": "2022-04-06T13:48:19.413Z"
   },
   {
    "duration": 16,
    "start_time": "2022-04-06T13:48:19.436Z"
   },
   {
    "duration": 57,
    "start_time": "2022-04-06T13:48:19.454Z"
   },
   {
    "duration": 113,
    "start_time": "2022-04-06T13:48:19.513Z"
   },
   {
    "duration": 15,
    "start_time": "2022-04-06T13:48:19.628Z"
   },
   {
    "duration": 70,
    "start_time": "2022-04-06T13:48:19.645Z"
   },
   {
    "duration": 117,
    "start_time": "2022-04-06T13:48:19.718Z"
   },
   {
    "duration": 6,
    "start_time": "2022-04-06T13:48:19.837Z"
   },
   {
    "duration": 8,
    "start_time": "2022-04-06T13:48:19.845Z"
   },
   {
    "duration": 7,
    "start_time": "2022-04-06T14:43:35.658Z"
   },
   {
    "duration": 6,
    "start_time": "2022-04-06T14:43:36.855Z"
   },
   {
    "duration": 3,
    "start_time": "2022-04-06T14:46:49.098Z"
   },
   {
    "duration": 4,
    "start_time": "2022-04-06T14:56:11.127Z"
   },
   {
    "duration": 1123,
    "start_time": "2022-04-06T15:11:59.630Z"
   },
   {
    "duration": 393,
    "start_time": "2022-04-06T15:12:00.755Z"
   },
   {
    "duration": 70,
    "start_time": "2022-04-06T15:12:01.150Z"
   },
   {
    "duration": 19,
    "start_time": "2022-04-06T15:12:01.222Z"
   },
   {
    "duration": 3,
    "start_time": "2022-04-06T15:12:01.242Z"
   },
   {
    "duration": 19,
    "start_time": "2022-04-06T15:12:01.247Z"
   },
   {
    "duration": 56,
    "start_time": "2022-04-06T15:12:01.267Z"
   },
   {
    "duration": 97,
    "start_time": "2022-04-06T15:12:01.325Z"
   },
   {
    "duration": 17,
    "start_time": "2022-04-06T15:12:01.425Z"
   },
   {
    "duration": 17,
    "start_time": "2022-04-06T15:12:01.444Z"
   },
   {
    "duration": 11,
    "start_time": "2022-04-06T15:12:01.512Z"
   },
   {
    "duration": 110,
    "start_time": "2022-04-06T15:12:01.525Z"
   },
   {
    "duration": 19,
    "start_time": "2022-04-06T15:12:01.637Z"
   },
   {
    "duration": 13,
    "start_time": "2022-04-06T15:12:01.719Z"
   },
   {
    "duration": 45,
    "start_time": "2022-04-06T15:12:01.808Z"
   },
   {
    "duration": 5,
    "start_time": "2022-04-06T15:12:01.855Z"
   },
   {
    "duration": 13,
    "start_time": "2022-04-06T15:12:01.862Z"
   },
   {
    "duration": 21,
    "start_time": "2022-04-06T15:12:01.877Z"
   },
   {
    "duration": 14,
    "start_time": "2022-04-06T15:12:01.900Z"
   },
   {
    "duration": 4791,
    "start_time": "2022-04-06T15:12:01.920Z"
   },
   {
    "duration": 101,
    "start_time": "2022-04-06T15:15:15.296Z"
   },
   {
    "duration": 5,
    "start_time": "2022-04-06T15:18:48.041Z"
   },
   {
    "duration": 4192,
    "start_time": "2022-04-06T15:18:48.982Z"
   },
   {
    "duration": 5,
    "start_time": "2022-04-06T15:19:09.253Z"
   },
   {
    "duration": 4284,
    "start_time": "2022-04-06T15:19:10.371Z"
   },
   {
    "duration": 1087,
    "start_time": "2022-04-06T15:19:47.450Z"
   },
   {
    "duration": 346,
    "start_time": "2022-04-06T15:19:48.539Z"
   },
   {
    "duration": 54,
    "start_time": "2022-04-06T15:19:48.886Z"
   },
   {
    "duration": 17,
    "start_time": "2022-04-06T15:19:48.941Z"
   },
   {
    "duration": 7,
    "start_time": "2022-04-06T15:19:48.961Z"
   },
   {
    "duration": 17,
    "start_time": "2022-04-06T15:19:48.969Z"
   },
   {
    "duration": 32,
    "start_time": "2022-04-06T15:19:48.988Z"
   },
   {
    "duration": 187,
    "start_time": "2022-04-06T15:19:49.022Z"
   },
   {
    "duration": 15,
    "start_time": "2022-04-06T15:19:49.211Z"
   },
   {
    "duration": 13,
    "start_time": "2022-04-06T15:19:49.227Z"
   },
   {
    "duration": 70,
    "start_time": "2022-04-06T15:19:49.242Z"
   },
   {
    "duration": 107,
    "start_time": "2022-04-06T15:19:49.314Z"
   },
   {
    "duration": 14,
    "start_time": "2022-04-06T15:19:49.423Z"
   },
   {
    "duration": 12,
    "start_time": "2022-04-06T15:19:49.509Z"
   },
   {
    "duration": 28,
    "start_time": "2022-04-06T15:19:49.610Z"
   },
   {
    "duration": 7,
    "start_time": "2022-04-06T15:19:49.640Z"
   },
   {
    "duration": 4,
    "start_time": "2022-04-06T15:19:49.648Z"
   },
   {
    "duration": 4,
    "start_time": "2022-04-06T15:19:49.654Z"
   },
   {
    "duration": 9,
    "start_time": "2022-04-06T15:19:49.659Z"
   },
   {
    "duration": 4187,
    "start_time": "2022-04-06T15:19:49.669Z"
   },
   {
    "duration": 4136,
    "start_time": "2022-04-06T15:19:53.858Z"
   },
   {
    "duration": 4219,
    "start_time": "2022-04-06T15:19:57.996Z"
   },
   {
    "duration": 4145,
    "start_time": "2022-04-06T15:22:35.914Z"
   },
   {
    "duration": 4000,
    "start_time": "2022-04-06T15:22:52.924Z"
   },
   {
    "duration": 1132,
    "start_time": "2022-04-06T15:23:18.519Z"
   },
   {
    "duration": 372,
    "start_time": "2022-04-06T15:23:19.654Z"
   },
   {
    "duration": 53,
    "start_time": "2022-04-06T15:23:20.030Z"
   },
   {
    "duration": 17,
    "start_time": "2022-04-06T15:23:20.110Z"
   },
   {
    "duration": 12,
    "start_time": "2022-04-06T15:23:20.129Z"
   },
   {
    "duration": 18,
    "start_time": "2022-04-06T15:23:20.144Z"
   },
   {
    "duration": 52,
    "start_time": "2022-04-06T15:23:20.164Z"
   },
   {
    "duration": 92,
    "start_time": "2022-04-06T15:23:20.218Z"
   },
   {
    "duration": 27,
    "start_time": "2022-04-06T15:23:20.311Z"
   },
   {
    "duration": 13,
    "start_time": "2022-04-06T15:23:20.340Z"
   },
   {
    "duration": 62,
    "start_time": "2022-04-06T15:23:20.356Z"
   },
   {
    "duration": 21,
    "start_time": "2022-04-06T15:23:20.510Z"
   },
   {
    "duration": 14,
    "start_time": "2022-04-06T15:23:20.534Z"
   },
   {
    "duration": 67,
    "start_time": "2022-04-06T15:23:20.551Z"
   },
   {
    "duration": 30,
    "start_time": "2022-04-06T15:23:20.710Z"
   },
   {
    "duration": 26,
    "start_time": "2022-04-06T15:23:20.742Z"
   },
   {
    "duration": 17,
    "start_time": "2022-04-06T15:23:20.769Z"
   },
   {
    "duration": 10,
    "start_time": "2022-04-06T15:23:20.788Z"
   },
   {
    "duration": 26,
    "start_time": "2022-04-06T15:23:20.800Z"
   },
   {
    "duration": 4312,
    "start_time": "2022-04-06T15:23:20.828Z"
   },
   {
    "duration": 4136,
    "start_time": "2022-04-06T15:23:25.141Z"
   },
   {
    "duration": 4186,
    "start_time": "2022-04-06T15:23:29.278Z"
   },
   {
    "duration": 1085,
    "start_time": "2022-04-06T15:29:28.032Z"
   },
   {
    "duration": 367,
    "start_time": "2022-04-06T15:29:29.119Z"
   },
   {
    "duration": 58,
    "start_time": "2022-04-06T15:29:29.488Z"
   },
   {
    "duration": 21,
    "start_time": "2022-04-06T15:29:29.548Z"
   },
   {
    "duration": 4,
    "start_time": "2022-04-06T15:29:29.572Z"
   },
   {
    "duration": 49,
    "start_time": "2022-04-06T15:29:29.579Z"
   },
   {
    "duration": 79,
    "start_time": "2022-04-06T15:29:29.630Z"
   },
   {
    "duration": 10,
    "start_time": "2022-04-06T15:29:29.711Z"
   },
   {
    "duration": 103,
    "start_time": "2022-04-06T15:29:29.722Z"
   },
   {
    "duration": 16,
    "start_time": "2022-04-06T15:29:29.828Z"
   },
   {
    "duration": 162,
    "start_time": "2022-04-06T15:29:29.847Z"
   },
   {
    "duration": 16,
    "start_time": "2022-04-06T15:29:30.011Z"
   },
   {
    "duration": 81,
    "start_time": "2022-04-06T15:29:30.028Z"
   },
   {
    "duration": 98,
    "start_time": "2022-04-06T15:29:30.111Z"
   },
   {
    "duration": 30,
    "start_time": "2022-04-06T15:29:30.210Z"
   },
   {
    "duration": 17,
    "start_time": "2022-04-06T15:29:30.242Z"
   },
   {
    "duration": 8,
    "start_time": "2022-04-06T15:29:30.261Z"
   },
   {
    "duration": 6,
    "start_time": "2022-04-06T15:29:30.271Z"
   },
   {
    "duration": 15,
    "start_time": "2022-04-06T15:29:30.278Z"
   },
   {
    "duration": 4508,
    "start_time": "2022-04-06T15:29:30.294Z"
   },
   {
    "duration": 4346,
    "start_time": "2022-04-06T15:29:34.804Z"
   },
   {
    "duration": 4165,
    "start_time": "2022-04-06T15:29:39.152Z"
   },
   {
    "duration": 1251,
    "start_time": "2022-04-06T16:26:38.026Z"
   },
   {
    "duration": 339,
    "start_time": "2022-04-06T16:26:39.279Z"
   },
   {
    "duration": 50,
    "start_time": "2022-04-06T16:26:39.619Z"
   },
   {
    "duration": 15,
    "start_time": "2022-04-06T16:26:39.671Z"
   },
   {
    "duration": 6,
    "start_time": "2022-04-06T16:26:39.688Z"
   },
   {
    "duration": 23,
    "start_time": "2022-04-06T16:26:39.696Z"
   },
   {
    "duration": 30,
    "start_time": "2022-04-06T16:26:39.721Z"
   },
   {
    "duration": 86,
    "start_time": "2022-04-06T16:26:39.753Z"
   },
   {
    "duration": 110,
    "start_time": "2022-04-06T16:26:39.841Z"
   },
   {
    "duration": 13,
    "start_time": "2022-04-06T16:26:39.955Z"
   },
   {
    "duration": 71,
    "start_time": "2022-04-06T16:26:39.971Z"
   },
   {
    "duration": 110,
    "start_time": "2022-04-06T16:26:40.044Z"
   },
   {
    "duration": 14,
    "start_time": "2022-04-06T16:26:40.155Z"
   },
   {
    "duration": 69,
    "start_time": "2022-04-06T16:26:40.171Z"
   },
   {
    "duration": 117,
    "start_time": "2022-04-06T16:26:40.243Z"
   },
   {
    "duration": 10,
    "start_time": "2022-04-06T16:26:40.362Z"
   },
   {
    "duration": 5,
    "start_time": "2022-04-06T16:26:40.374Z"
   },
   {
    "duration": 7,
    "start_time": "2022-04-06T16:26:40.381Z"
   },
   {
    "duration": 8,
    "start_time": "2022-04-06T16:26:40.389Z"
   },
   {
    "duration": 3869,
    "start_time": "2022-04-06T16:26:40.398Z"
   },
   {
    "duration": 3749,
    "start_time": "2022-04-06T16:26:44.268Z"
   },
   {
    "duration": 3744,
    "start_time": "2022-04-06T16:26:48.018Z"
   },
   {
    "duration": 3,
    "start_time": "2022-04-06T16:27:34.814Z"
   },
   {
    "duration": 5,
    "start_time": "2022-04-06T16:27:36.434Z"
   },
   {
    "duration": 3813,
    "start_time": "2022-04-06T16:27:36.584Z"
   },
   {
    "duration": 3823,
    "start_time": "2022-04-06T16:27:40.398Z"
   },
   {
    "duration": 3824,
    "start_time": "2022-04-06T16:27:44.222Z"
   },
   {
    "duration": 3,
    "start_time": "2022-04-06T16:27:55.000Z"
   },
   {
    "duration": 5,
    "start_time": "2022-04-06T16:27:55.807Z"
   },
   {
    "duration": 3778,
    "start_time": "2022-04-06T16:27:56.012Z"
   },
   {
    "duration": 3939,
    "start_time": "2022-04-06T16:27:59.792Z"
   },
   {
    "duration": 3843,
    "start_time": "2022-04-06T16:28:03.733Z"
   },
   {
    "duration": 3,
    "start_time": "2022-04-06T16:28:17.731Z"
   },
   {
    "duration": 4,
    "start_time": "2022-04-06T16:28:18.238Z"
   },
   {
    "duration": 3872,
    "start_time": "2022-04-06T16:28:18.385Z"
   },
   {
    "duration": 3774,
    "start_time": "2022-04-06T16:28:22.258Z"
   },
   {
    "duration": 3,
    "start_time": "2022-04-06T16:28:29.800Z"
   },
   {
    "duration": 10,
    "start_time": "2022-04-06T16:28:29.804Z"
   },
   {
    "duration": 3838,
    "start_time": "2022-04-06T16:28:29.815Z"
   },
   {
    "duration": 3812,
    "start_time": "2022-04-06T16:28:33.654Z"
   },
   {
    "duration": 3855,
    "start_time": "2022-04-06T16:28:37.469Z"
   },
   {
    "duration": 5,
    "start_time": "2022-04-06T16:28:56.267Z"
   },
   {
    "duration": 3804,
    "start_time": "2022-04-06T16:28:56.494Z"
   },
   {
    "duration": 3835,
    "start_time": "2022-04-06T16:29:00.299Z"
   },
   {
    "duration": 3798,
    "start_time": "2022-04-06T16:29:04.135Z"
   },
   {
    "duration": 6,
    "start_time": "2022-04-06T16:29:48.753Z"
   },
   {
    "duration": 6,
    "start_time": "2022-04-06T16:29:51.949Z"
   },
   {
    "duration": 3,
    "start_time": "2022-04-06T16:30:36.094Z"
   },
   {
    "duration": 3,
    "start_time": "2022-04-06T16:30:43.215Z"
   },
   {
    "duration": 5,
    "start_time": "2022-04-06T16:30:43.776Z"
   },
   {
    "duration": 5,
    "start_time": "2022-04-06T16:30:55.642Z"
   },
   {
    "duration": 3913,
    "start_time": "2022-04-06T16:30:55.649Z"
   },
   {
    "duration": 3994,
    "start_time": "2022-04-06T16:30:59.564Z"
   },
   {
    "duration": 3849,
    "start_time": "2022-04-06T16:31:03.560Z"
   },
   {
    "duration": 1510,
    "start_time": "2022-04-06T17:09:07.107Z"
   },
   {
    "duration": 403,
    "start_time": "2022-04-06T17:09:09.206Z"
   },
   {
    "duration": 69,
    "start_time": "2022-04-06T17:09:10.401Z"
   },
   {
    "duration": 21,
    "start_time": "2022-04-06T17:09:11.753Z"
   },
   {
    "duration": 10,
    "start_time": "2022-04-06T18:33:07.331Z"
   },
   {
    "duration": 1480,
    "start_time": "2022-04-06T18:35:51.765Z"
   },
   {
    "duration": 410,
    "start_time": "2022-04-06T18:35:54.220Z"
   },
   {
    "duration": 71,
    "start_time": "2022-04-06T18:35:54.859Z"
   },
   {
    "duration": 22,
    "start_time": "2022-04-06T18:35:56.639Z"
   },
   {
    "duration": 3,
    "start_time": "2022-04-06T18:36:03.257Z"
   },
   {
    "duration": 104,
    "start_time": "2022-04-06T18:36:03.920Z"
   },
   {
    "duration": 5,
    "start_time": "2022-04-06T18:36:34.881Z"
   },
   {
    "duration": 22,
    "start_time": "2022-04-06T18:37:10.263Z"
   },
   {
    "duration": 14,
    "start_time": "2022-04-06T18:37:22.915Z"
   },
   {
    "duration": 1624,
    "start_time": "2022-04-06T18:55:42.990Z"
   },
   {
    "duration": 483,
    "start_time": "2022-04-06T18:55:45.814Z"
   },
   {
    "duration": 70,
    "start_time": "2022-04-06T18:55:46.933Z"
   },
   {
    "duration": 26,
    "start_time": "2022-04-06T18:55:48.134Z"
   },
   {
    "duration": 4,
    "start_time": "2022-04-06T18:55:54.143Z"
   },
   {
    "duration": 5,
    "start_time": "2022-04-06T18:55:55.797Z"
   },
   {
    "duration": 22,
    "start_time": "2022-04-06T18:55:57.053Z"
   },
   {
    "duration": 19,
    "start_time": "2022-04-06T18:55:57.748Z"
   },
   {
    "duration": 20,
    "start_time": "2022-04-06T18:55:58.485Z"
   },
   {
    "duration": 4,
    "start_time": "2022-04-06T19:06:02.606Z"
   },
   {
    "duration": 4,
    "start_time": "2022-04-06T19:06:03.195Z"
   },
   {
    "duration": 19,
    "start_time": "2022-04-06T19:08:03.178Z"
   },
   {
    "duration": 6,
    "start_time": "2022-04-06T19:08:12.282Z"
   },
   {
    "duration": 1466,
    "start_time": "2022-04-06T19:11:37.818Z"
   },
   {
    "duration": 453,
    "start_time": "2022-04-06T19:11:39.287Z"
   },
   {
    "duration": 69,
    "start_time": "2022-04-06T19:11:39.825Z"
   },
   {
    "duration": 22,
    "start_time": "2022-04-06T19:11:41.738Z"
   },
   {
    "duration": 4,
    "start_time": "2022-04-06T19:11:47.037Z"
   },
   {
    "duration": 5,
    "start_time": "2022-04-06T19:11:47.702Z"
   },
   {
    "duration": 21,
    "start_time": "2022-04-06T19:11:48.314Z"
   },
   {
    "duration": 20,
    "start_time": "2022-04-06T19:11:48.940Z"
   },
   {
    "duration": 20,
    "start_time": "2022-04-06T19:11:49.529Z"
   },
   {
    "duration": 4,
    "start_time": "2022-04-06T19:11:50.756Z"
   },
   {
    "duration": 4,
    "start_time": "2022-04-06T19:11:51.430Z"
   },
   {
    "duration": 26,
    "start_time": "2022-04-06T19:11:52.085Z"
   },
   {
    "duration": 18,
    "start_time": "2022-04-06T19:11:53.032Z"
   },
   {
    "duration": 17,
    "start_time": "2022-04-06T19:11:53.716Z"
   },
   {
    "duration": 4,
    "start_time": "2022-04-06T19:14:46.558Z"
   },
   {
    "duration": 10,
    "start_time": "2022-04-06T19:18:40.321Z"
   },
   {
    "duration": 9,
    "start_time": "2022-04-06T19:18:41.676Z"
   },
   {
    "duration": 11,
    "start_time": "2022-04-06T19:18:43.030Z"
   },
   {
    "duration": 38,
    "start_time": "2022-04-06T19:19:05.020Z"
   },
   {
    "duration": 6,
    "start_time": "2022-04-06T19:19:10.955Z"
   },
   {
    "duration": 4,
    "start_time": "2022-04-06T19:19:51.699Z"
   },
   {
    "duration": 6,
    "start_time": "2022-04-06T19:19:53.895Z"
   },
   {
    "duration": 5,
    "start_time": "2022-04-06T19:20:01.833Z"
   },
   {
    "duration": 8,
    "start_time": "2022-04-06T19:20:11.990Z"
   },
   {
    "duration": 6387,
    "start_time": "2022-04-06T19:20:25.348Z"
   },
   {
    "duration": 6434,
    "start_time": "2022-04-06T19:20:31.739Z"
   },
   {
    "duration": 6256,
    "start_time": "2022-04-06T19:20:38.175Z"
   },
   {
    "duration": 1557,
    "start_time": "2022-04-06T19:23:50.044Z"
   },
   {
    "duration": 440,
    "start_time": "2022-04-06T19:23:51.603Z"
   },
   {
    "duration": 81,
    "start_time": "2022-04-06T19:23:52.045Z"
   },
   {
    "duration": 21,
    "start_time": "2022-04-06T19:23:52.129Z"
   },
   {
    "duration": 6,
    "start_time": "2022-04-06T19:23:52.152Z"
   },
   {
    "duration": 4,
    "start_time": "2022-04-06T19:23:52.185Z"
   },
   {
    "duration": 22,
    "start_time": "2022-04-06T19:23:52.191Z"
   },
   {
    "duration": 21,
    "start_time": "2022-04-06T19:23:52.215Z"
   },
   {
    "duration": 53,
    "start_time": "2022-04-06T19:23:52.238Z"
   },
   {
    "duration": 3,
    "start_time": "2022-04-06T19:23:52.295Z"
   },
   {
    "duration": 5,
    "start_time": "2022-04-06T19:23:52.300Z"
   },
   {
    "duration": 80,
    "start_time": "2022-04-06T19:23:52.307Z"
   },
   {
    "duration": 106,
    "start_time": "2022-04-06T19:23:52.390Z"
   },
   {
    "duration": 191,
    "start_time": "2022-04-06T19:23:52.500Z"
   },
   {
    "duration": 5,
    "start_time": "2022-04-06T19:23:52.694Z"
   },
   {
    "duration": 103,
    "start_time": "2022-04-06T19:23:52.786Z"
   },
   {
    "duration": 9,
    "start_time": "2022-04-06T19:23:52.892Z"
   },
   {
    "duration": 10,
    "start_time": "2022-04-06T19:23:52.904Z"
   },
   {
    "duration": 80,
    "start_time": "2022-04-06T19:23:52.916Z"
   },
   {
    "duration": 6,
    "start_time": "2022-04-06T19:23:52.998Z"
   },
   {
    "duration": 6,
    "start_time": "2022-04-06T19:23:53.006Z"
   },
   {
    "duration": 8,
    "start_time": "2022-04-06T19:23:53.015Z"
   },
   {
    "duration": 7,
    "start_time": "2022-04-06T19:23:53.026Z"
   },
   {
    "duration": 8,
    "start_time": "2022-04-06T19:23:53.035Z"
   },
   {
    "duration": 6486,
    "start_time": "2022-04-06T19:23:53.045Z"
   },
   {
    "duration": 6858,
    "start_time": "2022-04-06T19:23:59.533Z"
   },
   {
    "duration": 6428,
    "start_time": "2022-04-06T19:24:06.393Z"
   },
   {
    "duration": 22,
    "start_time": "2022-04-06T19:44:50.235Z"
   },
   {
    "duration": 63701,
    "start_time": "2022-04-06T19:45:38.044Z"
   },
   {
    "duration": 1272,
    "start_time": "2022-04-06T19:46:41.747Z"
   },
   {
    "duration": 74,
    "start_time": "2022-04-06T19:46:43.021Z"
   },
   {
    "duration": 21,
    "start_time": "2022-04-06T19:46:43.098Z"
   },
   {
    "duration": 4,
    "start_time": "2022-04-06T19:46:43.122Z"
   },
   {
    "duration": 6,
    "start_time": "2022-04-06T19:46:43.128Z"
   },
   {
    "duration": 50,
    "start_time": "2022-04-06T19:46:43.136Z"
   },
   {
    "duration": 19,
    "start_time": "2022-04-06T19:46:43.188Z"
   },
   {
    "duration": 18,
    "start_time": "2022-04-06T19:46:43.210Z"
   },
   {
    "duration": 3,
    "start_time": "2022-04-06T19:46:43.232Z"
   },
   {
    "duration": 6,
    "start_time": "2022-04-06T19:46:43.237Z"
   },
   {
    "duration": 24,
    "start_time": "2022-04-06T19:46:43.274Z"
   },
   {
    "duration": 178,
    "start_time": "2022-04-06T19:46:43.301Z"
   },
   {
    "duration": 194,
    "start_time": "2022-04-06T19:46:43.482Z"
   },
   {
    "duration": 5,
    "start_time": "2022-04-06T19:46:43.679Z"
   },
   {
    "duration": 101,
    "start_time": "2022-04-06T19:46:43.775Z"
   },
   {
    "duration": 8,
    "start_time": "2022-04-06T19:46:43.878Z"
   },
   {
    "duration": 10,
    "start_time": "2022-04-06T19:46:43.888Z"
   },
   {
    "duration": 38,
    "start_time": "2022-04-06T19:46:43.900Z"
   },
   {
    "duration": 6,
    "start_time": "2022-04-06T19:46:43.973Z"
   },
   {
    "duration": 6,
    "start_time": "2022-04-06T19:46:43.981Z"
   },
   {
    "duration": 7,
    "start_time": "2022-04-06T19:46:43.989Z"
   },
   {
    "duration": 6,
    "start_time": "2022-04-06T19:46:43.998Z"
   },
   {
    "duration": 7,
    "start_time": "2022-04-06T19:46:44.006Z"
   },
   {
    "duration": 5995,
    "start_time": "2022-04-06T19:46:44.015Z"
   },
   {
    "duration": 6130,
    "start_time": "2022-04-06T19:46:50.012Z"
   },
   {
    "duration": 5937,
    "start_time": "2022-04-06T19:46:56.144Z"
   },
   {
    "duration": 4,
    "start_time": "2022-04-06T19:47:12.443Z"
   },
   {
    "duration": 5,
    "start_time": "2022-04-06T19:47:12.599Z"
   },
   {
    "duration": 5,
    "start_time": "2022-04-06T19:47:14.240Z"
   },
   {
    "duration": 8,
    "start_time": "2022-04-06T19:47:15.208Z"
   },
   {
    "duration": 6051,
    "start_time": "2022-04-06T19:47:16.294Z"
   },
   {
    "duration": 6021,
    "start_time": "2022-04-06T19:47:22.347Z"
   },
   {
    "duration": 6120,
    "start_time": "2022-04-06T19:47:28.374Z"
   },
   {
    "duration": 1579,
    "start_time": "2022-04-06T20:03:47.969Z"
   },
   {
    "duration": 505,
    "start_time": "2022-04-06T20:03:49.551Z"
   },
   {
    "duration": 79,
    "start_time": "2022-04-06T20:03:50.059Z"
   },
   {
    "duration": 47,
    "start_time": "2022-04-06T20:03:50.142Z"
   },
   {
    "duration": 9,
    "start_time": "2022-04-06T20:03:50.192Z"
   },
   {
    "duration": 7,
    "start_time": "2022-04-06T20:03:50.203Z"
   },
   {
    "duration": 22,
    "start_time": "2022-04-06T20:03:50.212Z"
   },
   {
    "duration": 49,
    "start_time": "2022-04-06T20:03:50.236Z"
   },
   {
    "duration": 20,
    "start_time": "2022-04-06T20:03:50.287Z"
   },
   {
    "duration": 4,
    "start_time": "2022-04-06T20:03:50.310Z"
   },
   {
    "duration": 9,
    "start_time": "2022-04-06T20:03:50.316Z"
   },
   {
    "duration": 65,
    "start_time": "2022-04-06T20:03:50.327Z"
   },
   {
    "duration": 17,
    "start_time": "2022-04-06T20:03:50.486Z"
   },
   {
    "duration": 179,
    "start_time": "2022-04-06T20:03:50.506Z"
   },
   {
    "duration": 98,
    "start_time": "2022-04-06T20:03:50.688Z"
   },
   {
    "duration": 109,
    "start_time": "2022-04-06T20:03:50.789Z"
   },
   {
    "duration": 10,
    "start_time": "2022-04-06T20:03:50.901Z"
   },
   {
    "duration": 16,
    "start_time": "2022-04-06T20:03:50.913Z"
   },
   {
    "duration": 62,
    "start_time": "2022-04-06T20:03:50.932Z"
   },
   {
    "duration": 6,
    "start_time": "2022-04-06T20:03:50.997Z"
   },
   {
    "duration": 7,
    "start_time": "2022-04-06T20:03:51.005Z"
   },
   {
    "duration": 13,
    "start_time": "2022-04-06T20:03:51.014Z"
   },
   {
    "duration": 6,
    "start_time": "2022-04-06T20:03:51.030Z"
   },
   {
    "duration": 10,
    "start_time": "2022-04-06T20:03:51.038Z"
   },
   {
    "duration": 6350,
    "start_time": "2022-04-06T20:03:51.050Z"
   },
   {
    "duration": 6727,
    "start_time": "2022-04-06T20:03:57.403Z"
   },
   {
    "duration": 6723,
    "start_time": "2022-04-06T20:04:04.133Z"
   },
   {
    "duration": 1525,
    "start_time": "2022-04-06T20:07:28.202Z"
   },
   {
    "duration": 465,
    "start_time": "2022-04-06T20:07:29.730Z"
   },
   {
    "duration": 97,
    "start_time": "2022-04-06T20:07:30.198Z"
   },
   {
    "duration": 21,
    "start_time": "2022-04-06T20:07:30.298Z"
   },
   {
    "duration": 16,
    "start_time": "2022-04-06T20:07:30.322Z"
   },
   {
    "duration": 11,
    "start_time": "2022-04-06T20:07:30.341Z"
   },
   {
    "duration": 41,
    "start_time": "2022-04-06T20:07:30.354Z"
   },
   {
    "duration": 32,
    "start_time": "2022-04-06T20:07:30.397Z"
   },
   {
    "duration": 28,
    "start_time": "2022-04-06T20:07:30.432Z"
   },
   {
    "duration": 21,
    "start_time": "2022-04-06T20:07:30.466Z"
   },
   {
    "duration": 27,
    "start_time": "2022-04-06T20:07:30.489Z"
   },
   {
    "duration": 69,
    "start_time": "2022-04-06T20:07:30.518Z"
   },
   {
    "duration": 108,
    "start_time": "2022-04-06T20:07:30.590Z"
   },
   {
    "duration": 195,
    "start_time": "2022-04-06T20:07:30.702Z"
   },
   {
    "duration": 92,
    "start_time": "2022-04-06T20:07:30.901Z"
   },
   {
    "duration": 10,
    "start_time": "2022-04-06T20:07:31.085Z"
   },
   {
    "duration": 22,
    "start_time": "2022-04-06T20:07:31.097Z"
   },
   {
    "duration": 22,
    "start_time": "2022-04-06T20:07:31.122Z"
   },
   {
    "duration": 54,
    "start_time": "2022-04-06T20:07:31.146Z"
   },
   {
    "duration": 13,
    "start_time": "2022-04-06T20:07:31.202Z"
   },
   {
    "duration": 15,
    "start_time": "2022-04-06T20:07:31.217Z"
   },
   {
    "duration": 13,
    "start_time": "2022-04-06T20:07:31.234Z"
   },
   {
    "duration": 17,
    "start_time": "2022-04-06T20:07:31.249Z"
   },
   {
    "duration": 16,
    "start_time": "2022-04-06T20:07:31.268Z"
   },
   {
    "duration": 6407,
    "start_time": "2022-04-06T20:07:31.286Z"
   },
   {
    "duration": 6125,
    "start_time": "2022-04-06T20:07:37.695Z"
   },
   {
    "duration": 6172,
    "start_time": "2022-04-06T20:07:43.822Z"
   }
  ],
  "kernelspec": {
   "display_name": "Python 3 (ipykernel)",
   "language": "python",
   "name": "python3"
  },
  "language_info": {
   "codemirror_mode": {
    "name": "ipython",
    "version": 3
   },
   "file_extension": ".py",
   "mimetype": "text/x-python",
   "name": "python",
   "nbconvert_exporter": "python",
   "pygments_lexer": "ipython3",
   "version": "3.9.13"
  },
  "toc": {
   "base_numbering": 1,
   "nav_menu": {},
   "number_sections": true,
   "sideBar": true,
   "skip_h1_title": true,
   "title_cell": "Table of Contents",
   "title_sidebar": "Contents",
   "toc_cell": true,
   "toc_position": {},
   "toc_section_display": true,
   "toc_window_display": false
  }
 },
 "nbformat": 4,
 "nbformat_minor": 2
}
